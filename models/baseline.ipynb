{
 "cells": [
  {
   "cell_type": "code",
   "execution_count": 1,
   "metadata": {},
   "outputs": [],
   "source": [
    "import numpy as np\n",
    "import pandas as pd\n",
    "import seaborn as sns\n",
    "import matplotlib.pyplot as plt\n",
    "%matplotlib inline\n",
    "\n",
    "pd.options.display.max_rows = 500\n",
    "pd.options.display.max_columns = 100\n",
    "\n",
    "import warnings\n",
    "warnings.filterwarnings(\"ignore\") \n",
    "\n",
    "from datetime import datetime\n",
    "from IPython.display import display, Markdown\n",
    "# Run this cell to display all output within each cell in Jupyter Notebook, \n",
    "# instead of just the last statement\n",
    "from IPython.core.interactiveshell import InteractiveShell\n",
    "InteractiveShell.ast_node_interactivity = \"all\""
   ]
  },
  {
   "cell_type": "code",
   "execution_count": 2,
   "metadata": {},
   "outputs": [],
   "source": [
    "#Load the data\n",
    "collisions_df = pd.read_csv('../data/Collisions.csv',\n",
    "                            parse_dates={'Datetime': ['INCDTTM']}, \n",
    "                            infer_datetime_format=True)\n",
    "intersections_df = pd.read_csv('../data/Intersections.csv')\n",
    "streets_df = pd.read_csv('../data/Seattle_Streets.csv')"
   ]
  },
  {
   "cell_type": "code",
   "execution_count": 3,
   "metadata": {},
   "outputs": [],
   "source": [
    "#Look at Collisions not occuring at Intersection & Only Including pedestrians or cyclists\n",
    "pedorcycle_mask = collisions_df['SDOT_COLDESC'].map(lambda s: ('PEDALCYCLIST' in s) or ('PEDESTRIAN' in s) if type(s)==str else False)\n",
    "block_mask = collisions_df['ADDRTYPE'] == 'Block'\n",
    "\n",
    "collision_streets = collisions_df[block_mask & pedorcycle_mask]['LOCATION'].apply(lambda string: string.split(' BETWEEN ')[0])"
   ]
  },
  {
   "cell_type": "code",
   "execution_count": 4,
   "metadata": {},
   "outputs": [
    {
     "data": {
      "text/plain": [
       "RAINIER AVE S      172\n",
       "AURORA AVE N       138\n",
       "2ND AVE             90\n",
       "S JACKSON ST        75\n",
       "DEXTER AVE N        75\n",
       "                  ... \n",
       "INTERLAKEN DR E      1\n",
       "23RD AVE SW          1\n",
       "SUNNYSIDE AVE N      1\n",
       "NW 47TH ST           1\n",
       "MAGNOLIA BLVD W      1\n",
       "Name: LOCATION, Length: 720, dtype: int64"
      ]
     },
     "execution_count": 4,
     "metadata": {},
     "output_type": "execute_result"
    }
   ],
   "source": [
    "collision_streets.value_counts()"
   ]
  },
  {
   "cell_type": "code",
   "execution_count": 108,
   "metadata": {},
   "outputs": [],
   "source": [
    "streets_df = streets_df[streets_df['STATUS'] == 'INSVC']"
   ]
  },
  {
   "cell_type": "code",
   "execution_count": 109,
   "metadata": {},
   "outputs": [],
   "source": [
    "sg = streets_df.groupby('STNAME_ORD')\n",
    "d = {}\n",
    "d['arterial_class'] = sg['ARTCLASS'].median().astype(int)\n",
    "d['speed_limit'] =  sg['SPEEDLIMIT'].median().astype(int)\n",
    "d['slope_percentage'] = sg['SLOPE_PCT'].median()\n",
    "d['transit_class'] = sg['TRANCLASS'].median().astype(int)\n",
    "d['pavement_condition'] = sg['PVMTCONDINDX1'].median()"
   ]
  },
  {
   "cell_type": "code",
   "execution_count": 110,
   "metadata": {},
   "outputs": [
    {
     "data": {
      "text/html": [
       "<div>\n",
       "<style scoped>\n",
       "    .dataframe tbody tr th:only-of-type {\n",
       "        vertical-align: middle;\n",
       "    }\n",
       "\n",
       "    .dataframe tbody tr th {\n",
       "        vertical-align: top;\n",
       "    }\n",
       "\n",
       "    .dataframe thead th {\n",
       "        text-align: right;\n",
       "    }\n",
       "</style>\n",
       "<table border=\"1\" class=\"dataframe\">\n",
       "  <thead>\n",
       "    <tr style=\"text-align: right;\">\n",
       "      <th></th>\n",
       "      <th>arterial_class</th>\n",
       "      <th>speed_limit</th>\n",
       "      <th>slope_percentage</th>\n",
       "      <th>transit_class</th>\n",
       "      <th>pavement_condition</th>\n",
       "    </tr>\n",
       "    <tr>\n",
       "      <th>STNAME_ORD</th>\n",
       "      <th></th>\n",
       "      <th></th>\n",
       "      <th></th>\n",
       "      <th></th>\n",
       "      <th></th>\n",
       "    </tr>\n",
       "  </thead>\n",
       "  <tbody>\n",
       "    <tr>\n",
       "      <td>1 AV-W SEA BR WB ON RP</td>\n",
       "      <td>0</td>\n",
       "      <td>20</td>\n",
       "      <td>0.0</td>\n",
       "      <td>0</td>\n",
       "      <td>0.0</td>\n",
       "    </tr>\n",
       "    <tr>\n",
       "      <td>10TH AVE</td>\n",
       "      <td>0</td>\n",
       "      <td>20</td>\n",
       "      <td>1.0</td>\n",
       "      <td>0</td>\n",
       "      <td>47.0</td>\n",
       "    </tr>\n",
       "    <tr>\n",
       "      <td>10TH AVE E</td>\n",
       "      <td>2</td>\n",
       "      <td>25</td>\n",
       "      <td>1.0</td>\n",
       "      <td>2</td>\n",
       "      <td>17.0</td>\n",
       "    </tr>\n",
       "    <tr>\n",
       "      <td>10TH AVE NE</td>\n",
       "      <td>0</td>\n",
       "      <td>20</td>\n",
       "      <td>2.5</td>\n",
       "      <td>0</td>\n",
       "      <td>0.0</td>\n",
       "    </tr>\n",
       "    <tr>\n",
       "      <td>10TH AVE NW</td>\n",
       "      <td>0</td>\n",
       "      <td>20</td>\n",
       "      <td>2.0</td>\n",
       "      <td>0</td>\n",
       "      <td>68.0</td>\n",
       "    </tr>\n",
       "    <tr>\n",
       "      <td>...</td>\n",
       "      <td>...</td>\n",
       "      <td>...</td>\n",
       "      <td>...</td>\n",
       "      <td>...</td>\n",
       "      <td>...</td>\n",
       "    </tr>\n",
       "    <tr>\n",
       "      <td>YALE PL E</td>\n",
       "      <td>0</td>\n",
       "      <td>20</td>\n",
       "      <td>2.0</td>\n",
       "      <td>0</td>\n",
       "      <td>100.0</td>\n",
       "    </tr>\n",
       "    <tr>\n",
       "      <td>YALE TER E</td>\n",
       "      <td>0</td>\n",
       "      <td>20</td>\n",
       "      <td>2.5</td>\n",
       "      <td>0</td>\n",
       "      <td>35.0</td>\n",
       "    </tr>\n",
       "    <tr>\n",
       "      <td>YESLER WAY</td>\n",
       "      <td>2</td>\n",
       "      <td>25</td>\n",
       "      <td>2.5</td>\n",
       "      <td>3</td>\n",
       "      <td>50.5</td>\n",
       "    </tr>\n",
       "    <tr>\n",
       "      <td>YORK RD S</td>\n",
       "      <td>0</td>\n",
       "      <td>20</td>\n",
       "      <td>3.5</td>\n",
       "      <td>0</td>\n",
       "      <td>86.0</td>\n",
       "    </tr>\n",
       "    <tr>\n",
       "      <td>YUKON AVE S</td>\n",
       "      <td>0</td>\n",
       "      <td>20</td>\n",
       "      <td>9.0</td>\n",
       "      <td>0</td>\n",
       "      <td>0.0</td>\n",
       "    </tr>\n",
       "  </tbody>\n",
       "</table>\n",
       "<p>2388 rows × 5 columns</p>\n",
       "</div>"
      ],
      "text/plain": [
       "                        arterial_class  speed_limit  slope_percentage  \\\n",
       "STNAME_ORD                                                              \n",
       "1 AV-W SEA BR WB ON RP               0           20               0.0   \n",
       "10TH AVE                             0           20               1.0   \n",
       "10TH AVE E                           2           25               1.0   \n",
       "10TH AVE NE                          0           20               2.5   \n",
       "10TH AVE NW                          0           20               2.0   \n",
       "...                                ...          ...               ...   \n",
       "YALE PL E                            0           20               2.0   \n",
       "YALE TER E                           0           20               2.5   \n",
       "YESLER WAY                           2           25               2.5   \n",
       "YORK RD S                            0           20               3.5   \n",
       "YUKON AVE S                          0           20               9.0   \n",
       "\n",
       "                        transit_class  pavement_condition  \n",
       "STNAME_ORD                                                 \n",
       "1 AV-W SEA BR WB ON RP              0                 0.0  \n",
       "10TH AVE                            0                47.0  \n",
       "10TH AVE E                          2                17.0  \n",
       "10TH AVE NE                         0                 0.0  \n",
       "10TH AVE NW                         0                68.0  \n",
       "...                               ...                 ...  \n",
       "YALE PL E                           0               100.0  \n",
       "YALE TER E                          0                35.0  \n",
       "YESLER WAY                          3                50.5  \n",
       "YORK RD S                           0                86.0  \n",
       "YUKON AVE S                         0                 0.0  \n",
       "\n",
       "[2388 rows x 5 columns]"
      ]
     },
     "execution_count": 110,
     "metadata": {},
     "output_type": "execute_result"
    }
   ],
   "source": [
    "columns = ['ARTCLASS', 'SPEEDLIMIT', 'SLOPE_PCT', 'TRANCLASS', 'PVMTCONDINDX']\n",
    "clean_streets = pd.DataFrame(data=d)\n",
    "clean_streets.drop"
   ]
  },
  {
   "cell_type": "code",
   "execution_count": 111,
   "metadata": {},
   "outputs": [],
   "source": [
    "clean_streets['accidents'] = collision_streets.value_counts()"
   ]
  },
  {
   "cell_type": "code",
   "execution_count": 112,
   "metadata": {},
   "outputs": [],
   "source": [
    "clean_streets['accidents'].fillna(value=0.0, inplace=True)"
   ]
  },
  {
   "cell_type": "code",
   "execution_count": 113,
   "metadata": {},
   "outputs": [],
   "source": [
    "from catboost import CatBoostRegressor, Pool\n",
    "from sklearn.model_selection import train_test_split, KFold\n",
    "from sklearn import metrics"
   ]
  },
  {
   "cell_type": "code",
   "execution_count": 114,
   "metadata": {},
   "outputs": [
    {
     "data": {
      "text/plain": [
       "63.65802683854458"
      ]
     },
     "execution_count": 114,
     "metadata": {},
     "output_type": "execute_result"
    }
   ],
   "source": [
    "base_error = ((clean_streets.accidents.mean() - clean_streets.accidents)**2).mean()\n",
    "base_error"
   ]
  },
  {
   "cell_type": "code",
   "execution_count": 115,
   "metadata": {},
   "outputs": [
    {
     "data": {
      "text/plain": [
       "<catboost.core.CatBoostRegressor at 0x13e4e1050>"
      ]
     },
     "execution_count": 115,
     "metadata": {},
     "output_type": "execute_result"
    },
    {
     "name": "stdout",
     "output_type": "stream",
     "text": [
      "base_mse: 46.813, actual: 40.495\n"
     ]
    },
    {
     "data": {
      "text/plain": [
       "<catboost.core.CatBoostRegressor at 0x13e4e1050>"
      ]
     },
     "execution_count": 115,
     "metadata": {},
     "output_type": "execute_result"
    },
    {
     "name": "stdout",
     "output_type": "stream",
     "text": [
      "base_mse: 108.199, actual: 88.478\n"
     ]
    },
    {
     "data": {
      "text/plain": [
       "<catboost.core.CatBoostRegressor at 0x13e4e1050>"
      ]
     },
     "execution_count": 115,
     "metadata": {},
     "output_type": "execute_result"
    },
    {
     "name": "stdout",
     "output_type": "stream",
     "text": [
      "base_mse: 40.099, actual: 42.38\n"
     ]
    },
    {
     "data": {
      "text/plain": [
       "<catboost.core.CatBoostRegressor at 0x13e4e1050>"
      ]
     },
     "execution_count": 115,
     "metadata": {},
     "output_type": "execute_result"
    },
    {
     "name": "stdout",
     "output_type": "stream",
     "text": [
      "base_mse: 46.822, actual: 43.304\n"
     ]
    },
    {
     "data": {
      "text/plain": [
       "<catboost.core.CatBoostRegressor at 0x13e4e1050>"
      ]
     },
     "execution_count": 115,
     "metadata": {},
     "output_type": "execute_result"
    },
    {
     "name": "stdout",
     "output_type": "stream",
     "text": [
      "base_mse: 76.076, actual: 70.779\n"
     ]
    }
   ],
   "source": [
    "kf = KFold(n_splits=5, shuffle=True, random_state=100)\n",
    "\n",
    "feats = ['arterial_class', 'speed_limit', 'transit_class']\n",
    "clf = CatBoostRegressor(verbose=False)\n",
    "\n",
    "mse = []\n",
    "y = clean_streets.pop('accidents')\n",
    "for i, (train_index, test_index) in enumerate(kf.split(clean_streets, y)):\n",
    "    X_train, X_test = clean_streets.iloc[train_index], clean_streets.iloc[test_index]\n",
    "    y_train, y_test = y.iloc[train_index], y.iloc[test_index]\n",
    "    \n",
    "    cat_pool = Pool(X_train, y_train, cat_features=feats)\n",
    "    clf.fit(cat_pool)\n",
    "    y_hat = clf.predict(X_test)\n",
    "    means = np.full(shape=y_test.shape, fill_value=y_test.mean())\n",
    "    theor = metrics.mean_squared_error(y_test, means)\n",
    "    err = metrics.mean_squared_error(y_test, y_hat)\n",
    "    print (clf.feature_importances_)\n",
    "    print (f'base_mse: {round(theor, 3)}, actual: {round(err, 3)}')\n"
   ]
  },
  {
   "cell_type": "code",
   "execution_count": 116,
   "metadata": {},
   "outputs": [
    {
     "data": {
      "text/plain": [
       "array([13.1174007 , 20.51483   , 18.86600045, 29.39703442, 18.10473444])"
      ]
     },
     "execution_count": 116,
     "metadata": {},
     "output_type": "execute_result"
    }
   ],
   "source": [
    "clf.feature_importances_"
   ]
  },
  {
   "cell_type": "code",
   "execution_count": null,
   "metadata": {},
   "outputs": [],
   "source": []
  }
 ],
 "metadata": {
  "kernelspec": {
   "display_name": "Python 3",
   "language": "python",
   "name": "python3"
  },
  "language_info": {
   "codemirror_mode": {
    "name": "ipython",
    "version": 3
   },
   "file_extension": ".py",
   "mimetype": "text/x-python",
   "name": "python",
   "nbconvert_exporter": "python",
   "pygments_lexer": "ipython3",
   "version": "3.7.4"
  }
 },
 "nbformat": 4,
 "nbformat_minor": 4
}
