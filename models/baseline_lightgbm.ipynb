{
 "cells": [
  {
   "cell_type": "code",
   "execution_count": 115,
   "metadata": {},
   "outputs": [],
   "source": [
    "import lightgbm as lgb\n",
    "import pandas as pd\n",
    "import numpy as np\n",
    "from sklearn.metrics import mean_squared_error, confusion_matrix, auc, roc_auc_score, roc_curve\n",
    "from sklearn.model_selection import train_test_split\n",
    "import matplotlib.pyplot as plt\n",
    "import seaborn as sns\n",
    "\n",
    "\n",
    "plt.style.use('ggplot')"
   ]
  },
  {
   "cell_type": "code",
   "execution_count": 14,
   "metadata": {
    "collapsed": true,
    "jupyter": {
     "outputs_hidden": true
    }
   },
   "outputs": [
    {
     "name": "stderr",
     "output_type": "stream",
     "text": [
      "/home/maureen/anaconda3/lib/python3.7/site-packages/IPython/core/interactiveshell.py:3063: DtypeWarning: Columns (23) have mixed types.Specify dtype option on import or set low_memory=False.\n",
      "  interactivity=interactivity, compiler=compiler, result=result)\n"
     ]
    },
    {
     "data": {
      "text/html": [
       "<div>\n",
       "<style scoped>\n",
       "    .dataframe tbody tr th:only-of-type {\n",
       "        vertical-align: middle;\n",
       "    }\n",
       "\n",
       "    .dataframe tbody tr th {\n",
       "        vertical-align: top;\n",
       "    }\n",
       "\n",
       "    .dataframe thead th {\n",
       "        text-align: right;\n",
       "    }\n",
       "</style>\n",
       "<table border=\"1\" class=\"dataframe\">\n",
       "  <thead>\n",
       "    <tr style=\"text-align: right;\">\n",
       "      <th></th>\n",
       "      <th>Datetime</th>\n",
       "      <th>X</th>\n",
       "      <th>Y</th>\n",
       "      <th>OBJECTID</th>\n",
       "      <th>INCKEY</th>\n",
       "      <th>ADDRTYPE</th>\n",
       "      <th>INTKEY</th>\n",
       "      <th>LOCATION</th>\n",
       "      <th>SEVERITYCODE</th>\n",
       "      <th>PERSONCOUNT</th>\n",
       "      <th>...</th>\n",
       "      <th>WEATHER</th>\n",
       "      <th>ROADCOND</th>\n",
       "      <th>LIGHTCOND</th>\n",
       "      <th>ST_COLCODE</th>\n",
       "      <th>ST_COLDESC</th>\n",
       "      <th>CROSSWALKKEY</th>\n",
       "      <th>SPEEDING_Y</th>\n",
       "      <th>INATTENTIONIND_Y</th>\n",
       "      <th>HITPARKEDCAR_Y</th>\n",
       "      <th>PEDROWNOTGRNT_Y</th>\n",
       "    </tr>\n",
       "  </thead>\n",
       "  <tbody>\n",
       "    <tr>\n",
       "      <th>0</th>\n",
       "      <td>2003-10-06</td>\n",
       "      <td>-122.320755</td>\n",
       "      <td>47.608073</td>\n",
       "      <td>1680</td>\n",
       "      <td>3663</td>\n",
       "      <td>Intersection</td>\n",
       "      <td>29797.0</td>\n",
       "      <td>BROADWAY AND CHERRY ST</td>\n",
       "      <td>0</td>\n",
       "      <td>0</td>\n",
       "      <td>...</td>\n",
       "      <td>0</td>\n",
       "      <td>0</td>\n",
       "      <td>0</td>\n",
       "      <td>NaN</td>\n",
       "      <td>NaN</td>\n",
       "      <td>0</td>\n",
       "      <td>0</td>\n",
       "      <td>0</td>\n",
       "      <td>0</td>\n",
       "      <td>1</td>\n",
       "    </tr>\n",
       "    <tr>\n",
       "      <th>1</th>\n",
       "      <td>2004-01-01</td>\n",
       "      <td>NaN</td>\n",
       "      <td>NaN</td>\n",
       "      <td>16515</td>\n",
       "      <td>29248</td>\n",
       "      <td>NaN</td>\n",
       "      <td>NaN</td>\n",
       "      <td>NaN</td>\n",
       "      <td>0</td>\n",
       "      <td>0</td>\n",
       "      <td>...</td>\n",
       "      <td>0</td>\n",
       "      <td>0</td>\n",
       "      <td>0</td>\n",
       "      <td>NaN</td>\n",
       "      <td>NaN</td>\n",
       "      <td>0</td>\n",
       "      <td>0</td>\n",
       "      <td>0</td>\n",
       "      <td>0</td>\n",
       "      <td>0</td>\n",
       "    </tr>\n",
       "    <tr>\n",
       "      <th>2</th>\n",
       "      <td>2004-01-01</td>\n",
       "      <td>-122.313520</td>\n",
       "      <td>47.601688</td>\n",
       "      <td>9624</td>\n",
       "      <td>22796</td>\n",
       "      <td>Block</td>\n",
       "      <td>NaN</td>\n",
       "      <td>E YESLER WAY BETWEEN 14TH AVE AND 15TH AVE</td>\n",
       "      <td>0</td>\n",
       "      <td>0</td>\n",
       "      <td>...</td>\n",
       "      <td>0</td>\n",
       "      <td>0</td>\n",
       "      <td>0</td>\n",
       "      <td>NaN</td>\n",
       "      <td>NaN</td>\n",
       "      <td>0</td>\n",
       "      <td>0</td>\n",
       "      <td>0</td>\n",
       "      <td>0</td>\n",
       "      <td>0</td>\n",
       "    </tr>\n",
       "    <tr>\n",
       "      <th>3</th>\n",
       "      <td>2004-01-01</td>\n",
       "      <td>-122.360959</td>\n",
       "      <td>47.571594</td>\n",
       "      <td>11719</td>\n",
       "      <td>25538</td>\n",
       "      <td>Block</td>\n",
       "      <td>NaN</td>\n",
       "      <td>WEST SEATTLE BR WB BETWEEN W SEATTLE BR WB OFF...</td>\n",
       "      <td>0</td>\n",
       "      <td>0</td>\n",
       "      <td>...</td>\n",
       "      <td>0</td>\n",
       "      <td>0</td>\n",
       "      <td>0</td>\n",
       "      <td>NaN</td>\n",
       "      <td>NaN</td>\n",
       "      <td>0</td>\n",
       "      <td>0</td>\n",
       "      <td>0</td>\n",
       "      <td>0</td>\n",
       "      <td>0</td>\n",
       "    </tr>\n",
       "    <tr>\n",
       "      <th>4</th>\n",
       "      <td>2004-01-01</td>\n",
       "      <td>-122.337454</td>\n",
       "      <td>47.615057</td>\n",
       "      <td>13533</td>\n",
       "      <td>27177</td>\n",
       "      <td>Intersection</td>\n",
       "      <td>29540.0</td>\n",
       "      <td>7TH AVE AND VIRGINIA ST</td>\n",
       "      <td>0</td>\n",
       "      <td>0</td>\n",
       "      <td>...</td>\n",
       "      <td>0</td>\n",
       "      <td>0</td>\n",
       "      <td>0</td>\n",
       "      <td>NaN</td>\n",
       "      <td>NaN</td>\n",
       "      <td>0</td>\n",
       "      <td>0</td>\n",
       "      <td>0</td>\n",
       "      <td>0</td>\n",
       "      <td>0</td>\n",
       "    </tr>\n",
       "  </tbody>\n",
       "</table>\n",
       "<p>5 rows × 30 columns</p>\n",
       "</div>"
      ],
      "text/plain": [
       "     Datetime           X          Y  OBJECTID  INCKEY      ADDRTYPE   INTKEY  \\\n",
       "0  2003-10-06 -122.320755  47.608073      1680    3663  Intersection  29797.0   \n",
       "1  2004-01-01         NaN        NaN     16515   29248           NaN      NaN   \n",
       "2  2004-01-01 -122.313520  47.601688      9624   22796         Block      NaN   \n",
       "3  2004-01-01 -122.360959  47.571594     11719   25538         Block      NaN   \n",
       "4  2004-01-01 -122.337454  47.615057     13533   27177  Intersection  29540.0   \n",
       "\n",
       "                                            LOCATION  SEVERITYCODE  \\\n",
       "0                             BROADWAY AND CHERRY ST             0   \n",
       "1                                                NaN             0   \n",
       "2         E YESLER WAY BETWEEN 14TH AVE AND 15TH AVE             0   \n",
       "3  WEST SEATTLE BR WB BETWEEN W SEATTLE BR WB OFF...             0   \n",
       "4                            7TH AVE AND VIRGINIA ST             0   \n",
       "\n",
       "   PERSONCOUNT  ...  WEATHER  ROADCOND  LIGHTCOND  ST_COLCODE  ST_COLDESC  \\\n",
       "0            0  ...        0         0          0         NaN         NaN   \n",
       "1            0  ...        0         0          0         NaN         NaN   \n",
       "2            0  ...        0         0          0         NaN         NaN   \n",
       "3            0  ...        0         0          0         NaN         NaN   \n",
       "4            0  ...        0         0          0         NaN         NaN   \n",
       "\n",
       "   CROSSWALKKEY SPEEDING_Y INATTENTIONIND_Y  HITPARKEDCAR_Y  PEDROWNOTGRNT_Y  \n",
       "0             0          0                0               0                1  \n",
       "1             0          0                0               0                0  \n",
       "2             0          0                0               0                0  \n",
       "3             0          0                0               0                0  \n",
       "4             0          0                0               0                0  \n",
       "\n",
       "[5 rows x 30 columns]"
      ]
     },
     "execution_count": 14,
     "metadata": {},
     "output_type": "execute_result"
    }
   ],
   "source": [
    "df = pd.read_csv('../data/processed/cleaned_data.csv')\n",
    "df.head()"
   ]
  },
  {
   "cell_type": "code",
   "execution_count": 79,
   "metadata": {
    "collapsed": true,
    "jupyter": {
     "outputs_hidden": true
    }
   },
   "outputs": [
    {
     "data": {
      "text/plain": [
       "SEVERITYCODE        0\n",
       "PEDCOUNT            0\n",
       "PEDCYLCOUNT         0\n",
       "VEHCOUNT            0\n",
       "INJURIES            0\n",
       "SERIOUSINJURIES     0\n",
       "FATALITIES          0\n",
       "UNDERINFL           0\n",
       "WEATHER             0\n",
       "ROADCOND            0\n",
       "LIGHTCOND           0\n",
       "CROSSWALKKEY        0\n",
       "SPEEDING_Y          0\n",
       "INATTENTIONIND_Y    0\n",
       "HITPARKEDCAR_Y      0\n",
       "PEDROWNOTGRNT_Y     0\n",
       "dtype: int64"
      ]
     },
     "execution_count": 79,
     "metadata": {},
     "output_type": "execute_result"
    }
   ],
   "source": [
    "# Drop columns and check NaN\n",
    "to_drop = ['Datetime', 'X', 'Y', 'OBJECTID', 'INCKEY', 'ADDRTYPE', 'LOCATION', \n",
    "           'INCDATE', 'JUNCTIONTYPE', 'SDOT_COLCODE', 'ST_COLCODE', 'INTKEY',\n",
    "           'ST_COLDESC', 'PERSONCOUNT']\n",
    "data = df.drop(columns=to_drop)\n",
    "data.isnull().sum()"
   ]
  },
  {
   "cell_type": "markdown",
   "metadata": {},
   "source": [
    "## Start the base model\n",
    "1. Define target based on our business case\n",
    "a. Binary injury/not injury, collisions with pedestrains/cyclists vs not, etc\n",
    "2. Create train/test split\n",
    "3. Train model\n",
    "4. Evaluate metrics"
   ]
  },
  {
   "cell_type": "code",
   "execution_count": 80,
   "metadata": {},
   "outputs": [],
   "source": [
    "# Define our target. In this case can use severity code. If there are injuries, == 1\n",
    "data['SEVERITYCODE'].value_counts()\n",
    "data['INJURIES_OCCURED'] = (data['SEVERITYCODE'] == 2).astype(int)"
   ]
  },
  {
   "cell_type": "code",
   "execution_count": 81,
   "metadata": {},
   "outputs": [],
   "source": [
    "y = data.pop('INJURIES_OCCURED')\n",
    "X = data.drop(columns=['SEVERITYCODE', 'INJURIES', 'SERIOUSINJURIES', 'FATALITIES'])\n",
    "X_train, X_test, y_train, y_test = train_test_split(X,y)"
   ]
  },
  {
   "cell_type": "code",
   "execution_count": null,
   "metadata": {},
   "outputs": [],
   "source": []
  },
  {
   "cell_type": "code",
   "execution_count": 83,
   "metadata": {},
   "outputs": [],
   "source": [
    "# Create dataset for lightgbm\n",
    "lgb_train = lgb.Dataset(X_train, y_train)\n",
    "lgb_eval = lgb.Dataset(X_test, y_test, reference=lgb_train)\n",
    "\n",
    "# specify configuration\n",
    "params = {\n",
    "        'boosting_type': 'gbdt',\n",
    "        'objective': 'binary',\n",
    "        'num_leaves': 31,\n",
    "        'learning_rate': 0.05,\n",
    "        'feature_fraction': 0.8,\n",
    "        'bagging_fraction': 0.8,\n",
    "        'bagging_freq': 5,\n",
    "        'verbose': 0\n",
    "}\n",
    "\n",
    "gbm = lgb.train(params, \n",
    "                lgb_train, \n",
    "                num_boost_round=20, \n",
    "                valid_sets=lgb_eval, \n",
    "                early_stopping_rounds=5)\n",
    "\n",
    "gbm.save_model('lgbm_model.txt')"
   ]
  },
  {
   "cell_type": "code",
   "execution_count": 117,
   "metadata": {},
   "outputs": [
    {
     "data": {
      "text/plain": [
       "<matplotlib.axes._subplots.AxesSubplot at 0x7f4e621c9850>"
      ]
     },
     "execution_count": 117,
     "metadata": {},
     "output_type": "execute_result"
    },
    {
     "data": {
      "image/png": "[encoded data removed]",
      "text/plain": [
       "<Figure size 432x288 with 1 Axes>"
      ]
     },
     "metadata": {},
     "output_type": "display_data"
    }
   ],
   "source": [
    "# Get feature importances for injury occuring in collision\n",
    "lgb.plot_importance(gbm, title=\"Feature Importance for Injuries in Collision\")"
   ]
  },
  {
   "cell_type": "code",
   "execution_count": 100,
   "metadata": {},
   "outputs": [
    {
     "data": {
      "text/plain": [
       "0.7355412761007113"
      ]
     },
     "execution_count": 100,
     "metadata": {},
     "output_type": "execute_result"
    }
   ],
   "source": [
    "# Do prediction and get AUC score\n",
    "y_pred = gbm.predict(X_test, num_iteration=gbm.best_iteration)\n",
    "roc_auc_score(y_test, y_pred)"
   ]
  },
  {
   "cell_type": "code",
   "execution_count": 118,
   "metadata": {},
   "outputs": [
    {
     "data": {
      "text/plain": [
       "[<matplotlib.lines.Line2D at 0x7f4e830d1590>]"
      ]
     },
     "execution_count": 118,
     "metadata": {},
     "output_type": "execute_result"
    },
    {
     "data": {
      "image/png": "[encoded data removed]",
      "text/plain": [
       "<Figure size 432x288 with 1 Axes>"
      ]
     },
     "metadata": {},
     "output_type": "display_data"
    }
   ],
   "source": [
    "# Plot AUC \n",
    "# THIS LOOKS OFF -> INVESTIGATE\n",
    "fpr, tpr, thresholds = roc_curve(y_test, y_pred)\n",
    "\n",
    "fig, ax = plt.subplots()\n",
    "ax.plot(fpr, tpr)\n",
    "ax.set_title('ROC Curve')\n",
    "ax.set_xlabel('False Positive Rate')\n",
    "ax.set_ylabel('True Positive Rate')\n",
    "ax.plot(np.linspace(0,1,100), np.linspace(0,1,100), '--')"
   ]
  },
  {
   "cell_type": "code",
   "execution_count": 114,
   "metadata": {
    "collapsed": true,
    "jupyter": {
     "outputs_hidden": true
    }
   },
   "outputs": [
    {
     "data": {
      "text/plain": [
       "array([1.71221945, 0.71221945, 0.70611282, 0.70448599, 0.7040459 ,\n",
       "       0.70154755, 0.70001707, 0.69826867, 0.69800013, 0.69786871,\n",
       "       0.69610407, 0.69598873, 0.69596375, 0.69526122, 0.69438176,\n",
       "       0.69426485, 0.69330971, 0.69323274, 0.69238654, 0.69207011,\n",
       "       0.69164741, 0.69146223, 0.69042123, 0.68961185, 0.68942011,\n",
       "       0.6890428 , 0.68882279, 0.6866051 , 0.68633956, 0.68517658,\n",
       "       0.6849654 , 0.68322732, 0.68251841, 0.68219987, 0.67657645,\n",
       "       0.67613204, 0.67502879, 0.67395012, 0.66837499, 0.66597173,\n",
       "       0.66505573, 0.66209688, 0.66093062, 0.65942082, 0.65512187,\n",
       "       0.65385989, 0.65330369, 0.65194586, 0.65016899, 0.64777794,\n",
       "       0.64694532, 0.64591419, 0.64227207, 0.63994332, 0.63840442,\n",
       "       0.63789408, 0.63603327, 0.63594565, 0.63548119, 0.63390578,\n",
       "       0.63383265, 0.63327288, 0.63280751, 0.63233115, 0.63089365,\n",
       "       0.63039327, 0.62764402, 0.62674603, 0.62673639, 0.62552842,\n",
       "       0.62537582, 0.62471774, 0.62471267, 0.62365871, 0.62325442,\n",
       "       0.62295407, 0.6220839 , 0.61955652, 0.60217344, 0.60117721,\n",
       "       0.6010966 , 0.60009946, 0.59986966, 0.59972866, 0.59909383,\n",
       "       0.5978024 , 0.59715666, 0.59709912, 0.5970067 , 0.59569467,\n",
       "       0.59486345, 0.5932705 , 0.5928624 , 0.59270282, 0.58973622,\n",
       "       0.58958539, 0.58927233, 0.58826586, 0.58742995, 0.58266236,\n",
       "       0.58266189, 0.58211052, 0.58085753, 0.57472907, 0.57277207,\n",
       "       0.57140369, 0.56622737, 0.5643175 , 0.5584385 , 0.55796209,\n",
       "       0.55488396, 0.55380206, 0.50530737, 0.48340996, 0.47982581,\n",
       "       0.47763902, 0.46471202, 0.46441686, 0.4635055 , 0.46159421,\n",
       "       0.45770125, 0.45757109, 0.45717273, 0.45429838, 0.45286657,\n",
       "       0.45259314, 0.45238994, 0.45130984, 0.45110599, 0.44781874,\n",
       "       0.44720515, 0.44626845, 0.44429366, 0.44239854, 0.44039541,\n",
       "       0.44011572, 0.43947069, 0.43901734, 0.43884514, 0.43613615,\n",
       "       0.43561335, 0.43361705, 0.4322438 , 0.42680106, 0.42299566,\n",
       "       0.4217899 , 0.42026539, 0.4172462 , 0.41425923, 0.41155193,\n",
       "       0.40861649, 0.40694377, 0.40607391, 0.40502621, 0.40482753,\n",
       "       0.40426681, 0.39981199, 0.39956593, 0.39718458, 0.39701028,\n",
       "       0.39390935, 0.39387032, 0.39374895, 0.39253572, 0.39244215,\n",
       "       0.39241449, 0.39068703, 0.38963898, 0.38963588, 0.38631787,\n",
       "       0.38293631, 0.38259997, 0.38088768, 0.38009243, 0.37998599,\n",
       "       0.37717291, 0.37364645, 0.37047436, 0.36886979, 0.36816126,\n",
       "       0.3677301 , 0.36494274, 0.3647963 , 0.36228192, 0.36190732,\n",
       "       0.36119359, 0.35995473, 0.35989176, 0.35959922, 0.35871873,\n",
       "       0.35822419, 0.35699834, 0.35675499, 0.35546025, 0.35129774,\n",
       "       0.35065996, 0.34878246, 0.34807684, 0.34717221, 0.34337428,\n",
       "       0.34275146, 0.34026938, 0.33938083, 0.33836705, 0.3383434 ,\n",
       "       0.33623132, 0.33539136, 0.33435679, 0.33094206, 0.33091916,\n",
       "       0.33083946, 0.32963013, 0.32873563, 0.32810059, 0.32723947,\n",
       "       0.32687478, 0.32629068, 0.3255838 , 0.32547172, 0.32543163,\n",
       "       0.32521803, 0.32508977, 0.32476794, 0.32429679, 0.32404809,\n",
       "       0.32385179, 0.32370325, 0.32368801, 0.32307835, 0.32201348,\n",
       "       0.32194539, 0.32181146, 0.32173344, 0.32085671, 0.31992268,\n",
       "       0.31885337, 0.31796607, 0.31709858, 0.31656743, 0.31616765,\n",
       "       0.31554594, 0.3154075 , 0.31447097, 0.31423178, 0.31399452,\n",
       "       0.31385286, 0.31374914, 0.31360478, 0.31281948, 0.31243271,\n",
       "       0.31224722, 0.31211063, 0.3118312 , 0.30946933, 0.30940456,\n",
       "       0.3086955 , 0.30838262, 0.30761193, 0.30739751, 0.30722133,\n",
       "       0.30606091, 0.30587352, 0.30549978, 0.30529678, 0.30436878,\n",
       "       0.30394002, 0.30323425, 0.30242242, 0.30111135, 0.30092729,\n",
       "       0.30066122, 0.30040624, 0.30037163, 0.30003629, 0.2999679 ,\n",
       "       0.2996974 , 0.29926199, 0.29907245, 0.29889285, 0.29882461,\n",
       "       0.29786644, 0.29726773, 0.29676408, 0.29669681, 0.29619372,\n",
       "       0.29615673, 0.29529307, 0.29528181, 0.29401391, 0.29395155,\n",
       "       0.29393441, 0.29340661, 0.29276902, 0.29185658, 0.29130096,\n",
       "       0.28984156, 0.28940353, 0.28852788, 0.28847095, 0.28816653,\n",
       "       0.28808748, 0.28741029, 0.28704977, 0.28689178, 0.28580722,\n",
       "       0.28366721, 0.28059681, 0.27920397, 0.27874132, 0.27865974,\n",
       "       0.27847716, 0.27770431, 0.27747166, 0.27665006, 0.27663065,\n",
       "       0.27583312, 0.27277345, 0.27230653, 0.27057141, 0.27049374,\n",
       "       0.2693555 , 0.26879104, 0.26819076, 0.26786378, 0.2676859 ,\n",
       "       0.26715071, 0.26557594, 0.26416474, 0.26280076, 0.26235067,\n",
       "       0.26216553, 0.26188414, 0.25963216, 0.25940644, 0.25762164,\n",
       "       0.25757489, 0.25749729, 0.25709744, 0.25706065, 0.25688515,\n",
       "       0.25657501, 0.25621104, 0.25593043, 0.25569948, 0.25292942,\n",
       "       0.25240737, 0.25008516, 0.24985496, 0.24843103, 0.24633025,\n",
       "       0.24438412, 0.24360782, 0.24354075, 0.24276007, 0.24169851,\n",
       "       0.24103864, 0.24100565, 0.2402217 , 0.2394581 , 0.23926063,\n",
       "       0.23690503, 0.23590066, 0.2357615 , 0.23534651, 0.23437364,\n",
       "       0.23402128, 0.23380829, 0.23324436, 0.22945422, 0.22914047,\n",
       "       0.22589143, 0.22345419, 0.22267907, 0.22241468, 0.2217447 ,\n",
       "       0.22089637, 0.21909722, 0.21854683, 0.21825289, 0.21569701,\n",
       "       0.215682  , 0.21393579, 0.21324676, 0.21134161, 0.21098122,\n",
       "       0.21005694, 0.20883979, 0.20794357, 0.20762016, 0.20541422,\n",
       "       0.20482996, 0.20352948, 0.20318953, 0.20217933, 0.20209905,\n",
       "       0.20122336, 0.20073692, 0.1996493 , 0.19946379, 0.194504  ,\n",
       "       0.19359066, 0.19238291, 0.19165958, 0.189097  , 0.1872602 ,\n",
       "       0.18722404, 0.18200007, 0.18070778, 0.17915174, 0.17813018,\n",
       "       0.17745025, 0.17529649, 0.1752544 , 0.17519956, 0.1751575 ,\n",
       "       0.17481737, 0.17429365, 0.17311443, 0.17269168, 0.17252346,\n",
       "       0.17178521, 0.17144435, 0.17105165, 0.17028043, 0.1701676 ,\n",
       "       0.1687458 , 0.16870417, 0.16805645, 0.16745403, 0.16742895,\n",
       "       0.16676889, 0.1657637 , 0.16465674, 0.16413959, 0.16401797,\n",
       "       0.16246028, 0.16062461, 0.15979612, 0.15918992, 0.15906568,\n",
       "       0.15801068, 0.15767087, 0.15762449, 0.15574865, 0.15477473,\n",
       "       0.15415402, 0.15237323, 0.15158921, 0.15121989, 0.15020959,\n",
       "       0.14773632, 0.14617684, 0.14512113, 0.14463037, 0.14370496,\n",
       "       0.14342811, 0.14126311, 0.14089772, 0.14039757, 0.14007801,\n",
       "       0.13810674, 0.13657761, 0.13644612, 0.13543015, 0.13446836,\n",
       "       0.12990583, 0.12827894, 0.12572099, 0.12227277, 0.12140504,\n",
       "       0.11906   , 0.11903683, 0.11891215, 0.11489271, 0.1130745 ,\n",
       "       0.11176604, 0.10999116])"
      ]
     },
     "execution_count": 114,
     "metadata": {},
     "output_type": "execute_result"
    }
   ],
   "source": [
    "thresholds"
   ]
  },
  {
   "cell_type": "code",
   "execution_count": null,
   "metadata": {},
   "outputs": [],
   "source": []
  }
 ],
 "metadata": {
  "kernelspec": {
   "display_name": "Python 3",
   "language": "python",
   "name": "python3"
  },
  "language_info": {
   "codemirror_mode": {
    "name": "ipython",
    "version": 3
   },
   "file_extension": ".py",
   "mimetype": "text/x-python",
   "name": "python",
   "nbconvert_exporter": "python",
   "pygments_lexer": "ipython3",
   "version": "3.7.6"
  }
 },
 "nbformat": 4,
 "nbformat_minor": 4
}
