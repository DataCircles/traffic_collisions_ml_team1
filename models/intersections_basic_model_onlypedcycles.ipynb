{
 "cells": [
  {
   "cell_type": "code",
   "execution_count": 1,
   "metadata": {},
   "outputs": [],
   "source": [
    "import numpy as np\n",
    "import pandas as pd\n",
    "\n",
    "import matplotlib.pyplot as plt\n",
    "%matplotlib inline\n",
    "\n",
    "pd.options.display.max_rows = 500\n",
    "pd.options.display.max_columns = 100\n",
    "\n",
    "import sys\n",
    "sys.path.append('../')\n",
    "from src.models.agg_catboost import agg_catboost\n",
    "\n",
    "import os\n",
    "import warnings\n",
    "warnings.filterwarnings(\"ignore\") \n",
    "\n",
    "from datetime import datetime, date\n",
    "from IPython.display import display, Markdown\n",
    "\n",
    "from IPython.core.interactiveshell import InteractiveShell\n",
    "InteractiveShell.ast_node_interactivity = \"all\""
   ]
  },
  {
   "cell_type": "code",
   "execution_count": 2,
   "metadata": {},
   "outputs": [],
   "source": [
    "df = pd.read_pickle('../data/processed/cleaned_intersections_collisions.pkl')\n",
    "df = df[((df.PEDCOUNT > 0) | (df.PEDCYLCOUNT > 0)) & (df.VEHCOUNT > 0)]"
   ]
  },
  {
   "cell_type": "code",
   "execution_count": 3,
   "metadata": {},
   "outputs": [],
   "source": [
    "model_df = df[['COMPKEY', 'LOCATION', 'ARTERIALCLASSCD', 'SIGNAL_TYPE']]"
   ]
  },
  {
   "cell_type": "code",
   "execution_count": 4,
   "metadata": {},
   "outputs": [],
   "source": [
    "num_collisions = pd.DataFrame(model_df.COMPKEY.value_counts()).reset_index().rename(columns={'index':'COMPKEY','COMPKEY':'num_collisions'})\n",
    "model_df = model_df[~model_df.duplicated()]"
   ]
  },
  {
   "cell_type": "code",
   "execution_count": 5,
   "metadata": {},
   "outputs": [],
   "source": [
    "model_df = model_df.merge(num_collisions, on='COMPKEY')"
   ]
  },
  {
   "cell_type": "code",
   "execution_count": 6,
   "metadata": {},
   "outputs": [
    {
     "data": {
      "text/plain": [
       "0        29797.0\n",
       "1        29540.0\n",
       "2        35721.0\n",
       "3        31913.0\n",
       "4        25425.0\n",
       "          ...   \n",
       "2740     32051.0\n",
       "2741    641626.0\n",
       "2742     27658.0\n",
       "2743     37416.0\n",
       "2744     37542.0\n",
       "Name: COMPKEY, Length: 2745, dtype: float64"
      ]
     },
     "execution_count": 6,
     "metadata": {},
     "output_type": "execute_result"
    }
   ],
   "source": [
    "model_df.pop('COMPKEY')"
   ]
  },
  {
   "cell_type": "code",
   "execution_count": 7,
   "metadata": {},
   "outputs": [],
   "source": [
    "model_df.dropna(inplace=True)\n",
    "model_df['ARTERIALCLASSCD'] = model_df['ARTERIALCLASSCD'].astype(int)"
   ]
  },
  {
   "cell_type": "code",
   "execution_count": 8,
   "metadata": {},
   "outputs": [],
   "source": [
    "y = model_df.pop('num_collisions')"
   ]
  },
  {
   "cell_type": "code",
   "execution_count": 9,
   "metadata": {},
   "outputs": [
    {
     "data": {
      "text/plain": [
       "'Training on 5 k-folds complete'"
      ]
     },
     "execution_count": 9,
     "metadata": {},
     "output_type": "execute_result"
    }
   ],
   "source": [
    "feats = ['LOCATION', 'ARTERIALCLASSCD', 'SIGNAL_TYPE']\n",
    "\n",
    "clf = agg_catboost(model_df, y, feats)\n",
    "clf.train_model()"
   ]
  },
  {
   "cell_type": "code",
   "execution_count": 10,
   "metadata": {},
   "outputs": [
    {
     "name": "stdout",
     "output_type": "stream",
     "text": [
      "base_mse: 16.524, actual: 11.646 \n",
      " feature_importances: [0.0, 18.6, 81.4]\n",
      "\n",
      "base_mse: 14.312, actual: 11.325 \n",
      " feature_importances: [0.0, 32.57, 67.43]\n",
      "\n",
      "base_mse: 16.152, actual: 13.66 \n",
      " feature_importances: [0.0, 24.17, 75.83]\n",
      "\n",
      "base_mse: 13.535, actual: 9.946 \n",
      " feature_importances: [0.0, 23.98, 76.02]\n",
      "\n",
      "base_mse: 12.007, actual: 8.644 \n",
      " feature_importances: [0.0, 29.35, 70.65]\n",
      "\n"
     ]
    }
   ],
   "source": [
    "clf.print_metrics(round_=True)"
   ]
  },
  {
   "cell_type": "code",
   "execution_count": 13,
   "metadata": {},
   "outputs": [
    {
     "data": {
      "image/png": "[encoded data removed]",
      "text/plain": [
       "<Figure size 432x288 with 1 Axes>"
      ]
     },
     "metadata": {
      "needs_background": "light"
     },
     "output_type": "display_data"
    }
   ],
   "source": [
    "clf.plot_feature_importances('Feature Importances on Catboost - Annual Ped/Cycl-involved Collisions')"
   ]
  },
  {
   "cell_type": "code",
   "execution_count": 14,
   "metadata": {},
   "outputs": [
    {
     "data": {
      "image/png": "[encoded data removed]",
      "text/plain": [
       "<Figure size 432x288 with 1 Axes>"
      ]
     },
     "metadata": {
      "needs_background": "light"
     },
     "output_type": "display_data"
    }
   ],
   "source": [
    "signal_types = [signal_type for signal_type in model_df.SIGNAL_TYPE.unique()]\n",
    "collisions = [y[model_df.SIGNAL_TYPE == signal_type].mean() for signal_type in signal_types]\n",
    "\n",
    "fig, ax = plt.subplots()\n",
    "for st, col in zip(signal_types, collisions):\n",
    "    ax.barh(st, col);\n",
    "ax.set_title('Average Number of Pedestrian/Cyclist-Related Collisions at each Seattle Signal Type');"
   ]
  },
  {
   "cell_type": "code",
   "execution_count": null,
   "metadata": {},
   "outputs": [],
   "source": []
  }
 ],
 "metadata": {
  "kernelspec": {
   "display_name": "Python 3",
   "language": "python",
   "name": "python3"
  },
  "language_info": {
   "codemirror_mode": {
    "name": "ipython",
    "version": 3
   },
   "file_extension": ".py",
   "mimetype": "text/x-python",
   "name": "python",
   "nbconvert_exporter": "python",
   "pygments_lexer": "ipython3",
   "version": "3.7.4"
  }
 },
 "nbformat": 4,
 "nbformat_minor": 4
}
