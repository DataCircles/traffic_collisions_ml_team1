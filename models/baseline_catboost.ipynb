{
 "cells": [
  {
   "cell_type": "code",
   "execution_count": 1,
   "metadata": {},
   "outputs": [],
   "source": [
    "import numpy as np\n",
    "import pandas as pd\n",
    "import seaborn as sns\n",
    "import matplotlib.pyplot as plt\n",
    "%matplotlib inline\n",
    "\n",
    "pd.options.display.max_rows = 500\n",
    "pd.options.display.max_columns = 100\n",
    "\n",
    "from catboost import CatBoostRegressor, Pool\n",
    "from sklearn.model_selection import train_test_split, KFold\n",
    "from sklearn import metrics\n",
    "\n",
    "import os\n",
    "import warnings\n",
    "warnings.filterwarnings(\"ignore\") \n",
    "\n",
    "from datetime import datetime\n",
    "from IPython.display import display, Markdown\n",
    "\n",
    "from IPython.core.interactiveshell import InteractiveShell\n",
    "InteractiveShell.ast_node_interactivity = \"all\""
   ]
  },
  {
   "cell_type": "code",
   "execution_count": 2,
   "metadata": {},
   "outputs": [],
   "source": [
    "collisions_df = pd.read_csv('../data/Collisions.csv',\n",
    "                            parse_dates={'Datetime': ['INCDTTM']}, \n",
    "                            infer_datetime_format=True)\n",
    "streets_df = pd.read_csv('../data/Seattle_Streets.csv')"
   ]
  },
  {
   "cell_type": "code",
   "execution_count": 3,
   "metadata": {},
   "outputs": [],
   "source": [
    "def load_unique(df, yr):\n",
    "    out = pd.DataFrame(df.groupby('STNAME')['AAWDT'].mean())\n",
    "    out['YEAR'] = int(yr)\n",
    "    return out\n",
    "#These important names have changed over the years\n",
    "def name_check(lst):\n",
    "    if 'STNAME' in lst:\n",
    "        return 'STNAME'\n",
    "    elif 'FIRST_STNAME_ORD' in lst:\n",
    "        return 'FIRST_STNAME_ORD'\n",
    "    else:\n",
    "        return 'STNAME_ORD'\n",
    "\n",
    "def metric_check(lst):\n",
    "    if 'AAWDT' in lst:\n",
    "        return 'AAWDT'\n",
    "    elif 'COUNTAAWDT' in lst:\n",
    "        return 'COUNTAAWDT'\n",
    "    else:\n",
    "        return 'AWDT'"
   ]
  },
  {
   "cell_type": "code",
   "execution_count": 4,
   "metadata": {},
   "outputs": [],
   "source": [
    "folder = '../data/counts/'\n",
    "traffic_df = pd.read_csv('../data/counts/2007_Traffic_Flow_Counts.csv')[['STNAME', 'AAWDT']]\n",
    "traffic_df = load_unique(traffic_df, '2007')\n",
    "\n",
    "for f in sorted(os.listdir(folder))[1:]:\n",
    "    file = folder + f\n",
    "    d = pd.read_csv(file)\n",
    "\n",
    "    name_column, metric_column = name_check(d.columns), metric_check(d.columns)\n",
    "    d.rename(columns={name_column:'STNAME', metric_column:'AAWDT'}, inplace=True)\n",
    "    d = d[['STNAME', 'AAWDT']]\n",
    "    d = load_unique(d, f[:4])\n",
    "    \n",
    "    #we'll only take the columns we can consistently use for now\n",
    "    traffic_df = traffic_df[traffic_df.index.isin(d.index)]\n",
    "    d = d[d.index.isin(traffic_df.index)] \n",
    "    \n",
    "    traffic_df = pd.concat([traffic_df, d], sort=False)\n",
    "    \n",
    "traffic_df = traffic_df[~traffic_df.duplicated()]"
   ]
  },
  {
   "cell_type": "code",
   "execution_count": 5,
   "metadata": {},
   "outputs": [],
   "source": [
    "block_mask = collisions_df['ADDRTYPE'] == 'Block'\n",
    "\n",
    "collision_streets = pd.DataFrame(collisions_df[block_mask]['LOCATION'].apply(lambda string: string.split(' BETWEEN ')[0]))\n",
    "\n",
    "collision_streets['datetime'] = collisions_df[block_mask]['Datetime']"
   ]
  },
  {
   "cell_type": "code",
   "execution_count": 6,
   "metadata": {},
   "outputs": [],
   "source": [
    "collisions_by_year = collision_streets.groupby(pd.Grouper(key='datetime', freq='Y'))['LOCATION'].value_counts().unstack(level=0).fillna(0)\n",
    "\n",
    "for column in collisions_by_year.columns:\n",
    "    collisions_by_year.rename(columns={column:column.year}, inplace=True)\n",
    "    \n",
    "collisions_by_year.drop(columns=[2004,2005,2006,2019,2020], inplace=True)"
   ]
  },
  {
   "cell_type": "code",
   "execution_count": 7,
   "metadata": {},
   "outputs": [],
   "source": [
    "streets_df = streets_df[streets_df['STATUS'] == 'INSVC']\n",
    "sg = streets_df.groupby('STNAME_ORD')\n",
    "d = {}\n",
    "d['arterial_class'] = sg['ARTCLASS'].median().fillna(0).astype(int)\n",
    "d['speed_limit'] =  sg['SPEEDLIMIT'].median().fillna(0).astype(int)\n",
    "d['slope_percentage'] = sg['SLOPE_PCT'].median()\n",
    "d['transit_class'] = sg['TRANCLASS'].median().astype(int)\n",
    "d['pavement_condition'] = sg['PVMTCONDINDX1'].median()\n",
    "columns = ['ARTCLASS', 'SPEEDLIMIT', 'SLOPE_PCT', 'TRANCLASS', 'PVMTCONDINDX']\n",
    "clean_streets = pd.DataFrame(data=d)\n",
    "clean_streets = clean_streets[clean_streets.index.isin(collisions_by_year.index)]"
   ]
  },
  {
   "cell_type": "code",
   "execution_count": 8,
   "metadata": {},
   "outputs": [],
   "source": [
    "traffic_df['collisions'] = 0\n",
    "for st in collisions_by_year.index:\n",
    "    for year in collisions_by_year.columns:\n",
    "        try:\n",
    "            traffic_df['collisions'].loc[(traffic_df.index==st) & (traffic_df['YEAR'] == year)] = collisions_by_year.loc[st][year]\n",
    "        except:\n",
    "            pass"
   ]
  },
  {
   "cell_type": "code",
   "execution_count": 9,
   "metadata": {},
   "outputs": [],
   "source": [
    "for variable in clean_streets.columns:\n",
    "    traffic_df[variable] = 0\n",
    "for st in traffic_df.index:\n",
    "    for variable in clean_streets.columns:\n",
    "        try:\n",
    "            traffic_df[variable].loc[st] = clean_streets[variable].loc[st]\n",
    "        except:\n",
    "            pass"
   ]
  },
  {
   "cell_type": "code",
   "execution_count": 10,
   "metadata": {},
   "outputs": [],
   "source": [
    "model_df = traffic_df.copy()\n",
    "y = model_df.pop('collisions')"
   ]
  },
  {
   "cell_type": "code",
   "execution_count": 11,
   "metadata": {},
   "outputs": [],
   "source": [
    "model_df.drop(columns=['YEAR', 'pavement_condition'], inplace=True)"
   ]
  },
  {
   "cell_type": "code",
   "execution_count": 12,
   "metadata": {},
   "outputs": [
    {
     "data": {
      "text/plain": [
       "<catboost.core.CatBoostRegressor at 0x127baef90>"
      ]
     },
     "execution_count": 12,
     "metadata": {},
     "output_type": "execute_result"
    },
    {
     "data": {
      "text/plain": [
       "<catboost.core.CatBoostRegressor at 0x127baef90>"
      ]
     },
     "execution_count": 12,
     "metadata": {},
     "output_type": "execute_result"
    },
    {
     "data": {
      "text/plain": [
       "<catboost.core.CatBoostRegressor at 0x127baef90>"
      ]
     },
     "execution_count": 12,
     "metadata": {},
     "output_type": "execute_result"
    },
    {
     "data": {
      "text/plain": [
       "<catboost.core.CatBoostRegressor at 0x127baef90>"
      ]
     },
     "execution_count": 12,
     "metadata": {},
     "output_type": "execute_result"
    },
    {
     "data": {
      "text/plain": [
       "<catboost.core.CatBoostRegressor at 0x127baef90>"
      ]
     },
     "execution_count": 12,
     "metadata": {},
     "output_type": "execute_result"
    }
   ],
   "source": [
    "kf = KFold(n_splits=5, shuffle=True, random_state=100)\n",
    "\n",
    "feats = ['arterial_class', 'speed_limit', 'transit_class']\n",
    "clf = CatBoostRegressor(verbose=False)\n",
    "\n",
    "mses, theoreticals, feat_importances = [], [], []\n",
    "\n",
    "for i, (train_index, test_index) in enumerate(kf.split(model_df, y)):\n",
    "    X_train, X_test = model_df.iloc[train_index], model_df.iloc[test_index]\n",
    "    y_train, y_test = y.iloc[train_index], y.iloc[test_index]\n",
    "    \n",
    "    cat_pool = Pool(X_train, y_train, cat_features=feats)\n",
    "    clf.fit(cat_pool)\n",
    "    y_hat = clf.predict(X_test)\n",
    "    means = np.full(shape=y_test.shape, fill_value=y_test.mean())\n",
    "    \n",
    "    theoreticals.append(metrics.mean_squared_error(y_test, means))\n",
    "    mses.append(metrics.mean_squared_error(y_test, y_hat))\n",
    "    feat_importances.append([round(f, 2) for f in clf.feature_importances_])"
   ]
  },
  {
   "cell_type": "code",
   "execution_count": 13,
   "metadata": {},
   "outputs": [
    {
     "name": "stdout",
     "output_type": "stream",
     "text": [
      "base_mse: 1643.75, actual: 128.86 \n",
      " feature_importances: [25.07, 5.13, 25.94, 25.21, 18.66]\n",
      "\n",
      "base_mse: 1392.292, actual: 199.37 \n",
      " feature_importances: [27.6, 4.14, 28.44, 22.96, 16.85]\n",
      "\n",
      "base_mse: 1636.237, actual: 133.401 \n",
      " feature_importances: [24.91, 5.37, 26.46, 24.58, 18.67]\n",
      "\n",
      "base_mse: 1299.644, actual: 109.79 \n",
      " feature_importances: [24.67, 4.99, 27.32, 23.78, 19.24]\n",
      "\n",
      "base_mse: 1415.337, actual: 129.838 \n",
      " feature_importances: [24.86, 3.3, 27.12, 22.19, 22.53]\n",
      "\n"
     ]
    }
   ],
   "source": [
    "for err, theor, fi in zip(mses, theoreticals, feat_importances):\n",
    "    print (f'base_mse: {round(theor, 3)}, actual: {round(err, 3)} \\n feature_importances: {fi}\\n')"
   ]
  },
  {
   "cell_type": "code",
   "execution_count": 17,
   "metadata": {},
   "outputs": [
    {
     "data": {
      "text/plain": [
       "STNAME\n",
       "10TH AVE E                 21.666667\n",
       "11TH AVE NE                13.583333\n",
       "12TH AVE                   34.666667\n",
       "12TH AVE E                  5.333333\n",
       "12TH AVE NE                15.416667\n",
       "12TH AVE S                 20.833333\n",
       "14TH AVE                   13.416667\n",
       "14TH AVE S                 25.416667\n",
       "15TH AVE NE                56.083333\n",
       "15TH AVE NW                59.583333\n",
       "15TH AVE S                 35.583333\n",
       "15TH AVE W                 27.000000\n",
       "16TH AVE SW                23.833333\n",
       "1ST AV S BR NB             12.333333\n",
       "1ST AVE                    88.416667\n",
       "1ST AVE NE                 17.363636\n",
       "1ST AVE S                 102.250000\n",
       "23RD AVE S                 23.583333\n",
       "24TH AVE NW                14.909091\n",
       "25TH AVE NE                33.083333\n",
       "28TH AVE W                  2.166667\n",
       "2ND AVE                    47.083333\n",
       "30TH AVE NE                12.272727\n",
       "31ST AVE S                  5.909091\n",
       "32ND AVE NW                 5.181818\n",
       "34TH AVE W                  5.200000\n",
       "35TH AVE NE                41.090909\n",
       "35TH AVE SW                60.750000\n",
       "3RD AVE                    27.416667\n",
       "3RD AVE NW                 21.272727\n",
       "4TH AVE                    54.583333\n",
       "4TH AVE S                  82.750000\n",
       "51ST AVE S                 13.416667\n",
       "5TH AVE                    41.833333\n",
       "5TH AVE NE                 39.545455\n",
       "6TH AVE                    43.000000\n",
       "6TH AVE S                  28.750000\n",
       "7TH AVE                    16.916667\n",
       "8TH AVE                    16.000000\n",
       "8TH AVE NW                 20.272727\n",
       "8TH AVE S                   7.750000\n",
       "AIRPORT WAY S              38.833333\n",
       "ALASKAN WAY                30.833333\n",
       "AURORA AVE N              220.166667\n",
       "BEACH DR SW                10.900000\n",
       "BEACON AVE S               21.400000\n",
       "BOREN AVE                  38.166667\n",
       "BROADWAY                   37.916667\n",
       "CALIFORNIA AVE SW          66.100000\n",
       "COLUMBIA ST ON RP           1.090909\n",
       "CORSON AVE S                8.636364\n",
       "DELRIDGE WAY SW            81.750000\n",
       "DENNY WAY                  52.250000\n",
       "E ALOHA ST                  6.111111\n",
       "E CHERRY ST                19.083333\n",
       "E JOHN ST                  17.166667\n",
       "E MADISON ST               54.727273\n",
       "E PIKE ST                  28.500000\n",
       "E PINE ST                  27.500000\n",
       "E UNION ST                 22.636364\n",
       "E YESLER WAY               20.111111\n",
       "EAST GREEN LAKE DR N        6.000000\n",
       "EAST GREEN LAKE WAY N      11.636364\n",
       "EAST MARGINAL WAY S        84.181818\n",
       "EASTLAKE AVE E             30.833333\n",
       "ELLIOTT AV ON RP            1.909091\n",
       "ELLIOTT AVE W              46.750000\n",
       "ELLIS AVE S                 2.636364\n",
       "FAUNTLEROY WAY SW          40.833333\n",
       "FREMONT AVE N              27.300000\n",
       "GILMAN AVE W                3.250000\n",
       "GREENWOOD AVE N            73.250000\n",
       "HOLMAN RD NW               15.083333\n",
       "JAMES ST                   35.416667\n",
       "LAKE CITY WAY NE           90.916667\n",
       "LAKE WASHINGTON BLVD E     16.833333\n",
       "LEARY WAY NW                9.750000\n",
       "M L KING JR WAY            14.916667\n",
       "M L KING JR WAY E           2.272727\n",
       "MADISON ST                 28.000000\n",
       "MAGNOLIA BR                 2.900000\n",
       "MERCER ST                  26.750000\n",
       "MERIDIAN AVE N             22.000000\n",
       "MONTLAKE BLVD NE           17.916667\n",
       "MYERS WAY S                 1.818182\n",
       "N 105TH ST                 17.083333\n",
       "N 125TH ST                  6.636364\n",
       "N 130TH ST                 17.333333\n",
       "N 145TH ST                 16.454545\n",
       "N 40TH ST                   5.000000\n",
       "N 45TH ST                  25.916667\n",
       "N 46TH ST                  15.583333\n",
       "N 50TH ST                  21.181818\n",
       "N 65TH ST                   2.818182\n",
       "N 80TH ST                  15.111111\n",
       "N 85TH ST                  39.000000\n",
       "N NORTHGATE WAY            38.363636\n",
       "NE 125TH ST                22.818182\n",
       "NE 145TH ST                40.000000\n",
       "NE 45TH ST                 68.500000\n",
       "NE 50TH ST                 25.181818\n",
       "NE 55TH ST                 13.100000\n",
       "NE 65TH ST                 26.833333\n",
       "NE 75TH ST                 18.181818\n",
       "NE 80TH ST                  7.500000\n",
       "NE NORTHGATE WAY           44.750000\n",
       "NE PACIFIC ST              12.000000\n",
       "NICKERSON ST                9.166667\n",
       "NW 80TH ST                  8.090909\n",
       "NW 85TH ST                 22.636364\n",
       "NW MARKET ST               49.363636\n",
       "OLSON PL SW                23.000000\n",
       "PHINNEY AVE N              17.555556\n",
       "PINEHURST WAY NE            2.500000\n",
       "QUEEN ANNE AVE N           41.555556\n",
       "RAINIER AVE S             335.750000\n",
       "RENTON AVE S               33.916667\n",
       "ROOSEVELT WAY NE           65.363636\n",
       "S COLUMBIAN WAY            19.818182\n",
       "S DEARBORN ST              19.833333\n",
       "S GENESEE ST                5.666667\n",
       "S GRAHAM ST                24.900000\n",
       "S HENDERSON ST             11.888889\n",
       "S HOLGATE BR                0.300000\n",
       "S JACKSON ST               45.625000\n",
       "S LANDER ST                 9.444444\n",
       "S LUCILE ST                 6.500000\n",
       "S MICHIGAN ST              24.250000\n",
       "S MYRTLE ST                12.600000\n",
       "S OTHELLO ST               19.000000\n",
       "SAND POINT WAY NE          23.000000\n",
       "SEAVIEW AVE NW              4.833333\n",
       "SENECA ST OFF RP            0.857143\n",
       "SR509 NB                    2.416667\n",
       "STONE WAY N                15.636364\n",
       "SW 106TH ST                 1.727273\n",
       "SW ADMIRAL WAY             27.000000\n",
       "SW AVALON WAY              12.166667\n",
       "SW BARTON ST               11.900000\n",
       "SW MORGAN ST                6.700000\n",
       "SW ROXBURY ST              23.600000\n",
       "SWIFT AVE S                13.333333\n",
       "W DRAVUS ST                12.909091\n",
       "W EMERSON PL                3.200000\n",
       "WEST MARGINAL WAY SW       21.333333\n",
       "WESTERN AVE                35.181818\n",
       "WESTLAKE AVE N             29.250000\n",
       "Name: collisions, dtype: float64"
      ]
     },
     "execution_count": 17,
     "metadata": {},
     "output_type": "execute_result"
    }
   ],
   "source": []
  },
  {
   "cell_type": "code",
   "execution_count": null,
   "metadata": {},
   "outputs": [],
   "source": []
  }
 ],
 "metadata": {
  "kernelspec": {
   "display_name": "Python 3",
   "language": "python",
   "name": "python3"
  },
  "language_info": {
   "codemirror_mode": {
    "name": "ipython",
    "version": 3
   },
   "file_extension": ".py",
   "mimetype": "text/x-python",
   "name": "python",
   "nbconvert_exporter": "python",
   "pygments_lexer": "ipython3",
   "version": "3.7.4"
  }
 },
 "nbformat": 4,
 "nbformat_minor": 4
}
