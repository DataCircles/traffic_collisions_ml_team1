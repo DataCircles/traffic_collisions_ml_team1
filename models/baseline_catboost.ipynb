{
 "cells": [
  {
   "cell_type": "code",
   "execution_count": 1,
   "metadata": {},
   "outputs": [],
   "source": [
    "import numpy as np\n",
    "import pandas as pd\n",
    "import seaborn as sns\n",
    "import matplotlib.pyplot as plt\n",
    "%matplotlib inline\n",
    "\n",
    "pd.options.display.max_rows = 500\n",
    "pd.options.display.max_columns = 100\n",
    "\n",
    "from catboost import CatBoostRegressor, Pool\n",
    "from sklearn.model_selection import train_test_split, KFold\n",
    "from sklearn import metrics\n",
    "\n",
    "import os\n",
    "import warnings\n",
    "warnings.filterwarnings(\"ignore\") \n",
    "\n",
    "from datetime import datetime\n",
    "from IPython.display import display, Markdown\n",
    "\n",
    "from IPython.core.interactiveshell import InteractiveShell\n",
    "InteractiveShell.ast_node_interactivity = \"all\""
   ]
  },
  {
   "cell_type": "code",
   "execution_count": 2,
   "metadata": {},
   "outputs": [],
   "source": [
    "collisions_df = pd.read_csv('../data/Collisions.csv',\n",
    "                            parse_dates={'Datetime': ['INCDTTM']}, \n",
    "                            infer_datetime_format=True)\n",
    "streets_df = pd.read_csv('../data/Seattle_Streets.csv')"
   ]
  },
  {
   "cell_type": "code",
   "execution_count": 3,
   "metadata": {},
   "outputs": [],
   "source": [
    "def load_unique(df, yr):\n",
    "    out = pd.DataFrame(df.groupby('STNAME')['AAWDT'].mean())\n",
    "    out['YEAR'] = int(yr)\n",
    "    return out\n",
    "#These important names have changed over the years\n",
    "def name_check(lst):\n",
    "    if 'STNAME' in lst:\n",
    "        return 'STNAME'\n",
    "    elif 'FIRST_STNAME_ORD' in lst:\n",
    "        return 'FIRST_STNAME_ORD'\n",
    "    else:\n",
    "        return 'STNAME_ORD'\n",
    "\n",
    "def metric_check(lst):\n",
    "    if 'AAWDT' in lst:\n",
    "        return 'AAWDT'\n",
    "    elif 'COUNTAAWDT' in lst:\n",
    "        return 'COUNTAAWDT'\n",
    "    else:\n",
    "        return 'AWDT'"
   ]
  },
  {
   "cell_type": "code",
   "execution_count": 4,
   "metadata": {},
   "outputs": [],
   "source": [
    "folder = '../data/counts/'\n",
    "traffic_df = pd.read_csv('../data/counts/2007_Traffic_Flow_Counts.csv')[['STNAME', 'AAWDT']]\n",
    "traffic_df = load_unique(traffic_df, '2007')\n",
    "\n",
    "for f in sorted(os.listdir(folder))[1:]:\n",
    "    file = folder + f\n",
    "    d = pd.read_csv(file)\n",
    "\n",
    "    name_column, metric_column = name_check(d.columns), metric_check(d.columns)\n",
    "    d.rename(columns={name_column:'STNAME', metric_column:'AAWDT'}, inplace=True)\n",
    "    d = d[['STNAME', 'AAWDT']]\n",
    "    d = load_unique(d, f[:4])\n",
    "    \n",
    "    #we'll only take the columns we can consistently use for now\n",
    "    traffic_df = traffic_df[traffic_df.index.isin(d.index)]\n",
    "    d = d[d.index.isin(traffic_df.index)] \n",
    "    \n",
    "    traffic_df = pd.concat([traffic_df, d], sort=False)\n",
    "    \n",
    "traffic_df = traffic_df[~traffic_df.duplicated()]"
   ]
  },
  {
   "cell_type": "code",
   "execution_count": 5,
   "metadata": {},
   "outputs": [],
   "source": [
    "block_mask = collisions_df['ADDRTYPE'] == 'Block'\n",
    "\n",
    "collision_streets = pd.DataFrame(collisions_df[block_mask]['LOCATION'].apply(lambda string: string.split(' BETWEEN ')[0]))\n",
    "\n",
    "collision_streets['datetime'] = collisions_df[block_mask]['Datetime']"
   ]
  },
  {
   "cell_type": "code",
   "execution_count": 6,
   "metadata": {},
   "outputs": [],
   "source": [
    "collisions_by_year = collision_streets.groupby(pd.Grouper(key='datetime', freq='Y'))['LOCATION'].value_counts().unstack(level=0).fillna(0)\n",
    "\n",
    "for column in collisions_by_year.columns:\n",
    "    collisions_by_year.rename(columns={column:column.year}, inplace=True)\n",
    "    \n",
    "collisions_by_year.drop(columns=[2004,2005,2006,2019,2020], inplace=True)"
   ]
  },
  {
   "cell_type": "code",
   "execution_count": 7,
   "metadata": {},
   "outputs": [],
   "source": [
    "streets_df = streets_df[streets_df['STATUS'] == 'INSVC']\n",
    "sg = streets_df.groupby('STNAME_ORD')\n",
    "d = {}\n",
    "d['arterial_class'] = sg['ARTCLASS'].median().fillna(0).astype(int)\n",
    "d['speed_limit'] =  sg['SPEEDLIMIT'].median().fillna(0).astype(int)\n",
    "d['slope_percentage'] = sg['SLOPE_PCT'].median()\n",
    "d['transit_class'] = sg['TRANCLASS'].median().astype(int)\n",
    "d['pavement_condition'] = sg['PVMTCONDINDX1'].median()\n",
    "columns = ['ARTCLASS', 'SPEEDLIMIT', 'SLOPE_PCT', 'TRANCLASS', 'PVMTCONDINDX']\n",
    "clean_streets = pd.DataFrame(data=d)\n",
    "clean_streets = clean_streets[clean_streets.index.isin(collisions_by_year.index)]"
   ]
  },
  {
   "cell_type": "code",
   "execution_count": 8,
   "metadata": {},
   "outputs": [],
   "source": [
    "traffic_df['collisions'] = 0\n",
    "for st in collisions_by_year.index:\n",
    "    for year in collisions_by_year.columns:\n",
    "        try:\n",
    "            traffic_df['collisions'].loc[(traffic_df.index==st) & (traffic_df['YEAR'] == year)] = collisions_by_year.loc[st][year]\n",
    "        except:\n",
    "            pass"
   ]
  },
  {
   "cell_type": "code",
   "execution_count": 9,
   "metadata": {},
   "outputs": [],
   "source": [
    "for variable in clean_streets.columns:\n",
    "    traffic_df[variable] = 0\n",
    "for st in traffic_df.index:\n",
    "    for variable in clean_streets.columns:\n",
    "        try:\n",
    "            traffic_df[variable].loc[st] = clean_streets[variable].loc[st]\n",
    "        except:\n",
    "            pass"
   ]
  },
  {
   "cell_type": "code",
   "execution_count": 10,
   "metadata": {},
   "outputs": [],
   "source": [
    "model_df = traffic_df.copy()\n",
    "y = model_df.pop('collisions')"
   ]
  },
  {
   "cell_type": "code",
   "execution_count": 11,
   "metadata": {},
   "outputs": [],
   "source": [
    "model_df.drop(columns=['YEAR', 'pavement_condition'], inplace=True)"
   ]
  },
  {
   "cell_type": "code",
   "execution_count": 12,
   "metadata": {},
   "outputs": [
    {
     "data": {
      "text/plain": [
       "<catboost.core.CatBoostRegressor at 0x127baef90>"
      ]
     },
     "execution_count": 12,
     "metadata": {},
     "output_type": "execute_result"
    },
    {
     "data": {
      "text/plain": [
       "<catboost.core.CatBoostRegressor at 0x127baef90>"
      ]
     },
     "execution_count": 12,
     "metadata": {},
     "output_type": "execute_result"
    },
    {
     "data": {
      "text/plain": [
       "<catboost.core.CatBoostRegressor at 0x127baef90>"
      ]
     },
     "execution_count": 12,
     "metadata": {},
     "output_type": "execute_result"
    },
    {
     "data": {
      "text/plain": [
       "<catboost.core.CatBoostRegressor at 0x127baef90>"
      ]
     },
     "execution_count": 12,
     "metadata": {},
     "output_type": "execute_result"
    },
    {
     "data": {
      "text/plain": [
       "<catboost.core.CatBoostRegressor at 0x127baef90>"
      ]
     },
     "execution_count": 12,
     "metadata": {},
     "output_type": "execute_result"
    }
   ],
   "source": [
    "kf = KFold(n_splits=5, shuffle=True, random_state=100)\n",
    "\n",
    "feats = ['arterial_class', 'speed_limit', 'transit_class']\n",
    "clf = CatBoostRegressor(verbose=False)\n",
    "\n",
    "mses, theoreticals, feat_importances = [], [], []\n",
    "\n",
    "for i, (train_index, test_index) in enumerate(kf.split(model_df, y)):\n",
    "    X_train, X_test = model_df.iloc[train_index], model_df.iloc[test_index]\n",
    "    y_train, y_test = y.iloc[train_index], y.iloc[test_index]\n",
    "    \n",
    "    cat_pool = Pool(X_train, y_train, cat_features=feats)\n",
    "    clf.fit(cat_pool)\n",
    "    y_hat = clf.predict(X_test)\n",
    "    means = np.full(shape=y_test.shape, fill_value=y_test.mean())\n",
    "    \n",
    "    theoreticals.append(metrics.mean_squared_error(y_test, means))\n",
    "    mses.append(metrics.mean_squared_error(y_test, y_hat))\n",
    "    feat_importances.append([round(f, 2) for f in clf.feature_importances_])"
   ]
  },
  {
   "cell_type": "code",
   "execution_count": 13,
   "metadata": {},
   "outputs": [
    {
     "name": "stdout",
     "output_type": "stream",
     "text": [
      "base_mse: 1643.75, actual: 128.86 \n",
      " feature_importances: [25.07, 5.13, 25.94, 25.21, 18.66]\n",
      "\n",
      "base_mse: 1392.292, actual: 199.37 \n",
      " feature_importances: [27.6, 4.14, 28.44, 22.96, 16.85]\n",
      "\n",
      "base_mse: 1636.237, actual: 133.401 \n",
      " feature_importances: [24.91, 5.37, 26.46, 24.58, 18.67]\n",
      "\n",
      "base_mse: 1299.644, actual: 109.79 \n",
      " feature_importances: [24.67, 4.99, 27.32, 23.78, 19.24]\n",
      "\n",
      "base_mse: 1415.337, actual: 129.838 \n",
      " feature_importances: [24.86, 3.3, 27.12, 22.19, 22.53]\n",
      "\n"
     ]
    }
   ],
   "source": [
    "for err, theor, fi in zip(mses, theoreticals, feat_importances):\n",
    "    print (f'base_mse: {round(theor, 3)}, actual: {round(err, 3)} \\n feature_importances: {fi}\\n')"
   ]
  },
  {
   "cell_type": "code",
   "execution_count": 14,
   "metadata": {},
   "outputs": [
    {
     "data": {
      "text/html": [
       "<div>\n",
       "<style scoped>\n",
       "    .dataframe tbody tr th:only-of-type {\n",
       "        vertical-align: middle;\n",
       "    }\n",
       "\n",
       "    .dataframe tbody tr th {\n",
       "        vertical-align: top;\n",
       "    }\n",
       "\n",
       "    .dataframe thead th {\n",
       "        text-align: right;\n",
       "    }\n",
       "</style>\n",
       "<table border=\"1\" class=\"dataframe\">\n",
       "  <thead>\n",
       "    <tr style=\"text-align: right;\">\n",
       "      <th></th>\n",
       "      <th>AAWDT</th>\n",
       "      <th>arterial_class</th>\n",
       "      <th>speed_limit</th>\n",
       "      <th>slope_percentage</th>\n",
       "      <th>transit_class</th>\n",
       "    </tr>\n",
       "    <tr>\n",
       "      <th>STNAME</th>\n",
       "      <th></th>\n",
       "      <th></th>\n",
       "      <th></th>\n",
       "      <th></th>\n",
       "      <th></th>\n",
       "    </tr>\n",
       "  </thead>\n",
       "  <tbody>\n",
       "    <tr>\n",
       "      <td>10TH AVE E</td>\n",
       "      <td>15300.000000</td>\n",
       "      <td>2</td>\n",
       "      <td>25</td>\n",
       "      <td>1.0</td>\n",
       "      <td>2</td>\n",
       "    </tr>\n",
       "    <tr>\n",
       "      <td>11TH AVE NE</td>\n",
       "      <td>10100.000000</td>\n",
       "      <td>0</td>\n",
       "      <td>20</td>\n",
       "      <td>3.0</td>\n",
       "      <td>0</td>\n",
       "    </tr>\n",
       "    <tr>\n",
       "      <td>12TH AVE</td>\n",
       "      <td>12900.000000</td>\n",
       "      <td>2</td>\n",
       "      <td>25</td>\n",
       "      <td>2.0</td>\n",
       "      <td>2</td>\n",
       "    </tr>\n",
       "    <tr>\n",
       "      <td>12TH AVE E</td>\n",
       "      <td>9100.000000</td>\n",
       "      <td>2</td>\n",
       "      <td>25</td>\n",
       "      <td>3.0</td>\n",
       "      <td>0</td>\n",
       "    </tr>\n",
       "    <tr>\n",
       "      <td>12TH AVE NE</td>\n",
       "      <td>8800.000000</td>\n",
       "      <td>0</td>\n",
       "      <td>20</td>\n",
       "      <td>4.0</td>\n",
       "      <td>0</td>\n",
       "    </tr>\n",
       "    <tr>\n",
       "      <td>...</td>\n",
       "      <td>...</td>\n",
       "      <td>...</td>\n",
       "      <td>...</td>\n",
       "      <td>...</td>\n",
       "      <td>...</td>\n",
       "    </tr>\n",
       "    <tr>\n",
       "      <td>W DRAVUS ST</td>\n",
       "      <td>13267.400000</td>\n",
       "      <td>0</td>\n",
       "      <td>20</td>\n",
       "      <td>7.5</td>\n",
       "      <td>0</td>\n",
       "    </tr>\n",
       "    <tr>\n",
       "      <td>W EMERSON PL</td>\n",
       "      <td>16567.500000</td>\n",
       "      <td>1</td>\n",
       "      <td>25</td>\n",
       "      <td>1.0</td>\n",
       "      <td>3</td>\n",
       "    </tr>\n",
       "    <tr>\n",
       "      <td>WEST MARGINAL WAY SW</td>\n",
       "      <td>8420.333333</td>\n",
       "      <td>1</td>\n",
       "      <td>30</td>\n",
       "      <td>0.0</td>\n",
       "      <td>3</td>\n",
       "    </tr>\n",
       "    <tr>\n",
       "      <td>WESTERN AVE</td>\n",
       "      <td>11058.384615</td>\n",
       "      <td>2</td>\n",
       "      <td>25</td>\n",
       "      <td>1.0</td>\n",
       "      <td>3</td>\n",
       "    </tr>\n",
       "    <tr>\n",
       "      <td>WESTLAKE AVE N</td>\n",
       "      <td>19342.142857</td>\n",
       "      <td>1</td>\n",
       "      <td>30</td>\n",
       "      <td>0.0</td>\n",
       "      <td>2</td>\n",
       "    </tr>\n",
       "  </tbody>\n",
       "</table>\n",
       "<p>1617 rows × 5 columns</p>\n",
       "</div>"
      ],
      "text/plain": [
       "                             AAWDT  arterial_class  speed_limit  \\\n",
       "STNAME                                                            \n",
       "10TH AVE E            15300.000000               2           25   \n",
       "11TH AVE NE           10100.000000               0           20   \n",
       "12TH AVE              12900.000000               2           25   \n",
       "12TH AVE E             9100.000000               2           25   \n",
       "12TH AVE NE            8800.000000               0           20   \n",
       "...                            ...             ...          ...   \n",
       "W DRAVUS ST           13267.400000               0           20   \n",
       "W EMERSON PL          16567.500000               1           25   \n",
       "WEST MARGINAL WAY SW   8420.333333               1           30   \n",
       "WESTERN AVE           11058.384615               2           25   \n",
       "WESTLAKE AVE N        19342.142857               1           30   \n",
       "\n",
       "                      slope_percentage  transit_class  \n",
       "STNAME                                                 \n",
       "10TH AVE E                         1.0              2  \n",
       "11TH AVE NE                        3.0              0  \n",
       "12TH AVE                           2.0              2  \n",
       "12TH AVE E                         3.0              0  \n",
       "12TH AVE NE                        4.0              0  \n",
       "...                                ...            ...  \n",
       "W DRAVUS ST                        7.5              0  \n",
       "W EMERSON PL                       1.0              3  \n",
       "WEST MARGINAL WAY SW               0.0              3  \n",
       "WESTERN AVE                        1.0              3  \n",
       "WESTLAKE AVE N                     0.0              2  \n",
       "\n",
       "[1617 rows x 5 columns]"
      ]
     },
     "execution_count": 14,
     "metadata": {},
     "output_type": "execute_result"
    }
   ],
   "source": [
    "model_df"
   ]
  },
  {
   "cell_type": "code",
   "execution_count": null,
   "metadata": {},
   "outputs": [],
   "source": []
  }
 ],
 "metadata": {
  "kernelspec": {
   "display_name": "Python 3",
   "language": "python",
   "name": "python3"
  },
  "language_info": {
   "codemirror_mode": {
    "name": "ipython",
    "version": 3
   },
   "file_extension": ".py",
   "mimetype": "text/x-python",
   "name": "python",
   "nbconvert_exporter": "python",
   "pygments_lexer": "ipython3",
   "version": "3.7.4"
  }
 },
 "nbformat": 4,
 "nbformat_minor": 4
}
