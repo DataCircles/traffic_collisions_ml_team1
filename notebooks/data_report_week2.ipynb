{
 "cells": [
  {
   "cell_type": "markdown",
   "metadata": {},
   "source": [
    "## Week 2\n",
    "\n",
    "Tasks:\n",
    "1. Decide as a team what are the most important tasks. Perhaps, it’s cleaning and formatting the dataset or producing an exploratory data analysis report.\n",
    "2. Discuss what the essential tasks are to complete a minimum viable result, versus the goal or ideal results. The goal is to efficiently make progress on the essential tasks.\n",
    "\n",
    "Milestones:\n",
    "1. Describe the project’s minimum viable result and the goal result.\n",
    "2. Select a team representative to deliver a team progress report at the standup meeting. Note, please choose a new person each week so everyone has a chance to present."
   ]
  },
  {
   "cell_type": "markdown",
   "metadata": {},
   "source": [
    "### Tasks\n",
    "We've identified the following tasks that need to be completed to create a minimum viaable result:\n",
    "\n",
    "1. Cleaning the datasets. In addition to the Collisions data, we also have street data and traffic volume data to add additional important features to our model. We have a few notebooks for the cleaning of all our datasets. \n",
    "2. Feature engineering of the data. We are utilizing OHE for the categorical variables and also filling in missing data using the SDOT Descriptions. \n",
    "3. Linking datasets together. For some of our models, we will need to merge the datasets together, which involves figuring out the primary key for merging. \n",
    "4. Skeleton model. This has already been done in <b>Catboost</b> utilizing KFold cross validation and the model will be refined as we further prepare our data. \n",
    "\n",
    "\n",
    "\n",
    "### Milestones\n",
    "1. The minimum viable result is producing a model to find the feature importances of intersections/streets to see what makes an intersection particularly dangerous for pedestrians and cyclists. \"Particularly dangerous\" can be quantified by both the number of collisions (normalized by traffic flow) or by injuries. \n",
    "\n",
    "\n",
    "\n",
    "Idealized goals would be to create several models, each with optimized hyperparameters, to find the best model. "
   ]
  },
  {
   "cell_type": "code",
   "execution_count": null,
   "metadata": {},
   "outputs": [],
   "source": []
  }
 ],
 "metadata": {
  "kernelspec": {
   "display_name": "Python 3",
   "language": "python",
   "name": "python3"
  },
  "language_info": {
   "codemirror_mode": {
    "name": "ipython",
    "version": 3
   },
   "file_extension": ".py",
   "mimetype": "text/x-python",
   "name": "python",
   "nbconvert_exporter": "python",
   "pygments_lexer": "ipython3",
   "version": "3.7.6"
  }
 },
 "nbformat": 4,
 "nbformat_minor": 4
}
