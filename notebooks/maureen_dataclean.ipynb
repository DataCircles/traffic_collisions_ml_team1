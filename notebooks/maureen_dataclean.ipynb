{
 "cells": [
  {
   "cell_type": "markdown",
   "metadata": {},
   "source": [
    "## Cleaning the data in preparation for modeling\n",
    "Our goal: Figure out what makes an intersection dangerous for pedestrians and cyclists. \n",
    "\n",
    "<b>Approach/model 1: </b><br>\n",
    "Look at the number of collisions at each intersection and quantify how much each feature of the intersection (eg, pavement, crosswalk, etc) contributes to having a high number of collisions.\n",
    "Implementation: Pandas group by intersection to get number of collisions, then fit regression model on the features in the df that corresponds to characteristics of that intersection. \n",
    "\n",
    "Potential issues: no marker for number of people using intersection, which might be an important characteristic to note. Danger can then be defined as #collisions/#people using intersection. Some intersections with high traffic might have lower collisions rates than others.   \n",
    "\n",
    "<b>Approach/model 2:</b><br>\n",
    "Look at other features that are highly correlated with collisions. These can be independent of the intersection (weather, ligh levels, etc). While some of these cannot be improved upon by the city, others can be (eg, low light levels mitigated by street lights). There should be some grouping by intersections to see if some intersections have a disproportionate amount of collisions due to these effects. \n",
    "\n",
    "### Cleaning\n",
    "The first part of data cleaning is to accurately measure the number of ped-car and cyclist-car collisions. Approximately 9% of the data doesn't have a ped, car, OR cyclist count, which inhibits our ability to accurately categorize accidents. "
   ]
  },
  {
   "cell_type": "code",
   "execution_count": 127,
   "metadata": {},
   "outputs": [],
   "source": [
    "import pandas as pd\n",
    "import matplotlib.pyplot as plt\n",
    "import pickle\n",
    "from pandas_profiling import ProfileReport\n",
    "\n",
    "# Set style and settings\n",
    "plt.style.use('ggplot')\n",
    "pd.set_option('display.max_columns', 50)\n",
    "pd.set_option('display.max_rows', 15)"
   ]
  },
  {
   "cell_type": "code",
   "execution_count": 128,
   "metadata": {},
   "outputs": [],
   "source": [
    "collisions = pd.read_csv('../data/external/Collisions.csv',\n",
    "                        parse_dates={'Datetime': ['INCDTTM']},\n",
    "                        infer_datetime_format=True)\n",
    "\n",
    "collisions = (\n",
    "    collisions.set_index('Datetime')\n",
    "    .sort_index()\n",
    "    .drop(columns=['EXCEPTRSNDESC', 'EXCEPTRSNCODE', 'REPORTNO', 'STATUS'])\n",
    ")"
   ]
  },
  {
   "cell_type": "markdown",
   "metadata": {},
   "source": [
    "### Filling in missing data\n",
    "Approximately 9% of the data is missing the persons/cars involved. We can fill this is by looking at the SDOT descriptions of the accidents"
   ]
  },
  {
   "cell_type": "code",
   "execution_count": 129,
   "metadata": {},
   "outputs": [
    {
     "name": "stdout",
     "output_type": "stream",
     "text": [
      "Fraction of data with no people involved:  0.08778965323268431\n"
     ]
    }
   ],
   "source": [
    "# How many of these involve ZERO people (ie, terrible book-keeping)\n",
    "no_people = collisions.loc[(collisions['PEDCOUNT'] == 0) & \n",
    "           (collisions['PEDCYLCOUNT'] == 0) & \n",
    "           (collisions['PERSONCOUNT'] == 0) & \n",
    "            (collisions['VEHCOUNT'] == 0)]\n",
    "\n",
    "people = collisions.loc[(collisions['PEDCOUNT'] != 0) | \n",
    "           (collisions['PEDCYLCOUNT'] != 0) | \n",
    "           (collisions['PERSONCOUNT'] != 0) | \n",
    "            (collisions['VEHCOUNT'] != 0)]\n",
    "\n",
    "print('Fraction of data with no people involved: ', no_people.shape[0]/collisions.shape[0])"
   ]
  },
  {
   "cell_type": "code",
   "execution_count": 130,
   "metadata": {
    "collapsed": true,
    "jupyter": {
     "outputs_hidden": true
    }
   },
   "outputs": [
    {
     "data": {
      "text/plain": [
       "{'NOT ENOUGH INFORMATION / NOT APPLICABLE': 8060,\n",
       " 'MOTOR VEHICLE STRUCK MOTOR VEHICLE, FRONT END AT ANGLE': 4765,\n",
       " 'MOTOR VEHICLE STRUCK MOTOR VEHICLE, REAR END': 3963,\n",
       " 'MOTOR VEHICLE STRUCK MOTOR VEHICLE, LEFT SIDE SIDESWIPE': 894,\n",
       " 'MOTOR VEHICLE STRUCK MOTOR VEHICLE, LEFT SIDE AT ANGLE': 529,\n",
       " 'MOTOR VEHICLE RAN OFF ROAD - HIT FIXED OBJECT': 306,\n",
       " 'MOTOR VEHICLE STRUCK MOTOR VEHICLE, RIGHT SIDE SIDESWIPE': 184,\n",
       " 'MOTOR VEHICLE STRUCK MOTOR VEHICLE, RIGHT SIDE AT ANGLE': 168,\n",
       " 'MOTOR VEHCILE STRUCK PEDESTRIAN': 159,\n",
       " 'MOTOR VEHICLE STRUCK OBJECT IN ROAD': 148,\n",
       " 'MOTOR VEHICLE STRUCK PEDALCYCLIST, FRONT END AT ANGLE': 67,\n",
       " 'PEDALCYCLIST STRUCK MOTOR VEHICLE FRONT END AT ANGLE': 24,\n",
       " 'MOTOR VEHICLE OVERTURNED IN ROAD': 22,\n",
       " 'DRIVERLESS VEHICLE RAN OFF ROAD - HIT FIXED OBJECT': 10,\n",
       " 'PEDALCYCLIST STRUCK MOTOR VEHICLE LEFT SIDE SIDESWIPE': 7,\n",
       " 'DRIVERLESS VEHICLE STRUCK MOTOR VEHICLE REAR END': 7,\n",
       " 'PEDALCYCLIST OVERTURNED IN ROAD': 6,\n",
       " 'DRIVERLESS VEHICLE STRUCK MOTOR VEHICLE FRONT END AT ANGLE': 5,\n",
       " 'PEDALCYCLIST STRUCK PEDESTRIAN': 5,\n",
       " 'MOTOR VEHICLE STRUCK TRAIN': 3,\n",
       " 'DRIVERLESS VEHICLE STRUCK MOTOR VEHICLE LEFT SIDE AT ANGLE': 3,\n",
       " 'PEDALCYCLIST STRUCK OBJECT IN ROAD': 3,\n",
       " 'MOTOR VEHICLE STRUCK PEDALCYCLIST, REAR END': 3,\n",
       " 'PEDALCYCLIST STRUCK MOTOR VEHICLE RIGHT SIDE SIDESWIPE': 2,\n",
       " 'PEDALCYCLIST STRUCK MOTOR VEHICLE REAR END': 2,\n",
       " 'MOTOR VEHICLE RAN OFF ROAD - NO COLLISION': 1,\n",
       " 'DRIVERLESS VEHICLE STRUCK MOTOR VEHICLE RIGHT SIDE AT ANGLE ': 1,\n",
       " 'MOTOR VEHICLE STRUCK PEDALCYCLIST, RIGHT SIDE SIDESWIPE': 1,\n",
       " 'MOTOR VEHICLE STRUCK PEDALCYCLIST, LEFT SIDE SIDESWIPE': 1,\n",
       " 'PEDALCYCLIST RAN OFF ROAD - HIT FIXED OBJECT': 1,\n",
       " 'DRIVERLESS VEHICLE STRUCK OBJECT IN ROADWAY': 1}"
      ]
     },
     "execution_count": 130,
     "metadata": {},
     "output_type": "execute_result"
    }
   ],
   "source": [
    "# Make dictionary with the descriptions and counts for each description\n",
    "description_series = no_people['SDOT_COLDESC'].value_counts()\n",
    "descriptions = list(description_series.index)\n",
    "counts = list(description_series)\n",
    "d = {descriptions[i]:counts[i] for i in range(len(descriptions))}\n",
    "d"
   ]
  },
  {
   "cell_type": "code",
   "execution_count": 131,
   "metadata": {},
   "outputs": [
    {
     "name": "stderr",
     "output_type": "stream",
     "text": [
      "/home/maureen/anaconda3/lib/python3.7/site-packages/pandas/core/indexing.py:965: SettingWithCopyWarning: \n",
      "A value is trying to be set on a copy of a slice from a DataFrame.\n",
      "Try using .loc[row_indexer,col_indexer] = value instead\n",
      "\n",
      "See the caveats in the documentation: https://pandas.pydata.org/pandas-docs/stable/user_guide/indexing.html#returning-a-view-versus-a-copy\n",
      "  self.obj[item] = s\n"
     ]
    }
   ],
   "source": [
    "# Replace the values in no_people df and merge with original collisions set\n",
    "veh_count = no_people['SDOT_COLDESC'].apply(lambda x: x.count('VEHICLE') if type(x) == str else 0)\n",
    "ped_count = no_people['SDOT_COLDESC'].apply(lambda x: x.count('PEDESTRIAN') if type(x) == str else 0)\n",
    "cyclist_count = no_people['SDOT_COLDESC'].apply(lambda x: x.count('PEDALCYCLIST') if type(x) == str else 0)\n",
    "\n",
    "no_people.loc[:,'VEHCOUNT'] = veh_count\n",
    "no_people.loc[:,'PEDCOUNT'] = ped_count\n",
    "no_people.loc[:, 'PEDCYLCOUNT'] = cyclist_count\n",
    "\n",
    "# Merge the people and no_people dataframes\n",
    "df = pd.concat([no_people, people])"
   ]
  },
  {
   "cell_type": "markdown",
   "metadata": {},
   "source": [
    "### Dealing with NaNs and binary Y/N"
   ]
  },
  {
   "cell_type": "code",
   "execution_count": 118,
   "metadata": {},
   "outputs": [],
   "source": [
    "# Assigning 0/1 to binary features\n",
    "df = (\n",
    "    pd.get_dummies(df, columns=['SPEEDING', 'INATTENTIONIND', 'HITPARKEDCAR', 'PEDROWNOTGRNT'])\n",
    "    .drop(columns=['HITPARKEDCAR_N'])\n",
    ")"
   ]
  },
  {
   "cell_type": "code",
   "execution_count": 141,
   "metadata": {},
   "outputs": [
    {
     "name": "stdout",
     "output_type": "stream",
     "text": [
      "N    103000\n",
      "0     81676\n",
      "Y      5398\n",
      "1      4230\n",
      "Name: UNDERINFL, dtype: int64\n"
     ]
    }
   ],
   "source": [
    "# Fixing alcohol influence\n",
    "print(df['UNDERINFL'].value_counts())\n",
    "df.loc[:,'UNDERINFL'] = df['UNDERINFL'].apply(lambda x: 1 if (x=='Y') or (x==1) else 0)"
   ]
  },
  {
   "cell_type": "markdown",
   "metadata": {},
   "source": [
    "### Dealing with weather, road conditions, and light\n",
    "Grouping into fewer categories"
   ]
  },
  {
   "cell_type": "code",
   "execution_count": 146,
   "metadata": {},
   "outputs": [],
   "source": [
    "# Pickle the dataframe AND save as csv\n",
    "df.to_pickle('../data/processed/cleaned_data.pkl')\n",
    "df.to_csv('../data/processed/cleaned_data.csv')"
   ]
  },
  {
   "cell_type": "code",
   "execution_count": null,
   "metadata": {},
   "outputs": [],
   "source": []
  }
 ],
 "metadata": {
  "kernelspec": {
   "display_name": "Python 3",
   "language": "python",
   "name": "python3"
  },
  "language_info": {
   "codemirror_mode": {
    "name": "ipython",
    "version": 3
   },
   "file_extension": ".py",
   "mimetype": "text/x-python",
   "name": "python",
   "nbconvert_exporter": "python",
   "pygments_lexer": "ipython3",
   "version": "3.7.6"
  }
 },
 "nbformat": 4,
 "nbformat_minor": 4
}
