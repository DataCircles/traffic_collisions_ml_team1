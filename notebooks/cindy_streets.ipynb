{
 "cells": [
  {
   "cell_type": "code",
   "execution_count": 1,
   "metadata": {},
   "outputs": [],
   "source": [
    "# Import Modules\n",
    "import numpy as np\n",
    "import pandas as pd\n",
    "import seaborn as sns\n",
    "import matplotlib.pyplot as plt\n",
    "\n",
    "#modeling tools\n",
    "import statsmodels.api as sm\n",
    "\n",
    "import lightgbm as lgb\n",
    "\n",
    "from sklearn.tree import DecisionTreeRegressor, DecisionTreeClassifier\n",
    "from sklearn.ensemble import GradientBoostingClassifier, RandomForestClassifier, RandomForestRegressor\n",
    "from sklearn.metrics import mean_squared_error, confusion_matrix, auc, roc_auc_score, roc_curve, log_loss, make_scorer\n",
    "from sklearn.model_selection import cross_val_score, train_test_split, GridSearchCV\n",
    "\n",
    "%matplotlib inline\n",
    "plt.style.use('dark_background')\n",
    "\n",
    "%load_ext autoreload\n",
    "%autoreload 2\n",
    "\n",
    "pd.set_option('display.min_row', 15)\n",
    "pd.set_option('display.max_column', 100)\n",
    "pd.set_option('display.max_colwidth', 300)"
   ]
  },
  {
   "cell_type": "code",
   "execution_count": 2,
   "metadata": {},
   "outputs": [],
   "source": [
    "collisions = pd.read_csv('../data/Collisions.csv')\n",
    "clean_data = pd.read_pickle('../data/processed/cleaned_data.pkl')\n",
    "intersection_n = pd.read_pickle('../data/processed/intersection_w_normalization.pkl')\n",
    "\n",
    "crosswalks = pd.read_csv('../data/Marked_Crosswalks.csv')\n",
    "circles = pd.read_csv('../data/Traffic_Circles.csv')\n",
    "intersections = pd.read_csv('../data/Intersections.csv')"
   ]
  },
  {
   "cell_type": "code",
   "execution_count": 3,
   "metadata": {},
   "outputs": [],
   "source": [
    "collisions['INJURED_OHE'] = collisions['INJURIES'].apply(lambda x: 1 if x > 0 else 0)"
   ]
  },
  {
   "cell_type": "code",
   "execution_count": 4,
   "metadata": {},
   "outputs": [
    {
     "data": {
      "image/png": "[encoded data removed]",
      "text/plain": [
       "<Figure size 1080x720 with 1 Axes>"
      ]
     },
     "metadata": {
      "needs_background": "dark"
     },
     "output_type": "display_data"
    }
   ],
   "source": [
    "fig, ax = plt.subplots(figsize=(15,10))\n",
    "\n",
    "ax = sns.countplot('COLLISIONTYPE', data=collisions, hue='INJURED_OHE');"
   ]
  },
  {
   "cell_type": "code",
   "execution_count": 5,
   "metadata": {},
   "outputs": [
    {
     "name": "stdout",
     "output_type": "stream",
     "text": [
      "Percent not injured:  72.028\n",
      "Percent injured:  27.972\n"
     ]
    }
   ],
   "source": [
    "print( 'Percent not injured: ', round((collisions['INJURED_OHE'] == 0).sum() / len(collisions['INJURED_OHE'])*100 , 3) )\n",
    "print( 'Percent injured: ', round((collisions['INJURED_OHE'] != 0).sum() / len(collisions['INJURED_OHE'])*100 , 3) )"
   ]
  },
  {
   "cell_type": "markdown",
   "metadata": {},
   "source": [
    "## Traffic Circles"
   ]
  },
  {
   "cell_type": "code",
   "execution_count": 6,
   "metadata": {},
   "outputs": [
    {
     "name": "stdout",
     "output_type": "stream",
     "text": [
      "<class 'pandas.core.frame.DataFrame'>\n",
      "RangeIndex: 1066 entries, 0 to 1065\n",
      "Data columns (total 32 columns):\n",
      " #   Column                     Non-Null Count  Dtype  \n",
      "---  ------                     --------------  -----  \n",
      " 0   X                          1066 non-null   float64\n",
      " 1   Y                          1066 non-null   float64\n",
      " 2   OBJECTID                   1066 non-null   int64  \n",
      " 3   COMPKEY                    1066 non-null   int64  \n",
      " 4   UNITID                     1066 non-null   object \n",
      " 5   UNITDESC                   1066 non-null   object \n",
      " 6   CONDITION                  1066 non-null   object \n",
      " 7   CONDITION_ASSESSMENT_DATE  1066 non-null   object \n",
      " 8   CURRENT_STATUS             1066 non-null   object \n",
      " 9   OWNERSHIP                  1066 non-null   object \n",
      " 10  PRIMARYDISTRICTCD          1066 non-null   object \n",
      " 11  SECONDARYDISTRICTCD        1066 non-null   object \n",
      " 12  COMPTYPE                   1066 non-null   int64  \n",
      " 13  CURRENT_STATUS_DATE        1066 non-null   object \n",
      " 14  INSTALL_DATE               1066 non-null   object \n",
      " 15  INSTALL_PURPOSE            1066 non-null   object \n",
      " 16  INTKEY                     1066 non-null   int64  \n",
      " 17  LANDSCAPING                1066 non-null   object \n",
      " 18  MAINTAINED_BY              1066 non-null   object \n",
      " 19  MAINTENANCE_AGREEMENT      0 non-null      float64\n",
      " 20  NO_LAND_REASON             1066 non-null   object \n",
      " 21  OVERRIDECOMMENT            0 non-null      float64\n",
      " 22  OVERRIDEYN                 1066 non-null   object \n",
      " 23  OWNERSHIP_DATE             1066 non-null   object \n",
      " 24  SDOT_INITIATED             1066 non-null   object \n",
      " 25  SEWER_ACCESS_COVER         1066 non-null   object \n",
      " 26  TRCSIZE                    1066 non-null   int64  \n",
      " 27  SURVEY_MONUMENT            1066 non-null   object \n",
      " 28  TRCSHAPE                   1066 non-null   object \n",
      " 29  UNITTYPE                   1066 non-null   object \n",
      " 30  SHAPE_LNG                  1066 non-null   float64\n",
      " 31  SHAPE_LAT                  1066 non-null   float64\n",
      "dtypes: float64(6), int64(5), object(21)\n",
      "memory usage: 266.6+ KB\n"
     ]
    }
   ],
   "source": [
    "# no null values\n",
    "circles.info()"
   ]
  },
  {
   "cell_type": "code",
   "execution_count": 7,
   "metadata": {},
   "outputs": [
    {
     "data": {
      "text/html": [
       "<div>\n",
       "<style scoped>\n",
       "    .dataframe tbody tr th:only-of-type {\n",
       "        vertical-align: middle;\n",
       "    }\n",
       "\n",
       "    .dataframe tbody tr th {\n",
       "        vertical-align: top;\n",
       "    }\n",
       "\n",
       "    .dataframe thead th {\n",
       "        text-align: right;\n",
       "    }\n",
       "</style>\n",
       "<table border=\"1\" class=\"dataframe\">\n",
       "  <thead>\n",
       "    <tr style=\"text-align: right;\">\n",
       "      <th></th>\n",
       "      <th>X</th>\n",
       "      <th>Y</th>\n",
       "      <th>OBJECTID</th>\n",
       "      <th>COMPKEY</th>\n",
       "      <th>UNITID</th>\n",
       "      <th>UNITDESC</th>\n",
       "      <th>CONDITION</th>\n",
       "      <th>CONDITION_ASSESSMENT_DATE</th>\n",
       "      <th>CURRENT_STATUS</th>\n",
       "      <th>OWNERSHIP</th>\n",
       "      <th>PRIMARYDISTRICTCD</th>\n",
       "      <th>SECONDARYDISTRICTCD</th>\n",
       "      <th>COMPTYPE</th>\n",
       "      <th>CURRENT_STATUS_DATE</th>\n",
       "      <th>INSTALL_DATE</th>\n",
       "      <th>INSTALL_PURPOSE</th>\n",
       "      <th>INTKEY</th>\n",
       "      <th>LANDSCAPING</th>\n",
       "      <th>MAINTAINED_BY</th>\n",
       "      <th>MAINTENANCE_AGREEMENT</th>\n",
       "      <th>NO_LAND_REASON</th>\n",
       "      <th>OVERRIDECOMMENT</th>\n",
       "      <th>OVERRIDEYN</th>\n",
       "      <th>OWNERSHIP_DATE</th>\n",
       "      <th>SDOT_INITIATED</th>\n",
       "      <th>SEWER_ACCESS_COVER</th>\n",
       "      <th>TRCSIZE</th>\n",
       "      <th>SURVEY_MONUMENT</th>\n",
       "      <th>TRCSHAPE</th>\n",
       "      <th>UNITTYPE</th>\n",
       "      <th>SHAPE_LNG</th>\n",
       "      <th>SHAPE_LAT</th>\n",
       "    </tr>\n",
       "  </thead>\n",
       "  <tbody>\n",
       "    <tr>\n",
       "      <th>0</th>\n",
       "      <td>1.258588e+06</td>\n",
       "      <td>210475.502412</td>\n",
       "      <td>1</td>\n",
       "      <td>509338</td>\n",
       "      <td>TRC-601</td>\n",
       "      <td>38TH AVE SW AND SW DAKOTA ST</td>\n",
       "      <td>GOOD</td>\n",
       "      <td>2009/09/15 00:00:00+00</td>\n",
       "      <td>INSVC</td>\n",
       "      <td>SDOT</td>\n",
       "      <td>DISTRICT1</td>\n",
       "      <td></td>\n",
       "      <td>16</td>\n",
       "      <td>2009/10/14 00:00:00+00</td>\n",
       "      <td>2000/05/16 00:00:00+00</td>\n",
       "      <td></td>\n",
       "      <td>31889</td>\n",
       "      <td>Y</td>\n",
       "      <td>SDOT</td>\n",
       "      <td>NaN</td>\n",
       "      <td></td>\n",
       "      <td>NaN</td>\n",
       "      <td>N</td>\n",
       "      <td>1970/01/01 00:00:00+00</td>\n",
       "      <td>N</td>\n",
       "      <td>N</td>\n",
       "      <td>0</td>\n",
       "      <td>N</td>\n",
       "      <td>CRC</td>\n",
       "      <td>TRC</td>\n",
       "      <td>-122.380088</td>\n",
       "      <td>47.566489</td>\n",
       "    </tr>\n",
       "    <tr>\n",
       "      <th>1</th>\n",
       "      <td>1.266983e+06</td>\n",
       "      <td>260074.185342</td>\n",
       "      <td>2</td>\n",
       "      <td>509566</td>\n",
       "      <td>TRC-934</td>\n",
       "      <td>FREMONT AVE N AND N 102ND ST</td>\n",
       "      <td>GOOD</td>\n",
       "      <td>2009/09/09 00:00:00+00</td>\n",
       "      <td>INSVC</td>\n",
       "      <td>SDOT</td>\n",
       "      <td>DISTRICT5</td>\n",
       "      <td></td>\n",
       "      <td>16</td>\n",
       "      <td>2009/10/14 00:00:00+00</td>\n",
       "      <td>1996/01/02 00:00:00+00</td>\n",
       "      <td></td>\n",
       "      <td>37392</td>\n",
       "      <td>Y</td>\n",
       "      <td>SDOT</td>\n",
       "      <td>NaN</td>\n",
       "      <td></td>\n",
       "      <td>NaN</td>\n",
       "      <td>N</td>\n",
       "      <td>1970/01/01 00:00:00+00</td>\n",
       "      <td>N</td>\n",
       "      <td>N</td>\n",
       "      <td>0</td>\n",
       "      <td>N</td>\n",
       "      <td>CRC</td>\n",
       "      <td>TRC</td>\n",
       "      <td>-122.350050</td>\n",
       "      <td>47.702894</td>\n",
       "    </tr>\n",
       "  </tbody>\n",
       "</table>\n",
       "</div>"
      ],
      "text/plain": [
       "              X              Y  OBJECTID  COMPKEY   UNITID  \\\n",
       "0  1.258588e+06  210475.502412         1   509338  TRC-601   \n",
       "1  1.266983e+06  260074.185342         2   509566  TRC-934   \n",
       "\n",
       "                                                                                                                                                                                                                                                          UNITDESC  \\\n",
       "0  38TH AVE SW AND SW DAKOTA ST                                                                                                                                                                                                                                      \n",
       "1  FREMONT AVE N AND N 102ND ST                                                                                                                                                                                                                                      \n",
       "\n",
       "  CONDITION CONDITION_ASSESSMENT_DATE CURRENT_STATUS OWNERSHIP  \\\n",
       "0      GOOD    2009/09/15 00:00:00+00          INSVC      SDOT   \n",
       "1      GOOD    2009/09/09 00:00:00+00          INSVC      SDOT   \n",
       "\n",
       "  PRIMARYDISTRICTCD SECONDARYDISTRICTCD  COMPTYPE     CURRENT_STATUS_DATE  \\\n",
       "0         DISTRICT1                            16  2009/10/14 00:00:00+00   \n",
       "1         DISTRICT5                            16  2009/10/14 00:00:00+00   \n",
       "\n",
       "             INSTALL_DATE INSTALL_PURPOSE  INTKEY LANDSCAPING MAINTAINED_BY  \\\n",
       "0  2000/05/16 00:00:00+00                   31889           Y          SDOT   \n",
       "1  1996/01/02 00:00:00+00                   37392           Y          SDOT   \n",
       "\n",
       "   MAINTENANCE_AGREEMENT NO_LAND_REASON  OVERRIDECOMMENT OVERRIDEYN  \\\n",
       "0                    NaN                             NaN          N   \n",
       "1                    NaN                             NaN          N   \n",
       "\n",
       "           OWNERSHIP_DATE SDOT_INITIATED SEWER_ACCESS_COVER  TRCSIZE  \\\n",
       "0  1970/01/01 00:00:00+00              N                  N        0   \n",
       "1  1970/01/01 00:00:00+00              N                  N        0   \n",
       "\n",
       "  SURVEY_MONUMENT TRCSHAPE UNITTYPE   SHAPE_LNG  SHAPE_LAT  \n",
       "0               N      CRC      TRC -122.380088  47.566489  \n",
       "1               N      CRC      TRC -122.350050  47.702894  "
      ]
     },
     "execution_count": 7,
     "metadata": {},
     "output_type": "execute_result"
    }
   ],
   "source": [
    "circles.head(2)"
   ]
  },
  {
   "cell_type": "code",
   "execution_count": 8,
   "metadata": {},
   "outputs": [
    {
     "data": {
      "text/plain": [
       "array([31889, 37392, 24389, ..., 37927, 36735, 27847])"
      ]
     },
     "execution_count": 8,
     "metadata": {},
     "output_type": "execute_result"
    }
   ],
   "source": [
    "circles['INTKEY'].unique()"
   ]
  },
  {
   "cell_type": "code",
   "execution_count": 9,
   "metadata": {},
   "outputs": [],
   "source": [
    "# collisions that happened at a traffic circle, even small ones (confirmed on google maps): 1613\n",
    "# some traffic circles had more, so about 640 traffic circles make up the 1613 accidents\n",
    "\n",
    "circle_accidents = clean_data[clean_data['INTKEY'].isin(np.intersect1d(clean_data['INTKEY'].unique(), circles['INTKEY'].unique()))].copy()"
   ]
  },
  {
   "cell_type": "code",
   "execution_count": 10,
   "metadata": {},
   "outputs": [],
   "source": [
    "circle_accidents['collision'] = np.ones((circle_accidents.shape[0], 1))"
   ]
  },
  {
   "cell_type": "code",
   "execution_count": 11,
   "metadata": {},
   "outputs": [],
   "source": [
    "circle_acc = circle_accidents[['INTKEY', 'collision']].groupby('INTKEY').count().reset_index()"
   ]
  },
  {
   "cell_type": "code",
   "execution_count": 12,
   "metadata": {},
   "outputs": [],
   "source": [
    "circles_collisions = circles.merge(circle_acc, how='left', on='INTKEY')"
   ]
  },
  {
   "cell_type": "code",
   "execution_count": 13,
   "metadata": {},
   "outputs": [
    {
     "data": {
      "text/html": [
       "<div>\n",
       "<style scoped>\n",
       "    .dataframe tbody tr th:only-of-type {\n",
       "        vertical-align: middle;\n",
       "    }\n",
       "\n",
       "    .dataframe tbody tr th {\n",
       "        vertical-align: top;\n",
       "    }\n",
       "\n",
       "    .dataframe thead th {\n",
       "        text-align: right;\n",
       "    }\n",
       "</style>\n",
       "<table border=\"1\" class=\"dataframe\">\n",
       "  <thead>\n",
       "    <tr style=\"text-align: right;\">\n",
       "      <th></th>\n",
       "      <th>X</th>\n",
       "      <th>Y</th>\n",
       "      <th>OBJECTID</th>\n",
       "      <th>COMPKEY</th>\n",
       "      <th>UNITID</th>\n",
       "      <th>UNITDESC</th>\n",
       "      <th>CONDITION</th>\n",
       "      <th>CONDITION_ASSESSMENT_DATE</th>\n",
       "      <th>CURRENT_STATUS</th>\n",
       "      <th>OWNERSHIP</th>\n",
       "      <th>PRIMARYDISTRICTCD</th>\n",
       "      <th>SECONDARYDISTRICTCD</th>\n",
       "      <th>COMPTYPE</th>\n",
       "      <th>CURRENT_STATUS_DATE</th>\n",
       "      <th>INSTALL_DATE</th>\n",
       "      <th>INSTALL_PURPOSE</th>\n",
       "      <th>INTKEY</th>\n",
       "      <th>LANDSCAPING</th>\n",
       "      <th>MAINTAINED_BY</th>\n",
       "      <th>MAINTENANCE_AGREEMENT</th>\n",
       "      <th>NO_LAND_REASON</th>\n",
       "      <th>OVERRIDECOMMENT</th>\n",
       "      <th>OVERRIDEYN</th>\n",
       "      <th>OWNERSHIP_DATE</th>\n",
       "      <th>SDOT_INITIATED</th>\n",
       "      <th>SEWER_ACCESS_COVER</th>\n",
       "      <th>TRCSIZE</th>\n",
       "      <th>SURVEY_MONUMENT</th>\n",
       "      <th>TRCSHAPE</th>\n",
       "      <th>UNITTYPE</th>\n",
       "      <th>SHAPE_LNG</th>\n",
       "      <th>SHAPE_LAT</th>\n",
       "      <th>collision</th>\n",
       "    </tr>\n",
       "  </thead>\n",
       "  <tbody>\n",
       "    <tr>\n",
       "      <th>165</th>\n",
       "      <td>1.276636e+06</td>\n",
       "      <td>263925.690434</td>\n",
       "      <td>166</td>\n",
       "      <td>509817</td>\n",
       "      <td>TRC-203</td>\n",
       "      <td>16TH AVE NE AND NE 117TH ST</td>\n",
       "      <td>GOOD</td>\n",
       "      <td>2009/09/14 00:00:00+00</td>\n",
       "      <td>INSVC</td>\n",
       "      <td>SDOT</td>\n",
       "      <td>DISTRICT5</td>\n",
       "      <td></td>\n",
       "      <td>16</td>\n",
       "      <td>2009/10/14 00:00:00+00</td>\n",
       "      <td>1997/09/19 00:00:00+00</td>\n",
       "      <td></td>\n",
       "      <td>36723</td>\n",
       "      <td>N</td>\n",
       "      <td>SDOT</td>\n",
       "      <td>NaN</td>\n",
       "      <td></td>\n",
       "      <td>NaN</td>\n",
       "      <td>N</td>\n",
       "      <td>1970/01/01 00:00:00+00</td>\n",
       "      <td>N</td>\n",
       "      <td>N</td>\n",
       "      <td>0</td>\n",
       "      <td>N</td>\n",
       "      <td>CRC</td>\n",
       "      <td>TRC</td>\n",
       "      <td>-122.311155</td>\n",
       "      <td>47.713966</td>\n",
       "      <td>4.0</td>\n",
       "    </tr>\n",
       "    <tr>\n",
       "      <th>166</th>\n",
       "      <td>1.276636e+06</td>\n",
       "      <td>263925.690434</td>\n",
       "      <td>167</td>\n",
       "      <td>509818</td>\n",
       "      <td>TRC-202</td>\n",
       "      <td>16TH AVE NE AND NE 117TH ST</td>\n",
       "      <td>GOOD</td>\n",
       "      <td>2009/07/06 00:00:00+00</td>\n",
       "      <td>INSVC</td>\n",
       "      <td>SDOT</td>\n",
       "      <td>DISTRICT5</td>\n",
       "      <td></td>\n",
       "      <td>16</td>\n",
       "      <td>2009/10/14 00:00:00+00</td>\n",
       "      <td>1983/07/15 00:00:00+00</td>\n",
       "      <td></td>\n",
       "      <td>36723</td>\n",
       "      <td>Y</td>\n",
       "      <td>SDOT</td>\n",
       "      <td>NaN</td>\n",
       "      <td></td>\n",
       "      <td>NaN</td>\n",
       "      <td>N</td>\n",
       "      <td>1970/01/01 00:00:00+00</td>\n",
       "      <td>N</td>\n",
       "      <td>N</td>\n",
       "      <td>0</td>\n",
       "      <td>N</td>\n",
       "      <td>CRC</td>\n",
       "      <td>TRC</td>\n",
       "      <td>-122.311155</td>\n",
       "      <td>47.713966</td>\n",
       "      <td>4.0</td>\n",
       "    </tr>\n",
       "  </tbody>\n",
       "</table>\n",
       "</div>"
      ],
      "text/plain": [
       "                X              Y  OBJECTID  COMPKEY   UNITID  \\\n",
       "165  1.276636e+06  263925.690434       166   509817  TRC-203   \n",
       "166  1.276636e+06  263925.690434       167   509818  TRC-202   \n",
       "\n",
       "                                                                                                                                                                                                                                                            UNITDESC  \\\n",
       "165  16TH AVE NE AND NE 117TH ST                                                                                                                                                                                                                                       \n",
       "166  16TH AVE NE AND NE 117TH ST                                                                                                                                                                                                                                       \n",
       "\n",
       "    CONDITION CONDITION_ASSESSMENT_DATE CURRENT_STATUS OWNERSHIP  \\\n",
       "165      GOOD    2009/09/14 00:00:00+00          INSVC      SDOT   \n",
       "166      GOOD    2009/07/06 00:00:00+00          INSVC      SDOT   \n",
       "\n",
       "    PRIMARYDISTRICTCD SECONDARYDISTRICTCD  COMPTYPE     CURRENT_STATUS_DATE  \\\n",
       "165         DISTRICT5                            16  2009/10/14 00:00:00+00   \n",
       "166         DISTRICT5                            16  2009/10/14 00:00:00+00   \n",
       "\n",
       "               INSTALL_DATE INSTALL_PURPOSE  INTKEY LANDSCAPING MAINTAINED_BY  \\\n",
       "165  1997/09/19 00:00:00+00                   36723           N          SDOT   \n",
       "166  1983/07/15 00:00:00+00                   36723           Y          SDOT   \n",
       "\n",
       "     MAINTENANCE_AGREEMENT NO_LAND_REASON  OVERRIDECOMMENT OVERRIDEYN  \\\n",
       "165                    NaN                             NaN          N   \n",
       "166                    NaN                             NaN          N   \n",
       "\n",
       "             OWNERSHIP_DATE SDOT_INITIATED SEWER_ACCESS_COVER  TRCSIZE  \\\n",
       "165  1970/01/01 00:00:00+00              N                  N        0   \n",
       "166  1970/01/01 00:00:00+00              N                  N        0   \n",
       "\n",
       "    SURVEY_MONUMENT TRCSHAPE UNITTYPE   SHAPE_LNG  SHAPE_LAT  collision  \n",
       "165               N      CRC      TRC -122.311155  47.713966        4.0  \n",
       "166               N      CRC      TRC -122.311155  47.713966        4.0  "
      ]
     },
     "execution_count": 13,
     "metadata": {},
     "output_type": "execute_result"
    }
   ],
   "source": [
    "# found duplicates in the circles data\n",
    "# drop duplicates as it has no value\n",
    "circles_collisions[circles_collisions['INTKEY'] == 36723]"
   ]
  },
  {
   "cell_type": "code",
   "execution_count": 14,
   "metadata": {},
   "outputs": [],
   "source": [
    "circles_collisions.drop_duplicates(subset='INTKEY', inplace=True)\n",
    "circles_collisions.to_csv('../data/processed/circles_collisions.csv')"
   ]
  },
  {
   "cell_type": "code",
   "execution_count": 15,
   "metadata": {},
   "outputs": [
    {
     "name": "stdout",
     "output_type": "stream",
     "text": [
      "Percent of intersections with incidents:  56.16 %\n"
     ]
    }
   ],
   "source": [
    "# about 56.16% of traffic circles have had accidents within 2004-2020, 16 year periods\n",
    "\n",
    "print('Percent of intersections with incidents: ',\n",
    "      round((~circles_collisions['collision'].isnull()).sum() / (len(circles_collisions['collision']))*100 , 2),'%')"
   ]
  },
  {
   "cell_type": "markdown",
   "metadata": {},
   "source": [
    "## Intersections"
   ]
  },
  {
   "cell_type": "code",
   "execution_count": 16,
   "metadata": {},
   "outputs": [
    {
     "data": {
      "text/plain": [
       "Index(['X', 'Y', 'OBJECTID', 'INTR_ID', 'GIS_XCOORD', 'GIS_YCOORD', 'INTKEY',\n",
       "       'COMPTYPE', 'UNITID', 'SUBAREA', 'UNITDESC', 'ARTERIALCLASSCD',\n",
       "       'SIGNAL_MAINT_DIST', 'SIGNAL_TYPE', 'SHAPE_LNG', 'SHAPE_LAT'],\n",
       "      dtype='object')"
      ]
     },
     "execution_count": 16,
     "metadata": {},
     "output_type": "execute_result"
    }
   ],
   "source": [
    "# COMPKEY in Intersections is INTKEY\n",
    "\n",
    "intersections.rename(columns={'COMPKEY': 'INTKEY'}, inplace=True)\n",
    "intersections.columns"
   ]
  },
  {
   "cell_type": "code",
   "execution_count": 17,
   "metadata": {},
   "outputs": [
    {
     "data": {
      "text/html": [
       "<div>\n",
       "<style scoped>\n",
       "    .dataframe tbody tr th:only-of-type {\n",
       "        vertical-align: middle;\n",
       "    }\n",
       "\n",
       "    .dataframe tbody tr th {\n",
       "        vertical-align: top;\n",
       "    }\n",
       "\n",
       "    .dataframe thead th {\n",
       "        text-align: right;\n",
       "    }\n",
       "</style>\n",
       "<table border=\"1\" class=\"dataframe\">\n",
       "  <thead>\n",
       "    <tr style=\"text-align: right;\">\n",
       "      <th></th>\n",
       "      <th>X</th>\n",
       "      <th>Y</th>\n",
       "      <th>OBJECTID</th>\n",
       "      <th>INTR_ID</th>\n",
       "      <th>GIS_XCOORD</th>\n",
       "      <th>GIS_YCOORD</th>\n",
       "      <th>INTKEY</th>\n",
       "      <th>COMPTYPE</th>\n",
       "      <th>UNITID</th>\n",
       "      <th>SUBAREA</th>\n",
       "      <th>UNITDESC</th>\n",
       "      <th>ARTERIALCLASSCD</th>\n",
       "      <th>SIGNAL_MAINT_DIST</th>\n",
       "      <th>SIGNAL_TYPE</th>\n",
       "      <th>SHAPE_LNG</th>\n",
       "      <th>SHAPE_LAT</th>\n",
       "    </tr>\n",
       "  </thead>\n",
       "  <tbody>\n",
       "    <tr>\n",
       "      <th>45</th>\n",
       "      <td>1.258588e+06</td>\n",
       "      <td>210475.502411</td>\n",
       "      <td>46</td>\n",
       "      <td>14959</td>\n",
       "      <td>1.258588e+06</td>\n",
       "      <td>210475.50248</td>\n",
       "      <td>31889</td>\n",
       "      <td>13</td>\n",
       "      <td>54316</td>\n",
       "      <td>SW</td>\n",
       "      <td>38TH AVE SW AND SW DAKOTA ST</td>\n",
       "      <td>0.0</td>\n",
       "      <td></td>\n",
       "      <td>NONE</td>\n",
       "      <td>-122.380088</td>\n",
       "      <td>47.566489</td>\n",
       "    </tr>\n",
       "    <tr>\n",
       "      <th>46</th>\n",
       "      <td>1.266983e+06</td>\n",
       "      <td>260074.185342</td>\n",
       "      <td>47</td>\n",
       "      <td>3897</td>\n",
       "      <td>1.266983e+06</td>\n",
       "      <td>260074.18541</td>\n",
       "      <td>37392</td>\n",
       "      <td>13</td>\n",
       "      <td>232513</td>\n",
       "      <td>NW</td>\n",
       "      <td>FREMONT AVE N AND N 102ND ST</td>\n",
       "      <td>0.0</td>\n",
       "      <td></td>\n",
       "      <td>NONE</td>\n",
       "      <td>-122.350050</td>\n",
       "      <td>47.702894</td>\n",
       "    </tr>\n",
       "    <tr>\n",
       "      <th>54</th>\n",
       "      <td>1.274207e+06</td>\n",
       "      <td>254314.130296</td>\n",
       "      <td>55</td>\n",
       "      <td>5152</td>\n",
       "      <td>1.274207e+06</td>\n",
       "      <td>254314.13036</td>\n",
       "      <td>24389</td>\n",
       "      <td>13</td>\n",
       "      <td>5118</td>\n",
       "      <td>N</td>\n",
       "      <td>8TH AVE NE AND NE 81ST ST</td>\n",
       "      <td>0.0</td>\n",
       "      <td></td>\n",
       "      <td>NONE</td>\n",
       "      <td>-122.320263</td>\n",
       "      <td>47.687493</td>\n",
       "    </tr>\n",
       "    <tr>\n",
       "      <th>72</th>\n",
       "      <td>1.278437e+06</td>\n",
       "      <td>217535.101459</td>\n",
       "      <td>73</td>\n",
       "      <td>13277</td>\n",
       "      <td>1.278437e+06</td>\n",
       "      <td>217535.10159</td>\n",
       "      <td>31416</td>\n",
       "      <td>13</td>\n",
       "      <td>52122</td>\n",
       "      <td>SE</td>\n",
       "      <td>25TH AVE S AND S GRAND ST</td>\n",
       "      <td>0.0</td>\n",
       "      <td></td>\n",
       "      <td>NONE</td>\n",
       "      <td>-122.300247</td>\n",
       "      <td>47.586905</td>\n",
       "    </tr>\n",
       "    <tr>\n",
       "      <th>90</th>\n",
       "      <td>1.280848e+06</td>\n",
       "      <td>255438.451194</td>\n",
       "      <td>91</td>\n",
       "      <td>4898</td>\n",
       "      <td>1.280848e+06</td>\n",
       "      <td>255438.45113</td>\n",
       "      <td>37684</td>\n",
       "      <td>13</td>\n",
       "      <td>234350</td>\n",
       "      <td>NE</td>\n",
       "      <td>32ND AVE NE AND NE 86TH ST</td>\n",
       "      <td>0.0</td>\n",
       "      <td></td>\n",
       "      <td>NONE</td>\n",
       "      <td>-122.293392</td>\n",
       "      <td>47.690923</td>\n",
       "    </tr>\n",
       "  </tbody>\n",
       "</table>\n",
       "</div>"
      ],
      "text/plain": [
       "               X              Y  OBJECTID  INTR_ID    GIS_XCOORD  \\\n",
       "45  1.258588e+06  210475.502411        46    14959  1.258588e+06   \n",
       "46  1.266983e+06  260074.185342        47     3897  1.266983e+06   \n",
       "54  1.274207e+06  254314.130296        55     5152  1.274207e+06   \n",
       "72  1.278437e+06  217535.101459        73    13277  1.278437e+06   \n",
       "90  1.280848e+06  255438.451194        91     4898  1.280848e+06   \n",
       "\n",
       "      GIS_YCOORD  INTKEY  COMPTYPE  UNITID SUBAREA  \\\n",
       "45  210475.50248   31889        13   54316      SW   \n",
       "46  260074.18541   37392        13  232513      NW   \n",
       "54  254314.13036   24389        13    5118       N   \n",
       "72  217535.10159   31416        13   52122      SE   \n",
       "90  255438.45113   37684        13  234350      NE   \n",
       "\n",
       "                        UNITDESC  ARTERIALCLASSCD SIGNAL_MAINT_DIST  \\\n",
       "45  38TH AVE SW AND SW DAKOTA ST              0.0                     \n",
       "46  FREMONT AVE N AND N 102ND ST              0.0                     \n",
       "54     8TH AVE NE AND NE 81ST ST              0.0                     \n",
       "72     25TH AVE S AND S GRAND ST              0.0                     \n",
       "90    32ND AVE NE AND NE 86TH ST              0.0                     \n",
       "\n",
       "   SIGNAL_TYPE   SHAPE_LNG  SHAPE_LAT  \n",
       "45        NONE -122.380088  47.566489  \n",
       "46        NONE -122.350050  47.702894  \n",
       "54        NONE -122.320263  47.687493  \n",
       "72        NONE -122.300247  47.586905  \n",
       "90        NONE -122.293392  47.690923  "
      ]
     },
     "execution_count": 17,
     "metadata": {},
     "output_type": "execute_result"
    }
   ],
   "source": [
    "intersections[intersections['INTKEY'].isin(\n",
    "    np.intersect1d(intersections['INTKEY'].unique(), circles_collisions['INTKEY'].unique()))].head()"
   ]
  },
  {
   "cell_type": "markdown",
   "metadata": {},
   "source": [
    "#### merge intersections with collisions"
   ]
  },
  {
   "cell_type": "code",
   "execution_count": 18,
   "metadata": {},
   "outputs": [
    {
     "data": {
      "text/plain": [
       "7576"
      ]
     },
     "execution_count": 18,
     "metadata": {},
     "output_type": "execute_result"
    }
   ],
   "source": [
    "# Used to make sure number of rows are correct when merging\n",
    "\n",
    "len(np.intersect1d(intersections['INTKEY'].unique(), clean_data['INTKEY'].unique()))"
   ]
  },
  {
   "cell_type": "code",
   "execution_count": 19,
   "metadata": {},
   "outputs": [],
   "source": [
    "# Create dataframe with only intersections that are also in the collisions data\n",
    "\n",
    "intersections_accidents = clean_data[clean_data['INTKEY'].isin(intersections['INTKEY'])].copy()"
   ]
  },
  {
   "cell_type": "code",
   "execution_count": 20,
   "metadata": {},
   "outputs": [],
   "source": [
    "# Create new column indicating 1 as there was an accident\n",
    "\n",
    "intersections_accidents['collision'] = np.ones((intersections_accidents.shape[0], 1))"
   ]
  },
  {
   "cell_type": "code",
   "execution_count": 21,
   "metadata": {},
   "outputs": [],
   "source": [
    "# Group by the INTKEY and count number of collisions over the years\n",
    "\n",
    "int_acc = intersections_accidents[['INTKEY', 'collision']].groupby('INTKEY').count().reset_index()"
   ]
  },
  {
   "cell_type": "code",
   "execution_count": 22,
   "metadata": {},
   "outputs": [],
   "source": [
    "inter_collisions = intersections.merge(int_acc, how='left', on='INTKEY')\n",
    "inter_collisions.to_csv('../data/processed/inter_collisions.csv')"
   ]
  },
  {
   "cell_type": "code",
   "execution_count": 23,
   "metadata": {},
   "outputs": [
    {
     "data": {
      "text/plain": [
       "False"
      ]
     },
     "execution_count": 23,
     "metadata": {},
     "output_type": "execute_result"
    }
   ],
   "source": [
    "# Check for duplicates\n",
    "inter_collisions['INTKEY'].duplicated().any()"
   ]
  },
  {
   "cell_type": "code",
   "execution_count": 24,
   "metadata": {},
   "outputs": [
    {
     "name": "stdout",
     "output_type": "stream",
     "text": [
      "Percent of intersections (including traffic circles) with incidents:  49.06 %\n"
     ]
    }
   ],
   "source": [
    "# about 49% of intersections have had accidents within 2004-2020, 16 year periods\n",
    "# THIS STILL CONTAINS TRAFFIC CIRCLES\n",
    "\n",
    "print('Percent of intersections (including traffic circles) with incidents: ',\n",
    "      round((~inter_collisions['collision'].isnull()).sum() / (len(inter_collisions['collision']))*100 , 2),'%')"
   ]
  },
  {
   "cell_type": "code",
   "execution_count": 25,
   "metadata": {},
   "outputs": [],
   "source": [
    "inter_no_circles = inter_collisions[~(inter_collisions['INTKEY'].isin(circles_collisions['INTKEY']))]"
   ]
  },
  {
   "cell_type": "code",
   "execution_count": 26,
   "metadata": {},
   "outputs": [
    {
     "name": "stdout",
     "output_type": "stream",
     "text": [
      "Percent of intersections that are traffic circles:  6.84 %\n"
     ]
    }
   ],
   "source": [
    "# Traffic circles don't account for much of the intersections\n",
    "\n",
    "print('Percent of intersections that are traffic circles: ', \n",
    "     round((circles_collisions.shape[0] / inter_collisions.shape[0])*100, 2), '%'\n",
    "     )"
   ]
  },
  {
   "cell_type": "code",
   "execution_count": 27,
   "metadata": {},
   "outputs": [
    {
     "name": "stdout",
     "output_type": "stream",
     "text": [
      "Percent of intersections (excluding traffic circles) with incidents:  48.54 %\n"
     ]
    }
   ],
   "source": [
    "# about 49% of intersections (circles not included) have had accidents within 2004-2020, 16 year periods\n",
    "# NO TRAFFIC CIRCLES\n",
    "\n",
    "print('Percent of intersections (excluding traffic circles) with incidents: ',\n",
    "      round((~inter_no_circles['collision'].isnull()).sum() / (len(inter_no_circles['collision']))*100 , 2),'%')"
   ]
  },
  {
   "cell_type": "markdown",
   "metadata": {},
   "source": [
    "## Add traffic circles info to Collisions"
   ]
  },
  {
   "cell_type": "code",
   "execution_count": 28,
   "metadata": {},
   "outputs": [],
   "source": [
    "inter_collisions = pd.read_csv('../data/processed/inter_collisions.csv', index_col=0)\n",
    "circles_collisions = pd.read_csv('../data/processed/circles_collisions.csv', index_col=0)"
   ]
  },
  {
   "cell_type": "code",
   "execution_count": 29,
   "metadata": {},
   "outputs": [
    {
     "data": {
      "text/plain": [
       "Index(['X', 'Y', 'OBJECTID', 'INCKEY', 'ADDRTYPE', 'INTKEY', 'LOCATION',\n",
       "       'PERSONCOUNT', 'PEDCOUNT', 'PEDCYLCOUNT', 'VEHCOUNT', 'INJURIES',\n",
       "       'SERIOUSINJURIES', 'FATALITIES', 'INCDATE', 'JUNCTIONTYPE',\n",
       "       'SDOT_COLCODE', 'UNDERINFL', 'ST_COLCODE', 'CROSSWALKKEY', 'SPEEDING_Y',\n",
       "       'INATTENTIONIND_Y', 'HITPARKEDCAR_Y', 'PEDROWNOTGRNT_Y',\n",
       "       'WEATHER_Adverse', 'WEATHER_Good', 'WEATHER_Unknown',\n",
       "       'ROADCOND_Adverse', 'ROADCOND_Dry', 'ROADCOND_Unknown',\n",
       "       'LIGHTCOND_Dark', 'LIGHTCOND_Daylight', 'LIGHTCOND_Unknown',\n",
       "       'LIGHTCOND_VeryDark', 'SEVERITYCODE_Injury',\n",
       "       'SEVERITYCODE_PropertyDamage', 'SEVERITYCODE_Unknown'],\n",
       "      dtype='object')"
      ]
     },
     "execution_count": 29,
     "metadata": {},
     "output_type": "execute_result"
    }
   ],
   "source": [
    "clean_data.columns"
   ]
  },
  {
   "cell_type": "code",
   "execution_count": 30,
   "metadata": {},
   "outputs": [
    {
     "data": {
      "text/plain": [
       "593"
      ]
     },
     "execution_count": 30,
     "metadata": {},
     "output_type": "execute_result"
    }
   ],
   "source": [
    "# There are 593 distinct traffic circles in the collision data\n",
    "\n",
    "len(np.intersect1d(clean_data['INTKEY'], circles_collisions['INTKEY']))"
   ]
  },
  {
   "cell_type": "code",
   "execution_count": 31,
   "metadata": {},
   "outputs": [],
   "source": [
    "tf_circles = np.intersect1d(clean_data['INTKEY'], circles_collisions['INTKEY'])\n",
    "\n",
    "clean_data.loc[clean_data['INTKEY'].isin(tf_circles), 'ADDRTYPE'] = 'Circle'"
   ]
  },
  {
   "cell_type": "code",
   "execution_count": 32,
   "metadata": {},
   "outputs": [
    {
     "data": {
      "text/plain": [
       "Block           126091\n",
       "Intersection     64185\n",
       "NaN               1824\n",
       "Circle            1449\n",
       "Alley              755\n",
       "Name: ADDRTYPE, dtype: int64"
      ]
     },
     "execution_count": 32,
     "metadata": {},
     "output_type": "execute_result"
    }
   ],
   "source": [
    "# All the rows with missing ADDRTYPE also have missing GIS coordinates and INTKEY.\n",
    "# Drop these NaN rows since there is no way to identify the street/intersection\n",
    "\n",
    "clean_data['ADDRTYPE'].value_counts(dropna=False)"
   ]
  },
  {
   "cell_type": "code",
   "execution_count": 33,
   "metadata": {},
   "outputs": [],
   "source": [
    "clean_data.dropna(subset=['ADDRTYPE'], axis=0, inplace=True)"
   ]
  },
  {
   "cell_type": "code",
   "execution_count": 34,
   "metadata": {},
   "outputs": [
    {
     "data": {
      "text/plain": [
       "Alley    755\n",
       "Name: ADDRTYPE, dtype: int64"
      ]
     },
     "execution_count": 34,
     "metadata": {},
     "output_type": "execute_result"
    }
   ],
   "source": [
    "# All locations missing values are in alleys\n",
    "\n",
    "clean_data[clean_data['LOCATION'].isnull()]['ADDRTYPE'].value_counts(dropna=False)"
   ]
  },
  {
   "cell_type": "code",
   "execution_count": 35,
   "metadata": {},
   "outputs": [],
   "source": [
    "# Fill missing locations as alley\n",
    "\n",
    "clean_data['LOCATION'].fillna('Alley', inplace=True)"
   ]
  },
  {
   "cell_type": "code",
   "execution_count": 36,
   "metadata": {},
   "outputs": [
    {
     "data": {
      "text/plain": [
       "Index(['X', 'Y', 'OBJECTID', 'INCKEY', 'ADDRTYPE', 'INTKEY', 'LOCATION',\n",
       "       'PERSONCOUNT', 'PEDCOUNT', 'PEDCYLCOUNT', 'VEHCOUNT', 'INJURIES',\n",
       "       'SERIOUSINJURIES', 'FATALITIES', 'INCDATE', 'JUNCTIONTYPE',\n",
       "       'SDOT_COLCODE', 'UNDERINFL', 'ST_COLCODE', 'CROSSWALKKEY', 'SPEEDING_Y',\n",
       "       'INATTENTIONIND_Y', 'HITPARKEDCAR_Y', 'PEDROWNOTGRNT_Y',\n",
       "       'WEATHER_Adverse', 'WEATHER_Good', 'WEATHER_Unknown',\n",
       "       'ROADCOND_Adverse', 'ROADCOND_Dry', 'ROADCOND_Unknown',\n",
       "       'LIGHTCOND_Dark', 'LIGHTCOND_Daylight', 'LIGHTCOND_Unknown',\n",
       "       'LIGHTCOND_VeryDark', 'SEVERITYCODE_Injury',\n",
       "       'SEVERITYCODE_PropertyDamage', 'SEVERITYCODE_Unknown'],\n",
       "      dtype='object')"
      ]
     },
     "execution_count": 36,
     "metadata": {},
     "output_type": "execute_result"
    }
   ],
   "source": [
    "clean_data.columns"
   ]
  },
  {
   "cell_type": "code",
   "execution_count": 37,
   "metadata": {},
   "outputs": [],
   "source": [
    "inter_collisions.fillna('0', inplace=True)"
   ]
  },
  {
   "cell_type": "code",
   "execution_count": 38,
   "metadata": {},
   "outputs": [],
   "source": [
    "inter_collisions['collision'] = inter_collisions['collision'].astype(int)"
   ]
  },
  {
   "cell_type": "code",
   "execution_count": 39,
   "metadata": {},
   "outputs": [
    {
     "data": {
      "text/plain": [
       "1      2092\n",
       "2      1169\n",
       "3       709\n",
       "4       527\n",
       "5       374\n",
       "6       302\n",
       "7       229\n",
       "       ... \n",
       "113       1\n",
       "105       1\n",
       "93        1\n",
       "81        1\n",
       "136       1\n",
       "116       1\n",
       "117       1\n",
       "Name: collision, Length: 111, dtype: int64"
      ]
     },
     "execution_count": 39,
     "metadata": {},
     "output_type": "execute_result"
    }
   ],
   "source": [
    "inter_collisions[inter_collisions['collision'] != 0]['collision'].value_counts()"
   ]
  },
  {
   "cell_type": "code",
   "execution_count": null,
   "metadata": {},
   "outputs": [],
   "source": []
  }
 ],
 "metadata": {
  "kernelspec": {
   "display_name": "Python 3.7.0 64-bit ('anaconda3': virtualenv)",
   "language": "python",
   "name": "python37064bitanaconda3virtualenvdc59f3b7c1d64353bf7dcc6d7e32f36c"
  },
  "language_info": {
   "codemirror_mode": {
    "name": "ipython",
    "version": 3
   },
   "file_extension": ".py",
   "mimetype": "text/x-python",
   "name": "python",
   "nbconvert_exporter": "python",
   "pygments_lexer": "ipython3",
   "version": "3.7.0"
  }
 },
 "nbformat": 4,
 "nbformat_minor": 2
}
