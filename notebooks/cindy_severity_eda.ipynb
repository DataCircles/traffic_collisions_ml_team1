{
 "cells": [
  {
   "cell_type": "code",
   "execution_count": 1,
   "metadata": {},
   "outputs": [],
   "source": [
    "# Import Modules\n",
    "import numpy as np\n",
    "import pandas as pd\n",
    "import seaborn as sns\n",
    "import matplotlib.pyplot as plt\n",
    "\n",
    "#modeling tools\n",
    "import statsmodels.api as sm\n",
    "\n",
    "import lightgbm as lgb\n",
    "\n",
    "from sklearn.tree import DecisionTreeRegressor, DecisionTreeClassifier\n",
    "from sklearn.ensemble import GradientBoostingClassifier, RandomForestClassifier, RandomForestRegressor\n",
    "from sklearn.metrics import mean_squared_error, confusion_matrix, auc, roc_auc_score, roc_curve, log_loss, make_scorer\n",
    "from sklearn.model_selection import cross_val_score, train_test_split, GridSearchCV\n",
    "\n",
    "%matplotlib inline\n",
    "plt.style.use('ggplot')\n",
    "\n",
    "%load_ext autoreload\n",
    "%autoreload 2\n",
    "\n",
    "# pd.set_option('display.min_row', 25)\n",
    "pd.set_option('display.max_column', 100)\n",
    "pd.set_option('display.max_colwidth', 300)"
   ]
  },
  {
   "cell_type": "code",
   "execution_count": 2,
   "metadata": {},
   "outputs": [],
   "source": [
    "blocks = pd.read_csv('../data/processed/blocks_sev_score.csv', index_col=0)\n",
    "intersections = pd.read_csv('../data/processed/intersections_sev_score.csv', index_col=0)\n",
    "circles = pd.read_csv('../data/processed/circles_sev_score.csv', index_col=0)\n",
    "crosswalks = pd.read_csv('../data/processed/crosswalks_sev_score.csv', index_col=0)"
   ]
  },
  {
   "cell_type": "markdown",
   "metadata": {},
   "source": [
    "## Blocks"
   ]
  },
  {
   "cell_type": "code",
   "execution_count": 3,
   "metadata": {},
   "outputs": [
    {
     "data": {
      "text/html": [
       "<div>\n",
       "<style scoped>\n",
       "    .dataframe tbody tr th:only-of-type {\n",
       "        vertical-align: middle;\n",
       "    }\n",
       "\n",
       "    .dataframe tbody tr th {\n",
       "        vertical-align: top;\n",
       "    }\n",
       "\n",
       "    .dataframe thead th {\n",
       "        text-align: right;\n",
       "    }\n",
       "</style>\n",
       "<table border=\"1\" class=\"dataframe\">\n",
       "  <thead>\n",
       "    <tr style=\"text-align: right;\">\n",
       "      <th></th>\n",
       "      <th>location</th>\n",
       "      <th>artdescript</th>\n",
       "      <th>speedlimit</th>\n",
       "      <th>segdir</th>\n",
       "      <th>oneway</th>\n",
       "      <th>surfacetype_1</th>\n",
       "      <th>nationhwysys</th>\n",
       "      <th>streettype</th>\n",
       "      <th>tranclass</th>\n",
       "      <th>trandescript</th>\n",
       "      <th>slope_pct</th>\n",
       "      <th>parkboulevard</th>\n",
       "      <th>year</th>\n",
       "      <th>count</th>\n",
       "      <th>total fatalities</th>\n",
       "      <th>total serious injuries</th>\n",
       "      <th>total evident injuries</th>\n",
       "      <th>total possible injuries</th>\n",
       "      <th>total vehicles</th>\n",
       "      <th>total pedestrians involved</th>\n",
       "      <th>total bicyclists involved</th>\n",
       "      <th>weigh_fatalities</th>\n",
       "      <th>weigh_serious</th>\n",
       "      <th>weigh_evident</th>\n",
       "      <th>weigh_possible</th>\n",
       "      <th>sev_score</th>\n",
       "    </tr>\n",
       "  </thead>\n",
       "  <tbody>\n",
       "    <tr>\n",
       "      <th>0</th>\n",
       "      <td>1ST AVE BETWEEN SENECA ST AND UNIVERSITY ST</td>\n",
       "      <td>Minor Arterial</td>\n",
       "      <td>25.0</td>\n",
       "      <td>NW</td>\n",
       "      <td>N</td>\n",
       "      <td>PCC</td>\n",
       "      <td>N</td>\n",
       "      <td>Downtown Neighborhood</td>\n",
       "      <td>1</td>\n",
       "      <td>PRINCIPAL TRANSIT ROUTE</td>\n",
       "      <td>4.0</td>\n",
       "      <td>N</td>\n",
       "      <td>2004.0</td>\n",
       "      <td>1.0</td>\n",
       "      <td>0.0</td>\n",
       "      <td>0.0</td>\n",
       "      <td>0.0</td>\n",
       "      <td>0.0</td>\n",
       "      <td>0.0</td>\n",
       "      <td>0.0</td>\n",
       "      <td>0.0</td>\n",
       "      <td>0.0</td>\n",
       "      <td>0.0</td>\n",
       "      <td>0.0</td>\n",
       "      <td>0.0</td>\n",
       "      <td>0.000004</td>\n",
       "    </tr>\n",
       "    <tr>\n",
       "      <th>1</th>\n",
       "      <td>1ST AVE BETWEEN SENECA ST AND UNIVERSITY ST</td>\n",
       "      <td>Minor Arterial</td>\n",
       "      <td>25.0</td>\n",
       "      <td>NW</td>\n",
       "      <td>N</td>\n",
       "      <td>PCC</td>\n",
       "      <td>N</td>\n",
       "      <td>Downtown Neighborhood</td>\n",
       "      <td>1</td>\n",
       "      <td>PRINCIPAL TRANSIT ROUTE</td>\n",
       "      <td>4.0</td>\n",
       "      <td>N</td>\n",
       "      <td>2005.0</td>\n",
       "      <td>2.0</td>\n",
       "      <td>0.0</td>\n",
       "      <td>0.0</td>\n",
       "      <td>0.0</td>\n",
       "      <td>1.0</td>\n",
       "      <td>5.0</td>\n",
       "      <td>0.0</td>\n",
       "      <td>0.0</td>\n",
       "      <td>0.0</td>\n",
       "      <td>0.0</td>\n",
       "      <td>0.0</td>\n",
       "      <td>2.0</td>\n",
       "      <td>0.000018</td>\n",
       "    </tr>\n",
       "    <tr>\n",
       "      <th>2</th>\n",
       "      <td>1ST AVE BETWEEN SENECA ST AND UNIVERSITY ST</td>\n",
       "      <td>Minor Arterial</td>\n",
       "      <td>25.0</td>\n",
       "      <td>NW</td>\n",
       "      <td>N</td>\n",
       "      <td>PCC</td>\n",
       "      <td>N</td>\n",
       "      <td>Downtown Neighborhood</td>\n",
       "      <td>1</td>\n",
       "      <td>PRINCIPAL TRANSIT ROUTE</td>\n",
       "      <td>4.0</td>\n",
       "      <td>N</td>\n",
       "      <td>2006.0</td>\n",
       "      <td>3.0</td>\n",
       "      <td>0.0</td>\n",
       "      <td>0.0</td>\n",
       "      <td>0.0</td>\n",
       "      <td>0.0</td>\n",
       "      <td>2.0</td>\n",
       "      <td>0.0</td>\n",
       "      <td>0.0</td>\n",
       "      <td>0.0</td>\n",
       "      <td>0.0</td>\n",
       "      <td>0.0</td>\n",
       "      <td>0.0</td>\n",
       "      <td>0.000013</td>\n",
       "    </tr>\n",
       "    <tr>\n",
       "      <th>3</th>\n",
       "      <td>1ST AVE BETWEEN SENECA ST AND UNIVERSITY ST</td>\n",
       "      <td>Minor Arterial</td>\n",
       "      <td>25.0</td>\n",
       "      <td>NW</td>\n",
       "      <td>N</td>\n",
       "      <td>PCC</td>\n",
       "      <td>N</td>\n",
       "      <td>Downtown Neighborhood</td>\n",
       "      <td>1</td>\n",
       "      <td>PRINCIPAL TRANSIT ROUTE</td>\n",
       "      <td>4.0</td>\n",
       "      <td>N</td>\n",
       "      <td>2007.0</td>\n",
       "      <td>4.0</td>\n",
       "      <td>0.0</td>\n",
       "      <td>0.0</td>\n",
       "      <td>0.0</td>\n",
       "      <td>0.0</td>\n",
       "      <td>7.0</td>\n",
       "      <td>0.0</td>\n",
       "      <td>0.0</td>\n",
       "      <td>0.0</td>\n",
       "      <td>0.0</td>\n",
       "      <td>0.0</td>\n",
       "      <td>0.0</td>\n",
       "      <td>0.000018</td>\n",
       "    </tr>\n",
       "    <tr>\n",
       "      <th>4</th>\n",
       "      <td>1ST AVE BETWEEN SENECA ST AND UNIVERSITY ST</td>\n",
       "      <td>Minor Arterial</td>\n",
       "      <td>25.0</td>\n",
       "      <td>NW</td>\n",
       "      <td>N</td>\n",
       "      <td>PCC</td>\n",
       "      <td>N</td>\n",
       "      <td>Downtown Neighborhood</td>\n",
       "      <td>1</td>\n",
       "      <td>PRINCIPAL TRANSIT ROUTE</td>\n",
       "      <td>4.0</td>\n",
       "      <td>N</td>\n",
       "      <td>2008.0</td>\n",
       "      <td>3.0</td>\n",
       "      <td>0.0</td>\n",
       "      <td>0.0</td>\n",
       "      <td>0.0</td>\n",
       "      <td>0.0</td>\n",
       "      <td>7.0</td>\n",
       "      <td>0.0</td>\n",
       "      <td>0.0</td>\n",
       "      <td>0.0</td>\n",
       "      <td>0.0</td>\n",
       "      <td>0.0</td>\n",
       "      <td>0.0</td>\n",
       "      <td>0.000013</td>\n",
       "    </tr>\n",
       "  </tbody>\n",
       "</table>\n",
       "</div>"
      ],
      "text/plain": [
       "                                      location     artdescript  speedlimit  \\\n",
       "0  1ST AVE BETWEEN SENECA ST AND UNIVERSITY ST  Minor Arterial        25.0   \n",
       "1  1ST AVE BETWEEN SENECA ST AND UNIVERSITY ST  Minor Arterial        25.0   \n",
       "2  1ST AVE BETWEEN SENECA ST AND UNIVERSITY ST  Minor Arterial        25.0   \n",
       "3  1ST AVE BETWEEN SENECA ST AND UNIVERSITY ST  Minor Arterial        25.0   \n",
       "4  1ST AVE BETWEEN SENECA ST AND UNIVERSITY ST  Minor Arterial        25.0   \n",
       "\n",
       "  segdir oneway surfacetype_1 nationhwysys             streettype  tranclass  \\\n",
       "0     NW      N           PCC            N  Downtown Neighborhood          1   \n",
       "1     NW      N           PCC            N  Downtown Neighborhood          1   \n",
       "2     NW      N           PCC            N  Downtown Neighborhood          1   \n",
       "3     NW      N           PCC            N  Downtown Neighborhood          1   \n",
       "4     NW      N           PCC            N  Downtown Neighborhood          1   \n",
       "\n",
       "              trandescript  slope_pct parkboulevard    year  count  \\\n",
       "0  PRINCIPAL TRANSIT ROUTE        4.0             N  2004.0    1.0   \n",
       "1  PRINCIPAL TRANSIT ROUTE        4.0             N  2005.0    2.0   \n",
       "2  PRINCIPAL TRANSIT ROUTE        4.0             N  2006.0    3.0   \n",
       "3  PRINCIPAL TRANSIT ROUTE        4.0             N  2007.0    4.0   \n",
       "4  PRINCIPAL TRANSIT ROUTE        4.0             N  2008.0    3.0   \n",
       "\n",
       "   total fatalities  total serious injuries  total evident injuries  \\\n",
       "0               0.0                     0.0                     0.0   \n",
       "1               0.0                     0.0                     0.0   \n",
       "2               0.0                     0.0                     0.0   \n",
       "3               0.0                     0.0                     0.0   \n",
       "4               0.0                     0.0                     0.0   \n",
       "\n",
       "   total possible injuries  total vehicles  total pedestrians involved  \\\n",
       "0                      0.0             0.0                         0.0   \n",
       "1                      1.0             5.0                         0.0   \n",
       "2                      0.0             2.0                         0.0   \n",
       "3                      0.0             7.0                         0.0   \n",
       "4                      0.0             7.0                         0.0   \n",
       "\n",
       "   total bicyclists involved  weigh_fatalities  weigh_serious  weigh_evident  \\\n",
       "0                        0.0               0.0            0.0            0.0   \n",
       "1                        0.0               0.0            0.0            0.0   \n",
       "2                        0.0               0.0            0.0            0.0   \n",
       "3                        0.0               0.0            0.0            0.0   \n",
       "4                        0.0               0.0            0.0            0.0   \n",
       "\n",
       "   weigh_possible  sev_score  \n",
       "0             0.0   0.000004  \n",
       "1             2.0   0.000018  \n",
       "2             0.0   0.000013  \n",
       "3             0.0   0.000018  \n",
       "4             0.0   0.000013  "
      ]
     },
     "execution_count": 3,
     "metadata": {},
     "output_type": "execute_result"
    }
   ],
   "source": [
    "blocks.head()"
   ]
  },
  {
   "cell_type": "code",
   "execution_count": 4,
   "metadata": {},
   "outputs": [
    {
     "name": "stdout",
     "output_type": "stream",
     "text": [
      "<class 'pandas.core.frame.DataFrame'>\n",
      "Int64Index: 87248 entries, 0 to 87247\n",
      "Data columns (total 26 columns):\n",
      " #   Column                      Non-Null Count  Dtype  \n",
      "---  ------                      --------------  -----  \n",
      " 0   location                    87248 non-null  object \n",
      " 1   artdescript                 87248 non-null  object \n",
      " 2   speedlimit                  87248 non-null  float64\n",
      " 3   segdir                      87248 non-null  object \n",
      " 4   oneway                      87248 non-null  object \n",
      " 5   surfacetype_1               87248 non-null  object \n",
      " 6   nationhwysys                87248 non-null  object \n",
      " 7   streettype                  87248 non-null  object \n",
      " 8   tranclass                   87248 non-null  int64  \n",
      " 9   trandescript                87248 non-null  object \n",
      " 10  slope_pct                   87248 non-null  float64\n",
      " 11  parkboulevard               87248 non-null  object \n",
      " 12  year                        87248 non-null  float64\n",
      " 13  count                       87248 non-null  float64\n",
      " 14  total fatalities            87248 non-null  float64\n",
      " 15  total serious injuries      87248 non-null  float64\n",
      " 16  total evident injuries      87248 non-null  float64\n",
      " 17  total possible injuries     87248 non-null  float64\n",
      " 18  total vehicles              87248 non-null  float64\n",
      " 19  total pedestrians involved  87248 non-null  float64\n",
      " 20  total bicyclists involved   87248 non-null  float64\n",
      " 21  weigh_fatalities            87248 non-null  float64\n",
      " 22  weigh_serious               87248 non-null  float64\n",
      " 23  weigh_evident               87248 non-null  float64\n",
      " 24  weigh_possible              87248 non-null  float64\n",
      " 25  sev_score                   87248 non-null  float64\n",
      "dtypes: float64(16), int64(1), object(9)\n",
      "memory usage: 18.0+ MB\n"
     ]
    }
   ],
   "source": [
    "# check datatype\n",
    "blocks.info()"
   ]
  },
  {
   "cell_type": "code",
   "execution_count": 5,
   "metadata": {},
   "outputs": [
    {
     "data": {
      "text/plain": [
       "Index(['location', 'artdescript', 'speedlimit', 'segdir', 'oneway',\n",
       "       'surfacetype_1', 'nationhwysys', 'streettype', 'tranclass',\n",
       "       'trandescript', 'slope_pct', 'parkboulevard', 'year', 'count',\n",
       "       'total fatalities', 'total serious injuries', 'total evident injuries',\n",
       "       'total possible injuries', 'total vehicles',\n",
       "       'total pedestrians involved', 'total bicyclists involved',\n",
       "       'weigh_fatalities', 'weigh_serious', 'weigh_evident', 'weigh_possible',\n",
       "       'sev_score'],\n",
       "      dtype='object')"
      ]
     },
     "execution_count": 5,
     "metadata": {},
     "output_type": "execute_result"
    }
   ],
   "source": [
    "blocks.columns"
   ]
  },
  {
   "cell_type": "code",
   "execution_count": 6,
   "metadata": {},
   "outputs": [],
   "source": [
    "blocks = blocks.groupby(['location', 'artdescript', 'speedlimit', 'segdir', 'oneway',\n",
    "       'surfacetype_1', 'nationhwysys', 'streettype', 'tranclass',\n",
    "       'trandescript', 'slope_pct', 'parkboulevard']).sum().drop(columns='year').reset_index()"
   ]
  },
  {
   "cell_type": "code",
   "execution_count": 7,
   "metadata": {},
   "outputs": [],
   "source": [
    "b_top10 = blocks.sort_values(by='count', ascending=False)[:10]"
   ]
  },
  {
   "cell_type": "code",
   "execution_count": 8,
   "metadata": {},
   "outputs": [],
   "source": [
    "b_lowest = blocks.sort_values(by='count')[:10]"
   ]
  },
  {
   "cell_type": "markdown",
   "metadata": {},
   "source": [
    "The top 10 blocks with the most count of collisions are all Principal Arterials"
   ]
  },
  {
   "cell_type": "code",
   "execution_count": 9,
   "metadata": {},
   "outputs": [
    {
     "data": {
      "text/plain": [
       "3.8"
      ]
     },
     "execution_count": 9,
     "metadata": {},
     "output_type": "execute_result"
    }
   ],
   "source": [
    "b_lowest['slope_pct'].mean()"
   ]
  },
  {
   "cell_type": "code",
   "execution_count": 10,
   "metadata": {},
   "outputs": [
    {
     "data": {
      "text/plain": [
       "1.4"
      ]
     },
     "execution_count": 10,
     "metadata": {},
     "output_type": "execute_result"
    }
   ],
   "source": [
    "b_top10['slope_pct'].mean()"
   ]
  },
  {
   "cell_type": "code",
   "execution_count": 11,
   "metadata": {},
   "outputs": [
    {
     "data": {
      "text/plain": [
       "13788        Urban Village Main\n",
       "8034         Urban Village Main\n",
       "8038         Urban Village Main\n",
       "17427        Urban Village Main\n",
       "23294    Urban Center Connector\n",
       "8105         Urban Village Main\n",
       "1505      Downtown Neighborhood\n",
       "17460        Urban Village Main\n",
       "15731        Urban Village Main\n",
       "17433        Urban Village Main\n",
       "Name: streettype, dtype: object"
      ]
     },
     "execution_count": 11,
     "metadata": {},
     "output_type": "execute_result"
    }
   ],
   "source": [
    "b_top10['streettype']"
   ]
  },
  {
   "cell_type": "code",
   "execution_count": 12,
   "metadata": {},
   "outputs": [
    {
     "data": {
      "text/plain": [
       "23618    Urban Village Neighborhood Access\n",
       "18833            Neighborhood Yield Street\n",
       "18835    Urban Village Neighborhood Access\n",
       "18837            Neighborhood Yield Street\n",
       "18840              Minor Industrial Access\n",
       "7765                Urban Center Connector\n",
       "7762                Urban Center Connector\n",
       "7760                     Industrial Access\n",
       "18843            Neighborhood Yield Street\n",
       "7758                     Industrial Access\n",
       "Name: streettype, dtype: object"
      ]
     },
     "execution_count": 12,
     "metadata": {},
     "output_type": "execute_result"
    }
   ],
   "source": [
    "b_lowest['streettype']"
   ]
  },
  {
   "cell_type": "code",
   "execution_count": 13,
   "metadata": {},
   "outputs": [
    {
     "name": "stdout",
     "output_type": "stream",
     "text": [
      "13788                                N NORTHGATE WAY BETWEEN MERIDIAN AVE N AND CORLISS AVE N\n",
      "8034                                           AURORA AVE N BETWEEN N 117TH PL AND N 125TH ST\n",
      "8038                                           AURORA AVE N BETWEEN N 130TH ST AND N 135TH ST\n",
      "17427                                   RAINIER AVE S BETWEEN S BAYVIEW ST AND S MCCLELLAN ST\n",
      "23294    WEST SEATTLE BR EB BETWEEN ALASKAN WY VI NB ON RP AND DELRIDGE-W SEATTLE BR EB ON RP\n",
      "8105                                               AURORA BR BETWEEN RAYE ST AND BRIDGE WAY N\n",
      "1505                                                 1ST AVE BETWEEN BLANCHARD ST AND BELL ST\n",
      "17460                                RAINIER AVE S BETWEEN S HENDERSON ST AND S DIRECTOR N ST\n",
      "15731                                      NE NORTHGATE WAY BETWEEN 3RD AVE NE AND 5TH AVE NE\n",
      "17433                                 RAINIER AVE S BETWEEN S CHARLESTOWN ST AND S ANDOVER ST\n",
      "Name: location, dtype: object\n"
     ]
    }
   ],
   "source": [
    "print(b_top10['location'])"
   ]
  },
  {
   "cell_type": "code",
   "execution_count": 59,
   "metadata": {},
   "outputs": [
    {
     "data": {
      "image/png": "[encoded data removed]",
      "text/plain": [
       "<Figure size 1080x576 with 2 Axes>"
      ]
     },
     "metadata": {
      "needs_background": "light"
     },
     "output_type": "display_data"
    }
   ],
   "source": [
    "fig, axes = plt.subplots(1,2,figsize=(15,8))\n",
    "\n",
    "sns.countplot(blocks[blocks['collisions'] == 0]['artdescript'], ax=axes[0])\n",
    "axes[0].set_title('Blocks Road Type: No collisions', fontsize=20)\n",
    "axes[0].set_ylabel('Number of Blocks', fontsize=15)\n",
    "axes[0].set_xlabel('Arterial Description', fontsize=15)\n",
    "axes[0].set_xticklabels(axes[0].get_xticklabels(), rotation=45, fontsize=12);\n",
    "\n",
    "sns.countplot(blocks[blocks['collisions'] != 0]['artdescript'], ax=axes[1])\n",
    "axes[1].set_title('Blocks Road Type: Collisions', fontsize=20)\n",
    "axes[1].set_ylabel('Number of Blocks', fontsize=15)\n",
    "axes[1].set_xlabel('Arterial Description', fontsize=15)\n",
    "axes[1].set_xticklabels(axes[1].get_xticklabels(), rotation=45, fontsize=12);\n",
    "\n",
    "# plt.savefig('../reports/figures/blocks_artdescript.png')"
   ]
  },
  {
   "cell_type": "code",
   "execution_count": 26,
   "metadata": {},
   "outputs": [
    {
     "data": {
      "text/plain": [
       "Not Designated         16821\n",
       "Minor Arterial          2452\n",
       "Principal Arterial      2179\n",
       "Collector Arterial      1874\n",
       "Interstate/Freeway       262\n",
       "State Route/Freeway       30\n",
       "County Arterial            1\n",
       "Name: artdescript, dtype: int64"
      ]
     },
     "execution_count": 26,
     "metadata": {},
     "output_type": "execute_result"
    }
   ],
   "source": [
    "blocks['artdescript'].value_counts()"
   ]
  },
  {
   "cell_type": "code",
   "execution_count": 14,
   "metadata": {},
   "outputs": [
    {
     "data": {
      "text/plain": [
       "Index(['location', 'artdescript', 'speedlimit', 'segdir', 'oneway',\n",
       "       'surfacetype_1', 'nationhwysys', 'streettype', 'tranclass',\n",
       "       'trandescript', 'slope_pct', 'parkboulevard', 'count',\n",
       "       'total fatalities', 'total serious injuries', 'total evident injuries',\n",
       "       'total possible injuries', 'total vehicles',\n",
       "       'total pedestrians involved', 'total bicyclists involved',\n",
       "       'weigh_fatalities', 'weigh_serious', 'weigh_evident', 'weigh_possible',\n",
       "       'sev_score'],\n",
       "      dtype='object')"
      ]
     },
     "execution_count": 14,
     "metadata": {},
     "output_type": "execute_result"
    }
   ],
   "source": [
    "b_top10.columns"
   ]
  },
  {
   "cell_type": "code",
   "execution_count": 15,
   "metadata": {},
   "outputs": [],
   "source": [
    "blocks['collisions'] = (blocks['sev_score'] > 0).astype(int)"
   ]
  },
  {
   "cell_type": "code",
   "execution_count": 17,
   "metadata": {},
   "outputs": [
    {
     "data": {
      "image/png": "[encoded data removed]",
      "text/plain": [
       "<Figure size 1440x360 with 1 Axes>"
      ]
     },
     "metadata": {
      "needs_background": "light"
     },
     "output_type": "display_data"
    }
   ],
   "source": [
    "fig, ax = plt.subplots(figsize=(20,5))\n",
    "\n",
    "sns.countplot(blocks[blocks['slope_pct'] < 18]['slope_pct'], hue=blocks['collisions'])\n",
    "ax.set_title('Blocks: Collision Slope vs Non-collision Slope',  fontsize=20, color='black');\n",
    "ax.set_ylabel('Number of Blocks', fontsize=15)\n",
    "ax.set_xlabel('Slope Percentage',  fontsize=15)\n",
    "ax.legend(labels=[0,1], title='Collisions', fontsize=10)\n",
    "\n",
    "# plt.savefig('../reports/figures/blocks_slope.png')"
   ]
  },
  {
   "cell_type": "code",
   "execution_count": 21,
   "metadata": {},
   "outputs": [
    {
     "data": {
      "text/plain": [
       "23619"
      ]
     },
     "execution_count": 21,
     "metadata": {},
     "output_type": "execute_result"
    }
   ],
   "source": [
    "len(blocks)"
   ]
  },
  {
   "cell_type": "code",
   "execution_count": 24,
   "metadata": {},
   "outputs": [
    {
     "data": {
      "text/plain": [
       "0.8657436809348406"
      ]
     },
     "execution_count": 24,
     "metadata": {},
     "output_type": "execute_result"
    }
   ],
   "source": [
    "(blocks['speedlimit'] < 30).sum() / len(blocks)"
   ]
  },
  {
   "cell_type": "code",
   "execution_count": 18,
   "metadata": {},
   "outputs": [
    {
     "data": {
      "image/png": "[encoded data removed]",
      "text/plain": [
       "<Figure size 720x360 with 1 Axes>"
      ]
     },
     "metadata": {
      "needs_background": "light"
     },
     "output_type": "display_data"
    }
   ],
   "source": [
    "fig, ax = plt.subplots(figsize=(10,5))\n",
    "\n",
    "ax = sns.barplot(blocks[blocks['speedlimit'] > 0]['speedlimit'].value_counts().index, blocks[blocks['speedlimit'] > 0]['speedlimit'].value_counts().values)\n",
    "ax.set_title('Blocks Speed Limit', fontsize=20, color='black')\n",
    "ax.set_ylabel('Number of Blocks', fontsize=15)\n",
    "ax.set_xlabel('Speed Limit', fontsize=15);\n",
    "\n",
    "# plt.savefig('../reports/figures/blocks_splimit.png')"
   ]
  },
  {
   "cell_type": "code",
   "execution_count": null,
   "metadata": {},
   "outputs": [],
   "source": [
    "fig, ax = plt.subplots(figsize=(20,5))\n",
    "\n",
    "sns.countplot(blocks[blocks['speedlimit'] < 50][''], hue=blocks['collisions'])\n",
    "ax.set_title('Blocks Speed Limit: Collision vs Non-collision',  fontsize=20, color='black');\n",
    "ax.set_ylabel('Number of Blocks', fontsize=15)\n",
    "ax.set_xlabel('Speed Limit',  fontsize=15)\n",
    "ax.legend(labels=[0,1], title='Collisions', fontsize=10)\n",
    "\n",
    "# plt.savefig('../reports/figures/blocks_slope.png')"
   ]
  },
  {
   "cell_type": "code",
   "execution_count": null,
   "metadata": {},
   "outputs": [],
   "source": [
    "# about 72.5% of blocks have had a collision over the 16 year period\n",
    "\n",
    "(blocks['collisions'] != 0).sum() / len(blocks['collisions'])"
   ]
  },
  {
   "cell_type": "code",
   "execution_count": null,
   "metadata": {},
   "outputs": [],
   "source": [
    "fig, ax = plt.subplots(figsize=(15,5))\n",
    "\n",
    "sns.countplot(blocks[blocks['year'] != 0]['year']);"
   ]
  },
  {
   "cell_type": "markdown",
   "metadata": {},
   "source": [
    "## Blocks with and without collisions"
   ]
  },
  {
   "cell_type": "code",
   "execution_count": null,
   "metadata": {},
   "outputs": [],
   "source": [
    "b_nocol = blocks[blocks['sev_score'] == 0].drop(columns='year').groupby(['location', 'speedlimit', 'slope_pct', 'tranclass']).sum().reset_index()\n",
    "b_yescol = blocks[blocks['sev_score'] != 0].drop(columns='year').groupby(['location', 'speedlimit', 'slope_pct', 'tranclass']).sum().reset_index()"
   ]
  },
  {
   "cell_type": "markdown",
   "metadata": {},
   "source": [
    "#### No Collision Blocks"
   ]
  },
  {
   "cell_type": "code",
   "execution_count": null,
   "metadata": {},
   "outputs": [],
   "source": [
    "b_nocol.describe()"
   ]
  },
  {
   "cell_type": "code",
   "execution_count": null,
   "metadata": {},
   "outputs": [],
   "source": [
    "print('Average speedlimit for blocks with no incidents: ', b_nocol['speedlimit'].mean())\n",
    "print('Average slope percent for blocks with no incidents: ', b_nocol['slope_pct'].mean())"
   ]
  },
  {
   "cell_type": "markdown",
   "metadata": {},
   "source": [
    "#### Collision Blocks"
   ]
  },
  {
   "cell_type": "code",
   "execution_count": null,
   "metadata": {},
   "outputs": [],
   "source": [
    "print('Average speedlimit for blocks with incidents: ', b_yescol['speedlimit'].mean())\n",
    "print('Average slope percent for blocks with incidents: ', b_yescol['slope_pct'].mean())"
   ]
  },
  {
   "cell_type": "code",
   "execution_count": null,
   "metadata": {},
   "outputs": [],
   "source": [
    "b_yescol.describe()"
   ]
  },
  {
   "cell_type": "markdown",
   "metadata": {},
   "source": [
    "#### Plot both"
   ]
  },
  {
   "cell_type": "code",
   "execution_count": null,
   "metadata": {},
   "outputs": [],
   "source": [
    "((b_nocol['slope_pct'].value_counts() / len(b_nocol['slope_pct'])*100).sort_index()).plot(kind='line')"
   ]
  },
  {
   "cell_type": "code",
   "execution_count": null,
   "metadata": {},
   "outputs": [],
   "source": [
    "((b_yescol['slope_pct'].value_counts() / len(b_yescol['slope_pct'])*100).sort_index()).plot(kind='line')"
   ]
  },
  {
   "cell_type": "code",
   "execution_count": null,
   "metadata": {},
   "outputs": [],
   "source": [
    "(b_yescol['slope_pct'].value_counts() / len(b_yescol['slope_pct'])*100).sort_index()"
   ]
  },
  {
   "cell_type": "code",
   "execution_count": null,
   "metadata": {},
   "outputs": [],
   "source": [
    "b_yescol['slope_pct'].mean()"
   ]
  },
  {
   "cell_type": "code",
   "execution_count": null,
   "metadata": {},
   "outputs": [],
   "source": [
    "fig, axes = plt.subplots(1,2,figsize=(25,5))\n",
    "\n",
    "sns.countplot(b_nocol['slope_pct'], ax=axes[0], label='No collisions');\n",
    "sns.countplot(b_yescol['slope_pct'], ax=axes[1], label='collisions');\n",
    "axes[0].legend();\n",
    "axes[1].legend();"
   ]
  },
  {
   "cell_type": "code",
   "execution_count": null,
   "metadata": {},
   "outputs": [],
   "source": [
    "fig, axes = plt.subplots(1,2,figsize=(25,5))\n",
    "\n",
    "sns.countplot(b_nocol['speedlimit'], ax=axes[0], label='No collisions');\n",
    "sns.countplot(b_yescol['speedlimit'], ax=axes[1], label='collisions');\n",
    "axes[0].legend();\n",
    "axes[1].legend();"
   ]
  },
  {
   "cell_type": "code",
   "execution_count": null,
   "metadata": {},
   "outputs": [],
   "source": []
  },
  {
   "cell_type": "markdown",
   "metadata": {},
   "source": [
    "## Intersections"
   ]
  },
  {
   "cell_type": "code",
   "execution_count": null,
   "metadata": {},
   "outputs": [],
   "source": [
    "# about 84% of intersections have had a collision over the 16 year period\n",
    "\n",
    "(intersections['year'] != 0).sum() / len(intersections['year'])"
   ]
  },
  {
   "cell_type": "code",
   "execution_count": null,
   "metadata": {},
   "outputs": [],
   "source": [
    "fig, ax = plt.subplots(figsize=(15,5))\n",
    "\n",
    "sns.countplot(intersections['count']);"
   ]
  },
  {
   "cell_type": "code",
   "execution_count": null,
   "metadata": {},
   "outputs": [],
   "source": [
    "fig, ax = plt.subplots(figsize=(15,5))\n",
    "\n",
    "sns.countplot(intersections[intersections['year'] != 0]['year']);"
   ]
  },
  {
   "cell_type": "markdown",
   "metadata": {},
   "source": [
    "## Circles"
   ]
  },
  {
   "cell_type": "code",
   "execution_count": null,
   "metadata": {},
   "outputs": [],
   "source": [
    "fig, ax = plt.subplots(figsize=(15,5))\n",
    "\n",
    "sns.countplot(circles['count']);"
   ]
  },
  {
   "cell_type": "code",
   "execution_count": null,
   "metadata": {},
   "outputs": [],
   "source": [
    "fig, ax = plt.subplots(figsize=(15,5))\n",
    "\n",
    "sns.countplot(circles[circles['year'] != 0]['year']);"
   ]
  },
  {
   "cell_type": "code",
   "execution_count": null,
   "metadata": {},
   "outputs": [],
   "source": [
    "# about 77% of circles have had a collision over the 16 year period\n",
    "\n",
    "(circles['year'] != 0).sum() / len(circles['year'])"
   ]
  },
  {
   "cell_type": "markdown",
   "metadata": {},
   "source": [
    "## Crosswalks"
   ]
  },
  {
   "cell_type": "code",
   "execution_count": 62,
   "metadata": {},
   "outputs": [
    {
     "data": {
      "text/html": [
       "<div>\n",
       "<style scoped>\n",
       "    .dataframe tbody tr th:only-of-type {\n",
       "        vertical-align: middle;\n",
       "    }\n",
       "\n",
       "    .dataframe tbody tr th {\n",
       "        vertical-align: top;\n",
       "    }\n",
       "\n",
       "    .dataframe thead th {\n",
       "        text-align: right;\n",
       "    }\n",
       "</style>\n",
       "<table border=\"1\" class=\"dataframe\">\n",
       "  <thead>\n",
       "    <tr style=\"text-align: right;\">\n",
       "      <th></th>\n",
       "      <th>crosswalkkey</th>\n",
       "      <th>unitdesc</th>\n",
       "      <th>condition</th>\n",
       "      <th>primarydistrictcd</th>\n",
       "      <th>approach</th>\n",
       "      <th>marking_type</th>\n",
       "      <th>school</th>\n",
       "      <th>midblock_crosswalk</th>\n",
       "      <th>color</th>\n",
       "      <th>maint_district</th>\n",
       "      <th>shape_lng</th>\n",
       "      <th>shape_lat</th>\n",
       "      <th>crosswalk_control</th>\n",
       "      <th>onstreet</th>\n",
       "      <th>xstrlow</th>\n",
       "      <th>xstrhi</th>\n",
       "      <th>intkey</th>\n",
       "      <th>inattentionind_y</th>\n",
       "      <th>year</th>\n",
       "      <th>count</th>\n",
       "      <th>total fatalities</th>\n",
       "      <th>total serious injuries</th>\n",
       "      <th>total evident injuries</th>\n",
       "      <th>total possible injuries</th>\n",
       "      <th>total vehicles</th>\n",
       "      <th>total pedestrians involved</th>\n",
       "      <th>total bicyclists involved</th>\n",
       "      <th>weigh_fatalities</th>\n",
       "      <th>weigh_serious</th>\n",
       "      <th>weigh_evident</th>\n",
       "      <th>weigh_possible</th>\n",
       "      <th>sev_score</th>\n",
       "    </tr>\n",
       "  </thead>\n",
       "  <tbody>\n",
       "    <tr>\n",
       "      <th>0</th>\n",
       "      <td>522399</td>\n",
       "      <td>ALASKAN WAY 0060 BLOCK C SIDE (  35) 35 FT NW/O YESLER WAY</td>\n",
       "      <td>GOOD</td>\n",
       "      <td>DISTRICT7</td>\n",
       "      <td>NW</td>\n",
       "      <td>LADER</td>\n",
       "      <td>N</td>\n",
       "      <td>N</td>\n",
       "      <td>WHT</td>\n",
       "      <td>CENTRAL</td>\n",
       "      <td>-122.336656</td>\n",
       "      <td>47.601800</td>\n",
       "      <td></td>\n",
       "      <td>ALASKAN WAY</td>\n",
       "      <td>YESLER WAY</td>\n",
       "      <td>COLUMBIA ST</td>\n",
       "      <td>0.0</td>\n",
       "      <td>0.0</td>\n",
       "      <td>0.0</td>\n",
       "      <td>0.0</td>\n",
       "      <td>0.0</td>\n",
       "      <td>0.0</td>\n",
       "      <td>0.0</td>\n",
       "      <td>0.0</td>\n",
       "      <td>0.0</td>\n",
       "      <td>0.0</td>\n",
       "      <td>0.0</td>\n",
       "      <td>0.0</td>\n",
       "      <td>0.0</td>\n",
       "      <td>0.0</td>\n",
       "      <td>0.0</td>\n",
       "      <td>0.0</td>\n",
       "    </tr>\n",
       "    <tr>\n",
       "      <th>1</th>\n",
       "      <td>525064</td>\n",
       "      <td>S HOLLY ST 0440 BLOCK C SIDE ( 385) 20 FT W/O 45TH AVE S</td>\n",
       "      <td>GOOD</td>\n",
       "      <td>DISTRICT2</td>\n",
       "      <td>W</td>\n",
       "      <td>LADER</td>\n",
       "      <td>Y</td>\n",
       "      <td>N</td>\n",
       "      <td>WHT</td>\n",
       "      <td>SOUTH</td>\n",
       "      <td>-122.276553</td>\n",
       "      <td>47.542459</td>\n",
       "      <td></td>\n",
       "      <td>S HOLLY ST</td>\n",
       "      <td>44TH AVE S</td>\n",
       "      <td>45TH AVE S</td>\n",
       "      <td>0.0</td>\n",
       "      <td>0.0</td>\n",
       "      <td>0.0</td>\n",
       "      <td>0.0</td>\n",
       "      <td>0.0</td>\n",
       "      <td>0.0</td>\n",
       "      <td>0.0</td>\n",
       "      <td>0.0</td>\n",
       "      <td>0.0</td>\n",
       "      <td>0.0</td>\n",
       "      <td>0.0</td>\n",
       "      <td>0.0</td>\n",
       "      <td>0.0</td>\n",
       "      <td>0.0</td>\n",
       "      <td>0.0</td>\n",
       "      <td>0.0</td>\n",
       "    </tr>\n",
       "    <tr>\n",
       "      <th>2</th>\n",
       "      <td>523429</td>\n",
       "      <td>STONE WAY N 0390 BLOCK C SIDE ( 115) 115 FT N/O N 39TH ST</td>\n",
       "      <td>GOOD</td>\n",
       "      <td>DISTRICT4</td>\n",
       "      <td>S</td>\n",
       "      <td>LADER</td>\n",
       "      <td>N</td>\n",
       "      <td>N</td>\n",
       "      <td>WHT</td>\n",
       "      <td>NORTH</td>\n",
       "      <td>-122.342486</td>\n",
       "      <td>47.654435</td>\n",
       "      <td>SIGNAL</td>\n",
       "      <td>STONE WAY N</td>\n",
       "      <td>N 39TH ST</td>\n",
       "      <td>BRIDGE WAY N</td>\n",
       "      <td>0.0</td>\n",
       "      <td>0.0</td>\n",
       "      <td>0.0</td>\n",
       "      <td>0.0</td>\n",
       "      <td>0.0</td>\n",
       "      <td>0.0</td>\n",
       "      <td>0.0</td>\n",
       "      <td>0.0</td>\n",
       "      <td>0.0</td>\n",
       "      <td>0.0</td>\n",
       "      <td>0.0</td>\n",
       "      <td>0.0</td>\n",
       "      <td>0.0</td>\n",
       "      <td>0.0</td>\n",
       "      <td>0.0</td>\n",
       "      <td>0.0</td>\n",
       "    </tr>\n",
       "    <tr>\n",
       "      <th>3</th>\n",
       "      <td>521447</td>\n",
       "      <td>35TH AVE SW 0390 BLOCK C SIDE (  18) 18 FT S/O SW ANDOVER N ST</td>\n",
       "      <td>GOOD</td>\n",
       "      <td>DISTRICT1</td>\n",
       "      <td>S</td>\n",
       "      <td>LADER</td>\n",
       "      <td>Y</td>\n",
       "      <td>N</td>\n",
       "      <td>WHT</td>\n",
       "      <td>SOUTH</td>\n",
       "      <td>-122.376151</td>\n",
       "      <td>47.568308</td>\n",
       "      <td></td>\n",
       "      <td>35TH AVE SW</td>\n",
       "      <td>SW ANDOVER N ST</td>\n",
       "      <td>SW ANDOVER S ST</td>\n",
       "      <td>0.0</td>\n",
       "      <td>0.0</td>\n",
       "      <td>0.0</td>\n",
       "      <td>0.0</td>\n",
       "      <td>0.0</td>\n",
       "      <td>0.0</td>\n",
       "      <td>0.0</td>\n",
       "      <td>0.0</td>\n",
       "      <td>0.0</td>\n",
       "      <td>0.0</td>\n",
       "      <td>0.0</td>\n",
       "      <td>0.0</td>\n",
       "      <td>0.0</td>\n",
       "      <td>0.0</td>\n",
       "      <td>0.0</td>\n",
       "      <td>0.0</td>\n",
       "    </tr>\n",
       "    <tr>\n",
       "      <th>4</th>\n",
       "      <td>524665</td>\n",
       "      <td>NE 145TH ST 0200 BLOCK C SIDE (   5) 5 FT E/O 20TH AVE NE</td>\n",
       "      <td>GOOD</td>\n",
       "      <td>DISTRICT5</td>\n",
       "      <td>N</td>\n",
       "      <td>LADER</td>\n",
       "      <td>N</td>\n",
       "      <td>N</td>\n",
       "      <td>WHT</td>\n",
       "      <td>NORTH</td>\n",
       "      <td>-122.307324</td>\n",
       "      <td>47.733890</td>\n",
       "      <td></td>\n",
       "      <td>NE 145TH ST</td>\n",
       "      <td>20TH AVE NE</td>\n",
       "      <td>22ND AVE NE</td>\n",
       "      <td>0.0</td>\n",
       "      <td>0.0</td>\n",
       "      <td>0.0</td>\n",
       "      <td>0.0</td>\n",
       "      <td>0.0</td>\n",
       "      <td>0.0</td>\n",
       "      <td>0.0</td>\n",
       "      <td>0.0</td>\n",
       "      <td>0.0</td>\n",
       "      <td>0.0</td>\n",
       "      <td>0.0</td>\n",
       "      <td>0.0</td>\n",
       "      <td>0.0</td>\n",
       "      <td>0.0</td>\n",
       "      <td>0.0</td>\n",
       "      <td>0.0</td>\n",
       "    </tr>\n",
       "  </tbody>\n",
       "</table>\n",
       "</div>"
      ],
      "text/plain": [
       "   crosswalkkey  \\\n",
       "0        522399   \n",
       "1        525064   \n",
       "2        523429   \n",
       "3        521447   \n",
       "4        524665   \n",
       "\n",
       "                                                         unitdesc condition  \\\n",
       "0      ALASKAN WAY 0060 BLOCK C SIDE (  35) 35 FT NW/O YESLER WAY      GOOD   \n",
       "1        S HOLLY ST 0440 BLOCK C SIDE ( 385) 20 FT W/O 45TH AVE S      GOOD   \n",
       "2       STONE WAY N 0390 BLOCK C SIDE ( 115) 115 FT N/O N 39TH ST      GOOD   \n",
       "3  35TH AVE SW 0390 BLOCK C SIDE (  18) 18 FT S/O SW ANDOVER N ST      GOOD   \n",
       "4       NE 145TH ST 0200 BLOCK C SIDE (   5) 5 FT E/O 20TH AVE NE      GOOD   \n",
       "\n",
       "  primarydistrictcd approach marking_type school midblock_crosswalk color  \\\n",
       "0         DISTRICT7       NW        LADER      N                  N   WHT   \n",
       "1         DISTRICT2        W        LADER      Y                  N   WHT   \n",
       "2         DISTRICT4        S        LADER      N                  N   WHT   \n",
       "3         DISTRICT1        S        LADER      Y                  N   WHT   \n",
       "4         DISTRICT5        N        LADER      N                  N   WHT   \n",
       "\n",
       "  maint_district   shape_lng  shape_lat crosswalk_control     onstreet  \\\n",
       "0        CENTRAL -122.336656  47.601800                    ALASKAN WAY   \n",
       "1          SOUTH -122.276553  47.542459                     S HOLLY ST   \n",
       "2          NORTH -122.342486  47.654435            SIGNAL  STONE WAY N   \n",
       "3          SOUTH -122.376151  47.568308                    35TH AVE SW   \n",
       "4          NORTH -122.307324  47.733890                    NE 145TH ST   \n",
       "\n",
       "           xstrlow           xstrhi  intkey  inattentionind_y  year  count  \\\n",
       "0       YESLER WAY      COLUMBIA ST     0.0               0.0   0.0    0.0   \n",
       "1       44TH AVE S       45TH AVE S     0.0               0.0   0.0    0.0   \n",
       "2        N 39TH ST     BRIDGE WAY N     0.0               0.0   0.0    0.0   \n",
       "3  SW ANDOVER N ST  SW ANDOVER S ST     0.0               0.0   0.0    0.0   \n",
       "4      20TH AVE NE      22ND AVE NE     0.0               0.0   0.0    0.0   \n",
       "\n",
       "   total fatalities  total serious injuries  total evident injuries  \\\n",
       "0               0.0                     0.0                     0.0   \n",
       "1               0.0                     0.0                     0.0   \n",
       "2               0.0                     0.0                     0.0   \n",
       "3               0.0                     0.0                     0.0   \n",
       "4               0.0                     0.0                     0.0   \n",
       "\n",
       "   total possible injuries  total vehicles  total pedestrians involved  \\\n",
       "0                      0.0             0.0                         0.0   \n",
       "1                      0.0             0.0                         0.0   \n",
       "2                      0.0             0.0                         0.0   \n",
       "3                      0.0             0.0                         0.0   \n",
       "4                      0.0             0.0                         0.0   \n",
       "\n",
       "   total bicyclists involved  weigh_fatalities  weigh_serious  weigh_evident  \\\n",
       "0                        0.0               0.0            0.0            0.0   \n",
       "1                        0.0               0.0            0.0            0.0   \n",
       "2                        0.0               0.0            0.0            0.0   \n",
       "3                        0.0               0.0            0.0            0.0   \n",
       "4                        0.0               0.0            0.0            0.0   \n",
       "\n",
       "   weigh_possible  sev_score  \n",
       "0             0.0        0.0  \n",
       "1             0.0        0.0  \n",
       "2             0.0        0.0  \n",
       "3             0.0        0.0  \n",
       "4             0.0        0.0  "
      ]
     },
     "execution_count": 62,
     "metadata": {},
     "output_type": "execute_result"
    }
   ],
   "source": [
    "crosswalks.head()"
   ]
  },
  {
   "cell_type": "code",
   "execution_count": 63,
   "metadata": {},
   "outputs": [
    {
     "data": {
      "text/plain": [
       "Index(['crosswalkkey', 'unitdesc', 'condition', 'primarydistrictcd',\n",
       "       'approach', 'marking_type', 'school', 'midblock_crosswalk', 'color',\n",
       "       'maint_district', 'shape_lng', 'shape_lat', 'crosswalk_control',\n",
       "       'onstreet', 'xstrlow', 'xstrhi', 'intkey', 'inattentionind_y', 'year',\n",
       "       'count', 'total fatalities', 'total serious injuries',\n",
       "       'total evident injuries', 'total possible injuries', 'total vehicles',\n",
       "       'total pedestrians involved', 'total bicyclists involved',\n",
       "       'weigh_fatalities', 'weigh_serious', 'weigh_evident', 'weigh_possible',\n",
       "       'sev_score'],\n",
       "      dtype='object')"
      ]
     },
     "execution_count": 63,
     "metadata": {},
     "output_type": "execute_result"
    }
   ],
   "source": [
    "crosswalks.columns"
   ]
  },
  {
   "cell_type": "code",
   "execution_count": 64,
   "metadata": {},
   "outputs": [],
   "source": [
    "for x in ['school', 'midblock_crosswalk']:\n",
    "    crosswalks[x] = crosswalks[x].map({'Y':1, 'N':0})"
   ]
  },
  {
   "cell_type": "code",
   "execution_count": 65,
   "metadata": {},
   "outputs": [],
   "source": [
    "# majority of crosswalks in rows where condition is missing, in their same districts with same marking_type\n",
    "# all are mainly GOOD\n",
    "\n",
    "crosswalks['condition'] = crosswalks['condition'].apply(lambda x: 'GOOD' if x == ' ' else x)"
   ]
  },
  {
   "cell_type": "code",
   "execution_count": 66,
   "metadata": {},
   "outputs": [],
   "source": [
    "# missing crosswalk_control means there is no signal there\n",
    "\n",
    "crosswalks['crosswalk_control'] = crosswalks['crosswalk_control'].apply(lambda x: 'NONE' if x == ' ' else x)"
   ]
  },
  {
   "cell_type": "code",
   "execution_count": 67,
   "metadata": {},
   "outputs": [],
   "source": [
    "# all crosswalks, no matter district or marking_type or school zone, are predominately white\n",
    "crosswalks['color'] = crosswalks['color'].apply(lambda x: 'WHT' if x == ' ' else x)"
   ]
  },
  {
   "cell_type": "code",
   "execution_count": 71,
   "metadata": {},
   "outputs": [],
   "source": [
    "crosswalks = crosswalks.groupby(['crosswalkkey', 'unitdesc', 'condition', 'primarydistrictcd',\n",
    "       'approach', 'marking_type', 'school', 'midblock_crosswalk', 'color',\n",
    "       'maint_district', 'crosswalk_control', 'onstreet', 'xstrlow', 'xstrhi', 'intkey',\n",
    "        'inattentionind_y']).sum().reset_index()"
   ]
  },
  {
   "cell_type": "code",
   "execution_count": 72,
   "metadata": {},
   "outputs": [],
   "source": [
    "xw_top10 = crosswalks.sort_values(by='count', ascending=False)[:10]"
   ]
  },
  {
   "cell_type": "code",
   "execution_count": 77,
   "metadata": {},
   "outputs": [
    {
     "data": {
      "text/plain": [
       "9.0     3\n",
       "10.0    2\n",
       "0.0     2\n",
       "8.0     1\n",
       "3.0     1\n",
       "19.0    1\n",
       "Name: total pedestrians involved, dtype: int64"
      ]
     },
     "execution_count": 77,
     "metadata": {},
     "output_type": "execute_result"
    }
   ],
   "source": [
    "xw_top10['total pedestrians involved'].value_counts()"
   ]
  },
  {
   "cell_type": "code",
   "execution_count": 78,
   "metadata": {},
   "outputs": [
    {
     "data": {
      "text/plain": [
       "0.0     3945\n",
       "1.0     1040\n",
       "2.0      355\n",
       "3.0      168\n",
       "4.0       83\n",
       "5.0       40\n",
       "6.0       21\n",
       "8.0       12\n",
       "7.0       11\n",
       "9.0        5\n",
       "10.0       2\n",
       "19.0       1\n",
       "Name: total pedestrians involved, dtype: int64"
      ]
     },
     "execution_count": 78,
     "metadata": {},
     "output_type": "execute_result"
    }
   ],
   "source": [
    "crosswalks['total pedestrians involved'].value_counts()"
   ]
  },
  {
   "cell_type": "code",
   "execution_count": 80,
   "metadata": {},
   "outputs": [],
   "source": [
    "crosswalks['collisions'] = (crosswalks['sev_score'] > 0).astype(int)\n",
    "xw_yes = crosswalks[crosswalks['collisions'] > 0].copy()\n",
    "xw_no = crosswalks[crosswalks['collisions'] == 0].copy()"
   ]
  },
  {
   "cell_type": "code",
   "execution_count": 109,
   "metadata": {},
   "outputs": [
    {
     "data": {
      "text/plain": [
       "<matplotlib.axes._subplots.AxesSubplot at 0x123f8b898>"
      ]
     },
     "execution_count": 109,
     "metadata": {},
     "output_type": "execute_result"
    },
    {
     "data": {
      "image/png": "[encoded data removed]",
      "text/plain": [
       "<Figure size 432x288 with 1 Axes>"
      ]
     },
     "metadata": {
      "needs_background": "light"
     },
     "output_type": "display_data"
    }
   ],
   "source": [
    "fig, ax = plt.subplots(figsize=(10,5))\n",
    "\n",
    "sns.barplot(xw_yes['primarydistrictcd'].value_counts().index,xw_yes['primarydistrictcd'].value_counts().values)\n",
    "ax.set_title('Crosswalks Collisions: Involved Pedestrians', fontsize=20, color='black')\n",
    "ax.set_ylabel('Number of Blocks', fontsize=15)\n",
    "ax.set_xlabel('Pedestrians Involved', fontsize=15);\n",
    "axes[1].set_xticklabels(axes[1].get_xticklabels(), rotation=45, fontsize=12);"
   ]
  },
  {
   "cell_type": "code",
   "execution_count": 111,
   "metadata": {},
   "outputs": [
    {
     "data": {
      "image/png": "[encoded data removed]",
      "text/plain": [
       "<Figure size 1080x576 with 2 Axes>"
      ]
     },
     "metadata": {
      "needs_background": "light"
     },
     "output_type": "display_data"
    }
   ],
   "source": [
    "fig, axes = plt.subplots(1,2,figsize=(15,8))\n",
    "\n",
    "sns.barplot(xw_no['primarydistrictcd'].value_counts().index,xw_no['primarydistrictcd'].value_counts().values, ax=axes[0])\n",
    "axes[0].set_title('Crosswalks District: No Collisions', fontsize=20)\n",
    "axes[0].set_ylabel('Number of Crosswalks', fontsize=15)\n",
    "axes[0].set_xlabel('Primary District', fontsize=15)\n",
    "axes[0].set_xticklabels(axes[0].get_xticklabels(), rotation=45, fontsize=12);\n",
    "\n",
    "sns.barplot(xw_yes['primarydistrictcd'].value_counts().index,xw_yes['primarydistrictcd'].value_counts().values, axes[1])\n",
    "axes[1].set_title('Crosswalks District: Collisions', fontsize=20)\n",
    "axes[1].set_ylabel('Number of Crosswalks', fontsize=15)\n",
    "axes[1].set_xlabel('Primary District', fontsize=15)\n",
    "axes[1].set_xticklabels(axes[1].get_xticklabels(), rotation=45, fontsize=12);\n",
    "\n",
    "# plt.savefig('../reports/figures/blocks_artdescript.png')"
   ]
  },
  {
   "cell_type": "code",
   "execution_count": 116,
   "metadata": {},
   "outputs": [
    {
     "data": {
      "text/plain": [
       "0    2927\n",
       "1     690\n",
       "Name: school, dtype: int64"
      ]
     },
     "execution_count": 116,
     "metadata": {},
     "output_type": "execute_result"
    }
   ],
   "source": [
    "xw_no['school'].value_counts()"
   ]
  },
  {
   "cell_type": "code",
   "execution_count": 118,
   "metadata": {},
   "outputs": [
    {
     "data": {
      "text/plain": [
       "NONE        3527\n",
       "SIGNAL      1371\n",
       "STOPSIGN     704\n",
       "RFB-BCN       47\n",
       "FLSH-BCN      34\n",
       "Name: crosswalk_control, dtype: int64"
      ]
     },
     "execution_count": 118,
     "metadata": {},
     "output_type": "execute_result"
    }
   ],
   "source": [
    "crosswalks['crosswalk_control'].value_counts()"
   ]
  },
  {
   "cell_type": "code",
   "execution_count": 120,
   "metadata": {},
   "outputs": [
    {
     "data": {
      "image/png": "[encoded data removed]",
      "text/plain": [
       "<Figure size 1080x576 with 2 Axes>"
      ]
     },
     "metadata": {
      "needs_background": "light"
     },
     "output_type": "display_data"
    }
   ],
   "source": [
    "fig, axes = plt.subplots(1,2,figsize=(15,8))\n",
    "\n",
    "sns.countplot(crosswalks['crosswalk_control'],hue=crosswalks['collisions'], ax=axes[0])\n",
    "axes[0].set_title('Crosswalks District: No Collisions', fontsize=20)\n",
    "axes[0].set_ylabel('Number of Crosswalks', fontsize=15)\n",
    "axes[0].set_xlabel('Primary District', fontsize=15)\n",
    "axes[0].set_xticklabels(axes[0].get_xticklabels(), rotation=45, fontsize=12);\n",
    "\n",
    "# sns.barplot(xw_yes['primarydistrictcd'].value_counts().index,xw_yes['primarydistrictcd'].value_counts().values, ax=axes[1])\n",
    "# axes[1].set_title('Crosswalks District: Collisions', fontsize=20)\n",
    "# axes[1].set_ylabel('Number of Crosswalks', fontsize=15)\n",
    "# axes[1].set_xlabel('Primary District', fontsize=15)\n",
    "# axes[1].set_xticklabels(axes[1].get_xticklabels(), rotation=45, fontsize=12);\n",
    "\n",
    "# plt.savefig('../reports/figures/blocks_artdescript.png')"
   ]
  },
  {
   "cell_type": "code",
   "execution_count": 126,
   "metadata": {},
   "outputs": [
    {
     "data": {
      "image/png": "[encoded data removed]",
      "text/plain": [
       "<Figure size 1080x576 with 2 Axes>"
      ]
     },
     "metadata": {
      "needs_background": "light"
     },
     "output_type": "display_data"
    }
   ],
   "source": [
    "fig, axes = plt.subplots(1,2,figsize=(15,8))\n",
    "\n",
    "sns.countplot(xw_no['crosswalk_control'], ax=axes[0])\n",
    "axes[0].set_title('Crosswalks Control: No Collisions', fontsize=20)\n",
    "axes[0].set_ylabel('Number of Crosswalks', fontsize=15)\n",
    "axes[0].set_xlabel('Crosswalk Control Type', fontsize=15)\n",
    "axes[0].set_xticklabels(axes[0].get_xticklabels(), rotation=45, fontsize=12);\n",
    "\n",
    "sns.countplot(xw_yes['crosswalk_control'], ax=axes[1])\n",
    "axes[1].set_title('Crosswalks Control: Collisions', fontsize=20)\n",
    "axes[1].set_ylabel('Number of Crosswalks', fontsize=15)\n",
    "axes[1].set_xlabel('Crosswalk Control Type', fontsize=15)\n",
    "axes[1].set_xticklabels(axes[1].get_xticklabels(), rotation=45, fontsize=12);\n",
    "\n",
    "# plt.savefig('../reports/figures/blocks_artdescript.png')"
   ]
  },
  {
   "cell_type": "code",
   "execution_count": 127,
   "metadata": {},
   "outputs": [
    {
     "data": {
      "text/plain": [
       "NONE        1263\n",
       "SIGNAL       601\n",
       "STOPSIGN     168\n",
       "RFB-BCN       21\n",
       "FLSH-BCN      13\n",
       "Name: crosswalk_control, dtype: int64"
      ]
     },
     "execution_count": 127,
     "metadata": {},
     "output_type": "execute_result"
    }
   ],
   "source": [
    "xw_yes['crosswalk_control'].value_counts()"
   ]
  },
  {
   "cell_type": "code",
   "execution_count": 128,
   "metadata": {},
   "outputs": [
    {
     "data": {
      "text/plain": [
       "NONE        2264\n",
       "SIGNAL       770\n",
       "STOPSIGN     536\n",
       "RFB-BCN       26\n",
       "FLSH-BCN      21\n",
       "Name: crosswalk_control, dtype: int64"
      ]
     },
     "execution_count": 128,
     "metadata": {},
     "output_type": "execute_result"
    }
   ],
   "source": [
    "xw_no['crosswalk_control'].value_counts()"
   ]
  },
  {
   "cell_type": "code",
   "execution_count": null,
   "metadata": {},
   "outputs": [],
   "source": []
  },
  {
   "cell_type": "code",
   "execution_count": null,
   "metadata": {},
   "outputs": [],
   "source": []
  },
  {
   "cell_type": "code",
   "execution_count": 114,
   "metadata": {},
   "outputs": [
    {
     "data": {
      "text/plain": [
       "DISTRICT7    868\n",
       "DISTRICT2    717\n",
       "DISTRICT3    497\n",
       "DISTRICT4    464\n",
       "DISTRICT6    404\n",
       "DISTRICT1    392\n",
       "DISTRICT5    275\n",
       "Name: primarydistrictcd, dtype: int64"
      ]
     },
     "execution_count": 114,
     "metadata": {},
     "output_type": "execute_result"
    }
   ],
   "source": [
    "xw_no['primarydistrictcd'].value_counts()"
   ]
  },
  {
   "cell_type": "code",
   "execution_count": 136,
   "metadata": {},
   "outputs": [],
   "source": [
    "crosswalks['pedcyl_involved'] = ((crosswalks['total pedestrians involved'] > 0) | (crosswalks['total bicyclists involved'] > 0)).astype(int)"
   ]
  },
  {
   "cell_type": "code",
   "execution_count": 137,
   "metadata": {},
   "outputs": [
    {
     "data": {
      "text/html": [
       "<div>\n",
       "<style scoped>\n",
       "    .dataframe tbody tr th:only-of-type {\n",
       "        vertical-align: middle;\n",
       "    }\n",
       "\n",
       "    .dataframe tbody tr th {\n",
       "        vertical-align: top;\n",
       "    }\n",
       "\n",
       "    .dataframe thead th {\n",
       "        text-align: right;\n",
       "    }\n",
       "</style>\n",
       "<table border=\"1\" class=\"dataframe\">\n",
       "  <thead>\n",
       "    <tr style=\"text-align: right;\">\n",
       "      <th></th>\n",
       "      <th>crosswalkkey</th>\n",
       "      <th>unitdesc</th>\n",
       "      <th>condition</th>\n",
       "      <th>primarydistrictcd</th>\n",
       "      <th>approach</th>\n",
       "      <th>marking_type</th>\n",
       "      <th>school</th>\n",
       "      <th>midblock_crosswalk</th>\n",
       "      <th>color</th>\n",
       "      <th>maint_district</th>\n",
       "      <th>crosswalk_control</th>\n",
       "      <th>onstreet</th>\n",
       "      <th>xstrlow</th>\n",
       "      <th>xstrhi</th>\n",
       "      <th>intkey</th>\n",
       "      <th>inattentionind_y</th>\n",
       "      <th>shape_lng</th>\n",
       "      <th>shape_lat</th>\n",
       "      <th>year</th>\n",
       "      <th>count</th>\n",
       "      <th>total fatalities</th>\n",
       "      <th>total serious injuries</th>\n",
       "      <th>total evident injuries</th>\n",
       "      <th>total possible injuries</th>\n",
       "      <th>total vehicles</th>\n",
       "      <th>total pedestrians involved</th>\n",
       "      <th>total bicyclists involved</th>\n",
       "      <th>weigh_fatalities</th>\n",
       "      <th>weigh_serious</th>\n",
       "      <th>weigh_evident</th>\n",
       "      <th>weigh_possible</th>\n",
       "      <th>sev_score</th>\n",
       "      <th>collisions</th>\n",
       "      <th>pedcyl_involved</th>\n",
       "    </tr>\n",
       "  </thead>\n",
       "  <tbody>\n",
       "    <tr>\n",
       "      <th>0</th>\n",
       "      <td>511360</td>\n",
       "      <td>10TH AVE E 0090 BLOCK C SIDE ( 655) 17 FT S/O E PROSPECT ST</td>\n",
       "      <td>GOOD</td>\n",
       "      <td>DISTRICT3</td>\n",
       "      <td>S</td>\n",
       "      <td>LADER</td>\n",
       "      <td>0</td>\n",
       "      <td>0</td>\n",
       "      <td>WHT</td>\n",
       "      <td>CENTRAL</td>\n",
       "      <td>NONE</td>\n",
       "      <td>10TH AVE E</td>\n",
       "      <td>E ALOHA ST</td>\n",
       "      <td>E PROSPECT ST</td>\n",
       "      <td>0.0</td>\n",
       "      <td>0.0</td>\n",
       "      <td>-122.320213</td>\n",
       "      <td>47.628624</td>\n",
       "      <td>0.0</td>\n",
       "      <td>0.0</td>\n",
       "      <td>0.0</td>\n",
       "      <td>0.0</td>\n",
       "      <td>0.0</td>\n",
       "      <td>0.0</td>\n",
       "      <td>0.0</td>\n",
       "      <td>0.0</td>\n",
       "      <td>0.0</td>\n",
       "      <td>0.0</td>\n",
       "      <td>0.0</td>\n",
       "      <td>0.0</td>\n",
       "      <td>0.0</td>\n",
       "      <td>0.00000</td>\n",
       "      <td>0</td>\n",
       "      <td>0</td>\n",
       "    </tr>\n",
       "    <tr>\n",
       "      <th>1</th>\n",
       "      <td>520756</td>\n",
       "      <td>14TH AVE NW 0540 BLOCK C SIDE ( 234) 49 FT S/O NW MARKET ST</td>\n",
       "      <td>GOOD</td>\n",
       "      <td>DISTRICT6</td>\n",
       "      <td>S</td>\n",
       "      <td>LADER</td>\n",
       "      <td>0</td>\n",
       "      <td>0</td>\n",
       "      <td>WHT</td>\n",
       "      <td>NORTH</td>\n",
       "      <td>SIGNAL</td>\n",
       "      <td>14TH AVE NW</td>\n",
       "      <td>NW 54TH ST</td>\n",
       "      <td>NW MARKET ST</td>\n",
       "      <td>25423.0</td>\n",
       "      <td>1.0</td>\n",
       "      <td>-122.373589</td>\n",
       "      <td>47.668531</td>\n",
       "      <td>2010.0</td>\n",
       "      <td>1.0</td>\n",
       "      <td>0.0</td>\n",
       "      <td>0.0</td>\n",
       "      <td>1.0</td>\n",
       "      <td>0.0</td>\n",
       "      <td>1.0</td>\n",
       "      <td>0.0</td>\n",
       "      <td>1.0</td>\n",
       "      <td>0.0</td>\n",
       "      <td>0.0</td>\n",
       "      <td>3.0</td>\n",
       "      <td>0.0</td>\n",
       "      <td>0.00030</td>\n",
       "      <td>1</td>\n",
       "      <td>1</td>\n",
       "    </tr>\n",
       "    <tr>\n",
       "      <th>2</th>\n",
       "      <td>520757</td>\n",
       "      <td>14TH AVE NW 0550 BLOCK C SIDE (  40) 40 FT N/O NW MARKET ST</td>\n",
       "      <td>GOOD</td>\n",
       "      <td>DISTRICT6</td>\n",
       "      <td>N</td>\n",
       "      <td>LADER</td>\n",
       "      <td>0</td>\n",
       "      <td>0</td>\n",
       "      <td>WHT</td>\n",
       "      <td>NORTH</td>\n",
       "      <td>SIGNAL</td>\n",
       "      <td>14TH AVE NW</td>\n",
       "      <td>NW MARKET ST</td>\n",
       "      <td>NW 56TH ST</td>\n",
       "      <td>25423.0</td>\n",
       "      <td>0.0</td>\n",
       "      <td>-122.373588</td>\n",
       "      <td>47.668775</td>\n",
       "      <td>2008.0</td>\n",
       "      <td>1.0</td>\n",
       "      <td>0.0</td>\n",
       "      <td>0.0</td>\n",
       "      <td>1.0</td>\n",
       "      <td>0.0</td>\n",
       "      <td>1.0</td>\n",
       "      <td>0.0</td>\n",
       "      <td>1.0</td>\n",
       "      <td>0.0</td>\n",
       "      <td>0.0</td>\n",
       "      <td>3.0</td>\n",
       "      <td>0.0</td>\n",
       "      <td>0.00030</td>\n",
       "      <td>1</td>\n",
       "      <td>1</td>\n",
       "    </tr>\n",
       "    <tr>\n",
       "      <th>3</th>\n",
       "      <td>520758</td>\n",
       "      <td>14TH AVE NW 0580 BLOCK C SIDE (  24) 24 FT N/O NW 58TH ST</td>\n",
       "      <td>GOOD</td>\n",
       "      <td>DISTRICT6</td>\n",
       "      <td>N</td>\n",
       "      <td>LADER</td>\n",
       "      <td>1</td>\n",
       "      <td>0</td>\n",
       "      <td>WHT</td>\n",
       "      <td>NORTH</td>\n",
       "      <td>NONE</td>\n",
       "      <td>14TH AVE NW</td>\n",
       "      <td>NW 58TH ST</td>\n",
       "      <td>NW 59TH ST</td>\n",
       "      <td>25405.0</td>\n",
       "      <td>0.0</td>\n",
       "      <td>-122.373582</td>\n",
       "      <td>47.670965</td>\n",
       "      <td>2007.0</td>\n",
       "      <td>1.0</td>\n",
       "      <td>1.0</td>\n",
       "      <td>0.0</td>\n",
       "      <td>0.0</td>\n",
       "      <td>0.0</td>\n",
       "      <td>1.0</td>\n",
       "      <td>1.0</td>\n",
       "      <td>0.0</td>\n",
       "      <td>5.0</td>\n",
       "      <td>0.0</td>\n",
       "      <td>0.0</td>\n",
       "      <td>0.0</td>\n",
       "      <td>0.00045</td>\n",
       "      <td>1</td>\n",
       "      <td>1</td>\n",
       "    </tr>\n",
       "    <tr>\n",
       "      <th>4</th>\n",
       "      <td>520759</td>\n",
       "      <td>14TH AVE NW 0750 BLOCK C SIDE (  24) 24 FT N/O NW 75TH W ST</td>\n",
       "      <td>GOOD</td>\n",
       "      <td>DISTRICT6</td>\n",
       "      <td>N</td>\n",
       "      <td>LADER</td>\n",
       "      <td>1</td>\n",
       "      <td>0</td>\n",
       "      <td>WHT</td>\n",
       "      <td>NORTH</td>\n",
       "      <td>NONE</td>\n",
       "      <td>14TH AVE NW</td>\n",
       "      <td>NW 75TH W ST</td>\n",
       "      <td>NW 77TH ST</td>\n",
       "      <td>0.0</td>\n",
       "      <td>0.0</td>\n",
       "      <td>-122.374088</td>\n",
       "      <td>47.683311</td>\n",
       "      <td>0.0</td>\n",
       "      <td>0.0</td>\n",
       "      <td>0.0</td>\n",
       "      <td>0.0</td>\n",
       "      <td>0.0</td>\n",
       "      <td>0.0</td>\n",
       "      <td>0.0</td>\n",
       "      <td>0.0</td>\n",
       "      <td>0.0</td>\n",
       "      <td>0.0</td>\n",
       "      <td>0.0</td>\n",
       "      <td>0.0</td>\n",
       "      <td>0.0</td>\n",
       "      <td>0.00000</td>\n",
       "      <td>0</td>\n",
       "      <td>0</td>\n",
       "    </tr>\n",
       "    <tr>\n",
       "      <th>...</th>\n",
       "      <td>...</td>\n",
       "      <td>...</td>\n",
       "      <td>...</td>\n",
       "      <td>...</td>\n",
       "      <td>...</td>\n",
       "      <td>...</td>\n",
       "      <td>...</td>\n",
       "      <td>...</td>\n",
       "      <td>...</td>\n",
       "      <td>...</td>\n",
       "      <td>...</td>\n",
       "      <td>...</td>\n",
       "      <td>...</td>\n",
       "      <td>...</td>\n",
       "      <td>...</td>\n",
       "      <td>...</td>\n",
       "      <td>...</td>\n",
       "      <td>...</td>\n",
       "      <td>...</td>\n",
       "      <td>...</td>\n",
       "      <td>...</td>\n",
       "      <td>...</td>\n",
       "      <td>...</td>\n",
       "      <td>...</td>\n",
       "      <td>...</td>\n",
       "      <td>...</td>\n",
       "      <td>...</td>\n",
       "      <td>...</td>\n",
       "      <td>...</td>\n",
       "      <td>...</td>\n",
       "      <td>...</td>\n",
       "      <td>...</td>\n",
       "      <td>...</td>\n",
       "      <td>...</td>\n",
       "    </tr>\n",
       "    <tr>\n",
       "      <th>5678</th>\n",
       "      <td>764146</td>\n",
       "      <td>DEXTER AVE N 0050 BLOCK C SIDE (  30) 30 FT N/O REPUBLICAN ST</td>\n",
       "      <td>GOOD</td>\n",
       "      <td>DISTRICT7</td>\n",
       "      <td>N</td>\n",
       "      <td>LADER</td>\n",
       "      <td>0</td>\n",
       "      <td>0</td>\n",
       "      <td>WHT</td>\n",
       "      <td>CENTRAL</td>\n",
       "      <td>SIGNAL</td>\n",
       "      <td>DEXTER AVE N</td>\n",
       "      <td>REPUBLICAN ST</td>\n",
       "      <td>MERCER ST</td>\n",
       "      <td>0.0</td>\n",
       "      <td>0.0</td>\n",
       "      <td>-122.342361</td>\n",
       "      <td>47.623306</td>\n",
       "      <td>0.0</td>\n",
       "      <td>0.0</td>\n",
       "      <td>0.0</td>\n",
       "      <td>0.0</td>\n",
       "      <td>0.0</td>\n",
       "      <td>0.0</td>\n",
       "      <td>0.0</td>\n",
       "      <td>0.0</td>\n",
       "      <td>0.0</td>\n",
       "      <td>0.0</td>\n",
       "      <td>0.0</td>\n",
       "      <td>0.0</td>\n",
       "      <td>0.0</td>\n",
       "      <td>0.00000</td>\n",
       "      <td>0</td>\n",
       "      <td>0</td>\n",
       "    </tr>\n",
       "    <tr>\n",
       "      <th>5679</th>\n",
       "      <td>764147</td>\n",
       "      <td>REPUBLICAN ST 0075 BLOCK C SIDE (  47) 47 FT E/O DEXTER AVE N</td>\n",
       "      <td>GOOD</td>\n",
       "      <td>DISTRICT7</td>\n",
       "      <td>E</td>\n",
       "      <td>LADER</td>\n",
       "      <td>0</td>\n",
       "      <td>0</td>\n",
       "      <td>WHT</td>\n",
       "      <td>CENTRAL</td>\n",
       "      <td>SIGNAL</td>\n",
       "      <td>REPUBLICAN ST</td>\n",
       "      <td>DEXTER AVE N</td>\n",
       "      <td>8TH AVE N</td>\n",
       "      <td>0.0</td>\n",
       "      <td>0.0</td>\n",
       "      <td>-122.342171</td>\n",
       "      <td>47.623223</td>\n",
       "      <td>0.0</td>\n",
       "      <td>0.0</td>\n",
       "      <td>0.0</td>\n",
       "      <td>0.0</td>\n",
       "      <td>0.0</td>\n",
       "      <td>0.0</td>\n",
       "      <td>0.0</td>\n",
       "      <td>0.0</td>\n",
       "      <td>0.0</td>\n",
       "      <td>0.0</td>\n",
       "      <td>0.0</td>\n",
       "      <td>0.0</td>\n",
       "      <td>0.0</td>\n",
       "      <td>0.00000</td>\n",
       "      <td>0</td>\n",
       "      <td>0</td>\n",
       "    </tr>\n",
       "    <tr>\n",
       "      <th>5680</th>\n",
       "      <td>764148</td>\n",
       "      <td>DEXTER AVE N 0040 BLOCK C SIDE ( 394) 394 FT N/O HARRISON ST</td>\n",
       "      <td>GOOD</td>\n",
       "      <td>DISTRICT7</td>\n",
       "      <td>S</td>\n",
       "      <td>LADER</td>\n",
       "      <td>0</td>\n",
       "      <td>0</td>\n",
       "      <td>WHT</td>\n",
       "      <td>CENTRAL</td>\n",
       "      <td>SIGNAL</td>\n",
       "      <td>DEXTER AVE N</td>\n",
       "      <td>HARRISON ST</td>\n",
       "      <td>REPUBLICAN ST</td>\n",
       "      <td>0.0</td>\n",
       "      <td>0.0</td>\n",
       "      <td>-122.342362</td>\n",
       "      <td>47.623133</td>\n",
       "      <td>0.0</td>\n",
       "      <td>0.0</td>\n",
       "      <td>0.0</td>\n",
       "      <td>0.0</td>\n",
       "      <td>0.0</td>\n",
       "      <td>0.0</td>\n",
       "      <td>0.0</td>\n",
       "      <td>0.0</td>\n",
       "      <td>0.0</td>\n",
       "      <td>0.0</td>\n",
       "      <td>0.0</td>\n",
       "      <td>0.0</td>\n",
       "      <td>0.0</td>\n",
       "      <td>0.00000</td>\n",
       "      <td>0</td>\n",
       "      <td>0</td>\n",
       "    </tr>\n",
       "    <tr>\n",
       "      <th>5681</th>\n",
       "      <td>764149</td>\n",
       "      <td>REPUBLICAN ST 0070 BLOCK C SIDE ( 120) 120 FT E/O DEAD END</td>\n",
       "      <td>GOOD</td>\n",
       "      <td>DISTRICT7</td>\n",
       "      <td>W</td>\n",
       "      <td>LADER</td>\n",
       "      <td>0</td>\n",
       "      <td>0</td>\n",
       "      <td>WHT</td>\n",
       "      <td>CENTRAL</td>\n",
       "      <td>SIGNAL</td>\n",
       "      <td>REPUBLICAN ST</td>\n",
       "      <td>DEAD END</td>\n",
       "      <td>DEXTER AVE N</td>\n",
       "      <td>0.0</td>\n",
       "      <td>0.0</td>\n",
       "      <td>-122.342516</td>\n",
       "      <td>47.623263</td>\n",
       "      <td>0.0</td>\n",
       "      <td>0.0</td>\n",
       "      <td>0.0</td>\n",
       "      <td>0.0</td>\n",
       "      <td>0.0</td>\n",
       "      <td>0.0</td>\n",
       "      <td>0.0</td>\n",
       "      <td>0.0</td>\n",
       "      <td>0.0</td>\n",
       "      <td>0.0</td>\n",
       "      <td>0.0</td>\n",
       "      <td>0.0</td>\n",
       "      <td>0.0</td>\n",
       "      <td>0.00000</td>\n",
       "      <td>0</td>\n",
       "      <td>0</td>\n",
       "    </tr>\n",
       "    <tr>\n",
       "      <th>5682</th>\n",
       "      <td>765387</td>\n",
       "      <td>WEST MARGINAL WAY SW 0420 BLOCK C SIDE ( 415) 415 FT S/O SW IDAHO ST</td>\n",
       "      <td>POOR</td>\n",
       "      <td>DISTRICT1</td>\n",
       "      <td>C</td>\n",
       "      <td>LADER</td>\n",
       "      <td>0</td>\n",
       "      <td>1</td>\n",
       "      <td>WHT</td>\n",
       "      <td>SOUTH</td>\n",
       "      <td>SIGNAL</td>\n",
       "      <td>WEST MARGINAL WAY SW</td>\n",
       "      <td>SW IDAHO ST</td>\n",
       "      <td>SW ALASKA ST</td>\n",
       "      <td>0.0</td>\n",
       "      <td>0.0</td>\n",
       "      <td>-122.352623</td>\n",
       "      <td>47.564118</td>\n",
       "      <td>0.0</td>\n",
       "      <td>0.0</td>\n",
       "      <td>0.0</td>\n",
       "      <td>0.0</td>\n",
       "      <td>0.0</td>\n",
       "      <td>0.0</td>\n",
       "      <td>0.0</td>\n",
       "      <td>0.0</td>\n",
       "      <td>0.0</td>\n",
       "      <td>0.0</td>\n",
       "      <td>0.0</td>\n",
       "      <td>0.0</td>\n",
       "      <td>0.0</td>\n",
       "      <td>0.00000</td>\n",
       "      <td>0</td>\n",
       "      <td>0</td>\n",
       "    </tr>\n",
       "  </tbody>\n",
       "</table>\n",
       "<p>5683 rows × 34 columns</p>\n",
       "</div>"
      ],
      "text/plain": [
       "      crosswalkkey  \\\n",
       "0           511360   \n",
       "1           520756   \n",
       "2           520757   \n",
       "3           520758   \n",
       "4           520759   \n",
       "...            ...   \n",
       "5678        764146   \n",
       "5679        764147   \n",
       "5680        764148   \n",
       "5681        764149   \n",
       "5682        765387   \n",
       "\n",
       "                                                                  unitdesc  \\\n",
       "0              10TH AVE E 0090 BLOCK C SIDE ( 655) 17 FT S/O E PROSPECT ST   \n",
       "1              14TH AVE NW 0540 BLOCK C SIDE ( 234) 49 FT S/O NW MARKET ST   \n",
       "2              14TH AVE NW 0550 BLOCK C SIDE (  40) 40 FT N/O NW MARKET ST   \n",
       "3                14TH AVE NW 0580 BLOCK C SIDE (  24) 24 FT N/O NW 58TH ST   \n",
       "4              14TH AVE NW 0750 BLOCK C SIDE (  24) 24 FT N/O NW 75TH W ST   \n",
       "...                                                                    ...   \n",
       "5678         DEXTER AVE N 0050 BLOCK C SIDE (  30) 30 FT N/O REPUBLICAN ST   \n",
       "5679         REPUBLICAN ST 0075 BLOCK C SIDE (  47) 47 FT E/O DEXTER AVE N   \n",
       "5680          DEXTER AVE N 0040 BLOCK C SIDE ( 394) 394 FT N/O HARRISON ST   \n",
       "5681            REPUBLICAN ST 0070 BLOCK C SIDE ( 120) 120 FT E/O DEAD END   \n",
       "5682  WEST MARGINAL WAY SW 0420 BLOCK C SIDE ( 415) 415 FT S/O SW IDAHO ST   \n",
       "\n",
       "     condition primarydistrictcd approach marking_type  school  \\\n",
       "0         GOOD         DISTRICT3        S        LADER       0   \n",
       "1         GOOD         DISTRICT6        S        LADER       0   \n",
       "2         GOOD         DISTRICT6        N        LADER       0   \n",
       "3         GOOD         DISTRICT6        N        LADER       1   \n",
       "4         GOOD         DISTRICT6        N        LADER       1   \n",
       "...        ...               ...      ...          ...     ...   \n",
       "5678      GOOD         DISTRICT7        N        LADER       0   \n",
       "5679      GOOD         DISTRICT7        E        LADER       0   \n",
       "5680      GOOD         DISTRICT7        S        LADER       0   \n",
       "5681      GOOD         DISTRICT7        W        LADER       0   \n",
       "5682      POOR         DISTRICT1        C        LADER       0   \n",
       "\n",
       "      midblock_crosswalk color maint_district crosswalk_control  \\\n",
       "0                      0   WHT        CENTRAL              NONE   \n",
       "1                      0   WHT          NORTH            SIGNAL   \n",
       "2                      0   WHT          NORTH            SIGNAL   \n",
       "3                      0   WHT          NORTH              NONE   \n",
       "4                      0   WHT          NORTH              NONE   \n",
       "...                  ...   ...            ...               ...   \n",
       "5678                   0   WHT        CENTRAL            SIGNAL   \n",
       "5679                   0   WHT        CENTRAL            SIGNAL   \n",
       "5680                   0   WHT        CENTRAL            SIGNAL   \n",
       "5681                   0   WHT        CENTRAL            SIGNAL   \n",
       "5682                   1   WHT          SOUTH            SIGNAL   \n",
       "\n",
       "                  onstreet        xstrlow         xstrhi   intkey  \\\n",
       "0               10TH AVE E     E ALOHA ST  E PROSPECT ST      0.0   \n",
       "1              14TH AVE NW     NW 54TH ST   NW MARKET ST  25423.0   \n",
       "2              14TH AVE NW   NW MARKET ST     NW 56TH ST  25423.0   \n",
       "3              14TH AVE NW     NW 58TH ST     NW 59TH ST  25405.0   \n",
       "4              14TH AVE NW   NW 75TH W ST     NW 77TH ST      0.0   \n",
       "...                    ...            ...            ...      ...   \n",
       "5678          DEXTER AVE N  REPUBLICAN ST      MERCER ST      0.0   \n",
       "5679         REPUBLICAN ST   DEXTER AVE N      8TH AVE N      0.0   \n",
       "5680          DEXTER AVE N    HARRISON ST  REPUBLICAN ST      0.0   \n",
       "5681         REPUBLICAN ST       DEAD END   DEXTER AVE N      0.0   \n",
       "5682  WEST MARGINAL WAY SW    SW IDAHO ST   SW ALASKA ST      0.0   \n",
       "\n",
       "      inattentionind_y   shape_lng  shape_lat    year  count  \\\n",
       "0                  0.0 -122.320213  47.628624     0.0    0.0   \n",
       "1                  1.0 -122.373589  47.668531  2010.0    1.0   \n",
       "2                  0.0 -122.373588  47.668775  2008.0    1.0   \n",
       "3                  0.0 -122.373582  47.670965  2007.0    1.0   \n",
       "4                  0.0 -122.374088  47.683311     0.0    0.0   \n",
       "...                ...         ...        ...     ...    ...   \n",
       "5678               0.0 -122.342361  47.623306     0.0    0.0   \n",
       "5679               0.0 -122.342171  47.623223     0.0    0.0   \n",
       "5680               0.0 -122.342362  47.623133     0.0    0.0   \n",
       "5681               0.0 -122.342516  47.623263     0.0    0.0   \n",
       "5682               0.0 -122.352623  47.564118     0.0    0.0   \n",
       "\n",
       "      total fatalities  total serious injuries  total evident injuries  \\\n",
       "0                  0.0                     0.0                     0.0   \n",
       "1                  0.0                     0.0                     1.0   \n",
       "2                  0.0                     0.0                     1.0   \n",
       "3                  1.0                     0.0                     0.0   \n",
       "4                  0.0                     0.0                     0.0   \n",
       "...                ...                     ...                     ...   \n",
       "5678               0.0                     0.0                     0.0   \n",
       "5679               0.0                     0.0                     0.0   \n",
       "5680               0.0                     0.0                     0.0   \n",
       "5681               0.0                     0.0                     0.0   \n",
       "5682               0.0                     0.0                     0.0   \n",
       "\n",
       "      total possible injuries  total vehicles  total pedestrians involved  \\\n",
       "0                         0.0             0.0                         0.0   \n",
       "1                         0.0             1.0                         0.0   \n",
       "2                         0.0             1.0                         0.0   \n",
       "3                         0.0             1.0                         1.0   \n",
       "4                         0.0             0.0                         0.0   \n",
       "...                       ...             ...                         ...   \n",
       "5678                      0.0             0.0                         0.0   \n",
       "5679                      0.0             0.0                         0.0   \n",
       "5680                      0.0             0.0                         0.0   \n",
       "5681                      0.0             0.0                         0.0   \n",
       "5682                      0.0             0.0                         0.0   \n",
       "\n",
       "      total bicyclists involved  weigh_fatalities  weigh_serious  \\\n",
       "0                           0.0               0.0            0.0   \n",
       "1                           1.0               0.0            0.0   \n",
       "2                           1.0               0.0            0.0   \n",
       "3                           0.0               5.0            0.0   \n",
       "4                           0.0               0.0            0.0   \n",
       "...                         ...               ...            ...   \n",
       "5678                        0.0               0.0            0.0   \n",
       "5679                        0.0               0.0            0.0   \n",
       "5680                        0.0               0.0            0.0   \n",
       "5681                        0.0               0.0            0.0   \n",
       "5682                        0.0               0.0            0.0   \n",
       "\n",
       "      weigh_evident  weigh_possible  sev_score  collisions  pedcyl_involved  \n",
       "0               0.0             0.0    0.00000           0                0  \n",
       "1               3.0             0.0    0.00030           1                1  \n",
       "2               3.0             0.0    0.00030           1                1  \n",
       "3               0.0             0.0    0.00045           1                1  \n",
       "4               0.0             0.0    0.00000           0                0  \n",
       "...             ...             ...        ...         ...              ...  \n",
       "5678            0.0             0.0    0.00000           0                0  \n",
       "5679            0.0             0.0    0.00000           0                0  \n",
       "5680            0.0             0.0    0.00000           0                0  \n",
       "5681            0.0             0.0    0.00000           0                0  \n",
       "5682            0.0             0.0    0.00000           0                0  \n",
       "\n",
       "[5683 rows x 34 columns]"
      ]
     },
     "execution_count": 137,
     "metadata": {},
     "output_type": "execute_result"
    }
   ],
   "source": []
  },
  {
   "cell_type": "code",
   "execution_count": 131,
   "metadata": {},
   "outputs": [
    {
     "ename": "ValueError",
     "evalue": "The truth value of a Series is ambiguous. Use a.empty, a.bool(), a.item(), a.any() or a.all().",
     "output_type": "error",
     "traceback": [
      "\u001b[0;31m---------------------------------------------------------------------------\u001b[0m",
      "\u001b[0;31mValueError\u001b[0m                                Traceback (most recent call last)",
      "\u001b[0;32m<ipython-input-131-e85c5551824a>\u001b[0m in \u001b[0;36m<module>\u001b[0;34m()\u001b[0m\n\u001b[1;32m      1\u001b[0m \u001b[0mtemp\u001b[0m \u001b[0;34m=\u001b[0m \u001b[0;34m[\u001b[0m\u001b[0;34m]\u001b[0m\u001b[0;34m\u001b[0m\u001b[0m\n\u001b[0;32m----> 2\u001b[0;31m \u001b[0;32mif\u001b[0m \u001b[0;34m(\u001b[0m\u001b[0;34m(\u001b[0m\u001b[0mcrosswalks\u001b[0m\u001b[0;34m[\u001b[0m\u001b[0;34m'total pedestrians involved'\u001b[0m\u001b[0;34m]\u001b[0m \u001b[0;34m>\u001b[0m \u001b[0;36m0\u001b[0m\u001b[0;34m)\u001b[0m \u001b[0;34m|\u001b[0m \u001b[0;34m(\u001b[0m\u001b[0mcrosswalks\u001b[0m\u001b[0;34m[\u001b[0m\u001b[0;34m'total bicyclists involved'\u001b[0m\u001b[0;34m]\u001b[0m \u001b[0;34m>\u001b[0m \u001b[0;36m0\u001b[0m\u001b[0;34m)\u001b[0m\u001b[0;34m)\u001b[0m\u001b[0;34m:\u001b[0m\u001b[0;34m\u001b[0m\u001b[0m\n\u001b[0m\u001b[1;32m      3\u001b[0m     \u001b[0mtemp\u001b[0m\u001b[0;34m.\u001b[0m\u001b[0mappend\u001b[0m\u001b[0;34m(\u001b[0m\u001b[0;36m1\u001b[0m\u001b[0;34m)\u001b[0m\u001b[0;34m\u001b[0m\u001b[0m\n\u001b[1;32m      4\u001b[0m \u001b[0;32melse\u001b[0m\u001b[0;34m:\u001b[0m\u001b[0;34m\u001b[0m\u001b[0m\n\u001b[1;32m      5\u001b[0m     \u001b[0mtemp\u001b[0m\u001b[0;34m.\u001b[0m\u001b[0mappend\u001b[0m\u001b[0;34m(\u001b[0m\u001b[0;36m0\u001b[0m\u001b[0;34m)\u001b[0m\u001b[0;34m\u001b[0m\u001b[0m\n",
      "\u001b[0;32m~/anaconda3/lib/python3.7/site-packages/pandas/core/generic.py\u001b[0m in \u001b[0;36m__nonzero__\u001b[0;34m(self)\u001b[0m\n\u001b[1;32m   1477\u001b[0m     \u001b[0;32mdef\u001b[0m \u001b[0m__nonzero__\u001b[0m\u001b[0;34m(\u001b[0m\u001b[0mself\u001b[0m\u001b[0;34m)\u001b[0m\u001b[0;34m:\u001b[0m\u001b[0;34m\u001b[0m\u001b[0m\n\u001b[1;32m   1478\u001b[0m         raise ValueError(\n\u001b[0;32m-> 1479\u001b[0;31m             \u001b[0;34mf\"The truth value of a {type(self).__name__} is ambiguous. \"\u001b[0m\u001b[0;34m\u001b[0m\u001b[0m\n\u001b[0m\u001b[1;32m   1480\u001b[0m             \u001b[0;34m\"Use a.empty, a.bool(), a.item(), a.any() or a.all().\"\u001b[0m\u001b[0;34m\u001b[0m\u001b[0m\n\u001b[1;32m   1481\u001b[0m         )\n",
      "\u001b[0;31mValueError\u001b[0m: The truth value of a Series is ambiguous. Use a.empty, a.bool(), a.item(), a.any() or a.all()."
     ]
    }
   ],
   "source": [
    "temp = []\n",
    "if ((crosswalks['total pedestrians involved'] > 0) | (crosswalks['total bicyclists involved'] > 0)):\n",
    "    temp.append(1)\n",
    "else:\n",
    "    temp.append(0)"
   ]
  },
  {
   "cell_type": "code",
   "execution_count": 83,
   "metadata": {},
   "outputs": [],
   "source": [
    "xw_pedcycle = xw_yes[(xw_yes['total pedestrians involved'] > 0) | (xw_yes['total bicyclists involved'] > 0)]"
   ]
  },
  {
   "cell_type": "code",
   "execution_count": 86,
   "metadata": {},
   "outputs": [
    {
     "data": {
      "text/plain": [
       "0.9457889641819942"
      ]
     },
     "execution_count": 86,
     "metadata": {},
     "output_type": "execute_result"
    }
   ],
   "source": [
    "len(xw_pedcycle) / len(xw_yes)"
   ]
  },
  {
   "cell_type": "code",
   "execution_count": 100,
   "metadata": {},
   "outputs": [
    {
     "data": {
      "text/plain": [
       "0.1500350549193737"
      ]
     },
     "execution_count": 100,
     "metadata": {},
     "output_type": "execute_result"
    }
   ],
   "source": [
    "len(blocks[(blocks['collisions'] >0)&((blocks['total pedestrians involved'] > 0) | \\\n",
    "                    (blocks['total bicyclists involved'] > 0))]) / len(blocks[blocks['collisions']>0])"
   ]
  },
  {
   "cell_type": "code",
   "execution_count": 93,
   "metadata": {},
   "outputs": [
    {
     "data": {
      "text/plain": [
       "0.007409289131631314"
      ]
     },
     "execution_count": 93,
     "metadata": {},
     "output_type": "execute_result"
    }
   ],
   "source": [
    "blocks[blocks['collisions']>0]['total fatalities'].sum() / len(blocks)"
   ]
  },
  {
   "cell_type": "code",
   "execution_count": 101,
   "metadata": {},
   "outputs": [
    {
     "data": {
      "text/plain": [
       "0.022006141248720572"
      ]
     },
     "execution_count": 101,
     "metadata": {},
     "output_type": "execute_result"
    }
   ],
   "source": [
    "xw_pedcycle['total fatalities'].sum()/ len(xw_pedcycle)"
   ]
  },
  {
   "cell_type": "code",
   "execution_count": 105,
   "metadata": {},
   "outputs": [
    {
     "data": {
      "text/plain": [
       "0.3635403836002112"
      ]
     },
     "execution_count": 105,
     "metadata": {},
     "output_type": "execute_result"
    }
   ],
   "source": [
    "crosswalks['collisions'].sum() / len(crosswalks)"
   ]
  },
  {
   "cell_type": "code",
   "execution_count": null,
   "metadata": {},
   "outputs": [],
   "source": []
  },
  {
   "cell_type": "code",
   "execution_count": 149,
   "metadata": {},
   "outputs": [
    {
     "data": {
      "image/png": "[encoded data removed]",
      "text/plain": [
       "<Figure size 720x360 with 1 Axes>"
      ]
     },
     "metadata": {
      "needs_background": "light"
     },
     "output_type": "display_data"
    }
   ],
   "source": [
    "fig, ax = plt.subplots(figsize=(10,5))\n",
    "\n",
    "ax = sns.countplot(crosswalks[crosswalks['collisions']>0]['pedcyl_involved'])\n",
    "ax.set_title('Crosswalks Collisions: Involved Ped/Cycl', fontsize=20, color='black')\n",
    "ax.set_ylabel('Number of Crosswalks', fontsize=15)\n",
    "ax.set_xlabel('Pedestrians Involved', fontsize=15);\n",
    "\n",
    "plt.savefig('../reports/figures/crosswalks_pedcyl.png')"
   ]
  },
  {
   "cell_type": "code",
   "execution_count": null,
   "metadata": {},
   "outputs": [],
   "source": []
  },
  {
   "cell_type": "code",
   "execution_count": null,
   "metadata": {},
   "outputs": [],
   "source": []
  },
  {
   "cell_type": "code",
   "execution_count": null,
   "metadata": {},
   "outputs": [],
   "source": []
  }
 ],
 "metadata": {
  "kernelspec": {
   "display_name": "Python 3.7.0 64-bit ('anaconda3': virtualenv)",
   "language": "python",
   "name": "python37064bitanaconda3virtualenvdc59f3b7c1d64353bf7dcc6d7e32f36c"
  },
  "language_info": {
   "codemirror_mode": {
    "name": "ipython",
    "version": 3
   },
   "file_extension": ".py",
   "mimetype": "text/x-python",
   "name": "python",
   "nbconvert_exporter": "python",
   "pygments_lexer": "ipython3",
   "version": "3.7.0"
  }
 },
 "nbformat": 4,
 "nbformat_minor": 2
}
