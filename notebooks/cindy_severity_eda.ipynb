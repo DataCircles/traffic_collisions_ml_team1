{
 "cells": [
  {
   "cell_type": "code",
   "execution_count": 1,
   "metadata": {},
   "outputs": [],
   "source": [
    "# Import Modules\n",
    "import numpy as np\n",
    "import pandas as pd\n",
    "import seaborn as sns\n",
    "import matplotlib.pyplot as plt\n",
    "\n",
    "#modeling tools\n",
    "import statsmodels.api as sm\n",
    "\n",
    "import lightgbm as lgb\n",
    "\n",
    "from sklearn.tree import DecisionTreeRegressor, DecisionTreeClassifier\n",
    "from sklearn.ensemble import GradientBoostingClassifier, RandomForestClassifier, RandomForestRegressor\n",
    "from sklearn.metrics import mean_squared_error, confusion_matrix, auc, roc_auc_score, roc_curve, log_loss, make_scorer\n",
    "from sklearn.model_selection import cross_val_score, train_test_split, GridSearchCV\n",
    "\n",
    "%matplotlib inline\n",
    "plt.style.use('ggplot')\n",
    "\n",
    "%load_ext autoreload\n",
    "%autoreload 2\n",
    "\n",
    "# pd.set_option('display.min_row', 25)\n",
    "pd.set_option('display.max_column', 100)\n",
    "pd.set_option('display.max_colwidth', 300)"
   ]
  },
  {
   "cell_type": "code",
   "execution_count": 2,
   "metadata": {},
   "outputs": [],
   "source": [
    "blocks = pd.read_csv('../data/processed/blocks_sev_score.csv', index_col=0)\n",
    "intersections = pd.read_csv('../data/processed/intersections_sev_score.csv', index_col=0)\n",
    "circles = pd.read_csv('../data/processed/circles_sev_score.csv', index_col=0)\n",
    "crosswalks = pd.read_csv('../data/processed/crosswalks_sev_score.csv', index_col=0)"
   ]
  },
  {
   "cell_type": "markdown",
   "metadata": {},
   "source": [
    "## Blocks"
   ]
  },
  {
   "cell_type": "code",
   "execution_count": 3,
   "metadata": {},
   "outputs": [
    {
     "data": {
      "text/html": [
       "<div>\n",
       "<style scoped>\n",
       "    .dataframe tbody tr th:only-of-type {\n",
       "        vertical-align: middle;\n",
       "    }\n",
       "\n",
       "    .dataframe tbody tr th {\n",
       "        vertical-align: top;\n",
       "    }\n",
       "\n",
       "    .dataframe thead th {\n",
       "        text-align: right;\n",
       "    }\n",
       "</style>\n",
       "<table border=\"1\" class=\"dataframe\">\n",
       "  <thead>\n",
       "    <tr style=\"text-align: right;\">\n",
       "      <th></th>\n",
       "      <th>location</th>\n",
       "      <th>artdescript</th>\n",
       "      <th>speedlimit</th>\n",
       "      <th>segdir</th>\n",
       "      <th>oneway</th>\n",
       "      <th>surfacetype_1</th>\n",
       "      <th>nationhwysys</th>\n",
       "      <th>streettype</th>\n",
       "      <th>tranclass</th>\n",
       "      <th>trandescript</th>\n",
       "      <th>slope_pct</th>\n",
       "      <th>parkboulevard</th>\n",
       "      <th>year</th>\n",
       "      <th>count</th>\n",
       "      <th>total fatalities</th>\n",
       "      <th>total serious injuries</th>\n",
       "      <th>total evident injuries</th>\n",
       "      <th>total possible injuries</th>\n",
       "      <th>total vehicles</th>\n",
       "      <th>total pedestrians involved</th>\n",
       "      <th>total bicyclists involved</th>\n",
       "      <th>weigh_fatalities</th>\n",
       "      <th>weigh_serious</th>\n",
       "      <th>weigh_evident</th>\n",
       "      <th>weigh_possible</th>\n",
       "      <th>sev_score</th>\n",
       "    </tr>\n",
       "  </thead>\n",
       "  <tbody>\n",
       "    <tr>\n",
       "      <th>0</th>\n",
       "      <td>1ST AVE BETWEEN SENECA ST AND UNIVERSITY ST</td>\n",
       "      <td>Minor Arterial</td>\n",
       "      <td>25.0</td>\n",
       "      <td>NW</td>\n",
       "      <td>N</td>\n",
       "      <td>PCC</td>\n",
       "      <td>N</td>\n",
       "      <td>Downtown Neighborhood</td>\n",
       "      <td>1</td>\n",
       "      <td>PRINCIPAL TRANSIT ROUTE</td>\n",
       "      <td>4.0</td>\n",
       "      <td>N</td>\n",
       "      <td>2004.0</td>\n",
       "      <td>1.0</td>\n",
       "      <td>0.0</td>\n",
       "      <td>0.0</td>\n",
       "      <td>0.0</td>\n",
       "      <td>0.0</td>\n",
       "      <td>0.0</td>\n",
       "      <td>0.0</td>\n",
       "      <td>0.0</td>\n",
       "      <td>0.0</td>\n",
       "      <td>0.0</td>\n",
       "      <td>0.0</td>\n",
       "      <td>0.0</td>\n",
       "      <td>0.000004</td>\n",
       "    </tr>\n",
       "    <tr>\n",
       "      <th>1</th>\n",
       "      <td>1ST AVE BETWEEN SENECA ST AND UNIVERSITY ST</td>\n",
       "      <td>Minor Arterial</td>\n",
       "      <td>25.0</td>\n",
       "      <td>NW</td>\n",
       "      <td>N</td>\n",
       "      <td>PCC</td>\n",
       "      <td>N</td>\n",
       "      <td>Downtown Neighborhood</td>\n",
       "      <td>1</td>\n",
       "      <td>PRINCIPAL TRANSIT ROUTE</td>\n",
       "      <td>4.0</td>\n",
       "      <td>N</td>\n",
       "      <td>2005.0</td>\n",
       "      <td>2.0</td>\n",
       "      <td>0.0</td>\n",
       "      <td>0.0</td>\n",
       "      <td>0.0</td>\n",
       "      <td>1.0</td>\n",
       "      <td>5.0</td>\n",
       "      <td>0.0</td>\n",
       "      <td>0.0</td>\n",
       "      <td>0.0</td>\n",
       "      <td>0.0</td>\n",
       "      <td>0.0</td>\n",
       "      <td>2.0</td>\n",
       "      <td>0.000018</td>\n",
       "    </tr>\n",
       "    <tr>\n",
       "      <th>2</th>\n",
       "      <td>1ST AVE BETWEEN SENECA ST AND UNIVERSITY ST</td>\n",
       "      <td>Minor Arterial</td>\n",
       "      <td>25.0</td>\n",
       "      <td>NW</td>\n",
       "      <td>N</td>\n",
       "      <td>PCC</td>\n",
       "      <td>N</td>\n",
       "      <td>Downtown Neighborhood</td>\n",
       "      <td>1</td>\n",
       "      <td>PRINCIPAL TRANSIT ROUTE</td>\n",
       "      <td>4.0</td>\n",
       "      <td>N</td>\n",
       "      <td>2006.0</td>\n",
       "      <td>3.0</td>\n",
       "      <td>0.0</td>\n",
       "      <td>0.0</td>\n",
       "      <td>0.0</td>\n",
       "      <td>0.0</td>\n",
       "      <td>2.0</td>\n",
       "      <td>0.0</td>\n",
       "      <td>0.0</td>\n",
       "      <td>0.0</td>\n",
       "      <td>0.0</td>\n",
       "      <td>0.0</td>\n",
       "      <td>0.0</td>\n",
       "      <td>0.000013</td>\n",
       "    </tr>\n",
       "    <tr>\n",
       "      <th>3</th>\n",
       "      <td>1ST AVE BETWEEN SENECA ST AND UNIVERSITY ST</td>\n",
       "      <td>Minor Arterial</td>\n",
       "      <td>25.0</td>\n",
       "      <td>NW</td>\n",
       "      <td>N</td>\n",
       "      <td>PCC</td>\n",
       "      <td>N</td>\n",
       "      <td>Downtown Neighborhood</td>\n",
       "      <td>1</td>\n",
       "      <td>PRINCIPAL TRANSIT ROUTE</td>\n",
       "      <td>4.0</td>\n",
       "      <td>N</td>\n",
       "      <td>2007.0</td>\n",
       "      <td>4.0</td>\n",
       "      <td>0.0</td>\n",
       "      <td>0.0</td>\n",
       "      <td>0.0</td>\n",
       "      <td>0.0</td>\n",
       "      <td>7.0</td>\n",
       "      <td>0.0</td>\n",
       "      <td>0.0</td>\n",
       "      <td>0.0</td>\n",
       "      <td>0.0</td>\n",
       "      <td>0.0</td>\n",
       "      <td>0.0</td>\n",
       "      <td>0.000018</td>\n",
       "    </tr>\n",
       "    <tr>\n",
       "      <th>4</th>\n",
       "      <td>1ST AVE BETWEEN SENECA ST AND UNIVERSITY ST</td>\n",
       "      <td>Minor Arterial</td>\n",
       "      <td>25.0</td>\n",
       "      <td>NW</td>\n",
       "      <td>N</td>\n",
       "      <td>PCC</td>\n",
       "      <td>N</td>\n",
       "      <td>Downtown Neighborhood</td>\n",
       "      <td>1</td>\n",
       "      <td>PRINCIPAL TRANSIT ROUTE</td>\n",
       "      <td>4.0</td>\n",
       "      <td>N</td>\n",
       "      <td>2008.0</td>\n",
       "      <td>3.0</td>\n",
       "      <td>0.0</td>\n",
       "      <td>0.0</td>\n",
       "      <td>0.0</td>\n",
       "      <td>0.0</td>\n",
       "      <td>7.0</td>\n",
       "      <td>0.0</td>\n",
       "      <td>0.0</td>\n",
       "      <td>0.0</td>\n",
       "      <td>0.0</td>\n",
       "      <td>0.0</td>\n",
       "      <td>0.0</td>\n",
       "      <td>0.000013</td>\n",
       "    </tr>\n",
       "  </tbody>\n",
       "</table>\n",
       "</div>"
      ],
      "text/plain": [
       "                                      location     artdescript  speedlimit  \\\n",
       "0  1ST AVE BETWEEN SENECA ST AND UNIVERSITY ST  Minor Arterial        25.0   \n",
       "1  1ST AVE BETWEEN SENECA ST AND UNIVERSITY ST  Minor Arterial        25.0   \n",
       "2  1ST AVE BETWEEN SENECA ST AND UNIVERSITY ST  Minor Arterial        25.0   \n",
       "3  1ST AVE BETWEEN SENECA ST AND UNIVERSITY ST  Minor Arterial        25.0   \n",
       "4  1ST AVE BETWEEN SENECA ST AND UNIVERSITY ST  Minor Arterial        25.0   \n",
       "\n",
       "  segdir oneway surfacetype_1 nationhwysys             streettype  tranclass  \\\n",
       "0     NW      N           PCC            N  Downtown Neighborhood          1   \n",
       "1     NW      N           PCC            N  Downtown Neighborhood          1   \n",
       "2     NW      N           PCC            N  Downtown Neighborhood          1   \n",
       "3     NW      N           PCC            N  Downtown Neighborhood          1   \n",
       "4     NW      N           PCC            N  Downtown Neighborhood          1   \n",
       "\n",
       "              trandescript  slope_pct parkboulevard    year  count  \\\n",
       "0  PRINCIPAL TRANSIT ROUTE        4.0             N  2004.0    1.0   \n",
       "1  PRINCIPAL TRANSIT ROUTE        4.0             N  2005.0    2.0   \n",
       "2  PRINCIPAL TRANSIT ROUTE        4.0             N  2006.0    3.0   \n",
       "3  PRINCIPAL TRANSIT ROUTE        4.0             N  2007.0    4.0   \n",
       "4  PRINCIPAL TRANSIT ROUTE        4.0             N  2008.0    3.0   \n",
       "\n",
       "   total fatalities  total serious injuries  total evident injuries  \\\n",
       "0               0.0                     0.0                     0.0   \n",
       "1               0.0                     0.0                     0.0   \n",
       "2               0.0                     0.0                     0.0   \n",
       "3               0.0                     0.0                     0.0   \n",
       "4               0.0                     0.0                     0.0   \n",
       "\n",
       "   total possible injuries  total vehicles  total pedestrians involved  \\\n",
       "0                      0.0             0.0                         0.0   \n",
       "1                      1.0             5.0                         0.0   \n",
       "2                      0.0             2.0                         0.0   \n",
       "3                      0.0             7.0                         0.0   \n",
       "4                      0.0             7.0                         0.0   \n",
       "\n",
       "   total bicyclists involved  weigh_fatalities  weigh_serious  weigh_evident  \\\n",
       "0                        0.0               0.0            0.0            0.0   \n",
       "1                        0.0               0.0            0.0            0.0   \n",
       "2                        0.0               0.0            0.0            0.0   \n",
       "3                        0.0               0.0            0.0            0.0   \n",
       "4                        0.0               0.0            0.0            0.0   \n",
       "\n",
       "   weigh_possible  sev_score  \n",
       "0             0.0   0.000004  \n",
       "1             2.0   0.000018  \n",
       "2             0.0   0.000013  \n",
       "3             0.0   0.000018  \n",
       "4             0.0   0.000013  "
      ]
     },
     "execution_count": 3,
     "metadata": {},
     "output_type": "execute_result"
    }
   ],
   "source": [
    "blocks.head()"
   ]
  },
  {
   "cell_type": "code",
   "execution_count": 4,
   "metadata": {},
   "outputs": [
    {
     "name": "stdout",
     "output_type": "stream",
     "text": [
      "<class 'pandas.core.frame.DataFrame'>\n",
      "Int64Index: 87248 entries, 0 to 87247\n",
      "Data columns (total 26 columns):\n",
      " #   Column                      Non-Null Count  Dtype  \n",
      "---  ------                      --------------  -----  \n",
      " 0   location                    87248 non-null  object \n",
      " 1   artdescript                 87248 non-null  object \n",
      " 2   speedlimit                  87248 non-null  float64\n",
      " 3   segdir                      87248 non-null  object \n",
      " 4   oneway                      87248 non-null  object \n",
      " 5   surfacetype_1               87248 non-null  object \n",
      " 6   nationhwysys                87248 non-null  object \n",
      " 7   streettype                  87248 non-null  object \n",
      " 8   tranclass                   87248 non-null  int64  \n",
      " 9   trandescript                87248 non-null  object \n",
      " 10  slope_pct                   87248 non-null  float64\n",
      " 11  parkboulevard               87248 non-null  object \n",
      " 12  year                        87248 non-null  float64\n",
      " 13  count                       87248 non-null  float64\n",
      " 14  total fatalities            87248 non-null  float64\n",
      " 15  total serious injuries      87248 non-null  float64\n",
      " 16  total evident injuries      87248 non-null  float64\n",
      " 17  total possible injuries     87248 non-null  float64\n",
      " 18  total vehicles              87248 non-null  float64\n",
      " 19  total pedestrians involved  87248 non-null  float64\n",
      " 20  total bicyclists involved   87248 non-null  float64\n",
      " 21  weigh_fatalities            87248 non-null  float64\n",
      " 22  weigh_serious               87248 non-null  float64\n",
      " 23  weigh_evident               87248 non-null  float64\n",
      " 24  weigh_possible              87248 non-null  float64\n",
      " 25  sev_score                   87248 non-null  float64\n",
      "dtypes: float64(16), int64(1), object(9)\n",
      "memory usage: 18.0+ MB\n"
     ]
    }
   ],
   "source": [
    "# check datatype\n",
    "blocks.info()"
   ]
  },
  {
   "cell_type": "code",
   "execution_count": 5,
   "metadata": {},
   "outputs": [
    {
     "data": {
      "text/plain": [
       "Index(['location', 'artdescript', 'speedlimit', 'segdir', 'oneway',\n",
       "       'surfacetype_1', 'nationhwysys', 'streettype', 'tranclass',\n",
       "       'trandescript', 'slope_pct', 'parkboulevard', 'year', 'count',\n",
       "       'total fatalities', 'total serious injuries', 'total evident injuries',\n",
       "       'total possible injuries', 'total vehicles',\n",
       "       'total pedestrians involved', 'total bicyclists involved',\n",
       "       'weigh_fatalities', 'weigh_serious', 'weigh_evident', 'weigh_possible',\n",
       "       'sev_score'],\n",
       "      dtype='object')"
      ]
     },
     "execution_count": 5,
     "metadata": {},
     "output_type": "execute_result"
    }
   ],
   "source": [
    "blocks.columns"
   ]
  },
  {
   "cell_type": "code",
   "execution_count": 6,
   "metadata": {},
   "outputs": [],
   "source": [
    "blocks = blocks.groupby(['location', 'artdescript', 'speedlimit', 'segdir', 'oneway',\n",
    "       'surfacetype_1', 'nationhwysys', 'streettype', 'tranclass',\n",
    "       'trandescript', 'slope_pct', 'parkboulevard']).sum().drop(columns='year').reset_index()"
   ]
  },
  {
   "cell_type": "code",
   "execution_count": 7,
   "metadata": {},
   "outputs": [],
   "source": [
    "b_top10 = blocks.sort_values(by='count', ascending=False)[:10]"
   ]
  },
  {
   "cell_type": "code",
   "execution_count": 8,
   "metadata": {},
   "outputs": [],
   "source": [
    "b_lowest = blocks.sort_values(by='count')[:10]"
   ]
  },
  {
   "cell_type": "markdown",
   "metadata": {},
   "source": [
    "The top 10 blocks with the most count of collisions are all Principal Arterials"
   ]
  },
  {
   "cell_type": "code",
   "execution_count": 9,
   "metadata": {},
   "outputs": [
    {
     "data": {
      "text/plain": [
       "3.8"
      ]
     },
     "execution_count": 9,
     "metadata": {},
     "output_type": "execute_result"
    }
   ],
   "source": [
    "b_lowest['slope_pct'].mean()"
   ]
  },
  {
   "cell_type": "code",
   "execution_count": 10,
   "metadata": {},
   "outputs": [
    {
     "data": {
      "text/plain": [
       "1.4"
      ]
     },
     "execution_count": 10,
     "metadata": {},
     "output_type": "execute_result"
    }
   ],
   "source": [
    "b_top10['slope_pct'].mean()"
   ]
  },
  {
   "cell_type": "code",
   "execution_count": 11,
   "metadata": {},
   "outputs": [
    {
     "data": {
      "text/plain": [
       "13788        Urban Village Main\n",
       "8034         Urban Village Main\n",
       "8038         Urban Village Main\n",
       "17427        Urban Village Main\n",
       "23294    Urban Center Connector\n",
       "8105         Urban Village Main\n",
       "1505      Downtown Neighborhood\n",
       "17460        Urban Village Main\n",
       "15731        Urban Village Main\n",
       "17433        Urban Village Main\n",
       "Name: streettype, dtype: object"
      ]
     },
     "execution_count": 11,
     "metadata": {},
     "output_type": "execute_result"
    }
   ],
   "source": [
    "b_top10['streettype']"
   ]
  },
  {
   "cell_type": "code",
   "execution_count": 12,
   "metadata": {},
   "outputs": [
    {
     "data": {
      "text/plain": [
       "23618    Urban Village Neighborhood Access\n",
       "18833            Neighborhood Yield Street\n",
       "18835    Urban Village Neighborhood Access\n",
       "18837            Neighborhood Yield Street\n",
       "18840              Minor Industrial Access\n",
       "7765                Urban Center Connector\n",
       "7762                Urban Center Connector\n",
       "7760                     Industrial Access\n",
       "18843            Neighborhood Yield Street\n",
       "7758                     Industrial Access\n",
       "Name: streettype, dtype: object"
      ]
     },
     "execution_count": 12,
     "metadata": {},
     "output_type": "execute_result"
    }
   ],
   "source": [
    "b_lowest['streettype']"
   ]
  },
  {
   "cell_type": "code",
   "execution_count": 13,
   "metadata": {},
   "outputs": [
    {
     "name": "stdout",
     "output_type": "stream",
     "text": [
      "13788                                N NORTHGATE WAY BETWEEN MERIDIAN AVE N AND CORLISS AVE N\n",
      "8034                                           AURORA AVE N BETWEEN N 117TH PL AND N 125TH ST\n",
      "8038                                           AURORA AVE N BETWEEN N 130TH ST AND N 135TH ST\n",
      "17427                                   RAINIER AVE S BETWEEN S BAYVIEW ST AND S MCCLELLAN ST\n",
      "23294    WEST SEATTLE BR EB BETWEEN ALASKAN WY VI NB ON RP AND DELRIDGE-W SEATTLE BR EB ON RP\n",
      "8105                                               AURORA BR BETWEEN RAYE ST AND BRIDGE WAY N\n",
      "1505                                                 1ST AVE BETWEEN BLANCHARD ST AND BELL ST\n",
      "17460                                RAINIER AVE S BETWEEN S HENDERSON ST AND S DIRECTOR N ST\n",
      "15731                                      NE NORTHGATE WAY BETWEEN 3RD AVE NE AND 5TH AVE NE\n",
      "17433                                 RAINIER AVE S BETWEEN S CHARLESTOWN ST AND S ANDOVER ST\n",
      "Name: location, dtype: object\n"
     ]
    }
   ],
   "source": [
    "print(b_top10['location'])"
   ]
  },
  {
   "cell_type": "code",
   "execution_count": 59,
   "metadata": {},
   "outputs": [
    {
     "data": {
      "image/png": "[encoded data removed]",
      "text/plain": [
       "<Figure size 1080x576 with 2 Axes>"
      ]
     },
     "metadata": {
      "needs_background": "light"
     },
     "output_type": "display_data"
    }
   ],
   "source": [
    "fig, axes = plt.subplots(1,2,figsize=(15,8))\n",
    "\n",
    "sns.countplot(blocks[blocks['collisions'] == 0]['artdescript'], ax=axes[0])\n",
    "axes[0].set_title('Blocks Road Type: No collisions', fontsize=20)\n",
    "axes[0].set_ylabel('Number of Blocks', fontsize=15)\n",
    "axes[0].set_xlabel('Arterial Description', fontsize=15)\n",
    "axes[0].set_xticklabels(axes[0].get_xticklabels(), rotation=45, fontsize=12);\n",
    "\n",
    "sns.countplot(blocks[blocks['collisions'] != 0]['artdescript'], ax=axes[1])\n",
    "axes[1].set_title('Blocks Road Type: Collisions', fontsize=20)\n",
    "axes[1].set_ylabel('Number of Blocks', fontsize=15)\n",
    "axes[1].set_xlabel('Arterial Description', fontsize=15)\n",
    "axes[1].set_xticklabels(axes[1].get_xticklabels(), rotation=45, fontsize=12);\n",
    "\n",
    "plt.savefig('../reports/figures/blocks_artdescript.png')"
   ]
  },
  {
   "cell_type": "code",
   "execution_count": 26,
   "metadata": {},
   "outputs": [
    {
     "data": {
      "text/plain": [
       "Not Designated         16821\n",
       "Minor Arterial          2452\n",
       "Principal Arterial      2179\n",
       "Collector Arterial      1874\n",
       "Interstate/Freeway       262\n",
       "State Route/Freeway       30\n",
       "County Arterial            1\n",
       "Name: artdescript, dtype: int64"
      ]
     },
     "execution_count": 26,
     "metadata": {},
     "output_type": "execute_result"
    }
   ],
   "source": [
    "blocks['artdescript'].value_counts()"
   ]
  },
  {
   "cell_type": "code",
   "execution_count": 14,
   "metadata": {},
   "outputs": [
    {
     "data": {
      "text/plain": [
       "Index(['location', 'artdescript', 'speedlimit', 'segdir', 'oneway',\n",
       "       'surfacetype_1', 'nationhwysys', 'streettype', 'tranclass',\n",
       "       'trandescript', 'slope_pct', 'parkboulevard', 'count',\n",
       "       'total fatalities', 'total serious injuries', 'total evident injuries',\n",
       "       'total possible injuries', 'total vehicles',\n",
       "       'total pedestrians involved', 'total bicyclists involved',\n",
       "       'weigh_fatalities', 'weigh_serious', 'weigh_evident', 'weigh_possible',\n",
       "       'sev_score'],\n",
       "      dtype='object')"
      ]
     },
     "execution_count": 14,
     "metadata": {},
     "output_type": "execute_result"
    }
   ],
   "source": [
    "b_top10.columns"
   ]
  },
  {
   "cell_type": "code",
   "execution_count": 15,
   "metadata": {},
   "outputs": [],
   "source": [
    "blocks['collisions'] = (blocks['sev_score'] > 0).astype(int)"
   ]
  },
  {
   "cell_type": "code",
   "execution_count": 17,
   "metadata": {},
   "outputs": [
    {
     "data": {
      "image/png": "[encoded data removed]",
      "text/plain": [
       "<Figure size 1440x360 with 1 Axes>"
      ]
     },
     "metadata": {
      "needs_background": "light"
     },
     "output_type": "display_data"
    }
   ],
   "source": [
    "fig, ax = plt.subplots(figsize=(20,5))\n",
    "\n",
    "sns.countplot(blocks[blocks['slope_pct'] < 18]['slope_pct'], hue=blocks['collisions'])\n",
    "ax.set_title('Blocks: Collision Slope vs Non-collision Slope',  fontsize=20, color='black');\n",
    "ax.set_ylabel('Number of Blocks', fontsize=15)\n",
    "ax.set_xlabel('Slope Percentage',  fontsize=15)\n",
    "ax.legend(labels=[0,1], title='Collisions', fontsize=10)\n",
    "\n",
    "# plt.savefig('../reports/figures/blocks_slope.png')"
   ]
  },
  {
   "cell_type": "code",
   "execution_count": 21,
   "metadata": {},
   "outputs": [
    {
     "data": {
      "text/plain": [
       "23619"
      ]
     },
     "execution_count": 21,
     "metadata": {},
     "output_type": "execute_result"
    }
   ],
   "source": [
    "len(blocks)"
   ]
  },
  {
   "cell_type": "code",
   "execution_count": 24,
   "metadata": {},
   "outputs": [
    {
     "data": {
      "text/plain": [
       "0.8657436809348406"
      ]
     },
     "execution_count": 24,
     "metadata": {},
     "output_type": "execute_result"
    }
   ],
   "source": [
    "(blocks['speedlimit'] < 30).sum() / len(blocks)"
   ]
  },
  {
   "cell_type": "code",
   "execution_count": 18,
   "metadata": {},
   "outputs": [
    {
     "data": {
      "image/png": "[encoded data removed]",
      "text/plain": [
       "<Figure size 720x360 with 1 Axes>"
      ]
     },
     "metadata": {
      "needs_background": "light"
     },
     "output_type": "display_data"
    }
   ],
   "source": [
    "fig, ax = plt.subplots(figsize=(10,5))\n",
    "\n",
    "ax = sns.barplot(blocks[blocks['speedlimit'] > 0]['speedlimit'].value_counts().index, blocks[blocks['speedlimit'] > 0]['speedlimit'].value_counts().values)\n",
    "ax.set_title('Blocks Speed Limit', fontsize=20, color='black')\n",
    "ax.set_ylabel('Number of Blocks', fontsize=15)\n",
    "ax.set_xlabel('Speed Limit', fontsize=15);\n",
    "\n",
    "# plt.savefig('../reports/figures/blocks_splimit.png')"
   ]
  },
  {
   "cell_type": "code",
   "execution_count": null,
   "metadata": {},
   "outputs": [],
   "source": [
    "fig, ax = plt.subplots(figsize=(20,5))\n",
    "\n",
    "sns.countplot(blocks[blocks['speedlimit'] < 50][''], hue=blocks['collisions'])\n",
    "ax.set_title('Blocks Speed Limit: Collision vs Non-collision',  fontsize=20, color='black');\n",
    "ax.set_ylabel('Number of Blocks', fontsize=15)\n",
    "ax.set_xlabel('Speed Limit',  fontsize=15)\n",
    "ax.legend(labels=[0,1], title='Collisions', fontsize=10)\n",
    "\n",
    "# plt.savefig('../reports/figures/blocks_slope.png')"
   ]
  },
  {
   "cell_type": "code",
   "execution_count": null,
   "metadata": {},
   "outputs": [],
   "source": [
    "# about 72.5% of blocks have had a collision over the 16 year period\n",
    "\n",
    "(blocks['collisions'] != 0).sum() / len(blocks['collisions'])"
   ]
  },
  {
   "cell_type": "code",
   "execution_count": null,
   "metadata": {},
   "outputs": [],
   "source": [
    "fig, ax = plt.subplots(figsize=(15,5))\n",
    "\n",
    "sns.countplot(blocks[blocks['year'] != 0]['year']);"
   ]
  },
  {
   "cell_type": "markdown",
   "metadata": {},
   "source": [
    "#### Remove time"
   ]
  },
  {
   "cell_type": "code",
   "execution_count": null,
   "metadata": {},
   "outputs": [],
   "source": [
    "b_notime = blocks.drop(columns='year').copy()"
   ]
  },
  {
   "cell_type": "code",
   "execution_count": null,
   "metadata": {},
   "outputs": [],
   "source": [
    "b_notime.head()"
   ]
  },
  {
   "cell_type": "code",
   "execution_count": null,
   "metadata": {},
   "outputs": [],
   "source": []
  },
  {
   "cell_type": "code",
   "execution_count": null,
   "metadata": {},
   "outputs": [],
   "source": []
  },
  {
   "cell_type": "markdown",
   "metadata": {},
   "source": [
    "## Blocks with and without collisions"
   ]
  },
  {
   "cell_type": "code",
   "execution_count": null,
   "metadata": {},
   "outputs": [],
   "source": [
    "b_nocol = blocks[blocks['sev_score'] == 0].drop(columns='year').groupby(['location', 'speedlimit', 'slope_pct', 'tranclass']).sum().reset_index()\n",
    "b_yescol = blocks[blocks['sev_score'] != 0].drop(columns='year').groupby(['location', 'speedlimit', 'slope_pct', 'tranclass']).sum().reset_index()"
   ]
  },
  {
   "cell_type": "markdown",
   "metadata": {},
   "source": [
    "#### No Collision Blocks"
   ]
  },
  {
   "cell_type": "code",
   "execution_count": null,
   "metadata": {},
   "outputs": [],
   "source": [
    "b_nocol.describe()"
   ]
  },
  {
   "cell_type": "code",
   "execution_count": null,
   "metadata": {},
   "outputs": [],
   "source": [
    "print('Average speedlimit for blocks with no incidents: ', b_nocol['speedlimit'].mean())\n",
    "print('Average slope percent for blocks with no incidents: ', b_nocol['slope_pct'].mean())"
   ]
  },
  {
   "cell_type": "markdown",
   "metadata": {},
   "source": [
    "#### Collision Blocks"
   ]
  },
  {
   "cell_type": "code",
   "execution_count": null,
   "metadata": {},
   "outputs": [],
   "source": [
    "print('Average speedlimit for blocks with incidents: ', b_yescol['speedlimit'].mean())\n",
    "print('Average slope percent for blocks with incidents: ', b_yescol['slope_pct'].mean())"
   ]
  },
  {
   "cell_type": "code",
   "execution_count": null,
   "metadata": {},
   "outputs": [],
   "source": [
    "b_yescol.describe()"
   ]
  },
  {
   "cell_type": "markdown",
   "metadata": {},
   "source": [
    "#### Plot both"
   ]
  },
  {
   "cell_type": "code",
   "execution_count": null,
   "metadata": {},
   "outputs": [],
   "source": [
    "((b_nocol['slope_pct'].value_counts() / len(b_nocol['slope_pct'])*100).sort_index()).plot(kind='line')"
   ]
  },
  {
   "cell_type": "code",
   "execution_count": null,
   "metadata": {},
   "outputs": [],
   "source": [
    "((b_yescol['slope_pct'].value_counts() / len(b_yescol['slope_pct'])*100).sort_index()).plot(kind='line')"
   ]
  },
  {
   "cell_type": "code",
   "execution_count": null,
   "metadata": {},
   "outputs": [],
   "source": [
    "(b_yescol['slope_pct'].value_counts() / len(b_yescol['slope_pct'])*100).sort_index()"
   ]
  },
  {
   "cell_type": "code",
   "execution_count": null,
   "metadata": {},
   "outputs": [],
   "source": [
    "b_yescol['slope_pct'].mean()"
   ]
  },
  {
   "cell_type": "code",
   "execution_count": null,
   "metadata": {},
   "outputs": [],
   "source": [
    "fig, axes = plt.subplots(1,2,figsize=(25,5))\n",
    "\n",
    "sns.countplot(b_nocol['slope_pct'], ax=axes[0], label='No collisions');\n",
    "sns.countplot(b_yescol['slope_pct'], ax=axes[1], label='collisions');\n",
    "axes[0].legend();\n",
    "axes[1].legend();"
   ]
  },
  {
   "cell_type": "code",
   "execution_count": null,
   "metadata": {},
   "outputs": [],
   "source": [
    "fig, axes = plt.subplots(1,2,figsize=(25,5))\n",
    "\n",
    "sns.countplot(b_nocol['speedlimit'], ax=axes[0], label='No collisions');\n",
    "sns.countplot(b_yescol['speedlimit'], ax=axes[1], label='collisions');\n",
    "axes[0].legend();\n",
    "axes[1].legend();"
   ]
  },
  {
   "cell_type": "code",
   "execution_count": null,
   "metadata": {},
   "outputs": [],
   "source": []
  },
  {
   "cell_type": "markdown",
   "metadata": {},
   "source": [
    "## Intersections"
   ]
  },
  {
   "cell_type": "code",
   "execution_count": null,
   "metadata": {},
   "outputs": [],
   "source": [
    "# about 84% of intersections have had a collision over the 16 year period\n",
    "\n",
    "(intersections['year'] != 0).sum() / len(intersections['year'])"
   ]
  },
  {
   "cell_type": "code",
   "execution_count": null,
   "metadata": {},
   "outputs": [],
   "source": [
    "fig, ax = plt.subplots(figsize=(15,5))\n",
    "\n",
    "sns.countplot(intersections['count']);"
   ]
  },
  {
   "cell_type": "code",
   "execution_count": null,
   "metadata": {},
   "outputs": [],
   "source": [
    "fig, ax = plt.subplots(figsize=(15,5))\n",
    "\n",
    "sns.countplot(intersections[intersections['year'] != 0]['year']);"
   ]
  },
  {
   "cell_type": "markdown",
   "metadata": {},
   "source": [
    "## Circles"
   ]
  },
  {
   "cell_type": "code",
   "execution_count": null,
   "metadata": {},
   "outputs": [],
   "source": [
    "fig, ax = plt.subplots(figsize=(15,5))\n",
    "\n",
    "sns.countplot(circles['count']);"
   ]
  },
  {
   "cell_type": "code",
   "execution_count": null,
   "metadata": {},
   "outputs": [],
   "source": [
    "fig, ax = plt.subplots(figsize=(15,5))\n",
    "\n",
    "sns.countplot(circles[circles['year'] != 0]['year']);"
   ]
  },
  {
   "cell_type": "code",
   "execution_count": null,
   "metadata": {},
   "outputs": [],
   "source": [
    "# about 77% of circles have had a collision over the 16 year period\n",
    "\n",
    "(circles['year'] != 0).sum() / len(circles['year'])"
   ]
  },
  {
   "cell_type": "markdown",
   "metadata": {},
   "source": [
    "## Crosswalks"
   ]
  },
  {
   "cell_type": "code",
   "execution_count": null,
   "metadata": {},
   "outputs": [],
   "source": []
  },
  {
   "cell_type": "code",
   "execution_count": null,
   "metadata": {},
   "outputs": [],
   "source": []
  },
  {
   "cell_type": "code",
   "execution_count": null,
   "metadata": {},
   "outputs": [],
   "source": []
  }
 ],
 "metadata": {
  "kernelspec": {
   "display_name": "Python 3.7.0 64-bit ('anaconda3': virtualenv)",
   "language": "python",
   "name": "python37064bitanaconda3virtualenvdc59f3b7c1d64353bf7dcc6d7e32f36c"
  },
  "language_info": {
   "codemirror_mode": {
    "name": "ipython",
    "version": 3
   },
   "file_extension": ".py",
   "mimetype": "text/x-python",
   "name": "python",
   "nbconvert_exporter": "python",
   "pygments_lexer": "ipython3",
   "version": "3.7.0"
  }
 },
 "nbformat": 4,
 "nbformat_minor": 2
}
