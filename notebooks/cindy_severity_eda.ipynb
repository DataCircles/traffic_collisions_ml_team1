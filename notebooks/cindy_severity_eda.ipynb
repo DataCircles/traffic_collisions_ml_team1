{
 "cells": [
  {
   "cell_type": "code",
   "execution_count": 1,
   "metadata": {},
   "outputs": [],
   "source": [
    "# Import Modules\n",
    "import numpy as np\n",
    "import pandas as pd\n",
    "import seaborn as sns\n",
    "import matplotlib.pyplot as plt\n",
    "\n",
    "#modeling tools\n",
    "import statsmodels.api as sm\n",
    "\n",
    "import lightgbm as lgb\n",
    "\n",
    "from sklearn.tree import DecisionTreeRegressor, DecisionTreeClassifier\n",
    "from sklearn.ensemble import GradientBoostingClassifier, RandomForestClassifier, RandomForestRegressor\n",
    "from sklearn.metrics import mean_squared_error, confusion_matrix, auc, roc_auc_score, roc_curve, log_loss, make_scorer\n",
    "from sklearn.model_selection import cross_val_score, train_test_split, GridSearchCV\n",
    "\n",
    "%matplotlib inline\n",
    "plt.style.use('dark_background')\n",
    "\n",
    "%load_ext autoreload\n",
    "%autoreload 2\n",
    "\n",
    "# pd.set_option('display.min_row', 25)\n",
    "pd.set_option('display.max_column', 100)\n",
    "pd.set_option('display.max_colwidth', 300)"
   ]
  },
  {
   "cell_type": "code",
   "execution_count": 131,
   "metadata": {},
   "outputs": [],
   "source": [
    "blocks = pd.read_csv('../data/processed/blocks_sev_score.csv', index_col=0)\n",
    "intersections = pd.read_csv('../data/processed/intersections_sev_score.csv', index_col=0)\n",
    "circles = pd.read_csv('../data/processed/circles_sev_score.csv', index_col=0)\n",
    "crosswalks = pd.read_csv('../data/processed/crosswalks_sev_score.csv', index_col=0)"
   ]
  },
  {
   "cell_type": "markdown",
   "metadata": {},
   "source": [
    "## Blocks"
   ]
  },
  {
   "cell_type": "code",
   "execution_count": 132,
   "metadata": {},
   "outputs": [
    {
     "data": {
      "text/html": [
       "<div>\n",
       "<style scoped>\n",
       "    .dataframe tbody tr th:only-of-type {\n",
       "        vertical-align: middle;\n",
       "    }\n",
       "\n",
       "    .dataframe tbody tr th {\n",
       "        vertical-align: top;\n",
       "    }\n",
       "\n",
       "    .dataframe thead th {\n",
       "        text-align: right;\n",
       "    }\n",
       "</style>\n",
       "<table border=\"1\" class=\"dataframe\">\n",
       "  <thead>\n",
       "    <tr style=\"text-align: right;\">\n",
       "      <th></th>\n",
       "      <th>location</th>\n",
       "      <th>artdescript</th>\n",
       "      <th>speedlimit</th>\n",
       "      <th>segdir</th>\n",
       "      <th>oneway</th>\n",
       "      <th>surfacetype_1</th>\n",
       "      <th>nationhwysys</th>\n",
       "      <th>streettype</th>\n",
       "      <th>tranclass</th>\n",
       "      <th>trandescript</th>\n",
       "      <th>slope_pct</th>\n",
       "      <th>parkboulevard</th>\n",
       "      <th>year</th>\n",
       "      <th>count</th>\n",
       "      <th>total fatalities</th>\n",
       "      <th>total serious injuries</th>\n",
       "      <th>total evident injuries</th>\n",
       "      <th>total possible injuries</th>\n",
       "      <th>total vehicles</th>\n",
       "      <th>total pedestrians involved</th>\n",
       "      <th>total bicyclists involved</th>\n",
       "      <th>weigh_fatalities</th>\n",
       "      <th>weigh_serious</th>\n",
       "      <th>weigh_evident</th>\n",
       "      <th>weigh_possible</th>\n",
       "      <th>sev_score</th>\n",
       "    </tr>\n",
       "  </thead>\n",
       "  <tbody>\n",
       "    <tr>\n",
       "      <th>0</th>\n",
       "      <td>1ST AVE BETWEEN SENECA ST AND UNIVERSITY ST</td>\n",
       "      <td>Minor Arterial</td>\n",
       "      <td>25.0</td>\n",
       "      <td>NW</td>\n",
       "      <td>N</td>\n",
       "      <td>PCC</td>\n",
       "      <td>N</td>\n",
       "      <td>Downtown Neighborhood</td>\n",
       "      <td>1</td>\n",
       "      <td>PRINCIPAL TRANSIT ROUTE</td>\n",
       "      <td>4.0</td>\n",
       "      <td>N</td>\n",
       "      <td>2004.0</td>\n",
       "      <td>1.0</td>\n",
       "      <td>0.0</td>\n",
       "      <td>0.0</td>\n",
       "      <td>0.0</td>\n",
       "      <td>0.0</td>\n",
       "      <td>0.0</td>\n",
       "      <td>0.0</td>\n",
       "      <td>0.0</td>\n",
       "      <td>0.0</td>\n",
       "      <td>0.0</td>\n",
       "      <td>0.0</td>\n",
       "      <td>0.0</td>\n",
       "      <td>0.000004</td>\n",
       "    </tr>\n",
       "    <tr>\n",
       "      <th>1</th>\n",
       "      <td>1ST AVE BETWEEN SENECA ST AND UNIVERSITY ST</td>\n",
       "      <td>Minor Arterial</td>\n",
       "      <td>25.0</td>\n",
       "      <td>NW</td>\n",
       "      <td>N</td>\n",
       "      <td>PCC</td>\n",
       "      <td>N</td>\n",
       "      <td>Downtown Neighborhood</td>\n",
       "      <td>1</td>\n",
       "      <td>PRINCIPAL TRANSIT ROUTE</td>\n",
       "      <td>4.0</td>\n",
       "      <td>N</td>\n",
       "      <td>2005.0</td>\n",
       "      <td>2.0</td>\n",
       "      <td>0.0</td>\n",
       "      <td>0.0</td>\n",
       "      <td>0.0</td>\n",
       "      <td>1.0</td>\n",
       "      <td>5.0</td>\n",
       "      <td>0.0</td>\n",
       "      <td>0.0</td>\n",
       "      <td>0.0</td>\n",
       "      <td>0.0</td>\n",
       "      <td>0.0</td>\n",
       "      <td>2.0</td>\n",
       "      <td>0.000018</td>\n",
       "    </tr>\n",
       "    <tr>\n",
       "      <th>2</th>\n",
       "      <td>1ST AVE BETWEEN SENECA ST AND UNIVERSITY ST</td>\n",
       "      <td>Minor Arterial</td>\n",
       "      <td>25.0</td>\n",
       "      <td>NW</td>\n",
       "      <td>N</td>\n",
       "      <td>PCC</td>\n",
       "      <td>N</td>\n",
       "      <td>Downtown Neighborhood</td>\n",
       "      <td>1</td>\n",
       "      <td>PRINCIPAL TRANSIT ROUTE</td>\n",
       "      <td>4.0</td>\n",
       "      <td>N</td>\n",
       "      <td>2006.0</td>\n",
       "      <td>3.0</td>\n",
       "      <td>0.0</td>\n",
       "      <td>0.0</td>\n",
       "      <td>0.0</td>\n",
       "      <td>0.0</td>\n",
       "      <td>2.0</td>\n",
       "      <td>0.0</td>\n",
       "      <td>0.0</td>\n",
       "      <td>0.0</td>\n",
       "      <td>0.0</td>\n",
       "      <td>0.0</td>\n",
       "      <td>0.0</td>\n",
       "      <td>0.000013</td>\n",
       "    </tr>\n",
       "    <tr>\n",
       "      <th>3</th>\n",
       "      <td>1ST AVE BETWEEN SENECA ST AND UNIVERSITY ST</td>\n",
       "      <td>Minor Arterial</td>\n",
       "      <td>25.0</td>\n",
       "      <td>NW</td>\n",
       "      <td>N</td>\n",
       "      <td>PCC</td>\n",
       "      <td>N</td>\n",
       "      <td>Downtown Neighborhood</td>\n",
       "      <td>1</td>\n",
       "      <td>PRINCIPAL TRANSIT ROUTE</td>\n",
       "      <td>4.0</td>\n",
       "      <td>N</td>\n",
       "      <td>2007.0</td>\n",
       "      <td>4.0</td>\n",
       "      <td>0.0</td>\n",
       "      <td>0.0</td>\n",
       "      <td>0.0</td>\n",
       "      <td>0.0</td>\n",
       "      <td>7.0</td>\n",
       "      <td>0.0</td>\n",
       "      <td>0.0</td>\n",
       "      <td>0.0</td>\n",
       "      <td>0.0</td>\n",
       "      <td>0.0</td>\n",
       "      <td>0.0</td>\n",
       "      <td>0.000018</td>\n",
       "    </tr>\n",
       "    <tr>\n",
       "      <th>4</th>\n",
       "      <td>1ST AVE BETWEEN SENECA ST AND UNIVERSITY ST</td>\n",
       "      <td>Minor Arterial</td>\n",
       "      <td>25.0</td>\n",
       "      <td>NW</td>\n",
       "      <td>N</td>\n",
       "      <td>PCC</td>\n",
       "      <td>N</td>\n",
       "      <td>Downtown Neighborhood</td>\n",
       "      <td>1</td>\n",
       "      <td>PRINCIPAL TRANSIT ROUTE</td>\n",
       "      <td>4.0</td>\n",
       "      <td>N</td>\n",
       "      <td>2008.0</td>\n",
       "      <td>3.0</td>\n",
       "      <td>0.0</td>\n",
       "      <td>0.0</td>\n",
       "      <td>0.0</td>\n",
       "      <td>0.0</td>\n",
       "      <td>7.0</td>\n",
       "      <td>0.0</td>\n",
       "      <td>0.0</td>\n",
       "      <td>0.0</td>\n",
       "      <td>0.0</td>\n",
       "      <td>0.0</td>\n",
       "      <td>0.0</td>\n",
       "      <td>0.000013</td>\n",
       "    </tr>\n",
       "  </tbody>\n",
       "</table>\n",
       "</div>"
      ],
      "text/plain": [
       "                                      location     artdescript  speedlimit  \\\n",
       "0  1ST AVE BETWEEN SENECA ST AND UNIVERSITY ST  Minor Arterial        25.0   \n",
       "1  1ST AVE BETWEEN SENECA ST AND UNIVERSITY ST  Minor Arterial        25.0   \n",
       "2  1ST AVE BETWEEN SENECA ST AND UNIVERSITY ST  Minor Arterial        25.0   \n",
       "3  1ST AVE BETWEEN SENECA ST AND UNIVERSITY ST  Minor Arterial        25.0   \n",
       "4  1ST AVE BETWEEN SENECA ST AND UNIVERSITY ST  Minor Arterial        25.0   \n",
       "\n",
       "  segdir oneway surfacetype_1 nationhwysys             streettype  tranclass  \\\n",
       "0     NW      N           PCC            N  Downtown Neighborhood          1   \n",
       "1     NW      N           PCC            N  Downtown Neighborhood          1   \n",
       "2     NW      N           PCC            N  Downtown Neighborhood          1   \n",
       "3     NW      N           PCC            N  Downtown Neighborhood          1   \n",
       "4     NW      N           PCC            N  Downtown Neighborhood          1   \n",
       "\n",
       "              trandescript  slope_pct parkboulevard    year  count  \\\n",
       "0  PRINCIPAL TRANSIT ROUTE        4.0             N  2004.0    1.0   \n",
       "1  PRINCIPAL TRANSIT ROUTE        4.0             N  2005.0    2.0   \n",
       "2  PRINCIPAL TRANSIT ROUTE        4.0             N  2006.0    3.0   \n",
       "3  PRINCIPAL TRANSIT ROUTE        4.0             N  2007.0    4.0   \n",
       "4  PRINCIPAL TRANSIT ROUTE        4.0             N  2008.0    3.0   \n",
       "\n",
       "   total fatalities  total serious injuries  total evident injuries  \\\n",
       "0               0.0                     0.0                     0.0   \n",
       "1               0.0                     0.0                     0.0   \n",
       "2               0.0                     0.0                     0.0   \n",
       "3               0.0                     0.0                     0.0   \n",
       "4               0.0                     0.0                     0.0   \n",
       "\n",
       "   total possible injuries  total vehicles  total pedestrians involved  \\\n",
       "0                      0.0             0.0                         0.0   \n",
       "1                      1.0             5.0                         0.0   \n",
       "2                      0.0             2.0                         0.0   \n",
       "3                      0.0             7.0                         0.0   \n",
       "4                      0.0             7.0                         0.0   \n",
       "\n",
       "   total bicyclists involved  weigh_fatalities  weigh_serious  weigh_evident  \\\n",
       "0                        0.0               0.0            0.0            0.0   \n",
       "1                        0.0               0.0            0.0            0.0   \n",
       "2                        0.0               0.0            0.0            0.0   \n",
       "3                        0.0               0.0            0.0            0.0   \n",
       "4                        0.0               0.0            0.0            0.0   \n",
       "\n",
       "   weigh_possible  sev_score  \n",
       "0             0.0   0.000004  \n",
       "1             2.0   0.000018  \n",
       "2             0.0   0.000013  \n",
       "3             0.0   0.000018  \n",
       "4             0.0   0.000013  "
      ]
     },
     "execution_count": 132,
     "metadata": {},
     "output_type": "execute_result"
    }
   ],
   "source": [
    "blocks.head()"
   ]
  },
  {
   "cell_type": "code",
   "execution_count": 133,
   "metadata": {},
   "outputs": [
    {
     "name": "stdout",
     "output_type": "stream",
     "text": [
      "<class 'pandas.core.frame.DataFrame'>\n",
      "Int64Index: 87248 entries, 0 to 87247\n",
      "Data columns (total 26 columns):\n",
      " #   Column                      Non-Null Count  Dtype  \n",
      "---  ------                      --------------  -----  \n",
      " 0   location                    87248 non-null  object \n",
      " 1   artdescript                 87248 non-null  object \n",
      " 2   speedlimit                  87248 non-null  float64\n",
      " 3   segdir                      87248 non-null  object \n",
      " 4   oneway                      87248 non-null  object \n",
      " 5   surfacetype_1               87248 non-null  object \n",
      " 6   nationhwysys                87248 non-null  object \n",
      " 7   streettype                  87248 non-null  object \n",
      " 8   tranclass                   87248 non-null  int64  \n",
      " 9   trandescript                87248 non-null  object \n",
      " 10  slope_pct                   87248 non-null  float64\n",
      " 11  parkboulevard               87248 non-null  object \n",
      " 12  year                        87248 non-null  float64\n",
      " 13  count                       87248 non-null  float64\n",
      " 14  total fatalities            87248 non-null  float64\n",
      " 15  total serious injuries      87248 non-null  float64\n",
      " 16  total evident injuries      87248 non-null  float64\n",
      " 17  total possible injuries     87248 non-null  float64\n",
      " 18  total vehicles              87248 non-null  float64\n",
      " 19  total pedestrians involved  87248 non-null  float64\n",
      " 20  total bicyclists involved   87248 non-null  float64\n",
      " 21  weigh_fatalities            87248 non-null  float64\n",
      " 22  weigh_serious               87248 non-null  float64\n",
      " 23  weigh_evident               87248 non-null  float64\n",
      " 24  weigh_possible              87248 non-null  float64\n",
      " 25  sev_score                   87248 non-null  float64\n",
      "dtypes: float64(16), int64(1), object(9)\n",
      "memory usage: 18.0+ MB\n"
     ]
    }
   ],
   "source": [
    "# check datatype\n",
    "blocks.info()"
   ]
  },
  {
   "cell_type": "code",
   "execution_count": 134,
   "metadata": {},
   "outputs": [
    {
     "data": {
      "image/png": "[encoded data removed]",
      "text/plain": [
       "<Figure size 1080x360 with 1 Axes>"
      ]
     },
     "metadata": {
      "needs_background": "dark"
     },
     "output_type": "display_data"
    }
   ],
   "source": [
    "fig, ax = plt.subplots(figsize=(15,5))\n",
    "\n",
    "sns.countplot(blocks['count']);"
   ]
  },
  {
   "cell_type": "code",
   "execution_count": 228,
   "metadata": {},
   "outputs": [
    {
     "data": {
      "text/plain": [
       "Index(['location', 'artdescript', 'speedlimit', 'segdir', 'oneway',\n",
       "       'surfacetype_1', 'nationhwysys', 'streettype', 'tranclass',\n",
       "       'trandescript', 'slope_pct', 'parkboulevard', 'year', 'count',\n",
       "       'total fatalities', 'total serious injuries', 'total evident injuries',\n",
       "       'total possible injuries', 'total vehicles',\n",
       "       'total pedestrians involved', 'total bicyclists involved',\n",
       "       'weigh_fatalities', 'weigh_serious', 'weigh_evident', 'weigh_possible',\n",
       "       'sev_score'],\n",
       "      dtype='object')"
      ]
     },
     "execution_count": 228,
     "metadata": {},
     "output_type": "execute_result"
    }
   ],
   "source": [
    "blocks.columns"
   ]
  },
  {
   "cell_type": "code",
   "execution_count": 232,
   "metadata": {},
   "outputs": [],
   "source": [
    "blocks = blocks.groupby(['location', 'artdescript', 'speedlimit', 'segdir', 'oneway',\n",
    "       'surfacetype_1', 'nationhwysys', 'streettype', 'tranclass',\n",
    "       'trandescript', 'slope_pct', 'parkboulevard']).sum().drop(columns='year').reset_index()"
   ]
  },
  {
   "cell_type": "code",
   "execution_count": 233,
   "metadata": {},
   "outputs": [],
   "source": [
    "b_top10 = blocks.sort_values(by='count', ascending=False)[:10]"
   ]
  },
  {
   "cell_type": "code",
   "execution_count": 234,
   "metadata": {},
   "outputs": [],
   "source": [
    "b_lowest = blocks.sort_values(by='count')[:10]"
   ]
  },
  {
   "cell_type": "markdown",
   "metadata": {},
   "source": [
    "The top 10 blocks with the most count of collisions are all Principal Arterials"
   ]
  },
  {
   "cell_type": "code",
   "execution_count": 235,
   "metadata": {},
   "outputs": [
    {
     "data": {
      "text/plain": [
       "3.8"
      ]
     },
     "execution_count": 235,
     "metadata": {},
     "output_type": "execute_result"
    }
   ],
   "source": [
    "b_lowest['slope_pct'].mean()"
   ]
  },
  {
   "cell_type": "code",
   "execution_count": 236,
   "metadata": {},
   "outputs": [
    {
     "data": {
      "text/plain": [
       "1.4"
      ]
     },
     "execution_count": 236,
     "metadata": {},
     "output_type": "execute_result"
    }
   ],
   "source": [
    "b_top10['slope_pct'].mean()"
   ]
  },
  {
   "cell_type": "code",
   "execution_count": 237,
   "metadata": {},
   "outputs": [
    {
     "data": {
      "text/plain": [
       "3.8"
      ]
     },
     "execution_count": 237,
     "metadata": {},
     "output_type": "execute_result"
    }
   ],
   "source": [
    "b_lowest['slope_pct'].mean()"
   ]
  },
  {
   "cell_type": "code",
   "execution_count": 238,
   "metadata": {},
   "outputs": [
    {
     "name": "stdout",
     "output_type": "stream",
     "text": [
      "13788                                N NORTHGATE WAY BETWEEN MERIDIAN AVE N AND CORLISS AVE N\n",
      "8034                                           AURORA AVE N BETWEEN N 117TH PL AND N 125TH ST\n",
      "8038                                           AURORA AVE N BETWEEN N 130TH ST AND N 135TH ST\n",
      "17427                                   RAINIER AVE S BETWEEN S BAYVIEW ST AND S MCCLELLAN ST\n",
      "23294    WEST SEATTLE BR EB BETWEEN ALASKAN WY VI NB ON RP AND DELRIDGE-W SEATTLE BR EB ON RP\n",
      "8105                                               AURORA BR BETWEEN RAYE ST AND BRIDGE WAY N\n",
      "1505                                                 1ST AVE BETWEEN BLANCHARD ST AND BELL ST\n",
      "17460                                RAINIER AVE S BETWEEN S HENDERSON ST AND S DIRECTOR N ST\n",
      "15731                                      NE NORTHGATE WAY BETWEEN 3RD AVE NE AND 5TH AVE NE\n",
      "17433                                 RAINIER AVE S BETWEEN S CHARLESTOWN ST AND S ANDOVER ST\n",
      "Name: location, dtype: object\n"
     ]
    }
   ],
   "source": [
    "print(b_top10['location'])"
   ]
  },
  {
   "cell_type": "code",
   "execution_count": 243,
   "metadata": {},
   "outputs": [
    {
     "data": {
      "text/plain": [
       "Index(['location', 'artdescript', 'speedlimit', 'segdir', 'oneway',\n",
       "       'surfacetype_1', 'nationhwysys', 'streettype', 'tranclass',\n",
       "       'trandescript', 'slope_pct', 'parkboulevard', 'count',\n",
       "       'total fatalities', 'total serious injuries', 'total evident injuries',\n",
       "       'total possible injuries', 'total vehicles',\n",
       "       'total pedestrians involved', 'total bicyclists involved',\n",
       "       'weigh_fatalities', 'weigh_serious', 'weigh_evident', 'weigh_possible',\n",
       "       'sev_score'],\n",
       "      dtype='object')"
      ]
     },
     "execution_count": 243,
     "metadata": {},
     "output_type": "execute_result"
    }
   ],
   "source": [
    "b_top10.columns"
   ]
  },
  {
   "cell_type": "code",
   "execution_count": 244,
   "metadata": {},
   "outputs": [],
   "source": [
    "blocks['collisions'] = (blocks['sev_score'] > 0).astype(int)"
   ]
  },
  {
   "cell_type": "code",
   "execution_count": 274,
   "metadata": {},
   "outputs": [
    {
     "data": {
      "image/png": "[encoded data removed]",
      "text/plain": [
       "<Figure size 1440x360 with 1 Axes>"
      ]
     },
     "metadata": {
      "needs_background": "dark"
     },
     "output_type": "display_data"
    }
   ],
   "source": [
    "fig, ax = plt.subplots(figsize=(20,5))\n",
    "\n",
    "sns.countplot(blocks[blocks['slope_pct'] < 18]['slope_pct'], hue=blocks['collisions'])\n",
    "ax.set_title('Blocks: Collision Slope vs Non-collision Slope',  fontsize=20);\n",
    "ax.set_ylabel('Number of Blocks', fontsize=15)\n",
    "ax.set_xlabel('Slope Percentage',  fontsize=15)\n",
    "ax.legend(labels=[0,1], title='Collisions', fontsize=10)\n",
    "\n",
    "plt.savefig('../reports/figures/blocks_slope.png')"
   ]
  },
  {
   "cell_type": "code",
   "execution_count": 137,
   "metadata": {},
   "outputs": [],
   "source": [
    "b_top10_sev = blocks.sort_values(by='sev_score', ascending=False)[:10]"
   ]
  },
  {
   "cell_type": "code",
   "execution_count": 138,
   "metadata": {},
   "outputs": [
    {
     "data": {
      "text/html": [
       "<div>\n",
       "<style scoped>\n",
       "    .dataframe tbody tr th:only-of-type {\n",
       "        vertical-align: middle;\n",
       "    }\n",
       "\n",
       "    .dataframe tbody tr th {\n",
       "        vertical-align: top;\n",
       "    }\n",
       "\n",
       "    .dataframe thead th {\n",
       "        text-align: right;\n",
       "    }\n",
       "</style>\n",
       "<table border=\"1\" class=\"dataframe\">\n",
       "  <thead>\n",
       "    <tr style=\"text-align: right;\">\n",
       "      <th></th>\n",
       "      <th>location</th>\n",
       "      <th>artdescript</th>\n",
       "      <th>speedlimit</th>\n",
       "      <th>segdir</th>\n",
       "      <th>oneway</th>\n",
       "      <th>surfacetype_1</th>\n",
       "      <th>nationhwysys</th>\n",
       "      <th>streettype</th>\n",
       "      <th>tranclass</th>\n",
       "      <th>trandescript</th>\n",
       "      <th>slope_pct</th>\n",
       "      <th>parkboulevard</th>\n",
       "      <th>year</th>\n",
       "      <th>count</th>\n",
       "      <th>total fatalities</th>\n",
       "      <th>total serious injuries</th>\n",
       "      <th>total evident injuries</th>\n",
       "      <th>total possible injuries</th>\n",
       "      <th>total vehicles</th>\n",
       "      <th>total pedestrians involved</th>\n",
       "      <th>total bicyclists involved</th>\n",
       "      <th>weigh_fatalities</th>\n",
       "      <th>weigh_serious</th>\n",
       "      <th>weigh_evident</th>\n",
       "      <th>weigh_possible</th>\n",
       "      <th>sev_score</th>\n",
       "    </tr>\n",
       "  </thead>\n",
       "  <tbody>\n",
       "    <tr>\n",
       "      <th>46276</th>\n",
       "      <td>AURORA BR BETWEEN RAYE ST AND BRIDGE WAY N</td>\n",
       "      <td>Principal Arterial</td>\n",
       "      <td>40.0</td>\n",
       "      <td>N</td>\n",
       "      <td>N</td>\n",
       "      <td>AC/PCC</td>\n",
       "      <td>N</td>\n",
       "      <td>Urban Village Main</td>\n",
       "      <td>2</td>\n",
       "      <td>MAJOR TRANSIT ROUTE</td>\n",
       "      <td>2.0</td>\n",
       "      <td>N</td>\n",
       "      <td>2015.0</td>\n",
       "      <td>23.0</td>\n",
       "      <td>5.0</td>\n",
       "      <td>41.0</td>\n",
       "      <td>27.0</td>\n",
       "      <td>30.0</td>\n",
       "      <td>51.0</td>\n",
       "      <td>0.0</td>\n",
       "      <td>0.0</td>\n",
       "      <td>25.0</td>\n",
       "      <td>164.0</td>\n",
       "      <td>81.0</td>\n",
       "      <td>60.0</td>\n",
       "      <td>0.001552</td>\n",
       "    </tr>\n",
       "    <tr>\n",
       "      <th>32884</th>\n",
       "      <td>HIGHLAND PARK WAY SW BETWEEN WEST MARGINAL WAY SW AND SW OTHELLO ST</td>\n",
       "      <td>Principal Arterial</td>\n",
       "      <td>25.0</td>\n",
       "      <td>W</td>\n",
       "      <td>N</td>\n",
       "      <td>AC/PCC</td>\n",
       "      <td>N</td>\n",
       "      <td>Neighborhood Corridor</td>\n",
       "      <td>3</td>\n",
       "      <td>MINOR TRANSIT ROUTE</td>\n",
       "      <td>11.0</td>\n",
       "      <td>N</td>\n",
       "      <td>2005.0</td>\n",
       "      <td>18.0</td>\n",
       "      <td>0.0</td>\n",
       "      <td>2.0</td>\n",
       "      <td>6.0</td>\n",
       "      <td>13.0</td>\n",
       "      <td>30.0</td>\n",
       "      <td>1.0</td>\n",
       "      <td>0.0</td>\n",
       "      <td>0.0</td>\n",
       "      <td>8.0</td>\n",
       "      <td>18.0</td>\n",
       "      <td>26.0</td>\n",
       "      <td>0.000308</td>\n",
       "    </tr>\n",
       "  </tbody>\n",
       "</table>\n",
       "</div>"
      ],
      "text/plain": [
       "                                                                  location  \\\n",
       "46276                           AURORA BR BETWEEN RAYE ST AND BRIDGE WAY N   \n",
       "32884  HIGHLAND PARK WAY SW BETWEEN WEST MARGINAL WAY SW AND SW OTHELLO ST   \n",
       "\n",
       "              artdescript  speedlimit segdir oneway surfacetype_1  \\\n",
       "46276  Principal Arterial        40.0      N      N        AC/PCC   \n",
       "32884  Principal Arterial        25.0      W      N        AC/PCC   \n",
       "\n",
       "      nationhwysys             streettype  tranclass         trandescript  \\\n",
       "46276            N     Urban Village Main          2  MAJOR TRANSIT ROUTE   \n",
       "32884            N  Neighborhood Corridor          3  MINOR TRANSIT ROUTE   \n",
       "\n",
       "       slope_pct parkboulevard    year  count  total fatalities  \\\n",
       "46276        2.0             N  2015.0   23.0               5.0   \n",
       "32884       11.0             N  2005.0   18.0               0.0   \n",
       "\n",
       "       total serious injuries  total evident injuries  \\\n",
       "46276                    41.0                    27.0   \n",
       "32884                     2.0                     6.0   \n",
       "\n",
       "       total possible injuries  total vehicles  total pedestrians involved  \\\n",
       "46276                     30.0            51.0                         0.0   \n",
       "32884                     13.0            30.0                         1.0   \n",
       "\n",
       "       total bicyclists involved  weigh_fatalities  weigh_serious  \\\n",
       "46276                        0.0              25.0          164.0   \n",
       "32884                        0.0               0.0            8.0   \n",
       "\n",
       "       weigh_evident  weigh_possible  sev_score  \n",
       "46276           81.0            60.0   0.001552  \n",
       "32884           18.0            26.0   0.000308  "
      ]
     },
     "execution_count": 138,
     "metadata": {},
     "output_type": "execute_result"
    }
   ],
   "source": [
    "b_top10_sev.head(2)"
   ]
  },
  {
   "cell_type": "code",
   "execution_count": 139,
   "metadata": {},
   "outputs": [
    {
     "data": {
      "text/plain": [
       "0.9254653401797176"
      ]
     },
     "execution_count": 139,
     "metadata": {},
     "output_type": "execute_result"
    }
   ],
   "source": [
    "# about 93% of blocks have had a collision over the 16 year period\n",
    "\n",
    "(blocks['year'] != 0).sum() / len(blocks['year'])"
   ]
  },
  {
   "cell_type": "code",
   "execution_count": 140,
   "metadata": {},
   "outputs": [
    {
     "data": {
      "image/png": "[encoded data removed]",
      "text/plain": [
       "<Figure size 1080x360 with 1 Axes>"
      ]
     },
     "metadata": {
      "needs_background": "dark"
     },
     "output_type": "display_data"
    }
   ],
   "source": [
    "fig, ax = plt.subplots(figsize=(15,5))\n",
    "\n",
    "sns.countplot(blocks[blocks['year'] != 0]['year']);"
   ]
  },
  {
   "cell_type": "markdown",
   "metadata": {},
   "source": [
    "#### Remove time"
   ]
  },
  {
   "cell_type": "code",
   "execution_count": 141,
   "metadata": {},
   "outputs": [],
   "source": [
    "b_notime = blocks.drop(columns='year').copy()"
   ]
  },
  {
   "cell_type": "code",
   "execution_count": 152,
   "metadata": {},
   "outputs": [
    {
     "data": {
      "text/html": [
       "<div>\n",
       "<style scoped>\n",
       "    .dataframe tbody tr th:only-of-type {\n",
       "        vertical-align: middle;\n",
       "    }\n",
       "\n",
       "    .dataframe tbody tr th {\n",
       "        vertical-align: top;\n",
       "    }\n",
       "\n",
       "    .dataframe thead th {\n",
       "        text-align: right;\n",
       "    }\n",
       "</style>\n",
       "<table border=\"1\" class=\"dataframe\">\n",
       "  <thead>\n",
       "    <tr style=\"text-align: right;\">\n",
       "      <th></th>\n",
       "      <th>location</th>\n",
       "      <th>artdescript</th>\n",
       "      <th>speedlimit</th>\n",
       "      <th>segdir</th>\n",
       "      <th>oneway</th>\n",
       "      <th>surfacetype_1</th>\n",
       "      <th>nationhwysys</th>\n",
       "      <th>streettype</th>\n",
       "      <th>tranclass</th>\n",
       "      <th>trandescript</th>\n",
       "      <th>slope_pct</th>\n",
       "      <th>parkboulevard</th>\n",
       "      <th>count</th>\n",
       "      <th>total fatalities</th>\n",
       "      <th>total serious injuries</th>\n",
       "      <th>total evident injuries</th>\n",
       "      <th>total possible injuries</th>\n",
       "      <th>total vehicles</th>\n",
       "      <th>total pedestrians involved</th>\n",
       "      <th>total bicyclists involved</th>\n",
       "      <th>weigh_fatalities</th>\n",
       "      <th>weigh_serious</th>\n",
       "      <th>weigh_evident</th>\n",
       "      <th>weigh_possible</th>\n",
       "      <th>sev_score</th>\n",
       "    </tr>\n",
       "  </thead>\n",
       "  <tbody>\n",
       "    <tr>\n",
       "      <th>0</th>\n",
       "      <td>1ST AVE BETWEEN SENECA ST AND UNIVERSITY ST</td>\n",
       "      <td>Minor Arterial</td>\n",
       "      <td>25.0</td>\n",
       "      <td>NW</td>\n",
       "      <td>N</td>\n",
       "      <td>PCC</td>\n",
       "      <td>N</td>\n",
       "      <td>Downtown Neighborhood</td>\n",
       "      <td>1</td>\n",
       "      <td>PRINCIPAL TRANSIT ROUTE</td>\n",
       "      <td>4.0</td>\n",
       "      <td>N</td>\n",
       "      <td>1.0</td>\n",
       "      <td>0.0</td>\n",
       "      <td>0.0</td>\n",
       "      <td>0.0</td>\n",
       "      <td>0.0</td>\n",
       "      <td>0.0</td>\n",
       "      <td>0.0</td>\n",
       "      <td>0.0</td>\n",
       "      <td>0.0</td>\n",
       "      <td>0.0</td>\n",
       "      <td>0.0</td>\n",
       "      <td>0.0</td>\n",
       "      <td>0.000004</td>\n",
       "    </tr>\n",
       "    <tr>\n",
       "      <th>1</th>\n",
       "      <td>1ST AVE BETWEEN SENECA ST AND UNIVERSITY ST</td>\n",
       "      <td>Minor Arterial</td>\n",
       "      <td>25.0</td>\n",
       "      <td>NW</td>\n",
       "      <td>N</td>\n",
       "      <td>PCC</td>\n",
       "      <td>N</td>\n",
       "      <td>Downtown Neighborhood</td>\n",
       "      <td>1</td>\n",
       "      <td>PRINCIPAL TRANSIT ROUTE</td>\n",
       "      <td>4.0</td>\n",
       "      <td>N</td>\n",
       "      <td>2.0</td>\n",
       "      <td>0.0</td>\n",
       "      <td>0.0</td>\n",
       "      <td>0.0</td>\n",
       "      <td>1.0</td>\n",
       "      <td>5.0</td>\n",
       "      <td>0.0</td>\n",
       "      <td>0.0</td>\n",
       "      <td>0.0</td>\n",
       "      <td>0.0</td>\n",
       "      <td>0.0</td>\n",
       "      <td>2.0</td>\n",
       "      <td>0.000018</td>\n",
       "    </tr>\n",
       "    <tr>\n",
       "      <th>2</th>\n",
       "      <td>1ST AVE BETWEEN SENECA ST AND UNIVERSITY ST</td>\n",
       "      <td>Minor Arterial</td>\n",
       "      <td>25.0</td>\n",
       "      <td>NW</td>\n",
       "      <td>N</td>\n",
       "      <td>PCC</td>\n",
       "      <td>N</td>\n",
       "      <td>Downtown Neighborhood</td>\n",
       "      <td>1</td>\n",
       "      <td>PRINCIPAL TRANSIT ROUTE</td>\n",
       "      <td>4.0</td>\n",
       "      <td>N</td>\n",
       "      <td>3.0</td>\n",
       "      <td>0.0</td>\n",
       "      <td>0.0</td>\n",
       "      <td>0.0</td>\n",
       "      <td>0.0</td>\n",
       "      <td>2.0</td>\n",
       "      <td>0.0</td>\n",
       "      <td>0.0</td>\n",
       "      <td>0.0</td>\n",
       "      <td>0.0</td>\n",
       "      <td>0.0</td>\n",
       "      <td>0.0</td>\n",
       "      <td>0.000013</td>\n",
       "    </tr>\n",
       "    <tr>\n",
       "      <th>3</th>\n",
       "      <td>1ST AVE BETWEEN SENECA ST AND UNIVERSITY ST</td>\n",
       "      <td>Minor Arterial</td>\n",
       "      <td>25.0</td>\n",
       "      <td>NW</td>\n",
       "      <td>N</td>\n",
       "      <td>PCC</td>\n",
       "      <td>N</td>\n",
       "      <td>Downtown Neighborhood</td>\n",
       "      <td>1</td>\n",
       "      <td>PRINCIPAL TRANSIT ROUTE</td>\n",
       "      <td>4.0</td>\n",
       "      <td>N</td>\n",
       "      <td>4.0</td>\n",
       "      <td>0.0</td>\n",
       "      <td>0.0</td>\n",
       "      <td>0.0</td>\n",
       "      <td>0.0</td>\n",
       "      <td>7.0</td>\n",
       "      <td>0.0</td>\n",
       "      <td>0.0</td>\n",
       "      <td>0.0</td>\n",
       "      <td>0.0</td>\n",
       "      <td>0.0</td>\n",
       "      <td>0.0</td>\n",
       "      <td>0.000018</td>\n",
       "    </tr>\n",
       "    <tr>\n",
       "      <th>4</th>\n",
       "      <td>1ST AVE BETWEEN SENECA ST AND UNIVERSITY ST</td>\n",
       "      <td>Minor Arterial</td>\n",
       "      <td>25.0</td>\n",
       "      <td>NW</td>\n",
       "      <td>N</td>\n",
       "      <td>PCC</td>\n",
       "      <td>N</td>\n",
       "      <td>Downtown Neighborhood</td>\n",
       "      <td>1</td>\n",
       "      <td>PRINCIPAL TRANSIT ROUTE</td>\n",
       "      <td>4.0</td>\n",
       "      <td>N</td>\n",
       "      <td>3.0</td>\n",
       "      <td>0.0</td>\n",
       "      <td>0.0</td>\n",
       "      <td>0.0</td>\n",
       "      <td>0.0</td>\n",
       "      <td>7.0</td>\n",
       "      <td>0.0</td>\n",
       "      <td>0.0</td>\n",
       "      <td>0.0</td>\n",
       "      <td>0.0</td>\n",
       "      <td>0.0</td>\n",
       "      <td>0.0</td>\n",
       "      <td>0.000013</td>\n",
       "    </tr>\n",
       "  </tbody>\n",
       "</table>\n",
       "</div>"
      ],
      "text/plain": [
       "                                      location     artdescript  speedlimit  \\\n",
       "0  1ST AVE BETWEEN SENECA ST AND UNIVERSITY ST  Minor Arterial        25.0   \n",
       "1  1ST AVE BETWEEN SENECA ST AND UNIVERSITY ST  Minor Arterial        25.0   \n",
       "2  1ST AVE BETWEEN SENECA ST AND UNIVERSITY ST  Minor Arterial        25.0   \n",
       "3  1ST AVE BETWEEN SENECA ST AND UNIVERSITY ST  Minor Arterial        25.0   \n",
       "4  1ST AVE BETWEEN SENECA ST AND UNIVERSITY ST  Minor Arterial        25.0   \n",
       "\n",
       "  segdir oneway surfacetype_1 nationhwysys             streettype  tranclass  \\\n",
       "0     NW      N           PCC            N  Downtown Neighborhood          1   \n",
       "1     NW      N           PCC            N  Downtown Neighborhood          1   \n",
       "2     NW      N           PCC            N  Downtown Neighborhood          1   \n",
       "3     NW      N           PCC            N  Downtown Neighborhood          1   \n",
       "4     NW      N           PCC            N  Downtown Neighborhood          1   \n",
       "\n",
       "              trandescript  slope_pct parkboulevard  count  total fatalities  \\\n",
       "0  PRINCIPAL TRANSIT ROUTE        4.0             N    1.0               0.0   \n",
       "1  PRINCIPAL TRANSIT ROUTE        4.0             N    2.0               0.0   \n",
       "2  PRINCIPAL TRANSIT ROUTE        4.0             N    3.0               0.0   \n",
       "3  PRINCIPAL TRANSIT ROUTE        4.0             N    4.0               0.0   \n",
       "4  PRINCIPAL TRANSIT ROUTE        4.0             N    3.0               0.0   \n",
       "\n",
       "   total serious injuries  total evident injuries  total possible injuries  \\\n",
       "0                     0.0                     0.0                      0.0   \n",
       "1                     0.0                     0.0                      1.0   \n",
       "2                     0.0                     0.0                      0.0   \n",
       "3                     0.0                     0.0                      0.0   \n",
       "4                     0.0                     0.0                      0.0   \n",
       "\n",
       "   total vehicles  total pedestrians involved  total bicyclists involved  \\\n",
       "0             0.0                         0.0                        0.0   \n",
       "1             5.0                         0.0                        0.0   \n",
       "2             2.0                         0.0                        0.0   \n",
       "3             7.0                         0.0                        0.0   \n",
       "4             7.0                         0.0                        0.0   \n",
       "\n",
       "   weigh_fatalities  weigh_serious  weigh_evident  weigh_possible  sev_score  \n",
       "0               0.0            0.0            0.0             0.0   0.000004  \n",
       "1               0.0            0.0            0.0             2.0   0.000018  \n",
       "2               0.0            0.0            0.0             0.0   0.000013  \n",
       "3               0.0            0.0            0.0             0.0   0.000018  \n",
       "4               0.0            0.0            0.0             0.0   0.000013  "
      ]
     },
     "execution_count": 152,
     "metadata": {},
     "output_type": "execute_result"
    }
   ],
   "source": [
    "b_notime.head()"
   ]
  },
  {
   "cell_type": "code",
   "execution_count": null,
   "metadata": {},
   "outputs": [],
   "source": []
  },
  {
   "cell_type": "code",
   "execution_count": null,
   "metadata": {},
   "outputs": [],
   "source": []
  },
  {
   "cell_type": "markdown",
   "metadata": {},
   "source": [
    "## Blocks with and without collisions"
   ]
  },
  {
   "cell_type": "code",
   "execution_count": 101,
   "metadata": {},
   "outputs": [],
   "source": [
    "b_nocol = blocks[blocks['sev_score'] == 0].drop(columns='year').groupby(['location', 'speedlimit', 'slope_pct', 'tranclass']).sum().reset_index()\n",
    "b_yescol = blocks[blocks['sev_score'] != 0].drop(columns='year').groupby(['location', 'speedlimit', 'slope_pct', 'tranclass']).sum().reset_index()"
   ]
  },
  {
   "cell_type": "markdown",
   "metadata": {},
   "source": [
    "#### No Collision Blocks"
   ]
  },
  {
   "cell_type": "code",
   "execution_count": 108,
   "metadata": {},
   "outputs": [
    {
     "data": {
      "text/html": [
       "<div>\n",
       "<style scoped>\n",
       "    .dataframe tbody tr th:only-of-type {\n",
       "        vertical-align: middle;\n",
       "    }\n",
       "\n",
       "    .dataframe tbody tr th {\n",
       "        vertical-align: top;\n",
       "    }\n",
       "\n",
       "    .dataframe thead th {\n",
       "        text-align: right;\n",
       "    }\n",
       "</style>\n",
       "<table border=\"1\" class=\"dataframe\">\n",
       "  <thead>\n",
       "    <tr style=\"text-align: right;\">\n",
       "      <th></th>\n",
       "      <th>speedlimit</th>\n",
       "      <th>slope_pct</th>\n",
       "      <th>tranclass</th>\n",
       "      <th>count</th>\n",
       "      <th>total fatalities</th>\n",
       "      <th>total serious injuries</th>\n",
       "      <th>total evident injuries</th>\n",
       "      <th>total possible injuries</th>\n",
       "      <th>total vehicles</th>\n",
       "      <th>total pedestrians involved</th>\n",
       "      <th>total bicyclists involved</th>\n",
       "      <th>weigh_fatalities</th>\n",
       "      <th>weigh_serious</th>\n",
       "      <th>weigh_evident</th>\n",
       "      <th>weigh_possible</th>\n",
       "      <th>sev_score</th>\n",
       "    </tr>\n",
       "  </thead>\n",
       "  <tbody>\n",
       "    <tr>\n",
       "      <th>count</th>\n",
       "      <td>6503.000000</td>\n",
       "      <td>6503.000000</td>\n",
       "      <td>6503.000000</td>\n",
       "      <td>6503.0</td>\n",
       "      <td>6503.0</td>\n",
       "      <td>6503.0</td>\n",
       "      <td>6503.0</td>\n",
       "      <td>6503.0</td>\n",
       "      <td>6503.0</td>\n",
       "      <td>6503.0</td>\n",
       "      <td>6503.0</td>\n",
       "      <td>6503.0</td>\n",
       "      <td>6503.0</td>\n",
       "      <td>6503.0</td>\n",
       "      <td>6503.0</td>\n",
       "      <td>6503.0</td>\n",
       "    </tr>\n",
       "    <tr>\n",
       "      <th>mean</th>\n",
       "      <td>21.166385</td>\n",
       "      <td>4.794249</td>\n",
       "      <td>0.171459</td>\n",
       "      <td>0.0</td>\n",
       "      <td>0.0</td>\n",
       "      <td>0.0</td>\n",
       "      <td>0.0</td>\n",
       "      <td>0.0</td>\n",
       "      <td>0.0</td>\n",
       "      <td>0.0</td>\n",
       "      <td>0.0</td>\n",
       "      <td>0.0</td>\n",
       "      <td>0.0</td>\n",
       "      <td>0.0</td>\n",
       "      <td>0.0</td>\n",
       "      <td>0.0</td>\n",
       "    </tr>\n",
       "    <tr>\n",
       "      <th>std</th>\n",
       "      <td>5.093376</td>\n",
       "      <td>4.373741</td>\n",
       "      <td>0.721407</td>\n",
       "      <td>0.0</td>\n",
       "      <td>0.0</td>\n",
       "      <td>0.0</td>\n",
       "      <td>0.0</td>\n",
       "      <td>0.0</td>\n",
       "      <td>0.0</td>\n",
       "      <td>0.0</td>\n",
       "      <td>0.0</td>\n",
       "      <td>0.0</td>\n",
       "      <td>0.0</td>\n",
       "      <td>0.0</td>\n",
       "      <td>0.0</td>\n",
       "      <td>0.0</td>\n",
       "    </tr>\n",
       "    <tr>\n",
       "      <th>min</th>\n",
       "      <td>0.000000</td>\n",
       "      <td>0.000000</td>\n",
       "      <td>0.000000</td>\n",
       "      <td>0.0</td>\n",
       "      <td>0.0</td>\n",
       "      <td>0.0</td>\n",
       "      <td>0.0</td>\n",
       "      <td>0.0</td>\n",
       "      <td>0.0</td>\n",
       "      <td>0.0</td>\n",
       "      <td>0.0</td>\n",
       "      <td>0.0</td>\n",
       "      <td>0.0</td>\n",
       "      <td>0.0</td>\n",
       "      <td>0.0</td>\n",
       "      <td>0.0</td>\n",
       "    </tr>\n",
       "    <tr>\n",
       "      <th>25%</th>\n",
       "      <td>20.000000</td>\n",
       "      <td>1.000000</td>\n",
       "      <td>0.000000</td>\n",
       "      <td>0.0</td>\n",
       "      <td>0.0</td>\n",
       "      <td>0.0</td>\n",
       "      <td>0.0</td>\n",
       "      <td>0.0</td>\n",
       "      <td>0.0</td>\n",
       "      <td>0.0</td>\n",
       "      <td>0.0</td>\n",
       "      <td>0.0</td>\n",
       "      <td>0.0</td>\n",
       "      <td>0.0</td>\n",
       "      <td>0.0</td>\n",
       "      <td>0.0</td>\n",
       "    </tr>\n",
       "    <tr>\n",
       "      <th>50%</th>\n",
       "      <td>20.000000</td>\n",
       "      <td>4.000000</td>\n",
       "      <td>0.000000</td>\n",
       "      <td>0.0</td>\n",
       "      <td>0.0</td>\n",
       "      <td>0.0</td>\n",
       "      <td>0.0</td>\n",
       "      <td>0.0</td>\n",
       "      <td>0.0</td>\n",
       "      <td>0.0</td>\n",
       "      <td>0.0</td>\n",
       "      <td>0.0</td>\n",
       "      <td>0.0</td>\n",
       "      <td>0.0</td>\n",
       "      <td>0.0</td>\n",
       "      <td>0.0</td>\n",
       "    </tr>\n",
       "    <tr>\n",
       "      <th>75%</th>\n",
       "      <td>20.000000</td>\n",
       "      <td>7.000000</td>\n",
       "      <td>0.000000</td>\n",
       "      <td>0.0</td>\n",
       "      <td>0.0</td>\n",
       "      <td>0.0</td>\n",
       "      <td>0.0</td>\n",
       "      <td>0.0</td>\n",
       "      <td>0.0</td>\n",
       "      <td>0.0</td>\n",
       "      <td>0.0</td>\n",
       "      <td>0.0</td>\n",
       "      <td>0.0</td>\n",
       "      <td>0.0</td>\n",
       "      <td>0.0</td>\n",
       "      <td>0.0</td>\n",
       "    </tr>\n",
       "    <tr>\n",
       "      <th>max</th>\n",
       "      <td>60.000000</td>\n",
       "      <td>47.000000</td>\n",
       "      <td>6.000000</td>\n",
       "      <td>0.0</td>\n",
       "      <td>0.0</td>\n",
       "      <td>0.0</td>\n",
       "      <td>0.0</td>\n",
       "      <td>0.0</td>\n",
       "      <td>0.0</td>\n",
       "      <td>0.0</td>\n",
       "      <td>0.0</td>\n",
       "      <td>0.0</td>\n",
       "      <td>0.0</td>\n",
       "      <td>0.0</td>\n",
       "      <td>0.0</td>\n",
       "      <td>0.0</td>\n",
       "    </tr>\n",
       "  </tbody>\n",
       "</table>\n",
       "</div>"
      ],
      "text/plain": [
       "        speedlimit    slope_pct    tranclass   count  total fatalities  \\\n",
       "count  6503.000000  6503.000000  6503.000000  6503.0            6503.0   \n",
       "mean     21.166385     4.794249     0.171459     0.0               0.0   \n",
       "std       5.093376     4.373741     0.721407     0.0               0.0   \n",
       "min       0.000000     0.000000     0.000000     0.0               0.0   \n",
       "25%      20.000000     1.000000     0.000000     0.0               0.0   \n",
       "50%      20.000000     4.000000     0.000000     0.0               0.0   \n",
       "75%      20.000000     7.000000     0.000000     0.0               0.0   \n",
       "max      60.000000    47.000000     6.000000     0.0               0.0   \n",
       "\n",
       "       total serious injuries  total evident injuries  \\\n",
       "count                  6503.0                  6503.0   \n",
       "mean                      0.0                     0.0   \n",
       "std                       0.0                     0.0   \n",
       "min                       0.0                     0.0   \n",
       "25%                       0.0                     0.0   \n",
       "50%                       0.0                     0.0   \n",
       "75%                       0.0                     0.0   \n",
       "max                       0.0                     0.0   \n",
       "\n",
       "       total possible injuries  total vehicles  total pedestrians involved  \\\n",
       "count                   6503.0          6503.0                      6503.0   \n",
       "mean                       0.0             0.0                         0.0   \n",
       "std                        0.0             0.0                         0.0   \n",
       "min                        0.0             0.0                         0.0   \n",
       "25%                        0.0             0.0                         0.0   \n",
       "50%                        0.0             0.0                         0.0   \n",
       "75%                        0.0             0.0                         0.0   \n",
       "max                        0.0             0.0                         0.0   \n",
       "\n",
       "       total bicyclists involved  weigh_fatalities  weigh_serious  \\\n",
       "count                     6503.0            6503.0         6503.0   \n",
       "mean                         0.0               0.0            0.0   \n",
       "std                          0.0               0.0            0.0   \n",
       "min                          0.0               0.0            0.0   \n",
       "25%                          0.0               0.0            0.0   \n",
       "50%                          0.0               0.0            0.0   \n",
       "75%                          0.0               0.0            0.0   \n",
       "max                          0.0               0.0            0.0   \n",
       "\n",
       "       weigh_evident  weigh_possible  sev_score  \n",
       "count         6503.0          6503.0     6503.0  \n",
       "mean             0.0             0.0        0.0  \n",
       "std              0.0             0.0        0.0  \n",
       "min              0.0             0.0        0.0  \n",
       "25%              0.0             0.0        0.0  \n",
       "50%              0.0             0.0        0.0  \n",
       "75%              0.0             0.0        0.0  \n",
       "max              0.0             0.0        0.0  "
      ]
     },
     "execution_count": 108,
     "metadata": {},
     "output_type": "execute_result"
    }
   ],
   "source": [
    "b_nocol.describe()"
   ]
  },
  {
   "cell_type": "code",
   "execution_count": 165,
   "metadata": {},
   "outputs": [
    {
     "name": "stdout",
     "output_type": "stream",
     "text": [
      "Average speedlimit for blocks with no incidents:  21.166384745502075\n",
      "Average slope percent for blocks with no incidents:  4.79424880824235\n"
     ]
    }
   ],
   "source": [
    "print('Average speedlimit for blocks with no incidents: ', b_nocol['speedlimit'].mean())\n",
    "print('Average slope percent for blocks with no incidents: ', b_nocol['slope_pct'].mean())"
   ]
  },
  {
   "cell_type": "markdown",
   "metadata": {},
   "source": [
    "#### Collision Blocks"
   ]
  },
  {
   "cell_type": "code",
   "execution_count": 166,
   "metadata": {},
   "outputs": [
    {
     "name": "stdout",
     "output_type": "stream",
     "text": [
      "Average speedlimit for blocks with incidents:  22.85084131806497\n",
      "Average slope percent for blocks with incidents:  3.661836877775181\n"
     ]
    }
   ],
   "source": [
    "print('Average speedlimit for blocks with incidents: ', b_yescol['speedlimit'].mean())\n",
    "print('Average slope percent for blocks with incidents: ', b_yescol['slope_pct'].mean())"
   ]
  },
  {
   "cell_type": "code",
   "execution_count": 109,
   "metadata": {},
   "outputs": [
    {
     "data": {
      "text/html": [
       "<div>\n",
       "<style scoped>\n",
       "    .dataframe tbody tr th:only-of-type {\n",
       "        vertical-align: middle;\n",
       "    }\n",
       "\n",
       "    .dataframe tbody tr th {\n",
       "        vertical-align: top;\n",
       "    }\n",
       "\n",
       "    .dataframe thead th {\n",
       "        text-align: right;\n",
       "    }\n",
       "</style>\n",
       "<table border=\"1\" class=\"dataframe\">\n",
       "  <thead>\n",
       "    <tr style=\"text-align: right;\">\n",
       "      <th></th>\n",
       "      <th>speedlimit</th>\n",
       "      <th>slope_pct</th>\n",
       "      <th>tranclass</th>\n",
       "      <th>count</th>\n",
       "      <th>total fatalities</th>\n",
       "      <th>total serious injuries</th>\n",
       "      <th>total evident injuries</th>\n",
       "      <th>total possible injuries</th>\n",
       "      <th>total vehicles</th>\n",
       "      <th>total pedestrians involved</th>\n",
       "      <th>total bicyclists involved</th>\n",
       "      <th>weigh_fatalities</th>\n",
       "      <th>weigh_serious</th>\n",
       "      <th>weigh_evident</th>\n",
       "      <th>weigh_possible</th>\n",
       "      <th>sev_score</th>\n",
       "    </tr>\n",
       "  </thead>\n",
       "  <tbody>\n",
       "    <tr>\n",
       "      <th>count</th>\n",
       "      <td>17116.000000</td>\n",
       "      <td>17116.000000</td>\n",
       "      <td>17116.000000</td>\n",
       "      <td>17116.000000</td>\n",
       "      <td>17116.000000</td>\n",
       "      <td>17116.000000</td>\n",
       "      <td>17116.000000</td>\n",
       "      <td>17116.000000</td>\n",
       "      <td>17116.000000</td>\n",
       "      <td>17116.000000</td>\n",
       "      <td>17116.000000</td>\n",
       "      <td>17116.000000</td>\n",
       "      <td>17116.000000</td>\n",
       "      <td>17116.000000</td>\n",
       "      <td>17116.000000</td>\n",
       "      <td>17116.000000</td>\n",
       "    </tr>\n",
       "    <tr>\n",
       "      <th>mean</th>\n",
       "      <td>22.850841</td>\n",
       "      <td>3.661837</td>\n",
       "      <td>0.747897</td>\n",
       "      <td>8.292767</td>\n",
       "      <td>0.010224</td>\n",
       "      <td>0.091961</td>\n",
       "      <td>0.482473</td>\n",
       "      <td>1.565845</td>\n",
       "      <td>11.881047</td>\n",
       "      <td>0.134377</td>\n",
       "      <td>0.129002</td>\n",
       "      <td>0.051122</td>\n",
       "      <td>0.367843</td>\n",
       "      <td>1.447418</td>\n",
       "      <td>3.131690</td>\n",
       "      <td>0.000058</td>\n",
       "    </tr>\n",
       "    <tr>\n",
       "      <th>std</th>\n",
       "      <td>4.765725</td>\n",
       "      <td>3.538022</td>\n",
       "      <td>1.231706</td>\n",
       "      <td>14.233096</td>\n",
       "      <td>0.126346</td>\n",
       "      <td>0.525664</td>\n",
       "      <td>1.396246</td>\n",
       "      <td>4.609931</td>\n",
       "      <td>21.765155</td>\n",
       "      <td>0.539794</td>\n",
       "      <td>0.580286</td>\n",
       "      <td>0.631728</td>\n",
       "      <td>2.102654</td>\n",
       "      <td>4.188738</td>\n",
       "      <td>9.219862</td>\n",
       "      <td>0.000120</td>\n",
       "    </tr>\n",
       "    <tr>\n",
       "      <th>min</th>\n",
       "      <td>0.000000</td>\n",
       "      <td>0.000000</td>\n",
       "      <td>0.000000</td>\n",
       "      <td>1.000000</td>\n",
       "      <td>0.000000</td>\n",
       "      <td>0.000000</td>\n",
       "      <td>0.000000</td>\n",
       "      <td>0.000000</td>\n",
       "      <td>0.000000</td>\n",
       "      <td>0.000000</td>\n",
       "      <td>0.000000</td>\n",
       "      <td>0.000000</td>\n",
       "      <td>0.000000</td>\n",
       "      <td>0.000000</td>\n",
       "      <td>0.000000</td>\n",
       "      <td>0.000004</td>\n",
       "    </tr>\n",
       "    <tr>\n",
       "      <th>25%</th>\n",
       "      <td>20.000000</td>\n",
       "      <td>1.000000</td>\n",
       "      <td>0.000000</td>\n",
       "      <td>2.000000</td>\n",
       "      <td>0.000000</td>\n",
       "      <td>0.000000</td>\n",
       "      <td>0.000000</td>\n",
       "      <td>0.000000</td>\n",
       "      <td>2.000000</td>\n",
       "      <td>0.000000</td>\n",
       "      <td>0.000000</td>\n",
       "      <td>0.000000</td>\n",
       "      <td>0.000000</td>\n",
       "      <td>0.000000</td>\n",
       "      <td>0.000000</td>\n",
       "      <td>0.000009</td>\n",
       "    </tr>\n",
       "    <tr>\n",
       "      <th>50%</th>\n",
       "      <td>20.000000</td>\n",
       "      <td>3.000000</td>\n",
       "      <td>0.000000</td>\n",
       "      <td>3.000000</td>\n",
       "      <td>0.000000</td>\n",
       "      <td>0.000000</td>\n",
       "      <td>0.000000</td>\n",
       "      <td>0.000000</td>\n",
       "      <td>5.000000</td>\n",
       "      <td>0.000000</td>\n",
       "      <td>0.000000</td>\n",
       "      <td>0.000000</td>\n",
       "      <td>0.000000</td>\n",
       "      <td>0.000000</td>\n",
       "      <td>0.000000</td>\n",
       "      <td>0.000018</td>\n",
       "    </tr>\n",
       "    <tr>\n",
       "      <th>75%</th>\n",
       "      <td>25.000000</td>\n",
       "      <td>5.000000</td>\n",
       "      <td>2.000000</td>\n",
       "      <td>8.000000</td>\n",
       "      <td>0.000000</td>\n",
       "      <td>0.000000</td>\n",
       "      <td>0.000000</td>\n",
       "      <td>1.000000</td>\n",
       "      <td>12.000000</td>\n",
       "      <td>0.000000</td>\n",
       "      <td>0.000000</td>\n",
       "      <td>0.000000</td>\n",
       "      <td>0.000000</td>\n",
       "      <td>0.000000</td>\n",
       "      <td>2.000000</td>\n",
       "      <td>0.000053</td>\n",
       "    </tr>\n",
       "    <tr>\n",
       "      <th>max</th>\n",
       "      <td>60.000000</td>\n",
       "      <td>32.000000</td>\n",
       "      <td>6.000000</td>\n",
       "      <td>296.000000</td>\n",
       "      <td>5.000000</td>\n",
       "      <td>44.000000</td>\n",
       "      <td>46.000000</td>\n",
       "      <td>141.000000</td>\n",
       "      <td>459.000000</td>\n",
       "      <td>12.000000</td>\n",
       "      <td>20.000000</td>\n",
       "      <td>25.000000</td>\n",
       "      <td>176.000000</td>\n",
       "      <td>138.000000</td>\n",
       "      <td>282.000000</td>\n",
       "      <td>0.003191</td>\n",
       "    </tr>\n",
       "  </tbody>\n",
       "</table>\n",
       "</div>"
      ],
      "text/plain": [
       "         speedlimit     slope_pct     tranclass         count  \\\n",
       "count  17116.000000  17116.000000  17116.000000  17116.000000   \n",
       "mean      22.850841      3.661837      0.747897      8.292767   \n",
       "std        4.765725      3.538022      1.231706     14.233096   \n",
       "min        0.000000      0.000000      0.000000      1.000000   \n",
       "25%       20.000000      1.000000      0.000000      2.000000   \n",
       "50%       20.000000      3.000000      0.000000      3.000000   \n",
       "75%       25.000000      5.000000      2.000000      8.000000   \n",
       "max       60.000000     32.000000      6.000000    296.000000   \n",
       "\n",
       "       total fatalities  total serious injuries  total evident injuries  \\\n",
       "count      17116.000000            17116.000000            17116.000000   \n",
       "mean           0.010224                0.091961                0.482473   \n",
       "std            0.126346                0.525664                1.396246   \n",
       "min            0.000000                0.000000                0.000000   \n",
       "25%            0.000000                0.000000                0.000000   \n",
       "50%            0.000000                0.000000                0.000000   \n",
       "75%            0.000000                0.000000                0.000000   \n",
       "max            5.000000               44.000000               46.000000   \n",
       "\n",
       "       total possible injuries  total vehicles  total pedestrians involved  \\\n",
       "count             17116.000000    17116.000000                17116.000000   \n",
       "mean                  1.565845       11.881047                    0.134377   \n",
       "std                   4.609931       21.765155                    0.539794   \n",
       "min                   0.000000        0.000000                    0.000000   \n",
       "25%                   0.000000        2.000000                    0.000000   \n",
       "50%                   0.000000        5.000000                    0.000000   \n",
       "75%                   1.000000       12.000000                    0.000000   \n",
       "max                 141.000000      459.000000                   12.000000   \n",
       "\n",
       "       total bicyclists involved  weigh_fatalities  weigh_serious  \\\n",
       "count               17116.000000      17116.000000   17116.000000   \n",
       "mean                    0.129002          0.051122       0.367843   \n",
       "std                     0.580286          0.631728       2.102654   \n",
       "min                     0.000000          0.000000       0.000000   \n",
       "25%                     0.000000          0.000000       0.000000   \n",
       "50%                     0.000000          0.000000       0.000000   \n",
       "75%                     0.000000          0.000000       0.000000   \n",
       "max                    20.000000         25.000000     176.000000   \n",
       "\n",
       "       weigh_evident  weigh_possible     sev_score  \n",
       "count   17116.000000    17116.000000  17116.000000  \n",
       "mean        1.447418        3.131690      0.000058  \n",
       "std         4.188738        9.219862      0.000120  \n",
       "min         0.000000        0.000000      0.000004  \n",
       "25%         0.000000        0.000000      0.000009  \n",
       "50%         0.000000        0.000000      0.000018  \n",
       "75%         0.000000        2.000000      0.000053  \n",
       "max       138.000000      282.000000      0.003191  "
      ]
     },
     "execution_count": 109,
     "metadata": {},
     "output_type": "execute_result"
    }
   ],
   "source": [
    "b_yescol.describe()"
   ]
  },
  {
   "cell_type": "markdown",
   "metadata": {},
   "source": [
    "#### Plot both"
   ]
  },
  {
   "cell_type": "code",
   "execution_count": 199,
   "metadata": {},
   "outputs": [
    {
     "data": {
      "text/plain": [
       "<matplotlib.axes._subplots.AxesSubplot at 0x133529a90>"
      ]
     },
     "execution_count": 199,
     "metadata": {},
     "output_type": "execute_result"
    },
    {
     "data": {
      "image/png": "[encoded data removed]",
      "text/plain": [
       "<Figure size 432x288 with 1 Axes>"
      ]
     },
     "metadata": {
      "needs_background": "dark"
     },
     "output_type": "display_data"
    }
   ],
   "source": [
    "((b_nocol['slope_pct'].value_counts() / len(b_nocol['slope_pct'])*100).sort_index()).plot(kind='line')"
   ]
  },
  {
   "cell_type": "code",
   "execution_count": 200,
   "metadata": {},
   "outputs": [
    {
     "data": {
      "text/plain": [
       "<matplotlib.axes._subplots.AxesSubplot at 0x13393eb00>"
      ]
     },
     "execution_count": 200,
     "metadata": {},
     "output_type": "execute_result"
    },
    {
     "data": {
      "image/png": "[encoded data removed]",
      "text/plain": [
       "<Figure size 432x288 with 1 Axes>"
      ]
     },
     "metadata": {
      "needs_background": "dark"
     },
     "output_type": "display_data"
    }
   ],
   "source": [
    "((b_yescol['slope_pct'].value_counts() / len(b_yescol['slope_pct'])*100).sort_index()).plot(kind='line')"
   ]
  },
  {
   "cell_type": "code",
   "execution_count": 202,
   "metadata": {},
   "outputs": [
    {
     "data": {
      "text/plain": [
       "0.0     13.712316\n",
       "1.0     19.221781\n",
       "2.0     15.786399\n",
       "3.0     10.995560\n",
       "4.0     10.130872\n",
       "5.0      7.677027\n",
       "6.0      5.118018\n",
       "7.0      4.054686\n",
       "8.0      3.108203\n",
       "9.0      2.459687\n",
       "10.0     1.828698\n",
       "11.0     1.466464\n",
       "12.0     1.203552\n",
       "13.0     0.864688\n",
       "14.0     0.777051\n",
       "15.0     0.601776\n",
       "16.0     0.373919\n",
       "17.0     0.268754\n",
       "18.0     0.151905\n",
       "19.0     0.070110\n",
       "20.0     0.052582\n",
       "21.0     0.035055\n",
       "22.0     0.017527\n",
       "23.0     0.005842\n",
       "24.0     0.011685\n",
       "32.0     0.005842\n",
       "Name: slope_pct, dtype: float64"
      ]
     },
     "execution_count": 202,
     "metadata": {},
     "output_type": "execute_result"
    }
   ],
   "source": [
    "(b_yescol['slope_pct'].value_counts() / len(b_yescol['slope_pct'])*100).sort_index()"
   ]
  },
  {
   "cell_type": "code",
   "execution_count": 170,
   "metadata": {},
   "outputs": [
    {
     "data": {
      "text/plain": [
       "3.661836877775181"
      ]
     },
     "execution_count": 170,
     "metadata": {},
     "output_type": "execute_result"
    }
   ],
   "source": [
    "b_yescol['slope_pct'].mean()"
   ]
  },
  {
   "cell_type": "code",
   "execution_count": 164,
   "metadata": {},
   "outputs": [
    {
     "data": {
      "image/png": "[encoded data removed]",
      "text/plain": [
       "<Figure size 1800x360 with 2 Axes>"
      ]
     },
     "metadata": {
      "needs_background": "dark"
     },
     "output_type": "display_data"
    }
   ],
   "source": [
    "fig, axes = plt.subplots(1,2,figsize=(25,5))\n",
    "\n",
    "sns.countplot(b_nocol['slope_pct'], ax=axes[0], label='No collisions');\n",
    "sns.countplot(b_yescol['slope_pct'], ax=axes[1], label='collisions');\n",
    "axes[0].legend();\n",
    "axes[1].legend();"
   ]
  },
  {
   "cell_type": "code",
   "execution_count": 161,
   "metadata": {},
   "outputs": [
    {
     "data": {
      "image/png": "[encoded data removed]",
      "text/plain": [
       "<Figure size 1800x360 with 2 Axes>"
      ]
     },
     "metadata": {
      "needs_background": "dark"
     },
     "output_type": "display_data"
    }
   ],
   "source": [
    "fig, axes = plt.subplots(1,2,figsize=(25,5))\n",
    "\n",
    "sns.countplot(b_nocol['speedlimit'], ax=axes[0], label='No collisions');\n",
    "sns.countplot(b_yescol['speedlimit'], ax=axes[1], label='collisions');\n",
    "axes[0].legend();\n",
    "axes[1].legend();"
   ]
  },
  {
   "cell_type": "code",
   "execution_count": null,
   "metadata": {},
   "outputs": [],
   "source": []
  },
  {
   "cell_type": "markdown",
   "metadata": {},
   "source": [
    "## Intersections"
   ]
  },
  {
   "cell_type": "code",
   "execution_count": 40,
   "metadata": {},
   "outputs": [
    {
     "data": {
      "text/plain": [
       "0.8363013698630137"
      ]
     },
     "execution_count": 40,
     "metadata": {},
     "output_type": "execute_result"
    }
   ],
   "source": [
    "# about 84% of intersections have had a collision over the 16 year period\n",
    "\n",
    "(intersections['year'] != 0).sum() / len(intersections['year'])"
   ]
  },
  {
   "cell_type": "code",
   "execution_count": 33,
   "metadata": {},
   "outputs": [
    {
     "data": {
      "image/png": "[encoded data removed]",
      "text/plain": [
       "<Figure size 1080x360 with 1 Axes>"
      ]
     },
     "metadata": {
      "needs_background": "dark"
     },
     "output_type": "display_data"
    }
   ],
   "source": [
    "fig, ax = plt.subplots(figsize=(15,5))\n",
    "\n",
    "sns.countplot(intersections['count']);"
   ]
  },
  {
   "cell_type": "code",
   "execution_count": 39,
   "metadata": {},
   "outputs": [
    {
     "data": {
      "image/png": "[encoded data removed]",
      "text/plain": [
       "<Figure size 1080x360 with 1 Axes>"
      ]
     },
     "metadata": {
      "needs_background": "dark"
     },
     "output_type": "display_data"
    }
   ],
   "source": [
    "fig, ax = plt.subplots(figsize=(15,5))\n",
    "\n",
    "sns.countplot(intersections[intersections['year'] != 0]['year']);"
   ]
  },
  {
   "cell_type": "markdown",
   "metadata": {},
   "source": [
    "## Circles"
   ]
  },
  {
   "cell_type": "code",
   "execution_count": 31,
   "metadata": {},
   "outputs": [
    {
     "data": {
      "image/png": "[encoded data removed]",
      "text/plain": [
       "<Figure size 1080x360 with 1 Axes>"
      ]
     },
     "metadata": {
      "needs_background": "dark"
     },
     "output_type": "display_data"
    }
   ],
   "source": [
    "fig, ax = plt.subplots(figsize=(15,5))\n",
    "\n",
    "sns.countplot(circles['count']);"
   ]
  },
  {
   "cell_type": "code",
   "execution_count": 32,
   "metadata": {},
   "outputs": [
    {
     "data": {
      "image/png": "[encoded data removed]",
      "text/plain": [
       "<Figure size 1080x360 with 1 Axes>"
      ]
     },
     "metadata": {
      "needs_background": "dark"
     },
     "output_type": "display_data"
    }
   ],
   "source": [
    "fig, ax = plt.subplots(figsize=(15,5))\n",
    "\n",
    "sns.countplot(circles[circles['year'] != 0]['year']);"
   ]
  },
  {
   "cell_type": "code",
   "execution_count": 42,
   "metadata": {},
   "outputs": [
    {
     "data": {
      "text/plain": [
       "0.7686318131256952"
      ]
     },
     "execution_count": 42,
     "metadata": {},
     "output_type": "execute_result"
    }
   ],
   "source": [
    "# about 77% of circles have had a collision over the 16 year period\n",
    "\n",
    "(circles['year'] != 0).sum() / len(circles['year'])"
   ]
  },
  {
   "cell_type": "markdown",
   "metadata": {},
   "source": [
    "## Crosswalks"
   ]
  },
  {
   "cell_type": "code",
   "execution_count": null,
   "metadata": {},
   "outputs": [],
   "source": []
  },
  {
   "cell_type": "code",
   "execution_count": null,
   "metadata": {},
   "outputs": [],
   "source": []
  },
  {
   "cell_type": "code",
   "execution_count": null,
   "metadata": {},
   "outputs": [],
   "source": []
  }
 ],
 "metadata": {
  "kernelspec": {
   "display_name": "Python 3.7.0 64-bit ('anaconda3': virtualenv)",
   "language": "python",
   "name": "python37064bitanaconda3virtualenvdc59f3b7c1d64353bf7dcc6d7e32f36c"
  },
  "language_info": {
   "codemirror_mode": {
    "name": "ipython",
    "version": 3
   },
   "file_extension": ".py",
   "mimetype": "text/x-python",
   "name": "python",
   "nbconvert_exporter": "python",
   "pygments_lexer": "ipython3",
   "version": "3.7.0"
  }
 },
 "nbformat": 4,
 "nbformat_minor": 2
}
