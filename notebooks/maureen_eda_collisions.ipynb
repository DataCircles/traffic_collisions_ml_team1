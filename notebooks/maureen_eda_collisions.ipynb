{
 "cells": [
  {
   "cell_type": "code",
   "execution_count": 37,
   "metadata": {},
   "outputs": [],
   "source": [
    "import pandas as pd\n",
    "import matplotlib.pyplot as plt\n",
    "from pandas_profiling import ProfileReport\n",
    "\n",
    "# Set style and settings\n",
    "plt.style.use('ggplot')\n",
    "pd.set_option('display.max_columns', 50)\n",
    "pd.set_option('display.max_rows', 15)"
   ]
  },
  {
   "cell_type": "code",
   "execution_count": 33,
   "metadata": {},
   "outputs": [],
   "source": [
    "# Load data and set Datetime column\n",
    "collisions = pd.read_csv('../data/external/Collisions.csv', \n",
    "                         parse_dates={'Datetime': ['INCDTTM']}, \n",
    "                         infer_datetime_format=True)"
   ]
  },
  {
   "cell_type": "code",
   "execution_count": 34,
   "metadata": {},
   "outputs": [],
   "source": [
    "# Clean up and set index to datetime\n",
    "collisions = (\n",
    "    collisions.set_index('Datetime')\n",
    "    .sort_index()\n",
    "    .drop(columns=['INCDATE', 'EXCEPTRSNDESC'])\n",
    ")"
   ]
  },
  {
   "cell_type": "code",
   "execution_count": 35,
   "metadata": {},
   "outputs": [
    {
     "name": "stdout",
     "output_type": "stream",
     "text": [
      "<class 'pandas.core.frame.DataFrame'>\n",
      "DatetimeIndex: 220436 entries, 2003-10-06 00:00:00 to 2020-07-14 00:00:00\n",
      "Data columns (total 38 columns):\n",
      " #   Column           Non-Null Count   Dtype  \n",
      "---  ------           --------------   -----  \n",
      " 0   X                212975 non-null  float64\n",
      " 1   Y                212975 non-null  float64\n",
      " 2   OBJECTID         220436 non-null  int64  \n",
      " 3   INCKEY           220436 non-null  int64  \n",
      " 4   COLDETKEY        220436 non-null  int64  \n",
      " 5   REPORTNO         220436 non-null  object \n",
      " 6   STATUS           220436 non-null  object \n",
      " 7   ADDRTYPE         216729 non-null  object \n",
      " 8   INTKEY           71516 non-null   float64\n",
      " 9   LOCATION         215860 non-null  object \n",
      " 10  EXCEPTRSNCODE    100033 non-null  object \n",
      " 11  EXCEPTRSNDESC    11746 non-null   object \n",
      " 12  SEVERITYCODE     220435 non-null  object \n",
      " 13  SEVERITYDESC     220436 non-null  object \n",
      " 14  COLLISIONTYPE    194284 non-null  object \n",
      " 15  PERSONCOUNT      220436 non-null  int64  \n",
      " 16  PEDCOUNT         220436 non-null  int64  \n",
      " 17  PEDCYLCOUNT      220436 non-null  int64  \n",
      " 18  VEHCOUNT         220436 non-null  int64  \n",
      " 19  INJURIES         220436 non-null  int64  \n",
      " 20  SERIOUSINJURIES  220436 non-null  int64  \n",
      " 21  FATALITIES       220436 non-null  int64  \n",
      " 22  JUNCTIONTYPE     208500 non-null  object \n",
      " 23  SDOT_COLCODE     220435 non-null  float64\n",
      " 24  SDOT_COLDESC     220435 non-null  object \n",
      " 25  INATTENTIONIND   30187 non-null   object \n",
      " 26  UNDERINFL        194304 non-null  object \n",
      " 27  WEATHER          194096 non-null  object \n",
      " 28  ROADCOND         194176 non-null  object \n",
      " 29  LIGHTCOND        194007 non-null  object \n",
      " 30  PEDROWNOTGRNT    5180 non-null    object \n",
      " 31  SDOTCOLNUM       127205 non-null  float64\n",
      " 32  SPEEDING         9876 non-null    object \n",
      " 33  ST_COLCODE       211023 non-null  object \n",
      " 34  ST_COLDESC       194284 non-null  object \n",
      " 35  SEGLANEKEY       220436 non-null  int64  \n",
      " 36  CROSSWALKKEY     220436 non-null  int64  \n",
      " 37  HITPARKEDCAR     220436 non-null  object \n",
      "dtypes: float64(5), int64(12), object(21)\n",
      "memory usage: 65.6+ MB\n"
     ]
    }
   ],
   "source": [
    "collisions.info()"
   ]
  },
  {
   "cell_type": "code",
   "execution_count": 36,
   "metadata": {},
   "outputs": [
    {
     "data": {
      "text/html": [
       "<div>\n",
       "<style scoped>\n",
       "    .dataframe tbody tr th:only-of-type {\n",
       "        vertical-align: middle;\n",
       "    }\n",
       "\n",
       "    .dataframe tbody tr th {\n",
       "        vertical-align: top;\n",
       "    }\n",
       "\n",
       "    .dataframe thead th {\n",
       "        text-align: right;\n",
       "    }\n",
       "</style>\n",
       "<table border=\"1\" class=\"dataframe\">\n",
       "  <thead>\n",
       "    <tr style=\"text-align: right;\">\n",
       "      <th></th>\n",
       "      <th>X</th>\n",
       "      <th>Y</th>\n",
       "      <th>OBJECTID</th>\n",
       "      <th>INCKEY</th>\n",
       "      <th>COLDETKEY</th>\n",
       "      <th>INTKEY</th>\n",
       "      <th>PERSONCOUNT</th>\n",
       "      <th>PEDCOUNT</th>\n",
       "      <th>PEDCYLCOUNT</th>\n",
       "      <th>VEHCOUNT</th>\n",
       "      <th>INJURIES</th>\n",
       "      <th>SERIOUSINJURIES</th>\n",
       "      <th>FATALITIES</th>\n",
       "      <th>SDOT_COLCODE</th>\n",
       "      <th>SDOTCOLNUM</th>\n",
       "      <th>SEGLANEKEY</th>\n",
       "      <th>CROSSWALKKEY</th>\n",
       "    </tr>\n",
       "  </thead>\n",
       "  <tbody>\n",
       "    <tr>\n",
       "      <th>count</th>\n",
       "      <td>212975.000000</td>\n",
       "      <td>212975.000000</td>\n",
       "      <td>220436.000000</td>\n",
       "      <td>220436.000000</td>\n",
       "      <td>220436.000000</td>\n",
       "      <td>71516.000000</td>\n",
       "      <td>220436.000000</td>\n",
       "      <td>220436.000000</td>\n",
       "      <td>220436.000000</td>\n",
       "      <td>220436.000000</td>\n",
       "      <td>220436.000000</td>\n",
       "      <td>220436.000000</td>\n",
       "      <td>220436.000000</td>\n",
       "      <td>220435.000000</td>\n",
       "      <td>1.272050e+05</td>\n",
       "      <td>220436.000000</td>\n",
       "      <td>2.204360e+05</td>\n",
       "    </tr>\n",
       "    <tr>\n",
       "      <th>mean</th>\n",
       "      <td>-122.330748</td>\n",
       "      <td>47.620232</td>\n",
       "      <td>110218.500000</td>\n",
       "      <td>143893.625937</td>\n",
       "      <td>144116.360395</td>\n",
       "      <td>37614.720790</td>\n",
       "      <td>2.227145</td>\n",
       "      <td>0.038156</td>\n",
       "      <td>0.027310</td>\n",
       "      <td>1.730697</td>\n",
       "      <td>0.373868</td>\n",
       "      <td>0.015165</td>\n",
       "      <td>0.001674</td>\n",
       "      <td>13.382362</td>\n",
       "      <td>7.971063e+06</td>\n",
       "      <td>262.425969</td>\n",
       "      <td>9.617439e+03</td>\n",
       "    </tr>\n",
       "    <tr>\n",
       "      <th>std</th>\n",
       "      <td>0.030042</td>\n",
       "      <td>0.056009</td>\n",
       "      <td>63634.536307</td>\n",
       "      <td>88451.013280</td>\n",
       "      <td>88818.314232</td>\n",
       "      <td>51915.702891</td>\n",
       "      <td>1.471406</td>\n",
       "      <td>0.201881</td>\n",
       "      <td>0.164398</td>\n",
       "      <td>0.829041</td>\n",
       "      <td>0.732352</td>\n",
       "      <td>0.158077</td>\n",
       "      <td>0.044493</td>\n",
       "      <td>7.305444</td>\n",
       "      <td>2.611523e+06</td>\n",
       "      <td>3254.921395</td>\n",
       "      <td>7.160964e+04</td>\n",
       "    </tr>\n",
       "    <tr>\n",
       "      <th>min</th>\n",
       "      <td>-122.419091</td>\n",
       "      <td>47.495573</td>\n",
       "      <td>1.000000</td>\n",
       "      <td>1001.000000</td>\n",
       "      <td>1001.000000</td>\n",
       "      <td>23807.000000</td>\n",
       "      <td>0.000000</td>\n",
       "      <td>0.000000</td>\n",
       "      <td>0.000000</td>\n",
       "      <td>0.000000</td>\n",
       "      <td>0.000000</td>\n",
       "      <td>0.000000</td>\n",
       "      <td>0.000000</td>\n",
       "      <td>0.000000</td>\n",
       "      <td>1.007024e+06</td>\n",
       "      <td>0.000000</td>\n",
       "      <td>0.000000e+00</td>\n",
       "    </tr>\n",
       "    <tr>\n",
       "      <th>25%</th>\n",
       "      <td>-122.349280</td>\n",
       "      <td>47.577331</td>\n",
       "      <td>55109.750000</td>\n",
       "      <td>71395.750000</td>\n",
       "      <td>71395.750000</td>\n",
       "      <td>28652.000000</td>\n",
       "      <td>2.000000</td>\n",
       "      <td>0.000000</td>\n",
       "      <td>0.000000</td>\n",
       "      <td>2.000000</td>\n",
       "      <td>0.000000</td>\n",
       "      <td>0.000000</td>\n",
       "      <td>0.000000</td>\n",
       "      <td>11.000000</td>\n",
       "      <td>6.007029e+06</td>\n",
       "      <td>0.000000</td>\n",
       "      <td>0.000000e+00</td>\n",
       "    </tr>\n",
       "    <tr>\n",
       "      <th>50%</th>\n",
       "      <td>-122.330348</td>\n",
       "      <td>47.616106</td>\n",
       "      <td>110218.500000</td>\n",
       "      <td>126707.500000</td>\n",
       "      <td>126707.500000</td>\n",
       "      <td>29973.000000</td>\n",
       "      <td>2.000000</td>\n",
       "      <td>0.000000</td>\n",
       "      <td>0.000000</td>\n",
       "      <td>2.000000</td>\n",
       "      <td>0.000000</td>\n",
       "      <td>0.000000</td>\n",
       "      <td>0.000000</td>\n",
       "      <td>11.000000</td>\n",
       "      <td>8.033011e+06</td>\n",
       "      <td>0.000000</td>\n",
       "      <td>0.000000e+00</td>\n",
       "    </tr>\n",
       "    <tr>\n",
       "      <th>75%</th>\n",
       "      <td>-122.311998</td>\n",
       "      <td>47.664261</td>\n",
       "      <td>165327.250000</td>\n",
       "      <td>208526.250000</td>\n",
       "      <td>208726.250000</td>\n",
       "      <td>33983.000000</td>\n",
       "      <td>3.000000</td>\n",
       "      <td>0.000000</td>\n",
       "      <td>0.000000</td>\n",
       "      <td>2.000000</td>\n",
       "      <td>1.000000</td>\n",
       "      <td>0.000000</td>\n",
       "      <td>0.000000</td>\n",
       "      <td>14.000000</td>\n",
       "      <td>1.018101e+07</td>\n",
       "      <td>0.000000</td>\n",
       "      <td>0.000000e+00</td>\n",
       "    </tr>\n",
       "    <tr>\n",
       "      <th>max</th>\n",
       "      <td>-122.238949</td>\n",
       "      <td>47.734142</td>\n",
       "      <td>220436.000000</td>\n",
       "      <td>332640.000000</td>\n",
       "      <td>334140.000000</td>\n",
       "      <td>757580.000000</td>\n",
       "      <td>93.000000</td>\n",
       "      <td>6.000000</td>\n",
       "      <td>2.000000</td>\n",
       "      <td>15.000000</td>\n",
       "      <td>78.000000</td>\n",
       "      <td>41.000000</td>\n",
       "      <td>5.000000</td>\n",
       "      <td>87.000000</td>\n",
       "      <td>1.307202e+07</td>\n",
       "      <td>525241.000000</td>\n",
       "      <td>5.239700e+06</td>\n",
       "    </tr>\n",
       "  </tbody>\n",
       "</table>\n",
       "</div>"
      ],
      "text/plain": [
       "                   X              Y       OBJECTID         INCKEY  \\\n",
       "count  212975.000000  212975.000000  220436.000000  220436.000000   \n",
       "mean     -122.330748      47.620232  110218.500000  143893.625937   \n",
       "std         0.030042       0.056009   63634.536307   88451.013280   \n",
       "min      -122.419091      47.495573       1.000000    1001.000000   \n",
       "25%      -122.349280      47.577331   55109.750000   71395.750000   \n",
       "50%      -122.330348      47.616106  110218.500000  126707.500000   \n",
       "75%      -122.311998      47.664261  165327.250000  208526.250000   \n",
       "max      -122.238949      47.734142  220436.000000  332640.000000   \n",
       "\n",
       "           COLDETKEY         INTKEY    PERSONCOUNT       PEDCOUNT  \\\n",
       "count  220436.000000   71516.000000  220436.000000  220436.000000   \n",
       "mean   144116.360395   37614.720790       2.227145       0.038156   \n",
       "std     88818.314232   51915.702891       1.471406       0.201881   \n",
       "min      1001.000000   23807.000000       0.000000       0.000000   \n",
       "25%     71395.750000   28652.000000       2.000000       0.000000   \n",
       "50%    126707.500000   29973.000000       2.000000       0.000000   \n",
       "75%    208726.250000   33983.000000       3.000000       0.000000   \n",
       "max    334140.000000  757580.000000      93.000000       6.000000   \n",
       "\n",
       "         PEDCYLCOUNT       VEHCOUNT       INJURIES  SERIOUSINJURIES  \\\n",
       "count  220436.000000  220436.000000  220436.000000    220436.000000   \n",
       "mean        0.027310       1.730697       0.373868         0.015165   \n",
       "std         0.164398       0.829041       0.732352         0.158077   \n",
       "min         0.000000       0.000000       0.000000         0.000000   \n",
       "25%         0.000000       2.000000       0.000000         0.000000   \n",
       "50%         0.000000       2.000000       0.000000         0.000000   \n",
       "75%         0.000000       2.000000       1.000000         0.000000   \n",
       "max         2.000000      15.000000      78.000000        41.000000   \n",
       "\n",
       "          FATALITIES   SDOT_COLCODE    SDOTCOLNUM     SEGLANEKEY  CROSSWALKKEY  \n",
       "count  220436.000000  220435.000000  1.272050e+05  220436.000000  2.204360e+05  \n",
       "mean        0.001674      13.382362  7.971063e+06     262.425969  9.617439e+03  \n",
       "std         0.044493       7.305444  2.611523e+06    3254.921395  7.160964e+04  \n",
       "min         0.000000       0.000000  1.007024e+06       0.000000  0.000000e+00  \n",
       "25%         0.000000      11.000000  6.007029e+06       0.000000  0.000000e+00  \n",
       "50%         0.000000      11.000000  8.033011e+06       0.000000  0.000000e+00  \n",
       "75%         0.000000      14.000000  1.018101e+07       0.000000  0.000000e+00  \n",
       "max         5.000000      87.000000  1.307202e+07  525241.000000  5.239700e+06  "
      ]
     },
     "execution_count": 36,
     "metadata": {},
     "output_type": "execute_result"
    }
   ],
   "source": [
    "collisions.describe()"
   ]
  },
  {
   "cell_type": "code",
   "execution_count": 40,
   "metadata": {},
   "outputs": [
    {
     "data": {
      "application/vnd.jupyter.widget-view+json": {
       "model_id": "9bbf61dfc59d49038687f9de45e7f319",
       "version_major": 2,
       "version_minor": 0
      },
      "text/plain": [
       "HBox(children=(FloatProgress(value=0.0, description='variables', max=39.0, style=ProgressStyle(description_wid…"
      ]
     },
     "metadata": {},
     "output_type": "display_data"
    },
    {
     "name": "stdout",
     "output_type": "stream",
     "text": [
      "\n"
     ]
    },
    {
     "data": {
      "application/vnd.jupyter.widget-view+json": {
       "model_id": "4f6a89d3798c404786a7a78f5a71875e",
       "version_major": 2,
       "version_minor": 0
      },
      "text/plain": [
       "HBox(children=(FloatProgress(value=0.0, description='table', max=1.0, style=ProgressStyle(description_width='i…"
      ]
     },
     "metadata": {},
     "output_type": "display_data"
    },
    {
     "name": "stdout",
     "output_type": "stream",
     "text": [
      "\n"
     ]
    },
    {
     "data": {
      "application/vnd.jupyter.widget-view+json": {
       "model_id": "d0fda1953d8f4c5fa7d4efab91bff46d",
       "version_major": 2,
       "version_minor": 0
      },
      "text/plain": [
       "HBox(children=(FloatProgress(value=0.0, description='warnings', max=3.0, style=ProgressStyle(description_width…"
      ]
     },
     "metadata": {},
     "output_type": "display_data"
    },
    {
     "name": "stdout",
     "output_type": "stream",
     "text": [
      "\n"
     ]
    },
    {
     "data": {
      "application/vnd.jupyter.widget-view+json": {
       "model_id": "9ab442b8fdc844bda75878f968dbff8b",
       "version_major": 2,
       "version_minor": 0
      },
      "text/plain": [
       "HBox(children=(FloatProgress(value=0.0, description='package', max=1.0, style=ProgressStyle(description_width=…"
      ]
     },
     "metadata": {},
     "output_type": "display_data"
    },
    {
     "name": "stdout",
     "output_type": "stream",
     "text": [
      "\n"
     ]
    },
    {
     "data": {
      "application/vnd.jupyter.widget-view+json": {
       "model_id": "d0aa855e349b45b0865c9cfa6e14fd9d",
       "version_major": 2,
       "version_minor": 0
      },
      "text/plain": [
       "HBox(children=(FloatProgress(value=0.0, description='build report structure', max=1.0, style=ProgressStyle(des…"
      ]
     },
     "metadata": {},
     "output_type": "display_data"
    },
    {
     "name": "stdout",
     "output_type": "stream",
     "text": [
      "\n"
     ]
    }
   ],
   "source": [
    "# Pandas profiling, use minimal=True for large dataset\n",
    "profile = ProfileReport(collisions, title='Collisions Profile Report', minimal=True)\n",
    "profile.to_file('../reports/collisions_profiling.html')\n"
   ]
  },
  {
   "cell_type": "code",
   "execution_count": null,
   "metadata": {},
   "outputs": [],
   "source": []
  }
 ],
 "metadata": {
  "kernelspec": {
   "display_name": "Python 3",
   "language": "python",
   "name": "python3"
  },
  "language_info": {
   "codemirror_mode": {
    "name": "ipython",
    "version": 3
   },
   "file_extension": ".py",
   "mimetype": "text/x-python",
   "name": "python",
   "nbconvert_exporter": "python",
   "pygments_lexer": "ipython3",
   "version": "3.7.6"
  }
 },
 "nbformat": 4,
 "nbformat_minor": 4
}
