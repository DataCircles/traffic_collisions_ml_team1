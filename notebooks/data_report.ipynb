{
 "cells": [
  {
   "cell_type": "markdown",
   "metadata": {},
   "source": [
    "## Week 1\n",
    "Produce a Jupyter notebook with a data report to document:\n",
    "\n",
    "a. the structure and statistics of the raw data\n",
    "\n",
    "b. how the data can help answer the business problem(s)\n",
    "\n",
    "c. what additional data is needed to answer the business problem(s)\n",
    "\n",
    "Locate the additional data"
   ]
  },
  {
   "cell_type": "code",
   "execution_count": 1,
   "metadata": {},
   "outputs": [],
   "source": [
    "import numpy as np\n",
    "import pandas as pd\n",
    "import seaborn as sns\n",
    "import matplotlib.pyplot as plt\n",
    "%matplotlib inline\n",
    "\n",
    "plt.style.use('ggplot')\n",
    "pd.options.display.max_rows = 500\n",
    "pd.options.display.max_columns = 100\n",
    "\n",
    "import warnings\n",
    "warnings.filterwarnings(\"ignore\") \n",
    "\n",
    "from datetime import datetime\n",
    "from IPython.display import display, Markdown\n",
    "from IPython.core.interactiveshell import InteractiveShell\n",
    "InteractiveShell.ast_node_interactivity = \"all\""
   ]
  },
  {
   "cell_type": "code",
   "execution_count": 2,
   "metadata": {},
   "outputs": [],
   "source": [
    "#Load the data\n",
    "collisions_df = pd.read_csv('../data/Collisions.csv',\n",
    "                            parse_dates={'Datetime': ['INCDTTM']}, \n",
    "                            infer_datetime_format=True)\n",
    "intersections_df = pd.read_csv('../data/Intersections.csv')\n",
    "streets_df = pd.read_csv('../data/Seattle_Streets.csv')"
   ]
  },
  {
   "cell_type": "markdown",
   "metadata": {},
   "source": [
    "## EXPLORING SEATTLE STREET DATA"
   ]
  },
  {
   "cell_type": "code",
   "execution_count": 3,
   "metadata": {},
   "outputs": [
    {
     "data": {
      "text/html": [
       "<div>\n",
       "<style scoped>\n",
       "    .dataframe tbody tr th:only-of-type {\n",
       "        vertical-align: middle;\n",
       "    }\n",
       "\n",
       "    .dataframe tbody tr th {\n",
       "        vertical-align: top;\n",
       "    }\n",
       "\n",
       "    .dataframe thead th {\n",
       "        text-align: right;\n",
       "    }\n",
       "</style>\n",
       "<table border=\"1\" class=\"dataframe\">\n",
       "  <thead>\n",
       "    <tr style=\"text-align: right;\">\n",
       "      <th></th>\n",
       "      <th>OBJECTID</th>\n",
       "      <th>ARTCLASS</th>\n",
       "      <th>COMPKEY</th>\n",
       "      <th>UNITID</th>\n",
       "      <th>UNITID2</th>\n",
       "      <th>UNITIDSORT</th>\n",
       "      <th>UNITDESC</th>\n",
       "      <th>STNAME_ORD</th>\n",
       "      <th>XSTRLO</th>\n",
       "      <th>XSTRHI</th>\n",
       "      <th>ARTDESCRIPT</th>\n",
       "      <th>OWNER</th>\n",
       "      <th>STATUS</th>\n",
       "      <th>BLOCKNBR</th>\n",
       "      <th>SPEEDLIMIT</th>\n",
       "      <th>SEGDIR</th>\n",
       "      <th>ONEWAY</th>\n",
       "      <th>ONEWAYDIR</th>\n",
       "      <th>FLOW</th>\n",
       "      <th>SEGLENGTH</th>\n",
       "      <th>SURFACEWIDTH</th>\n",
       "      <th>SURFACETYPE_1</th>\n",
       "      <th>SURFACETYPE_2</th>\n",
       "      <th>INTRLO</th>\n",
       "      <th>DIRLO</th>\n",
       "      <th>INTKEYLO</th>\n",
       "      <th>INTRHI</th>\n",
       "      <th>DIRHI</th>\n",
       "      <th>NATIONHWYSYS</th>\n",
       "      <th>STREETTYPE</th>\n",
       "      <th>PVMTCONDINDX1</th>\n",
       "      <th>PVMTCONDINDX2</th>\n",
       "      <th>TRANCLASS</th>\n",
       "      <th>TRANDESCRIPT</th>\n",
       "      <th>SLOPE_PCT</th>\n",
       "      <th>PVMTCATEGORY</th>\n",
       "      <th>PARKBOULEVARD</th>\n",
       "      <th>SHAPE_Length</th>\n",
       "    </tr>\n",
       "  </thead>\n",
       "  <tbody>\n",
       "    <tr>\n",
       "      <td>0</td>\n",
       "      <td>1</td>\n",
       "      <td>2.0</td>\n",
       "      <td>1006</td>\n",
       "      <td>10.0</td>\n",
       "      <td>120.0</td>\n",
       "      <td>100120.0</td>\n",
       "      <td>1ST AVE BETWEEN SENECA ST AND UNIVERSITY ST</td>\n",
       "      <td>1ST AVE</td>\n",
       "      <td>SENECA ST</td>\n",
       "      <td>UNIVERSITY ST</td>\n",
       "      <td>Minor Arterial</td>\n",
       "      <td></td>\n",
       "      <td>INSVC</td>\n",
       "      <td>1200.0</td>\n",
       "      <td>25.0</td>\n",
       "      <td>NW</td>\n",
       "      <td>N</td>\n",
       "      <td></td>\n",
       "      <td></td>\n",
       "      <td>306.0</td>\n",
       "      <td>48.0</td>\n",
       "      <td>PCC</td>\n",
       "      <td>AC/PCC</td>\n",
       "      <td>1ST AVE AND SENECA ST</td>\n",
       "      <td>NW</td>\n",
       "      <td>29611.0</td>\n",
       "      <td>1ST AVE AND UNIVERSITY ST</td>\n",
       "      <td>SE</td>\n",
       "      <td>N</td>\n",
       "      <td>Downtown Neighborhood</td>\n",
       "      <td>87.0</td>\n",
       "      <td>62.0</td>\n",
       "      <td>1</td>\n",
       "      <td>PRINCIPAL TRANSIT ROUTE</td>\n",
       "      <td>4.0</td>\n",
       "      <td>ART</td>\n",
       "      <td>N</td>\n",
       "      <td>305.966050</td>\n",
       "    </tr>\n",
       "    <tr>\n",
       "      <td>1</td>\n",
       "      <td>2</td>\n",
       "      <td>2.0</td>\n",
       "      <td>1009</td>\n",
       "      <td>10.0</td>\n",
       "      <td>150.0</td>\n",
       "      <td>100150.0</td>\n",
       "      <td>1ST AVE BETWEEN PIKE ST AND PINE ST</td>\n",
       "      <td>1ST AVE</td>\n",
       "      <td>PIKE ST</td>\n",
       "      <td>PINE ST</td>\n",
       "      <td>Minor Arterial</td>\n",
       "      <td></td>\n",
       "      <td>INSVC</td>\n",
       "      <td>1500.0</td>\n",
       "      <td>25.0</td>\n",
       "      <td>NW</td>\n",
       "      <td>N</td>\n",
       "      <td></td>\n",
       "      <td></td>\n",
       "      <td>426.0</td>\n",
       "      <td>104.0</td>\n",
       "      <td>AC/PCC</td>\n",
       "      <td>PCC</td>\n",
       "      <td>1ST AVE AND PIKE ST</td>\n",
       "      <td>NW</td>\n",
       "      <td>29593.0</td>\n",
       "      <td>1ST AVE AND PINE ST</td>\n",
       "      <td>SE</td>\n",
       "      <td>N</td>\n",
       "      <td>Downtown Neighborhood</td>\n",
       "      <td>57.0</td>\n",
       "      <td>58.0</td>\n",
       "      <td>1</td>\n",
       "      <td>PRINCIPAL TRANSIT ROUTE</td>\n",
       "      <td>5.0</td>\n",
       "      <td>ART</td>\n",
       "      <td>N</td>\n",
       "      <td>426.031562</td>\n",
       "    </tr>\n",
       "    <tr>\n",
       "      <td>2</td>\n",
       "      <td>3</td>\n",
       "      <td>0.0</td>\n",
       "      <td>1032</td>\n",
       "      <td>15.0</td>\n",
       "      <td>80.0</td>\n",
       "      <td>150080.0</td>\n",
       "      <td>1ST AVE N BETWEEN VALLEY UPPER ST AND ALOHA ST</td>\n",
       "      <td>1ST AVE N</td>\n",
       "      <td>VALLEY UPPER ST</td>\n",
       "      <td>ALOHA ST</td>\n",
       "      <td>Not Designated</td>\n",
       "      <td></td>\n",
       "      <td>INSVC</td>\n",
       "      <td>800.0</td>\n",
       "      <td>20.0</td>\n",
       "      <td>N</td>\n",
       "      <td>N</td>\n",
       "      <td></td>\n",
       "      <td></td>\n",
       "      <td>297.0</td>\n",
       "      <td>0.0</td>\n",
       "      <td>PCC</td>\n",
       "      <td>NaN</td>\n",
       "      <td>1ST AVE N AND VALLEY UPPER ST</td>\n",
       "      <td>N</td>\n",
       "      <td>28897.0</td>\n",
       "      <td>1ST AVE N AND ALOHA ST</td>\n",
       "      <td>S</td>\n",
       "      <td>N</td>\n",
       "      <td>Neighborhood Yield Street</td>\n",
       "      <td>0.0</td>\n",
       "      <td>0.0</td>\n",
       "      <td>0</td>\n",
       "      <td>NOT DESIGNATED</td>\n",
       "      <td>17.0</td>\n",
       "      <td>NON-ART</td>\n",
       "      <td>N</td>\n",
       "      <td>297.147592</td>\n",
       "    </tr>\n",
       "    <tr>\n",
       "      <td>3</td>\n",
       "      <td>4</td>\n",
       "      <td>0.0</td>\n",
       "      <td>1051</td>\n",
       "      <td>15.0</td>\n",
       "      <td>230.0</td>\n",
       "      <td>150230.0</td>\n",
       "      <td>1ST AVE N BETWEEN LYNN ST AND MCGRAW S ST</td>\n",
       "      <td>1ST AVE N</td>\n",
       "      <td>LYNN ST</td>\n",
       "      <td>MCGRAW S ST</td>\n",
       "      <td>Not Designated</td>\n",
       "      <td></td>\n",
       "      <td>INSVC</td>\n",
       "      <td>2200.0</td>\n",
       "      <td>20.0</td>\n",
       "      <td>N</td>\n",
       "      <td>N</td>\n",
       "      <td></td>\n",
       "      <td></td>\n",
       "      <td>175.0</td>\n",
       "      <td>25.0</td>\n",
       "      <td>AC</td>\n",
       "      <td>NaN</td>\n",
       "      <td>1ST AVE N AND LYNN ST</td>\n",
       "      <td>N</td>\n",
       "      <td>28113.0</td>\n",
       "      <td>1ST AVE N AND MCGRAW S ST</td>\n",
       "      <td>S</td>\n",
       "      <td>N</td>\n",
       "      <td>Neighborhood Yield Street</td>\n",
       "      <td>9.0</td>\n",
       "      <td>0.0</td>\n",
       "      <td>0</td>\n",
       "      <td>NOT DESIGNATED</td>\n",
       "      <td>3.0</td>\n",
       "      <td>NON-ART</td>\n",
       "      <td>N</td>\n",
       "      <td>174.804983</td>\n",
       "    </tr>\n",
       "    <tr>\n",
       "      <td>4</td>\n",
       "      <td>5</td>\n",
       "      <td>0.0</td>\n",
       "      <td>1060</td>\n",
       "      <td>15.0</td>\n",
       "      <td>282.0</td>\n",
       "      <td>150282.0</td>\n",
       "      <td>1ST AVE N BETWEEN FULTON S ST AND FULTON N ST</td>\n",
       "      <td>1ST AVE N</td>\n",
       "      <td>FULTON S ST</td>\n",
       "      <td>FULTON N ST</td>\n",
       "      <td>Not Designated</td>\n",
       "      <td></td>\n",
       "      <td>INSVC</td>\n",
       "      <td>2800.0</td>\n",
       "      <td>20.0</td>\n",
       "      <td>N</td>\n",
       "      <td>N</td>\n",
       "      <td></td>\n",
       "      <td></td>\n",
       "      <td>73.0</td>\n",
       "      <td>0.0</td>\n",
       "      <td>PCC</td>\n",
       "      <td>NaN</td>\n",
       "      <td>1ST AVE N AND FULTON S ST</td>\n",
       "      <td>N</td>\n",
       "      <td>28051.0</td>\n",
       "      <td>1ST AVE N AND FULTON N ST</td>\n",
       "      <td>S</td>\n",
       "      <td>N</td>\n",
       "      <td>Neighborhood Yield Street</td>\n",
       "      <td>0.0</td>\n",
       "      <td>0.0</td>\n",
       "      <td>0</td>\n",
       "      <td>NOT DESIGNATED</td>\n",
       "      <td>5.0</td>\n",
       "      <td>NON-ART</td>\n",
       "      <td>N</td>\n",
       "      <td>73.110708</td>\n",
       "    </tr>\n",
       "  </tbody>\n",
       "</table>\n",
       "</div>"
      ],
      "text/plain": [
       "   OBJECTID  ARTCLASS  COMPKEY  UNITID  UNITID2  UNITIDSORT  \\\n",
       "0         1       2.0     1006    10.0    120.0    100120.0   \n",
       "1         2       2.0     1009    10.0    150.0    100150.0   \n",
       "2         3       0.0     1032    15.0     80.0    150080.0   \n",
       "3         4       0.0     1051    15.0    230.0    150230.0   \n",
       "4         5       0.0     1060    15.0    282.0    150282.0   \n",
       "\n",
       "                                         UNITDESC STNAME_ORD           XSTRLO  \\\n",
       "0     1ST AVE BETWEEN SENECA ST AND UNIVERSITY ST    1ST AVE        SENECA ST   \n",
       "1             1ST AVE BETWEEN PIKE ST AND PINE ST    1ST AVE          PIKE ST   \n",
       "2  1ST AVE N BETWEEN VALLEY UPPER ST AND ALOHA ST  1ST AVE N  VALLEY UPPER ST   \n",
       "3       1ST AVE N BETWEEN LYNN ST AND MCGRAW S ST  1ST AVE N          LYNN ST   \n",
       "4   1ST AVE N BETWEEN FULTON S ST AND FULTON N ST  1ST AVE N      FULTON S ST   \n",
       "\n",
       "          XSTRHI     ARTDESCRIPT OWNER STATUS  BLOCKNBR  SPEEDLIMIT SEGDIR  \\\n",
       "0  UNIVERSITY ST  Minor Arterial        INSVC    1200.0        25.0     NW   \n",
       "1        PINE ST  Minor Arterial        INSVC    1500.0        25.0     NW   \n",
       "2       ALOHA ST  Not Designated        INSVC     800.0        20.0      N   \n",
       "3    MCGRAW S ST  Not Designated        INSVC    2200.0        20.0      N   \n",
       "4    FULTON N ST  Not Designated        INSVC    2800.0        20.0      N   \n",
       "\n",
       "  ONEWAY ONEWAYDIR FLOW  SEGLENGTH  SURFACEWIDTH SURFACETYPE_1 SURFACETYPE_2  \\\n",
       "0      N                     306.0          48.0           PCC        AC/PCC   \n",
       "1      N                     426.0         104.0        AC/PCC           PCC   \n",
       "2      N                     297.0           0.0           PCC           NaN   \n",
       "3      N                     175.0          25.0            AC           NaN   \n",
       "4      N                      73.0           0.0           PCC           NaN   \n",
       "\n",
       "                          INTRLO DIRLO  INTKEYLO                     INTRHI  \\\n",
       "0          1ST AVE AND SENECA ST    NW   29611.0  1ST AVE AND UNIVERSITY ST   \n",
       "1            1ST AVE AND PIKE ST    NW   29593.0        1ST AVE AND PINE ST   \n",
       "2  1ST AVE N AND VALLEY UPPER ST     N   28897.0     1ST AVE N AND ALOHA ST   \n",
       "3          1ST AVE N AND LYNN ST     N   28113.0  1ST AVE N AND MCGRAW S ST   \n",
       "4      1ST AVE N AND FULTON S ST     N   28051.0  1ST AVE N AND FULTON N ST   \n",
       "\n",
       "  DIRHI NATIONHWYSYS                 STREETTYPE  PVMTCONDINDX1  PVMTCONDINDX2  \\\n",
       "0    SE            N      Downtown Neighborhood           87.0           62.0   \n",
       "1    SE            N      Downtown Neighborhood           57.0           58.0   \n",
       "2     S            N  Neighborhood Yield Street            0.0            0.0   \n",
       "3     S            N  Neighborhood Yield Street            9.0            0.0   \n",
       "4     S            N  Neighborhood Yield Street            0.0            0.0   \n",
       "\n",
       "   TRANCLASS             TRANDESCRIPT  SLOPE_PCT PVMTCATEGORY PARKBOULEVARD  \\\n",
       "0          1  PRINCIPAL TRANSIT ROUTE        4.0          ART             N   \n",
       "1          1  PRINCIPAL TRANSIT ROUTE        5.0          ART             N   \n",
       "2          0           NOT DESIGNATED       17.0      NON-ART             N   \n",
       "3          0           NOT DESIGNATED        3.0      NON-ART             N   \n",
       "4          0           NOT DESIGNATED        5.0      NON-ART             N   \n",
       "\n",
       "   SHAPE_Length  \n",
       "0    305.966050  \n",
       "1    426.031562  \n",
       "2    297.147592  \n",
       "3    174.804983  \n",
       "4     73.110708  "
      ]
     },
     "execution_count": 3,
     "metadata": {},
     "output_type": "execute_result"
    }
   ],
   "source": [
    "streets_df.head()"
   ]
  },
  {
   "cell_type": "code",
   "execution_count": 4,
   "metadata": {},
   "outputs": [
    {
     "data": {
      "text/plain": [
       "(23806, 38)"
      ]
     },
     "execution_count": 4,
     "metadata": {},
     "output_type": "execute_result"
    }
   ],
   "source": [
    "streets_df.shape"
   ]
  },
  {
   "cell_type": "markdown",
   "metadata": {},
   "source": [
    "# ABOUT THE DATA FEATURES\n",
    "<b>OBJECTID</b> - ESRI unique identifier\n",
    "\n",
    "<b>ARTCLASS</b> - Arterial classification code:\n",
    "    <ol>5 - Interstate Freeway\n",
    "    <br>4 - State Highway\n",
    "    <br>3 - Collector Arterial\n",
    "    <br>2 - Minor Arterial\n",
    "    <br>1 - Principal Arterial\n",
    "    <br>0 - Not Designated (not an arterial)</ol>\n",
    "    \n",
    "<b>COMPKEY</b> - Primary key of the Street asset table, assigned\n",
    "by the Hansen asset management system. \n",
    "    \n",
    "<b>UNITID</b> - <i>N/A</i>  \n",
    "\n",
    "<b>UNITID2</b> - <i>N/A</i>   \n",
    "\n",
    "<b>UNITIDSORT</b> - Alpha-numeric Hansen unique identifier\n",
    "\n",
    "<b>UNITIDESC</b> - Structured description of the Street location\n",
    "\n",
    "<b>STNAME_ORD</b> - Street segment name   \n",
    "\n",
    "<b>XSTRLO</b> - Cross street at low end of segment\n",
    "\n",
    "<b>XSTRHI</b> - Cross street at high end of segment    \n",
    "\n",
    "<b>ARTDESCRIPT</b> - Arterial class code description   \n",
    "\n",
    "<b>OWNER</b> - The organization that owns the street, if not the city  \n",
    "\n",
    "<b>STATUS</b> - Current street status <i> INSVC = in service </i>  \n",
    "\n",
    "<b>BLOCKNBR</b> - Identification number of block street runs adjacent to\n",
    "\n",
    "<b>SPEEDLIMIT</b> - Speed limit in MPH    \n",
    "\n",
    "<b>SEGDIR</b> - Street segment direction   \n",
    "\n",
    "<b>ONEWAY</b> - One Way Street (Y/N)    \n",
    "\n",
    "<b>ONEWAYDIR</b> - One Way Street traffic flow direction\n",
    "\n",
    "<b>FLOW</b> - One Way Street traffic flow classification    \n",
    "\n",
    "<b>SEGLENGTH</b> - Street segment length in feet   \n",
    "\n",
    "<b>SURFACEWIDTH</b> - Street segment width in feet     \n",
    "\n",
    "<b>SURFACETYPE_1</b> - Primary pavement used on Street surface\n",
    "    <ol>AC - Asphalt Concrete\n",
    "    <br>PCC - Rigid Pavement\n",
    "    <br>AC/PCC - Composite AC and PCC\n",
    "    <br>ST - Bituminous Surface Treatment\n",
    "\n",
    "<b>SURFACETYPE_2</b> - Secondary pavement used on Street surface     \n",
    "\n",
    "<b>INTRLO</b> - Description of the intersection location with cross street at high address end of segment    \n",
    "\n",
    "<b>DIRLO</b> - Relative direction of low address end of segment   \n",
    "\n",
    "<b>INTKEYLO</b> - Intersection key at low address end of segment     \n",
    "\n",
    "<b>INTRHI</b> - Description of the intersection location with cross street at high address end of segment      \n",
    "\n",
    "<b>DIRHI</b> - Direction of high address end of segment   \n",
    "\n",
    "<b>NATIONHWYSYS</b> - Whether the street is part of the National Highway System (Y/N)      \n",
    "\n",
    "<b>STREETTYPE</b> - Street type classification (from Seattle Right of Way Improvements Manual) \n",
    "    https://streetsillustrated.seattle.gov/https-streetsillustrated-seattle-gov-wp-content-uploads-2019-12-streettyperelationships-movementplacev4-jpg/street-classification/\n",
    "\n",
    "<b>PVMTCONDINDX1</b> - Primary pavement condition, out of 100     \n",
    "\n",
    "<b>PVMTCONDINDX2</b> - Secondary pavement condition, out of 100     \n",
    "\n",
    "<b>TRANCLASS</b> - Street transit classification   \n",
    "\n",
    "<b>TRANDESCRIPT</b> - Transit class description\n",
    "\n",
    "<b>SLOPE_PCT</b> - Street grade in slope percentage \n",
    "\n",
    "<b>PVMTCATEGORY</b> - <i>N/A</i> \n",
    "\n",
    "<b>PARKBOULEVARD</b> - <i>N/A</i> \n",
    "    \n",
    "<b>SHAPE_Length</b> - ESRI field that stores information about the length of a feature in GIS     "
   ]
  },
  {
   "cell_type": "code",
   "execution_count": 5,
   "metadata": {},
   "outputs": [
    {
     "data": {
      "text/html": [
       "<div>\n",
       "<style scoped>\n",
       "    .dataframe tbody tr th:only-of-type {\n",
       "        vertical-align: middle;\n",
       "    }\n",
       "\n",
       "    .dataframe tbody tr th {\n",
       "        vertical-align: top;\n",
       "    }\n",
       "\n",
       "    .dataframe thead th {\n",
       "        text-align: right;\n",
       "    }\n",
       "</style>\n",
       "<table border=\"1\" class=\"dataframe\">\n",
       "  <thead>\n",
       "    <tr style=\"text-align: right;\">\n",
       "      <th></th>\n",
       "      <th>data_type</th>\n",
       "      <th>percent_missing_values</th>\n",
       "      <th>total_unique_values</th>\n",
       "    </tr>\n",
       "  </thead>\n",
       "  <tbody>\n",
       "    <tr>\n",
       "      <td>SURFACETYPE_2</td>\n",
       "      <td>object</td>\n",
       "      <td>97.13</td>\n",
       "      <td>5</td>\n",
       "    </tr>\n",
       "    <tr>\n",
       "      <td>SURFACETYPE_1</td>\n",
       "      <td>object</td>\n",
       "      <td>5.03</td>\n",
       "      <td>6</td>\n",
       "    </tr>\n",
       "    <tr>\n",
       "      <td>STREETTYPE</td>\n",
       "      <td>object</td>\n",
       "      <td>3.33</td>\n",
       "      <td>12</td>\n",
       "    </tr>\n",
       "    <tr>\n",
       "      <td>TRANDESCRIPT</td>\n",
       "      <td>object</td>\n",
       "      <td>0.79</td>\n",
       "      <td>7</td>\n",
       "    </tr>\n",
       "    <tr>\n",
       "      <td>SLOPE_PCT</td>\n",
       "      <td>float64</td>\n",
       "      <td>0.08</td>\n",
       "      <td>34</td>\n",
       "    </tr>\n",
       "    <tr>\n",
       "      <td>INTRHI</td>\n",
       "      <td>object</td>\n",
       "      <td>0.05</td>\n",
       "      <td>14234</td>\n",
       "    </tr>\n",
       "    <tr>\n",
       "      <td>ONEWAY</td>\n",
       "      <td>object</td>\n",
       "      <td>0.05</td>\n",
       "      <td>2</td>\n",
       "    </tr>\n",
       "    <tr>\n",
       "      <td>SURFACEWIDTH</td>\n",
       "      <td>float64</td>\n",
       "      <td>0.04</td>\n",
       "      <td>94</td>\n",
       "    </tr>\n",
       "    <tr>\n",
       "      <td>INTKEYLO</td>\n",
       "      <td>float64</td>\n",
       "      <td>0.04</td>\n",
       "      <td>14110</td>\n",
       "    </tr>\n",
       "    <tr>\n",
       "      <td>INTRLO</td>\n",
       "      <td>object</td>\n",
       "      <td>0.04</td>\n",
       "      <td>14109</td>\n",
       "    </tr>\n",
       "    <tr>\n",
       "      <td>XSTRLO</td>\n",
       "      <td>object</td>\n",
       "      <td>0.03</td>\n",
       "      <td>3684</td>\n",
       "    </tr>\n",
       "    <tr>\n",
       "      <td>PVMTCONDINDX2</td>\n",
       "      <td>float64</td>\n",
       "      <td>0.03</td>\n",
       "      <td>92</td>\n",
       "    </tr>\n",
       "    <tr>\n",
       "      <td>PVMTCONDINDX1</td>\n",
       "      <td>float64</td>\n",
       "      <td>0.03</td>\n",
       "      <td>101</td>\n",
       "    </tr>\n",
       "    <tr>\n",
       "      <td>PARKBOULEVARD</td>\n",
       "      <td>object</td>\n",
       "      <td>0.03</td>\n",
       "      <td>2</td>\n",
       "    </tr>\n",
       "    <tr>\n",
       "      <td>NATIONHWYSYS</td>\n",
       "      <td>object</td>\n",
       "      <td>0.03</td>\n",
       "      <td>2</td>\n",
       "    </tr>\n",
       "    <tr>\n",
       "      <td>DIRHI</td>\n",
       "      <td>object</td>\n",
       "      <td>0.03</td>\n",
       "      <td>8</td>\n",
       "    </tr>\n",
       "    <tr>\n",
       "      <td>UNITID</td>\n",
       "      <td>float64</td>\n",
       "      <td>0.03</td>\n",
       "      <td>2562</td>\n",
       "    </tr>\n",
       "    <tr>\n",
       "      <td>DIRLO</td>\n",
       "      <td>object</td>\n",
       "      <td>0.03</td>\n",
       "      <td>9</td>\n",
       "    </tr>\n",
       "    <tr>\n",
       "      <td>UNITID2</td>\n",
       "      <td>float64</td>\n",
       "      <td>0.03</td>\n",
       "      <td>941</td>\n",
       "    </tr>\n",
       "    <tr>\n",
       "      <td>UNITIDSORT</td>\n",
       "      <td>float64</td>\n",
       "      <td>0.03</td>\n",
       "      <td>23800</td>\n",
       "    </tr>\n",
       "    <tr>\n",
       "      <td>PVMTCATEGORY</td>\n",
       "      <td>object</td>\n",
       "      <td>0.03</td>\n",
       "      <td>7</td>\n",
       "    </tr>\n",
       "    <tr>\n",
       "      <td>ARTCLASS</td>\n",
       "      <td>float64</td>\n",
       "      <td>0.03</td>\n",
       "      <td>7</td>\n",
       "    </tr>\n",
       "    <tr>\n",
       "      <td>FLOW</td>\n",
       "      <td>object</td>\n",
       "      <td>0.03</td>\n",
       "      <td>3</td>\n",
       "    </tr>\n",
       "    <tr>\n",
       "      <td>ONEWAYDIR</td>\n",
       "      <td>object</td>\n",
       "      <td>0.03</td>\n",
       "      <td>9</td>\n",
       "    </tr>\n",
       "    <tr>\n",
       "      <td>UNITDESC</td>\n",
       "      <td>object</td>\n",
       "      <td>0.03</td>\n",
       "      <td>23800</td>\n",
       "    </tr>\n",
       "    <tr>\n",
       "      <td>SEGDIR</td>\n",
       "      <td>object</td>\n",
       "      <td>0.03</td>\n",
       "      <td>9</td>\n",
       "    </tr>\n",
       "    <tr>\n",
       "      <td>SPEEDLIMIT</td>\n",
       "      <td>float64</td>\n",
       "      <td>0.03</td>\n",
       "      <td>10</td>\n",
       "    </tr>\n",
       "    <tr>\n",
       "      <td>BLOCKNBR</td>\n",
       "      <td>float64</td>\n",
       "      <td>0.03</td>\n",
       "      <td>297</td>\n",
       "    </tr>\n",
       "    <tr>\n",
       "      <td>STATUS</td>\n",
       "      <td>object</td>\n",
       "      <td>0.03</td>\n",
       "      <td>6</td>\n",
       "    </tr>\n",
       "    <tr>\n",
       "      <td>OWNER</td>\n",
       "      <td>object</td>\n",
       "      <td>0.03</td>\n",
       "      <td>8</td>\n",
       "    </tr>\n",
       "    <tr>\n",
       "      <td>ARTDESCRIPT</td>\n",
       "      <td>object</td>\n",
       "      <td>0.03</td>\n",
       "      <td>7</td>\n",
       "    </tr>\n",
       "    <tr>\n",
       "      <td>XSTRHI</td>\n",
       "      <td>object</td>\n",
       "      <td>0.03</td>\n",
       "      <td>3685</td>\n",
       "    </tr>\n",
       "    <tr>\n",
       "      <td>SEGLENGTH</td>\n",
       "      <td>float64</td>\n",
       "      <td>0.03</td>\n",
       "      <td>1599</td>\n",
       "    </tr>\n",
       "    <tr>\n",
       "      <td>OBJECTID</td>\n",
       "      <td>int64</td>\n",
       "      <td>0.00</td>\n",
       "      <td>23806</td>\n",
       "    </tr>\n",
       "    <tr>\n",
       "      <td>TRANCLASS</td>\n",
       "      <td>int64</td>\n",
       "      <td>0.00</td>\n",
       "      <td>7</td>\n",
       "    </tr>\n",
       "    <tr>\n",
       "      <td>STNAME_ORD</td>\n",
       "      <td>object</td>\n",
       "      <td>0.00</td>\n",
       "      <td>2410</td>\n",
       "    </tr>\n",
       "    <tr>\n",
       "      <td>COMPKEY</td>\n",
       "      <td>int64</td>\n",
       "      <td>0.00</td>\n",
       "      <td>23806</td>\n",
       "    </tr>\n",
       "    <tr>\n",
       "      <td>SHAPE_Length</td>\n",
       "      <td>float64</td>\n",
       "      <td>0.00</td>\n",
       "      <td>23798</td>\n",
       "    </tr>\n",
       "  </tbody>\n",
       "</table>\n",
       "</div>"
      ],
      "text/plain": [
       "              data_type  percent_missing_values  total_unique_values\n",
       "SURFACETYPE_2    object                   97.13                    5\n",
       "SURFACETYPE_1    object                    5.03                    6\n",
       "STREETTYPE       object                    3.33                   12\n",
       "TRANDESCRIPT     object                    0.79                    7\n",
       "SLOPE_PCT       float64                    0.08                   34\n",
       "INTRHI           object                    0.05                14234\n",
       "ONEWAY           object                    0.05                    2\n",
       "SURFACEWIDTH    float64                    0.04                   94\n",
       "INTKEYLO        float64                    0.04                14110\n",
       "INTRLO           object                    0.04                14109\n",
       "XSTRLO           object                    0.03                 3684\n",
       "PVMTCONDINDX2   float64                    0.03                   92\n",
       "PVMTCONDINDX1   float64                    0.03                  101\n",
       "PARKBOULEVARD    object                    0.03                    2\n",
       "NATIONHWYSYS     object                    0.03                    2\n",
       "DIRHI            object                    0.03                    8\n",
       "UNITID          float64                    0.03                 2562\n",
       "DIRLO            object                    0.03                    9\n",
       "UNITID2         float64                    0.03                  941\n",
       "UNITIDSORT      float64                    0.03                23800\n",
       "PVMTCATEGORY     object                    0.03                    7\n",
       "ARTCLASS        float64                    0.03                    7\n",
       "FLOW             object                    0.03                    3\n",
       "ONEWAYDIR        object                    0.03                    9\n",
       "UNITDESC         object                    0.03                23800\n",
       "SEGDIR           object                    0.03                    9\n",
       "SPEEDLIMIT      float64                    0.03                   10\n",
       "BLOCKNBR        float64                    0.03                  297\n",
       "STATUS           object                    0.03                    6\n",
       "OWNER            object                    0.03                    8\n",
       "ARTDESCRIPT      object                    0.03                    7\n",
       "XSTRHI           object                    0.03                 3685\n",
       "SEGLENGTH       float64                    0.03                 1599\n",
       "OBJECTID          int64                    0.00                23806\n",
       "TRANCLASS         int64                    0.00                    7\n",
       "STNAME_ORD       object                    0.00                 2410\n",
       "COMPKEY           int64                    0.00                23806\n",
       "SHAPE_Length    float64                    0.00                23798"
      ]
     },
     "execution_count": 5,
     "metadata": {},
     "output_type": "execute_result"
    }
   ],
   "source": [
    "# Consider how many missing and unique values there are in each column\n",
    "col_na = round(100*(streets_df.isna().sum()/len(streets_df)), 2)\n",
    "col_nunique = streets_df.nunique()\n",
    "df_summary = pd.DataFrame({\"data_type\": streets_df.dtypes,\n",
    "                           \"percent_missing_values\": col_na,\n",
    "                           \"total_unique_values\": col_nunique}).sort_values(by=[\"percent_missing_values\"],\n",
    "                                                                            ascending=False)\n",
    "df_summary"
   ]
  },
  {
   "cell_type": "code",
   "execution_count": 6,
   "metadata": {},
   "outputs": [
    {
     "data": {
      "image/png": "[encoded data removed]",
      "text/plain": [
       "<Figure size 648x432 with 1 Axes>"
      ]
     },
     "metadata": {
      "needs_background": "light"
     },
     "output_type": "display_data"
    }
   ],
   "source": [
    "#DISTRIBUTION OF VARIATIONS BY STREET\n",
    "fig, ax = plt.subplots(figsize=(9,6))\n",
    "ax.hist(streets_df['STNAME_ORD'].value_counts(), bins=30, color='lightseagreen')\n",
    "ax.set_title('Distribution of Number of Street Variations')\n",
    "ax.set_xlabel('Number of Variations')\n",
    "ax.set_ylabel('Number of Streets');"
   ]
  },
  {
   "cell_type": "code",
   "execution_count": 7,
   "metadata": {},
   "outputs": [
    {
     "data": {
      "image/png": "[encoded data removed]",
      "text/plain": [
       "<Figure size 648x432 with 1 Axes>"
      ]
     },
     "metadata": {
      "needs_background": "light"
     },
     "output_type": "display_data"
    }
   ],
   "source": [
    "#ARTERIAL CLASS DISTRIBUTION\n",
    "artclass_dict = {5 : 'Intst Fway',\n",
    "                 4 : 'St Hway',\n",
    "                 3 : 'Collector',\n",
    "                 2 : 'Minor',\n",
    "                 1 : 'Principal',\n",
    "                 0 : 'Non-Arterial'}\n",
    "\n",
    "fig, ax = plt.subplots(figsize=(9,6))\n",
    "arterials = streets_df['ARTCLASS'].value_counts().iloc[:6]\n",
    "\n",
    "ax.bar([artclass_dict[i] for i in arterials.index], arterials, color='steelblue')\n",
    "ax.set_title('Number of Streets in Seattle by Arterial Class')\n",
    "ax.set_ylabel('Number of Streets', size=12);"
   ]
  },
  {
   "cell_type": "code",
   "execution_count": 8,
   "metadata": {},
   "outputs": [
    {
     "data": {
      "image/png": "[encoded data removed]",
      "text/plain": [
       "<Figure size 648x432 with 1 Axes>"
      ]
     },
     "metadata": {
      "needs_background": "light"
     },
     "output_type": "display_data"
    }
   ],
   "source": [
    "#Speed Limits \n",
    "fig, ax = plt.subplots(figsize=(9,6))\n",
    "speeds = streets_df['SPEEDLIMIT'].value_counts()\n",
    "ax.bar(speeds.index.astype(str), speeds, color='tab:red')\n",
    "ax.set_title('Distribution of Speed Limits on Seattle Streets')\n",
    "ax.set_xlabel('Miles Per Hour')\n",
    "ax.set_ylabel('Number of Streets', size=12);"
   ]
  },
  {
   "cell_type": "code",
   "execution_count": 9,
   "metadata": {},
   "outputs": [
    {
     "data": {
      "image/png": "[encoded data removed]",
      "text/plain": [
       "<Figure size 648x432 with 1 Axes>"
      ]
     },
     "metadata": {
      "needs_background": "light"
     },
     "output_type": "display_data"
    }
   ],
   "source": [
    "#Compare location types for collisions\n",
    "fig, ax = plt.subplots(figsize=(9,6))\n",
    "addr_types = collisions_df['ADDRTYPE'].value_counts()\n",
    "ax.bar(addr_types.index, addr_types, color='goldenrod')\n",
    "ax.set_title('Number of Seattle Collisions by Address Type (2004-2020)')\n",
    "ax.set_ylabel('Number of collisions', size=12);"
   ]
  },
  {
   "cell_type": "code",
   "execution_count": 10,
   "metadata": {},
   "outputs": [],
   "source": [
    "#Look at Collisions not occuring at Intersections\n",
    "block_mask = collisions_df['ADDRTYPE'] == 'Block'\n",
    "collision_streets = collisions_df[block_mask]['LOCATION'].apply(lambda string: string.split(' BETWEEN ')[0])"
   ]
  },
  {
   "cell_type": "code",
   "execution_count": 11,
   "metadata": {},
   "outputs": [
    {
     "data": {
      "image/png": "[encoded data removed]",
      "text/plain": [
       "<Figure size 648x432 with 1 Axes>"
      ]
     },
     "metadata": {
      "needs_background": "light"
     },
     "output_type": "display_data"
    }
   ],
   "source": [
    "fig, ax = plt.subplots(figsize=(9,6))\n",
    "top_10 = collision_streets.value_counts().sort_values(ascending=False)[:10]\n",
    "ax.bar(top_10.index, top_10, color='darkorchid')\n",
    "ax.set_title(\"Top 10 Most 'Dangerous' Blocks in Seattle (2004-2020)\")\n",
    "ax.set_ylabel('Number of collisions', size=12)\n",
    "ax.tick_params(axis='x', labelrotation=45);"
   ]
  },
  {
   "cell_type": "code",
   "execution_count": 12,
   "metadata": {},
   "outputs": [
    {
     "data": {
      "image/png": "[encoded data removed]",
      "text/plain": [
       "<Figure size 648x432 with 1 Axes>"
      ]
     },
     "metadata": {
      "needs_background": "light"
     },
     "output_type": "display_data"
    }
   ],
   "source": [
    "fig, ax = plt.subplots(figsize=(9,6))\n",
    "classes = [streets_df[streets_df['STNAME_ORD'] == i]['ARTCLASS'].values for i in top_10.index]\n",
    "\n",
    "ax.boxplot(classes)\n",
    "ax.set_xticklabels(top_10.index, rotation=45)\n",
    "ax.set_title('Distribution of Arterial Class for Top 10 Collision Streets')\n",
    "ax.set_ylabel('Arterial Class');"
   ]
  },
  {
   "cell_type": "code",
   "execution_count": 13,
   "metadata": {},
   "outputs": [
    {
     "data": {
      "image/png": "[encoded data removed]",
      "text/plain": [
       "<Figure size 648x432 with 1 Axes>"
      ]
     },
     "metadata": {
      "needs_background": "light"
     },
     "output_type": "display_data"
    }
   ],
   "source": [
    "fig, ax = plt.subplots(figsize=(9,6))\n",
    "slopes = [streets_df[streets_df['STNAME_ORD'] == i]['SURFACEWIDTH'].values for i in top_10.index]\n",
    "\n",
    "ax.boxplot(slopes)\n",
    "ax.set_xticklabels(top_10.index, rotation=45)\n",
    "ax.set_title('Distribution of Surface Width for Top 10 Collision Streets')\n",
    "ax.set_ylabel('Street Width in Feet');"
   ]
  },
  {
   "cell_type": "code",
   "execution_count": 14,
   "metadata": {},
   "outputs": [
    {
     "data": {
      "image/png": "[encoded data removed]",
      "text/plain": [
       "<Figure size 648x432 with 1 Axes>"
      ]
     },
     "metadata": {
      "needs_background": "light"
     },
     "output_type": "display_data"
    }
   ],
   "source": [
    "fig, ax = plt.subplots(figsize=(9,6))\n",
    "slopes = [streets_df[streets_df['STNAME_ORD'] == i]['SLOPE_PCT'].values for i in top_10.index]\n",
    "\n",
    "ax.boxplot(slopes)\n",
    "ax.set_xticklabels(top_10.index, rotation=45)\n",
    "ax.set_title('Distribution of Slope Percent for Top 10 Collision Streets')\n",
    "ax.set_ylabel('Slope Percent');"
   ]
  },
  {
   "cell_type": "markdown",
   "metadata": {},
   "source": [
    "# Exploring Collisions Data\n",
    "\n",
    "The collisions data is a goldmine of information, but there are many features with missing or inconsistent data. Missing data can often be filled in based on the collision description. \n",
    "\n",
    "Some features, like speeding, are missing >75% of the data. However, this feature is likely too important to drop completely from our analysis. "
   ]
  },
  {
   "cell_type": "markdown",
   "metadata": {},
   "source": [
    "### General Statistics\n",
    "\n",
    "#### Features\n",
    "\n",
    "##### Numeric\n",
    "- PERSONCOUNT (# of people invovled)  \n",
    "- PEDCOUNT (# of pedestirans)  \n",
    "- PEDCYLCOUNT (# of cyclists)  \n",
    "- VEHCOUNT (# of vehicles)\n",
    "- INJURIES (# of injuries)\n",
    "- SERIOUSINJURIES (# of serious injuries)\n",
    "- FATALITIES (# of deaths)  \n",
    "\n",
    "##### Human factors\n",
    "- INATTENTIONIND (whether or not collision was due to inattention)\n",
    "- UNDERINFL (whether or not a driver involved was under the influence)\n",
    "- PEDROWNOTGRNT(Whether pedestrian had the right of way)\n",
    "- SPEEDING (whether or not speeding was a factor in the collision)\n",
    "- ST_COLCODE (collision type label)\n",
    "\n",
    "\n",
    "##### Characteristics of the site\n",
    "- ADDRTYPE (address type)\n",
    "- LOCATION (described in street names)\n",
    "- X & Y (GPS location)\n",
    "- CROSSWALKKEY (crosswalk label)\n",
    "- JUNCTIONTYPE (junction type)\n",
    "- ROADCOND (road condition)\n",
    "\n",
    "##### External factors\n",
    "- LIGHTCOND (light condition)\n",
    "- WEATHER (description of the weather conditions during the time of the collision)"
   ]
  },
  {
   "cell_type": "code",
   "execution_count": 15,
   "metadata": {},
   "outputs": [
    {
     "data": {
      "text/html": [
       "<div>\n",
       "<style scoped>\n",
       "    .dataframe tbody tr th:only-of-type {\n",
       "        vertical-align: middle;\n",
       "    }\n",
       "\n",
       "    .dataframe tbody tr th {\n",
       "        vertical-align: top;\n",
       "    }\n",
       "\n",
       "    .dataframe thead th {\n",
       "        text-align: right;\n",
       "    }\n",
       "</style>\n",
       "<table border=\"1\" class=\"dataframe\">\n",
       "  <thead>\n",
       "    <tr style=\"text-align: right;\">\n",
       "      <th></th>\n",
       "      <th>X</th>\n",
       "      <th>Y</th>\n",
       "      <th>OBJECTID</th>\n",
       "      <th>INCKEY</th>\n",
       "      <th>COLDETKEY</th>\n",
       "      <th>INTKEY</th>\n",
       "      <th>PERSONCOUNT</th>\n",
       "      <th>PEDCOUNT</th>\n",
       "      <th>PEDCYLCOUNT</th>\n",
       "      <th>VEHCOUNT</th>\n",
       "      <th>INJURIES</th>\n",
       "      <th>SERIOUSINJURIES</th>\n",
       "      <th>FATALITIES</th>\n",
       "      <th>SDOT_COLCODE</th>\n",
       "      <th>SDOTCOLNUM</th>\n",
       "      <th>SEGLANEKEY</th>\n",
       "      <th>CROSSWALKKEY</th>\n",
       "    </tr>\n",
       "  </thead>\n",
       "  <tbody>\n",
       "    <tr>\n",
       "      <td>count</td>\n",
       "      <td>212878.000000</td>\n",
       "      <td>212878.000000</td>\n",
       "      <td>220338.000000</td>\n",
       "      <td>220338.000000</td>\n",
       "      <td>220338.000000</td>\n",
       "      <td>71472.000000</td>\n",
       "      <td>220338.000000</td>\n",
       "      <td>220338.000000</td>\n",
       "      <td>220338.000000</td>\n",
       "      <td>220338.000000</td>\n",
       "      <td>220338.000000</td>\n",
       "      <td>220338.000000</td>\n",
       "      <td>220338.000000</td>\n",
       "      <td>220337.000000</td>\n",
       "      <td>1.272050e+05</td>\n",
       "      <td>220338.000000</td>\n",
       "      <td>2.203380e+05</td>\n",
       "    </tr>\n",
       "    <tr>\n",
       "      <td>mean</td>\n",
       "      <td>-122.330752</td>\n",
       "      <td>47.620234</td>\n",
       "      <td>110169.500000</td>\n",
       "      <td>143809.710463</td>\n",
       "      <td>144031.876830</td>\n",
       "      <td>37601.430980</td>\n",
       "      <td>2.227119</td>\n",
       "      <td>0.038155</td>\n",
       "      <td>0.027294</td>\n",
       "      <td>1.730614</td>\n",
       "      <td>0.373839</td>\n",
       "      <td>0.015168</td>\n",
       "      <td>0.001675</td>\n",
       "      <td>13.382124</td>\n",
       "      <td>7.971063e+06</td>\n",
       "      <td>262.542689</td>\n",
       "      <td>9.621717e+03</td>\n",
       "    </tr>\n",
       "    <tr>\n",
       "      <td>std</td>\n",
       "      <td>0.030042</td>\n",
       "      <td>0.056006</td>\n",
       "      <td>63606.246144</td>\n",
       "      <td>88381.117503</td>\n",
       "      <td>88747.658541</td>\n",
       "      <td>51864.925192</td>\n",
       "      <td>1.471631</td>\n",
       "      <td>0.201883</td>\n",
       "      <td>0.164355</td>\n",
       "      <td>0.829109</td>\n",
       "      <td>0.732377</td>\n",
       "      <td>0.158098</td>\n",
       "      <td>0.044503</td>\n",
       "      <td>7.306179</td>\n",
       "      <td>2.611523e+06</td>\n",
       "      <td>3255.640460</td>\n",
       "      <td>7.162528e+04</td>\n",
       "    </tr>\n",
       "    <tr>\n",
       "      <td>min</td>\n",
       "      <td>-122.419091</td>\n",
       "      <td>47.495573</td>\n",
       "      <td>1.000000</td>\n",
       "      <td>1001.000000</td>\n",
       "      <td>1001.000000</td>\n",
       "      <td>23807.000000</td>\n",
       "      <td>0.000000</td>\n",
       "      <td>0.000000</td>\n",
       "      <td>0.000000</td>\n",
       "      <td>0.000000</td>\n",
       "      <td>0.000000</td>\n",
       "      <td>0.000000</td>\n",
       "      <td>0.000000</td>\n",
       "      <td>0.000000</td>\n",
       "      <td>1.007024e+06</td>\n",
       "      <td>0.000000</td>\n",
       "      <td>0.000000e+00</td>\n",
       "    </tr>\n",
       "    <tr>\n",
       "      <td>25%</td>\n",
       "      <td>-122.349280</td>\n",
       "      <td>47.577331</td>\n",
       "      <td>55085.250000</td>\n",
       "      <td>71371.250000</td>\n",
       "      <td>71371.250000</td>\n",
       "      <td>28652.000000</td>\n",
       "      <td>2.000000</td>\n",
       "      <td>0.000000</td>\n",
       "      <td>0.000000</td>\n",
       "      <td>2.000000</td>\n",
       "      <td>0.000000</td>\n",
       "      <td>0.000000</td>\n",
       "      <td>0.000000</td>\n",
       "      <td>11.000000</td>\n",
       "      <td>6.007029e+06</td>\n",
       "      <td>0.000000</td>\n",
       "      <td>0.000000e+00</td>\n",
       "    </tr>\n",
       "    <tr>\n",
       "      <td>50%</td>\n",
       "      <td>-122.330348</td>\n",
       "      <td>47.616106</td>\n",
       "      <td>110169.500000</td>\n",
       "      <td>126657.500000</td>\n",
       "      <td>126657.500000</td>\n",
       "      <td>29973.000000</td>\n",
       "      <td>2.000000</td>\n",
       "      <td>0.000000</td>\n",
       "      <td>0.000000</td>\n",
       "      <td>2.000000</td>\n",
       "      <td>0.000000</td>\n",
       "      <td>0.000000</td>\n",
       "      <td>0.000000</td>\n",
       "      <td>11.000000</td>\n",
       "      <td>8.033011e+06</td>\n",
       "      <td>0.000000</td>\n",
       "      <td>0.000000e+00</td>\n",
       "    </tr>\n",
       "    <tr>\n",
       "      <td>75%</td>\n",
       "      <td>-122.312000</td>\n",
       "      <td>47.664228</td>\n",
       "      <td>165253.750000</td>\n",
       "      <td>208221.750000</td>\n",
       "      <td>208421.750000</td>\n",
       "      <td>33983.000000</td>\n",
       "      <td>3.000000</td>\n",
       "      <td>0.000000</td>\n",
       "      <td>0.000000</td>\n",
       "      <td>2.000000</td>\n",
       "      <td>1.000000</td>\n",
       "      <td>0.000000</td>\n",
       "      <td>0.000000</td>\n",
       "      <td>14.000000</td>\n",
       "      <td>1.018101e+07</td>\n",
       "      <td>0.000000</td>\n",
       "      <td>0.000000e+00</td>\n",
       "    </tr>\n",
       "    <tr>\n",
       "      <td>max</td>\n",
       "      <td>-122.238949</td>\n",
       "      <td>47.734142</td>\n",
       "      <td>220338.000000</td>\n",
       "      <td>332492.000000</td>\n",
       "      <td>333992.000000</td>\n",
       "      <td>757580.000000</td>\n",
       "      <td>93.000000</td>\n",
       "      <td>6.000000</td>\n",
       "      <td>2.000000</td>\n",
       "      <td>15.000000</td>\n",
       "      <td>78.000000</td>\n",
       "      <td>41.000000</td>\n",
       "      <td>5.000000</td>\n",
       "      <td>87.000000</td>\n",
       "      <td>1.307202e+07</td>\n",
       "      <td>525241.000000</td>\n",
       "      <td>5.239700e+06</td>\n",
       "    </tr>\n",
       "  </tbody>\n",
       "</table>\n",
       "</div>"
      ],
      "text/plain": [
       "                   X              Y       OBJECTID         INCKEY  \\\n",
       "count  212878.000000  212878.000000  220338.000000  220338.000000   \n",
       "mean     -122.330752      47.620234  110169.500000  143809.710463   \n",
       "std         0.030042       0.056006   63606.246144   88381.117503   \n",
       "min      -122.419091      47.495573       1.000000    1001.000000   \n",
       "25%      -122.349280      47.577331   55085.250000   71371.250000   \n",
       "50%      -122.330348      47.616106  110169.500000  126657.500000   \n",
       "75%      -122.312000      47.664228  165253.750000  208221.750000   \n",
       "max      -122.238949      47.734142  220338.000000  332492.000000   \n",
       "\n",
       "           COLDETKEY         INTKEY    PERSONCOUNT       PEDCOUNT  \\\n",
       "count  220338.000000   71472.000000  220338.000000  220338.000000   \n",
       "mean   144031.876830   37601.430980       2.227119       0.038155   \n",
       "std     88747.658541   51864.925192       1.471631       0.201883   \n",
       "min      1001.000000   23807.000000       0.000000       0.000000   \n",
       "25%     71371.250000   28652.000000       2.000000       0.000000   \n",
       "50%    126657.500000   29973.000000       2.000000       0.000000   \n",
       "75%    208421.750000   33983.000000       3.000000       0.000000   \n",
       "max    333992.000000  757580.000000      93.000000       6.000000   \n",
       "\n",
       "         PEDCYLCOUNT       VEHCOUNT       INJURIES  SERIOUSINJURIES  \\\n",
       "count  220338.000000  220338.000000  220338.000000    220338.000000   \n",
       "mean        0.027294       1.730614       0.373839         0.015168   \n",
       "std         0.164355       0.829109       0.732377         0.158098   \n",
       "min         0.000000       0.000000       0.000000         0.000000   \n",
       "25%         0.000000       2.000000       0.000000         0.000000   \n",
       "50%         0.000000       2.000000       0.000000         0.000000   \n",
       "75%         0.000000       2.000000       1.000000         0.000000   \n",
       "max         2.000000      15.000000      78.000000        41.000000   \n",
       "\n",
       "          FATALITIES   SDOT_COLCODE    SDOTCOLNUM     SEGLANEKEY  CROSSWALKKEY  \n",
       "count  220338.000000  220337.000000  1.272050e+05  220338.000000  2.203380e+05  \n",
       "mean        0.001675      13.382124  7.971063e+06     262.542689  9.621717e+03  \n",
       "std         0.044503       7.306179  2.611523e+06    3255.640460  7.162528e+04  \n",
       "min         0.000000       0.000000  1.007024e+06       0.000000  0.000000e+00  \n",
       "25%         0.000000      11.000000  6.007029e+06       0.000000  0.000000e+00  \n",
       "50%         0.000000      11.000000  8.033011e+06       0.000000  0.000000e+00  \n",
       "75%         0.000000      14.000000  1.018101e+07       0.000000  0.000000e+00  \n",
       "max         5.000000      87.000000  1.307202e+07  525241.000000  5.239700e+06  "
      ]
     },
     "execution_count": 15,
     "metadata": {},
     "output_type": "execute_result"
    }
   ],
   "source": [
    "collisions_df.describe()"
   ]
  },
  {
   "cell_type": "markdown",
   "metadata": {},
   "source": [
    "#### Missing Values in Data"
   ]
  },
  {
   "cell_type": "code",
   "execution_count": 16,
   "metadata": {},
   "outputs": [
    {
     "data": {
      "image/png": "[encoded data removed]",
      "text/plain": [
       "<Figure size 432x288 with 1 Axes>"
      ]
     },
     "metadata": {
      "needs_background": "light"
     },
     "output_type": "display_data"
    }
   ],
   "source": [
    "# Clean up and set index to datetime\n",
    "collisions_df = (\n",
    "    collisions_df.set_index('Datetime')\n",
    "    .sort_index()\n",
    "    .drop(columns=['EXCEPTRSNDESC', 'EXCEPTRSNCODE', 'REPORTNO', 'STATUS'])\n",
    ")\n",
    "\n",
    "# Plot missing values\n",
    "pct_null = (collisions_df.isna().sum()/collisions_df.shape[0]).plot(kind='bar', \n",
    "                                                              title=\"Percent Values Missing\")"
   ]
  },
  {
   "cell_type": "markdown",
   "metadata": {},
   "source": [
    "#### Description of accidents that supossedly have zero people and zero vehicles\n",
    "\n",
    "We will have to backfill some information based on the collision description. There are > 19,000 collisions that claim to have zero people and zero vehicles involved."
   ]
  },
  {
   "cell_type": "code",
   "execution_count": 17,
   "metadata": {},
   "outputs": [
    {
     "name": "stdout",
     "output_type": "stream",
     "text": [
      "Fraction of collisions that have zero people and zero vehicles: 0.0878\n",
      "\n",
      "Descriptions of these events:\n"
     ]
    },
    {
     "data": {
      "text/plain": [
       "NOT ENOUGH INFORMATION / NOT APPLICABLE                         8060\n",
       "MOTOR VEHICLE STRUCK MOTOR VEHICLE, FRONT END AT ANGLE          4764\n",
       "MOTOR VEHICLE STRUCK MOTOR VEHICLE, REAR END                    3963\n",
       "MOTOR VEHICLE STRUCK MOTOR VEHICLE, LEFT SIDE SIDESWIPE          894\n",
       "MOTOR VEHICLE STRUCK MOTOR VEHICLE, LEFT SIDE AT ANGLE           529\n",
       "MOTOR VEHICLE RAN OFF ROAD - HIT FIXED OBJECT                    306\n",
       "MOTOR VEHICLE STRUCK MOTOR VEHICLE, RIGHT SIDE SIDESWIPE         184\n",
       "MOTOR VEHICLE STRUCK MOTOR VEHICLE, RIGHT SIDE AT ANGLE          168\n",
       "MOTOR VEHCILE STRUCK PEDESTRIAN                                  159\n",
       "MOTOR VEHICLE STRUCK OBJECT IN ROAD                              148\n",
       "MOTOR VEHICLE STRUCK PEDALCYCLIST, FRONT END AT ANGLE             68\n",
       "PEDALCYCLIST STRUCK MOTOR VEHICLE FRONT END AT ANGLE              24\n",
       "MOTOR VEHICLE OVERTURNED IN ROAD                                  22\n",
       "DRIVERLESS VEHICLE RAN OFF ROAD - HIT FIXED OBJECT                10\n",
       "PEDALCYCLIST STRUCK MOTOR VEHICLE LEFT SIDE SIDESWIPE              7\n",
       "DRIVERLESS VEHICLE STRUCK MOTOR VEHICLE REAR END                   7\n",
       "PEDALCYCLIST OVERTURNED IN ROAD                                    6\n",
       "DRIVERLESS VEHICLE STRUCK MOTOR VEHICLE FRONT END AT ANGLE         5\n",
       "PEDALCYCLIST STRUCK PEDESTRIAN                                     5\n",
       "DRIVERLESS VEHICLE STRUCK MOTOR VEHICLE LEFT SIDE AT ANGLE         3\n",
       "MOTOR VEHICLE STRUCK PEDALCYCLIST, REAR END                        3\n",
       "MOTOR VEHICLE STRUCK TRAIN                                         3\n",
       "PEDALCYCLIST STRUCK OBJECT IN ROAD                                 3\n",
       "PEDALCYCLIST STRUCK MOTOR VEHICLE REAR END                         2\n",
       "PEDALCYCLIST STRUCK MOTOR VEHICLE RIGHT SIDE SIDESWIPE             2\n",
       "MOTOR VEHICLE STRUCK PEDALCYCLIST, LEFT SIDE SIDESWIPE             1\n",
       "DRIVERLESS VEHICLE STRUCK MOTOR VEHICLE RIGHT SIDE AT ANGLE        1\n",
       "PEDALCYCLIST RAN OFF ROAD - HIT FIXED OBJECT                       1\n",
       "MOTOR VEHICLE STRUCK PEDALCYCLIST, RIGHT SIDE SIDESWIPE            1\n",
       "MOTOR VEHICLE RAN OFF ROAD - NO COLLISION                          1\n",
       "DRIVERLESS VEHICLE STRUCK OBJECT IN ROADWAY                        1\n",
       "Name: SDOT_COLDESC, dtype: int64"
      ]
     },
     "execution_count": 17,
     "metadata": {},
     "output_type": "execute_result"
    }
   ],
   "source": [
    "# How many of these involve ZERO people (ie, terrible book-keeping)\n",
    "no_people = collisions_df.loc[(collisions_df['PEDCOUNT'] == 0) & \n",
    "           (collisions_df['PEDCYLCOUNT'] == 0) & \n",
    "           (collisions_df['PERSONCOUNT'] == 0) & \n",
    "            (collisions_df['VEHCOUNT'] == 0)]\n",
    "\n",
    "no_people_frac = no_people.shape[0]/collisions_df.shape[0]\n",
    "print('Fraction of collisions that have zero people and zero vehicles: {:0.4f}\\n'.format(no_people_frac))\n",
    "print('Descriptions of these events:')\n",
    "# Show descriptions\n",
    "no_people['SDOT_COLDESC'].value_counts()"
   ]
  },
  {
   "cell_type": "markdown",
   "metadata": {},
   "source": [
    "#### Most Dangerous Intersections\n",
    "\n",
    "We wanted to look at the most dangerous intersections for cyclists and pedestrians. So we started by looking at the most dangerous intersections overall. <b>Note that the intersection key is missing in over 60% of the data! </b>\n",
    "\n",
    "Most intersections had only 1 collision, but some of them had > 100"
   ]
  },
  {
   "cell_type": "code",
   "execution_count": 4,
   "metadata": {},
   "outputs": [
    {
     "data": {
      "image/png": "[encoded data removed]",
      "text/plain": [
       "<Figure size 864x288 with 2 Axes>"
      ]
     },
     "metadata": {
      "needs_background": "light"
     },
     "output_type": "display_data"
    }
   ],
   "source": [
    "## Look at collision count at specific intersections\n",
    "n_coll_intersect = collisions_df.groupby(by='INTKEY').count().sort_values(by='OBJECTID', ascending=False)\n",
    "\n",
    "fig, axes = plt.subplots(1, 2, figsize=(12,4))\n",
    "ax = axes[0]\n",
    "ax.hist(n_coll_intersect['OBJECTID'], bins=50)\n",
    "ax.set_xlim(0,50)\n",
    "ax.set_xlabel('Number of Collisions')\n",
    "ax.set_ylabel('Intersection Count')\n",
    "ax.set_title(\"Number of Intersections with High Collisions\");\n",
    "\n",
    "ax = axes[1]\n",
    "ax.hist(n_coll_intersect['OBJECTID'], bins=10, log=True)\n",
    "ax.set_xlabel('Number of Collisions')\n",
    "ax.set_ylabel('Intersection Count (Log Scale)')\n",
    "ax.set_title(\"Number of Intersections with High Collisions\");"
   ]
  },
  {
   "cell_type": "code",
   "execution_count": 6,
   "metadata": {},
   "outputs": [
    {
     "data": {
      "image/png": "[encoded data removed]",
      "text/plain": [
       "<Figure size 432x288 with 1 Axes>"
      ]
     },
     "metadata": {
      "needs_background": "light"
     },
     "output_type": "display_data"
    }
   ],
   "source": [
    "# Find 20 most dangerous intersections\n",
    "intersections = collisions_df.copy().set_index('INTKEY')\n",
    "top_20 = list(n_coll_intersect.index[:20])\n",
    "title = 'Most Dangerous Intersections: Number of Collisions'\n",
    "\n",
    "intersections['LOCATION'].loc[top_20].value_counts()[::-1].plot(kind='barh', \n",
    "                                                                title=title)\n",
    "ax.set_xlabel('Collision Count');"
   ]
  },
  {
   "cell_type": "markdown",
   "metadata": {},
   "source": [
    "#### Collisions that included pedestrians or cyclists (or both)"
   ]
  },
  {
   "cell_type": "code",
   "execution_count": 7,
   "metadata": {},
   "outputs": [
    {
     "data": {
      "text/html": [
       "<div>\n",
       "<style scoped>\n",
       "    .dataframe tbody tr th:only-of-type {\n",
       "        vertical-align: middle;\n",
       "    }\n",
       "\n",
       "    .dataframe tbody tr th {\n",
       "        vertical-align: top;\n",
       "    }\n",
       "\n",
       "    .dataframe thead th {\n",
       "        text-align: right;\n",
       "    }\n",
       "</style>\n",
       "<table border=\"1\" class=\"dataframe\">\n",
       "  <thead>\n",
       "    <tr style=\"text-align: right;\">\n",
       "      <th></th>\n",
       "      <th>Fraction w/cyclist</th>\n",
       "      <th>Fraction w/ped</th>\n",
       "      <th>Fraction w/no cars</th>\n",
       "    </tr>\n",
       "  </thead>\n",
       "  <tbody>\n",
       "    <tr>\n",
       "      <td>0</td>\n",
       "      <td>0.027063</td>\n",
       "      <td>0.036476</td>\n",
       "      <td>0.001103</td>\n",
       "    </tr>\n",
       "  </tbody>\n",
       "</table>\n",
       "</div>"
      ],
      "text/plain": [
       "   Fraction w/cyclist  Fraction w/ped  Fraction w/no cars\n",
       "0            0.027063        0.036476            0.001103"
      ]
     },
     "execution_count": 7,
     "metadata": {},
     "output_type": "execute_result"
    }
   ],
   "source": [
    "# Break down by pedestrian or cyclist involvement\n",
    "pedcycle_count = collisions_df.groupby(by='PEDCYLCOUNT').count()['OBJECTID']\n",
    "ped_count = collisions_df.groupby(by='PEDCOUNT').count()['OBJECTID']\n",
    "\n",
    "# Get fraction of collisions that included cyclists/pedestrians/no cars\n",
    "cycle_fraction = pedcycle_count.loc[1:].sum()/pedcycle_count.sum()\n",
    "\n",
    "# Get fraction of collisions that included pedestrians\n",
    "ped_fraction = ped_count.loc[1:].sum()/ped_count.sum()\n",
    "\n",
    "# Are there accidents with no cars involved?\n",
    "no_cars = collisions_df.loc[((collisions_df['PEDCOUNT'] != 0) | \\\n",
    "           (collisions_df['PEDCYLCOUNT'] != 0)) & \\\n",
    "            (collisions_df['VEHCOUNT'] == 0)]\n",
    "\n",
    "#veh_count = collisions.groupby(by='VEHCOUNT').count()['OBJECTID']\n",
    "no_car_fraction = no_cars.shape[0]/collisions_df.shape[0]\n",
    "\n",
    "# # Put these into own dataframe\n",
    "pd.DataFrame({'Fraction w/cyclist': cycle_fraction, \n",
    "              'Fraction w/ped': ped_fraction,\n",
    "             'Fraction w/no cars': no_car_fraction}, index=range(1))"
   ]
  },
  {
   "cell_type": "markdown",
   "metadata": {},
   "source": [
    "# Exploring Additional Data\n",
    "\n",
    "### Possible additional datasets:\n",
    "\n",
    "- Current Land Use Zoning Detail: https://data.seattle.gov/Land-Base/Current-Land-Use-Zoning-Detail/9nvb-wk9b\n",
    "- Bike Rack Locations (Contains lat&long): https://data.seattle.gov/Land-Base/Bike-Racks/pbej-cxb2\n",
    "- Marked Crosswalks (Contains lat&long, including at signal or stop sign): https://data.seattle.gov/Land-Base/Marked-Crosswalks/dx75-5pzj\n",
    "- Radar Speed Signs (Contains lat&long): https://data.seattle.gov/Land-Base/Radar-Speed-Signs/siht-4gsh\n",
    "\n",
    "Bike rack locations, marked crosswalks and radar speed signs are datasets containing latitude and longitudes for those objects. We can attempt to calculate the distance of collisions to the these features. It can potentially be added as features to predicting if an intersection has a higher risk of collisions depending on its proximity to certain features."
   ]
  },
  {
   "cell_type": "code",
   "execution_count": 22,
   "metadata": {},
   "outputs": [],
   "source": [
    "# Mapping tool\n",
    "import folium\n",
    "from geopy.geocoders import Nominatim"
   ]
  },
  {
   "cell_type": "markdown",
   "metadata": {},
   "source": [
    "### Bike Racks\n",
    "\n",
    "Our current assumption is that areas with bike racks would generating more cyclist traffic going to and from the racks."
   ]
  },
  {
   "cell_type": "code",
   "execution_count": 2,
   "metadata": {},
   "outputs": [
    {
     "data": {
      "text/html": [
       "<div>\n",
       "<style scoped>\n",
       "    .dataframe tbody tr th:only-of-type {\n",
       "        vertical-align: middle;\n",
       "    }\n",
       "\n",
       "    .dataframe tbody tr th {\n",
       "        vertical-align: top;\n",
       "    }\n",
       "\n",
       "    .dataframe thead th {\n",
       "        text-align: right;\n",
       "    }\n",
       "</style>\n",
       "<table border=\"1\" class=\"dataframe\">\n",
       "  <thead>\n",
       "    <tr style=\"text-align: right;\">\n",
       "      <th></th>\n",
       "      <th>X</th>\n",
       "      <th>Y</th>\n",
       "      <th>OBJECTID</th>\n",
       "      <th>COMPKEY</th>\n",
       "      <th>COMPTYPE</th>\n",
       "      <th>SEGKEY</th>\n",
       "      <th>DISTANCE</th>\n",
       "      <th>WIDTH</th>\n",
       "      <th>UNITID</th>\n",
       "      <th>UNITTYPE</th>\n",
       "      <th>UNITDESC</th>\n",
       "      <th>BIKE_FACILITY</th>\n",
       "      <th>RACK_CAPACITY</th>\n",
       "      <th>DELINEATOR_POSTS</th>\n",
       "      <th>FINISH_TYPE</th>\n",
       "      <th>SURFACE_TYPE</th>\n",
       "      <th>INSTALL_DATE</th>\n",
       "      <th>MOUNT_TYPE</th>\n",
       "      <th>COLOR</th>\n",
       "      <th>MANUFACTURER</th>\n",
       "      <th>MODEL_TYPE</th>\n",
       "      <th>CONDITION</th>\n",
       "      <th>CONDITION_ASSESSMENT_DATE</th>\n",
       "      <th>SIDE</th>\n",
       "      <th>OWNERSHIP</th>\n",
       "      <th>CURRENT_STATUS</th>\n",
       "      <th>PRIMARYDISTRICTCD</th>\n",
       "      <th>SECONDARYDISTRICTCD</th>\n",
       "      <th>OVERRIDEYN</th>\n",
       "      <th>OVERRIDECOMMENT</th>\n",
       "      <th>SHAPE_LNG</th>\n",
       "      <th>SHAPE_LAT</th>\n",
       "    </tr>\n",
       "  </thead>\n",
       "  <tbody>\n",
       "    <tr>\n",
       "      <th>0</th>\n",
       "      <td>1.257066e+06</td>\n",
       "      <td>247817.450418</td>\n",
       "      <td>1</td>\n",
       "      <td>639535</td>\n",
       "      <td>16</td>\n",
       "      <td>19236</td>\n",
       "      <td>427.0</td>\n",
       "      <td>-31.0</td>\n",
       "      <td>BKR-3650</td>\n",
       "      <td>BKR</td>\n",
       "      <td>NW MARKET ST 0240 BLOCK N SIDE ( 402) 402 FT W...</td>\n",
       "      <td>SGL</td>\n",
       "      <td>2</td>\n",
       "      <td>N</td>\n",
       "      <td>GALV</td>\n",
       "      <td>PCC</td>\n",
       "      <td>2016/02/29 00:00:00+00</td>\n",
       "      <td></td>\n",
       "      <td></td>\n",
       "      <td></td>\n",
       "      <td></td>\n",
       "      <td>GOOD</td>\n",
       "      <td>NaN</td>\n",
       "      <td>N</td>\n",
       "      <td>SDOT</td>\n",
       "      <td>INSVC</td>\n",
       "      <td>DISTRICT6</td>\n",
       "      <td></td>\n",
       "      <td>N</td>\n",
       "      <td>NaN</td>\n",
       "      <td>-122.389310</td>\n",
       "      <td>47.668757</td>\n",
       "    </tr>\n",
       "    <tr>\n",
       "      <th>1</th>\n",
       "      <td>1.278455e+06</td>\n",
       "      <td>227063.233437</td>\n",
       "      <td>2</td>\n",
       "      <td>591433</td>\n",
       "      <td>16</td>\n",
       "      <td>14902</td>\n",
       "      <td>125.0</td>\n",
       "      <td>29.0</td>\n",
       "      <td>BKR-3190</td>\n",
       "      <td>BKR</td>\n",
       "      <td>E UNION ST 0240 BLOCK N SIDE ( 112) 112 FT E/O...</td>\n",
       "      <td>CLSTR</td>\n",
       "      <td>6</td>\n",
       "      <td>N</td>\n",
       "      <td>GALV</td>\n",
       "      <td>PCC</td>\n",
       "      <td>2012/11/30 00:00:00+00</td>\n",
       "      <td>SUFMT</td>\n",
       "      <td></td>\n",
       "      <td>SDOT</td>\n",
       "      <td>BKR-RLRCK</td>\n",
       "      <td>GOOD</td>\n",
       "      <td>2012/10/20 00:00:00+00</td>\n",
       "      <td>N</td>\n",
       "      <td>SDOT</td>\n",
       "      <td>PLANNED</td>\n",
       "      <td>DISTRICT3</td>\n",
       "      <td></td>\n",
       "      <td>N</td>\n",
       "      <td>NaN</td>\n",
       "      <td>-122.300910</td>\n",
       "      <td>47.613022</td>\n",
       "    </tr>\n",
       "    <tr>\n",
       "      <th>2</th>\n",
       "      <td>1.275207e+06</td>\n",
       "      <td>250005.982260</td>\n",
       "      <td>3</td>\n",
       "      <td>518834</td>\n",
       "      <td>16</td>\n",
       "      <td>17262</td>\n",
       "      <td>370.0</td>\n",
       "      <td>-29.0</td>\n",
       "      <td>BKR-520</td>\n",
       "      <td>BKR</td>\n",
       "      <td>NE 65TH ST 0100 BLOCK S SIDE ( 355) 39 FT W/O ...</td>\n",
       "      <td>SGL</td>\n",
       "      <td>2</td>\n",
       "      <td>N</td>\n",
       "      <td>GALV</td>\n",
       "      <td>PCC</td>\n",
       "      <td>2000/11/12 00:00:00+00</td>\n",
       "      <td>SUFMT</td>\n",
       "      <td>NONE</td>\n",
       "      <td>BKR-CRMTL</td>\n",
       "      <td>BKR-RLRCK</td>\n",
       "      <td>GOOD</td>\n",
       "      <td>2009/07/30 00:00:00+00</td>\n",
       "      <td>S</td>\n",
       "      <td>SDOT</td>\n",
       "      <td>INSVC</td>\n",
       "      <td>DISTRICT4</td>\n",
       "      <td></td>\n",
       "      <td>N</td>\n",
       "      <td>NaN</td>\n",
       "      <td>-122.315866</td>\n",
       "      <td>47.675737</td>\n",
       "    </tr>\n",
       "    <tr>\n",
       "      <th>3</th>\n",
       "      <td>1.271784e+06</td>\n",
       "      <td>228002.570526</td>\n",
       "      <td>4</td>\n",
       "      <td>519092</td>\n",
       "      <td>16</td>\n",
       "      <td>12225</td>\n",
       "      <td>206.0</td>\n",
       "      <td>17.0</td>\n",
       "      <td>BKR-422</td>\n",
       "      <td>BKR</td>\n",
       "      <td>PINE ST 0120 BLOCK NW SIDE ( 193) 11 FT SW/O M...</td>\n",
       "      <td>SGL</td>\n",
       "      <td>2</td>\n",
       "      <td>N</td>\n",
       "      <td>GALV</td>\n",
       "      <td>PCC</td>\n",
       "      <td>2005/05/18 00:00:00+00</td>\n",
       "      <td>SUFMT</td>\n",
       "      <td>NONE</td>\n",
       "      <td>BKR-CRMTL</td>\n",
       "      <td>BKR-RLRCK</td>\n",
       "      <td>GOOD</td>\n",
       "      <td>NaN</td>\n",
       "      <td>NW</td>\n",
       "      <td>SDOT</td>\n",
       "      <td>INSVC</td>\n",
       "      <td>DISTRICT3</td>\n",
       "      <td></td>\n",
       "      <td>N</td>\n",
       "      <td>NaN</td>\n",
       "      <td>-122.328026</td>\n",
       "      <td>47.615245</td>\n",
       "    </tr>\n",
       "    <tr>\n",
       "      <th>4</th>\n",
       "      <td>1.263540e+06</td>\n",
       "      <td>253266.784759</td>\n",
       "      <td>5</td>\n",
       "      <td>517282</td>\n",
       "      <td>16</td>\n",
       "      <td>18846</td>\n",
       "      <td>37.0</td>\n",
       "      <td>-17.0</td>\n",
       "      <td>BKR-2280</td>\n",
       "      <td>BKR</td>\n",
       "      <td>NW 76TH ST 0060 BLOCK N SIDE (  24) 24 FT W/O ...</td>\n",
       "      <td>SGL</td>\n",
       "      <td>4</td>\n",
       "      <td>N</td>\n",
       "      <td>PAINT</td>\n",
       "      <td>PCC</td>\n",
       "      <td>NaN</td>\n",
       "      <td>SUFMT</td>\n",
       "      <td>BLK</td>\n",
       "      <td>BKR-CORA</td>\n",
       "      <td>BKR-W2704</td>\n",
       "      <td>GOOD</td>\n",
       "      <td>2009/07/31 00:00:00+00</td>\n",
       "      <td>N</td>\n",
       "      <td>SDOT</td>\n",
       "      <td>INSVC</td>\n",
       "      <td>DISTRICT6</td>\n",
       "      <td></td>\n",
       "      <td>N</td>\n",
       "      <td>NaN</td>\n",
       "      <td>-122.363480</td>\n",
       "      <td>47.684049</td>\n",
       "    </tr>\n",
       "  </tbody>\n",
       "</table>\n",
       "</div>"
      ],
      "text/plain": [
       "              X              Y  OBJECTID  COMPKEY  COMPTYPE  SEGKEY  DISTANCE  \\\n",
       "0  1.257066e+06  247817.450418         1   639535        16   19236     427.0   \n",
       "1  1.278455e+06  227063.233437         2   591433        16   14902     125.0   \n",
       "2  1.275207e+06  250005.982260         3   518834        16   17262     370.0   \n",
       "3  1.271784e+06  228002.570526         4   519092        16   12225     206.0   \n",
       "4  1.263540e+06  253266.784759         5   517282        16   18846      37.0   \n",
       "\n",
       "   WIDTH    UNITID UNITTYPE  \\\n",
       "0  -31.0  BKR-3650      BKR   \n",
       "1   29.0  BKR-3190      BKR   \n",
       "2  -29.0   BKR-520      BKR   \n",
       "3   17.0   BKR-422      BKR   \n",
       "4  -17.0  BKR-2280      BKR   \n",
       "\n",
       "                                            UNITDESC BIKE_FACILITY  \\\n",
       "0  NW MARKET ST 0240 BLOCK N SIDE ( 402) 402 FT W...           SGL   \n",
       "1  E UNION ST 0240 BLOCK N SIDE ( 112) 112 FT E/O...         CLSTR   \n",
       "2  NE 65TH ST 0100 BLOCK S SIDE ( 355) 39 FT W/O ...           SGL   \n",
       "3  PINE ST 0120 BLOCK NW SIDE ( 193) 11 FT SW/O M...           SGL   \n",
       "4  NW 76TH ST 0060 BLOCK N SIDE (  24) 24 FT W/O ...           SGL   \n",
       "\n",
       "   RACK_CAPACITY DELINEATOR_POSTS FINISH_TYPE SURFACE_TYPE  \\\n",
       "0              2                N        GALV          PCC   \n",
       "1              6                N        GALV          PCC   \n",
       "2              2                N        GALV          PCC   \n",
       "3              2                N        GALV          PCC   \n",
       "4              4                N       PAINT          PCC   \n",
       "\n",
       "             INSTALL_DATE MOUNT_TYPE COLOR MANUFACTURER MODEL_TYPE CONDITION  \\\n",
       "0  2016/02/29 00:00:00+00                                               GOOD   \n",
       "1  2012/11/30 00:00:00+00      SUFMT               SDOT  BKR-RLRCK      GOOD   \n",
       "2  2000/11/12 00:00:00+00      SUFMT  NONE    BKR-CRMTL  BKR-RLRCK      GOOD   \n",
       "3  2005/05/18 00:00:00+00      SUFMT  NONE    BKR-CRMTL  BKR-RLRCK      GOOD   \n",
       "4                     NaN      SUFMT   BLK     BKR-CORA  BKR-W2704      GOOD   \n",
       "\n",
       "  CONDITION_ASSESSMENT_DATE SIDE OWNERSHIP CURRENT_STATUS PRIMARYDISTRICTCD  \\\n",
       "0                       NaN    N      SDOT          INSVC         DISTRICT6   \n",
       "1    2012/10/20 00:00:00+00    N      SDOT        PLANNED         DISTRICT3   \n",
       "2    2009/07/30 00:00:00+00    S      SDOT          INSVC         DISTRICT4   \n",
       "3                       NaN   NW      SDOT          INSVC         DISTRICT3   \n",
       "4    2009/07/31 00:00:00+00    N      SDOT          INSVC         DISTRICT6   \n",
       "\n",
       "  SECONDARYDISTRICTCD OVERRIDEYN  OVERRIDECOMMENT   SHAPE_LNG  SHAPE_LAT  \n",
       "0                              N              NaN -122.389310  47.668757  \n",
       "1                              N              NaN -122.300910  47.613022  \n",
       "2                              N              NaN -122.315866  47.675737  \n",
       "3                              N              NaN -122.328026  47.615245  \n",
       "4                              N              NaN -122.363480  47.684049  "
      ]
     },
     "execution_count": 2,
     "metadata": {},
     "output_type": "execute_result"
    }
   ],
   "source": [
    "bikeracks = pd.read_csv('../data/Bike_Racks.csv')\n",
    "bikeracks.head()"
   ]
  },
  {
   "cell_type": "code",
   "execution_count": 3,
   "metadata": {},
   "outputs": [
    {
     "name": "stdout",
     "output_type": "stream",
     "text": [
      "<class 'pandas.core.frame.DataFrame'>\n",
      "RangeIndex: 3953 entries, 0 to 3952\n",
      "Data columns (total 32 columns):\n",
      " #   Column                     Non-Null Count  Dtype  \n",
      "---  ------                     --------------  -----  \n",
      " 0   X                          3940 non-null   float64\n",
      " 1   Y                          3940 non-null   float64\n",
      " 2   OBJECTID                   3953 non-null   int64  \n",
      " 3   COMPKEY                    3953 non-null   int64  \n",
      " 4   COMPTYPE                   3953 non-null   int64  \n",
      " 5   SEGKEY                     3953 non-null   int64  \n",
      " 6   DISTANCE                   3953 non-null   float64\n",
      " 7   WIDTH                      3946 non-null   float64\n",
      " 8   UNITID                     3953 non-null   object \n",
      " 9   UNITTYPE                   3953 non-null   object \n",
      " 10  UNITDESC                   3953 non-null   object \n",
      " 11  BIKE_FACILITY              3953 non-null   object \n",
      " 12  RACK_CAPACITY              3953 non-null   int64  \n",
      " 13  DELINEATOR_POSTS           3953 non-null   object \n",
      " 14  FINISH_TYPE                3953 non-null   object \n",
      " 15  SURFACE_TYPE               3953 non-null   object \n",
      " 16  INSTALL_DATE               2068 non-null   object \n",
      " 17  MOUNT_TYPE                 3953 non-null   object \n",
      " 18  COLOR                      3953 non-null   object \n",
      " 19  MANUFACTURER               3953 non-null   object \n",
      " 20  MODEL_TYPE                 3953 non-null   object \n",
      " 21  CONDITION                  3953 non-null   object \n",
      " 22  CONDITION_ASSESSMENT_DATE  3034 non-null   object \n",
      " 23  SIDE                       3953 non-null   object \n",
      " 24  OWNERSHIP                  3953 non-null   object \n",
      " 25  CURRENT_STATUS             3953 non-null   object \n",
      " 26  PRIMARYDISTRICTCD          3953 non-null   object \n",
      " 27  SECONDARYDISTRICTCD        3953 non-null   object \n",
      " 28  OVERRIDEYN                 3953 non-null   object \n",
      " 29  OVERRIDECOMMENT            0 non-null      float64\n",
      " 30  SHAPE_LNG                  3953 non-null   float64\n",
      " 31  SHAPE_LAT                  3953 non-null   float64\n",
      "dtypes: float64(7), int64(5), object(20)\n",
      "memory usage: 988.4+ KB\n"
     ]
    }
   ],
   "source": [
    "bikeracks.info()"
   ]
  },
  {
   "cell_type": "code",
   "execution_count": 4,
   "metadata": {},
   "outputs": [
    {
     "data": {
      "text/html": [
       "<div>\n",
       "<style scoped>\n",
       "    .dataframe tbody tr th:only-of-type {\n",
       "        vertical-align: middle;\n",
       "    }\n",
       "\n",
       "    .dataframe tbody tr th {\n",
       "        vertical-align: top;\n",
       "    }\n",
       "\n",
       "    .dataframe thead th {\n",
       "        text-align: right;\n",
       "    }\n",
       "</style>\n",
       "<table border=\"1\" class=\"dataframe\">\n",
       "  <thead>\n",
       "    <tr style=\"text-align: right;\">\n",
       "      <th></th>\n",
       "      <th>X</th>\n",
       "      <th>Y</th>\n",
       "      <th>OBJECTID</th>\n",
       "      <th>COMPKEY</th>\n",
       "      <th>COMPTYPE</th>\n",
       "      <th>SEGKEY</th>\n",
       "      <th>DISTANCE</th>\n",
       "      <th>WIDTH</th>\n",
       "      <th>RACK_CAPACITY</th>\n",
       "      <th>OVERRIDECOMMENT</th>\n",
       "      <th>SHAPE_LNG</th>\n",
       "      <th>SHAPE_LAT</th>\n",
       "    </tr>\n",
       "  </thead>\n",
       "  <tbody>\n",
       "    <tr>\n",
       "      <th>count</th>\n",
       "      <td>3.940000e+03</td>\n",
       "      <td>3940.000000</td>\n",
       "      <td>3953.000000</td>\n",
       "      <td>3953.000000</td>\n",
       "      <td>3953.0</td>\n",
       "      <td>3953.000000</td>\n",
       "      <td>3953.000000</td>\n",
       "      <td>3946.000000</td>\n",
       "      <td>3953.000000</td>\n",
       "      <td>0.0</td>\n",
       "      <td>3953.000000</td>\n",
       "      <td>3953.000000</td>\n",
       "    </tr>\n",
       "    <tr>\n",
       "      <th>mean</th>\n",
       "      <td>1.269985e+06</td>\n",
       "      <td>231892.313295</td>\n",
       "      <td>1977.000000</td>\n",
       "      <td>566358.186441</td>\n",
       "      <td>16.0</td>\n",
       "      <td>17366.003036</td>\n",
       "      <td>237.913503</td>\n",
       "      <td>-0.579321</td>\n",
       "      <td>2.893752</td>\n",
       "      <td>NaN</td>\n",
       "      <td>-122.352250</td>\n",
       "      <td>47.623118</td>\n",
       "    </tr>\n",
       "    <tr>\n",
       "      <th>std</th>\n",
       "      <td>7.146816e+03</td>\n",
       "      <td>15411.690509</td>\n",
       "      <td>1141.277135</td>\n",
       "      <td>73356.327275</td>\n",
       "      <td>0.0</td>\n",
       "      <td>50982.801620</td>\n",
       "      <td>514.411184</td>\n",
       "      <td>27.659317</td>\n",
       "      <td>2.548883</td>\n",
       "      <td>NaN</td>\n",
       "      <td>0.290897</td>\n",
       "      <td>0.063000</td>\n",
       "    </tr>\n",
       "    <tr>\n",
       "      <th>min</th>\n",
       "      <td>1.249223e+06</td>\n",
       "      <td>185196.853746</td>\n",
       "      <td>1.000000</td>\n",
       "      <td>507180.000000</td>\n",
       "      <td>16.0</td>\n",
       "      <td>1001.000000</td>\n",
       "      <td>-271.000000</td>\n",
       "      <td>-61.000000</td>\n",
       "      <td>0.000000</td>\n",
       "      <td>NaN</td>\n",
       "      <td>-127.390658</td>\n",
       "      <td>46.808300</td>\n",
       "    </tr>\n",
       "    <tr>\n",
       "      <th>25%</th>\n",
       "      <td>1.266078e+06</td>\n",
       "      <td>224258.963786</td>\n",
       "      <td>989.000000</td>\n",
       "      <td>517722.000000</td>\n",
       "      <td>16.0</td>\n",
       "      <td>7246.000000</td>\n",
       "      <td>80.000000</td>\n",
       "      <td>-27.000000</td>\n",
       "      <td>2.000000</td>\n",
       "      <td>NaN</td>\n",
       "      <td>-122.352364</td>\n",
       "      <td>47.604526</td>\n",
       "    </tr>\n",
       "    <tr>\n",
       "      <th>50%</th>\n",
       "      <td>1.270261e+06</td>\n",
       "      <td>229254.574623</td>\n",
       "      <td>1977.000000</td>\n",
       "      <td>518843.000000</td>\n",
       "      <td>16.0</td>\n",
       "      <td>11453.000000</td>\n",
       "      <td>170.000000</td>\n",
       "      <td>-17.000000</td>\n",
       "      <td>2.000000</td>\n",
       "      <td>NaN</td>\n",
       "      <td>-122.334058</td>\n",
       "      <td>47.618663</td>\n",
       "    </tr>\n",
       "    <tr>\n",
       "      <th>75%</th>\n",
       "      <td>1.274628e+06</td>\n",
       "      <td>244876.205375</td>\n",
       "      <td>2965.000000</td>\n",
       "      <td>614504.000000</td>\n",
       "      <td>16.0</td>\n",
       "      <td>14630.000000</td>\n",
       "      <td>276.000000</td>\n",
       "      <td>27.000000</td>\n",
       "      <td>2.000000</td>\n",
       "      <td>NaN</td>\n",
       "      <td>-122.317260</td>\n",
       "      <td>47.661462</td>\n",
       "    </tr>\n",
       "    <tr>\n",
       "      <th>max</th>\n",
       "      <td>1.290757e+06</td>\n",
       "      <td>270742.749257</td>\n",
       "      <td>3953.000000</td>\n",
       "      <td>764154.000000</td>\n",
       "      <td>16.0</td>\n",
       "      <td>701839.000000</td>\n",
       "      <td>8226.602746</td>\n",
       "      <td>64.000000</td>\n",
       "      <td>42.000000</td>\n",
       "      <td>NaN</td>\n",
       "      <td>-122.248262</td>\n",
       "      <td>47.732177</td>\n",
       "    </tr>\n",
       "  </tbody>\n",
       "</table>\n",
       "</div>"
      ],
      "text/plain": [
       "                  X              Y     OBJECTID        COMPKEY  COMPTYPE  \\\n",
       "count  3.940000e+03    3940.000000  3953.000000    3953.000000    3953.0   \n",
       "mean   1.269985e+06  231892.313295  1977.000000  566358.186441      16.0   \n",
       "std    7.146816e+03   15411.690509  1141.277135   73356.327275       0.0   \n",
       "min    1.249223e+06  185196.853746     1.000000  507180.000000      16.0   \n",
       "25%    1.266078e+06  224258.963786   989.000000  517722.000000      16.0   \n",
       "50%    1.270261e+06  229254.574623  1977.000000  518843.000000      16.0   \n",
       "75%    1.274628e+06  244876.205375  2965.000000  614504.000000      16.0   \n",
       "max    1.290757e+06  270742.749257  3953.000000  764154.000000      16.0   \n",
       "\n",
       "              SEGKEY     DISTANCE        WIDTH  RACK_CAPACITY  \\\n",
       "count    3953.000000  3953.000000  3946.000000    3953.000000   \n",
       "mean    17366.003036   237.913503    -0.579321       2.893752   \n",
       "std     50982.801620   514.411184    27.659317       2.548883   \n",
       "min      1001.000000  -271.000000   -61.000000       0.000000   \n",
       "25%      7246.000000    80.000000   -27.000000       2.000000   \n",
       "50%     11453.000000   170.000000   -17.000000       2.000000   \n",
       "75%     14630.000000   276.000000    27.000000       2.000000   \n",
       "max    701839.000000  8226.602746    64.000000      42.000000   \n",
       "\n",
       "       OVERRIDECOMMENT    SHAPE_LNG    SHAPE_LAT  \n",
       "count              0.0  3953.000000  3953.000000  \n",
       "mean               NaN  -122.352250    47.623118  \n",
       "std                NaN     0.290897     0.063000  \n",
       "min                NaN  -127.390658    46.808300  \n",
       "25%                NaN  -122.352364    47.604526  \n",
       "50%                NaN  -122.334058    47.618663  \n",
       "75%                NaN  -122.317260    47.661462  \n",
       "max                NaN  -122.248262    47.732177  "
      ]
     },
     "execution_count": 4,
     "metadata": {},
     "output_type": "execute_result"
    }
   ],
   "source": [
    "bikeracks.describe()"
   ]
  },
  {
   "cell_type": "markdown",
   "metadata": {},
   "source": [
    "Most of these columns won't really be of value except for the location and the size of the bike racks."
   ]
  },
  {
   "cell_type": "code",
   "execution_count": 14,
   "metadata": {},
   "outputs": [
    {
     "data": {
      "image/png": "[encoded data removed]",
      "text/plain": [
       "<Figure size 720x360 with 1 Axes>"
      ]
     },
     "metadata": {
      "needs_background": "light"
     },
     "output_type": "display_data"
    }
   ],
   "source": [
    "fig, ax = plt.subplots(figsize=(10,5))\n",
    "\n",
    "bikeracks['RACK_CAPACITY'].value_counts().plot(kind='bar')\n",
    "ax.set_title('Bike Rack Capacity')\n",
    "ax.set_xlabel('Rack Capacity')\n",
    "ax.set_ylabel('Number of Bike Racks');"
   ]
  },
  {
   "cell_type": "markdown",
   "metadata": {},
   "source": [
    "Majority of the bike racks only hold about 2 bikes. We can check out where the huge bike racks are located."
   ]
  },
  {
   "cell_type": "code",
   "execution_count": 25,
   "metadata": {},
   "outputs": [
    {
     "data": {
      "text/html": [
       "<div>\n",
       "<style scoped>\n",
       "    .dataframe tbody tr th:only-of-type {\n",
       "        vertical-align: middle;\n",
       "    }\n",
       "\n",
       "    .dataframe tbody tr th {\n",
       "        vertical-align: top;\n",
       "    }\n",
       "\n",
       "    .dataframe thead th {\n",
       "        text-align: right;\n",
       "    }\n",
       "</style>\n",
       "<table border=\"1\" class=\"dataframe\">\n",
       "  <thead>\n",
       "    <tr style=\"text-align: right;\">\n",
       "      <th></th>\n",
       "      <th>RACK_CAPACITY</th>\n",
       "      <th>UNITDESC</th>\n",
       "      <th>SHAPE_LNG</th>\n",
       "      <th>SHAPE_LAT</th>\n",
       "    </tr>\n",
       "  </thead>\n",
       "  <tbody>\n",
       "    <tr>\n",
       "      <th>143</th>\n",
       "      <td>42</td>\n",
       "      <td>LINDEN AVE N 0390 BLOCK W SIDE ( 279) 155 FT S...</td>\n",
       "      <td>-122.348644</td>\n",
       "      <td>47.654936</td>\n",
       "    </tr>\n",
       "    <tr>\n",
       "      <th>579</th>\n",
       "      <td>28</td>\n",
       "      <td>NW 81ST ST 0010 BLOCK S SIDE ( 328) 305 FT E/O...</td>\n",
       "      <td>-122.359358</td>\n",
       "      <td>47.687618</td>\n",
       "    </tr>\n",
       "    <tr>\n",
       "      <th>969</th>\n",
       "      <td>16</td>\n",
       "      <td>WEST GREEN LAKE DR N 0730 BLOCK SE SIDE (  20)...</td>\n",
       "      <td>-122.341478</td>\n",
       "      <td>47.682151</td>\n",
       "    </tr>\n",
       "    <tr>\n",
       "      <th>1124</th>\n",
       "      <td>16</td>\n",
       "      <td>50TH AVE NE 0700 BLOCK W SIDE ( 512) 125 FT S/...</td>\n",
       "      <td>-122.274402</td>\n",
       "      <td>47.680837</td>\n",
       "    </tr>\n",
       "    <tr>\n",
       "      <th>1153</th>\n",
       "      <td>16</td>\n",
       "      <td>NW 90TH ST 0235 BLOCK N SIDE (  24) 24 FT W/O ...</td>\n",
       "      <td>-122.386861</td>\n",
       "      <td>47.694192</td>\n",
       "    </tr>\n",
       "    <tr>\n",
       "      <th>1412</th>\n",
       "      <td>18</td>\n",
       "      <td>STEWART ST 0007 BLOCK NW SIDE (  13) 13 FT NE/...</td>\n",
       "      <td>-122.342164</td>\n",
       "      <td>47.609758</td>\n",
       "    </tr>\n",
       "    <tr>\n",
       "      <th>1537</th>\n",
       "      <td>28</td>\n",
       "      <td>13TH AVE NW 0750 BLOCK W SIDE ( 195) 195 FT N/...</td>\n",
       "      <td>-122.372818</td>\n",
       "      <td>47.683790</td>\n",
       "    </tr>\n",
       "    <tr>\n",
       "      <th>1560</th>\n",
       "      <td>30</td>\n",
       "      <td>5TH AVE 0060 BLOCK SW SIDE ( 222) 45 FT SE/O C...</td>\n",
       "      <td>-122.329807</td>\n",
       "      <td>47.604224</td>\n",
       "    </tr>\n",
       "    <tr>\n",
       "      <th>1916</th>\n",
       "      <td>16</td>\n",
       "      <td>17TH AVE W 0300 BLOCK W SIDE ( 275) 55 FT S/O ...</td>\n",
       "      <td>-122.378934</td>\n",
       "      <td>47.648249</td>\n",
       "    </tr>\n",
       "    <tr>\n",
       "      <th>1970</th>\n",
       "      <td>28</td>\n",
       "      <td>NE RAVENNA WB BV 0050 BLOCK NE SIDE ( 235) 235...</td>\n",
       "      <td>-122.322893</td>\n",
       "      <td>47.677109</td>\n",
       "    </tr>\n",
       "    <tr>\n",
       "      <th>2715</th>\n",
       "      <td>24</td>\n",
       "      <td>INTERLAKE AVE N 0436 BLOCK E SIDE (  30) 30 FT...</td>\n",
       "      <td>-122.340611</td>\n",
       "      <td>47.660078</td>\n",
       "    </tr>\n",
       "    <tr>\n",
       "      <th>2910</th>\n",
       "      <td>36</td>\n",
       "      <td>WESTERN AVE 0230 BLOCK NE SIDE (  30) 30 FT NW...</td>\n",
       "      <td>-122.347500</td>\n",
       "      <td>47.612881</td>\n",
       "    </tr>\n",
       "    <tr>\n",
       "      <th>3092</th>\n",
       "      <td>24</td>\n",
       "      <td>15TH AVE NW 0920 BLOCK W SIDE ( 130) 130 FT N/...</td>\n",
       "      <td>-122.376905</td>\n",
       "      <td>47.696468</td>\n",
       "    </tr>\n",
       "    <tr>\n",
       "      <th>3620</th>\n",
       "      <td>18</td>\n",
       "      <td>E DENNY WAY 0080 BLOCK S SIDE ( 283) 20 FT W/O...</td>\n",
       "      <td>-122.321000</td>\n",
       "      <td>47.618690</td>\n",
       "    </tr>\n",
       "    <tr>\n",
       "      <th>3677</th>\n",
       "      <td>16</td>\n",
       "      <td>VIRGINIA ST 0110 BLOCK SE SIDE ( 100) 100 FT N...</td>\n",
       "      <td>-122.333610</td>\n",
       "      <td>47.617904</td>\n",
       "    </tr>\n",
       "    <tr>\n",
       "      <th>3875</th>\n",
       "      <td>16</td>\n",
       "      <td>35TH AVE NE 1050 BLOCK W SIDE ( 110) 110 FT N/...</td>\n",
       "      <td>-122.290986</td>\n",
       "      <td>47.705124</td>\n",
       "    </tr>\n",
       "  </tbody>\n",
       "</table>\n",
       "</div>"
      ],
      "text/plain": [
       "      RACK_CAPACITY                                           UNITDESC  \\\n",
       "143              42  LINDEN AVE N 0390 BLOCK W SIDE ( 279) 155 FT S...   \n",
       "579              28  NW 81ST ST 0010 BLOCK S SIDE ( 328) 305 FT E/O...   \n",
       "969              16  WEST GREEN LAKE DR N 0730 BLOCK SE SIDE (  20)...   \n",
       "1124             16  50TH AVE NE 0700 BLOCK W SIDE ( 512) 125 FT S/...   \n",
       "1153             16  NW 90TH ST 0235 BLOCK N SIDE (  24) 24 FT W/O ...   \n",
       "1412             18  STEWART ST 0007 BLOCK NW SIDE (  13) 13 FT NE/...   \n",
       "1537             28  13TH AVE NW 0750 BLOCK W SIDE ( 195) 195 FT N/...   \n",
       "1560             30  5TH AVE 0060 BLOCK SW SIDE ( 222) 45 FT SE/O C...   \n",
       "1916             16  17TH AVE W 0300 BLOCK W SIDE ( 275) 55 FT S/O ...   \n",
       "1970             28  NE RAVENNA WB BV 0050 BLOCK NE SIDE ( 235) 235...   \n",
       "2715             24  INTERLAKE AVE N 0436 BLOCK E SIDE (  30) 30 FT...   \n",
       "2910             36  WESTERN AVE 0230 BLOCK NE SIDE (  30) 30 FT NW...   \n",
       "3092             24  15TH AVE NW 0920 BLOCK W SIDE ( 130) 130 FT N/...   \n",
       "3620             18  E DENNY WAY 0080 BLOCK S SIDE ( 283) 20 FT W/O...   \n",
       "3677             16  VIRGINIA ST 0110 BLOCK SE SIDE ( 100) 100 FT N...   \n",
       "3875             16  35TH AVE NE 1050 BLOCK W SIDE ( 110) 110 FT N/...   \n",
       "\n",
       "       SHAPE_LNG  SHAPE_LAT  \n",
       "143  -122.348644  47.654936  \n",
       "579  -122.359358  47.687618  \n",
       "969  -122.341478  47.682151  \n",
       "1124 -122.274402  47.680837  \n",
       "1153 -122.386861  47.694192  \n",
       "1412 -122.342164  47.609758  \n",
       "1537 -122.372818  47.683790  \n",
       "1560 -122.329807  47.604224  \n",
       "1916 -122.378934  47.648249  \n",
       "1970 -122.322893  47.677109  \n",
       "2715 -122.340611  47.660078  \n",
       "2910 -122.347500  47.612881  \n",
       "3092 -122.376905  47.696468  \n",
       "3620 -122.321000  47.618690  \n",
       "3677 -122.333610  47.617904  \n",
       "3875 -122.290986  47.705124  "
      ]
     },
     "execution_count": 25,
     "metadata": {},
     "output_type": "execute_result"
    }
   ],
   "source": [
    "huge_bikeracks = bikeracks[bikeracks['RACK_CAPACITY'] > 15][['RACK_CAPACITY', 'UNITDESC', 'SHAPE_LNG', 'SHAPE_LAT']]\n",
    "huge_bikeracks"
   ]
  },
  {
   "cell_type": "markdown",
   "metadata": {},
   "source": [
    "We will plot it on a map for better visual."
   ]
  },
  {
   "cell_type": "code",
   "execution_count": 23,
   "metadata": {},
   "outputs": [
    {
     "name": "stdout",
     "output_type": "stream",
     "text": [
      "Seattle coordinates:  47.6038321 -122.3300624\n"
     ]
    }
   ],
   "source": [
    "# Grab general lat&long for Seattle, WA map\n",
    "sea_address = 'Seattle, WA'\n",
    "\n",
    "sea_geolocator = Nominatim(user_agent='foursquare_agent')\n",
    "sea_location = sea_geolocator.geocode(sea_address)\n",
    "sea_latitude = sea_location.latitude\n",
    "sea_longitude = sea_location.longitude\n",
    "print('Seattle coordinates: ', sea_latitude, sea_longitude)"
   ]
  },
  {
   "cell_type": "code",
   "execution_count": 38,
   "metadata": {},
   "outputs": [
    {
     "data": {
      "text/plain": [
       "<folium.features.CircleMarker at 0x121437e48>"
      ]
     },
     "execution_count": 38,
     "metadata": {},
     "output_type": "execute_result"
    },
    {
     "data": {
      "text/plain": [
       "<folium.features.CircleMarker at 0x1214207b8>"
      ]
     },
     "execution_count": 38,
     "metadata": {},
     "output_type": "execute_result"
    },
    {
     "data": {
      "text/plain": [
       "<folium.features.CircleMarker at 0x121420be0>"
      ]
     },
     "execution_count": 38,
     "metadata": {},
     "output_type": "execute_result"
    },
    {
     "data": {
      "text/plain": [
       "<folium.features.CircleMarker at 0x12144e198>"
      ]
     },
     "execution_count": 38,
     "metadata": {},
     "output_type": "execute_result"
    },
    {
     "data": {
      "text/plain": [
       "<folium.features.CircleMarker at 0x12144e0f0>"
      ]
     },
     "execution_count": 38,
     "metadata": {},
     "output_type": "execute_result"
    },
    {
     "data": {
      "text/plain": [
       "<folium.features.CircleMarker at 0x12144e390>"
      ]
     },
     "execution_count": 38,
     "metadata": {},
     "output_type": "execute_result"
    },
    {
     "data": {
      "text/plain": [
       "<folium.features.CircleMarker at 0x121457668>"
      ]
     },
     "execution_count": 38,
     "metadata": {},
     "output_type": "execute_result"
    },
    {
     "data": {
      "text/plain": [
       "<folium.features.CircleMarker at 0x1214205c0>"
      ]
     },
     "execution_count": 38,
     "metadata": {},
     "output_type": "execute_result"
    },
    {
     "data": {
      "text/plain": [
       "<folium.features.CircleMarker at 0x12144e400>"
      ]
     },
     "execution_count": 38,
     "metadata": {},
     "output_type": "execute_result"
    },
    {
     "data": {
      "text/plain": [
       "<folium.features.CircleMarker at 0x1214575c0>"
      ]
     },
     "execution_count": 38,
     "metadata": {},
     "output_type": "execute_result"
    },
    {
     "data": {
      "text/plain": [
       "<folium.features.CircleMarker at 0x12144ed68>"
      ]
     },
     "execution_count": 38,
     "metadata": {},
     "output_type": "execute_result"
    },
    {
     "data": {
      "text/plain": [
       "<folium.features.CircleMarker at 0x12144efd0>"
      ]
     },
     "execution_count": 38,
     "metadata": {},
     "output_type": "execute_result"
    },
    {
     "data": {
      "text/plain": [
       "<folium.features.CircleMarker at 0x1214571d0>"
      ]
     },
     "execution_count": 38,
     "metadata": {},
     "output_type": "execute_result"
    },
    {
     "data": {
      "text/plain": [
       "<folium.features.CircleMarker at 0x12144feb8>"
      ]
     },
     "execution_count": 38,
     "metadata": {},
     "output_type": "execute_result"
    },
    {
     "data": {
      "text/plain": [
       "<folium.features.CircleMarker at 0x121457128>"
      ]
     },
     "execution_count": 38,
     "metadata": {},
     "output_type": "execute_result"
    },
    {
     "data": {
      "text/plain": [
       "<folium.features.CircleMarker at 0x12144f048>"
      ]
     },
     "execution_count": 38,
     "metadata": {},
     "output_type": "execute_result"
    },
    {
     "data": {
      "text/html": [
       "<div style=\"width:100%;\"><div style=\"position:relative;width:100%;height:0;padding-bottom:60%;\"><iframe src=\"data:text/html;charset=utf-8;base64,PCFET0NUWVBFIGh0bWw+CjxoZWFkPiAgICAKICAgIDxtZXRhIGh0dHAtZXF1aXY9ImNvbnRlbnQtdHlwZSIgY29udGVudD0idGV4dC9odG1sOyBjaGFyc2V0PVVURi04IiAvPgogICAgPHNjcmlwdD5MX1BSRUZFUl9DQU5WQVMgPSBmYWxzZTsgTF9OT19UT1VDSCA9IGZhbHNlOyBMX0RJU0FCTEVfM0QgPSBmYWxzZTs8L3NjcmlwdD4KICAgIDxzY3JpcHQgc3JjPSJodHRwczovL2Nkbi5qc2RlbGl2ci5uZXQvbnBtL2xlYWZsZXRAMS4yLjAvZGlzdC9sZWFmbGV0LmpzIj48L3NjcmlwdD4KICAgIDxzY3JpcHQgc3JjPSJodHRwczovL2FqYXguZ29vZ2xlYXBpcy5jb20vYWpheC9saWJzL2pxdWVyeS8xLjExLjEvanF1ZXJ5Lm1pbi5qcyI+PC9zY3JpcHQ+CiAgICA8c2NyaXB0IHNyYz0iaHR0cHM6Ly9tYXhjZG4uYm9vdHN0cmFwY2RuLmNvbS9ib290c3RyYXAvMy4yLjAvanMvYm9vdHN0cmFwLm1pbi5qcyI+PC9zY3JpcHQ+CiAgICA8c2NyaXB0IHNyYz0iaHR0cHM6Ly9jZG5qcy5jbG91ZGZsYXJlLmNvbS9hamF4L2xpYnMvTGVhZmxldC5hd2Vzb21lLW1hcmtlcnMvMi4wLjIvbGVhZmxldC5hd2Vzb21lLW1hcmtlcnMuanMiPjwvc2NyaXB0PgogICAgPGxpbmsgcmVsPSJzdHlsZXNoZWV0IiBocmVmPSJodHRwczovL2Nkbi5qc2RlbGl2ci5uZXQvbnBtL2xlYWZsZXRAMS4yLjAvZGlzdC9sZWFmbGV0LmNzcyIvPgogICAgPGxpbmsgcmVsPSJzdHlsZXNoZWV0IiBocmVmPSJodHRwczovL21heGNkbi5ib290c3RyYXBjZG4uY29tL2Jvb3RzdHJhcC8zLjIuMC9jc3MvYm9vdHN0cmFwLm1pbi5jc3MiLz4KICAgIDxsaW5rIHJlbD0ic3R5bGVzaGVldCIgaHJlZj0iaHR0cHM6Ly9tYXhjZG4uYm9vdHN0cmFwY2RuLmNvbS9ib290c3RyYXAvMy4yLjAvY3NzL2Jvb3RzdHJhcC10aGVtZS5taW4uY3NzIi8+CiAgICA8bGluayByZWw9InN0eWxlc2hlZXQiIGhyZWY9Imh0dHBzOi8vbWF4Y2RuLmJvb3RzdHJhcGNkbi5jb20vZm9udC1hd2Vzb21lLzQuNi4zL2Nzcy9mb250LWF3ZXNvbWUubWluLmNzcyIvPgogICAgPGxpbmsgcmVsPSJzdHlsZXNoZWV0IiBocmVmPSJodHRwczovL2NkbmpzLmNsb3VkZmxhcmUuY29tL2FqYXgvbGlicy9MZWFmbGV0LmF3ZXNvbWUtbWFya2Vycy8yLjAuMi9sZWFmbGV0LmF3ZXNvbWUtbWFya2Vycy5jc3MiLz4KICAgIDxsaW5rIHJlbD0ic3R5bGVzaGVldCIgaHJlZj0iaHR0cHM6Ly9yYXdnaXQuY29tL3B5dGhvbi12aXN1YWxpemF0aW9uL2ZvbGl1bS9tYXN0ZXIvZm9saXVtL3RlbXBsYXRlcy9sZWFmbGV0LmF3ZXNvbWUucm90YXRlLmNzcyIvPgogICAgPHN0eWxlPmh0bWwsIGJvZHkge3dpZHRoOiAxMDAlO2hlaWdodDogMTAwJTttYXJnaW46IDA7cGFkZGluZzogMDt9PC9zdHlsZT4KICAgIDxzdHlsZT4jbWFwIHtwb3NpdGlvbjphYnNvbHV0ZTt0b3A6MDtib3R0b206MDtyaWdodDowO2xlZnQ6MDt9PC9zdHlsZT4KICAgIAogICAgICAgICAgICA8c3R5bGU+ICNtYXBfYjM3N2QwMmVmMGMyNGJmMzk2YWE4MDYzZGVkOTUzZmYgewogICAgICAgICAgICAgICAgcG9zaXRpb24gOiByZWxhdGl2ZTsKICAgICAgICAgICAgICAgIHdpZHRoIDogMTAwLjAlOwogICAgICAgICAgICAgICAgaGVpZ2h0OiAxMDAuMCU7CiAgICAgICAgICAgICAgICBsZWZ0OiAwLjAlOwogICAgICAgICAgICAgICAgdG9wOiAwLjAlOwogICAgICAgICAgICAgICAgfQogICAgICAgICAgICA8L3N0eWxlPgogICAgICAgIAo8L2hlYWQ+Cjxib2R5PiAgICAKICAgIAogICAgICAgICAgICA8ZGl2IGNsYXNzPSJmb2xpdW0tbWFwIiBpZD0ibWFwX2IzNzdkMDJlZjBjMjRiZjM5NmFhODA2M2RlZDk1M2ZmIiA+PC9kaXY+CiAgICAgICAgCjwvYm9keT4KPHNjcmlwdD4gICAgCiAgICAKCiAgICAgICAgICAgIAogICAgICAgICAgICAgICAgdmFyIGJvdW5kcyA9IG51bGw7CiAgICAgICAgICAgIAoKICAgICAgICAgICAgdmFyIG1hcF9iMzc3ZDAyZWYwYzI0YmYzOTZhYTgwNjNkZWQ5NTNmZiA9IEwubWFwKAogICAgICAgICAgICAgICAgICAgICAgICAgICAgICAgICAgJ21hcF9iMzc3ZDAyZWYwYzI0YmYzOTZhYTgwNjNkZWQ5NTNmZicsCiAgICAgICAgICAgICAgICAgICAgICAgICAgICAgICAgICB7Y2VudGVyOiBbNDcuNjAzODMyMSwtMTIyLjMzMDA2MjRdLAogICAgICAgICAgICAgICAgICAgICAgICAgICAgICAgICAgem9vbTogMTMsCiAgICAgICAgICAgICAgICAgICAgICAgICAgICAgICAgICBtYXhCb3VuZHM6IGJvdW5kcywKICAgICAgICAgICAgICAgICAgICAgICAgICAgICAgICAgIGxheWVyczogW10sCiAgICAgICAgICAgICAgICAgICAgICAgICAgICAgICAgICB3b3JsZENvcHlKdW1wOiBmYWxzZSwKICAgICAgICAgICAgICAgICAgICAgICAgICAgICAgICAgIGNyczogTC5DUlMuRVBTRzM4NTcKICAgICAgICAgICAgICAgICAgICAgICAgICAgICAgICAgfSk7CiAgICAgICAgICAgIAogICAgICAgIAogICAgCiAgICAgICAgICAgIHZhciB0aWxlX2xheWVyXzU5MjUyNTg3MmNkMDRmNTA5NWU1N2MxZTEzYjc5NmY3ID0gTC50aWxlTGF5ZXIoCiAgICAgICAgICAgICAgICAnaHR0cHM6Ly97c30udGlsZS5vcGVuc3RyZWV0bWFwLm9yZy97en0ve3h9L3t5fS5wbmcnLAogICAgICAgICAgICAgICAgewogICJhdHRyaWJ1dGlvbiI6IG51bGwsCiAgImRldGVjdFJldGluYSI6IGZhbHNlLAogICJtYXhab29tIjogMTgsCiAgIm1pblpvb20iOiAxLAogICJub1dyYXAiOiBmYWxzZSwKICAic3ViZG9tYWlucyI6ICJhYmMiCn0KICAgICAgICAgICAgICAgICkuYWRkVG8obWFwX2IzNzdkMDJlZjBjMjRiZjM5NmFhODA2M2RlZDk1M2ZmKTsKICAgICAgICAKICAgIAogICAgICAgICAgICB2YXIgY2lyY2xlX21hcmtlcl8yYzA1OTQyODhjNGE0ZDljODU0YWI5MWQxOWU0YjA1OCA9IEwuY2lyY2xlTWFya2VyKAogICAgICAgICAgICAgICAgWzQ3LjY1NDkzNTU2NzA4NjQsLTEyMi4zNDg2NDM2ODQ3NDFdLAogICAgICAgICAgICAgICAgewogICJidWJibGluZ01vdXNlRXZlbnRzIjogdHJ1ZSwKICAiY29sb3IiOiAiYmx1ZSIsCiAgImRhc2hBcnJheSI6IG51bGwsCiAgImRhc2hPZmZzZXQiOiBudWxsLAogICJmaWxsIjogdHJ1ZSwKICAiZmlsbENvbG9yIjogImJsdWUiLAogICJmaWxsT3BhY2l0eSI6IDAuNSwKICAiZmlsbFJ1bGUiOiAiZXZlbm9kZCIsCiAgImxpbmVDYXAiOiAicm91bmQiLAogICJsaW5lSm9pbiI6ICJyb3VuZCIsCiAgIm9wYWNpdHkiOiAxLjAsCiAgInJhZGl1cyI6IDMsCiAgInN0cm9rZSI6IHRydWUsCiAgIndlaWdodCI6IDMKfQogICAgICAgICAgICAgICAgKS5hZGRUbyhtYXBfYjM3N2QwMmVmMGMyNGJmMzk2YWE4MDYzZGVkOTUzZmYpOwogICAgICAgICAgICAKICAgIAogICAgICAgICAgICB2YXIgcG9wdXBfYTUyMzY2OTRiYTFmNDE4MmExZWQ4ZjMyZWY4OGUyYjcgPSBMLnBvcHVwKHttYXhXaWR0aDogJzMwMCd9KTsKCiAgICAgICAgICAgIAogICAgICAgICAgICAgICAgdmFyIGh0bWxfZThmNjc3NWM2NjlmNDQ1ZmI4YzdmOGE1MmNjYTQyYTUgPSAkKCc8ZGl2IGlkPSJodG1sX2U4ZjY3NzVjNjY5ZjQ0NWZiOGM3ZjhhNTJjY2E0MmE1IiBzdHlsZT0id2lkdGg6IDEwMC4wJTsgaGVpZ2h0OiAxMDAuMCU7Ij40MjwvZGl2PicpWzBdOwogICAgICAgICAgICAgICAgcG9wdXBfYTUyMzY2OTRiYTFmNDE4MmExZWQ4ZjMyZWY4OGUyYjcuc2V0Q29udGVudChodG1sX2U4ZjY3NzVjNjY5ZjQ0NWZiOGM3ZjhhNTJjY2E0MmE1KTsKICAgICAgICAgICAgCgogICAgICAgICAgICBjaXJjbGVfbWFya2VyXzJjMDU5NDI4OGM0YTRkOWM4NTRhYjkxZDE5ZTRiMDU4LmJpbmRQb3B1cChwb3B1cF9hNTIzNjY5NGJhMWY0MTgyYTFlZDhmMzJlZjg4ZTJiNyk7CgogICAgICAgICAgICAKICAgICAgICAKICAgIAogICAgICAgICAgICB2YXIgY2lyY2xlX21hcmtlcl81YTA0YjgzMjA4YjE0NjM5YWQwZTA1NTU4MTVlODVkYyA9IEwuY2lyY2xlTWFya2VyKAogICAgICAgICAgICAgICAgWzQ3LjY4NzYxNzUzMjIyNTM5NiwtMTIyLjM1OTM1ODQyNzkyOV0sCiAgICAgICAgICAgICAgICB7CiAgImJ1YmJsaW5nTW91c2VFdmVudHMiOiB0cnVlLAogICJjb2xvciI6ICJibHVlIiwKICAiZGFzaEFycmF5IjogbnVsbCwKICAiZGFzaE9mZnNldCI6IG51bGwsCiAgImZpbGwiOiB0cnVlLAogICJmaWxsQ29sb3IiOiAiYmx1ZSIsCiAgImZpbGxPcGFjaXR5IjogMC41LAogICJmaWxsUnVsZSI6ICJldmVub2RkIiwKICAibGluZUNhcCI6ICJyb3VuZCIsCiAgImxpbmVKb2luIjogInJvdW5kIiwKICAib3BhY2l0eSI6IDEuMCwKICAicmFkaXVzIjogMywKICAic3Ryb2tlIjogdHJ1ZSwKICAid2VpZ2h0IjogMwp9CiAgICAgICAgICAgICAgICApLmFkZFRvKG1hcF9iMzc3ZDAyZWYwYzI0YmYzOTZhYTgwNjNkZWQ5NTNmZik7CiAgICAgICAgICAgIAogICAgCiAgICAgICAgICAgIHZhciBwb3B1cF9iYWM5YjU3ZjM3OWE0MGNhYjU3MjhlNmJlNTFmYjJhOCA9IEwucG9wdXAoe21heFdpZHRoOiAnMzAwJ30pOwoKICAgICAgICAgICAgCiAgICAgICAgICAgICAgICB2YXIgaHRtbF84ODczYWU5YjRkMDI0MjI5YTQyNjAzMGZmYTg5MmJmNyA9ICQoJzxkaXYgaWQ9Imh0bWxfODg3M2FlOWI0ZDAyNDIyOWE0MjYwMzBmZmE4OTJiZjciIHN0eWxlPSJ3aWR0aDogMTAwLjAlOyBoZWlnaHQ6IDEwMC4wJTsiPjI4PC9kaXY+JylbMF07CiAgICAgICAgICAgICAgICBwb3B1cF9iYWM5YjU3ZjM3OWE0MGNhYjU3MjhlNmJlNTFmYjJhOC5zZXRDb250ZW50KGh0bWxfODg3M2FlOWI0ZDAyNDIyOWE0MjYwMzBmZmE4OTJiZjcpOwogICAgICAgICAgICAKCiAgICAgICAgICAgIGNpcmNsZV9tYXJrZXJfNWEwNGI4MzIwOGIxNDYzOWFkMGUwNTU1ODE1ZTg1ZGMuYmluZFBvcHVwKHBvcHVwX2JhYzliNTdmMzc5YTQwY2FiNTcyOGU2YmU1MWZiMmE4KTsKCiAgICAgICAgICAgIAogICAgICAgIAogICAgCiAgICAgICAgICAgIHZhciBjaXJjbGVfbWFya2VyXzEwMzIxNTllOGEwOTQ2YzM5N2Y1YTU4YjdlOWRiYzdkID0gTC5jaXJjbGVNYXJrZXIoCiAgICAgICAgICAgICAgICBbNDcuNjgyMTUxMTQzNDQ2MjksLTEyMi4zNDE0NzgxMDkxODZdLAogICAgICAgICAgICAgICAgewogICJidWJibGluZ01vdXNlRXZlbnRzIjogdHJ1ZSwKICAiY29sb3IiOiAiYmx1ZSIsCiAgImRhc2hBcnJheSI6IG51bGwsCiAgImRhc2hPZmZzZXQiOiBudWxsLAogICJmaWxsIjogdHJ1ZSwKICAiZmlsbENvbG9yIjogImJsdWUiLAogICJmaWxsT3BhY2l0eSI6IDAuNSwKICAiZmlsbFJ1bGUiOiAiZXZlbm9kZCIsCiAgImxpbmVDYXAiOiAicm91bmQiLAogICJsaW5lSm9pbiI6ICJyb3VuZCIsCiAgIm9wYWNpdHkiOiAxLjAsCiAgInJhZGl1cyI6IDMsCiAgInN0cm9rZSI6IHRydWUsCiAgIndlaWdodCI6IDMKfQogICAgICAgICAgICAgICAgKS5hZGRUbyhtYXBfYjM3N2QwMmVmMGMyNGJmMzk2YWE4MDYzZGVkOTUzZmYpOwogICAgICAgICAgICAKICAgIAogICAgICAgICAgICB2YXIgcG9wdXBfNzU4NDdjZThhOWJiNGQ2MmI3NzdkYzM2NTIyODlmOWYgPSBMLnBvcHVwKHttYXhXaWR0aDogJzMwMCd9KTsKCiAgICAgICAgICAgIAogICAgICAgICAgICAgICAgdmFyIGh0bWxfMDBhZmE3OTdkNTI2NGFmMTgwZmVjOGY5NmU3NzkyMWIgPSAkKCc8ZGl2IGlkPSJodG1sXzAwYWZhNzk3ZDUyNjRhZjE4MGZlYzhmOTZlNzc5MjFiIiBzdHlsZT0id2lkdGg6IDEwMC4wJTsgaGVpZ2h0OiAxMDAuMCU7Ij4xNjwvZGl2PicpWzBdOwogICAgICAgICAgICAgICAgcG9wdXBfNzU4NDdjZThhOWJiNGQ2MmI3NzdkYzM2NTIyODlmOWYuc2V0Q29udGVudChodG1sXzAwYWZhNzk3ZDUyNjRhZjE4MGZlYzhmOTZlNzc5MjFiKTsKICAgICAgICAgICAgCgogICAgICAgICAgICBjaXJjbGVfbWFya2VyXzEwMzIxNTllOGEwOTQ2YzM5N2Y1YTU4YjdlOWRiYzdkLmJpbmRQb3B1cChwb3B1cF83NTg0N2NlOGE5YmI0ZDYyYjc3N2RjMzY1MjI4OWY5Zik7CgogICAgICAgICAgICAKICAgICAgICAKICAgIAogICAgICAgICAgICB2YXIgY2lyY2xlX21hcmtlcl84ZDRjYjU2MDEyOGQ0MGUwYmY1ZjI5YWQ0OWQ0MDJiYSA9IEwuY2lyY2xlTWFya2VyKAogICAgICAgICAgICAgICAgWzQ3LjY4MDgzNzM2MDE2OTg5NiwtMTIyLjI3NDQwMjEyMTg5M10sCiAgICAgICAgICAgICAgICB7CiAgImJ1YmJsaW5nTW91c2VFdmVudHMiOiB0cnVlLAogICJjb2xvciI6ICJibHVlIiwKICAiZGFzaEFycmF5IjogbnVsbCwKICAiZGFzaE9mZnNldCI6IG51bGwsCiAgImZpbGwiOiB0cnVlLAogICJmaWxsQ29sb3IiOiAiYmx1ZSIsCiAgImZpbGxPcGFjaXR5IjogMC41LAogICJmaWxsUnVsZSI6ICJldmVub2RkIiwKICAibGluZUNhcCI6ICJyb3VuZCIsCiAgImxpbmVKb2luIjogInJvdW5kIiwKICAib3BhY2l0eSI6IDEuMCwKICAicmFkaXVzIjogMywKICAic3Ryb2tlIjogdHJ1ZSwKICAid2VpZ2h0IjogMwp9CiAgICAgICAgICAgICAgICApLmFkZFRvKG1hcF9iMzc3ZDAyZWYwYzI0YmYzOTZhYTgwNjNkZWQ5NTNmZik7CiAgICAgICAgICAgIAogICAgCiAgICAgICAgICAgIHZhciBwb3B1cF9mOWM3YmUyMGJjYTU0YTk5ODgwNGE4MzE3NjYxN2VlNSA9IEwucG9wdXAoe21heFdpZHRoOiAnMzAwJ30pOwoKICAgICAgICAgICAgCiAgICAgICAgICAgICAgICB2YXIgaHRtbF82NzYxMTExMjRlY2I0NGJkYWE1Zjk4NzY5YzA3Y2E2MiA9ICQoJzxkaXYgaWQ9Imh0bWxfNjc2MTExMTI0ZWNiNDRiZGFhNWY5ODc2OWMwN2NhNjIiIHN0eWxlPSJ3aWR0aDogMTAwLjAlOyBoZWlnaHQ6IDEwMC4wJTsiPjE2PC9kaXY+JylbMF07CiAgICAgICAgICAgICAgICBwb3B1cF9mOWM3YmUyMGJjYTU0YTk5ODgwNGE4MzE3NjYxN2VlNS5zZXRDb250ZW50KGh0bWxfNjc2MTExMTI0ZWNiNDRiZGFhNWY5ODc2OWMwN2NhNjIpOwogICAgICAgICAgICAKCiAgICAgICAgICAgIGNpcmNsZV9tYXJrZXJfOGQ0Y2I1NjAxMjhkNDBlMGJmNWYyOWFkNDlkNDAyYmEuYmluZFBvcHVwKHBvcHVwX2Y5YzdiZTIwYmNhNTRhOTk4ODA0YTgzMTc2NjE3ZWU1KTsKCiAgICAgICAgICAgIAogICAgICAgIAogICAgCiAgICAgICAgICAgIHZhciBjaXJjbGVfbWFya2VyX2JmMGU5ZTYxZDYzYjQ3MjRhYzE3YzhkMzg1OGNjOWViID0gTC5jaXJjbGVNYXJrZXIoCiAgICAgICAgICAgICAgICBbNDcuNjk0MTkxNjgxMjU2MiwtMTIyLjM4Njg2MTExODM0NV0sCiAgICAgICAgICAgICAgICB7CiAgImJ1YmJsaW5nTW91c2VFdmVudHMiOiB0cnVlLAogICJjb2xvciI6ICJibHVlIiwKICAiZGFzaEFycmF5IjogbnVsbCwKICAiZGFzaE9mZnNldCI6IG51bGwsCiAgImZpbGwiOiB0cnVlLAogICJmaWxsQ29sb3IiOiAiYmx1ZSIsCiAgImZpbGxPcGFjaXR5IjogMC41LAogICJmaWxsUnVsZSI6ICJldmVub2RkIiwKICAibGluZUNhcCI6ICJyb3VuZCIsCiAgImxpbmVKb2luIjogInJvdW5kIiwKICAib3BhY2l0eSI6IDEuMCwKICAicmFkaXVzIjogMywKICAic3Ryb2tlIjogdHJ1ZSwKICAid2VpZ2h0IjogMwp9CiAgICAgICAgICAgICAgICApLmFkZFRvKG1hcF9iMzc3ZDAyZWYwYzI0YmYzOTZhYTgwNjNkZWQ5NTNmZik7CiAgICAgICAgICAgIAogICAgCiAgICAgICAgICAgIHZhciBwb3B1cF9hZjEwODRlMjVlZWE0Nzc4OTAwYmNjZTM1ZGUwOWY2MCA9IEwucG9wdXAoe21heFdpZHRoOiAnMzAwJ30pOwoKICAgICAgICAgICAgCiAgICAgICAgICAgICAgICB2YXIgaHRtbF85MmJkZGJhYWI0MmE0NTczOWQyOTI1YzYyNzUyYzIyNCA9ICQoJzxkaXYgaWQ9Imh0bWxfOTJiZGRiYWFiNDJhNDU3MzlkMjkyNWM2Mjc1MmMyMjQiIHN0eWxlPSJ3aWR0aDogMTAwLjAlOyBoZWlnaHQ6IDEwMC4wJTsiPjE2PC9kaXY+JylbMF07CiAgICAgICAgICAgICAgICBwb3B1cF9hZjEwODRlMjVlZWE0Nzc4OTAwYmNjZTM1ZGUwOWY2MC5zZXRDb250ZW50KGh0bWxfOTJiZGRiYWFiNDJhNDU3MzlkMjkyNWM2Mjc1MmMyMjQpOwogICAgICAgICAgICAKCiAgICAgICAgICAgIGNpcmNsZV9tYXJrZXJfYmYwZTllNjFkNjNiNDcyNGFjMTdjOGQzODU4Y2M5ZWIuYmluZFBvcHVwKHBvcHVwX2FmMTA4NGUyNWVlYTQ3Nzg5MDBiY2NlMzVkZTA5ZjYwKTsKCiAgICAgICAgICAgIAogICAgICAgIAogICAgCiAgICAgICAgICAgIHZhciBjaXJjbGVfbWFya2VyX2Y5NmI2OWU1NTI4YzRhYTFiNTgyYTE2YjA3ODQxMjgwID0gTC5jaXJjbGVNYXJrZXIoCiAgICAgICAgICAgICAgICBbNDcuNjA5NzU4MzkwNTg0NiwtMTIyLjM0MjE2MzUwNDUzODAxXSwKICAgICAgICAgICAgICAgIHsKICAiYnViYmxpbmdNb3VzZUV2ZW50cyI6IHRydWUsCiAgImNvbG9yIjogImJsdWUiLAogICJkYXNoQXJyYXkiOiBudWxsLAogICJkYXNoT2Zmc2V0IjogbnVsbCwKICAiZmlsbCI6IHRydWUsCiAgImZpbGxDb2xvciI6ICJibHVlIiwKICAiZmlsbE9wYWNpdHkiOiAwLjUsCiAgImZpbGxSdWxlIjogImV2ZW5vZGQiLAogICJsaW5lQ2FwIjogInJvdW5kIiwKICAibGluZUpvaW4iOiAicm91bmQiLAogICJvcGFjaXR5IjogMS4wLAogICJyYWRpdXMiOiAzLAogICJzdHJva2UiOiB0cnVlLAogICJ3ZWlnaHQiOiAzCn0KICAgICAgICAgICAgICAgICkuYWRkVG8obWFwX2IzNzdkMDJlZjBjMjRiZjM5NmFhODA2M2RlZDk1M2ZmKTsKICAgICAgICAgICAgCiAgICAKICAgICAgICAgICAgdmFyIHBvcHVwXzQyNjc3Yzg1NGJiNDQ4OThiNTUyOWUyYzcxYjg0ODUxID0gTC5wb3B1cCh7bWF4V2lkdGg6ICczMDAnfSk7CgogICAgICAgICAgICAKICAgICAgICAgICAgICAgIHZhciBodG1sXzYwZGRiNDllYjFjZTQ4NjBiYTA1MTYwNzIzYWM1ZDJmID0gJCgnPGRpdiBpZD0iaHRtbF82MGRkYjQ5ZWIxY2U0ODYwYmEwNTE2MDcyM2FjNWQyZiIgc3R5bGU9IndpZHRoOiAxMDAuMCU7IGhlaWdodDogMTAwLjAlOyI+MTg8L2Rpdj4nKVswXTsKICAgICAgICAgICAgICAgIHBvcHVwXzQyNjc3Yzg1NGJiNDQ4OThiNTUyOWUyYzcxYjg0ODUxLnNldENvbnRlbnQoaHRtbF82MGRkYjQ5ZWIxY2U0ODYwYmEwNTE2MDcyM2FjNWQyZik7CiAgICAgICAgICAgIAoKICAgICAgICAgICAgY2lyY2xlX21hcmtlcl9mOTZiNjllNTUyOGM0YWExYjU4MmExNmIwNzg0MTI4MC5iaW5kUG9wdXAocG9wdXBfNDI2NzdjODU0YmI0NDg5OGI1NTI5ZTJjNzFiODQ4NTEpOwoKICAgICAgICAgICAgCiAgICAgICAgCiAgICAKICAgICAgICAgICAgdmFyIGNpcmNsZV9tYXJrZXJfMGVjYmRiOGI3NGUzNGE0YWFkMDMxYzY0YTk4ZDkzMzIgPSBMLmNpcmNsZU1hcmtlcigKICAgICAgICAgICAgICAgIFs0Ny42ODM3ODk5MTA5OTI0LC0xMjIuMzcyODE4MDYwMzcxXSwKICAgICAgICAgICAgICAgIHsKICAiYnViYmxpbmdNb3VzZUV2ZW50cyI6IHRydWUsCiAgImNvbG9yIjogImJsdWUiLAogICJkYXNoQXJyYXkiOiBudWxsLAogICJkYXNoT2Zmc2V0IjogbnVsbCwKICAiZmlsbCI6IHRydWUsCiAgImZpbGxDb2xvciI6ICJibHVlIiwKICAiZmlsbE9wYWNpdHkiOiAwLjUsCiAgImZpbGxSdWxlIjogImV2ZW5vZGQiLAogICJsaW5lQ2FwIjogInJvdW5kIiwKICAibGluZUpvaW4iOiAicm91bmQiLAogICJvcGFjaXR5IjogMS4wLAogICJyYWRpdXMiOiAzLAogICJzdHJva2UiOiB0cnVlLAogICJ3ZWlnaHQiOiAzCn0KICAgICAgICAgICAgICAgICkuYWRkVG8obWFwX2IzNzdkMDJlZjBjMjRiZjM5NmFhODA2M2RlZDk1M2ZmKTsKICAgICAgICAgICAgCiAgICAKICAgICAgICAgICAgdmFyIHBvcHVwXzEwMzA5Mjk1NmM4ZjQ3MTJiYzU2NzljODRjZDQyMTAyID0gTC5wb3B1cCh7bWF4V2lkdGg6ICczMDAnfSk7CgogICAgICAgICAgICAKICAgICAgICAgICAgICAgIHZhciBodG1sX2UyZWQxYmJmODQzYzRiZTJhZWQwYjAxODRiYjVjZTEyID0gJCgnPGRpdiBpZD0iaHRtbF9lMmVkMWJiZjg0M2M0YmUyYWVkMGIwMTg0YmI1Y2UxMiIgc3R5bGU9IndpZHRoOiAxMDAuMCU7IGhlaWdodDogMTAwLjAlOyI+Mjg8L2Rpdj4nKVswXTsKICAgICAgICAgICAgICAgIHBvcHVwXzEwMzA5Mjk1NmM4ZjQ3MTJiYzU2NzljODRjZDQyMTAyLnNldENvbnRlbnQoaHRtbF9lMmVkMWJiZjg0M2M0YmUyYWVkMGIwMTg0YmI1Y2UxMik7CiAgICAgICAgICAgIAoKICAgICAgICAgICAgY2lyY2xlX21hcmtlcl8wZWNiZGI4Yjc0ZTM0YTRhYWQwMzFjNjRhOThkOTMzMi5iaW5kUG9wdXAocG9wdXBfMTAzMDkyOTU2YzhmNDcxMmJjNTY3OWM4NGNkNDIxMDIpOwoKICAgICAgICAgICAgCiAgICAgICAgCiAgICAKICAgICAgICAgICAgdmFyIGNpcmNsZV9tYXJrZXJfNjU1MDkwOTU5NTY4NGUzNzgwNmNhYTZjYTFlZDFmZTYgPSBMLmNpcmNsZU1hcmtlcigKICAgICAgICAgICAgICAgIFs0Ny42MDQyMjQyNjY2MjE5LC0xMjIuMzI5ODA3MjQzNjQxXSwKICAgICAgICAgICAgICAgIHsKICAiYnViYmxpbmdNb3VzZUV2ZW50cyI6IHRydWUsCiAgImNvbG9yIjogImJsdWUiLAogICJkYXNoQXJyYXkiOiBudWxsLAogICJkYXNoT2Zmc2V0IjogbnVsbCwKICAiZmlsbCI6IHRydWUsCiAgImZpbGxDb2xvciI6ICJibHVlIiwKICAiZmlsbE9wYWNpdHkiOiAwLjUsCiAgImZpbGxSdWxlIjogImV2ZW5vZGQiLAogICJsaW5lQ2FwIjogInJvdW5kIiwKICAibGluZUpvaW4iOiAicm91bmQiLAogICJvcGFjaXR5IjogMS4wLAogICJyYWRpdXMiOiAzLAogICJzdHJva2UiOiB0cnVlLAogICJ3ZWlnaHQiOiAzCn0KICAgICAgICAgICAgICAgICkuYWRkVG8obWFwX2IzNzdkMDJlZjBjMjRiZjM5NmFhODA2M2RlZDk1M2ZmKTsKICAgICAgICAgICAgCiAgICAKICAgICAgICAgICAgdmFyIHBvcHVwX2NiYmFkZTllNjM3MzRmZTZiNDk2MjBhZTE3OTRhMjk2ID0gTC5wb3B1cCh7bWF4V2lkdGg6ICczMDAnfSk7CgogICAgICAgICAgICAKICAgICAgICAgICAgICAgIHZhciBodG1sXzhiM2Q2MzUyZDZhNDQ3YjZhMjM3MWM2YWI0N2M4YjQwID0gJCgnPGRpdiBpZD0iaHRtbF84YjNkNjM1MmQ2YTQ0N2I2YTIzNzFjNmFiNDdjOGI0MCIgc3R5bGU9IndpZHRoOiAxMDAuMCU7IGhlaWdodDogMTAwLjAlOyI+MzA8L2Rpdj4nKVswXTsKICAgICAgICAgICAgICAgIHBvcHVwX2NiYmFkZTllNjM3MzRmZTZiNDk2MjBhZTE3OTRhMjk2LnNldENvbnRlbnQoaHRtbF84YjNkNjM1MmQ2YTQ0N2I2YTIzNzFjNmFiNDdjOGI0MCk7CiAgICAgICAgICAgIAoKICAgICAgICAgICAgY2lyY2xlX21hcmtlcl82NTUwOTA5NTk1Njg0ZTM3ODA2Y2FhNmNhMWVkMWZlNi5iaW5kUG9wdXAocG9wdXBfY2JiYWRlOWU2MzczNGZlNmI0OTYyMGFlMTc5NGEyOTYpOwoKICAgICAgICAgICAgCiAgICAgICAgCiAgICAKICAgICAgICAgICAgdmFyIGNpcmNsZV9tYXJrZXJfZmIwZGFkZWQ1MmE4NGY1NDhlNjM0MzBkOWM5MjFkMWYgPSBMLmNpcmNsZU1hcmtlcigKICAgICAgICAgICAgICAgIFs0Ny42NDgyNDk0NjQzOTIzOSwtMTIyLjM3ODkzNDMzMjgyXSwKICAgICAgICAgICAgICAgIHsKICAiYnViYmxpbmdNb3VzZUV2ZW50cyI6IHRydWUsCiAgImNvbG9yIjogImJsdWUiLAogICJkYXNoQXJyYXkiOiBudWxsLAogICJkYXNoT2Zmc2V0IjogbnVsbCwKICAiZmlsbCI6IHRydWUsCiAgImZpbGxDb2xvciI6ICJibHVlIiwKICAiZmlsbE9wYWNpdHkiOiAwLjUsCiAgImZpbGxSdWxlIjogImV2ZW5vZGQiLAogICJsaW5lQ2FwIjogInJvdW5kIiwKICAibGluZUpvaW4iOiAicm91bmQiLAogICJvcGFjaXR5IjogMS4wLAogICJyYWRpdXMiOiAzLAogICJzdHJva2UiOiB0cnVlLAogICJ3ZWlnaHQiOiAzCn0KICAgICAgICAgICAgICAgICkuYWRkVG8obWFwX2IzNzdkMDJlZjBjMjRiZjM5NmFhODA2M2RlZDk1M2ZmKTsKICAgICAgICAgICAgCiAgICAKICAgICAgICAgICAgdmFyIHBvcHVwX2JkYTExOWJhYTM0NzRlMzg4YWM3ZWEzOTRmODZlYzQxID0gTC5wb3B1cCh7bWF4V2lkdGg6ICczMDAnfSk7CgogICAgICAgICAgICAKICAgICAgICAgICAgICAgIHZhciBodG1sXzQ1ZDA5ZTNkYjg2OTQxY2Y5MTRmZWFmNWFiODZhNTJhID0gJCgnPGRpdiBpZD0iaHRtbF80NWQwOWUzZGI4Njk0MWNmOTE0ZmVhZjVhYjg2YTUyYSIgc3R5bGU9IndpZHRoOiAxMDAuMCU7IGhlaWdodDogMTAwLjAlOyI+MTY8L2Rpdj4nKVswXTsKICAgICAgICAgICAgICAgIHBvcHVwX2JkYTExOWJhYTM0NzRlMzg4YWM3ZWEzOTRmODZlYzQxLnNldENvbnRlbnQoaHRtbF80NWQwOWUzZGI4Njk0MWNmOTE0ZmVhZjVhYjg2YTUyYSk7CiAgICAgICAgICAgIAoKICAgICAgICAgICAgY2lyY2xlX21hcmtlcl9mYjBkYWRlZDUyYTg0ZjU0OGU2MzQzMGQ5YzkyMWQxZi5iaW5kUG9wdXAocG9wdXBfYmRhMTE5YmFhMzQ3NGUzODhhYzdlYTM5NGY4NmVjNDEpOwoKICAgICAgICAgICAgCiAgICAgICAgCiAgICAKICAgICAgICAgICAgdmFyIGNpcmNsZV9tYXJrZXJfMzI2MTQwMWJjMDEwNDE5OGFiNTk2NjNmNDdlNzE2ZmUgPSBMLmNpcmNsZU1hcmtlcigKICAgICAgICAgICAgICAgIFs0Ny42NzcxMDg2Nzg5NTQ4LC0xMjIuMzIyODkzNDYxNTgxXSwKICAgICAgICAgICAgICAgIHsKICAiYnViYmxpbmdNb3VzZUV2ZW50cyI6IHRydWUsCiAgImNvbG9yIjogImJsdWUiLAogICJkYXNoQXJyYXkiOiBudWxsLAogICJkYXNoT2Zmc2V0IjogbnVsbCwKICAiZmlsbCI6IHRydWUsCiAgImZpbGxDb2xvciI6ICJibHVlIiwKICAiZmlsbE9wYWNpdHkiOiAwLjUsCiAgImZpbGxSdWxlIjogImV2ZW5vZGQiLAogICJsaW5lQ2FwIjogInJvdW5kIiwKICAibGluZUpvaW4iOiAicm91bmQiLAogICJvcGFjaXR5IjogMS4wLAogICJyYWRpdXMiOiAzLAogICJzdHJva2UiOiB0cnVlLAogICJ3ZWlnaHQiOiAzCn0KICAgICAgICAgICAgICAgICkuYWRkVG8obWFwX2IzNzdkMDJlZjBjMjRiZjM5NmFhODA2M2RlZDk1M2ZmKTsKICAgICAgICAgICAgCiAgICAKICAgICAgICAgICAgdmFyIHBvcHVwXzExNjc0ODFjOWNlNDRiYTZiOWI2NDRiNzZhNzJhNGUyID0gTC5wb3B1cCh7bWF4V2lkdGg6ICczMDAnfSk7CgogICAgICAgICAgICAKICAgICAgICAgICAgICAgIHZhciBodG1sX2M4ZGFhYjljODJmMTQxM2Y4ZTZhNTY3MDAyZDM5NmQyID0gJCgnPGRpdiBpZD0iaHRtbF9jOGRhYWI5YzgyZjE0MTNmOGU2YTU2NzAwMmQzOTZkMiIgc3R5bGU9IndpZHRoOiAxMDAuMCU7IGhlaWdodDogMTAwLjAlOyI+Mjg8L2Rpdj4nKVswXTsKICAgICAgICAgICAgICAgIHBvcHVwXzExNjc0ODFjOWNlNDRiYTZiOWI2NDRiNzZhNzJhNGUyLnNldENvbnRlbnQoaHRtbF9jOGRhYWI5YzgyZjE0MTNmOGU2YTU2NzAwMmQzOTZkMik7CiAgICAgICAgICAgIAoKICAgICAgICAgICAgY2lyY2xlX21hcmtlcl8zMjYxNDAxYmMwMTA0MTk4YWI1OTY2M2Y0N2U3MTZmZS5iaW5kUG9wdXAocG9wdXBfMTE2NzQ4MWM5Y2U0NGJhNmI5YjY0NGI3NmE3MmE0ZTIpOwoKICAgICAgICAgICAgCiAgICAgICAgCiAgICAKICAgICAgICAgICAgdmFyIGNpcmNsZV9tYXJrZXJfM2MyM2I4M2MxM2NjNDUwODlkM2Y5ZDBmYjUzM2MwZjIgPSBMLmNpcmNsZU1hcmtlcigKICAgICAgICAgICAgICAgIFs0Ny42NjAwNzc2MTEzODk1MDQsLTEyMi4zNDA2MTA1NDk4MDFdLAogICAgICAgICAgICAgICAgewogICJidWJibGluZ01vdXNlRXZlbnRzIjogdHJ1ZSwKICAiY29sb3IiOiAiYmx1ZSIsCiAgImRhc2hBcnJheSI6IG51bGwsCiAgImRhc2hPZmZzZXQiOiBudWxsLAogICJmaWxsIjogdHJ1ZSwKICAiZmlsbENvbG9yIjogImJsdWUiLAogICJmaWxsT3BhY2l0eSI6IDAuNSwKICAiZmlsbFJ1bGUiOiAiZXZlbm9kZCIsCiAgImxpbmVDYXAiOiAicm91bmQiLAogICJsaW5lSm9pbiI6ICJyb3VuZCIsCiAgIm9wYWNpdHkiOiAxLjAsCiAgInJhZGl1cyI6IDMsCiAgInN0cm9rZSI6IHRydWUsCiAgIndlaWdodCI6IDMKfQogICAgICAgICAgICAgICAgKS5hZGRUbyhtYXBfYjM3N2QwMmVmMGMyNGJmMzk2YWE4MDYzZGVkOTUzZmYpOwogICAgICAgICAgICAKICAgIAogICAgICAgICAgICB2YXIgcG9wdXBfMjU0ZGUyN2RiYTM0NDMwZWJjMzAxMmJlMThiNzFiOWUgPSBMLnBvcHVwKHttYXhXaWR0aDogJzMwMCd9KTsKCiAgICAgICAgICAgIAogICAgICAgICAgICAgICAgdmFyIGh0bWxfOWNhNDg3MGI1NjNkNGZhZWJiYjk0ZTdmN2RjYmY2MTYgPSAkKCc8ZGl2IGlkPSJodG1sXzljYTQ4NzBiNTYzZDRmYWViYmI5NGU3ZjdkY2JmNjE2IiBzdHlsZT0id2lkdGg6IDEwMC4wJTsgaGVpZ2h0OiAxMDAuMCU7Ij4yNDwvZGl2PicpWzBdOwogICAgICAgICAgICAgICAgcG9wdXBfMjU0ZGUyN2RiYTM0NDMwZWJjMzAxMmJlMThiNzFiOWUuc2V0Q29udGVudChodG1sXzljYTQ4NzBiNTYzZDRmYWViYmI5NGU3ZjdkY2JmNjE2KTsKICAgICAgICAgICAgCgogICAgICAgICAgICBjaXJjbGVfbWFya2VyXzNjMjNiODNjMTNjYzQ1MDg5ZDNmOWQwZmI1MzNjMGYyLmJpbmRQb3B1cChwb3B1cF8yNTRkZTI3ZGJhMzQ0MzBlYmMzMDEyYmUxOGI3MWI5ZSk7CgogICAgICAgICAgICAKICAgICAgICAKICAgIAogICAgICAgICAgICB2YXIgY2lyY2xlX21hcmtlcl8zYTc4MTgzYjQyMzE0YWRmYTg5YjI1OGM3YWY2MjIyMyA9IEwuY2lyY2xlTWFya2VyKAogICAgICAgICAgICAgICAgWzQ3LjYxMjg4MDk0MzMzMTMsLTEyMi4zNDc0OTk2ODYwNTZdLAogICAgICAgICAgICAgICAgewogICJidWJibGluZ01vdXNlRXZlbnRzIjogdHJ1ZSwKICAiY29sb3IiOiAiYmx1ZSIsCiAgImRhc2hBcnJheSI6IG51bGwsCiAgImRhc2hPZmZzZXQiOiBudWxsLAogICJmaWxsIjogdHJ1ZSwKICAiZmlsbENvbG9yIjogImJsdWUiLAogICJmaWxsT3BhY2l0eSI6IDAuNSwKICAiZmlsbFJ1bGUiOiAiZXZlbm9kZCIsCiAgImxpbmVDYXAiOiAicm91bmQiLAogICJsaW5lSm9pbiI6ICJyb3VuZCIsCiAgIm9wYWNpdHkiOiAxLjAsCiAgInJhZGl1cyI6IDMsCiAgInN0cm9rZSI6IHRydWUsCiAgIndlaWdodCI6IDMKfQogICAgICAgICAgICAgICAgKS5hZGRUbyhtYXBfYjM3N2QwMmVmMGMyNGJmMzk2YWE4MDYzZGVkOTUzZmYpOwogICAgICAgICAgICAKICAgIAogICAgICAgICAgICB2YXIgcG9wdXBfMzAyNmM3NjJiODQzNDkzYmEzMTM1OGI4OTVmODg3ZDAgPSBMLnBvcHVwKHttYXhXaWR0aDogJzMwMCd9KTsKCiAgICAgICAgICAgIAogICAgICAgICAgICAgICAgdmFyIGh0bWxfMTMzZGQzYThlNDJjNDRhM2E2MjcwNmQ1NmExNjIxNjQgPSAkKCc8ZGl2IGlkPSJodG1sXzEzM2RkM2E4ZTQyYzQ0YTNhNjI3MDZkNTZhMTYyMTY0IiBzdHlsZT0id2lkdGg6IDEwMC4wJTsgaGVpZ2h0OiAxMDAuMCU7Ij4zNjwvZGl2PicpWzBdOwogICAgICAgICAgICAgICAgcG9wdXBfMzAyNmM3NjJiODQzNDkzYmEzMTM1OGI4OTVmODg3ZDAuc2V0Q29udGVudChodG1sXzEzM2RkM2E4ZTQyYzQ0YTNhNjI3MDZkNTZhMTYyMTY0KTsKICAgICAgICAgICAgCgogICAgICAgICAgICBjaXJjbGVfbWFya2VyXzNhNzgxODNiNDIzMTRhZGZhODliMjU4YzdhZjYyMjIzLmJpbmRQb3B1cChwb3B1cF8zMDI2Yzc2MmI4NDM0OTNiYTMxMzU4Yjg5NWY4ODdkMCk7CgogICAgICAgICAgICAKICAgICAgICAKICAgIAogICAgICAgICAgICB2YXIgY2lyY2xlX21hcmtlcl80YjcwNGVmYjYxOGM0YmU4OGU4ZjAyYmIxYmFmNGVmNyA9IEwuY2lyY2xlTWFya2VyKAogICAgICAgICAgICAgICAgWzQ3LjY5NjQ2NzU4ODEzMTcsLTEyMi4zNzY5MDQ2MjQyNDVdLAogICAgICAgICAgICAgICAgewogICJidWJibGluZ01vdXNlRXZlbnRzIjogdHJ1ZSwKICAiY29sb3IiOiAiYmx1ZSIsCiAgImRhc2hBcnJheSI6IG51bGwsCiAgImRhc2hPZmZzZXQiOiBudWxsLAogICJmaWxsIjogdHJ1ZSwKICAiZmlsbENvbG9yIjogImJsdWUiLAogICJmaWxsT3BhY2l0eSI6IDAuNSwKICAiZmlsbFJ1bGUiOiAiZXZlbm9kZCIsCiAgImxpbmVDYXAiOiAicm91bmQiLAogICJsaW5lSm9pbiI6ICJyb3VuZCIsCiAgIm9wYWNpdHkiOiAxLjAsCiAgInJhZGl1cyI6IDMsCiAgInN0cm9rZSI6IHRydWUsCiAgIndlaWdodCI6IDMKfQogICAgICAgICAgICAgICAgKS5hZGRUbyhtYXBfYjM3N2QwMmVmMGMyNGJmMzk2YWE4MDYzZGVkOTUzZmYpOwogICAgICAgICAgICAKICAgIAogICAgICAgICAgICB2YXIgcG9wdXBfYmIwNWIzYjI5ZmRkNGU3ZmFhOTBmNTc5NGI2YmU5ZjEgPSBMLnBvcHVwKHttYXhXaWR0aDogJzMwMCd9KTsKCiAgICAgICAgICAgIAogICAgICAgICAgICAgICAgdmFyIGh0bWxfMGZiNDUyNzZhOTJlNDI2MWI3ZTRmMTRjODYzOGFkMzEgPSAkKCc8ZGl2IGlkPSJodG1sXzBmYjQ1Mjc2YTkyZTQyNjFiN2U0ZjE0Yzg2MzhhZDMxIiBzdHlsZT0id2lkdGg6IDEwMC4wJTsgaGVpZ2h0OiAxMDAuMCU7Ij4yNDwvZGl2PicpWzBdOwogICAgICAgICAgICAgICAgcG9wdXBfYmIwNWIzYjI5ZmRkNGU3ZmFhOTBmNTc5NGI2YmU5ZjEuc2V0Q29udGVudChodG1sXzBmYjQ1Mjc2YTkyZTQyNjFiN2U0ZjE0Yzg2MzhhZDMxKTsKICAgICAgICAgICAgCgogICAgICAgICAgICBjaXJjbGVfbWFya2VyXzRiNzA0ZWZiNjE4YzRiZTg4ZThmMDJiYjFiYWY0ZWY3LmJpbmRQb3B1cChwb3B1cF9iYjA1YjNiMjlmZGQ0ZTdmYWE5MGY1Nzk0YjZiZTlmMSk7CgogICAgICAgICAgICAKICAgICAgICAKICAgIAogICAgICAgICAgICB2YXIgY2lyY2xlX21hcmtlcl8xZDgwYjZmY2ZhMTc0MWYzYWRhYTgxNDhmMDRmNDk5NyA9IEwuY2lyY2xlTWFya2VyKAogICAgICAgICAgICAgICAgWzQ3LjYxODY4OTUyMTc5NTksLTEyMi4zMjA5OTk3NzA4MjE5OF0sCiAgICAgICAgICAgICAgICB7CiAgImJ1YmJsaW5nTW91c2VFdmVudHMiOiB0cnVlLAogICJjb2xvciI6ICJibHVlIiwKICAiZGFzaEFycmF5IjogbnVsbCwKICAiZGFzaE9mZnNldCI6IG51bGwsCiAgImZpbGwiOiB0cnVlLAogICJmaWxsQ29sb3IiOiAiYmx1ZSIsCiAgImZpbGxPcGFjaXR5IjogMC41LAogICJmaWxsUnVsZSI6ICJldmVub2RkIiwKICAibGluZUNhcCI6ICJyb3VuZCIsCiAgImxpbmVKb2luIjogInJvdW5kIiwKICAib3BhY2l0eSI6IDEuMCwKICAicmFkaXVzIjogMywKICAic3Ryb2tlIjogdHJ1ZSwKICAid2VpZ2h0IjogMwp9CiAgICAgICAgICAgICAgICApLmFkZFRvKG1hcF9iMzc3ZDAyZWYwYzI0YmYzOTZhYTgwNjNkZWQ5NTNmZik7CiAgICAgICAgICAgIAogICAgCiAgICAgICAgICAgIHZhciBwb3B1cF84YjY3ZTlmMGI4MjU0ZmUwYjg0ZGQ2NTk0MGQyNGQ3NCA9IEwucG9wdXAoe21heFdpZHRoOiAnMzAwJ30pOwoKICAgICAgICAgICAgCiAgICAgICAgICAgICAgICB2YXIgaHRtbF85NmNjMTczNGJiOWE0MGY0YWY2MzE3Zjk3NWE5YWMwMSA9ICQoJzxkaXYgaWQ9Imh0bWxfOTZjYzE3MzRiYjlhNDBmNGFmNjMxN2Y5NzVhOWFjMDEiIHN0eWxlPSJ3aWR0aDogMTAwLjAlOyBoZWlnaHQ6IDEwMC4wJTsiPjE4PC9kaXY+JylbMF07CiAgICAgICAgICAgICAgICBwb3B1cF84YjY3ZTlmMGI4MjU0ZmUwYjg0ZGQ2NTk0MGQyNGQ3NC5zZXRDb250ZW50KGh0bWxfOTZjYzE3MzRiYjlhNDBmNGFmNjMxN2Y5NzVhOWFjMDEpOwogICAgICAgICAgICAKCiAgICAgICAgICAgIGNpcmNsZV9tYXJrZXJfMWQ4MGI2ZmNmYTE3NDFmM2FkYWE4MTQ4ZjA0ZjQ5OTcuYmluZFBvcHVwKHBvcHVwXzhiNjdlOWYwYjgyNTRmZTBiODRkZDY1OTQwZDI0ZDc0KTsKCiAgICAgICAgICAgIAogICAgICAgIAogICAgCiAgICAgICAgICAgIHZhciBjaXJjbGVfbWFya2VyXzMxZTNmZjMwNTljOTQ0YTBhNmNjMDRiZjQyYzMxYWQ3ID0gTC5jaXJjbGVNYXJrZXIoCiAgICAgICAgICAgICAgICBbNDcuNjE3OTA0NDYwNzI0MiwtMTIyLjMzMzYwOTUzNzU4MDAyXSwKICAgICAgICAgICAgICAgIHsKICAiYnViYmxpbmdNb3VzZUV2ZW50cyI6IHRydWUsCiAgImNvbG9yIjogImJsdWUiLAogICJkYXNoQXJyYXkiOiBudWxsLAogICJkYXNoT2Zmc2V0IjogbnVsbCwKICAiZmlsbCI6IHRydWUsCiAgImZpbGxDb2xvciI6ICJibHVlIiwKICAiZmlsbE9wYWNpdHkiOiAwLjUsCiAgImZpbGxSdWxlIjogImV2ZW5vZGQiLAogICJsaW5lQ2FwIjogInJvdW5kIiwKICAibGluZUpvaW4iOiAicm91bmQiLAogICJvcGFjaXR5IjogMS4wLAogICJyYWRpdXMiOiAzLAogICJzdHJva2UiOiB0cnVlLAogICJ3ZWlnaHQiOiAzCn0KICAgICAgICAgICAgICAgICkuYWRkVG8obWFwX2IzNzdkMDJlZjBjMjRiZjM5NmFhODA2M2RlZDk1M2ZmKTsKICAgICAgICAgICAgCiAgICAKICAgICAgICAgICAgdmFyIHBvcHVwXzdlMjk5NTA4N2U3YjQzNjk4NGQ0OTFjNTMwNmFmZmViID0gTC5wb3B1cCh7bWF4V2lkdGg6ICczMDAnfSk7CgogICAgICAgICAgICAKICAgICAgICAgICAgICAgIHZhciBodG1sXzcxOWVlZWY1NDhiNDRmNzlhZWJhMjFmMTk4YmRlOTVhID0gJCgnPGRpdiBpZD0iaHRtbF83MTllZWVmNTQ4YjQ0Zjc5YWViYTIxZjE5OGJkZTk1YSIgc3R5bGU9IndpZHRoOiAxMDAuMCU7IGhlaWdodDogMTAwLjAlOyI+MTY8L2Rpdj4nKVswXTsKICAgICAgICAgICAgICAgIHBvcHVwXzdlMjk5NTA4N2U3YjQzNjk4NGQ0OTFjNTMwNmFmZmViLnNldENvbnRlbnQoaHRtbF83MTllZWVmNTQ4YjQ0Zjc5YWViYTIxZjE5OGJkZTk1YSk7CiAgICAgICAgICAgIAoKICAgICAgICAgICAgY2lyY2xlX21hcmtlcl8zMWUzZmYzMDU5Yzk0NGEwYTZjYzA0YmY0MmMzMWFkNy5iaW5kUG9wdXAocG9wdXBfN2UyOTk1MDg3ZTdiNDM2OTg0ZDQ5MWM1MzA2YWZmZWIpOwoKICAgICAgICAgICAgCiAgICAgICAgCiAgICAKICAgICAgICAgICAgdmFyIGNpcmNsZV9tYXJrZXJfOGY3NzQyMzc1NTU4NGI0YmExNGE3ZTYzMWY4MTJiNmIgPSBMLmNpcmNsZU1hcmtlcigKICAgICAgICAgICAgICAgIFs0Ny43MDUxMjM3MjY4NTE0LC0xMjIuMjkwOTg1ODk0NzI4XSwKICAgICAgICAgICAgICAgIHsKICAiYnViYmxpbmdNb3VzZUV2ZW50cyI6IHRydWUsCiAgImNvbG9yIjogImJsdWUiLAogICJkYXNoQXJyYXkiOiBudWxsLAogICJkYXNoT2Zmc2V0IjogbnVsbCwKICAiZmlsbCI6IHRydWUsCiAgImZpbGxDb2xvciI6ICJibHVlIiwKICAiZmlsbE9wYWNpdHkiOiAwLjUsCiAgImZpbGxSdWxlIjogImV2ZW5vZGQiLAogICJsaW5lQ2FwIjogInJvdW5kIiwKICAibGluZUpvaW4iOiAicm91bmQiLAogICJvcGFjaXR5IjogMS4wLAogICJyYWRpdXMiOiAzLAogICJzdHJva2UiOiB0cnVlLAogICJ3ZWlnaHQiOiAzCn0KICAgICAgICAgICAgICAgICkuYWRkVG8obWFwX2IzNzdkMDJlZjBjMjRiZjM5NmFhODA2M2RlZDk1M2ZmKTsKICAgICAgICAgICAgCiAgICAKICAgICAgICAgICAgdmFyIHBvcHVwXzAyNWUwZjEzOGJiMzRiYzU5MDRlNTJhYjBlNmNjZDU0ID0gTC5wb3B1cCh7bWF4V2lkdGg6ICczMDAnfSk7CgogICAgICAgICAgICAKICAgICAgICAgICAgICAgIHZhciBodG1sX2Q3MGNhZGNlM2Q3ODQwY2E4YzlkYmQ1NTI5MTkyNzA0ID0gJCgnPGRpdiBpZD0iaHRtbF9kNzBjYWRjZTNkNzg0MGNhOGM5ZGJkNTUyOTE5MjcwNCIgc3R5bGU9IndpZHRoOiAxMDAuMCU7IGhlaWdodDogMTAwLjAlOyI+MTY8L2Rpdj4nKVswXTsKICAgICAgICAgICAgICAgIHBvcHVwXzAyNWUwZjEzOGJiMzRiYzU5MDRlNTJhYjBlNmNjZDU0LnNldENvbnRlbnQoaHRtbF9kNzBjYWRjZTNkNzg0MGNhOGM5ZGJkNTUyOTE5MjcwNCk7CiAgICAgICAgICAgIAoKICAgICAgICAgICAgY2lyY2xlX21hcmtlcl84Zjc3NDIzNzU1NTg0YjRiYTE0YTdlNjMxZjgxMmI2Yi5iaW5kUG9wdXAocG9wdXBfMDI1ZTBmMTM4YmIzNGJjNTkwNGU1MmFiMGU2Y2NkNTQpOwoKICAgICAgICAgICAgCiAgICAgICAgCjwvc2NyaXB0Pg==\" style=\"position:absolute;width:100%;height:100%;left:0;top:0;border:none !important;\" allowfullscreen webkitallowfullscreen mozallowfullscreen></iframe></div></div>"
      ],
      "text/plain": [
       "<folium.folium.Map at 0x121437eb8>"
      ]
     },
     "execution_count": 38,
     "metadata": {},
     "output_type": "execute_result"
    }
   ],
   "source": [
    "# #Generate map centered around address\n",
    "seattle_map = folium.Map(location=[sea_latitude, sea_longitude], zoom_start=13)\n",
    "\n",
    "#blue markers for bikeracks\n",
    "for lat, lng, label in zip(huge_bikeracks['SHAPE_LAT'], huge_bikeracks['SHAPE_LNG'], huge_bikeracks['RACK_CAPACITY'].apply(str)):\n",
    "    folium.features.CircleMarker(\n",
    "        [lat, lng],\n",
    "        radius = 3,\n",
    "        color='blue',\n",
    "        popup=label,\n",
    "        fill=True,\n",
    "        fill_color='blue',\n",
    "        fill_opacity=0.5\n",
    "    ).add_to(seattle_map)\n",
    "    \n",
    "seattle_map"
   ]
  },
  {
   "cell_type": "markdown",
   "metadata": {},
   "source": [
    "Outside of Seattle downtown, all the big capacity bike racks are located at schools or public parks!"
   ]
  },
  {
   "cell_type": "markdown",
   "metadata": {},
   "source": [
    "### Marked Crosswalks\n",
    "\n",
    "Looking at where the marked crosswalks are compared to where pedestrian vs vehicle collisions happen give us some insights as to if people are more likely to get in an accident when jaywalking."
   ]
  },
  {
   "cell_type": "code",
   "execution_count": 6,
   "metadata": {},
   "outputs": [
    {
     "data": {
      "text/html": [
       "<div>\n",
       "<style scoped>\n",
       "    .dataframe tbody tr th:only-of-type {\n",
       "        vertical-align: middle;\n",
       "    }\n",
       "\n",
       "    .dataframe tbody tr th {\n",
       "        vertical-align: top;\n",
       "    }\n",
       "\n",
       "    .dataframe thead th {\n",
       "        text-align: right;\n",
       "    }\n",
       "</style>\n",
       "<table border=\"1\" class=\"dataframe\">\n",
       "  <thead>\n",
       "    <tr style=\"text-align: right;\">\n",
       "      <th></th>\n",
       "      <th>X</th>\n",
       "      <th>Y</th>\n",
       "      <th>OBJECTID</th>\n",
       "      <th>COMPKEY</th>\n",
       "      <th>UNITID</th>\n",
       "      <th>UNITDESC</th>\n",
       "      <th>CONDITION</th>\n",
       "      <th>CONDITION_ASSESSMENT_DATE</th>\n",
       "      <th>OWNERSHIP</th>\n",
       "      <th>CURRENT_STATUS</th>\n",
       "      <th>PRIMARYDISTRICTCD</th>\n",
       "      <th>SECONDARYDISTRICTCD</th>\n",
       "      <th>OVERRIDEYN</th>\n",
       "      <th>COMPTYPE</th>\n",
       "      <th>SEGKEY</th>\n",
       "      <th>UNITTYPE</th>\n",
       "      <th>OLD_ID</th>\n",
       "      <th>APPROACH</th>\n",
       "      <th>MARKING_TYPE</th>\n",
       "      <th>SCHOOL</th>\n",
       "      <th>MIDBLOCK_CROSSWALK</th>\n",
       "      <th>INSTALL_DATE</th>\n",
       "      <th>COLOR</th>\n",
       "      <th>COMMENTS</th>\n",
       "      <th>CATEGORY</th>\n",
       "      <th>OWNERSHIP_DATE</th>\n",
       "      <th>CURRENT_STATUS_DATE</th>\n",
       "      <th>MAINTAINED_BY</th>\n",
       "      <th>MAINTENANCE_AGREEMENT</th>\n",
       "      <th>CURBSPACEID</th>\n",
       "      <th>MAINT_DISTRICT</th>\n",
       "      <th>OVERRIDECOMMENT</th>\n",
       "      <th>SHAPE_LNG</th>\n",
       "      <th>SHAPE_LAT</th>\n",
       "      <th>CROSSWALK_CONTROL</th>\n",
       "      <th>MATERIAL</th>\n",
       "      <th>ONSTREET</th>\n",
       "      <th>XSTRLOW</th>\n",
       "      <th>MEAS_FROM_LOW</th>\n",
       "      <th>DISTTOLOW</th>\n",
       "      <th>STPOINT</th>\n",
       "      <th>XSTRHI</th>\n",
       "      <th>MEAS_FROM_HI</th>\n",
       "      <th>DISTTOHI</th>\n",
       "      <th>OFFSET</th>\n",
       "      <th>SIDE</th>\n",
       "      <th>MEASUREMENT_ORIGIN</th>\n",
       "      <th>ATTACHMENT_1</th>\n",
       "      <th>ATTACHMENT_2</th>\n",
       "      <th>ATTACHMENT_3</th>\n",
       "      <th>ATTACHMENT_4</th>\n",
       "      <th>ATTACHMENT_5</th>\n",
       "      <th>ATTACHMENT_6</th>\n",
       "      <th>ATTACHMENT_7</th>\n",
       "      <th>ATTACHMENT_8</th>\n",
       "      <th>ATTACHMENT_9</th>\n",
       "      <th>MAINTENANCE_GROUP</th>\n",
       "      <th>NUM_ATTACHMENTS</th>\n",
       "    </tr>\n",
       "  </thead>\n",
       "  <tbody>\n",
       "    <tr>\n",
       "      <th>0</th>\n",
       "      <td>1.269560e+06</td>\n",
       "      <td>223140.574842</td>\n",
       "      <td>1</td>\n",
       "      <td>522399</td>\n",
       "      <td>XWK-3325</td>\n",
       "      <td>ALASKAN WAY 0060 BLOCK C SIDE (  35) 35 FT NW/...</td>\n",
       "      <td>GOOD</td>\n",
       "      <td>2012/09/30 00:00:00+00</td>\n",
       "      <td></td>\n",
       "      <td>INSVC</td>\n",
       "      <td>DISTRICT7</td>\n",
       "      <td></td>\n",
       "      <td>N</td>\n",
       "      <td>16</td>\n",
       "      <td>8717</td>\n",
       "      <td>XWK</td>\n",
       "      <td>Old ID # 758</td>\n",
       "      <td>NW</td>\n",
       "      <td>LADER</td>\n",
       "      <td>N</td>\n",
       "      <td>N</td>\n",
       "      <td>1970/01/01 00:00:00+00</td>\n",
       "      <td>WHT</td>\n",
       "      <td>ALASKAN WAY &amp; YESLER WAY, N</td>\n",
       "      <td>XWK</td>\n",
       "      <td>1970/01/01 00:00:00+00</td>\n",
       "      <td>2009/01/22 00:00:00+00</td>\n",
       "      <td></td>\n",
       "      <td>NaN</td>\n",
       "      <td>NaN</td>\n",
       "      <td>CENTRAL</td>\n",
       "      <td>NaN</td>\n",
       "      <td>-122.336656</td>\n",
       "      <td>47.601800</td>\n",
       "      <td></td>\n",
       "      <td>THRPL</td>\n",
       "      <td>ALASKAN WAY</td>\n",
       "      <td>YESLER WAY</td>\n",
       "      <td>Y</td>\n",
       "      <td>35</td>\n",
       "      <td>0</td>\n",
       "      <td>COLUMBIA ST</td>\n",
       "      <td>N</td>\n",
       "      <td>234</td>\n",
       "      <td>0</td>\n",
       "      <td>C</td>\n",
       "      <td>XStreet Centerline</td>\n",
       "      <td>NaN</td>\n",
       "      <td>NaN</td>\n",
       "      <td>NaN</td>\n",
       "      <td>NaN</td>\n",
       "      <td>NaN</td>\n",
       "      <td>NaN</td>\n",
       "      <td>NaN</td>\n",
       "      <td>NaN</td>\n",
       "      <td>NaN</td>\n",
       "      <td>XWK-CD7-YEAR4</td>\n",
       "      <td>0</td>\n",
       "    </tr>\n",
       "    <tr>\n",
       "      <th>1</th>\n",
       "      <td>1.283979e+06</td>\n",
       "      <td>201215.071449</td>\n",
       "      <td>2</td>\n",
       "      <td>525064</td>\n",
       "      <td>XWK-3029</td>\n",
       "      <td>S HOLLY ST 0440 BLOCK C SIDE ( 385) 20 FT W/O ...</td>\n",
       "      <td>GOOD</td>\n",
       "      <td>2013/08/26 00:00:00+00</td>\n",
       "      <td></td>\n",
       "      <td>INSVC</td>\n",
       "      <td>DISTRICT2</td>\n",
       "      <td></td>\n",
       "      <td>N</td>\n",
       "      <td>16</td>\n",
       "      <td>20363</td>\n",
       "      <td>XWK</td>\n",
       "      <td>Old ID # 662</td>\n",
       "      <td>W</td>\n",
       "      <td>LADER</td>\n",
       "      <td>Y</td>\n",
       "      <td>N</td>\n",
       "      <td>1970/01/01 00:00:00+00</td>\n",
       "      <td>WHT</td>\n",
       "      <td>WI #13959 8/27/98 &lt;br&gt; School # 8&lt;br&gt;45 AVE S ...</td>\n",
       "      <td>XWK</td>\n",
       "      <td>1970/01/01 00:00:00+00</td>\n",
       "      <td>2008/11/14 00:00:00+00</td>\n",
       "      <td></td>\n",
       "      <td>NaN</td>\n",
       "      <td>NaN</td>\n",
       "      <td>SOUTH</td>\n",
       "      <td>NaN</td>\n",
       "      <td>-122.276553</td>\n",
       "      <td>47.542459</td>\n",
       "      <td></td>\n",
       "      <td>THRPL</td>\n",
       "      <td>S HOLLY ST</td>\n",
       "      <td>44TH AVE S</td>\n",
       "      <td>N</td>\n",
       "      <td>385</td>\n",
       "      <td>0</td>\n",
       "      <td>45TH AVE S</td>\n",
       "      <td>Y</td>\n",
       "      <td>20</td>\n",
       "      <td>0</td>\n",
       "      <td>C</td>\n",
       "      <td>XStreet Centerline</td>\n",
       "      <td>NaN</td>\n",
       "      <td>NaN</td>\n",
       "      <td>NaN</td>\n",
       "      <td>NaN</td>\n",
       "      <td>NaN</td>\n",
       "      <td>NaN</td>\n",
       "      <td>NaN</td>\n",
       "      <td>NaN</td>\n",
       "      <td>NaN</td>\n",
       "      <td>XWK-CD2-YEAR4</td>\n",
       "      <td>0</td>\n",
       "    </tr>\n",
       "    <tr>\n",
       "      <th>2</th>\n",
       "      <td>1.268498e+06</td>\n",
       "      <td>242364.672876</td>\n",
       "      <td>3</td>\n",
       "      <td>523429</td>\n",
       "      <td>XWK-416</td>\n",
       "      <td>STONE WAY N 0390 BLOCK C SIDE ( 115) 115 FT N/...</td>\n",
       "      <td>GOOD</td>\n",
       "      <td>2017/06/29 00:00:00+00</td>\n",
       "      <td>SDOT</td>\n",
       "      <td>INSVC</td>\n",
       "      <td>DISTRICT4</td>\n",
       "      <td></td>\n",
       "      <td>N</td>\n",
       "      <td>16</td>\n",
       "      <td>12959</td>\n",
       "      <td>XWK</td>\n",
       "      <td>Old ID # 485</td>\n",
       "      <td>S</td>\n",
       "      <td>LADER</td>\n",
       "      <td>N</td>\n",
       "      <td>N</td>\n",
       "      <td>1970/01/01 00:00:00+00</td>\n",
       "      <td>WHT</td>\n",
       "      <td>&lt;p&gt;WI #18482 &lt;br&gt;STONE WAY N &amp;amp; BRIDGE WAY ...</td>\n",
       "      <td>XWK</td>\n",
       "      <td>1970/01/01 00:00:00+00</td>\n",
       "      <td>2009/02/10 00:00:00+00</td>\n",
       "      <td>SDOT</td>\n",
       "      <td>NaN</td>\n",
       "      <td>NaN</td>\n",
       "      <td>NORTH</td>\n",
       "      <td>NaN</td>\n",
       "      <td>-122.342486</td>\n",
       "      <td>47.654435</td>\n",
       "      <td>SIGNAL</td>\n",
       "      <td>THRPL</td>\n",
       "      <td>STONE WAY N</td>\n",
       "      <td>N 39TH ST</td>\n",
       "      <td>Y</td>\n",
       "      <td>115</td>\n",
       "      <td>0</td>\n",
       "      <td>BRIDGE WAY N</td>\n",
       "      <td>N</td>\n",
       "      <td>83</td>\n",
       "      <td>0</td>\n",
       "      <td>C</td>\n",
       "      <td>XStreet Centerline</td>\n",
       "      <td>NaN</td>\n",
       "      <td>NaN</td>\n",
       "      <td>NaN</td>\n",
       "      <td>NaN</td>\n",
       "      <td>NaN</td>\n",
       "      <td>NaN</td>\n",
       "      <td>NaN</td>\n",
       "      <td>NaN</td>\n",
       "      <td>NaN</td>\n",
       "      <td>XWK-CD4-YEAR1</td>\n",
       "      <td>0</td>\n",
       "    </tr>\n",
       "    <tr>\n",
       "      <th>3</th>\n",
       "      <td>1.259573e+06</td>\n",
       "      <td>211119.144160</td>\n",
       "      <td>4</td>\n",
       "      <td>521447</td>\n",
       "      <td>XWK-2387</td>\n",
       "      <td>35TH AVE SW 0390 BLOCK C SIDE (  18) 18 FT S/O...</td>\n",
       "      <td>GOOD</td>\n",
       "      <td>2019/07/23 00:00:00+00</td>\n",
       "      <td>SDOT</td>\n",
       "      <td>INSVC</td>\n",
       "      <td>DISTRICT1</td>\n",
       "      <td></td>\n",
       "      <td>N</td>\n",
       "      <td>16</td>\n",
       "      <td>5446</td>\n",
       "      <td>XWK</td>\n",
       "      <td>Old ID # 162</td>\n",
       "      <td>S</td>\n",
       "      <td>LADER</td>\n",
       "      <td>Y</td>\n",
       "      <td>N</td>\n",
       "      <td>1970/01/01 00:00:00+00</td>\n",
       "      <td>WHT</td>\n",
       "      <td>School # 74&lt;br&gt;35 AVE SW &amp; SW ANDOVER ST (W L...</td>\n",
       "      <td>XWK</td>\n",
       "      <td>1970/01/01 00:00:00+00</td>\n",
       "      <td>2009/01/06 00:00:00+00</td>\n",
       "      <td></td>\n",
       "      <td>NaN</td>\n",
       "      <td>NaN</td>\n",
       "      <td>SOUTH</td>\n",
       "      <td>NaN</td>\n",
       "      <td>-122.376151</td>\n",
       "      <td>47.568308</td>\n",
       "      <td></td>\n",
       "      <td>THRPL</td>\n",
       "      <td>35TH AVE SW</td>\n",
       "      <td>SW ANDOVER N ST</td>\n",
       "      <td>Y</td>\n",
       "      <td>18</td>\n",
       "      <td>0</td>\n",
       "      <td>SW ANDOVER S ST</td>\n",
       "      <td>N</td>\n",
       "      <td>112</td>\n",
       "      <td>0</td>\n",
       "      <td>C</td>\n",
       "      <td>XStreet Centerline</td>\n",
       "      <td>NaN</td>\n",
       "      <td>NaN</td>\n",
       "      <td>NaN</td>\n",
       "      <td>NaN</td>\n",
       "      <td>NaN</td>\n",
       "      <td>NaN</td>\n",
       "      <td>NaN</td>\n",
       "      <td>NaN</td>\n",
       "      <td>NaN</td>\n",
       "      <td>XWK-CD1-YEAR3</td>\n",
       "      <td>0</td>\n",
       "    </tr>\n",
       "    <tr>\n",
       "      <th>4</th>\n",
       "      <td>1.277718e+06</td>\n",
       "      <td>271174.016176</td>\n",
       "      <td>5</td>\n",
       "      <td>524665</td>\n",
       "      <td>XWK-1892</td>\n",
       "      <td>NE 145TH ST 0200 BLOCK C SIDE (   5) 5 FT E/O ...</td>\n",
       "      <td>GOOD</td>\n",
       "      <td>2012/06/15 00:00:00+00</td>\n",
       "      <td></td>\n",
       "      <td>INSVC</td>\n",
       "      <td>DISTRICT5</td>\n",
       "      <td></td>\n",
       "      <td>N</td>\n",
       "      <td>16</td>\n",
       "      <td>16688</td>\n",
       "      <td>XWK</td>\n",
       "      <td>Old ID # 505</td>\n",
       "      <td>N</td>\n",
       "      <td>LADER</td>\n",
       "      <td>N</td>\n",
       "      <td>N</td>\n",
       "      <td>1970/01/01 00:00:00+00</td>\n",
       "      <td>WHT</td>\n",
       "      <td>WI #18482 &lt;br&gt;City Limits&lt;br&gt;20 AVE NE &amp; NE 14...</td>\n",
       "      <td>XWK</td>\n",
       "      <td>1970/01/01 00:00:00+00</td>\n",
       "      <td>2012/12/13 00:00:00+00</td>\n",
       "      <td></td>\n",
       "      <td>NaN</td>\n",
       "      <td>NaN</td>\n",
       "      <td>NORTH</td>\n",
       "      <td>NaN</td>\n",
       "      <td>-122.307324</td>\n",
       "      <td>47.733890</td>\n",
       "      <td></td>\n",
       "      <td>THRPL</td>\n",
       "      <td>NE 145TH ST</td>\n",
       "      <td>20TH AVE NE</td>\n",
       "      <td>Y</td>\n",
       "      <td>5</td>\n",
       "      <td>0</td>\n",
       "      <td>22ND AVE NE</td>\n",
       "      <td>N</td>\n",
       "      <td>328</td>\n",
       "      <td>0</td>\n",
       "      <td>C</td>\n",
       "      <td>XStreet Centerline</td>\n",
       "      <td>NaN</td>\n",
       "      <td>NaN</td>\n",
       "      <td>NaN</td>\n",
       "      <td>NaN</td>\n",
       "      <td>NaN</td>\n",
       "      <td>NaN</td>\n",
       "      <td>NaN</td>\n",
       "      <td>NaN</td>\n",
       "      <td>NaN</td>\n",
       "      <td>XWK-CD5-YEAR4</td>\n",
       "      <td>0</td>\n",
       "    </tr>\n",
       "  </tbody>\n",
       "</table>\n",
       "</div>"
      ],
      "text/plain": [
       "              X              Y  OBJECTID  COMPKEY    UNITID  \\\n",
       "0  1.269560e+06  223140.574842         1   522399  XWK-3325   \n",
       "1  1.283979e+06  201215.071449         2   525064  XWK-3029   \n",
       "2  1.268498e+06  242364.672876         3   523429   XWK-416   \n",
       "3  1.259573e+06  211119.144160         4   521447  XWK-2387   \n",
       "4  1.277718e+06  271174.016176         5   524665  XWK-1892   \n",
       "\n",
       "                                            UNITDESC CONDITION  \\\n",
       "0  ALASKAN WAY 0060 BLOCK C SIDE (  35) 35 FT NW/...      GOOD   \n",
       "1  S HOLLY ST 0440 BLOCK C SIDE ( 385) 20 FT W/O ...      GOOD   \n",
       "2  STONE WAY N 0390 BLOCK C SIDE ( 115) 115 FT N/...      GOOD   \n",
       "3  35TH AVE SW 0390 BLOCK C SIDE (  18) 18 FT S/O...      GOOD   \n",
       "4  NE 145TH ST 0200 BLOCK C SIDE (   5) 5 FT E/O ...      GOOD   \n",
       "\n",
       "  CONDITION_ASSESSMENT_DATE OWNERSHIP CURRENT_STATUS PRIMARYDISTRICTCD  \\\n",
       "0    2012/09/30 00:00:00+00                    INSVC         DISTRICT7   \n",
       "1    2013/08/26 00:00:00+00                    INSVC         DISTRICT2   \n",
       "2    2017/06/29 00:00:00+00      SDOT          INSVC         DISTRICT4   \n",
       "3    2019/07/23 00:00:00+00      SDOT          INSVC         DISTRICT1   \n",
       "4    2012/06/15 00:00:00+00                    INSVC         DISTRICT5   \n",
       "\n",
       "  SECONDARYDISTRICTCD OVERRIDEYN  COMPTYPE  SEGKEY UNITTYPE        OLD_ID  \\\n",
       "0                              N        16    8717      XWK  Old ID # 758   \n",
       "1                              N        16   20363      XWK  Old ID # 662   \n",
       "2                              N        16   12959      XWK  Old ID # 485   \n",
       "3                              N        16    5446      XWK  Old ID # 162   \n",
       "4                              N        16   16688      XWK  Old ID # 505   \n",
       "\n",
       "  APPROACH MARKING_TYPE SCHOOL MIDBLOCK_CROSSWALK            INSTALL_DATE  \\\n",
       "0       NW        LADER      N                  N  1970/01/01 00:00:00+00   \n",
       "1        W        LADER      Y                  N  1970/01/01 00:00:00+00   \n",
       "2        S        LADER      N                  N  1970/01/01 00:00:00+00   \n",
       "3        S        LADER      Y                  N  1970/01/01 00:00:00+00   \n",
       "4        N        LADER      N                  N  1970/01/01 00:00:00+00   \n",
       "\n",
       "  COLOR                                           COMMENTS CATEGORY  \\\n",
       "0   WHT                        ALASKAN WAY & YESLER WAY, N      XWK   \n",
       "1   WHT  WI #13959 8/27/98 <br> School # 8<br>45 AVE S ...      XWK   \n",
       "2   WHT  <p>WI #18482 <br>STONE WAY N &amp; BRIDGE WAY ...      XWK   \n",
       "3   WHT   School # 74<br>35 AVE SW & SW ANDOVER ST (W L...      XWK   \n",
       "4   WHT  WI #18482 <br>City Limits<br>20 AVE NE & NE 14...      XWK   \n",
       "\n",
       "           OWNERSHIP_DATE     CURRENT_STATUS_DATE MAINTAINED_BY  \\\n",
       "0  1970/01/01 00:00:00+00  2009/01/22 00:00:00+00                 \n",
       "1  1970/01/01 00:00:00+00  2008/11/14 00:00:00+00                 \n",
       "2  1970/01/01 00:00:00+00  2009/02/10 00:00:00+00          SDOT   \n",
       "3  1970/01/01 00:00:00+00  2009/01/06 00:00:00+00                 \n",
       "4  1970/01/01 00:00:00+00  2012/12/13 00:00:00+00                 \n",
       "\n",
       "  MAINTENANCE_AGREEMENT  CURBSPACEID MAINT_DISTRICT  OVERRIDECOMMENT  \\\n",
       "0                   NaN          NaN        CENTRAL              NaN   \n",
       "1                   NaN          NaN          SOUTH              NaN   \n",
       "2                   NaN          NaN          NORTH              NaN   \n",
       "3                   NaN          NaN          SOUTH              NaN   \n",
       "4                   NaN          NaN          NORTH              NaN   \n",
       "\n",
       "    SHAPE_LNG  SHAPE_LAT CROSSWALK_CONTROL MATERIAL     ONSTREET  \\\n",
       "0 -122.336656  47.601800                      THRPL  ALASKAN WAY   \n",
       "1 -122.276553  47.542459                      THRPL   S HOLLY ST   \n",
       "2 -122.342486  47.654435            SIGNAL    THRPL  STONE WAY N   \n",
       "3 -122.376151  47.568308                      THRPL  35TH AVE SW   \n",
       "4 -122.307324  47.733890                      THRPL  NE 145TH ST   \n",
       "\n",
       "           XSTRLOW MEAS_FROM_LOW  DISTTOLOW  STPOINT           XSTRHI  \\\n",
       "0       YESLER WAY             Y         35        0      COLUMBIA ST   \n",
       "1       44TH AVE S             N        385        0       45TH AVE S   \n",
       "2        N 39TH ST             Y        115        0     BRIDGE WAY N   \n",
       "3  SW ANDOVER N ST             Y         18        0  SW ANDOVER S ST   \n",
       "4      20TH AVE NE             Y          5        0      22ND AVE NE   \n",
       "\n",
       "  MEAS_FROM_HI  DISTTOHI  OFFSET SIDE  MEASUREMENT_ORIGIN ATTACHMENT_1  \\\n",
       "0            N       234       0    C  XStreet Centerline          NaN   \n",
       "1            Y        20       0    C  XStreet Centerline          NaN   \n",
       "2            N        83       0    C  XStreet Centerline          NaN   \n",
       "3            N       112       0    C  XStreet Centerline          NaN   \n",
       "4            N       328       0    C  XStreet Centerline          NaN   \n",
       "\n",
       "  ATTACHMENT_2  ATTACHMENT_3  ATTACHMENT_4  ATTACHMENT_5  ATTACHMENT_6  \\\n",
       "0          NaN           NaN           NaN           NaN           NaN   \n",
       "1          NaN           NaN           NaN           NaN           NaN   \n",
       "2          NaN           NaN           NaN           NaN           NaN   \n",
       "3          NaN           NaN           NaN           NaN           NaN   \n",
       "4          NaN           NaN           NaN           NaN           NaN   \n",
       "\n",
       "   ATTACHMENT_7  ATTACHMENT_8  ATTACHMENT_9 MAINTENANCE_GROUP  NUM_ATTACHMENTS  \n",
       "0           NaN           NaN           NaN     XWK-CD7-YEAR4                0  \n",
       "1           NaN           NaN           NaN     XWK-CD2-YEAR4                0  \n",
       "2           NaN           NaN           NaN     XWK-CD4-YEAR1                0  \n",
       "3           NaN           NaN           NaN     XWK-CD1-YEAR3                0  \n",
       "4           NaN           NaN           NaN     XWK-CD5-YEAR4                0  "
      ]
     },
     "execution_count": 6,
     "metadata": {},
     "output_type": "execute_result"
    }
   ],
   "source": [
    "marked_cross = pd.read_csv('../data/Marked_Crosswalks.csv')\n",
    "marked_cross.head()"
   ]
  },
  {
   "cell_type": "code",
   "execution_count": 42,
   "metadata": {},
   "outputs": [
    {
     "data": {
      "text/plain": [
       "(5683, 58)"
      ]
     },
     "execution_count": 42,
     "metadata": {},
     "output_type": "execute_result"
    }
   ],
   "source": [
    "# how many marked crosswalks are there\n",
    "marked_cross.shape"
   ]
  },
  {
   "cell_type": "code",
   "execution_count": 39,
   "metadata": {},
   "outputs": [
    {
     "data": {
      "image/png": "[encoded data removed]",
      "text/plain": [
       "<Figure size 720x360 with 1 Axes>"
      ]
     },
     "metadata": {
      "needs_background": "light"
     },
     "output_type": "display_data"
    }
   ],
   "source": [
    "# Seeing the conditions of the crosswalks\n",
    "\n",
    "fig, ax = plt.subplots(figsize=(10,5))\n",
    "\n",
    "marked_cross['CONDITION'].value_counts().plot(kind='bar')\n",
    "ax.set_title('Conditions of Marked Crosswalks')\n",
    "ax.set_xlabel('Condition')\n",
    "ax.set_ylabel('Number of Marked Crosswalks');"
   ]
  },
  {
   "cell_type": "markdown",
   "metadata": {},
   "source": [
    "### Radar Speed Signs\n",
    "\n",
    "Comparing where there are speed signs to where the collisions are happening is another potential indicator for higher risk collision areas. Maybe people are going slower near the speed signs, decreasing risk of collisions. Or maybe it has the opposite effect. We will be looking into that more later on.  \n",
    "Again, most of the columns will not be useful to us except for its location."
   ]
  },
  {
   "cell_type": "code",
   "execution_count": 43,
   "metadata": {},
   "outputs": [
    {
     "data": {
      "text/html": [
       "<div>\n",
       "<style scoped>\n",
       "    .dataframe tbody tr th:only-of-type {\n",
       "        vertical-align: middle;\n",
       "    }\n",
       "\n",
       "    .dataframe tbody tr th {\n",
       "        vertical-align: top;\n",
       "    }\n",
       "\n",
       "    .dataframe thead th {\n",
       "        text-align: right;\n",
       "    }\n",
       "</style>\n",
       "<table border=\"1\" class=\"dataframe\">\n",
       "  <thead>\n",
       "    <tr style=\"text-align: right;\">\n",
       "      <th></th>\n",
       "      <th>X</th>\n",
       "      <th>Y</th>\n",
       "      <th>OBJECTID</th>\n",
       "      <th>COMPKEY</th>\n",
       "      <th>UNITID</th>\n",
       "      <th>UNITDESC</th>\n",
       "      <th>OWNERSHIP</th>\n",
       "      <th>CONDITION</th>\n",
       "      <th>CURRENT_STATUS</th>\n",
       "      <th>OVERRIDEYN</th>\n",
       "      <th>COMPTYPE</th>\n",
       "      <th>SEGKEY</th>\n",
       "      <th>UNITTYPE</th>\n",
       "      <th>BLUE_TOOTH_ENABLED</th>\n",
       "      <th>DATA_COLLECTION_CAPABILITY</th>\n",
       "      <th>SERVICE_POINT</th>\n",
       "      <th>SOLAR_OPERATED</th>\n",
       "      <th>SIDE</th>\n",
       "      <th>SHAPE_LNG</th>\n",
       "      <th>SHAPE_LAT</th>\n",
       "    </tr>\n",
       "  </thead>\n",
       "  <tbody>\n",
       "    <tr>\n",
       "      <th>0</th>\n",
       "      <td>1.260736e+06</td>\n",
       "      <td>257337.873980</td>\n",
       "      <td>1</td>\n",
       "      <td>508865</td>\n",
       "      <td>RSS-1</td>\n",
       "      <td>HOLMAN RD NW 0907 BLOCK NW SIDE ( 110) 110 FT ...</td>\n",
       "      <td>SDOT</td>\n",
       "      <td>GOOD</td>\n",
       "      <td>INSVC</td>\n",
       "      <td>N</td>\n",
       "      <td>16</td>\n",
       "      <td>10938</td>\n",
       "      <td>RSS</td>\n",
       "      <td>N</td>\n",
       "      <td>N</td>\n",
       "      <td>NaN</td>\n",
       "      <td>Y</td>\n",
       "      <td>NW</td>\n",
       "      <td>-122.375191</td>\n",
       "      <td>47.695054</td>\n",
       "    </tr>\n",
       "    <tr>\n",
       "      <th>1</th>\n",
       "      <td>1.276266e+06</td>\n",
       "      <td>258974.658109</td>\n",
       "      <td>2</td>\n",
       "      <td>535585</td>\n",
       "      <td>RSS-20</td>\n",
       "      <td>15TH AVE NE 0980 BLOCK W SIDE (   0) 0 FT /O N...</td>\n",
       "      <td>SDOT</td>\n",
       "      <td>GOOD</td>\n",
       "      <td>PLANNED</td>\n",
       "      <td>N</td>\n",
       "      <td>16</td>\n",
       "      <td>2072</td>\n",
       "      <td>RSS</td>\n",
       "      <td>Y</td>\n",
       "      <td>Y</td>\n",
       "      <td>NaN</td>\n",
       "      <td>Y</td>\n",
       "      <td>W</td>\n",
       "      <td>-122.312268</td>\n",
       "      <td>47.700376</td>\n",
       "    </tr>\n",
       "    <tr>\n",
       "      <th>2</th>\n",
       "      <td>1.291550e+06</td>\n",
       "      <td>189642.035446</td>\n",
       "      <td>3</td>\n",
       "      <td>702898</td>\n",
       "      <td>RSS-51</td>\n",
       "      <td>RAINIER AVE S 1010 BLOCK N SIDE ( 355) 1069 FT...</td>\n",
       "      <td></td>\n",
       "      <td></td>\n",
       "      <td>INSVC</td>\n",
       "      <td>N</td>\n",
       "      <td>16</td>\n",
       "      <td>12438</td>\n",
       "      <td>RSS</td>\n",
       "      <td>N</td>\n",
       "      <td>N</td>\n",
       "      <td>NaN</td>\n",
       "      <td>Y</td>\n",
       "      <td>N</td>\n",
       "      <td>-122.245047</td>\n",
       "      <td>47.511122</td>\n",
       "    </tr>\n",
       "    <tr>\n",
       "      <th>3</th>\n",
       "      <td>1.282505e+06</td>\n",
       "      <td>244565.359086</td>\n",
       "      <td>4</td>\n",
       "      <td>678320</td>\n",
       "      <td>RSS-49</td>\n",
       "      <td>NE 45TH ST 0380 BLOCK S SIDE ( 315) 235 FT W/O...</td>\n",
       "      <td></td>\n",
       "      <td></td>\n",
       "      <td></td>\n",
       "      <td>N</td>\n",
       "      <td>16</td>\n",
       "      <td>16866</td>\n",
       "      <td>RSS</td>\n",
       "      <td>N</td>\n",
       "      <td>N</td>\n",
       "      <td>NaN</td>\n",
       "      <td>N</td>\n",
       "      <td>S</td>\n",
       "      <td>-122.285830</td>\n",
       "      <td>47.661206</td>\n",
       "    </tr>\n",
       "    <tr>\n",
       "      <th>4</th>\n",
       "      <td>1.262416e+06</td>\n",
       "      <td>209772.973835</td>\n",
       "      <td>5</td>\n",
       "      <td>600918</td>\n",
       "      <td>RSS-36</td>\n",
       "      <td>SW GENESEE ST 0250 BLOCK N SIDE (  10) 10 FT W...</td>\n",
       "      <td></td>\n",
       "      <td></td>\n",
       "      <td>INSVC</td>\n",
       "      <td>N</td>\n",
       "      <td>16</td>\n",
       "      <td>22200</td>\n",
       "      <td>RSS</td>\n",
       "      <td>N</td>\n",
       "      <td>N</td>\n",
       "      <td>NaN</td>\n",
       "      <td>N</td>\n",
       "      <td>N</td>\n",
       "      <td>-122.364529</td>\n",
       "      <td>47.564773</td>\n",
       "    </tr>\n",
       "  </tbody>\n",
       "</table>\n",
       "</div>"
      ],
      "text/plain": [
       "              X              Y  OBJECTID  COMPKEY  UNITID  \\\n",
       "0  1.260736e+06  257337.873980         1   508865   RSS-1   \n",
       "1  1.276266e+06  258974.658109         2   535585  RSS-20   \n",
       "2  1.291550e+06  189642.035446         3   702898  RSS-51   \n",
       "3  1.282505e+06  244565.359086         4   678320  RSS-49   \n",
       "4  1.262416e+06  209772.973835         5   600918  RSS-36   \n",
       "\n",
       "                                            UNITDESC OWNERSHIP CONDITION  \\\n",
       "0  HOLMAN RD NW 0907 BLOCK NW SIDE ( 110) 110 FT ...      SDOT      GOOD   \n",
       "1  15TH AVE NE 0980 BLOCK W SIDE (   0) 0 FT /O N...      SDOT      GOOD   \n",
       "2  RAINIER AVE S 1010 BLOCK N SIDE ( 355) 1069 FT...                       \n",
       "3  NE 45TH ST 0380 BLOCK S SIDE ( 315) 235 FT W/O...                       \n",
       "4  SW GENESEE ST 0250 BLOCK N SIDE (  10) 10 FT W...                       \n",
       "\n",
       "  CURRENT_STATUS OVERRIDEYN  COMPTYPE  SEGKEY UNITTYPE BLUE_TOOTH_ENABLED  \\\n",
       "0          INSVC          N        16   10938      RSS                  N   \n",
       "1        PLANNED          N        16    2072      RSS                  Y   \n",
       "2          INSVC          N        16   12438      RSS                  N   \n",
       "3                         N        16   16866      RSS                  N   \n",
       "4          INSVC          N        16   22200      RSS                  N   \n",
       "\n",
       "  DATA_COLLECTION_CAPABILITY SERVICE_POINT SOLAR_OPERATED SIDE   SHAPE_LNG  \\\n",
       "0                          N           NaN              Y   NW -122.375191   \n",
       "1                          Y           NaN              Y    W -122.312268   \n",
       "2                          N           NaN              Y    N -122.245047   \n",
       "3                          N           NaN              N    S -122.285830   \n",
       "4                          N           NaN              N    N -122.364529   \n",
       "\n",
       "   SHAPE_LAT  \n",
       "0  47.695054  \n",
       "1  47.700376  \n",
       "2  47.511122  \n",
       "3  47.661206  \n",
       "4  47.564773  "
      ]
     },
     "execution_count": 43,
     "metadata": {},
     "output_type": "execute_result"
    }
   ],
   "source": [
    "radar = pd.read_csv('../data/Radar_Speed_Signs.csv')\n",
    "radar.head()"
   ]
  },
  {
   "cell_type": "code",
   "execution_count": 53,
   "metadata": {},
   "outputs": [
    {
     "data": {
      "text/plain": [
       "<folium.features.CircleMarker at 0x123d1c0f0>"
      ]
     },
     "execution_count": 53,
     "metadata": {},
     "output_type": "execute_result"
    },
    {
     "data": {
      "text/plain": [
       "<folium.features.CircleMarker at 0x123d1c390>"
      ]
     },
     "execution_count": 53,
     "metadata": {},
     "output_type": "execute_result"
    },
    {
     "data": {
      "text/plain": [
       "<folium.features.CircleMarker at 0x123d1cc50>"
      ]
     },
     "execution_count": 53,
     "metadata": {},
     "output_type": "execute_result"
    },
    {
     "data": {
      "text/plain": [
       "<folium.features.CircleMarker at 0x123cef828>"
      ]
     },
     "execution_count": 53,
     "metadata": {},
     "output_type": "execute_result"
    },
    {
     "data": {
      "text/plain": [
       "<folium.features.CircleMarker at 0x123cefb00>"
      ]
     },
     "execution_count": 53,
     "metadata": {},
     "output_type": "execute_result"
    },
    {
     "data": {
      "text/plain": [
       "<folium.features.CircleMarker at 0x123d1cd30>"
      ]
     },
     "execution_count": 53,
     "metadata": {},
     "output_type": "execute_result"
    },
    {
     "data": {
      "text/plain": [
       "<folium.features.CircleMarker at 0x123cefd68>"
      ]
     },
     "execution_count": 53,
     "metadata": {},
     "output_type": "execute_result"
    },
    {
     "data": {
      "text/plain": [
       "<folium.features.CircleMarker at 0x123d12400>"
      ]
     },
     "execution_count": 53,
     "metadata": {},
     "output_type": "execute_result"
    },
    {
     "data": {
      "text/plain": [
       "<folium.features.CircleMarker at 0x123d1c048>"
      ]
     },
     "execution_count": 53,
     "metadata": {},
     "output_type": "execute_result"
    },
    {
     "data": {
      "text/plain": [
       "<folium.features.CircleMarker at 0x123ceff98>"
      ]
     },
     "execution_count": 53,
     "metadata": {},
     "output_type": "execute_result"
    },
    {
     "data": {
      "text/plain": [
       "<folium.features.CircleMarker at 0x123d1c978>"
      ]
     },
     "execution_count": 53,
     "metadata": {},
     "output_type": "execute_result"
    },
    {
     "data": {
      "text/plain": [
       "<folium.features.CircleMarker at 0x123d12978>"
      ]
     },
     "execution_count": 53,
     "metadata": {},
     "output_type": "execute_result"
    },
    {
     "data": {
      "text/plain": [
       "<folium.features.CircleMarker at 0x123d1e470>"
      ]
     },
     "execution_count": 53,
     "metadata": {},
     "output_type": "execute_result"
    },
    {
     "data": {
      "text/plain": [
       "<folium.features.CircleMarker at 0x123d12470>"
      ]
     },
     "execution_count": 53,
     "metadata": {},
     "output_type": "execute_result"
    },
    {
     "data": {
      "text/plain": [
       "<folium.features.CircleMarker at 0x123d1e2b0>"
      ]
     },
     "execution_count": 53,
     "metadata": {},
     "output_type": "execute_result"
    },
    {
     "data": {
      "text/plain": [
       "<folium.features.CircleMarker at 0x123d12128>"
      ]
     },
     "execution_count": 53,
     "metadata": {},
     "output_type": "execute_result"
    },
    {
     "data": {
      "text/plain": [
       "<folium.features.CircleMarker at 0x123d1e7f0>"
      ]
     },
     "execution_count": 53,
     "metadata": {},
     "output_type": "execute_result"
    },
    {
     "data": {
      "text/plain": [
       "<folium.features.CircleMarker at 0x123d12080>"
      ]
     },
     "execution_count": 53,
     "metadata": {},
     "output_type": "execute_result"
    },
    {
     "data": {
      "text/plain": [
       "<folium.features.CircleMarker at 0x123d1e4e0>"
      ]
     },
     "execution_count": 53,
     "metadata": {},
     "output_type": "execute_result"
    },
    {
     "data": {
      "text/plain": [
       "<folium.features.CircleMarker at 0x123d343c8>"
      ]
     },
     "execution_count": 53,
     "metadata": {},
     "output_type": "execute_result"
    },
    {
     "data": {
      "text/plain": [
       "<folium.features.CircleMarker at 0x123d1ed30>"
      ]
     },
     "execution_count": 53,
     "metadata": {},
     "output_type": "execute_result"
    },
    {
     "data": {
      "text/plain": [
       "<folium.features.CircleMarker at 0x123d34780>"
      ]
     },
     "execution_count": 53,
     "metadata": {},
     "output_type": "execute_result"
    },
    {
     "data": {
      "text/plain": [
       "<folium.features.CircleMarker at 0x123d5d780>"
      ]
     },
     "execution_count": 53,
     "metadata": {},
     "output_type": "execute_result"
    },
    {
     "data": {
      "text/plain": [
       "<folium.features.CircleMarker at 0x123cefd30>"
      ]
     },
     "execution_count": 53,
     "metadata": {},
     "output_type": "execute_result"
    },
    {
     "data": {
      "text/plain": [
       "<folium.features.CircleMarker at 0x123cefac8>"
      ]
     },
     "execution_count": 53,
     "metadata": {},
     "output_type": "execute_result"
    },
    {
     "data": {
      "text/plain": [
       "<folium.features.CircleMarker at 0x123d341d0>"
      ]
     },
     "execution_count": 53,
     "metadata": {},
     "output_type": "execute_result"
    },
    {
     "data": {
      "text/plain": [
       "<folium.features.CircleMarker at 0x123d5d898>"
      ]
     },
     "execution_count": 53,
     "metadata": {},
     "output_type": "execute_result"
    },
    {
     "data": {
      "text/plain": [
       "<folium.features.CircleMarker at 0x123d5d320>"
      ]
     },
     "execution_count": 53,
     "metadata": {},
     "output_type": "execute_result"
    },
    {
     "data": {
      "text/plain": [
       "<folium.features.CircleMarker at 0x123d63668>"
      ]
     },
     "execution_count": 53,
     "metadata": {},
     "output_type": "execute_result"
    },
    {
     "data": {
      "text/plain": [
       "<folium.features.CircleMarker at 0x123d5de48>"
      ]
     },
     "execution_count": 53,
     "metadata": {},
     "output_type": "execute_result"
    },
    {
     "data": {
      "text/plain": [
       "<folium.features.CircleMarker at 0x123d63c18>"
      ]
     },
     "execution_count": 53,
     "metadata": {},
     "output_type": "execute_result"
    },
    {
     "data": {
      "text/plain": [
       "<folium.features.CircleMarker at 0x123d1e4a8>"
      ]
     },
     "execution_count": 53,
     "metadata": {},
     "output_type": "execute_result"
    },
    {
     "data": {
      "text/plain": [
       "<folium.features.CircleMarker at 0x123d5d5c0>"
      ]
     },
     "execution_count": 53,
     "metadata": {},
     "output_type": "execute_result"
    },
    {
     "data": {
      "text/plain": [
       "<folium.features.CircleMarker at 0x123d63550>"
      ]
     },
     "execution_count": 53,
     "metadata": {},
     "output_type": "execute_result"
    },
    {
     "data": {
      "text/plain": [
       "<folium.features.CircleMarker at 0x123d5da58>"
      ]
     },
     "execution_count": 53,
     "metadata": {},
     "output_type": "execute_result"
    },
    {
     "data": {
      "text/plain": [
       "<folium.features.CircleMarker at 0x123d632b0>"
      ]
     },
     "execution_count": 53,
     "metadata": {},
     "output_type": "execute_result"
    },
    {
     "data": {
      "text/plain": [
       "<folium.features.CircleMarker at 0x123d42c18>"
      ]
     },
     "execution_count": 53,
     "metadata": {},
     "output_type": "execute_result"
    },
    {
     "data": {
      "text/plain": [
       "<folium.features.CircleMarker at 0x123d637f0>"
      ]
     },
     "execution_count": 53,
     "metadata": {},
     "output_type": "execute_result"
    },
    {
     "data": {
      "text/plain": [
       "<folium.features.CircleMarker at 0x123d34358>"
      ]
     },
     "execution_count": 53,
     "metadata": {},
     "output_type": "execute_result"
    },
    {
     "data": {
      "text/plain": [
       "<folium.features.CircleMarker at 0x123d630b8>"
      ]
     },
     "execution_count": 53,
     "metadata": {},
     "output_type": "execute_result"
    },
    {
     "data": {
      "text/plain": [
       "<folium.features.CircleMarker at 0x123d63128>"
      ]
     },
     "execution_count": 53,
     "metadata": {},
     "output_type": "execute_result"
    },
    {
     "data": {
      "text/plain": [
       "<folium.features.CircleMarker at 0x123d426a0>"
      ]
     },
     "execution_count": 53,
     "metadata": {},
     "output_type": "execute_result"
    },
    {
     "data": {
      "text/plain": [
       "<folium.features.CircleMarker at 0x123d67a20>"
      ]
     },
     "execution_count": 53,
     "metadata": {},
     "output_type": "execute_result"
    },
    {
     "data": {
      "text/plain": [
       "<folium.features.CircleMarker at 0x123d42518>"
      ]
     },
     "execution_count": 53,
     "metadata": {},
     "output_type": "execute_result"
    },
    {
     "data": {
      "text/plain": [
       "<folium.features.CircleMarker at 0x123d42fd0>"
      ]
     },
     "execution_count": 53,
     "metadata": {},
     "output_type": "execute_result"
    },
    {
     "data": {
      "text/plain": [
       "<folium.features.CircleMarker at 0x123d5dcf8>"
      ]
     },
     "execution_count": 53,
     "metadata": {},
     "output_type": "execute_result"
    },
    {
     "data": {
      "text/plain": [
       "<folium.features.CircleMarker at 0x123d42780>"
      ]
     },
     "execution_count": 53,
     "metadata": {},
     "output_type": "execute_result"
    },
    {
     "data": {
      "text/plain": [
       "<folium.features.CircleMarker at 0x123d67e48>"
      ]
     },
     "execution_count": 53,
     "metadata": {},
     "output_type": "execute_result"
    },
    {
     "data": {
      "text/plain": [
       "<folium.features.CircleMarker at 0x123d67780>"
      ]
     },
     "execution_count": 53,
     "metadata": {},
     "output_type": "execute_result"
    },
    {
     "data": {
      "text/plain": [
       "<folium.features.CircleMarker at 0x123d84ba8>"
      ]
     },
     "execution_count": 53,
     "metadata": {},
     "output_type": "execute_result"
    },
    {
     "data": {
      "text/plain": [
       "<folium.features.CircleMarker at 0x123d67940>"
      ]
     },
     "execution_count": 53,
     "metadata": {},
     "output_type": "execute_result"
    },
    {
     "data": {
      "text/html": [
       "<div style=\"width:100%;\"><div style=\"position:relative;width:100%;height:0;padding-bottom:60%;\"><iframe src=\"data:text/html;charset=utf-8;base64,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\" style=\"position:absolute;width:100%;height:100%;left:0;top:0;border:none !important;\" allowfullscreen webkitallowfullscreen mozallowfullscreen></iframe></div></div>"
      ],
      "text/plain": [
       "<folium.folium.Map at 0x123cef470>"
      ]
     },
     "execution_count": 53,
     "metadata": {},
     "output_type": "execute_result"
    }
   ],
   "source": [
    "# #Generate map centered around address\n",
    "seattle_map = folium.Map(location=[sea_latitude, sea_longitude], zoom_start=13)\n",
    "\n",
    "#blue markers for bikeracks\n",
    "for lat, lng, label in zip(radar['SHAPE_LAT'], radar['SHAPE_LNG'], radar['SIDE']):\n",
    "    folium.features.CircleMarker(\n",
    "        [lat, lng],\n",
    "        radius = 3,\n",
    "        color='purple',\n",
    "        popup=label,\n",
    "        fill=True,\n",
    "        fill_color='purple',\n",
    "        fill_opacity=0.5\n",
    "    ).add_to(seattle_map);\n",
    "    \n",
    "seattle_map"
   ]
  },
  {
   "cell_type": "markdown",
   "metadata": {},
   "source": [
    "### Current Land Use Zoning\n",
    "\n",
    "This is in progress with visualization since it contains a .shp file."
   ]
  },
  {
   "cell_type": "code",
   "execution_count": 54,
   "metadata": {},
   "outputs": [
    {
     "data": {
      "text/html": [
       "<div>\n",
       "<style scoped>\n",
       "    .dataframe tbody tr th:only-of-type {\n",
       "        vertical-align: middle;\n",
       "    }\n",
       "\n",
       "    .dataframe tbody tr th {\n",
       "        vertical-align: top;\n",
       "    }\n",
       "\n",
       "    .dataframe thead th {\n",
       "        text-align: right;\n",
       "    }\n",
       "</style>\n",
       "<table border=\"1\" class=\"dataframe\">\n",
       "  <thead>\n",
       "    <tr style=\"text-align: right;\">\n",
       "      <th></th>\n",
       "      <th>OBJECTID</th>\n",
       "      <th>ZONEID</th>\n",
       "      <th>ZONING</th>\n",
       "      <th>CONTRACT</th>\n",
       "      <th>ORDINANCE</th>\n",
       "      <th>EFFECTIVE</th>\n",
       "      <th>HISTORIC</th>\n",
       "      <th>PEDESTRIAN</th>\n",
       "      <th>SHORELINE</th>\n",
       "      <th>OVERLAY</th>\n",
       "      <th>LIGHTRAIL</th>\n",
       "      <th>MHA</th>\n",
       "      <th>IZ</th>\n",
       "      <th>MHA_VALUE</th>\n",
       "      <th>MIO_NAME</th>\n",
       "      <th>CLASS_DESC</th>\n",
       "      <th>CATEGORY_DESC</th>\n",
       "      <th>ZONELUT</th>\n",
       "      <th>DETAIL_DESC</th>\n",
       "      <th>ZONING_DESC</th>\n",
       "      <th>BASE_ZONE</th>\n",
       "      <th>ZONING_PREV</th>\n",
       "      <th>CONTRACT_PREV</th>\n",
       "      <th>ORDINANCE_PREV</th>\n",
       "      <th>EFFECTIVE_PREV</th>\n",
       "      <th>HISTORIC_PREV</th>\n",
       "      <th>PEDESTRIAN_PREV</th>\n",
       "      <th>SHORELINE_PREV</th>\n",
       "      <th>OVERLAY_PREV</th>\n",
       "      <th>LIGHTRAIL_PREV</th>\n",
       "    </tr>\n",
       "  </thead>\n",
       "  <tbody>\n",
       "    <tr>\n",
       "      <th>0</th>\n",
       "      <td>1</td>\n",
       "      <td>3837</td>\n",
       "      <td>DMR/C 75/75-170</td>\n",
       "      <td></td>\n",
       "      <td>125371</td>\n",
       "      <td>2017/09/01 00:00:00+00</td>\n",
       "      <td></td>\n",
       "      <td></td>\n",
       "      <td></td>\n",
       "      <td>ID</td>\n",
       "      <td></td>\n",
       "      <td>Y</td>\n",
       "      <td>Y</td>\n",
       "      <td>NaN</td>\n",
       "      <td>NaN</td>\n",
       "      <td>Downtown</td>\n",
       "      <td>Downtown</td>\n",
       "      <td>DMRC</td>\n",
       "      <td>Downtown Mixed</td>\n",
       "      <td>Downtown Mixed Residential/Commercial 75/75-170</td>\n",
       "      <td>DMR/C 75/75-170</td>\n",
       "      <td>DMR/C 75/75-170</td>\n",
       "      <td></td>\n",
       "      <td>125371.0</td>\n",
       "      <td>2017/09/01 00:00:00+00</td>\n",
       "      <td></td>\n",
       "      <td></td>\n",
       "      <td></td>\n",
       "      <td></td>\n",
       "      <td></td>\n",
       "    </tr>\n",
       "    <tr>\n",
       "      <th>1</th>\n",
       "      <td>2</td>\n",
       "      <td>4194</td>\n",
       "      <td>SF 7200</td>\n",
       "      <td></td>\n",
       "      <td></td>\n",
       "      <td>1970/01/01 00:00:00+00</td>\n",
       "      <td></td>\n",
       "      <td></td>\n",
       "      <td></td>\n",
       "      <td></td>\n",
       "      <td></td>\n",
       "      <td>N</td>\n",
       "      <td>N</td>\n",
       "      <td>NaN</td>\n",
       "      <td>NaN</td>\n",
       "      <td>Single Family</td>\n",
       "      <td>Single Family</td>\n",
       "      <td>SF 7200</td>\n",
       "      <td>Single Family 7200</td>\n",
       "      <td>Single Family 7200</td>\n",
       "      <td>SF 7200</td>\n",
       "      <td>NaN</td>\n",
       "      <td>NaN</td>\n",
       "      <td>NaN</td>\n",
       "      <td>1994/05/01 00:00:00+00</td>\n",
       "      <td>NaN</td>\n",
       "      <td>NaN</td>\n",
       "      <td>NaN</td>\n",
       "      <td>NaN</td>\n",
       "      <td>NaN</td>\n",
       "    </tr>\n",
       "    <tr>\n",
       "      <th>2</th>\n",
       "      <td>3</td>\n",
       "      <td>4422</td>\n",
       "      <td>LR2 RC (M)</td>\n",
       "      <td></td>\n",
       "      <td>125791</td>\n",
       "      <td>2019/04/19 00:00:00+00</td>\n",
       "      <td></td>\n",
       "      <td></td>\n",
       "      <td></td>\n",
       "      <td></td>\n",
       "      <td></td>\n",
       "      <td>Y</td>\n",
       "      <td>N</td>\n",
       "      <td>M</td>\n",
       "      <td>NaN</td>\n",
       "      <td>Multi-Family</td>\n",
       "      <td>Lowrise Multi-Family</td>\n",
       "      <td>LR2 RC</td>\n",
       "      <td>Lowrise 2</td>\n",
       "      <td>Lowrise 2 Residential-Commercial</td>\n",
       "      <td>LR2 RC</td>\n",
       "      <td>LR2 RC</td>\n",
       "      <td></td>\n",
       "      <td>123495.0</td>\n",
       "      <td>2011/04/19 00:00:00+00</td>\n",
       "      <td></td>\n",
       "      <td></td>\n",
       "      <td></td>\n",
       "      <td></td>\n",
       "      <td></td>\n",
       "    </tr>\n",
       "    <tr>\n",
       "      <th>3</th>\n",
       "      <td>4</td>\n",
       "      <td>4423</td>\n",
       "      <td>LR1 (M)</td>\n",
       "      <td></td>\n",
       "      <td>125791</td>\n",
       "      <td>2019/04/19 00:00:00+00</td>\n",
       "      <td></td>\n",
       "      <td></td>\n",
       "      <td></td>\n",
       "      <td></td>\n",
       "      <td></td>\n",
       "      <td>Y</td>\n",
       "      <td>N</td>\n",
       "      <td>M</td>\n",
       "      <td>NaN</td>\n",
       "      <td>Multi-Family</td>\n",
       "      <td>Lowrise Multi-Family</td>\n",
       "      <td>LR1</td>\n",
       "      <td>Lowrise 1</td>\n",
       "      <td>Lowrise 1</td>\n",
       "      <td>LR1</td>\n",
       "      <td>LR1</td>\n",
       "      <td></td>\n",
       "      <td>123495.0</td>\n",
       "      <td>2011/04/19 00:00:00+00</td>\n",
       "      <td></td>\n",
       "      <td></td>\n",
       "      <td></td>\n",
       "      <td></td>\n",
       "      <td></td>\n",
       "    </tr>\n",
       "    <tr>\n",
       "      <th>4</th>\n",
       "      <td>5</td>\n",
       "      <td>4424</td>\n",
       "      <td>LR1 (M)</td>\n",
       "      <td></td>\n",
       "      <td>125791</td>\n",
       "      <td>2019/04/19 00:00:00+00</td>\n",
       "      <td></td>\n",
       "      <td></td>\n",
       "      <td></td>\n",
       "      <td></td>\n",
       "      <td></td>\n",
       "      <td>Y</td>\n",
       "      <td>N</td>\n",
       "      <td>M</td>\n",
       "      <td>NaN</td>\n",
       "      <td>Multi-Family</td>\n",
       "      <td>Lowrise Multi-Family</td>\n",
       "      <td>LR1</td>\n",
       "      <td>Lowrise 1</td>\n",
       "      <td>Lowrise 1</td>\n",
       "      <td>LR1</td>\n",
       "      <td>LR1</td>\n",
       "      <td></td>\n",
       "      <td>123495.0</td>\n",
       "      <td>2011/04/19 00:00:00+00</td>\n",
       "      <td></td>\n",
       "      <td></td>\n",
       "      <td></td>\n",
       "      <td></td>\n",
       "      <td></td>\n",
       "    </tr>\n",
       "  </tbody>\n",
       "</table>\n",
       "</div>"
      ],
      "text/plain": [
       "   OBJECTID  ZONEID           ZONING CONTRACT ORDINANCE  \\\n",
       "0         1    3837  DMR/C 75/75-170             125371   \n",
       "1         2    4194          SF 7200                      \n",
       "2         3    4422       LR2 RC (M)             125791   \n",
       "3         4    4423          LR1 (M)             125791   \n",
       "4         5    4424          LR1 (M)             125791   \n",
       "\n",
       "                EFFECTIVE HISTORIC PEDESTRIAN SHORELINE OVERLAY LIGHTRAIL MHA  \\\n",
       "0  2017/09/01 00:00:00+00                                    ID             Y   \n",
       "1  1970/01/01 00:00:00+00                                                   N   \n",
       "2  2019/04/19 00:00:00+00                                                   Y   \n",
       "3  2019/04/19 00:00:00+00                                                   Y   \n",
       "4  2019/04/19 00:00:00+00                                                   Y   \n",
       "\n",
       "  IZ MHA_VALUE MIO_NAME     CLASS_DESC         CATEGORY_DESC  ZONELUT  \\\n",
       "0  Y       NaN      NaN       Downtown              Downtown     DMRC   \n",
       "1  N       NaN      NaN  Single Family         Single Family  SF 7200   \n",
       "2  N         M      NaN   Multi-Family  Lowrise Multi-Family   LR2 RC   \n",
       "3  N         M      NaN   Multi-Family  Lowrise Multi-Family      LR1   \n",
       "4  N         M      NaN   Multi-Family  Lowrise Multi-Family      LR1   \n",
       "\n",
       "          DETAIL_DESC                                      ZONING_DESC  \\\n",
       "0      Downtown Mixed  Downtown Mixed Residential/Commercial 75/75-170   \n",
       "1  Single Family 7200                               Single Family 7200   \n",
       "2           Lowrise 2                 Lowrise 2 Residential-Commercial   \n",
       "3           Lowrise 1                                        Lowrise 1   \n",
       "4           Lowrise 1                                        Lowrise 1   \n",
       "\n",
       "         BASE_ZONE      ZONING_PREV CONTRACT_PREV  ORDINANCE_PREV  \\\n",
       "0  DMR/C 75/75-170  DMR/C 75/75-170                      125371.0   \n",
       "1          SF 7200              NaN           NaN             NaN   \n",
       "2           LR2 RC           LR2 RC                      123495.0   \n",
       "3              LR1              LR1                      123495.0   \n",
       "4              LR1              LR1                      123495.0   \n",
       "\n",
       "           EFFECTIVE_PREV HISTORIC_PREV PEDESTRIAN_PREV SHORELINE_PREV  \\\n",
       "0  2017/09/01 00:00:00+00                                                \n",
       "1  1994/05/01 00:00:00+00           NaN             NaN            NaN   \n",
       "2  2011/04/19 00:00:00+00                                                \n",
       "3  2011/04/19 00:00:00+00                                                \n",
       "4  2011/04/19 00:00:00+00                                                \n",
       "\n",
       "  OVERLAY_PREV LIGHTRAIL_PREV  \n",
       "0                              \n",
       "1          NaN            NaN  \n",
       "2                              \n",
       "3                              \n",
       "4                              "
      ]
     },
     "execution_count": 54,
     "metadata": {},
     "output_type": "execute_result"
    }
   ],
   "source": [
    "zoning = pd.read_csv('../data/Current_Land_Use_Zoning_Detail.csv')\n",
    "zoning.head()"
   ]
  },
  {
   "cell_type": "code",
   "execution_count": 55,
   "metadata": {},
   "outputs": [
    {
     "name": "stdout",
     "output_type": "stream",
     "text": [
      "<class 'pandas.core.frame.DataFrame'>\n",
      "RangeIndex: 3549 entries, 0 to 3548\n",
      "Data columns (total 30 columns):\n",
      " #   Column           Non-Null Count  Dtype  \n",
      "---  ------           --------------  -----  \n",
      " 0   OBJECTID         3549 non-null   int64  \n",
      " 1   ZONEID           3549 non-null   int64  \n",
      " 2   ZONING           3549 non-null   object \n",
      " 3   CONTRACT         3548 non-null   object \n",
      " 4   ORDINANCE        3527 non-null   object \n",
      " 5   EFFECTIVE        3549 non-null   object \n",
      " 6   HISTORIC         3549 non-null   object \n",
      " 7   PEDESTRIAN       3549 non-null   object \n",
      " 8   SHORELINE        3549 non-null   object \n",
      " 9   OVERLAY          3549 non-null   object \n",
      " 10  LIGHTRAIL        3549 non-null   object \n",
      " 11  MHA              3515 non-null   object \n",
      " 12  IZ               3549 non-null   object \n",
      " 13  MHA_VALUE        2674 non-null   object \n",
      " 14  MIO_NAME         287 non-null    object \n",
      " 15  CLASS_DESC       3549 non-null   object \n",
      " 16  CATEGORY_DESC    3549 non-null   object \n",
      " 17  ZONELUT          3549 non-null   object \n",
      " 18  DETAIL_DESC      3549 non-null   object \n",
      " 19  ZONING_DESC      3549 non-null   object \n",
      " 20  BASE_ZONE        3549 non-null   object \n",
      " 21  ZONING_PREV      3064 non-null   object \n",
      " 22  CONTRACT_PREV    2906 non-null   object \n",
      " 23  ORDINANCE_PREV   2970 non-null   float64\n",
      " 24  EFFECTIVE_PREV   3549 non-null   object \n",
      " 25  HISTORIC_PREV    2904 non-null   object \n",
      " 26  PEDESTRIAN_PREV  2881 non-null   object \n",
      " 27  SHORELINE_PREV   2950 non-null   object \n",
      " 28  OVERLAY_PREV     2913 non-null   object \n",
      " 29  LIGHTRAIL_PREV   2877 non-null   object \n",
      "dtypes: float64(1), int64(2), object(27)\n",
      "memory usage: 831.9+ KB\n"
     ]
    }
   ],
   "source": [
    "zoning.info()"
   ]
  },
  {
   "cell_type": "markdown",
   "metadata": {},
   "source": [
    "It looks like the 'CLASS_DESC' column and the 'CATEGORY_DESC' column are very similar in their values. We will explore the unique values or each and see if they are only slightly varied in the wording."
   ]
  },
  {
   "cell_type": "code",
   "execution_count": 61,
   "metadata": {},
   "outputs": [
    {
     "data": {
      "text/plain": [
       "array(['Downtown', 'Single Family', 'Multi-Family',\n",
       "       'Commercial/Mixed Use', 'Manufacturing/Industrial',\n",
       "       'Major Institutions', 'Master Planned Community'], dtype=object)"
      ]
     },
     "execution_count": 61,
     "metadata": {},
     "output_type": "execute_result"
    }
   ],
   "source": [
    "zoning['CLASS_DESC'].unique()"
   ]
  },
  {
   "cell_type": "code",
   "execution_count": 62,
   "metadata": {},
   "outputs": [
    {
     "data": {
      "text/plain": [
       "array(['Downtown', 'Single Family', 'Lowrise Multi-Family',\n",
       "       'Neighborhood Commercial', 'Residential Small Lot', 'Industrial',\n",
       "       'High-Density Multi-Family', 'Commercial', 'Seattle Mixed',\n",
       "       'Major Institutions', 'Master Planned Community'], dtype=object)"
      ]
     },
     "execution_count": 62,
     "metadata": {},
     "output_type": "execute_result"
    }
   ],
   "source": [
    "zoning['CATEGORY_DESC'].unique()"
   ]
  },
  {
   "cell_type": "code",
   "execution_count": 68,
   "metadata": {},
   "outputs": [
    {
     "data": {
      "text/plain": [
       "array(['Downtown', 'Single Family', 'Major Institutions',\n",
       "       'Master Planned Community'], dtype=object)"
      ]
     },
     "execution_count": 68,
     "metadata": {},
     "output_type": "execute_result"
    }
   ],
   "source": [
    "# Which values are the same in both columns\n",
    "zoning[zoning['CLASS_DESC'] == zoning['CATEGORY_DESC']]['CLASS_DESC'].unique()"
   ]
  },
  {
   "cell_type": "code",
   "execution_count": 71,
   "metadata": {},
   "outputs": [
    {
     "data": {
      "text/plain": [
       "CLASS_DESC                CATEGORY_DESC            \n",
       "Commercial/Mixed Use      Commercial                    206\n",
       "                          Neighborhood Commercial       945\n",
       "                          Seattle Mixed                 114\n",
       "Manufacturing/Industrial  Industrial                    220\n",
       "Multi-Family              High-Density Multi-Family      83\n",
       "                          Lowrise Multi-Family         1161\n",
       "Single Family             Residential Small Lot         100\n",
       "Name: OBJECTID, dtype: int64"
      ]
     },
     "execution_count": 71,
     "metadata": {},
     "output_type": "execute_result"
    }
   ],
   "source": [
    "zoning[zoning['CLASS_DESC'] != zoning['CATEGORY_DESC']].groupby(['CLASS_DESC', 'CATEGORY_DESC']).count()['OBJECTID']"
   ]
  },
  {
   "cell_type": "code",
   "execution_count": null,
   "metadata": {},
   "outputs": [],
   "source": []
  }
 ],
 "metadata": {
  "kernelspec": {
   "display_name": "Python 3",
   "language": "python",
   "name": "python3"
  },
  "language_info": {
   "codemirror_mode": {
    "name": "ipython",
    "version": 3
   },
   "file_extension": ".py",
   "mimetype": "text/x-python",
   "name": "python",
   "nbconvert_exporter": "python",
   "pygments_lexer": "ipython3",
   "version": "3.7.0"
  }
 },
 "nbformat": 4,
 "nbformat_minor": 4
}
