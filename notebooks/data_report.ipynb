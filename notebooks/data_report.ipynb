{
 "cells": [
  {
   "cell_type": "markdown",
   "metadata": {},
   "source": [
    "## Week 1\n",
    "Produce a Jupyter notebook with a data report to document:\n",
    "\n",
    "a. the structure and statistics of the raw data\n",
    "\n",
    "b. how the data can help answer the business problem(s)\n",
    "\n",
    "c. what additional data is needed to answer the business problem(s)\n",
    "\n",
    "Locate the additional data"
   ]
  },
  {
   "cell_type": "code",
   "execution_count": 1,
   "metadata": {},
   "outputs": [],
   "source": [
    "import numpy as np\n",
    "import pandas as pd\n",
    "import seaborn as sns\n",
    "import matplotlib.pyplot as plt\n",
    "%matplotlib inline\n",
    "\n",
    "plt.style.use('ggplot')\n",
    "pd.options.display.max_rows = 500\n",
    "pd.options.display.max_columns = 100\n",
    "\n",
    "import warnings\n",
    "warnings.filterwarnings(\"ignore\") \n",
    "\n",
    "from datetime import datetime\n",
    "from IPython.display import display, Markdown\n",
    "from IPython.core.interactiveshell import InteractiveShell\n",
    "InteractiveShell.ast_node_interactivity = \"all\""
   ]
  },
  {
   "cell_type": "code",
   "execution_count": 2,
   "metadata": {},
   "outputs": [],
   "source": [
    "#Load the data\n",
    "collisions_df = pd.read_csv('../data/Collisions.csv',\n",
    "                            parse_dates={'Datetime': ['INCDTTM']}, \n",
    "                            infer_datetime_format=True)\n",
    "intersections_df = pd.read_csv('../data/Intersections.csv')\n",
    "streets_df = pd.read_csv('../data/Seattle_Streets.csv')"
   ]
  },
  {
   "cell_type": "markdown",
   "metadata": {},
   "source": [
    "## EXPLORING SEATTLE STREET DATA"
   ]
  },
  {
   "cell_type": "code",
   "execution_count": 3,
   "metadata": {},
   "outputs": [
    {
     "data": {
      "text/html": [
       "<div>\n",
       "<style scoped>\n",
       "    .dataframe tbody tr th:only-of-type {\n",
       "        vertical-align: middle;\n",
       "    }\n",
       "\n",
       "    .dataframe tbody tr th {\n",
       "        vertical-align: top;\n",
       "    }\n",
       "\n",
       "    .dataframe thead th {\n",
       "        text-align: right;\n",
       "    }\n",
       "</style>\n",
       "<table border=\"1\" class=\"dataframe\">\n",
       "  <thead>\n",
       "    <tr style=\"text-align: right;\">\n",
       "      <th></th>\n",
       "      <th>OBJECTID</th>\n",
       "      <th>ARTCLASS</th>\n",
       "      <th>COMPKEY</th>\n",
       "      <th>UNITID</th>\n",
       "      <th>UNITID2</th>\n",
       "      <th>UNITIDSORT</th>\n",
       "      <th>UNITDESC</th>\n",
       "      <th>STNAME_ORD</th>\n",
       "      <th>XSTRLO</th>\n",
       "      <th>XSTRHI</th>\n",
       "      <th>ARTDESCRIPT</th>\n",
       "      <th>OWNER</th>\n",
       "      <th>STATUS</th>\n",
       "      <th>BLOCKNBR</th>\n",
       "      <th>SPEEDLIMIT</th>\n",
       "      <th>SEGDIR</th>\n",
       "      <th>ONEWAY</th>\n",
       "      <th>ONEWAYDIR</th>\n",
       "      <th>FLOW</th>\n",
       "      <th>SEGLENGTH</th>\n",
       "      <th>SURFACEWIDTH</th>\n",
       "      <th>SURFACETYPE_1</th>\n",
       "      <th>SURFACETYPE_2</th>\n",
       "      <th>INTRLO</th>\n",
       "      <th>DIRLO</th>\n",
       "      <th>INTKEYLO</th>\n",
       "      <th>INTRHI</th>\n",
       "      <th>DIRHI</th>\n",
       "      <th>NATIONHWYSYS</th>\n",
       "      <th>STREETTYPE</th>\n",
       "      <th>PVMTCONDINDX1</th>\n",
       "      <th>PVMTCONDINDX2</th>\n",
       "      <th>TRANCLASS</th>\n",
       "      <th>TRANDESCRIPT</th>\n",
       "      <th>SLOPE_PCT</th>\n",
       "      <th>PVMTCATEGORY</th>\n",
       "      <th>PARKBOULEVARD</th>\n",
       "      <th>SHAPE_Length</th>\n",
       "    </tr>\n",
       "  </thead>\n",
       "  <tbody>\n",
       "    <tr>\n",
       "      <th>0</th>\n",
       "      <td>1</td>\n",
       "      <td>2.0</td>\n",
       "      <td>1006</td>\n",
       "      <td>10.0</td>\n",
       "      <td>120.0</td>\n",
       "      <td>100120.0</td>\n",
       "      <td>1ST AVE BETWEEN SENECA ST AND UNIVERSITY ST</td>\n",
       "      <td>1ST AVE</td>\n",
       "      <td>SENECA ST</td>\n",
       "      <td>UNIVERSITY ST</td>\n",
       "      <td>Minor Arterial</td>\n",
       "      <td></td>\n",
       "      <td>INSVC</td>\n",
       "      <td>1200.0</td>\n",
       "      <td>25.0</td>\n",
       "      <td>NW</td>\n",
       "      <td>N</td>\n",
       "      <td></td>\n",
       "      <td></td>\n",
       "      <td>306.0</td>\n",
       "      <td>48.0</td>\n",
       "      <td>PCC</td>\n",
       "      <td>AC/PCC</td>\n",
       "      <td>1ST AVE AND SENECA ST</td>\n",
       "      <td>NW</td>\n",
       "      <td>29611.0</td>\n",
       "      <td>1ST AVE AND UNIVERSITY ST</td>\n",
       "      <td>SE</td>\n",
       "      <td>N</td>\n",
       "      <td>Downtown Neighborhood</td>\n",
       "      <td>87.0</td>\n",
       "      <td>62.0</td>\n",
       "      <td>1</td>\n",
       "      <td>PRINCIPAL TRANSIT ROUTE</td>\n",
       "      <td>4.0</td>\n",
       "      <td>ART</td>\n",
       "      <td>N</td>\n",
       "      <td>305.966050</td>\n",
       "    </tr>\n",
       "    <tr>\n",
       "      <th>1</th>\n",
       "      <td>2</td>\n",
       "      <td>2.0</td>\n",
       "      <td>1009</td>\n",
       "      <td>10.0</td>\n",
       "      <td>150.0</td>\n",
       "      <td>100150.0</td>\n",
       "      <td>1ST AVE BETWEEN PIKE ST AND PINE ST</td>\n",
       "      <td>1ST AVE</td>\n",
       "      <td>PIKE ST</td>\n",
       "      <td>PINE ST</td>\n",
       "      <td>Minor Arterial</td>\n",
       "      <td></td>\n",
       "      <td>INSVC</td>\n",
       "      <td>1500.0</td>\n",
       "      <td>25.0</td>\n",
       "      <td>NW</td>\n",
       "      <td>N</td>\n",
       "      <td></td>\n",
       "      <td></td>\n",
       "      <td>426.0</td>\n",
       "      <td>104.0</td>\n",
       "      <td>AC/PCC</td>\n",
       "      <td>PCC</td>\n",
       "      <td>1ST AVE AND PIKE ST</td>\n",
       "      <td>NW</td>\n",
       "      <td>29593.0</td>\n",
       "      <td>1ST AVE AND PINE ST</td>\n",
       "      <td>SE</td>\n",
       "      <td>N</td>\n",
       "      <td>Downtown Neighborhood</td>\n",
       "      <td>57.0</td>\n",
       "      <td>58.0</td>\n",
       "      <td>1</td>\n",
       "      <td>PRINCIPAL TRANSIT ROUTE</td>\n",
       "      <td>5.0</td>\n",
       "      <td>ART</td>\n",
       "      <td>N</td>\n",
       "      <td>426.031562</td>\n",
       "    </tr>\n",
       "    <tr>\n",
       "      <th>2</th>\n",
       "      <td>3</td>\n",
       "      <td>0.0</td>\n",
       "      <td>1032</td>\n",
       "      <td>15.0</td>\n",
       "      <td>80.0</td>\n",
       "      <td>150080.0</td>\n",
       "      <td>1ST AVE N BETWEEN VALLEY UPPER ST AND ALOHA ST</td>\n",
       "      <td>1ST AVE N</td>\n",
       "      <td>VALLEY UPPER ST</td>\n",
       "      <td>ALOHA ST</td>\n",
       "      <td>Not Designated</td>\n",
       "      <td></td>\n",
       "      <td>INSVC</td>\n",
       "      <td>800.0</td>\n",
       "      <td>20.0</td>\n",
       "      <td>N</td>\n",
       "      <td>N</td>\n",
       "      <td></td>\n",
       "      <td></td>\n",
       "      <td>297.0</td>\n",
       "      <td>0.0</td>\n",
       "      <td>PCC</td>\n",
       "      <td>NaN</td>\n",
       "      <td>1ST AVE N AND VALLEY UPPER ST</td>\n",
       "      <td>N</td>\n",
       "      <td>28897.0</td>\n",
       "      <td>1ST AVE N AND ALOHA ST</td>\n",
       "      <td>S</td>\n",
       "      <td>N</td>\n",
       "      <td>Neighborhood Yield Street</td>\n",
       "      <td>0.0</td>\n",
       "      <td>0.0</td>\n",
       "      <td>0</td>\n",
       "      <td>NOT DESIGNATED</td>\n",
       "      <td>17.0</td>\n",
       "      <td>NON-ART</td>\n",
       "      <td>N</td>\n",
       "      <td>297.147592</td>\n",
       "    </tr>\n",
       "    <tr>\n",
       "      <th>3</th>\n",
       "      <td>4</td>\n",
       "      <td>0.0</td>\n",
       "      <td>1051</td>\n",
       "      <td>15.0</td>\n",
       "      <td>230.0</td>\n",
       "      <td>150230.0</td>\n",
       "      <td>1ST AVE N BETWEEN LYNN ST AND MCGRAW S ST</td>\n",
       "      <td>1ST AVE N</td>\n",
       "      <td>LYNN ST</td>\n",
       "      <td>MCGRAW S ST</td>\n",
       "      <td>Not Designated</td>\n",
       "      <td></td>\n",
       "      <td>INSVC</td>\n",
       "      <td>2200.0</td>\n",
       "      <td>20.0</td>\n",
       "      <td>N</td>\n",
       "      <td>N</td>\n",
       "      <td></td>\n",
       "      <td></td>\n",
       "      <td>175.0</td>\n",
       "      <td>25.0</td>\n",
       "      <td>AC</td>\n",
       "      <td>NaN</td>\n",
       "      <td>1ST AVE N AND LYNN ST</td>\n",
       "      <td>N</td>\n",
       "      <td>28113.0</td>\n",
       "      <td>1ST AVE N AND MCGRAW S ST</td>\n",
       "      <td>S</td>\n",
       "      <td>N</td>\n",
       "      <td>Neighborhood Yield Street</td>\n",
       "      <td>9.0</td>\n",
       "      <td>0.0</td>\n",
       "      <td>0</td>\n",
       "      <td>NOT DESIGNATED</td>\n",
       "      <td>3.0</td>\n",
       "      <td>NON-ART</td>\n",
       "      <td>N</td>\n",
       "      <td>174.804983</td>\n",
       "    </tr>\n",
       "    <tr>\n",
       "      <th>4</th>\n",
       "      <td>5</td>\n",
       "      <td>0.0</td>\n",
       "      <td>1060</td>\n",
       "      <td>15.0</td>\n",
       "      <td>282.0</td>\n",
       "      <td>150282.0</td>\n",
       "      <td>1ST AVE N BETWEEN FULTON S ST AND FULTON N ST</td>\n",
       "      <td>1ST AVE N</td>\n",
       "      <td>FULTON S ST</td>\n",
       "      <td>FULTON N ST</td>\n",
       "      <td>Not Designated</td>\n",
       "      <td></td>\n",
       "      <td>INSVC</td>\n",
       "      <td>2800.0</td>\n",
       "      <td>20.0</td>\n",
       "      <td>N</td>\n",
       "      <td>N</td>\n",
       "      <td></td>\n",
       "      <td></td>\n",
       "      <td>73.0</td>\n",
       "      <td>0.0</td>\n",
       "      <td>PCC</td>\n",
       "      <td>NaN</td>\n",
       "      <td>1ST AVE N AND FULTON S ST</td>\n",
       "      <td>N</td>\n",
       "      <td>28051.0</td>\n",
       "      <td>1ST AVE N AND FULTON N ST</td>\n",
       "      <td>S</td>\n",
       "      <td>N</td>\n",
       "      <td>Neighborhood Yield Street</td>\n",
       "      <td>0.0</td>\n",
       "      <td>0.0</td>\n",
       "      <td>0</td>\n",
       "      <td>NOT DESIGNATED</td>\n",
       "      <td>5.0</td>\n",
       "      <td>NON-ART</td>\n",
       "      <td>N</td>\n",
       "      <td>73.110708</td>\n",
       "    </tr>\n",
       "  </tbody>\n",
       "</table>\n",
       "</div>"
      ],
      "text/plain": [
       "   OBJECTID  ARTCLASS  COMPKEY  UNITID  UNITID2  UNITIDSORT  \\\n",
       "0         1       2.0     1006    10.0    120.0    100120.0   \n",
       "1         2       2.0     1009    10.0    150.0    100150.0   \n",
       "2         3       0.0     1032    15.0     80.0    150080.0   \n",
       "3         4       0.0     1051    15.0    230.0    150230.0   \n",
       "4         5       0.0     1060    15.0    282.0    150282.0   \n",
       "\n",
       "                                         UNITDESC STNAME_ORD           XSTRLO  \\\n",
       "0     1ST AVE BETWEEN SENECA ST AND UNIVERSITY ST    1ST AVE        SENECA ST   \n",
       "1             1ST AVE BETWEEN PIKE ST AND PINE ST    1ST AVE          PIKE ST   \n",
       "2  1ST AVE N BETWEEN VALLEY UPPER ST AND ALOHA ST  1ST AVE N  VALLEY UPPER ST   \n",
       "3       1ST AVE N BETWEEN LYNN ST AND MCGRAW S ST  1ST AVE N          LYNN ST   \n",
       "4   1ST AVE N BETWEEN FULTON S ST AND FULTON N ST  1ST AVE N      FULTON S ST   \n",
       "\n",
       "          XSTRHI     ARTDESCRIPT OWNER STATUS  BLOCKNBR  SPEEDLIMIT SEGDIR  \\\n",
       "0  UNIVERSITY ST  Minor Arterial        INSVC    1200.0        25.0     NW   \n",
       "1        PINE ST  Minor Arterial        INSVC    1500.0        25.0     NW   \n",
       "2       ALOHA ST  Not Designated        INSVC     800.0        20.0      N   \n",
       "3    MCGRAW S ST  Not Designated        INSVC    2200.0        20.0      N   \n",
       "4    FULTON N ST  Not Designated        INSVC    2800.0        20.0      N   \n",
       "\n",
       "  ONEWAY ONEWAYDIR FLOW  SEGLENGTH  SURFACEWIDTH SURFACETYPE_1 SURFACETYPE_2  \\\n",
       "0      N                     306.0          48.0           PCC        AC/PCC   \n",
       "1      N                     426.0         104.0        AC/PCC           PCC   \n",
       "2      N                     297.0           0.0           PCC           NaN   \n",
       "3      N                     175.0          25.0            AC           NaN   \n",
       "4      N                      73.0           0.0           PCC           NaN   \n",
       "\n",
       "                          INTRLO DIRLO  INTKEYLO                     INTRHI  \\\n",
       "0          1ST AVE AND SENECA ST    NW   29611.0  1ST AVE AND UNIVERSITY ST   \n",
       "1            1ST AVE AND PIKE ST    NW   29593.0        1ST AVE AND PINE ST   \n",
       "2  1ST AVE N AND VALLEY UPPER ST     N   28897.0     1ST AVE N AND ALOHA ST   \n",
       "3          1ST AVE N AND LYNN ST     N   28113.0  1ST AVE N AND MCGRAW S ST   \n",
       "4      1ST AVE N AND FULTON S ST     N   28051.0  1ST AVE N AND FULTON N ST   \n",
       "\n",
       "  DIRHI NATIONHWYSYS                 STREETTYPE  PVMTCONDINDX1  PVMTCONDINDX2  \\\n",
       "0    SE            N      Downtown Neighborhood           87.0           62.0   \n",
       "1    SE            N      Downtown Neighborhood           57.0           58.0   \n",
       "2     S            N  Neighborhood Yield Street            0.0            0.0   \n",
       "3     S            N  Neighborhood Yield Street            9.0            0.0   \n",
       "4     S            N  Neighborhood Yield Street            0.0            0.0   \n",
       "\n",
       "   TRANCLASS             TRANDESCRIPT  SLOPE_PCT PVMTCATEGORY PARKBOULEVARD  \\\n",
       "0          1  PRINCIPAL TRANSIT ROUTE        4.0          ART             N   \n",
       "1          1  PRINCIPAL TRANSIT ROUTE        5.0          ART             N   \n",
       "2          0           NOT DESIGNATED       17.0      NON-ART             N   \n",
       "3          0           NOT DESIGNATED        3.0      NON-ART             N   \n",
       "4          0           NOT DESIGNATED        5.0      NON-ART             N   \n",
       "\n",
       "   SHAPE_Length  \n",
       "0    305.966050  \n",
       "1    426.031562  \n",
       "2    297.147592  \n",
       "3    174.804983  \n",
       "4     73.110708  "
      ]
     },
     "execution_count": 3,
     "metadata": {},
     "output_type": "execute_result"
    }
   ],
   "source": [
    "streets_df.head()"
   ]
  },
  {
   "cell_type": "code",
   "execution_count": 4,
   "metadata": {},
   "outputs": [
    {
     "data": {
      "text/plain": [
       "(23806, 38)"
      ]
     },
     "execution_count": 4,
     "metadata": {},
     "output_type": "execute_result"
    }
   ],
   "source": [
    "streets_df.shape"
   ]
  },
  {
   "cell_type": "markdown",
   "metadata": {},
   "source": [
    "# ABOUT THE DATA FEATURES\n",
    "<b>OBJECTID</b> - ESRI unique identifier\n",
    "\n",
    "<b>ARTCLASS</b> - Arterial classification code:\n",
    "    <ol>5 - Interstate Freeway\n",
    "    <br>4 - State Highway\n",
    "    <br>3 - Collector Arterial\n",
    "    <br>2 - Minor Arterial\n",
    "    <br>1 - Principal Arterial\n",
    "    <br>0 - Not Designated (not an arterial)</ol>\n",
    "    \n",
    "<b>COMPKEY</b> - Primary key of the Street asset table, assigned\n",
    "by the Hansen asset management system. \n",
    "    \n",
    "<b>UNITID</b> - <i>N/A</i>  \n",
    "\n",
    "<b>UNITID2</b> - <i>N/A</i>   \n",
    "\n",
    "<b>UNITIDSORT</b> - Alpha-numeric Hansen unique identifier\n",
    "\n",
    "<b>UNITIDESC</b> - Structured description of the Street location\n",
    "\n",
    "<b>STNAME_ORD</b> - Street segment name   \n",
    "\n",
    "<b>XSTRLO</b> - Cross street at low end of segment\n",
    "\n",
    "<b>XSTRHI</b> - Cross street at high end of segment    \n",
    "\n",
    "<b>ARTDESCRIPT</b> - Arterial class code description   \n",
    "\n",
    "<b>OWNER</b> - The organization that owns the street, if not the city  \n",
    "\n",
    "<b>STATUS</b> - Current street status <i> INSVC = in service </i>  \n",
    "\n",
    "<b>BLOCKNBR</b> - Identification number of block street runs adjacent to\n",
    "\n",
    "<b>SPEEDLIMIT</b> - Speed limit in MPH    \n",
    "\n",
    "<b>SEGDIR</b> - Street segment direction   \n",
    "\n",
    "<b>ONEWAY</b> - One Way Street (Y/N)    \n",
    "\n",
    "<b>ONEWAYDIR</b> - One Way Street traffic flow direction\n",
    "\n",
    "<b>FLOW</b> - One Way Street traffic flow classification    \n",
    "\n",
    "<b>SEGLENGTH</b> - Street segment length in feet   \n",
    "\n",
    "<b>SURFACEWIDTH</b> - Street segment width in feet     \n",
    "\n",
    "<b>SURFACETYPE_1</b> - Primary pavement used on Street surface\n",
    "    <ol>AC - Asphalt Concrete\n",
    "    <br>PCC - Rigid Pavement\n",
    "    <br>AC/PCC - Composite AC and PCC\n",
    "    <br>ST - Bituminous Surface Treatment\n",
    "\n",
    "<b>SURFACETYPE_2</b> - Secondary pavement used on Street surface     \n",
    "\n",
    "<b>INTRLO</b> - Description of the intersection location with cross street at high address end of segment    \n",
    "\n",
    "<b>DIRLO</b> - Relative direction of low address end of segment   \n",
    "\n",
    "<b>INTKEYLO</b> - Intersection key at low address end of segment     \n",
    "\n",
    "<b>INTRHI</b> - Description of the intersection location with cross street at high address end of segment      \n",
    "\n",
    "<b>DIRHI</b> - Direction of high address end of segment   \n",
    "\n",
    "<b>NATIONHWYSYS</b> - Whether the street is part of the National Highway System (Y/N)      \n",
    "\n",
    "<b>STREETTYPE</b> - Street type classification (from Seattle Right of Way Improvements Manual) \n",
    "    https://streetsillustrated.seattle.gov/https-streetsillustrated-seattle-gov-wp-content-uploads-2019-12-streettyperelationships-movementplacev4-jpg/street-classification/\n",
    "\n",
    "<b>PVMTCONDINDX1</b> - Primary pavement condition, out of 100     \n",
    "\n",
    "<b>PVMTCONDINDX2</b> - Secondary pavement condition, out of 100     \n",
    "\n",
    "<b>TRANCLASS</b> - Street transit classification   \n",
    "\n",
    "<b>TRANDESCRIPT</b> - Transit class description\n",
    "\n",
    "<b>SLOPE_PCT</b> - Street grade in slope percentage \n",
    "\n",
    "<b>PVMTCATEGORY</b> - <i>N/A</i> \n",
    "\n",
    "<b>PARKBOULEVARD</b> - <i>N/A</i> \n",
    "    \n",
    "<b>SHAPE_Length</b> - ESRI field that stores information about the length of a feature in GIS     "
   ]
  },
  {
   "cell_type": "code",
   "execution_count": 5,
   "metadata": {},
   "outputs": [
    {
     "data": {
      "text/html": [
       "<div>\n",
       "<style scoped>\n",
       "    .dataframe tbody tr th:only-of-type {\n",
       "        vertical-align: middle;\n",
       "    }\n",
       "\n",
       "    .dataframe tbody tr th {\n",
       "        vertical-align: top;\n",
       "    }\n",
       "\n",
       "    .dataframe thead th {\n",
       "        text-align: right;\n",
       "    }\n",
       "</style>\n",
       "<table border=\"1\" class=\"dataframe\">\n",
       "  <thead>\n",
       "    <tr style=\"text-align: right;\">\n",
       "      <th></th>\n",
       "      <th>data_type</th>\n",
       "      <th>percent_missing_values</th>\n",
       "      <th>total_unique_values</th>\n",
       "    </tr>\n",
       "  </thead>\n",
       "  <tbody>\n",
       "    <tr>\n",
       "      <th>SURFACETYPE_2</th>\n",
       "      <td>object</td>\n",
       "      <td>97.13</td>\n",
       "      <td>5</td>\n",
       "    </tr>\n",
       "    <tr>\n",
       "      <th>SURFACETYPE_1</th>\n",
       "      <td>object</td>\n",
       "      <td>5.03</td>\n",
       "      <td>6</td>\n",
       "    </tr>\n",
       "    <tr>\n",
       "      <th>STREETTYPE</th>\n",
       "      <td>object</td>\n",
       "      <td>3.33</td>\n",
       "      <td>12</td>\n",
       "    </tr>\n",
       "    <tr>\n",
       "      <th>TRANDESCRIPT</th>\n",
       "      <td>object</td>\n",
       "      <td>0.79</td>\n",
       "      <td>7</td>\n",
       "    </tr>\n",
       "    <tr>\n",
       "      <th>SLOPE_PCT</th>\n",
       "      <td>float64</td>\n",
       "      <td>0.08</td>\n",
       "      <td>34</td>\n",
       "    </tr>\n",
       "    <tr>\n",
       "      <th>INTRHI</th>\n",
       "      <td>object</td>\n",
       "      <td>0.05</td>\n",
       "      <td>14234</td>\n",
       "    </tr>\n",
       "    <tr>\n",
       "      <th>ONEWAY</th>\n",
       "      <td>object</td>\n",
       "      <td>0.05</td>\n",
       "      <td>2</td>\n",
       "    </tr>\n",
       "    <tr>\n",
       "      <th>SURFACEWIDTH</th>\n",
       "      <td>float64</td>\n",
       "      <td>0.04</td>\n",
       "      <td>94</td>\n",
       "    </tr>\n",
       "    <tr>\n",
       "      <th>INTKEYLO</th>\n",
       "      <td>float64</td>\n",
       "      <td>0.04</td>\n",
       "      <td>14110</td>\n",
       "    </tr>\n",
       "    <tr>\n",
       "      <th>INTRLO</th>\n",
       "      <td>object</td>\n",
       "      <td>0.04</td>\n",
       "      <td>14109</td>\n",
       "    </tr>\n",
       "    <tr>\n",
       "      <th>XSTRLO</th>\n",
       "      <td>object</td>\n",
       "      <td>0.03</td>\n",
       "      <td>3684</td>\n",
       "    </tr>\n",
       "    <tr>\n",
       "      <th>PVMTCONDINDX2</th>\n",
       "      <td>float64</td>\n",
       "      <td>0.03</td>\n",
       "      <td>92</td>\n",
       "    </tr>\n",
       "    <tr>\n",
       "      <th>PVMTCONDINDX1</th>\n",
       "      <td>float64</td>\n",
       "      <td>0.03</td>\n",
       "      <td>101</td>\n",
       "    </tr>\n",
       "    <tr>\n",
       "      <th>PARKBOULEVARD</th>\n",
       "      <td>object</td>\n",
       "      <td>0.03</td>\n",
       "      <td>2</td>\n",
       "    </tr>\n",
       "    <tr>\n",
       "      <th>NATIONHWYSYS</th>\n",
       "      <td>object</td>\n",
       "      <td>0.03</td>\n",
       "      <td>2</td>\n",
       "    </tr>\n",
       "    <tr>\n",
       "      <th>DIRHI</th>\n",
       "      <td>object</td>\n",
       "      <td>0.03</td>\n",
       "      <td>8</td>\n",
       "    </tr>\n",
       "    <tr>\n",
       "      <th>UNITID</th>\n",
       "      <td>float64</td>\n",
       "      <td>0.03</td>\n",
       "      <td>2562</td>\n",
       "    </tr>\n",
       "    <tr>\n",
       "      <th>DIRLO</th>\n",
       "      <td>object</td>\n",
       "      <td>0.03</td>\n",
       "      <td>9</td>\n",
       "    </tr>\n",
       "    <tr>\n",
       "      <th>UNITID2</th>\n",
       "      <td>float64</td>\n",
       "      <td>0.03</td>\n",
       "      <td>941</td>\n",
       "    </tr>\n",
       "    <tr>\n",
       "      <th>UNITIDSORT</th>\n",
       "      <td>float64</td>\n",
       "      <td>0.03</td>\n",
       "      <td>23800</td>\n",
       "    </tr>\n",
       "    <tr>\n",
       "      <th>PVMTCATEGORY</th>\n",
       "      <td>object</td>\n",
       "      <td>0.03</td>\n",
       "      <td>7</td>\n",
       "    </tr>\n",
       "    <tr>\n",
       "      <th>ARTCLASS</th>\n",
       "      <td>float64</td>\n",
       "      <td>0.03</td>\n",
       "      <td>7</td>\n",
       "    </tr>\n",
       "    <tr>\n",
       "      <th>FLOW</th>\n",
       "      <td>object</td>\n",
       "      <td>0.03</td>\n",
       "      <td>3</td>\n",
       "    </tr>\n",
       "    <tr>\n",
       "      <th>ONEWAYDIR</th>\n",
       "      <td>object</td>\n",
       "      <td>0.03</td>\n",
       "      <td>9</td>\n",
       "    </tr>\n",
       "    <tr>\n",
       "      <th>UNITDESC</th>\n",
       "      <td>object</td>\n",
       "      <td>0.03</td>\n",
       "      <td>23800</td>\n",
       "    </tr>\n",
       "    <tr>\n",
       "      <th>SEGDIR</th>\n",
       "      <td>object</td>\n",
       "      <td>0.03</td>\n",
       "      <td>9</td>\n",
       "    </tr>\n",
       "    <tr>\n",
       "      <th>SPEEDLIMIT</th>\n",
       "      <td>float64</td>\n",
       "      <td>0.03</td>\n",
       "      <td>10</td>\n",
       "    </tr>\n",
       "    <tr>\n",
       "      <th>BLOCKNBR</th>\n",
       "      <td>float64</td>\n",
       "      <td>0.03</td>\n",
       "      <td>297</td>\n",
       "    </tr>\n",
       "    <tr>\n",
       "      <th>STATUS</th>\n",
       "      <td>object</td>\n",
       "      <td>0.03</td>\n",
       "      <td>6</td>\n",
       "    </tr>\n",
       "    <tr>\n",
       "      <th>OWNER</th>\n",
       "      <td>object</td>\n",
       "      <td>0.03</td>\n",
       "      <td>8</td>\n",
       "    </tr>\n",
       "    <tr>\n",
       "      <th>ARTDESCRIPT</th>\n",
       "      <td>object</td>\n",
       "      <td>0.03</td>\n",
       "      <td>7</td>\n",
       "    </tr>\n",
       "    <tr>\n",
       "      <th>XSTRHI</th>\n",
       "      <td>object</td>\n",
       "      <td>0.03</td>\n",
       "      <td>3685</td>\n",
       "    </tr>\n",
       "    <tr>\n",
       "      <th>SEGLENGTH</th>\n",
       "      <td>float64</td>\n",
       "      <td>0.03</td>\n",
       "      <td>1599</td>\n",
       "    </tr>\n",
       "    <tr>\n",
       "      <th>OBJECTID</th>\n",
       "      <td>int64</td>\n",
       "      <td>0.00</td>\n",
       "      <td>23806</td>\n",
       "    </tr>\n",
       "    <tr>\n",
       "      <th>TRANCLASS</th>\n",
       "      <td>int64</td>\n",
       "      <td>0.00</td>\n",
       "      <td>7</td>\n",
       "    </tr>\n",
       "    <tr>\n",
       "      <th>STNAME_ORD</th>\n",
       "      <td>object</td>\n",
       "      <td>0.00</td>\n",
       "      <td>2410</td>\n",
       "    </tr>\n",
       "    <tr>\n",
       "      <th>COMPKEY</th>\n",
       "      <td>int64</td>\n",
       "      <td>0.00</td>\n",
       "      <td>23806</td>\n",
       "    </tr>\n",
       "    <tr>\n",
       "      <th>SHAPE_Length</th>\n",
       "      <td>float64</td>\n",
       "      <td>0.00</td>\n",
       "      <td>23798</td>\n",
       "    </tr>\n",
       "  </tbody>\n",
       "</table>\n",
       "</div>"
      ],
      "text/plain": [
       "              data_type  percent_missing_values  total_unique_values\n",
       "SURFACETYPE_2    object                   97.13                    5\n",
       "SURFACETYPE_1    object                    5.03                    6\n",
       "STREETTYPE       object                    3.33                   12\n",
       "TRANDESCRIPT     object                    0.79                    7\n",
       "SLOPE_PCT       float64                    0.08                   34\n",
       "INTRHI           object                    0.05                14234\n",
       "ONEWAY           object                    0.05                    2\n",
       "SURFACEWIDTH    float64                    0.04                   94\n",
       "INTKEYLO        float64                    0.04                14110\n",
       "INTRLO           object                    0.04                14109\n",
       "XSTRLO           object                    0.03                 3684\n",
       "PVMTCONDINDX2   float64                    0.03                   92\n",
       "PVMTCONDINDX1   float64                    0.03                  101\n",
       "PARKBOULEVARD    object                    0.03                    2\n",
       "NATIONHWYSYS     object                    0.03                    2\n",
       "DIRHI            object                    0.03                    8\n",
       "UNITID          float64                    0.03                 2562\n",
       "DIRLO            object                    0.03                    9\n",
       "UNITID2         float64                    0.03                  941\n",
       "UNITIDSORT      float64                    0.03                23800\n",
       "PVMTCATEGORY     object                    0.03                    7\n",
       "ARTCLASS        float64                    0.03                    7\n",
       "FLOW             object                    0.03                    3\n",
       "ONEWAYDIR        object                    0.03                    9\n",
       "UNITDESC         object                    0.03                23800\n",
       "SEGDIR           object                    0.03                    9\n",
       "SPEEDLIMIT      float64                    0.03                   10\n",
       "BLOCKNBR        float64                    0.03                  297\n",
       "STATUS           object                    0.03                    6\n",
       "OWNER            object                    0.03                    8\n",
       "ARTDESCRIPT      object                    0.03                    7\n",
       "XSTRHI           object                    0.03                 3685\n",
       "SEGLENGTH       float64                    0.03                 1599\n",
       "OBJECTID          int64                    0.00                23806\n",
       "TRANCLASS         int64                    0.00                    7\n",
       "STNAME_ORD       object                    0.00                 2410\n",
       "COMPKEY           int64                    0.00                23806\n",
       "SHAPE_Length    float64                    0.00                23798"
      ]
     },
     "execution_count": 5,
     "metadata": {},
     "output_type": "execute_result"
    }
   ],
   "source": [
    "# Consider how many missing and unique values there are in each column\n",
    "col_na = round(100*(streets_df.isna().sum()/len(streets_df)), 2)\n",
    "col_nunique = streets_df.nunique()\n",
    "df_summary = pd.DataFrame({\"data_type\": streets_df.dtypes,\n",
    "                           \"percent_missing_values\": col_na,\n",
    "                           \"total_unique_values\": col_nunique}).sort_values(by=[\"percent_missing_values\"],\n",
    "                                                                            ascending=False)\n",
    "df_summary"
   ]
  },
  {
   "cell_type": "code",
   "execution_count": 6,
   "metadata": {},
   "outputs": [
    {
     "data": {
      "image/png": "[encoded data removed]",
      "text/plain": [
       "<Figure size 648x432 with 1 Axes>"
      ]
     },
     "metadata": {
      "needs_background": "light"
     },
     "output_type": "display_data"
    }
   ],
   "source": [
    "#DISTRIBUTION OF VARIATIONS BY STREET\n",
    "fig, ax = plt.subplots(figsize=(9,6))\n",
    "ax.hist(streets_df['STNAME_ORD'].value_counts(), bins=30, color='lightseagreen')\n",
    "ax.set_title('Distribution of Number of Street Variations')\n",
    "ax.set_xlabel('Number of Variations')\n",
    "ax.set_ylabel('Number of Streets');"
   ]
  },
  {
   "cell_type": "code",
   "execution_count": 7,
   "metadata": {},
   "outputs": [
    {
     "data": {
      "image/png": "[encoded data removed]",
      "text/plain": [
       "<Figure size 648x432 with 1 Axes>"
      ]
     },
     "metadata": {
      "needs_background": "light"
     },
     "output_type": "display_data"
    }
   ],
   "source": [
    "#ARTERIAL CLASS DISTRIBUTION\n",
    "artclass_dict = {5 : 'Intst Fway',\n",
    "                 4 : 'St Hway',\n",
    "                 3 : 'Collector',\n",
    "                 2 : 'Minor',\n",
    "                 1 : 'Principal',\n",
    "                 0 : 'Non-Arterial'}\n",
    "\n",
    "fig, ax = plt.subplots(figsize=(9,6))\n",
    "arterials = streets_df['ARTCLASS'].value_counts().iloc[:6]\n",
    "\n",
    "ax.bar([artclass_dict[i] for i in arterials.index], arterials, color='steelblue')\n",
    "ax.set_title('Number of Streets in Seattle by Arterial Class')\n",
    "ax.set_ylabel('Number of Streets', size=12);"
   ]
  },
  {
   "cell_type": "code",
   "execution_count": 8,
   "metadata": {},
   "outputs": [
    {
     "data": {
      "image/png": "[encoded data removed]",
      "text/plain": [
       "<Figure size 648x432 with 1 Axes>"
      ]
     },
     "metadata": {
      "needs_background": "light"
     },
     "output_type": "display_data"
    }
   ],
   "source": [
    "#Speed Limits \n",
    "fig, ax = plt.subplots(figsize=(9,6))\n",
    "speeds = streets_df['SPEEDLIMIT'].value_counts()\n",
    "ax.bar(speeds.index.astype(str), speeds, color='tab:red')\n",
    "ax.set_title('Distribution of Speed Limits on Seattle Streets')\n",
    "ax.set_xlabel('Miles Per Hour')\n",
    "ax.set_ylabel('Number of Streets', size=12);"
   ]
  },
  {
   "cell_type": "code",
   "execution_count": 9,
   "metadata": {},
   "outputs": [
    {
     "data": {
      "image/png": "[encoded data removed]",
      "text/plain": [
       "<Figure size 648x432 with 1 Axes>"
      ]
     },
     "metadata": {
      "needs_background": "light"
     },
     "output_type": "display_data"
    }
   ],
   "source": [
    "#Compare location types for collisions\n",
    "fig, ax = plt.subplots(figsize=(9,6))\n",
    "addr_types = collisions_df['ADDRTYPE'].value_counts()\n",
    "ax.bar(addr_types.index, addr_types, color='goldenrod')\n",
    "ax.set_title('Number of Seattle Collisions by Address Type (2004-2020)')\n",
    "ax.set_ylabel('Number of collisions', size=12);"
   ]
  },
  {
   "cell_type": "code",
   "execution_count": 10,
   "metadata": {},
   "outputs": [],
   "source": [
    "#Look at Collisions not occuring at Intersections\n",
    "block_mask = collisions_df['ADDRTYPE'] == 'Block'\n",
    "collision_streets = collisions_df[block_mask]['LOCATION'].apply(lambda string: string.split(' BETWEEN ')[0])"
   ]
  },
  {
   "cell_type": "code",
   "execution_count": 11,
   "metadata": {},
   "outputs": [
    {
     "data": {
      "image/png": "[encoded data removed]",
      "text/plain": [
       "<Figure size 648x432 with 1 Axes>"
      ]
     },
     "metadata": {
      "needs_background": "light"
     },
     "output_type": "display_data"
    }
   ],
   "source": [
    "fig, ax = plt.subplots(figsize=(9,6))\n",
    "top_10 = collision_streets.value_counts().sort_values(ascending=False)[:10]\n",
    "ax.bar(top_10.index, top_10, color='darkorchid')\n",
    "ax.set_title(\"Top 10 Most 'Dangerous' Blocks in Seattle (2004-2020)\")\n",
    "ax.set_ylabel('Number of collisions', size=12)\n",
    "ax.tick_params(axis='x', labelrotation=45);"
   ]
  },
  {
   "cell_type": "code",
   "execution_count": 12,
   "metadata": {},
   "outputs": [
    {
     "data": {
      "image/png": "[encoded data removed]",
      "text/plain": [
       "<Figure size 648x432 with 1 Axes>"
      ]
     },
     "metadata": {
      "needs_background": "light"
     },
     "output_type": "display_data"
    }
   ],
   "source": [
    "fig, ax = plt.subplots(figsize=(9,6))\n",
    "classes = [streets_df[streets_df['STNAME_ORD'] == i]['ARTCLASS'].values for i in top_10.index]\n",
    "\n",
    "ax.boxplot(classes)\n",
    "ax.set_xticklabels(top_10.index, rotation=45)\n",
    "ax.set_title('Distribution of Arterial Class for Top 10 Collision Streets')\n",
    "ax.set_ylabel('Arterial Class');"
   ]
  },
  {
   "cell_type": "code",
   "execution_count": 13,
   "metadata": {},
   "outputs": [
    {
     "data": {
      "image/png": "[encoded data removed]",
      "text/plain": [
       "<Figure size 648x432 with 1 Axes>"
      ]
     },
     "metadata": {
      "needs_background": "light"
     },
     "output_type": "display_data"
    }
   ],
   "source": [
    "fig, ax = plt.subplots(figsize=(9,6))\n",
    "slopes = [streets_df[streets_df['STNAME_ORD'] == i]['SURFACEWIDTH'].values for i in top_10.index]\n",
    "\n",
    "ax.boxplot(slopes)\n",
    "ax.set_xticklabels(top_10.index, rotation=45)\n",
    "ax.set_title('Distribution of Surface Width for Top 10 Collision Streets')\n",
    "ax.set_ylabel('Street Width in Feet');"
   ]
  },
  {
   "cell_type": "code",
   "execution_count": 14,
   "metadata": {},
   "outputs": [
    {
     "data": {
      "image/png": "[encoded data removed]",
      "text/plain": [
       "<Figure size 648x432 with 1 Axes>"
      ]
     },
     "metadata": {
      "needs_background": "light"
     },
     "output_type": "display_data"
    }
   ],
   "source": [
    "fig, ax = plt.subplots(figsize=(9,6))\n",
    "slopes = [streets_df[streets_df['STNAME_ORD'] == i]['SLOPE_PCT'].values for i in top_10.index]\n",
    "\n",
    "ax.boxplot(slopes)\n",
    "ax.set_xticklabels(top_10.index, rotation=45)\n",
    "ax.set_title('Distribution of Slope Percent for Top 10 Collision Streets')\n",
    "ax.set_ylabel('Slope Percent');"
   ]
  },
  {
   "cell_type": "markdown",
   "metadata": {},
   "source": [
    "# Exploring Collisions Data\n",
    "\n",
    "The collisions data is a goldmine of information, but there are many features with missing or inconsistent data. Missing data can often be filled in based on the collision description. \n",
    "\n",
    "Some features, like speeding, are missing >75% of the data. However, this feature is likely too important to drop completely from our analysis. "
   ]
  },
  {
   "cell_type": "markdown",
   "metadata": {},
   "source": [
    "### General Statistics\n",
    "\n",
    "#### Features\n",
    "\n",
    "##### Numeric\n",
    "- PERSONCOUNT (# of people invovled)  \n",
    "- PEDCOUNT (# of pedestirans)  \n",
    "- PEDCYLCOUNT (# of cyclists)  \n",
    "- VEHCOUNT (# of vehicles)\n",
    "- INJURIES (# of injuries)\n",
    "- SERIOUSINJURIES (# of serious injuries)\n",
    "- FATALITIES (# of deaths)  \n",
    "\n",
    "##### Human factors\n",
    "- INATTENTIONIND (whether or not collision was due to inattention)\n",
    "- UNDERINFL (whether or not a driver involved was under the influence)\n",
    "- PEDROWNOTGRNT(Whether pedestrian had the right of way)\n",
    "- SPEEDING (whether or not speeding was a factor in the collision)\n",
    "- ST_COLCODE (collision type label)\n",
    "\n",
    "\n",
    "##### Characteristics of the site\n",
    "- ADDRTYPE (address type)\n",
    "- LOCATION (described in street names)\n",
    "- X & Y (GPS location)\n",
    "- CROSSWALKKEY (crosswalk label)\n",
    "- JUNCTIONTYPE (junction type)\n",
    "- ROADCOND (road condition)\n",
    "\n",
    "##### External factors\n",
    "- LIGHTCOND (light condition)\n",
    "- WEATHER (description of the weather conditions during the time of the collision)"
   ]
  },
  {
   "cell_type": "code",
   "execution_count": 15,
   "metadata": {},
   "outputs": [
    {
     "data": {
      "text/html": [
       "<div>\n",
       "<style scoped>\n",
       "    .dataframe tbody tr th:only-of-type {\n",
       "        vertical-align: middle;\n",
       "    }\n",
       "\n",
       "    .dataframe tbody tr th {\n",
       "        vertical-align: top;\n",
       "    }\n",
       "\n",
       "    .dataframe thead th {\n",
       "        text-align: right;\n",
       "    }\n",
       "</style>\n",
       "<table border=\"1\" class=\"dataframe\">\n",
       "  <thead>\n",
       "    <tr style=\"text-align: right;\">\n",
       "      <th></th>\n",
       "      <th>X</th>\n",
       "      <th>Y</th>\n",
       "      <th>OBJECTID</th>\n",
       "      <th>INCKEY</th>\n",
       "      <th>COLDETKEY</th>\n",
       "      <th>INTKEY</th>\n",
       "      <th>PERSONCOUNT</th>\n",
       "      <th>PEDCOUNT</th>\n",
       "      <th>PEDCYLCOUNT</th>\n",
       "      <th>VEHCOUNT</th>\n",
       "      <th>INJURIES</th>\n",
       "      <th>SERIOUSINJURIES</th>\n",
       "      <th>FATALITIES</th>\n",
       "      <th>SDOT_COLCODE</th>\n",
       "      <th>SDOTCOLNUM</th>\n",
       "      <th>SEGLANEKEY</th>\n",
       "      <th>CROSSWALKKEY</th>\n",
       "    </tr>\n",
       "  </thead>\n",
       "  <tbody>\n",
       "    <tr>\n",
       "      <th>count</th>\n",
       "      <td>212878.000000</td>\n",
       "      <td>212878.000000</td>\n",
       "      <td>220338.000000</td>\n",
       "      <td>220338.000000</td>\n",
       "      <td>220338.000000</td>\n",
       "      <td>71472.000000</td>\n",
       "      <td>220338.000000</td>\n",
       "      <td>220338.000000</td>\n",
       "      <td>220338.000000</td>\n",
       "      <td>220338.000000</td>\n",
       "      <td>220338.000000</td>\n",
       "      <td>220338.000000</td>\n",
       "      <td>220338.000000</td>\n",
       "      <td>220337.000000</td>\n",
       "      <td>1.272050e+05</td>\n",
       "      <td>220338.000000</td>\n",
       "      <td>2.203380e+05</td>\n",
       "    </tr>\n",
       "    <tr>\n",
       "      <th>mean</th>\n",
       "      <td>-122.330752</td>\n",
       "      <td>47.620234</td>\n",
       "      <td>110169.500000</td>\n",
       "      <td>143809.710463</td>\n",
       "      <td>144031.876830</td>\n",
       "      <td>37601.430980</td>\n",
       "      <td>2.227119</td>\n",
       "      <td>0.038155</td>\n",
       "      <td>0.027294</td>\n",
       "      <td>1.730614</td>\n",
       "      <td>0.373839</td>\n",
       "      <td>0.015168</td>\n",
       "      <td>0.001675</td>\n",
       "      <td>13.382124</td>\n",
       "      <td>7.971063e+06</td>\n",
       "      <td>262.542689</td>\n",
       "      <td>9.621717e+03</td>\n",
       "    </tr>\n",
       "    <tr>\n",
       "      <th>std</th>\n",
       "      <td>0.030042</td>\n",
       "      <td>0.056006</td>\n",
       "      <td>63606.246144</td>\n",
       "      <td>88381.117503</td>\n",
       "      <td>88747.658541</td>\n",
       "      <td>51864.925192</td>\n",
       "      <td>1.471631</td>\n",
       "      <td>0.201883</td>\n",
       "      <td>0.164355</td>\n",
       "      <td>0.829109</td>\n",
       "      <td>0.732377</td>\n",
       "      <td>0.158098</td>\n",
       "      <td>0.044503</td>\n",
       "      <td>7.306179</td>\n",
       "      <td>2.611523e+06</td>\n",
       "      <td>3255.640460</td>\n",
       "      <td>7.162528e+04</td>\n",
       "    </tr>\n",
       "    <tr>\n",
       "      <th>min</th>\n",
       "      <td>-122.419091</td>\n",
       "      <td>47.495573</td>\n",
       "      <td>1.000000</td>\n",
       "      <td>1001.000000</td>\n",
       "      <td>1001.000000</td>\n",
       "      <td>23807.000000</td>\n",
       "      <td>0.000000</td>\n",
       "      <td>0.000000</td>\n",
       "      <td>0.000000</td>\n",
       "      <td>0.000000</td>\n",
       "      <td>0.000000</td>\n",
       "      <td>0.000000</td>\n",
       "      <td>0.000000</td>\n",
       "      <td>0.000000</td>\n",
       "      <td>1.007024e+06</td>\n",
       "      <td>0.000000</td>\n",
       "      <td>0.000000e+00</td>\n",
       "    </tr>\n",
       "    <tr>\n",
       "      <th>25%</th>\n",
       "      <td>-122.349280</td>\n",
       "      <td>47.577331</td>\n",
       "      <td>55085.250000</td>\n",
       "      <td>71371.250000</td>\n",
       "      <td>71371.250000</td>\n",
       "      <td>28652.000000</td>\n",
       "      <td>2.000000</td>\n",
       "      <td>0.000000</td>\n",
       "      <td>0.000000</td>\n",
       "      <td>2.000000</td>\n",
       "      <td>0.000000</td>\n",
       "      <td>0.000000</td>\n",
       "      <td>0.000000</td>\n",
       "      <td>11.000000</td>\n",
       "      <td>6.007029e+06</td>\n",
       "      <td>0.000000</td>\n",
       "      <td>0.000000e+00</td>\n",
       "    </tr>\n",
       "    <tr>\n",
       "      <th>50%</th>\n",
       "      <td>-122.330348</td>\n",
       "      <td>47.616106</td>\n",
       "      <td>110169.500000</td>\n",
       "      <td>126657.500000</td>\n",
       "      <td>126657.500000</td>\n",
       "      <td>29973.000000</td>\n",
       "      <td>2.000000</td>\n",
       "      <td>0.000000</td>\n",
       "      <td>0.000000</td>\n",
       "      <td>2.000000</td>\n",
       "      <td>0.000000</td>\n",
       "      <td>0.000000</td>\n",
       "      <td>0.000000</td>\n",
       "      <td>11.000000</td>\n",
       "      <td>8.033011e+06</td>\n",
       "      <td>0.000000</td>\n",
       "      <td>0.000000e+00</td>\n",
       "    </tr>\n",
       "    <tr>\n",
       "      <th>75%</th>\n",
       "      <td>-122.312000</td>\n",
       "      <td>47.664228</td>\n",
       "      <td>165253.750000</td>\n",
       "      <td>208221.750000</td>\n",
       "      <td>208421.750000</td>\n",
       "      <td>33983.000000</td>\n",
       "      <td>3.000000</td>\n",
       "      <td>0.000000</td>\n",
       "      <td>0.000000</td>\n",
       "      <td>2.000000</td>\n",
       "      <td>1.000000</td>\n",
       "      <td>0.000000</td>\n",
       "      <td>0.000000</td>\n",
       "      <td>14.000000</td>\n",
       "      <td>1.018101e+07</td>\n",
       "      <td>0.000000</td>\n",
       "      <td>0.000000e+00</td>\n",
       "    </tr>\n",
       "    <tr>\n",
       "      <th>max</th>\n",
       "      <td>-122.238949</td>\n",
       "      <td>47.734142</td>\n",
       "      <td>220338.000000</td>\n",
       "      <td>332492.000000</td>\n",
       "      <td>333992.000000</td>\n",
       "      <td>757580.000000</td>\n",
       "      <td>93.000000</td>\n",
       "      <td>6.000000</td>\n",
       "      <td>2.000000</td>\n",
       "      <td>15.000000</td>\n",
       "      <td>78.000000</td>\n",
       "      <td>41.000000</td>\n",
       "      <td>5.000000</td>\n",
       "      <td>87.000000</td>\n",
       "      <td>1.307202e+07</td>\n",
       "      <td>525241.000000</td>\n",
       "      <td>5.239700e+06</td>\n",
       "    </tr>\n",
       "  </tbody>\n",
       "</table>\n",
       "</div>"
      ],
      "text/plain": [
       "                   X              Y       OBJECTID         INCKEY  \\\n",
       "count  212878.000000  212878.000000  220338.000000  220338.000000   \n",
       "mean     -122.330752      47.620234  110169.500000  143809.710463   \n",
       "std         0.030042       0.056006   63606.246144   88381.117503   \n",
       "min      -122.419091      47.495573       1.000000    1001.000000   \n",
       "25%      -122.349280      47.577331   55085.250000   71371.250000   \n",
       "50%      -122.330348      47.616106  110169.500000  126657.500000   \n",
       "75%      -122.312000      47.664228  165253.750000  208221.750000   \n",
       "max      -122.238949      47.734142  220338.000000  332492.000000   \n",
       "\n",
       "           COLDETKEY         INTKEY    PERSONCOUNT       PEDCOUNT  \\\n",
       "count  220338.000000   71472.000000  220338.000000  220338.000000   \n",
       "mean   144031.876830   37601.430980       2.227119       0.038155   \n",
       "std     88747.658541   51864.925192       1.471631       0.201883   \n",
       "min      1001.000000   23807.000000       0.000000       0.000000   \n",
       "25%     71371.250000   28652.000000       2.000000       0.000000   \n",
       "50%    126657.500000   29973.000000       2.000000       0.000000   \n",
       "75%    208421.750000   33983.000000       3.000000       0.000000   \n",
       "max    333992.000000  757580.000000      93.000000       6.000000   \n",
       "\n",
       "         PEDCYLCOUNT       VEHCOUNT       INJURIES  SERIOUSINJURIES  \\\n",
       "count  220338.000000  220338.000000  220338.000000    220338.000000   \n",
       "mean        0.027294       1.730614       0.373839         0.015168   \n",
       "std         0.164355       0.829109       0.732377         0.158098   \n",
       "min         0.000000       0.000000       0.000000         0.000000   \n",
       "25%         0.000000       2.000000       0.000000         0.000000   \n",
       "50%         0.000000       2.000000       0.000000         0.000000   \n",
       "75%         0.000000       2.000000       1.000000         0.000000   \n",
       "max         2.000000      15.000000      78.000000        41.000000   \n",
       "\n",
       "          FATALITIES   SDOT_COLCODE    SDOTCOLNUM     SEGLANEKEY  CROSSWALKKEY  \n",
       "count  220338.000000  220337.000000  1.272050e+05  220338.000000  2.203380e+05  \n",
       "mean        0.001675      13.382124  7.971063e+06     262.542689  9.621717e+03  \n",
       "std         0.044503       7.306179  2.611523e+06    3255.640460  7.162528e+04  \n",
       "min         0.000000       0.000000  1.007024e+06       0.000000  0.000000e+00  \n",
       "25%         0.000000      11.000000  6.007029e+06       0.000000  0.000000e+00  \n",
       "50%         0.000000      11.000000  8.033011e+06       0.000000  0.000000e+00  \n",
       "75%         0.000000      14.000000  1.018101e+07       0.000000  0.000000e+00  \n",
       "max         5.000000      87.000000  1.307202e+07  525241.000000  5.239700e+06  "
      ]
     },
     "execution_count": 15,
     "metadata": {},
     "output_type": "execute_result"
    }
   ],
   "source": [
    "collisions_df.describe()"
   ]
  },
  {
   "cell_type": "markdown",
   "metadata": {},
   "source": [
    "#### Missing Values in Data"
   ]
  },
  {
   "cell_type": "code",
   "execution_count": 16,
   "metadata": {},
   "outputs": [
    {
     "data": {
      "image/png": "[encoded data removed]",
      "text/plain": [
       "<Figure size 432x288 with 1 Axes>"
      ]
     },
     "metadata": {
      "needs_background": "light"
     },
     "output_type": "display_data"
    }
   ],
   "source": [
    "# Clean up and set index to datetime\n",
    "collisions_df = (\n",
    "    collisions_df.set_index('Datetime')\n",
    "    .sort_index()\n",
    "    .drop(columns=['EXCEPTRSNDESC', 'EXCEPTRSNCODE', 'REPORTNO', 'STATUS'])\n",
    ")\n",
    "\n",
    "# Plot missing values\n",
    "pct_null = (collisions_df.isna().sum()/collisions_df.shape[0]).plot(kind='bar', \n",
    "                                                              title=\"Percent Values Missing\")"
   ]
  },
  {
   "cell_type": "markdown",
   "metadata": {},
   "source": [
    "#### Description of accidents that supossedly have zero people and zero vehicles\n",
    "\n",
    "We will have to backfill some information based on the collision description. There are > 19,000 collisions that claim to have zero people and zero vehicles involved."
   ]
  },
  {
   "cell_type": "code",
   "execution_count": 17,
   "metadata": {},
   "outputs": [
    {
     "name": "stdout",
     "output_type": "stream",
     "text": [
      "Fraction of collisions that have zero people and zero vehicles: 0.0878\n",
      "\n",
      "Descriptions of these events:\n"
     ]
    },
    {
     "data": {
      "text/plain": [
       "NOT ENOUGH INFORMATION / NOT APPLICABLE                         8060\n",
       "MOTOR VEHICLE STRUCK MOTOR VEHICLE, FRONT END AT ANGLE          4764\n",
       "MOTOR VEHICLE STRUCK MOTOR VEHICLE, REAR END                    3963\n",
       "MOTOR VEHICLE STRUCK MOTOR VEHICLE, LEFT SIDE SIDESWIPE          894\n",
       "MOTOR VEHICLE STRUCK MOTOR VEHICLE, LEFT SIDE AT ANGLE           529\n",
       "MOTOR VEHICLE RAN OFF ROAD - HIT FIXED OBJECT                    306\n",
       "MOTOR VEHICLE STRUCK MOTOR VEHICLE, RIGHT SIDE SIDESWIPE         184\n",
       "MOTOR VEHICLE STRUCK MOTOR VEHICLE, RIGHT SIDE AT ANGLE          168\n",
       "MOTOR VEHCILE STRUCK PEDESTRIAN                                  159\n",
       "MOTOR VEHICLE STRUCK OBJECT IN ROAD                              148\n",
       "MOTOR VEHICLE STRUCK PEDALCYCLIST, FRONT END AT ANGLE             68\n",
       "PEDALCYCLIST STRUCK MOTOR VEHICLE FRONT END AT ANGLE              24\n",
       "MOTOR VEHICLE OVERTURNED IN ROAD                                  22\n",
       "DRIVERLESS VEHICLE RAN OFF ROAD - HIT FIXED OBJECT                10\n",
       "PEDALCYCLIST STRUCK MOTOR VEHICLE LEFT SIDE SIDESWIPE              7\n",
       "DRIVERLESS VEHICLE STRUCK MOTOR VEHICLE REAR END                   7\n",
       "PEDALCYCLIST OVERTURNED IN ROAD                                    6\n",
       "DRIVERLESS VEHICLE STRUCK MOTOR VEHICLE FRONT END AT ANGLE         5\n",
       "PEDALCYCLIST STRUCK PEDESTRIAN                                     5\n",
       "MOTOR VEHICLE STRUCK TRAIN                                         3\n",
       "PEDALCYCLIST STRUCK OBJECT IN ROAD                                 3\n",
       "DRIVERLESS VEHICLE STRUCK MOTOR VEHICLE LEFT SIDE AT ANGLE         3\n",
       "MOTOR VEHICLE STRUCK PEDALCYCLIST, REAR END                        3\n",
       "PEDALCYCLIST STRUCK MOTOR VEHICLE RIGHT SIDE SIDESWIPE             2\n",
       "PEDALCYCLIST STRUCK MOTOR VEHICLE REAR END                         2\n",
       "MOTOR VEHICLE STRUCK PEDALCYCLIST, RIGHT SIDE SIDESWIPE            1\n",
       "MOTOR VEHICLE RAN OFF ROAD - NO COLLISION                          1\n",
       "DRIVERLESS VEHICLE STRUCK OBJECT IN ROADWAY                        1\n",
       "DRIVERLESS VEHICLE STRUCK MOTOR VEHICLE RIGHT SIDE AT ANGLE        1\n",
       "PEDALCYCLIST RAN OFF ROAD - HIT FIXED OBJECT                       1\n",
       "MOTOR VEHICLE STRUCK PEDALCYCLIST, LEFT SIDE SIDESWIPE             1\n",
       "Name: SDOT_COLDESC, dtype: int64"
      ]
     },
     "execution_count": 17,
     "metadata": {},
     "output_type": "execute_result"
    }
   ],
   "source": [
    "# How many of these involve ZERO people (ie, terrible book-keeping)\n",
    "no_people = collisions_df.loc[(collisions_df['PEDCOUNT'] == 0) & \n",
    "           (collisions_df['PEDCYLCOUNT'] == 0) & \n",
    "           (collisions_df['PERSONCOUNT'] == 0) & \n",
    "            (collisions_df['VEHCOUNT'] == 0)]\n",
    "\n",
    "no_people_frac = no_people.shape[0]/collisions_df.shape[0]\n",
    "print('Fraction of collisions that have zero people and zero vehicles: {:0.4f}\\n'.format(no_people_frac))\n",
    "print('Descriptions of these events:')\n",
    "# Show descriptions\n",
    "no_people['SDOT_COLDESC'].value_counts()"
   ]
  },
  {
   "cell_type": "markdown",
   "metadata": {},
   "source": [
    "#### Most Dangerous Intersections\n",
    "\n",
    "We wanted to look at the most dangerous intersections for cyclists and pedestrians. So we started by looking at the most dangerous intersections overall. <b>Note that the intersection key is missing in over 60% of the data! </b>\n",
    "\n",
    "Most intersections had only 1 collision, but some of them had > 100"
   ]
  },
  {
   "cell_type": "code",
   "execution_count": 18,
   "metadata": {},
   "outputs": [
    {
     "data": {
      "image/png": "[encoded data removed]",
      "text/plain": [
       "<Figure size 864x288 with 2 Axes>"
      ]
     },
     "metadata": {
      "needs_background": "light"
     },
     "output_type": "display_data"
    }
   ],
   "source": [
    "## Look at collision count at specific intersections\n",
    "n_coll_intersect = collisions_df.groupby(by='INTKEY').count().sort_values(by='OBJECTID', ascending=False)\n",
    "\n",
    "fig, axes = plt.subplots(1, 2, figsize=(12,4))\n",
    "ax = axes[0]\n",
    "ax.hist(n_coll_intersect['OBJECTID'], bins=50)\n",
    "ax.set_xlim(0,50)\n",
    "ax.set_xlabel('Number of Collisions')\n",
    "ax.set_ylabel('Intersection Count')\n",
    "ax.set_title(\"Number of Intersections with High Collisions\");\n",
    "\n",
    "ax = axes[1]\n",
    "ax.hist(n_coll_intersect['OBJECTID'], bins=10, log=True)\n",
    "ax.set_xlabel('Number of Collisions')\n",
    "ax.set_ylabel('Intersection Count (Log Scale)')\n",
    "ax.set_title(\"Number of Intersections with High Collisions\");"
   ]
  },
  {
   "cell_type": "code",
   "execution_count": 19,
   "metadata": {},
   "outputs": [
    {
     "data": {
      "image/png": "[encoded data removed]",
      "text/plain": [
       "<Figure size 432x288 with 1 Axes>"
      ]
     },
     "metadata": {
      "needs_background": "light"
     },
     "output_type": "display_data"
    }
   ],
   "source": [
    "# Find 20 most dangerous intersections\n",
    "intersections = collisions_df.copy().set_index('INTKEY')\n",
    "top_20 = list(n_coll_intersect.index[:20])\n",
    "title = 'Most Dangerous Intersections: Number of Collisions'\n",
    "\n",
    "intersections['LOCATION'].loc[top_20].value_counts()[::-1].plot(kind='barh', \n",
    "                                                                title=title)\n",
    "ax.set_xlabel('Collision Count');"
   ]
  },
  {
   "cell_type": "markdown",
   "metadata": {},
   "source": [
    "#### Collisions that included pedestrians or cyclists (or both)"
   ]
  },
  {
   "cell_type": "code",
   "execution_count": 20,
   "metadata": {},
   "outputs": [
    {
     "data": {
      "text/html": [
       "<div>\n",
       "<style scoped>\n",
       "    .dataframe tbody tr th:only-of-type {\n",
       "        vertical-align: middle;\n",
       "    }\n",
       "\n",
       "    .dataframe tbody tr th {\n",
       "        vertical-align: top;\n",
       "    }\n",
       "\n",
       "    .dataframe thead th {\n",
       "        text-align: right;\n",
       "    }\n",
       "</style>\n",
       "<table border=\"1\" class=\"dataframe\">\n",
       "  <thead>\n",
       "    <tr style=\"text-align: right;\">\n",
       "      <th></th>\n",
       "      <th>Fraction w/cyclist</th>\n",
       "      <th>Fraction w/ped</th>\n",
       "      <th>Fraction w/no cars</th>\n",
       "    </tr>\n",
       "  </thead>\n",
       "  <tbody>\n",
       "    <tr>\n",
       "      <th>0</th>\n",
       "      <td>0.027063</td>\n",
       "      <td>0.036476</td>\n",
       "      <td>0.001103</td>\n",
       "    </tr>\n",
       "  </tbody>\n",
       "</table>\n",
       "</div>"
      ],
      "text/plain": [
       "   Fraction w/cyclist  Fraction w/ped  Fraction w/no cars\n",
       "0            0.027063        0.036476            0.001103"
      ]
     },
     "execution_count": 20,
     "metadata": {},
     "output_type": "execute_result"
    }
   ],
   "source": [
    "# Break down by pedestrian or cyclist involvement\n",
    "pedcycle_count = collisions_df.groupby(by='PEDCYLCOUNT').count()['OBJECTID']\n",
    "ped_count = collisions_df.groupby(by='PEDCOUNT').count()['OBJECTID']\n",
    "\n",
    "# Get fraction of collisions that included cyclists/pedestrians/no cars\n",
    "cycle_fraction = pedcycle_count.loc[1:].sum()/pedcycle_count.sum()\n",
    "\n",
    "# Get fraction of collisions that included pedestrians\n",
    "ped_fraction = ped_count.loc[1:].sum()/ped_count.sum()\n",
    "\n",
    "# Are there accidents with no cars involved?\n",
    "no_cars = collisions_df.loc[((collisions_df['PEDCOUNT'] != 0) | \\\n",
    "           (collisions_df['PEDCYLCOUNT'] != 0)) & \\\n",
    "            (collisions_df['VEHCOUNT'] == 0)]\n",
    "\n",
    "#veh_count = collisions.groupby(by='VEHCOUNT').count()['OBJECTID']\n",
    "no_car_fraction = no_cars.shape[0]/collisions_df.shape[0]\n",
    "\n",
    "# # Put these into own dataframe\n",
    "pd.DataFrame({'Fraction w/cyclist': cycle_fraction, \n",
    "              'Fraction w/ped': ped_fraction,\n",
    "             'Fraction w/no cars': no_car_fraction}, index=range(1))"
   ]
  },
  {
   "cell_type": "markdown",
   "metadata": {},
   "source": [
    "# Exploring Additional Data\n",
    "\n",
    "### Possible additional datasets:\n",
    "\n",
    "- Current Land Use Zoning Detail: https://data.seattle.gov/Land-Base/Current-Land-Use-Zoning-Detail/9nvb-wk9b\n",
    "- Bike Rack Locations (Contains lat&long): https://data.seattle.gov/Land-Base/Bike-Racks/pbej-cxb2\n",
    "- Marked Crosswalks (Contains lat&long, including at signal or stop sign): https://data.seattle.gov/Land-Base/Marked-Crosswalks/dx75-5pzj\n",
    "- Radar Speed Signs (Contains lat&long): https://data.seattle.gov/Land-Base/Radar-Speed-Signs/siht-4gsh\n",
    "\n",
    "Bike rack locations, marked crosswalks and radar speed signs are datasets containing latitude and longitudes for those objects. We can attempt to calculate the distance of collisions to the these features. It can potentially be added as features to predicting if an intersection has a higher risk of collisions depending on its proximity to certain features."
   ]
  },
  {
   "cell_type": "code",
   "execution_count": 21,
   "metadata": {},
   "outputs": [],
   "source": [
    "# Mapping tool\n",
    "# pip install geopy\n",
    "# pip install folium\n",
    "import folium\n",
    "from geopy.geocoders import Nominatim"
   ]
  },
  {
   "cell_type": "markdown",
   "metadata": {},
   "source": [
    "### Bike Racks\n",
    "\n",
    "Our current assumption is that areas with bike racks would generating more cyclist traffic going to and from the racks."
   ]
  },
  {
   "cell_type": "code",
   "execution_count": 22,
   "metadata": {},
   "outputs": [
    {
     "data": {
      "text/html": [
       "<div>\n",
       "<style scoped>\n",
       "    .dataframe tbody tr th:only-of-type {\n",
       "        vertical-align: middle;\n",
       "    }\n",
       "\n",
       "    .dataframe tbody tr th {\n",
       "        vertical-align: top;\n",
       "    }\n",
       "\n",
       "    .dataframe thead th {\n",
       "        text-align: right;\n",
       "    }\n",
       "</style>\n",
       "<table border=\"1\" class=\"dataframe\">\n",
       "  <thead>\n",
       "    <tr style=\"text-align: right;\">\n",
       "      <th></th>\n",
       "      <th>X</th>\n",
       "      <th>Y</th>\n",
       "      <th>OBJECTID</th>\n",
       "      <th>COMPKEY</th>\n",
       "      <th>COMPTYPE</th>\n",
       "      <th>SEGKEY</th>\n",
       "      <th>DISTANCE</th>\n",
       "      <th>WIDTH</th>\n",
       "      <th>UNITID</th>\n",
       "      <th>UNITTYPE</th>\n",
       "      <th>UNITDESC</th>\n",
       "      <th>BIKE_FACILITY</th>\n",
       "      <th>RACK_CAPACITY</th>\n",
       "      <th>DELINEATOR_POSTS</th>\n",
       "      <th>FINISH_TYPE</th>\n",
       "      <th>SURFACE_TYPE</th>\n",
       "      <th>INSTALL_DATE</th>\n",
       "      <th>MOUNT_TYPE</th>\n",
       "      <th>COLOR</th>\n",
       "      <th>MANUFACTURER</th>\n",
       "      <th>MODEL_TYPE</th>\n",
       "      <th>CONDITION</th>\n",
       "      <th>CONDITION_ASSESSMENT_DATE</th>\n",
       "      <th>SIDE</th>\n",
       "      <th>OWNERSHIP</th>\n",
       "      <th>CURRENT_STATUS</th>\n",
       "      <th>PRIMARYDISTRICTCD</th>\n",
       "      <th>SECONDARYDISTRICTCD</th>\n",
       "      <th>OVERRIDEYN</th>\n",
       "      <th>OVERRIDECOMMENT</th>\n",
       "      <th>SHAPE_LNG</th>\n",
       "      <th>SHAPE_LAT</th>\n",
       "    </tr>\n",
       "  </thead>\n",
       "  <tbody>\n",
       "    <tr>\n",
       "      <th>0</th>\n",
       "      <td>1.257066e+06</td>\n",
       "      <td>247817.450418</td>\n",
       "      <td>1</td>\n",
       "      <td>639535</td>\n",
       "      <td>16</td>\n",
       "      <td>19236</td>\n",
       "      <td>427.0</td>\n",
       "      <td>-31.0</td>\n",
       "      <td>BKR-3650</td>\n",
       "      <td>BKR</td>\n",
       "      <td>NW MARKET ST 0240 BLOCK N SIDE ( 402) 402 FT W...</td>\n",
       "      <td>SGL</td>\n",
       "      <td>2</td>\n",
       "      <td>N</td>\n",
       "      <td>GALV</td>\n",
       "      <td>PCC</td>\n",
       "      <td>2016/02/29 00:00:00+00</td>\n",
       "      <td></td>\n",
       "      <td></td>\n",
       "      <td></td>\n",
       "      <td></td>\n",
       "      <td>GOOD</td>\n",
       "      <td>NaN</td>\n",
       "      <td>N</td>\n",
       "      <td>SDOT</td>\n",
       "      <td>INSVC</td>\n",
       "      <td>DISTRICT6</td>\n",
       "      <td></td>\n",
       "      <td>N</td>\n",
       "      <td>NaN</td>\n",
       "      <td>-122.389310</td>\n",
       "      <td>47.668757</td>\n",
       "    </tr>\n",
       "    <tr>\n",
       "      <th>1</th>\n",
       "      <td>1.278455e+06</td>\n",
       "      <td>227063.233437</td>\n",
       "      <td>2</td>\n",
       "      <td>591433</td>\n",
       "      <td>16</td>\n",
       "      <td>14902</td>\n",
       "      <td>125.0</td>\n",
       "      <td>29.0</td>\n",
       "      <td>BKR-3190</td>\n",
       "      <td>BKR</td>\n",
       "      <td>E UNION ST 0240 BLOCK N SIDE ( 112) 112 FT E/O...</td>\n",
       "      <td>CLSTR</td>\n",
       "      <td>6</td>\n",
       "      <td>N</td>\n",
       "      <td>GALV</td>\n",
       "      <td>PCC</td>\n",
       "      <td>2012/11/30 00:00:00+00</td>\n",
       "      <td>SUFMT</td>\n",
       "      <td></td>\n",
       "      <td>SDOT</td>\n",
       "      <td>BKR-RLRCK</td>\n",
       "      <td>GOOD</td>\n",
       "      <td>2012/10/20 00:00:00+00</td>\n",
       "      <td>N</td>\n",
       "      <td>SDOT</td>\n",
       "      <td>PLANNED</td>\n",
       "      <td>DISTRICT3</td>\n",
       "      <td></td>\n",
       "      <td>N</td>\n",
       "      <td>NaN</td>\n",
       "      <td>-122.300910</td>\n",
       "      <td>47.613022</td>\n",
       "    </tr>\n",
       "    <tr>\n",
       "      <th>2</th>\n",
       "      <td>1.275207e+06</td>\n",
       "      <td>250005.982260</td>\n",
       "      <td>3</td>\n",
       "      <td>518834</td>\n",
       "      <td>16</td>\n",
       "      <td>17262</td>\n",
       "      <td>370.0</td>\n",
       "      <td>-29.0</td>\n",
       "      <td>BKR-520</td>\n",
       "      <td>BKR</td>\n",
       "      <td>NE 65TH ST 0100 BLOCK S SIDE ( 355) 39 FT W/O ...</td>\n",
       "      <td>SGL</td>\n",
       "      <td>2</td>\n",
       "      <td>N</td>\n",
       "      <td>GALV</td>\n",
       "      <td>PCC</td>\n",
       "      <td>2000/11/12 00:00:00+00</td>\n",
       "      <td>SUFMT</td>\n",
       "      <td>NONE</td>\n",
       "      <td>BKR-CRMTL</td>\n",
       "      <td>BKR-RLRCK</td>\n",
       "      <td>GOOD</td>\n",
       "      <td>2009/07/30 00:00:00+00</td>\n",
       "      <td>S</td>\n",
       "      <td>SDOT</td>\n",
       "      <td>INSVC</td>\n",
       "      <td>DISTRICT4</td>\n",
       "      <td></td>\n",
       "      <td>N</td>\n",
       "      <td>NaN</td>\n",
       "      <td>-122.315866</td>\n",
       "      <td>47.675737</td>\n",
       "    </tr>\n",
       "    <tr>\n",
       "      <th>3</th>\n",
       "      <td>1.271784e+06</td>\n",
       "      <td>228002.570526</td>\n",
       "      <td>4</td>\n",
       "      <td>519092</td>\n",
       "      <td>16</td>\n",
       "      <td>12225</td>\n",
       "      <td>206.0</td>\n",
       "      <td>17.0</td>\n",
       "      <td>BKR-422</td>\n",
       "      <td>BKR</td>\n",
       "      <td>PINE ST 0120 BLOCK NW SIDE ( 193) 11 FT SW/O M...</td>\n",
       "      <td>SGL</td>\n",
       "      <td>2</td>\n",
       "      <td>N</td>\n",
       "      <td>GALV</td>\n",
       "      <td>PCC</td>\n",
       "      <td>2005/05/18 00:00:00+00</td>\n",
       "      <td>SUFMT</td>\n",
       "      <td>NONE</td>\n",
       "      <td>BKR-CRMTL</td>\n",
       "      <td>BKR-RLRCK</td>\n",
       "      <td>GOOD</td>\n",
       "      <td>NaN</td>\n",
       "      <td>NW</td>\n",
       "      <td>SDOT</td>\n",
       "      <td>INSVC</td>\n",
       "      <td>DISTRICT3</td>\n",
       "      <td></td>\n",
       "      <td>N</td>\n",
       "      <td>NaN</td>\n",
       "      <td>-122.328026</td>\n",
       "      <td>47.615245</td>\n",
       "    </tr>\n",
       "    <tr>\n",
       "      <th>4</th>\n",
       "      <td>1.263540e+06</td>\n",
       "      <td>253266.784759</td>\n",
       "      <td>5</td>\n",
       "      <td>517282</td>\n",
       "      <td>16</td>\n",
       "      <td>18846</td>\n",
       "      <td>37.0</td>\n",
       "      <td>-17.0</td>\n",
       "      <td>BKR-2280</td>\n",
       "      <td>BKR</td>\n",
       "      <td>NW 76TH ST 0060 BLOCK N SIDE (  24) 24 FT W/O ...</td>\n",
       "      <td>SGL</td>\n",
       "      <td>4</td>\n",
       "      <td>N</td>\n",
       "      <td>PAINT</td>\n",
       "      <td>PCC</td>\n",
       "      <td>NaN</td>\n",
       "      <td>SUFMT</td>\n",
       "      <td>BLK</td>\n",
       "      <td>BKR-CORA</td>\n",
       "      <td>BKR-W2704</td>\n",
       "      <td>GOOD</td>\n",
       "      <td>2009/07/31 00:00:00+00</td>\n",
       "      <td>N</td>\n",
       "      <td>SDOT</td>\n",
       "      <td>INSVC</td>\n",
       "      <td>DISTRICT6</td>\n",
       "      <td></td>\n",
       "      <td>N</td>\n",
       "      <td>NaN</td>\n",
       "      <td>-122.363480</td>\n",
       "      <td>47.684049</td>\n",
       "    </tr>\n",
       "  </tbody>\n",
       "</table>\n",
       "</div>"
      ],
      "text/plain": [
       "              X              Y  OBJECTID  COMPKEY  COMPTYPE  SEGKEY  DISTANCE  \\\n",
       "0  1.257066e+06  247817.450418         1   639535        16   19236     427.0   \n",
       "1  1.278455e+06  227063.233437         2   591433        16   14902     125.0   \n",
       "2  1.275207e+06  250005.982260         3   518834        16   17262     370.0   \n",
       "3  1.271784e+06  228002.570526         4   519092        16   12225     206.0   \n",
       "4  1.263540e+06  253266.784759         5   517282        16   18846      37.0   \n",
       "\n",
       "   WIDTH    UNITID UNITTYPE  \\\n",
       "0  -31.0  BKR-3650      BKR   \n",
       "1   29.0  BKR-3190      BKR   \n",
       "2  -29.0   BKR-520      BKR   \n",
       "3   17.0   BKR-422      BKR   \n",
       "4  -17.0  BKR-2280      BKR   \n",
       "\n",
       "                                            UNITDESC BIKE_FACILITY  \\\n",
       "0  NW MARKET ST 0240 BLOCK N SIDE ( 402) 402 FT W...           SGL   \n",
       "1  E UNION ST 0240 BLOCK N SIDE ( 112) 112 FT E/O...         CLSTR   \n",
       "2  NE 65TH ST 0100 BLOCK S SIDE ( 355) 39 FT W/O ...           SGL   \n",
       "3  PINE ST 0120 BLOCK NW SIDE ( 193) 11 FT SW/O M...           SGL   \n",
       "4  NW 76TH ST 0060 BLOCK N SIDE (  24) 24 FT W/O ...           SGL   \n",
       "\n",
       "   RACK_CAPACITY DELINEATOR_POSTS FINISH_TYPE SURFACE_TYPE  \\\n",
       "0              2                N        GALV          PCC   \n",
       "1              6                N        GALV          PCC   \n",
       "2              2                N        GALV          PCC   \n",
       "3              2                N        GALV          PCC   \n",
       "4              4                N       PAINT          PCC   \n",
       "\n",
       "             INSTALL_DATE MOUNT_TYPE COLOR MANUFACTURER MODEL_TYPE CONDITION  \\\n",
       "0  2016/02/29 00:00:00+00                                               GOOD   \n",
       "1  2012/11/30 00:00:00+00      SUFMT               SDOT  BKR-RLRCK      GOOD   \n",
       "2  2000/11/12 00:00:00+00      SUFMT  NONE    BKR-CRMTL  BKR-RLRCK      GOOD   \n",
       "3  2005/05/18 00:00:00+00      SUFMT  NONE    BKR-CRMTL  BKR-RLRCK      GOOD   \n",
       "4                     NaN      SUFMT   BLK     BKR-CORA  BKR-W2704      GOOD   \n",
       "\n",
       "  CONDITION_ASSESSMENT_DATE SIDE OWNERSHIP CURRENT_STATUS PRIMARYDISTRICTCD  \\\n",
       "0                       NaN    N      SDOT          INSVC         DISTRICT6   \n",
       "1    2012/10/20 00:00:00+00    N      SDOT        PLANNED         DISTRICT3   \n",
       "2    2009/07/30 00:00:00+00    S      SDOT          INSVC         DISTRICT4   \n",
       "3                       NaN   NW      SDOT          INSVC         DISTRICT3   \n",
       "4    2009/07/31 00:00:00+00    N      SDOT          INSVC         DISTRICT6   \n",
       "\n",
       "  SECONDARYDISTRICTCD OVERRIDEYN  OVERRIDECOMMENT   SHAPE_LNG  SHAPE_LAT  \n",
       "0                              N              NaN -122.389310  47.668757  \n",
       "1                              N              NaN -122.300910  47.613022  \n",
       "2                              N              NaN -122.315866  47.675737  \n",
       "3                              N              NaN -122.328026  47.615245  \n",
       "4                              N              NaN -122.363480  47.684049  "
      ]
     },
     "execution_count": 22,
     "metadata": {},
     "output_type": "execute_result"
    }
   ],
   "source": [
    "bikeracks = pd.read_csv('../data/Bike_Racks.csv')\n",
    "bikeracks.head()"
   ]
  },
  {
   "cell_type": "code",
   "execution_count": 23,
   "metadata": {},
   "outputs": [
    {
     "name": "stdout",
     "output_type": "stream",
     "text": [
      "<class 'pandas.core.frame.DataFrame'>\n",
      "RangeIndex: 3953 entries, 0 to 3952\n",
      "Data columns (total 32 columns):\n",
      " #   Column                     Non-Null Count  Dtype  \n",
      "---  ------                     --------------  -----  \n",
      " 0   X                          3940 non-null   float64\n",
      " 1   Y                          3940 non-null   float64\n",
      " 2   OBJECTID                   3953 non-null   int64  \n",
      " 3   COMPKEY                    3953 non-null   int64  \n",
      " 4   COMPTYPE                   3953 non-null   int64  \n",
      " 5   SEGKEY                     3953 non-null   int64  \n",
      " 6   DISTANCE                   3953 non-null   float64\n",
      " 7   WIDTH                      3946 non-null   float64\n",
      " 8   UNITID                     3953 non-null   object \n",
      " 9   UNITTYPE                   3953 non-null   object \n",
      " 10  UNITDESC                   3953 non-null   object \n",
      " 11  BIKE_FACILITY              3953 non-null   object \n",
      " 12  RACK_CAPACITY              3953 non-null   int64  \n",
      " 13  DELINEATOR_POSTS           3953 non-null   object \n",
      " 14  FINISH_TYPE                3953 non-null   object \n",
      " 15  SURFACE_TYPE               3953 non-null   object \n",
      " 16  INSTALL_DATE               2068 non-null   object \n",
      " 17  MOUNT_TYPE                 3953 non-null   object \n",
      " 18  COLOR                      3953 non-null   object \n",
      " 19  MANUFACTURER               3953 non-null   object \n",
      " 20  MODEL_TYPE                 3953 non-null   object \n",
      " 21  CONDITION                  3953 non-null   object \n",
      " 22  CONDITION_ASSESSMENT_DATE  3034 non-null   object \n",
      " 23  SIDE                       3953 non-null   object \n",
      " 24  OWNERSHIP                  3953 non-null   object \n",
      " 25  CURRENT_STATUS             3953 non-null   object \n",
      " 26  PRIMARYDISTRICTCD          3953 non-null   object \n",
      " 27  SECONDARYDISTRICTCD        3953 non-null   object \n",
      " 28  OVERRIDEYN                 3953 non-null   object \n",
      " 29  OVERRIDECOMMENT            0 non-null      float64\n",
      " 30  SHAPE_LNG                  3953 non-null   float64\n",
      " 31  SHAPE_LAT                  3953 non-null   float64\n",
      "dtypes: float64(7), int64(5), object(20)\n",
      "memory usage: 988.4+ KB\n"
     ]
    }
   ],
   "source": [
    "bikeracks.info()"
   ]
  },
  {
   "cell_type": "code",
   "execution_count": 24,
   "metadata": {},
   "outputs": [
    {
     "data": {
      "text/html": [
       "<div>\n",
       "<style scoped>\n",
       "    .dataframe tbody tr th:only-of-type {\n",
       "        vertical-align: middle;\n",
       "    }\n",
       "\n",
       "    .dataframe tbody tr th {\n",
       "        vertical-align: top;\n",
       "    }\n",
       "\n",
       "    .dataframe thead th {\n",
       "        text-align: right;\n",
       "    }\n",
       "</style>\n",
       "<table border=\"1\" class=\"dataframe\">\n",
       "  <thead>\n",
       "    <tr style=\"text-align: right;\">\n",
       "      <th></th>\n",
       "      <th>X</th>\n",
       "      <th>Y</th>\n",
       "      <th>OBJECTID</th>\n",
       "      <th>COMPKEY</th>\n",
       "      <th>COMPTYPE</th>\n",
       "      <th>SEGKEY</th>\n",
       "      <th>DISTANCE</th>\n",
       "      <th>WIDTH</th>\n",
       "      <th>RACK_CAPACITY</th>\n",
       "      <th>OVERRIDECOMMENT</th>\n",
       "      <th>SHAPE_LNG</th>\n",
       "      <th>SHAPE_LAT</th>\n",
       "    </tr>\n",
       "  </thead>\n",
       "  <tbody>\n",
       "    <tr>\n",
       "      <th>count</th>\n",
       "      <td>3.940000e+03</td>\n",
       "      <td>3940.000000</td>\n",
       "      <td>3953.000000</td>\n",
       "      <td>3953.000000</td>\n",
       "      <td>3953.0</td>\n",
       "      <td>3953.000000</td>\n",
       "      <td>3953.000000</td>\n",
       "      <td>3946.000000</td>\n",
       "      <td>3953.000000</td>\n",
       "      <td>0.0</td>\n",
       "      <td>3953.000000</td>\n",
       "      <td>3953.000000</td>\n",
       "    </tr>\n",
       "    <tr>\n",
       "      <th>mean</th>\n",
       "      <td>1.269985e+06</td>\n",
       "      <td>231892.313295</td>\n",
       "      <td>1977.000000</td>\n",
       "      <td>566358.186441</td>\n",
       "      <td>16.0</td>\n",
       "      <td>17366.003036</td>\n",
       "      <td>237.913503</td>\n",
       "      <td>-0.579321</td>\n",
       "      <td>2.893752</td>\n",
       "      <td>NaN</td>\n",
       "      <td>-122.352250</td>\n",
       "      <td>47.623118</td>\n",
       "    </tr>\n",
       "    <tr>\n",
       "      <th>std</th>\n",
       "      <td>7.146816e+03</td>\n",
       "      <td>15411.690509</td>\n",
       "      <td>1141.277135</td>\n",
       "      <td>73356.327275</td>\n",
       "      <td>0.0</td>\n",
       "      <td>50982.801620</td>\n",
       "      <td>514.411184</td>\n",
       "      <td>27.659317</td>\n",
       "      <td>2.548883</td>\n",
       "      <td>NaN</td>\n",
       "      <td>0.290897</td>\n",
       "      <td>0.063000</td>\n",
       "    </tr>\n",
       "    <tr>\n",
       "      <th>min</th>\n",
       "      <td>1.249223e+06</td>\n",
       "      <td>185196.853746</td>\n",
       "      <td>1.000000</td>\n",
       "      <td>507180.000000</td>\n",
       "      <td>16.0</td>\n",
       "      <td>1001.000000</td>\n",
       "      <td>-271.000000</td>\n",
       "      <td>-61.000000</td>\n",
       "      <td>0.000000</td>\n",
       "      <td>NaN</td>\n",
       "      <td>-127.390658</td>\n",
       "      <td>46.808300</td>\n",
       "    </tr>\n",
       "    <tr>\n",
       "      <th>25%</th>\n",
       "      <td>1.266078e+06</td>\n",
       "      <td>224258.963786</td>\n",
       "      <td>989.000000</td>\n",
       "      <td>517722.000000</td>\n",
       "      <td>16.0</td>\n",
       "      <td>7246.000000</td>\n",
       "      <td>80.000000</td>\n",
       "      <td>-27.000000</td>\n",
       "      <td>2.000000</td>\n",
       "      <td>NaN</td>\n",
       "      <td>-122.352364</td>\n",
       "      <td>47.604526</td>\n",
       "    </tr>\n",
       "    <tr>\n",
       "      <th>50%</th>\n",
       "      <td>1.270261e+06</td>\n",
       "      <td>229254.574623</td>\n",
       "      <td>1977.000000</td>\n",
       "      <td>518843.000000</td>\n",
       "      <td>16.0</td>\n",
       "      <td>11453.000000</td>\n",
       "      <td>170.000000</td>\n",
       "      <td>-17.000000</td>\n",
       "      <td>2.000000</td>\n",
       "      <td>NaN</td>\n",
       "      <td>-122.334058</td>\n",
       "      <td>47.618663</td>\n",
       "    </tr>\n",
       "    <tr>\n",
       "      <th>75%</th>\n",
       "      <td>1.274628e+06</td>\n",
       "      <td>244876.205375</td>\n",
       "      <td>2965.000000</td>\n",
       "      <td>614504.000000</td>\n",
       "      <td>16.0</td>\n",
       "      <td>14630.000000</td>\n",
       "      <td>276.000000</td>\n",
       "      <td>27.000000</td>\n",
       "      <td>2.000000</td>\n",
       "      <td>NaN</td>\n",
       "      <td>-122.317260</td>\n",
       "      <td>47.661462</td>\n",
       "    </tr>\n",
       "    <tr>\n",
       "      <th>max</th>\n",
       "      <td>1.290757e+06</td>\n",
       "      <td>270742.749257</td>\n",
       "      <td>3953.000000</td>\n",
       "      <td>764154.000000</td>\n",
       "      <td>16.0</td>\n",
       "      <td>701839.000000</td>\n",
       "      <td>8226.602746</td>\n",
       "      <td>64.000000</td>\n",
       "      <td>42.000000</td>\n",
       "      <td>NaN</td>\n",
       "      <td>-122.248262</td>\n",
       "      <td>47.732177</td>\n",
       "    </tr>\n",
       "  </tbody>\n",
       "</table>\n",
       "</div>"
      ],
      "text/plain": [
       "                  X              Y     OBJECTID        COMPKEY  COMPTYPE  \\\n",
       "count  3.940000e+03    3940.000000  3953.000000    3953.000000    3953.0   \n",
       "mean   1.269985e+06  231892.313295  1977.000000  566358.186441      16.0   \n",
       "std    7.146816e+03   15411.690509  1141.277135   73356.327275       0.0   \n",
       "min    1.249223e+06  185196.853746     1.000000  507180.000000      16.0   \n",
       "25%    1.266078e+06  224258.963786   989.000000  517722.000000      16.0   \n",
       "50%    1.270261e+06  229254.574623  1977.000000  518843.000000      16.0   \n",
       "75%    1.274628e+06  244876.205375  2965.000000  614504.000000      16.0   \n",
       "max    1.290757e+06  270742.749257  3953.000000  764154.000000      16.0   \n",
       "\n",
       "              SEGKEY     DISTANCE        WIDTH  RACK_CAPACITY  \\\n",
       "count    3953.000000  3953.000000  3946.000000    3953.000000   \n",
       "mean    17366.003036   237.913503    -0.579321       2.893752   \n",
       "std     50982.801620   514.411184    27.659317       2.548883   \n",
       "min      1001.000000  -271.000000   -61.000000       0.000000   \n",
       "25%      7246.000000    80.000000   -27.000000       2.000000   \n",
       "50%     11453.000000   170.000000   -17.000000       2.000000   \n",
       "75%     14630.000000   276.000000    27.000000       2.000000   \n",
       "max    701839.000000  8226.602746    64.000000      42.000000   \n",
       "\n",
       "       OVERRIDECOMMENT    SHAPE_LNG    SHAPE_LAT  \n",
       "count              0.0  3953.000000  3953.000000  \n",
       "mean               NaN  -122.352250    47.623118  \n",
       "std                NaN     0.290897     0.063000  \n",
       "min                NaN  -127.390658    46.808300  \n",
       "25%                NaN  -122.352364    47.604526  \n",
       "50%                NaN  -122.334058    47.618663  \n",
       "75%                NaN  -122.317260    47.661462  \n",
       "max                NaN  -122.248262    47.732177  "
      ]
     },
     "execution_count": 24,
     "metadata": {},
     "output_type": "execute_result"
    }
   ],
   "source": [
    "bikeracks.describe()"
   ]
  },
  {
   "cell_type": "markdown",
   "metadata": {},
   "source": [
    "Most of these columns won't really be of value except for the location and the size of the bike racks."
   ]
  },
  {
   "cell_type": "code",
   "execution_count": 25,
   "metadata": {},
   "outputs": [
    {
     "data": {
      "image/png": "[encoded data removed]",
      "text/plain": [
       "<Figure size 720x360 with 1 Axes>"
      ]
     },
     "metadata": {
      "needs_background": "light"
     },
     "output_type": "display_data"
    }
   ],
   "source": [
    "fig, ax = plt.subplots(figsize=(10,5))\n",
    "\n",
    "bikeracks['RACK_CAPACITY'].value_counts().plot(kind='bar')\n",
    "ax.set_title('Bike Rack Capacity')\n",
    "ax.set_xlabel('Rack Capacity')\n",
    "ax.set_ylabel('Number of Bike Racks');"
   ]
  },
  {
   "cell_type": "markdown",
   "metadata": {},
   "source": [
    "Majority of the bike racks only hold about 2 bikes. We can check out where the huge bike racks are located."
   ]
  },
  {
   "cell_type": "code",
   "execution_count": 26,
   "metadata": {},
   "outputs": [
    {
     "data": {
      "text/html": [
       "<div>\n",
       "<style scoped>\n",
       "    .dataframe tbody tr th:only-of-type {\n",
       "        vertical-align: middle;\n",
       "    }\n",
       "\n",
       "    .dataframe tbody tr th {\n",
       "        vertical-align: top;\n",
       "    }\n",
       "\n",
       "    .dataframe thead th {\n",
       "        text-align: right;\n",
       "    }\n",
       "</style>\n",
       "<table border=\"1\" class=\"dataframe\">\n",
       "  <thead>\n",
       "    <tr style=\"text-align: right;\">\n",
       "      <th></th>\n",
       "      <th>RACK_CAPACITY</th>\n",
       "      <th>UNITDESC</th>\n",
       "      <th>SHAPE_LNG</th>\n",
       "      <th>SHAPE_LAT</th>\n",
       "    </tr>\n",
       "  </thead>\n",
       "  <tbody>\n",
       "    <tr>\n",
       "      <th>143</th>\n",
       "      <td>42</td>\n",
       "      <td>LINDEN AVE N 0390 BLOCK W SIDE ( 279) 155 FT S...</td>\n",
       "      <td>-122.348644</td>\n",
       "      <td>47.654936</td>\n",
       "    </tr>\n",
       "    <tr>\n",
       "      <th>579</th>\n",
       "      <td>28</td>\n",
       "      <td>NW 81ST ST 0010 BLOCK S SIDE ( 328) 305 FT E/O...</td>\n",
       "      <td>-122.359358</td>\n",
       "      <td>47.687618</td>\n",
       "    </tr>\n",
       "    <tr>\n",
       "      <th>969</th>\n",
       "      <td>16</td>\n",
       "      <td>WEST GREEN LAKE DR N 0730 BLOCK SE SIDE (  20)...</td>\n",
       "      <td>-122.341478</td>\n",
       "      <td>47.682151</td>\n",
       "    </tr>\n",
       "    <tr>\n",
       "      <th>1124</th>\n",
       "      <td>16</td>\n",
       "      <td>50TH AVE NE 0700 BLOCK W SIDE ( 512) 125 FT S/...</td>\n",
       "      <td>-122.274402</td>\n",
       "      <td>47.680837</td>\n",
       "    </tr>\n",
       "    <tr>\n",
       "      <th>1153</th>\n",
       "      <td>16</td>\n",
       "      <td>NW 90TH ST 0235 BLOCK N SIDE (  24) 24 FT W/O ...</td>\n",
       "      <td>-122.386861</td>\n",
       "      <td>47.694192</td>\n",
       "    </tr>\n",
       "    <tr>\n",
       "      <th>1412</th>\n",
       "      <td>18</td>\n",
       "      <td>STEWART ST 0007 BLOCK NW SIDE (  13) 13 FT NE/...</td>\n",
       "      <td>-122.342164</td>\n",
       "      <td>47.609758</td>\n",
       "    </tr>\n",
       "    <tr>\n",
       "      <th>1537</th>\n",
       "      <td>28</td>\n",
       "      <td>13TH AVE NW 0750 BLOCK W SIDE ( 195) 195 FT N/...</td>\n",
       "      <td>-122.372818</td>\n",
       "      <td>47.683790</td>\n",
       "    </tr>\n",
       "    <tr>\n",
       "      <th>1560</th>\n",
       "      <td>30</td>\n",
       "      <td>5TH AVE 0060 BLOCK SW SIDE ( 222) 45 FT SE/O C...</td>\n",
       "      <td>-122.329807</td>\n",
       "      <td>47.604224</td>\n",
       "    </tr>\n",
       "    <tr>\n",
       "      <th>1916</th>\n",
       "      <td>16</td>\n",
       "      <td>17TH AVE W 0300 BLOCK W SIDE ( 275) 55 FT S/O ...</td>\n",
       "      <td>-122.378934</td>\n",
       "      <td>47.648249</td>\n",
       "    </tr>\n",
       "    <tr>\n",
       "      <th>1970</th>\n",
       "      <td>28</td>\n",
       "      <td>NE RAVENNA WB BV 0050 BLOCK NE SIDE ( 235) 235...</td>\n",
       "      <td>-122.322893</td>\n",
       "      <td>47.677109</td>\n",
       "    </tr>\n",
       "    <tr>\n",
       "      <th>2715</th>\n",
       "      <td>24</td>\n",
       "      <td>INTERLAKE AVE N 0436 BLOCK E SIDE (  30) 30 FT...</td>\n",
       "      <td>-122.340611</td>\n",
       "      <td>47.660078</td>\n",
       "    </tr>\n",
       "    <tr>\n",
       "      <th>2910</th>\n",
       "      <td>36</td>\n",
       "      <td>WESTERN AVE 0230 BLOCK NE SIDE (  30) 30 FT NW...</td>\n",
       "      <td>-122.347500</td>\n",
       "      <td>47.612881</td>\n",
       "    </tr>\n",
       "    <tr>\n",
       "      <th>3092</th>\n",
       "      <td>24</td>\n",
       "      <td>15TH AVE NW 0920 BLOCK W SIDE ( 130) 130 FT N/...</td>\n",
       "      <td>-122.376905</td>\n",
       "      <td>47.696468</td>\n",
       "    </tr>\n",
       "    <tr>\n",
       "      <th>3620</th>\n",
       "      <td>18</td>\n",
       "      <td>E DENNY WAY 0080 BLOCK S SIDE ( 283) 20 FT W/O...</td>\n",
       "      <td>-122.321000</td>\n",
       "      <td>47.618690</td>\n",
       "    </tr>\n",
       "    <tr>\n",
       "      <th>3677</th>\n",
       "      <td>16</td>\n",
       "      <td>VIRGINIA ST 0110 BLOCK SE SIDE ( 100) 100 FT N...</td>\n",
       "      <td>-122.333610</td>\n",
       "      <td>47.617904</td>\n",
       "    </tr>\n",
       "    <tr>\n",
       "      <th>3875</th>\n",
       "      <td>16</td>\n",
       "      <td>35TH AVE NE 1050 BLOCK W SIDE ( 110) 110 FT N/...</td>\n",
       "      <td>-122.290986</td>\n",
       "      <td>47.705124</td>\n",
       "    </tr>\n",
       "  </tbody>\n",
       "</table>\n",
       "</div>"
      ],
      "text/plain": [
       "      RACK_CAPACITY                                           UNITDESC  \\\n",
       "143              42  LINDEN AVE N 0390 BLOCK W SIDE ( 279) 155 FT S...   \n",
       "579              28  NW 81ST ST 0010 BLOCK S SIDE ( 328) 305 FT E/O...   \n",
       "969              16  WEST GREEN LAKE DR N 0730 BLOCK SE SIDE (  20)...   \n",
       "1124             16  50TH AVE NE 0700 BLOCK W SIDE ( 512) 125 FT S/...   \n",
       "1153             16  NW 90TH ST 0235 BLOCK N SIDE (  24) 24 FT W/O ...   \n",
       "1412             18  STEWART ST 0007 BLOCK NW SIDE (  13) 13 FT NE/...   \n",
       "1537             28  13TH AVE NW 0750 BLOCK W SIDE ( 195) 195 FT N/...   \n",
       "1560             30  5TH AVE 0060 BLOCK SW SIDE ( 222) 45 FT SE/O C...   \n",
       "1916             16  17TH AVE W 0300 BLOCK W SIDE ( 275) 55 FT S/O ...   \n",
       "1970             28  NE RAVENNA WB BV 0050 BLOCK NE SIDE ( 235) 235...   \n",
       "2715             24  INTERLAKE AVE N 0436 BLOCK E SIDE (  30) 30 FT...   \n",
       "2910             36  WESTERN AVE 0230 BLOCK NE SIDE (  30) 30 FT NW...   \n",
       "3092             24  15TH AVE NW 0920 BLOCK W SIDE ( 130) 130 FT N/...   \n",
       "3620             18  E DENNY WAY 0080 BLOCK S SIDE ( 283) 20 FT W/O...   \n",
       "3677             16  VIRGINIA ST 0110 BLOCK SE SIDE ( 100) 100 FT N...   \n",
       "3875             16  35TH AVE NE 1050 BLOCK W SIDE ( 110) 110 FT N/...   \n",
       "\n",
       "       SHAPE_LNG  SHAPE_LAT  \n",
       "143  -122.348644  47.654936  \n",
       "579  -122.359358  47.687618  \n",
       "969  -122.341478  47.682151  \n",
       "1124 -122.274402  47.680837  \n",
       "1153 -122.386861  47.694192  \n",
       "1412 -122.342164  47.609758  \n",
       "1537 -122.372818  47.683790  \n",
       "1560 -122.329807  47.604224  \n",
       "1916 -122.378934  47.648249  \n",
       "1970 -122.322893  47.677109  \n",
       "2715 -122.340611  47.660078  \n",
       "2910 -122.347500  47.612881  \n",
       "3092 -122.376905  47.696468  \n",
       "3620 -122.321000  47.618690  \n",
       "3677 -122.333610  47.617904  \n",
       "3875 -122.290986  47.705124  "
      ]
     },
     "execution_count": 26,
     "metadata": {},
     "output_type": "execute_result"
    }
   ],
   "source": [
    "huge_bikeracks = bikeracks[bikeracks['RACK_CAPACITY'] > 15][['RACK_CAPACITY', 'UNITDESC', 'SHAPE_LNG', 'SHAPE_LAT']]\n",
    "huge_bikeracks"
   ]
  },
  {
   "cell_type": "markdown",
   "metadata": {},
   "source": [
    "We will plot it on a map for better visual."
   ]
  },
  {
   "cell_type": "code",
   "execution_count": 27,
   "metadata": {},
   "outputs": [
    {
     "name": "stdout",
     "output_type": "stream",
     "text": [
      "Seattle coordinates:  47.6038321 -122.3300624\n"
     ]
    }
   ],
   "source": [
    "# Grab general lat&long for Seattle, WA map\n",
    "sea_address = 'Seattle, WA'\n",
    "\n",
    "sea_geolocator = Nominatim(user_agent='foursquare_agent')\n",
    "sea_location = sea_geolocator.geocode(sea_address)\n",
    "sea_latitude = sea_location.latitude\n",
    "sea_longitude = sea_location.longitude\n",
    "print('Seattle coordinates: ', sea_latitude, sea_longitude)"
   ]
  },
  {
   "cell_type": "code",
   "execution_count": 28,
   "metadata": {},
   "outputs": [
    {
     "data": {
      "text/plain": [
       "<folium.features.CircleMarker at 0x129388518>"
      ]
     },
     "execution_count": 28,
     "metadata": {},
     "output_type": "execute_result"
    },
    {
     "data": {
      "text/plain": [
       "<folium.features.CircleMarker at 0x1293884e0>"
      ]
     },
     "execution_count": 28,
     "metadata": {},
     "output_type": "execute_result"
    },
    {
     "data": {
      "text/plain": [
       "<folium.features.CircleMarker at 0x129116470>"
      ]
     },
     "execution_count": 28,
     "metadata": {},
     "output_type": "execute_result"
    },
    {
     "data": {
      "text/plain": [
       "<folium.features.CircleMarker at 0x1293886a0>"
      ]
     },
     "execution_count": 28,
     "metadata": {},
     "output_type": "execute_result"
    },
    {
     "data": {
      "text/plain": [
       "<folium.features.CircleMarker at 0x129388a58>"
      ]
     },
     "execution_count": 28,
     "metadata": {},
     "output_type": "execute_result"
    },
    {
     "data": {
      "text/plain": [
       "<folium.features.CircleMarker at 0x129384a90>"
      ]
     },
     "execution_count": 28,
     "metadata": {},
     "output_type": "execute_result"
    },
    {
     "data": {
      "text/plain": [
       "<folium.features.CircleMarker at 0x129384438>"
      ]
     },
     "execution_count": 28,
     "metadata": {},
     "output_type": "execute_result"
    },
    {
     "data": {
      "text/plain": [
       "<folium.features.CircleMarker at 0x1293882e8>"
      ]
     },
     "execution_count": 28,
     "metadata": {},
     "output_type": "execute_result"
    },
    {
     "data": {
      "text/plain": [
       "<folium.features.CircleMarker at 0x129384630>"
      ]
     },
     "execution_count": 28,
     "metadata": {},
     "output_type": "execute_result"
    },
    {
     "data": {
      "text/plain": [
       "<folium.features.CircleMarker at 0x1293849e8>"
      ]
     },
     "execution_count": 28,
     "metadata": {},
     "output_type": "execute_result"
    },
    {
     "data": {
      "text/plain": [
       "<folium.features.CircleMarker at 0x129384c18>"
      ]
     },
     "execution_count": 28,
     "metadata": {},
     "output_type": "execute_result"
    },
    {
     "data": {
      "text/plain": [
       "<folium.features.CircleMarker at 0x129384668>"
      ]
     },
     "execution_count": 28,
     "metadata": {},
     "output_type": "execute_result"
    },
    {
     "data": {
      "text/plain": [
       "<folium.features.CircleMarker at 0x1293b8b70>"
      ]
     },
     "execution_count": 28,
     "metadata": {},
     "output_type": "execute_result"
    },
    {
     "data": {
      "text/plain": [
       "<folium.features.CircleMarker at 0x1293b8d30>"
      ]
     },
     "execution_count": 28,
     "metadata": {},
     "output_type": "execute_result"
    },
    {
     "data": {
      "text/plain": [
       "<folium.features.CircleMarker at 0x1293b80b8>"
      ]
     },
     "execution_count": 28,
     "metadata": {},
     "output_type": "execute_result"
    },
    {
     "data": {
      "text/plain": [
       "<folium.features.CircleMarker at 0x1293b8518>"
      ]
     },
     "execution_count": 28,
     "metadata": {},
     "output_type": "execute_result"
    },
    {
     "data": {
      "text/html": [
       "<div style=\"width:100%;\"><div style=\"position:relative;width:100%;height:0;padding-bottom:60%;\"><iframe src=\"data:text/html;charset=utf-8;base64,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\" style=\"position:absolute;width:100%;height:100%;left:0;top:0;border:none !important;\" allowfullscreen webkitallowfullscreen mozallowfullscreen></iframe></div></div>"
      ],
      "text/plain": [
       "<folium.folium.Map at 0x129116b00>"
      ]
     },
     "execution_count": 28,
     "metadata": {},
     "output_type": "execute_result"
    }
   ],
   "source": [
    "# #Generate map centered around address\n",
    "seattle_map = folium.Map(location=[sea_latitude, sea_longitude], zoom_start=13)\n",
    "\n",
    "#blue markers for bikeracks\n",
    "for lat, lng, label in zip(huge_bikeracks['SHAPE_LAT'], huge_bikeracks['SHAPE_LNG'], huge_bikeracks['RACK_CAPACITY'].apply(str)):\n",
    "    folium.features.CircleMarker(\n",
    "        [lat, lng],\n",
    "        radius = 3,\n",
    "        color='blue',\n",
    "        popup=label,\n",
    "        fill=True,\n",
    "        fill_color='blue',\n",
    "        fill_opacity=0.5\n",
    "    ).add_to(seattle_map)\n",
    "    \n",
    "seattle_map"
   ]
  },
  {
   "cell_type": "markdown",
   "metadata": {},
   "source": [
    "Outside of Seattle downtown, all the big capacity bike racks are located at schools or public parks!"
   ]
  },
  {
   "cell_type": "markdown",
   "metadata": {},
   "source": [
    "### Marked Crosswalks\n",
    "\n",
    "Looking at where the marked crosswalks are compared to where pedestrian vs vehicle collisions happen give us some insights as to if people are more likely to get in an accident when jaywalking."
   ]
  },
  {
   "cell_type": "code",
   "execution_count": 29,
   "metadata": {},
   "outputs": [
    {
     "data": {
      "text/html": [
       "<div>\n",
       "<style scoped>\n",
       "    .dataframe tbody tr th:only-of-type {\n",
       "        vertical-align: middle;\n",
       "    }\n",
       "\n",
       "    .dataframe tbody tr th {\n",
       "        vertical-align: top;\n",
       "    }\n",
       "\n",
       "    .dataframe thead th {\n",
       "        text-align: right;\n",
       "    }\n",
       "</style>\n",
       "<table border=\"1\" class=\"dataframe\">\n",
       "  <thead>\n",
       "    <tr style=\"text-align: right;\">\n",
       "      <th></th>\n",
       "      <th>X</th>\n",
       "      <th>Y</th>\n",
       "      <th>OBJECTID</th>\n",
       "      <th>COMPKEY</th>\n",
       "      <th>UNITID</th>\n",
       "      <th>UNITDESC</th>\n",
       "      <th>CONDITION</th>\n",
       "      <th>CONDITION_ASSESSMENT_DATE</th>\n",
       "      <th>OWNERSHIP</th>\n",
       "      <th>CURRENT_STATUS</th>\n",
       "      <th>PRIMARYDISTRICTCD</th>\n",
       "      <th>SECONDARYDISTRICTCD</th>\n",
       "      <th>OVERRIDEYN</th>\n",
       "      <th>COMPTYPE</th>\n",
       "      <th>SEGKEY</th>\n",
       "      <th>UNITTYPE</th>\n",
       "      <th>OLD_ID</th>\n",
       "      <th>APPROACH</th>\n",
       "      <th>MARKING_TYPE</th>\n",
       "      <th>SCHOOL</th>\n",
       "      <th>MIDBLOCK_CROSSWALK</th>\n",
       "      <th>INSTALL_DATE</th>\n",
       "      <th>COLOR</th>\n",
       "      <th>COMMENTS</th>\n",
       "      <th>CATEGORY</th>\n",
       "      <th>OWNERSHIP_DATE</th>\n",
       "      <th>CURRENT_STATUS_DATE</th>\n",
       "      <th>MAINTAINED_BY</th>\n",
       "      <th>MAINTENANCE_AGREEMENT</th>\n",
       "      <th>CURBSPACEID</th>\n",
       "      <th>MAINT_DISTRICT</th>\n",
       "      <th>OVERRIDECOMMENT</th>\n",
       "      <th>SHAPE_LNG</th>\n",
       "      <th>SHAPE_LAT</th>\n",
       "      <th>CROSSWALK_CONTROL</th>\n",
       "      <th>MATERIAL</th>\n",
       "      <th>ONSTREET</th>\n",
       "      <th>XSTRLOW</th>\n",
       "      <th>MEAS_FROM_LOW</th>\n",
       "      <th>DISTTOLOW</th>\n",
       "      <th>STPOINT</th>\n",
       "      <th>XSTRHI</th>\n",
       "      <th>MEAS_FROM_HI</th>\n",
       "      <th>DISTTOHI</th>\n",
       "      <th>OFFSET</th>\n",
       "      <th>SIDE</th>\n",
       "      <th>MEASUREMENT_ORIGIN</th>\n",
       "      <th>ATTACHMENT_1</th>\n",
       "      <th>ATTACHMENT_2</th>\n",
       "      <th>ATTACHMENT_3</th>\n",
       "      <th>ATTACHMENT_4</th>\n",
       "      <th>ATTACHMENT_5</th>\n",
       "      <th>ATTACHMENT_6</th>\n",
       "      <th>ATTACHMENT_7</th>\n",
       "      <th>ATTACHMENT_8</th>\n",
       "      <th>ATTACHMENT_9</th>\n",
       "      <th>MAINTENANCE_GROUP</th>\n",
       "      <th>NUM_ATTACHMENTS</th>\n",
       "    </tr>\n",
       "  </thead>\n",
       "  <tbody>\n",
       "    <tr>\n",
       "      <th>0</th>\n",
       "      <td>1.269560e+06</td>\n",
       "      <td>223140.574842</td>\n",
       "      <td>1</td>\n",
       "      <td>522399</td>\n",
       "      <td>XWK-3325</td>\n",
       "      <td>ALASKAN WAY 0060 BLOCK C SIDE (  35) 35 FT NW/...</td>\n",
       "      <td>GOOD</td>\n",
       "      <td>2012/09/30 00:00:00+00</td>\n",
       "      <td></td>\n",
       "      <td>INSVC</td>\n",
       "      <td>DISTRICT7</td>\n",
       "      <td></td>\n",
       "      <td>N</td>\n",
       "      <td>16</td>\n",
       "      <td>8717</td>\n",
       "      <td>XWK</td>\n",
       "      <td>Old ID # 758</td>\n",
       "      <td>NW</td>\n",
       "      <td>LADER</td>\n",
       "      <td>N</td>\n",
       "      <td>N</td>\n",
       "      <td>1970/01/01 00:00:00+00</td>\n",
       "      <td>WHT</td>\n",
       "      <td>ALASKAN WAY &amp; YESLER WAY, N</td>\n",
       "      <td>XWK</td>\n",
       "      <td>1970/01/01 00:00:00+00</td>\n",
       "      <td>2009/01/22 00:00:00+00</td>\n",
       "      <td></td>\n",
       "      <td>NaN</td>\n",
       "      <td>NaN</td>\n",
       "      <td>CENTRAL</td>\n",
       "      <td>NaN</td>\n",
       "      <td>-122.336656</td>\n",
       "      <td>47.601800</td>\n",
       "      <td></td>\n",
       "      <td>THRPL</td>\n",
       "      <td>ALASKAN WAY</td>\n",
       "      <td>YESLER WAY</td>\n",
       "      <td>Y</td>\n",
       "      <td>35</td>\n",
       "      <td>0</td>\n",
       "      <td>COLUMBIA ST</td>\n",
       "      <td>N</td>\n",
       "      <td>234</td>\n",
       "      <td>0</td>\n",
       "      <td>C</td>\n",
       "      <td>XStreet Centerline</td>\n",
       "      <td>NaN</td>\n",
       "      <td>NaN</td>\n",
       "      <td>NaN</td>\n",
       "      <td>NaN</td>\n",
       "      <td>NaN</td>\n",
       "      <td>NaN</td>\n",
       "      <td>NaN</td>\n",
       "      <td>NaN</td>\n",
       "      <td>NaN</td>\n",
       "      <td>XWK-CD7-YEAR4</td>\n",
       "      <td>0</td>\n",
       "    </tr>\n",
       "    <tr>\n",
       "      <th>1</th>\n",
       "      <td>1.283979e+06</td>\n",
       "      <td>201215.071449</td>\n",
       "      <td>2</td>\n",
       "      <td>525064</td>\n",
       "      <td>XWK-3029</td>\n",
       "      <td>S HOLLY ST 0440 BLOCK C SIDE ( 385) 20 FT W/O ...</td>\n",
       "      <td>GOOD</td>\n",
       "      <td>2013/08/26 00:00:00+00</td>\n",
       "      <td></td>\n",
       "      <td>INSVC</td>\n",
       "      <td>DISTRICT2</td>\n",
       "      <td></td>\n",
       "      <td>N</td>\n",
       "      <td>16</td>\n",
       "      <td>20363</td>\n",
       "      <td>XWK</td>\n",
       "      <td>Old ID # 662</td>\n",
       "      <td>W</td>\n",
       "      <td>LADER</td>\n",
       "      <td>Y</td>\n",
       "      <td>N</td>\n",
       "      <td>1970/01/01 00:00:00+00</td>\n",
       "      <td>WHT</td>\n",
       "      <td>WI #13959 8/27/98 &lt;br&gt; School # 8&lt;br&gt;45 AVE S ...</td>\n",
       "      <td>XWK</td>\n",
       "      <td>1970/01/01 00:00:00+00</td>\n",
       "      <td>2008/11/14 00:00:00+00</td>\n",
       "      <td></td>\n",
       "      <td>NaN</td>\n",
       "      <td>NaN</td>\n",
       "      <td>SOUTH</td>\n",
       "      <td>NaN</td>\n",
       "      <td>-122.276553</td>\n",
       "      <td>47.542459</td>\n",
       "      <td></td>\n",
       "      <td>THRPL</td>\n",
       "      <td>S HOLLY ST</td>\n",
       "      <td>44TH AVE S</td>\n",
       "      <td>N</td>\n",
       "      <td>385</td>\n",
       "      <td>0</td>\n",
       "      <td>45TH AVE S</td>\n",
       "      <td>Y</td>\n",
       "      <td>20</td>\n",
       "      <td>0</td>\n",
       "      <td>C</td>\n",
       "      <td>XStreet Centerline</td>\n",
       "      <td>NaN</td>\n",
       "      <td>NaN</td>\n",
       "      <td>NaN</td>\n",
       "      <td>NaN</td>\n",
       "      <td>NaN</td>\n",
       "      <td>NaN</td>\n",
       "      <td>NaN</td>\n",
       "      <td>NaN</td>\n",
       "      <td>NaN</td>\n",
       "      <td>XWK-CD2-YEAR4</td>\n",
       "      <td>0</td>\n",
       "    </tr>\n",
       "    <tr>\n",
       "      <th>2</th>\n",
       "      <td>1.268498e+06</td>\n",
       "      <td>242364.672876</td>\n",
       "      <td>3</td>\n",
       "      <td>523429</td>\n",
       "      <td>XWK-416</td>\n",
       "      <td>STONE WAY N 0390 BLOCK C SIDE ( 115) 115 FT N/...</td>\n",
       "      <td>GOOD</td>\n",
       "      <td>2017/06/29 00:00:00+00</td>\n",
       "      <td>SDOT</td>\n",
       "      <td>INSVC</td>\n",
       "      <td>DISTRICT4</td>\n",
       "      <td></td>\n",
       "      <td>N</td>\n",
       "      <td>16</td>\n",
       "      <td>12959</td>\n",
       "      <td>XWK</td>\n",
       "      <td>Old ID # 485</td>\n",
       "      <td>S</td>\n",
       "      <td>LADER</td>\n",
       "      <td>N</td>\n",
       "      <td>N</td>\n",
       "      <td>1970/01/01 00:00:00+00</td>\n",
       "      <td>WHT</td>\n",
       "      <td>&lt;p&gt;WI #18482 &lt;br&gt;STONE WAY N &amp;amp; BRIDGE WAY ...</td>\n",
       "      <td>XWK</td>\n",
       "      <td>1970/01/01 00:00:00+00</td>\n",
       "      <td>2009/02/10 00:00:00+00</td>\n",
       "      <td>SDOT</td>\n",
       "      <td>NaN</td>\n",
       "      <td>NaN</td>\n",
       "      <td>NORTH</td>\n",
       "      <td>NaN</td>\n",
       "      <td>-122.342486</td>\n",
       "      <td>47.654435</td>\n",
       "      <td>SIGNAL</td>\n",
       "      <td>THRPL</td>\n",
       "      <td>STONE WAY N</td>\n",
       "      <td>N 39TH ST</td>\n",
       "      <td>Y</td>\n",
       "      <td>115</td>\n",
       "      <td>0</td>\n",
       "      <td>BRIDGE WAY N</td>\n",
       "      <td>N</td>\n",
       "      <td>83</td>\n",
       "      <td>0</td>\n",
       "      <td>C</td>\n",
       "      <td>XStreet Centerline</td>\n",
       "      <td>NaN</td>\n",
       "      <td>NaN</td>\n",
       "      <td>NaN</td>\n",
       "      <td>NaN</td>\n",
       "      <td>NaN</td>\n",
       "      <td>NaN</td>\n",
       "      <td>NaN</td>\n",
       "      <td>NaN</td>\n",
       "      <td>NaN</td>\n",
       "      <td>XWK-CD4-YEAR1</td>\n",
       "      <td>0</td>\n",
       "    </tr>\n",
       "    <tr>\n",
       "      <th>3</th>\n",
       "      <td>1.259573e+06</td>\n",
       "      <td>211119.144160</td>\n",
       "      <td>4</td>\n",
       "      <td>521447</td>\n",
       "      <td>XWK-2387</td>\n",
       "      <td>35TH AVE SW 0390 BLOCK C SIDE (  18) 18 FT S/O...</td>\n",
       "      <td>GOOD</td>\n",
       "      <td>2019/07/23 00:00:00+00</td>\n",
       "      <td>SDOT</td>\n",
       "      <td>INSVC</td>\n",
       "      <td>DISTRICT1</td>\n",
       "      <td></td>\n",
       "      <td>N</td>\n",
       "      <td>16</td>\n",
       "      <td>5446</td>\n",
       "      <td>XWK</td>\n",
       "      <td>Old ID # 162</td>\n",
       "      <td>S</td>\n",
       "      <td>LADER</td>\n",
       "      <td>Y</td>\n",
       "      <td>N</td>\n",
       "      <td>1970/01/01 00:00:00+00</td>\n",
       "      <td>WHT</td>\n",
       "      <td>School # 74&lt;br&gt;35 AVE SW &amp; SW ANDOVER ST (W L...</td>\n",
       "      <td>XWK</td>\n",
       "      <td>1970/01/01 00:00:00+00</td>\n",
       "      <td>2009/01/06 00:00:00+00</td>\n",
       "      <td></td>\n",
       "      <td>NaN</td>\n",
       "      <td>NaN</td>\n",
       "      <td>SOUTH</td>\n",
       "      <td>NaN</td>\n",
       "      <td>-122.376151</td>\n",
       "      <td>47.568308</td>\n",
       "      <td></td>\n",
       "      <td>THRPL</td>\n",
       "      <td>35TH AVE SW</td>\n",
       "      <td>SW ANDOVER N ST</td>\n",
       "      <td>Y</td>\n",
       "      <td>18</td>\n",
       "      <td>0</td>\n",
       "      <td>SW ANDOVER S ST</td>\n",
       "      <td>N</td>\n",
       "      <td>112</td>\n",
       "      <td>0</td>\n",
       "      <td>C</td>\n",
       "      <td>XStreet Centerline</td>\n",
       "      <td>NaN</td>\n",
       "      <td>NaN</td>\n",
       "      <td>NaN</td>\n",
       "      <td>NaN</td>\n",
       "      <td>NaN</td>\n",
       "      <td>NaN</td>\n",
       "      <td>NaN</td>\n",
       "      <td>NaN</td>\n",
       "      <td>NaN</td>\n",
       "      <td>XWK-CD1-YEAR3</td>\n",
       "      <td>0</td>\n",
       "    </tr>\n",
       "    <tr>\n",
       "      <th>4</th>\n",
       "      <td>1.277718e+06</td>\n",
       "      <td>271174.016176</td>\n",
       "      <td>5</td>\n",
       "      <td>524665</td>\n",
       "      <td>XWK-1892</td>\n",
       "      <td>NE 145TH ST 0200 BLOCK C SIDE (   5) 5 FT E/O ...</td>\n",
       "      <td>GOOD</td>\n",
       "      <td>2012/06/15 00:00:00+00</td>\n",
       "      <td></td>\n",
       "      <td>INSVC</td>\n",
       "      <td>DISTRICT5</td>\n",
       "      <td></td>\n",
       "      <td>N</td>\n",
       "      <td>16</td>\n",
       "      <td>16688</td>\n",
       "      <td>XWK</td>\n",
       "      <td>Old ID # 505</td>\n",
       "      <td>N</td>\n",
       "      <td>LADER</td>\n",
       "      <td>N</td>\n",
       "      <td>N</td>\n",
       "      <td>1970/01/01 00:00:00+00</td>\n",
       "      <td>WHT</td>\n",
       "      <td>WI #18482 &lt;br&gt;City Limits&lt;br&gt;20 AVE NE &amp; NE 14...</td>\n",
       "      <td>XWK</td>\n",
       "      <td>1970/01/01 00:00:00+00</td>\n",
       "      <td>2012/12/13 00:00:00+00</td>\n",
       "      <td></td>\n",
       "      <td>NaN</td>\n",
       "      <td>NaN</td>\n",
       "      <td>NORTH</td>\n",
       "      <td>NaN</td>\n",
       "      <td>-122.307324</td>\n",
       "      <td>47.733890</td>\n",
       "      <td></td>\n",
       "      <td>THRPL</td>\n",
       "      <td>NE 145TH ST</td>\n",
       "      <td>20TH AVE NE</td>\n",
       "      <td>Y</td>\n",
       "      <td>5</td>\n",
       "      <td>0</td>\n",
       "      <td>22ND AVE NE</td>\n",
       "      <td>N</td>\n",
       "      <td>328</td>\n",
       "      <td>0</td>\n",
       "      <td>C</td>\n",
       "      <td>XStreet Centerline</td>\n",
       "      <td>NaN</td>\n",
       "      <td>NaN</td>\n",
       "      <td>NaN</td>\n",
       "      <td>NaN</td>\n",
       "      <td>NaN</td>\n",
       "      <td>NaN</td>\n",
       "      <td>NaN</td>\n",
       "      <td>NaN</td>\n",
       "      <td>NaN</td>\n",
       "      <td>XWK-CD5-YEAR4</td>\n",
       "      <td>0</td>\n",
       "    </tr>\n",
       "  </tbody>\n",
       "</table>\n",
       "</div>"
      ],
      "text/plain": [
       "              X              Y  OBJECTID  COMPKEY    UNITID  \\\n",
       "0  1.269560e+06  223140.574842         1   522399  XWK-3325   \n",
       "1  1.283979e+06  201215.071449         2   525064  XWK-3029   \n",
       "2  1.268498e+06  242364.672876         3   523429   XWK-416   \n",
       "3  1.259573e+06  211119.144160         4   521447  XWK-2387   \n",
       "4  1.277718e+06  271174.016176         5   524665  XWK-1892   \n",
       "\n",
       "                                            UNITDESC CONDITION  \\\n",
       "0  ALASKAN WAY 0060 BLOCK C SIDE (  35) 35 FT NW/...      GOOD   \n",
       "1  S HOLLY ST 0440 BLOCK C SIDE ( 385) 20 FT W/O ...      GOOD   \n",
       "2  STONE WAY N 0390 BLOCK C SIDE ( 115) 115 FT N/...      GOOD   \n",
       "3  35TH AVE SW 0390 BLOCK C SIDE (  18) 18 FT S/O...      GOOD   \n",
       "4  NE 145TH ST 0200 BLOCK C SIDE (   5) 5 FT E/O ...      GOOD   \n",
       "\n",
       "  CONDITION_ASSESSMENT_DATE OWNERSHIP CURRENT_STATUS PRIMARYDISTRICTCD  \\\n",
       "0    2012/09/30 00:00:00+00                    INSVC         DISTRICT7   \n",
       "1    2013/08/26 00:00:00+00                    INSVC         DISTRICT2   \n",
       "2    2017/06/29 00:00:00+00      SDOT          INSVC         DISTRICT4   \n",
       "3    2019/07/23 00:00:00+00      SDOT          INSVC         DISTRICT1   \n",
       "4    2012/06/15 00:00:00+00                    INSVC         DISTRICT5   \n",
       "\n",
       "  SECONDARYDISTRICTCD OVERRIDEYN  COMPTYPE  SEGKEY UNITTYPE        OLD_ID  \\\n",
       "0                              N        16    8717      XWK  Old ID # 758   \n",
       "1                              N        16   20363      XWK  Old ID # 662   \n",
       "2                              N        16   12959      XWK  Old ID # 485   \n",
       "3                              N        16    5446      XWK  Old ID # 162   \n",
       "4                              N        16   16688      XWK  Old ID # 505   \n",
       "\n",
       "  APPROACH MARKING_TYPE SCHOOL MIDBLOCK_CROSSWALK            INSTALL_DATE  \\\n",
       "0       NW        LADER      N                  N  1970/01/01 00:00:00+00   \n",
       "1        W        LADER      Y                  N  1970/01/01 00:00:00+00   \n",
       "2        S        LADER      N                  N  1970/01/01 00:00:00+00   \n",
       "3        S        LADER      Y                  N  1970/01/01 00:00:00+00   \n",
       "4        N        LADER      N                  N  1970/01/01 00:00:00+00   \n",
       "\n",
       "  COLOR                                           COMMENTS CATEGORY  \\\n",
       "0   WHT                        ALASKAN WAY & YESLER WAY, N      XWK   \n",
       "1   WHT  WI #13959 8/27/98 <br> School # 8<br>45 AVE S ...      XWK   \n",
       "2   WHT  <p>WI #18482 <br>STONE WAY N &amp; BRIDGE WAY ...      XWK   \n",
       "3   WHT   School # 74<br>35 AVE SW & SW ANDOVER ST (W L...      XWK   \n",
       "4   WHT  WI #18482 <br>City Limits<br>20 AVE NE & NE 14...      XWK   \n",
       "\n",
       "           OWNERSHIP_DATE     CURRENT_STATUS_DATE MAINTAINED_BY  \\\n",
       "0  1970/01/01 00:00:00+00  2009/01/22 00:00:00+00                 \n",
       "1  1970/01/01 00:00:00+00  2008/11/14 00:00:00+00                 \n",
       "2  1970/01/01 00:00:00+00  2009/02/10 00:00:00+00          SDOT   \n",
       "3  1970/01/01 00:00:00+00  2009/01/06 00:00:00+00                 \n",
       "4  1970/01/01 00:00:00+00  2012/12/13 00:00:00+00                 \n",
       "\n",
       "  MAINTENANCE_AGREEMENT  CURBSPACEID MAINT_DISTRICT  OVERRIDECOMMENT  \\\n",
       "0                   NaN          NaN        CENTRAL              NaN   \n",
       "1                   NaN          NaN          SOUTH              NaN   \n",
       "2                   NaN          NaN          NORTH              NaN   \n",
       "3                   NaN          NaN          SOUTH              NaN   \n",
       "4                   NaN          NaN          NORTH              NaN   \n",
       "\n",
       "    SHAPE_LNG  SHAPE_LAT CROSSWALK_CONTROL MATERIAL     ONSTREET  \\\n",
       "0 -122.336656  47.601800                      THRPL  ALASKAN WAY   \n",
       "1 -122.276553  47.542459                      THRPL   S HOLLY ST   \n",
       "2 -122.342486  47.654435            SIGNAL    THRPL  STONE WAY N   \n",
       "3 -122.376151  47.568308                      THRPL  35TH AVE SW   \n",
       "4 -122.307324  47.733890                      THRPL  NE 145TH ST   \n",
       "\n",
       "           XSTRLOW MEAS_FROM_LOW  DISTTOLOW  STPOINT           XSTRHI  \\\n",
       "0       YESLER WAY             Y         35        0      COLUMBIA ST   \n",
       "1       44TH AVE S             N        385        0       45TH AVE S   \n",
       "2        N 39TH ST             Y        115        0     BRIDGE WAY N   \n",
       "3  SW ANDOVER N ST             Y         18        0  SW ANDOVER S ST   \n",
       "4      20TH AVE NE             Y          5        0      22ND AVE NE   \n",
       "\n",
       "  MEAS_FROM_HI  DISTTOHI  OFFSET SIDE  MEASUREMENT_ORIGIN ATTACHMENT_1  \\\n",
       "0            N       234       0    C  XStreet Centerline          NaN   \n",
       "1            Y        20       0    C  XStreet Centerline          NaN   \n",
       "2            N        83       0    C  XStreet Centerline          NaN   \n",
       "3            N       112       0    C  XStreet Centerline          NaN   \n",
       "4            N       328       0    C  XStreet Centerline          NaN   \n",
       "\n",
       "  ATTACHMENT_2  ATTACHMENT_3  ATTACHMENT_4  ATTACHMENT_5  ATTACHMENT_6  \\\n",
       "0          NaN           NaN           NaN           NaN           NaN   \n",
       "1          NaN           NaN           NaN           NaN           NaN   \n",
       "2          NaN           NaN           NaN           NaN           NaN   \n",
       "3          NaN           NaN           NaN           NaN           NaN   \n",
       "4          NaN           NaN           NaN           NaN           NaN   \n",
       "\n",
       "   ATTACHMENT_7  ATTACHMENT_8  ATTACHMENT_9 MAINTENANCE_GROUP  NUM_ATTACHMENTS  \n",
       "0           NaN           NaN           NaN     XWK-CD7-YEAR4                0  \n",
       "1           NaN           NaN           NaN     XWK-CD2-YEAR4                0  \n",
       "2           NaN           NaN           NaN     XWK-CD4-YEAR1                0  \n",
       "3           NaN           NaN           NaN     XWK-CD1-YEAR3                0  \n",
       "4           NaN           NaN           NaN     XWK-CD5-YEAR4                0  "
      ]
     },
     "execution_count": 29,
     "metadata": {},
     "output_type": "execute_result"
    }
   ],
   "source": [
    "marked_cross = pd.read_csv('../data/Marked_Crosswalks.csv')\n",
    "marked_cross.head()"
   ]
  },
  {
   "cell_type": "code",
   "execution_count": 30,
   "metadata": {},
   "outputs": [
    {
     "data": {
      "text/plain": [
       "(5683, 58)"
      ]
     },
     "execution_count": 30,
     "metadata": {},
     "output_type": "execute_result"
    }
   ],
   "source": [
    "# how many marked crosswalks are there\n",
    "marked_cross.shape"
   ]
  },
  {
   "cell_type": "code",
   "execution_count": 31,
   "metadata": {},
   "outputs": [
    {
     "data": {
      "image/png": "[encoded data removed]",
      "text/plain": [
       "<Figure size 720x360 with 1 Axes>"
      ]
     },
     "metadata": {
      "needs_background": "light"
     },
     "output_type": "display_data"
    }
   ],
   "source": [
    "# Seeing the conditions of the crosswalks\n",
    "\n",
    "fig, ax = plt.subplots(figsize=(10,5))\n",
    "\n",
    "marked_cross['CONDITION'].value_counts().plot(kind='bar')\n",
    "ax.set_title('Conditions of Marked Crosswalks')\n",
    "ax.set_xlabel('Condition')\n",
    "ax.set_ylabel('Number of Marked Crosswalks');"
   ]
  },
  {
   "cell_type": "markdown",
   "metadata": {},
   "source": [
    "### Radar Speed Signs\n",
    "\n",
    "Comparing where there are speed signs to where the collisions are happening is another potential indicator for higher risk collision areas. Maybe people are going slower near the speed signs, decreasing risk of collisions. Or maybe it has the opposite effect. We will be looking into that more later on.  \n",
    "Again, most of the columns will not be useful to us except for its location."
   ]
  },
  {
   "cell_type": "code",
   "execution_count": 32,
   "metadata": {},
   "outputs": [
    {
     "data": {
      "text/html": [
       "<div>\n",
       "<style scoped>\n",
       "    .dataframe tbody tr th:only-of-type {\n",
       "        vertical-align: middle;\n",
       "    }\n",
       "\n",
       "    .dataframe tbody tr th {\n",
       "        vertical-align: top;\n",
       "    }\n",
       "\n",
       "    .dataframe thead th {\n",
       "        text-align: right;\n",
       "    }\n",
       "</style>\n",
       "<table border=\"1\" class=\"dataframe\">\n",
       "  <thead>\n",
       "    <tr style=\"text-align: right;\">\n",
       "      <th></th>\n",
       "      <th>X</th>\n",
       "      <th>Y</th>\n",
       "      <th>OBJECTID</th>\n",
       "      <th>COMPKEY</th>\n",
       "      <th>UNITID</th>\n",
       "      <th>UNITDESC</th>\n",
       "      <th>OWNERSHIP</th>\n",
       "      <th>CONDITION</th>\n",
       "      <th>CURRENT_STATUS</th>\n",
       "      <th>OVERRIDEYN</th>\n",
       "      <th>COMPTYPE</th>\n",
       "      <th>SEGKEY</th>\n",
       "      <th>UNITTYPE</th>\n",
       "      <th>BLUE_TOOTH_ENABLED</th>\n",
       "      <th>DATA_COLLECTION_CAPABILITY</th>\n",
       "      <th>SERVICE_POINT</th>\n",
       "      <th>SOLAR_OPERATED</th>\n",
       "      <th>SIDE</th>\n",
       "      <th>SHAPE_LNG</th>\n",
       "      <th>SHAPE_LAT</th>\n",
       "    </tr>\n",
       "  </thead>\n",
       "  <tbody>\n",
       "    <tr>\n",
       "      <th>0</th>\n",
       "      <td>1.260736e+06</td>\n",
       "      <td>257337.873980</td>\n",
       "      <td>1</td>\n",
       "      <td>508865</td>\n",
       "      <td>RSS-1</td>\n",
       "      <td>HOLMAN RD NW 0907 BLOCK NW SIDE ( 110) 110 FT ...</td>\n",
       "      <td>SDOT</td>\n",
       "      <td>GOOD</td>\n",
       "      <td>INSVC</td>\n",
       "      <td>N</td>\n",
       "      <td>16</td>\n",
       "      <td>10938</td>\n",
       "      <td>RSS</td>\n",
       "      <td>N</td>\n",
       "      <td>N</td>\n",
       "      <td>NaN</td>\n",
       "      <td>Y</td>\n",
       "      <td>NW</td>\n",
       "      <td>-122.375191</td>\n",
       "      <td>47.695054</td>\n",
       "    </tr>\n",
       "    <tr>\n",
       "      <th>1</th>\n",
       "      <td>1.276266e+06</td>\n",
       "      <td>258974.658109</td>\n",
       "      <td>2</td>\n",
       "      <td>535585</td>\n",
       "      <td>RSS-20</td>\n",
       "      <td>15TH AVE NE 0980 BLOCK W SIDE (   0) 0 FT /O N...</td>\n",
       "      <td>SDOT</td>\n",
       "      <td>GOOD</td>\n",
       "      <td>PLANNED</td>\n",
       "      <td>N</td>\n",
       "      <td>16</td>\n",
       "      <td>2072</td>\n",
       "      <td>RSS</td>\n",
       "      <td>Y</td>\n",
       "      <td>Y</td>\n",
       "      <td>NaN</td>\n",
       "      <td>Y</td>\n",
       "      <td>W</td>\n",
       "      <td>-122.312268</td>\n",
       "      <td>47.700376</td>\n",
       "    </tr>\n",
       "    <tr>\n",
       "      <th>2</th>\n",
       "      <td>1.291550e+06</td>\n",
       "      <td>189642.035446</td>\n",
       "      <td>3</td>\n",
       "      <td>702898</td>\n",
       "      <td>RSS-51</td>\n",
       "      <td>RAINIER AVE S 1010 BLOCK N SIDE ( 355) 1069 FT...</td>\n",
       "      <td></td>\n",
       "      <td></td>\n",
       "      <td>INSVC</td>\n",
       "      <td>N</td>\n",
       "      <td>16</td>\n",
       "      <td>12438</td>\n",
       "      <td>RSS</td>\n",
       "      <td>N</td>\n",
       "      <td>N</td>\n",
       "      <td>NaN</td>\n",
       "      <td>Y</td>\n",
       "      <td>N</td>\n",
       "      <td>-122.245047</td>\n",
       "      <td>47.511122</td>\n",
       "    </tr>\n",
       "    <tr>\n",
       "      <th>3</th>\n",
       "      <td>1.282505e+06</td>\n",
       "      <td>244565.359086</td>\n",
       "      <td>4</td>\n",
       "      <td>678320</td>\n",
       "      <td>RSS-49</td>\n",
       "      <td>NE 45TH ST 0380 BLOCK S SIDE ( 315) 235 FT W/O...</td>\n",
       "      <td></td>\n",
       "      <td></td>\n",
       "      <td></td>\n",
       "      <td>N</td>\n",
       "      <td>16</td>\n",
       "      <td>16866</td>\n",
       "      <td>RSS</td>\n",
       "      <td>N</td>\n",
       "      <td>N</td>\n",
       "      <td>NaN</td>\n",
       "      <td>N</td>\n",
       "      <td>S</td>\n",
       "      <td>-122.285830</td>\n",
       "      <td>47.661206</td>\n",
       "    </tr>\n",
       "    <tr>\n",
       "      <th>4</th>\n",
       "      <td>1.262416e+06</td>\n",
       "      <td>209772.973835</td>\n",
       "      <td>5</td>\n",
       "      <td>600918</td>\n",
       "      <td>RSS-36</td>\n",
       "      <td>SW GENESEE ST 0250 BLOCK N SIDE (  10) 10 FT W...</td>\n",
       "      <td></td>\n",
       "      <td></td>\n",
       "      <td>INSVC</td>\n",
       "      <td>N</td>\n",
       "      <td>16</td>\n",
       "      <td>22200</td>\n",
       "      <td>RSS</td>\n",
       "      <td>N</td>\n",
       "      <td>N</td>\n",
       "      <td>NaN</td>\n",
       "      <td>N</td>\n",
       "      <td>N</td>\n",
       "      <td>-122.364529</td>\n",
       "      <td>47.564773</td>\n",
       "    </tr>\n",
       "  </tbody>\n",
       "</table>\n",
       "</div>"
      ],
      "text/plain": [
       "              X              Y  OBJECTID  COMPKEY  UNITID  \\\n",
       "0  1.260736e+06  257337.873980         1   508865   RSS-1   \n",
       "1  1.276266e+06  258974.658109         2   535585  RSS-20   \n",
       "2  1.291550e+06  189642.035446         3   702898  RSS-51   \n",
       "3  1.282505e+06  244565.359086         4   678320  RSS-49   \n",
       "4  1.262416e+06  209772.973835         5   600918  RSS-36   \n",
       "\n",
       "                                            UNITDESC OWNERSHIP CONDITION  \\\n",
       "0  HOLMAN RD NW 0907 BLOCK NW SIDE ( 110) 110 FT ...      SDOT      GOOD   \n",
       "1  15TH AVE NE 0980 BLOCK W SIDE (   0) 0 FT /O N...      SDOT      GOOD   \n",
       "2  RAINIER AVE S 1010 BLOCK N SIDE ( 355) 1069 FT...                       \n",
       "3  NE 45TH ST 0380 BLOCK S SIDE ( 315) 235 FT W/O...                       \n",
       "4  SW GENESEE ST 0250 BLOCK N SIDE (  10) 10 FT W...                       \n",
       "\n",
       "  CURRENT_STATUS OVERRIDEYN  COMPTYPE  SEGKEY UNITTYPE BLUE_TOOTH_ENABLED  \\\n",
       "0          INSVC          N        16   10938      RSS                  N   \n",
       "1        PLANNED          N        16    2072      RSS                  Y   \n",
       "2          INSVC          N        16   12438      RSS                  N   \n",
       "3                         N        16   16866      RSS                  N   \n",
       "4          INSVC          N        16   22200      RSS                  N   \n",
       "\n",
       "  DATA_COLLECTION_CAPABILITY SERVICE_POINT SOLAR_OPERATED SIDE   SHAPE_LNG  \\\n",
       "0                          N           NaN              Y   NW -122.375191   \n",
       "1                          Y           NaN              Y    W -122.312268   \n",
       "2                          N           NaN              Y    N -122.245047   \n",
       "3                          N           NaN              N    S -122.285830   \n",
       "4                          N           NaN              N    N -122.364529   \n",
       "\n",
       "   SHAPE_LAT  \n",
       "0  47.695054  \n",
       "1  47.700376  \n",
       "2  47.511122  \n",
       "3  47.661206  \n",
       "4  47.564773  "
      ]
     },
     "execution_count": 32,
     "metadata": {},
     "output_type": "execute_result"
    }
   ],
   "source": [
    "radar = pd.read_csv('../data/Radar_Speed_Signs.csv')\n",
    "radar.head()"
   ]
  },
  {
   "cell_type": "code",
   "execution_count": 33,
   "metadata": {},
   "outputs": [
    {
     "data": {
      "text/plain": [
       "<folium.features.CircleMarker at 0x12585bac8>"
      ]
     },
     "execution_count": 33,
     "metadata": {},
     "output_type": "execute_result"
    },
    {
     "data": {
      "text/plain": [
       "<folium.features.CircleMarker at 0x12926d400>"
      ]
     },
     "execution_count": 33,
     "metadata": {},
     "output_type": "execute_result"
    },
    {
     "data": {
      "text/plain": [
       "<folium.features.CircleMarker at 0x12585b860>"
      ]
     },
     "execution_count": 33,
     "metadata": {},
     "output_type": "execute_result"
    },
    {
     "data": {
      "text/plain": [
       "<folium.features.CircleMarker at 0x12585bf28>"
      ]
     },
     "execution_count": 33,
     "metadata": {},
     "output_type": "execute_result"
    },
    {
     "data": {
      "text/plain": [
       "<folium.features.CircleMarker at 0x12926d828>"
      ]
     },
     "execution_count": 33,
     "metadata": {},
     "output_type": "execute_result"
    },
    {
     "data": {
      "text/plain": [
       "<folium.features.CircleMarker at 0x12926d9e8>"
      ]
     },
     "execution_count": 33,
     "metadata": {},
     "output_type": "execute_result"
    },
    {
     "data": {
      "text/plain": [
       "<folium.features.CircleMarker at 0x12926d550>"
      ]
     },
     "execution_count": 33,
     "metadata": {},
     "output_type": "execute_result"
    },
    {
     "data": {
      "text/plain": [
       "<folium.features.CircleMarker at 0x12926dcf8>"
      ]
     },
     "execution_count": 33,
     "metadata": {},
     "output_type": "execute_result"
    },
    {
     "data": {
      "text/plain": [
       "<folium.features.CircleMarker at 0x12926dd30>"
      ]
     },
     "execution_count": 33,
     "metadata": {},
     "output_type": "execute_result"
    },
    {
     "data": {
      "text/plain": [
       "<folium.features.CircleMarker at 0x129264c18>"
      ]
     },
     "execution_count": 33,
     "metadata": {},
     "output_type": "execute_result"
    },
    {
     "data": {
      "text/plain": [
       "<folium.features.CircleMarker at 0x129264e10>"
      ]
     },
     "execution_count": 33,
     "metadata": {},
     "output_type": "execute_result"
    },
    {
     "data": {
      "text/plain": [
       "<folium.features.CircleMarker at 0x129264128>"
      ]
     },
     "execution_count": 33,
     "metadata": {},
     "output_type": "execute_result"
    },
    {
     "data": {
      "text/plain": [
       "<folium.features.CircleMarker at 0x1292645c0>"
      ]
     },
     "execution_count": 33,
     "metadata": {},
     "output_type": "execute_result"
    },
    {
     "data": {
      "text/plain": [
       "<folium.features.CircleMarker at 0x12926dba8>"
      ]
     },
     "execution_count": 33,
     "metadata": {},
     "output_type": "execute_result"
    },
    {
     "data": {
      "text/plain": [
       "<folium.features.CircleMarker at 0x1292640b8>"
      ]
     },
     "execution_count": 33,
     "metadata": {},
     "output_type": "execute_result"
    },
    {
     "data": {
      "text/plain": [
       "<folium.features.CircleMarker at 0x1292850b8>"
      ]
     },
     "execution_count": 33,
     "metadata": {},
     "output_type": "execute_result"
    },
    {
     "data": {
      "text/plain": [
       "<folium.features.CircleMarker at 0x1292855c0>"
      ]
     },
     "execution_count": 33,
     "metadata": {},
     "output_type": "execute_result"
    },
    {
     "data": {
      "text/plain": [
       "<folium.features.CircleMarker at 0x12926d278>"
      ]
     },
     "execution_count": 33,
     "metadata": {},
     "output_type": "execute_result"
    },
    {
     "data": {
      "text/plain": [
       "<folium.features.CircleMarker at 0x129285438>"
      ]
     },
     "execution_count": 33,
     "metadata": {},
     "output_type": "execute_result"
    },
    {
     "data": {
      "text/plain": [
       "<folium.features.CircleMarker at 0x129264be0>"
      ]
     },
     "execution_count": 33,
     "metadata": {},
     "output_type": "execute_result"
    },
    {
     "data": {
      "text/plain": [
       "<folium.features.CircleMarker at 0x129285f28>"
      ]
     },
     "execution_count": 33,
     "metadata": {},
     "output_type": "execute_result"
    },
    {
     "data": {
      "text/plain": [
       "<folium.features.CircleMarker at 0x1292855f8>"
      ]
     },
     "execution_count": 33,
     "metadata": {},
     "output_type": "execute_result"
    },
    {
     "data": {
      "text/plain": [
       "<folium.features.CircleMarker at 0x129289828>"
      ]
     },
     "execution_count": 33,
     "metadata": {},
     "output_type": "execute_result"
    },
    {
     "data": {
      "text/plain": [
       "<folium.features.CircleMarker at 0x129289c50>"
      ]
     },
     "execution_count": 33,
     "metadata": {},
     "output_type": "execute_result"
    },
    {
     "data": {
      "text/plain": [
       "<folium.features.CircleMarker at 0x129285d68>"
      ]
     },
     "execution_count": 33,
     "metadata": {},
     "output_type": "execute_result"
    },
    {
     "data": {
      "text/plain": [
       "<folium.features.CircleMarker at 0x129289780>"
      ]
     },
     "execution_count": 33,
     "metadata": {},
     "output_type": "execute_result"
    },
    {
     "data": {
      "text/plain": [
       "<folium.features.CircleMarker at 0x129289320>"
      ]
     },
     "execution_count": 33,
     "metadata": {},
     "output_type": "execute_result"
    },
    {
     "data": {
      "text/plain": [
       "<folium.features.CircleMarker at 0x129289940>"
      ]
     },
     "execution_count": 33,
     "metadata": {},
     "output_type": "execute_result"
    },
    {
     "data": {
      "text/plain": [
       "<folium.features.CircleMarker at 0x129285da0>"
      ]
     },
     "execution_count": 33,
     "metadata": {},
     "output_type": "execute_result"
    },
    {
     "data": {
      "text/plain": [
       "<folium.features.CircleMarker at 0x1293055f8>"
      ]
     },
     "execution_count": 33,
     "metadata": {},
     "output_type": "execute_result"
    },
    {
     "data": {
      "text/plain": [
       "<folium.features.CircleMarker at 0x129289240>"
      ]
     },
     "execution_count": 33,
     "metadata": {},
     "output_type": "execute_result"
    },
    {
     "data": {
      "text/plain": [
       "<folium.features.CircleMarker at 0x129289ef0>"
      ]
     },
     "execution_count": 33,
     "metadata": {},
     "output_type": "execute_result"
    },
    {
     "data": {
      "text/plain": [
       "<folium.features.CircleMarker at 0x129305240>"
      ]
     },
     "execution_count": 33,
     "metadata": {},
     "output_type": "execute_result"
    },
    {
     "data": {
      "text/plain": [
       "<folium.features.CircleMarker at 0x129305358>"
      ]
     },
     "execution_count": 33,
     "metadata": {},
     "output_type": "execute_result"
    },
    {
     "data": {
      "text/plain": [
       "<folium.features.CircleMarker at 0x129289400>"
      ]
     },
     "execution_count": 33,
     "metadata": {},
     "output_type": "execute_result"
    },
    {
     "data": {
      "text/plain": [
       "<folium.features.CircleMarker at 0x1293055c0>"
      ]
     },
     "execution_count": 33,
     "metadata": {},
     "output_type": "execute_result"
    },
    {
     "data": {
      "text/plain": [
       "<folium.features.CircleMarker at 0x1293053c8>"
      ]
     },
     "execution_count": 33,
     "metadata": {},
     "output_type": "execute_result"
    },
    {
     "data": {
      "text/plain": [
       "<folium.features.CircleMarker at 0x1292fca20>"
      ]
     },
     "execution_count": 33,
     "metadata": {},
     "output_type": "execute_result"
    },
    {
     "data": {
      "text/plain": [
       "<folium.features.CircleMarker at 0x1292fcd30>"
      ]
     },
     "execution_count": 33,
     "metadata": {},
     "output_type": "execute_result"
    },
    {
     "data": {
      "text/plain": [
       "<folium.features.CircleMarker at 0x129305ac8>"
      ]
     },
     "execution_count": 33,
     "metadata": {},
     "output_type": "execute_result"
    },
    {
     "data": {
      "text/plain": [
       "<folium.features.CircleMarker at 0x129305a58>"
      ]
     },
     "execution_count": 33,
     "metadata": {},
     "output_type": "execute_result"
    },
    {
     "data": {
      "text/plain": [
       "<folium.features.CircleMarker at 0x1292fc2b0>"
      ]
     },
     "execution_count": 33,
     "metadata": {},
     "output_type": "execute_result"
    },
    {
     "data": {
      "text/plain": [
       "<folium.features.CircleMarker at 0x1292fc3c8>"
      ]
     },
     "execution_count": 33,
     "metadata": {},
     "output_type": "execute_result"
    },
    {
     "data": {
      "text/plain": [
       "<folium.features.CircleMarker at 0x1292fc1d0>"
      ]
     },
     "execution_count": 33,
     "metadata": {},
     "output_type": "execute_result"
    },
    {
     "data": {
      "text/plain": [
       "<folium.features.CircleMarker at 0x129329a90>"
      ]
     },
     "execution_count": 33,
     "metadata": {},
     "output_type": "execute_result"
    },
    {
     "data": {
      "text/plain": [
       "<folium.features.CircleMarker at 0x129329438>"
      ]
     },
     "execution_count": 33,
     "metadata": {},
     "output_type": "execute_result"
    },
    {
     "data": {
      "text/plain": [
       "<folium.features.CircleMarker at 0x1292fc128>"
      ]
     },
     "execution_count": 33,
     "metadata": {},
     "output_type": "execute_result"
    },
    {
     "data": {
      "text/plain": [
       "<folium.features.CircleMarker at 0x129329780>"
      ]
     },
     "execution_count": 33,
     "metadata": {},
     "output_type": "execute_result"
    },
    {
     "data": {
      "text/plain": [
       "<folium.features.CircleMarker at 0x1293292e8>"
      ]
     },
     "execution_count": 33,
     "metadata": {},
     "output_type": "execute_result"
    },
    {
     "data": {
      "text/plain": [
       "<folium.features.CircleMarker at 0x1293294a8>"
      ]
     },
     "execution_count": 33,
     "metadata": {},
     "output_type": "execute_result"
    },
    {
     "data": {
      "text/plain": [
       "<folium.features.CircleMarker at 0x12935e400>"
      ]
     },
     "execution_count": 33,
     "metadata": {},
     "output_type": "execute_result"
    },
    {
     "data": {
      "text/html": [
       "<div style=\"width:100%;\"><div style=\"position:relative;width:100%;height:0;padding-bottom:60%;\"><iframe src=\"data:text/html;charset=utf-8;base64,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\" style=\"position:absolute;width:100%;height:100%;left:0;top:0;border:none !important;\" allowfullscreen webkitallowfullscreen mozallowfullscreen></iframe></div></div>"
      ],
      "text/plain": [
       "<folium.folium.Map at 0x12585b748>"
      ]
     },
     "execution_count": 33,
     "metadata": {},
     "output_type": "execute_result"
    }
   ],
   "source": [
    "# #Generate map centered around address\n",
    "seattle_map = folium.Map(location=[sea_latitude, sea_longitude], zoom_start=13)\n",
    "\n",
    "#blue markers for bikeracks\n",
    "for lat, lng, label in zip(radar['SHAPE_LAT'], radar['SHAPE_LNG'], radar['SIDE']):\n",
    "    folium.features.CircleMarker(\n",
    "        [lat, lng],\n",
    "        radius = 3,\n",
    "        color='purple',\n",
    "        popup=label,\n",
    "        fill=True,\n",
    "        fill_color='purple',\n",
    "        fill_opacity=0.5\n",
    "    ).add_to(seattle_map);\n",
    "    \n",
    "seattle_map"
   ]
  },
  {
   "cell_type": "markdown",
   "metadata": {},
   "source": [
    "### Current Land Use Zoning\n",
    "\n",
    "This is in progress with visualization since it contains a .shp file.\n",
    "\n",
    "http://data-seattlecitygis.opendata.arcgis.com/datasets/dd29065b5d01420e9686570c2b77502b_0?geometry=-122.383%2C47.606%2C-122.293%2C47.626"
   ]
  },
  {
   "cell_type": "code",
   "execution_count": 34,
   "metadata": {},
   "outputs": [
    {
     "data": {
      "text/html": [
       "<div>\n",
       "<style scoped>\n",
       "    .dataframe tbody tr th:only-of-type {\n",
       "        vertical-align: middle;\n",
       "    }\n",
       "\n",
       "    .dataframe tbody tr th {\n",
       "        vertical-align: top;\n",
       "    }\n",
       "\n",
       "    .dataframe thead th {\n",
       "        text-align: right;\n",
       "    }\n",
       "</style>\n",
       "<table border=\"1\" class=\"dataframe\">\n",
       "  <thead>\n",
       "    <tr style=\"text-align: right;\">\n",
       "      <th></th>\n",
       "      <th>OBJECTID</th>\n",
       "      <th>ZONEID</th>\n",
       "      <th>ZONING</th>\n",
       "      <th>CONTRACT</th>\n",
       "      <th>ORDINANCE</th>\n",
       "      <th>EFFECTIVE</th>\n",
       "      <th>HISTORIC</th>\n",
       "      <th>PEDESTRIAN</th>\n",
       "      <th>SHORELINE</th>\n",
       "      <th>OVERLAY</th>\n",
       "      <th>LIGHTRAIL</th>\n",
       "      <th>MHA</th>\n",
       "      <th>IZ</th>\n",
       "      <th>MHA_VALUE</th>\n",
       "      <th>MIO_NAME</th>\n",
       "      <th>CLASS_DESC</th>\n",
       "      <th>CATEGORY_DESC</th>\n",
       "      <th>ZONELUT</th>\n",
       "      <th>DETAIL_DESC</th>\n",
       "      <th>ZONING_DESC</th>\n",
       "      <th>BASE_ZONE</th>\n",
       "      <th>ZONING_PREV</th>\n",
       "      <th>CONTRACT_PREV</th>\n",
       "      <th>ORDINANCE_PREV</th>\n",
       "      <th>EFFECTIVE_PREV</th>\n",
       "      <th>HISTORIC_PREV</th>\n",
       "      <th>PEDESTRIAN_PREV</th>\n",
       "      <th>SHORELINE_PREV</th>\n",
       "      <th>OVERLAY_PREV</th>\n",
       "      <th>LIGHTRAIL_PREV</th>\n",
       "    </tr>\n",
       "  </thead>\n",
       "  <tbody>\n",
       "    <tr>\n",
       "      <th>0</th>\n",
       "      <td>1</td>\n",
       "      <td>3837</td>\n",
       "      <td>DMR/C 75/75-170</td>\n",
       "      <td></td>\n",
       "      <td>125371</td>\n",
       "      <td>2017/09/01 00:00:00+00</td>\n",
       "      <td></td>\n",
       "      <td></td>\n",
       "      <td></td>\n",
       "      <td>ID</td>\n",
       "      <td></td>\n",
       "      <td>Y</td>\n",
       "      <td>Y</td>\n",
       "      <td>NaN</td>\n",
       "      <td>NaN</td>\n",
       "      <td>Downtown</td>\n",
       "      <td>Downtown</td>\n",
       "      <td>DMRC</td>\n",
       "      <td>Downtown Mixed</td>\n",
       "      <td>Downtown Mixed Residential/Commercial 75/75-170</td>\n",
       "      <td>DMR/C 75/75-170</td>\n",
       "      <td>DMR/C 75/75-170</td>\n",
       "      <td></td>\n",
       "      <td>125371.0</td>\n",
       "      <td>2017/09/01 00:00:00+00</td>\n",
       "      <td></td>\n",
       "      <td></td>\n",
       "      <td></td>\n",
       "      <td></td>\n",
       "      <td></td>\n",
       "    </tr>\n",
       "    <tr>\n",
       "      <th>1</th>\n",
       "      <td>2</td>\n",
       "      <td>4194</td>\n",
       "      <td>SF 7200</td>\n",
       "      <td></td>\n",
       "      <td></td>\n",
       "      <td>1970/01/01 00:00:00+00</td>\n",
       "      <td></td>\n",
       "      <td></td>\n",
       "      <td></td>\n",
       "      <td></td>\n",
       "      <td></td>\n",
       "      <td>N</td>\n",
       "      <td>N</td>\n",
       "      <td>NaN</td>\n",
       "      <td>NaN</td>\n",
       "      <td>Single Family</td>\n",
       "      <td>Single Family</td>\n",
       "      <td>SF 7200</td>\n",
       "      <td>Single Family 7200</td>\n",
       "      <td>Single Family 7200</td>\n",
       "      <td>SF 7200</td>\n",
       "      <td>NaN</td>\n",
       "      <td>NaN</td>\n",
       "      <td>NaN</td>\n",
       "      <td>1994/05/01 00:00:00+00</td>\n",
       "      <td>NaN</td>\n",
       "      <td>NaN</td>\n",
       "      <td>NaN</td>\n",
       "      <td>NaN</td>\n",
       "      <td>NaN</td>\n",
       "    </tr>\n",
       "    <tr>\n",
       "      <th>2</th>\n",
       "      <td>3</td>\n",
       "      <td>4422</td>\n",
       "      <td>LR2 RC (M)</td>\n",
       "      <td></td>\n",
       "      <td>125791</td>\n",
       "      <td>2019/04/19 00:00:00+00</td>\n",
       "      <td></td>\n",
       "      <td></td>\n",
       "      <td></td>\n",
       "      <td></td>\n",
       "      <td></td>\n",
       "      <td>Y</td>\n",
       "      <td>N</td>\n",
       "      <td>M</td>\n",
       "      <td>NaN</td>\n",
       "      <td>Multi-Family</td>\n",
       "      <td>Lowrise Multi-Family</td>\n",
       "      <td>LR2 RC</td>\n",
       "      <td>Lowrise 2</td>\n",
       "      <td>Lowrise 2 Residential-Commercial</td>\n",
       "      <td>LR2 RC</td>\n",
       "      <td>LR2 RC</td>\n",
       "      <td></td>\n",
       "      <td>123495.0</td>\n",
       "      <td>2011/04/19 00:00:00+00</td>\n",
       "      <td></td>\n",
       "      <td></td>\n",
       "      <td></td>\n",
       "      <td></td>\n",
       "      <td></td>\n",
       "    </tr>\n",
       "    <tr>\n",
       "      <th>3</th>\n",
       "      <td>4</td>\n",
       "      <td>4423</td>\n",
       "      <td>LR1 (M)</td>\n",
       "      <td></td>\n",
       "      <td>125791</td>\n",
       "      <td>2019/04/19 00:00:00+00</td>\n",
       "      <td></td>\n",
       "      <td></td>\n",
       "      <td></td>\n",
       "      <td></td>\n",
       "      <td></td>\n",
       "      <td>Y</td>\n",
       "      <td>N</td>\n",
       "      <td>M</td>\n",
       "      <td>NaN</td>\n",
       "      <td>Multi-Family</td>\n",
       "      <td>Lowrise Multi-Family</td>\n",
       "      <td>LR1</td>\n",
       "      <td>Lowrise 1</td>\n",
       "      <td>Lowrise 1</td>\n",
       "      <td>LR1</td>\n",
       "      <td>LR1</td>\n",
       "      <td></td>\n",
       "      <td>123495.0</td>\n",
       "      <td>2011/04/19 00:00:00+00</td>\n",
       "      <td></td>\n",
       "      <td></td>\n",
       "      <td></td>\n",
       "      <td></td>\n",
       "      <td></td>\n",
       "    </tr>\n",
       "    <tr>\n",
       "      <th>4</th>\n",
       "      <td>5</td>\n",
       "      <td>4424</td>\n",
       "      <td>LR1 (M)</td>\n",
       "      <td></td>\n",
       "      <td>125791</td>\n",
       "      <td>2019/04/19 00:00:00+00</td>\n",
       "      <td></td>\n",
       "      <td></td>\n",
       "      <td></td>\n",
       "      <td></td>\n",
       "      <td></td>\n",
       "      <td>Y</td>\n",
       "      <td>N</td>\n",
       "      <td>M</td>\n",
       "      <td>NaN</td>\n",
       "      <td>Multi-Family</td>\n",
       "      <td>Lowrise Multi-Family</td>\n",
       "      <td>LR1</td>\n",
       "      <td>Lowrise 1</td>\n",
       "      <td>Lowrise 1</td>\n",
       "      <td>LR1</td>\n",
       "      <td>LR1</td>\n",
       "      <td></td>\n",
       "      <td>123495.0</td>\n",
       "      <td>2011/04/19 00:00:00+00</td>\n",
       "      <td></td>\n",
       "      <td></td>\n",
       "      <td></td>\n",
       "      <td></td>\n",
       "      <td></td>\n",
       "    </tr>\n",
       "  </tbody>\n",
       "</table>\n",
       "</div>"
      ],
      "text/plain": [
       "   OBJECTID  ZONEID           ZONING CONTRACT ORDINANCE  \\\n",
       "0         1    3837  DMR/C 75/75-170             125371   \n",
       "1         2    4194          SF 7200                      \n",
       "2         3    4422       LR2 RC (M)             125791   \n",
       "3         4    4423          LR1 (M)             125791   \n",
       "4         5    4424          LR1 (M)             125791   \n",
       "\n",
       "                EFFECTIVE HISTORIC PEDESTRIAN SHORELINE OVERLAY LIGHTRAIL MHA  \\\n",
       "0  2017/09/01 00:00:00+00                                    ID             Y   \n",
       "1  1970/01/01 00:00:00+00                                                   N   \n",
       "2  2019/04/19 00:00:00+00                                                   Y   \n",
       "3  2019/04/19 00:00:00+00                                                   Y   \n",
       "4  2019/04/19 00:00:00+00                                                   Y   \n",
       "\n",
       "  IZ MHA_VALUE MIO_NAME     CLASS_DESC         CATEGORY_DESC  ZONELUT  \\\n",
       "0  Y       NaN      NaN       Downtown              Downtown     DMRC   \n",
       "1  N       NaN      NaN  Single Family         Single Family  SF 7200   \n",
       "2  N         M      NaN   Multi-Family  Lowrise Multi-Family   LR2 RC   \n",
       "3  N         M      NaN   Multi-Family  Lowrise Multi-Family      LR1   \n",
       "4  N         M      NaN   Multi-Family  Lowrise Multi-Family      LR1   \n",
       "\n",
       "          DETAIL_DESC                                      ZONING_DESC  \\\n",
       "0      Downtown Mixed  Downtown Mixed Residential/Commercial 75/75-170   \n",
       "1  Single Family 7200                               Single Family 7200   \n",
       "2           Lowrise 2                 Lowrise 2 Residential-Commercial   \n",
       "3           Lowrise 1                                        Lowrise 1   \n",
       "4           Lowrise 1                                        Lowrise 1   \n",
       "\n",
       "         BASE_ZONE      ZONING_PREV CONTRACT_PREV  ORDINANCE_PREV  \\\n",
       "0  DMR/C 75/75-170  DMR/C 75/75-170                      125371.0   \n",
       "1          SF 7200              NaN           NaN             NaN   \n",
       "2           LR2 RC           LR2 RC                      123495.0   \n",
       "3              LR1              LR1                      123495.0   \n",
       "4              LR1              LR1                      123495.0   \n",
       "\n",
       "           EFFECTIVE_PREV HISTORIC_PREV PEDESTRIAN_PREV SHORELINE_PREV  \\\n",
       "0  2017/09/01 00:00:00+00                                                \n",
       "1  1994/05/01 00:00:00+00           NaN             NaN            NaN   \n",
       "2  2011/04/19 00:00:00+00                                                \n",
       "3  2011/04/19 00:00:00+00                                                \n",
       "4  2011/04/19 00:00:00+00                                                \n",
       "\n",
       "  OVERLAY_PREV LIGHTRAIL_PREV  \n",
       "0                              \n",
       "1          NaN            NaN  \n",
       "2                              \n",
       "3                              \n",
       "4                              "
      ]
     },
     "execution_count": 34,
     "metadata": {},
     "output_type": "execute_result"
    }
   ],
   "source": [
    "zoning = pd.read_csv('../data/Current_Land_Use_Zoning_Detail.csv')\n",
    "zoning.head()"
   ]
  },
  {
   "cell_type": "code",
   "execution_count": 35,
   "metadata": {},
   "outputs": [
    {
     "name": "stdout",
     "output_type": "stream",
     "text": [
      "<class 'pandas.core.frame.DataFrame'>\n",
      "RangeIndex: 3549 entries, 0 to 3548\n",
      "Data columns (total 30 columns):\n",
      " #   Column           Non-Null Count  Dtype  \n",
      "---  ------           --------------  -----  \n",
      " 0   OBJECTID         3549 non-null   int64  \n",
      " 1   ZONEID           3549 non-null   int64  \n",
      " 2   ZONING           3549 non-null   object \n",
      " 3   CONTRACT         3548 non-null   object \n",
      " 4   ORDINANCE        3527 non-null   object \n",
      " 5   EFFECTIVE        3549 non-null   object \n",
      " 6   HISTORIC         3549 non-null   object \n",
      " 7   PEDESTRIAN       3549 non-null   object \n",
      " 8   SHORELINE        3549 non-null   object \n",
      " 9   OVERLAY          3549 non-null   object \n",
      " 10  LIGHTRAIL        3549 non-null   object \n",
      " 11  MHA              3515 non-null   object \n",
      " 12  IZ               3549 non-null   object \n",
      " 13  MHA_VALUE        2674 non-null   object \n",
      " 14  MIO_NAME         287 non-null    object \n",
      " 15  CLASS_DESC       3549 non-null   object \n",
      " 16  CATEGORY_DESC    3549 non-null   object \n",
      " 17  ZONELUT          3549 non-null   object \n",
      " 18  DETAIL_DESC      3549 non-null   object \n",
      " 19  ZONING_DESC      3549 non-null   object \n",
      " 20  BASE_ZONE        3549 non-null   object \n",
      " 21  ZONING_PREV      3064 non-null   object \n",
      " 22  CONTRACT_PREV    2906 non-null   object \n",
      " 23  ORDINANCE_PREV   2970 non-null   float64\n",
      " 24  EFFECTIVE_PREV   3549 non-null   object \n",
      " 25  HISTORIC_PREV    2904 non-null   object \n",
      " 26  PEDESTRIAN_PREV  2881 non-null   object \n",
      " 27  SHORELINE_PREV   2950 non-null   object \n",
      " 28  OVERLAY_PREV     2913 non-null   object \n",
      " 29  LIGHTRAIL_PREV   2877 non-null   object \n",
      "dtypes: float64(1), int64(2), object(27)\n",
      "memory usage: 831.9+ KB\n"
     ]
    }
   ],
   "source": [
    "zoning.info()"
   ]
  },
  {
   "cell_type": "markdown",
   "metadata": {},
   "source": [
    "It looks like the 'CLASS_DESC' column and the 'CATEGORY_DESC' column are very similar in their values. We will explore the unique values or each and see if they are only slightly varied in the wording."
   ]
  },
  {
   "cell_type": "code",
   "execution_count": 36,
   "metadata": {},
   "outputs": [
    {
     "data": {
      "text/plain": [
       "array(['Downtown', 'Single Family', 'Major Institutions',\n",
       "       'Master Planned Community'], dtype=object)"
      ]
     },
     "execution_count": 36,
     "metadata": {},
     "output_type": "execute_result"
    }
   ],
   "source": [
    "# Which values are the same in both columns\n",
    "zoning[zoning['CLASS_DESC'] == zoning['CATEGORY_DESC']]['CLASS_DESC'].unique()"
   ]
  },
  {
   "cell_type": "code",
   "execution_count": 37,
   "metadata": {},
   "outputs": [
    {
     "data": {
      "text/plain": [
       "CLASS_DESC                CATEGORY_DESC            \n",
       "Commercial/Mixed Use      Commercial                    206\n",
       "                          Neighborhood Commercial       945\n",
       "                          Seattle Mixed                 114\n",
       "Manufacturing/Industrial  Industrial                    220\n",
       "Multi-Family              High-Density Multi-Family      83\n",
       "                          Lowrise Multi-Family         1161\n",
       "Single Family             Residential Small Lot         100\n",
       "Name: OBJECTID, dtype: int64"
      ]
     },
     "execution_count": 37,
     "metadata": {},
     "output_type": "execute_result"
    }
   ],
   "source": [
    "zoning[zoning['CLASS_DESC'] != zoning['CATEGORY_DESC']].groupby(['CLASS_DESC', 'CATEGORY_DESC']).count()['OBJECTID']"
   ]
  },
  {
   "cell_type": "markdown",
   "metadata": {},
   "source": [
    "Looks like 'CLASS_DESC' is a little bit more general than 'CATEGORY_DESC' but it is definitely related."
   ]
  },
  {
   "cell_type": "code",
   "execution_count": 38,
   "metadata": {},
   "outputs": [
    {
     "data": {
      "image/png": "[encoded data removed]",
      "text/plain": [
       "<Figure size 720x360 with 1 Axes>"
      ]
     },
     "metadata": {
      "needs_background": "light"
     },
     "output_type": "display_data"
    }
   ],
   "source": [
    "# Seeing the conditions of the crosswalks\n",
    "\n",
    "fig, ax = plt.subplots(figsize=(10,5))\n",
    "\n",
    "zoning['CLASS_DESC'].value_counts().plot(kind='bar')\n",
    "ax.set_title('Number per Land Use Categories')\n",
    "ax.set_xlabel('Category of Land Use')\n",
    "ax.set_ylabel('Count per Category')\n",
    "ax.set_xticklabels(labels=zoning['CLASS_DESC'].unique(), rotation=80);"
   ]
  },
  {
   "cell_type": "markdown",
   "metadata": {},
   "source": [
    "The locations of the features and the sites of the collisions can all be mapped onto the same map."
   ]
  },
  {
   "cell_type": "code",
   "execution_count": 39,
   "metadata": {},
   "outputs": [],
   "source": [
    "# #Generate map centered around address\n",
    "# seattle_map = folium.Map(location=[sea_latitude, sea_longitude], zoom_start=13)\n",
    "    \n",
    "# blue markers for bike racks\n",
    "for lat, lng, label in zip(bikeracks['SHAPE_LAT'][:100], bikeracks['SHAPE_LNG'][:100], bikeracks['RACK_CAPACITY'].apply(str)[:100]):\n",
    "    folium.features.CircleMarker(\n",
    "        [lat, lng],\n",
    "        radius = 3,\n",
    "        color='lightblue',\n",
    "        popup=label,\n",
    "        fill=True,\n",
    "        fill_color='lightblue',\n",
    "        fill_opacity=0.5\n",
    "    ).add_to(seattle_map)\n",
    "    \n",
    "# orange markers for radar speed signs, only contains 51 rows\n",
    "for lat, lng, label in zip(radar['SHAPE_LAT'], radar['SHAPE_LNG'], radar['SIDE']):\n",
    "    folium.features.CircleMarker(\n",
    "        [lat, lng],\n",
    "        radius = 3,\n",
    "        color='orange',\n",
    "        popup=label,\n",
    "        fill=True,\n",
    "        fill_color='orange',\n",
    "        fill_opacity=0.5\n",
    "    ).add_to(seattle_map)\n",
    "\n",
    "# green markers for marked crosswalks\n",
    "for lat, lng, label in zip(marked_cross['SHAPE_LAT'][:100], marked_cross['SHAPE_LNG'][:100], marked_cross['CONDITION'][:100]):\n",
    "    folium.features.CircleMarker(\n",
    "        [lat, lng],\n",
    "        radius = 3,\n",
    "        color='purple',\n",
    "        popup=label,\n",
    "        fill=True,\n",
    "        fill_color='purple',\n",
    "        fill_opacity=0.5\n",
    "    ).add_to(seattle_map)\n",
    "    \n",
    "# red rectangular markers for collisions\n",
    "for lat, lng, label in zip(collisions_df[~collisions_df['X'].isna()]['Y'][:500], collisions_df[~collisions_df['X'].isna()]['X'][:500], collisions_df[~collisions_df['X'].isna()]['SEVERITYDESC'][:500]):\n",
    "    folium.features.RectangleMarker(\n",
    "        bounds=[[lat, lng], [lat+0.00085, lng+0.00085]],\n",
    "#         radius = 3,\n",
    "        color='black',\n",
    "        popup=label,\n",
    "#         fill=True,\n",
    "        fill_color='red',\n",
    "        fill_opacity=1\n",
    "    ).add_to(seattle_map)\n",
    "    \n",
    "seattle_map.save('../data/seattle_map.html');"
   ]
  },
  {
   "cell_type": "markdown",
   "metadata": {},
   "source": [
    "# Calculating Distance between Coordinates\n",
    "\n",
    "Obtaining the distance of collisions to the different features and finding the nearest ones. We will explore if this will help increase the accuracy of predicting high risk intersections."
   ]
  },
  {
   "cell_type": "code",
   "execution_count": 40,
   "metadata": {},
   "outputs": [],
   "source": [
    "# Using the GeoPy library\n",
    "# pip install geopy\n",
    "import geopy.distance"
   ]
  },
  {
   "cell_type": "code",
   "execution_count": 41,
   "metadata": {},
   "outputs": [
    {
     "name": "stdout",
     "output_type": "stream",
     "text": [
      "0.8601319867886356\n"
     ]
    }
   ],
   "source": [
    "# testing cooridnates\n",
    "\n",
    "coords_1 = (marked_cross['SHAPE_LAT'][0], marked_cross['SHAPE_LNG'][0])\n",
    "coords_2 = (collisions_df['Y'][0], collisions_df['X'][0])\n",
    "\n",
    "print(geopy.distance.distance(coords_1, coords_2).miles)"
   ]
  },
  {
   "cell_type": "code",
   "execution_count": null,
   "metadata": {},
   "outputs": [],
   "source": []
  }
 ],
 "metadata": {
  "kernelspec": {
   "display_name": "Python 3",
   "language": "python",
   "name": "python3"
  },
  "language_info": {
   "codemirror_mode": {
    "name": "ipython",
    "version": 3
   },
   "file_extension": ".py",
   "mimetype": "text/x-python",
   "name": "python",
   "nbconvert_exporter": "python",
   "pygments_lexer": "ipython3",
   "version": "3.7.0"
  }
 },
 "nbformat": 4,
 "nbformat_minor": 4
}
