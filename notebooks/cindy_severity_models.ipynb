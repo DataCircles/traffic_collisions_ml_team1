{
 "cells": [
  {
   "cell_type": "code",
   "execution_count": 384,
   "metadata": {},
   "outputs": [
    {
     "name": "stdout",
     "output_type": "stream",
     "text": [
      "The autoreload extension is already loaded. To reload it, use:\n",
      "  %reload_ext autoreload\n"
     ]
    }
   ],
   "source": [
    "# Import Modules\n",
    "import numpy as np\n",
    "import pandas as pd\n",
    "import seaborn as sns\n",
    "import matplotlib.pyplot as plt\n",
    "\n",
    "#modeling tools\n",
    "import statsmodels.api as sm\n",
    "\n",
    "import lightgbm as lgb\n",
    "\n",
    "from sklearn.tree import DecisionTreeRegressor, DecisionTreeClassifier\n",
    "from sklearn.ensemble import GradientBoostingClassifier, RandomForestClassifier, RandomForestRegressor\n",
    "from sklearn.metrics import recall_score, accuracy_score, precision_score, mean_squared_error, confusion_matrix, auc, roc_auc_score, roc_curve, log_loss, make_scorer\n",
    "from sklearn.model_selection import cross_val_score, train_test_split, GridSearchCV, KFold\n",
    "\n",
    "import sys\n",
    "sys.path.append('../')\n",
    "from src.models.agg_catboost import agg_catboost\n",
    "\n",
    "%matplotlib inline\n",
    "# plt.style.use('dark_background')\n",
    "plt.style.use('ggplot')\n",
    "\n",
    "%load_ext autoreload\n",
    "%autoreload 2\n",
    "\n",
    "pd.set_option('display.min_row', 100)\n",
    "pd.set_option('display.max_column', 100)\n",
    "pd.set_option('display.max_colwidth', 300)"
   ]
  },
  {
   "cell_type": "code",
   "execution_count": 328,
   "metadata": {},
   "outputs": [],
   "source": [
    "blocks = pd.read_csv('../data/processed/blocks_sev_score.csv', index_col=0)\n",
    "intersections = pd.read_csv('../data/processed/intersections_sev_score.csv', index_col=0)\n",
    "circles = pd.read_csv('../data/processed/circles_sev_score.csv', index_col=0)\n",
    "crosswalks = pd.read_csv('../data/processed/crosswalks_sev_score.csv', index_col=0)"
   ]
  },
  {
   "cell_type": "markdown",
   "metadata": {},
   "source": [
    "# Blocks"
   ]
  },
  {
   "cell_type": "code",
   "execution_count": 34,
   "metadata": {},
   "outputs": [
    {
     "data": {
      "text/plain": [
       "Index(['location', 'artdescript', 'speedlimit', 'segdir', 'oneway',\n",
       "       'surfacetype_1', 'nationhwysys', 'streettype', 'tranclass',\n",
       "       'trandescript', 'slope_pct', 'parkboulevard', 'year', 'count',\n",
       "       'total fatalities', 'total serious injuries', 'total evident injuries',\n",
       "       'total possible injuries', 'total vehicles',\n",
       "       'total pedestrians involved', 'total bicyclists involved',\n",
       "       'weigh_fatalities', 'weigh_serious', 'weigh_evident', 'weigh_possible',\n",
       "       'sev_score'],\n",
       "      dtype='object')"
      ]
     },
     "execution_count": 34,
     "metadata": {},
     "output_type": "execute_result"
    }
   ],
   "source": [
    "blocks.columns"
   ]
  },
  {
   "cell_type": "code",
   "execution_count": 37,
   "metadata": {},
   "outputs": [],
   "source": [
    "# drop columns that would need to be collected at scene of collision\n",
    "b_to_drop = ['count', 'year', 'total fatalities', 'total serious injuries', 'total evident injuries',\n",
    "       'total possible injuries', 'total vehicles', 'trandescript',\n",
    "       'total pedestrians involved', 'total bicyclists involved',\n",
    "       'weigh_fatalities', 'weigh_serious', 'weigh_evident', 'weigh_possible']\n",
    "\n",
    "blocks.drop(columns=b_to_drop, inplace=True)"
   ]
  },
  {
   "cell_type": "code",
   "execution_count": 160,
   "metadata": {},
   "outputs": [],
   "source": [
    "distinct_blocks = blocks.groupby(['location', 'artdescript', 'speedlimit', 'segdir', 'oneway', 'tranclass',\n",
    "       'surfacetype_1', 'nationhwysys', 'streettype','slope_pct', 'parkboulevard']).sum().reset_index()"
   ]
  },
  {
   "cell_type": "code",
   "execution_count": 161,
   "metadata": {},
   "outputs": [],
   "source": [
    "distinct_blocks.loc[7430, 'segdir'] = 'E'"
   ]
  },
  {
   "cell_type": "code",
   "execution_count": 162,
   "metadata": {},
   "outputs": [
    {
     "data": {
      "text/html": [
       "<div>\n",
       "<style scoped>\n",
       "    .dataframe tbody tr th:only-of-type {\n",
       "        vertical-align: middle;\n",
       "    }\n",
       "\n",
       "    .dataframe tbody tr th {\n",
       "        vertical-align: top;\n",
       "    }\n",
       "\n",
       "    .dataframe thead th {\n",
       "        text-align: right;\n",
       "    }\n",
       "</style>\n",
       "<table border=\"1\" class=\"dataframe\">\n",
       "  <thead>\n",
       "    <tr style=\"text-align: right;\">\n",
       "      <th></th>\n",
       "      <th>location</th>\n",
       "      <th>artdescript</th>\n",
       "      <th>speedlimit</th>\n",
       "      <th>segdir</th>\n",
       "      <th>oneway</th>\n",
       "      <th>tranclass</th>\n",
       "      <th>surfacetype_1</th>\n",
       "      <th>nationhwysys</th>\n",
       "      <th>streettype</th>\n",
       "      <th>slope_pct</th>\n",
       "      <th>parkboulevard</th>\n",
       "      <th>sev_score</th>\n",
       "    </tr>\n",
       "  </thead>\n",
       "  <tbody>\n",
       "    <tr>\n",
       "      <th>0</th>\n",
       "      <td>10TH AVE BETWEEN E ALDER ST AND E TERRACE ST</td>\n",
       "      <td>Not Designated</td>\n",
       "      <td>20.0</td>\n",
       "      <td>N</td>\n",
       "      <td>N</td>\n",
       "      <td>0</td>\n",
       "      <td>AC</td>\n",
       "      <td>N</td>\n",
       "      <td>Urban Village Neighborhood Access</td>\n",
       "      <td>1.0</td>\n",
       "      <td>N</td>\n",
       "      <td>0.000062</td>\n",
       "    </tr>\n",
       "    <tr>\n",
       "      <th>1</th>\n",
       "      <td>10TH AVE BETWEEN E FIR ST AND DEAD END 1</td>\n",
       "      <td>Not Designated</td>\n",
       "      <td>20.0</td>\n",
       "      <td>N</td>\n",
       "      <td>N</td>\n",
       "      <td>0</td>\n",
       "      <td>PCC</td>\n",
       "      <td>N</td>\n",
       "      <td>Urban Village Neighborhood Access</td>\n",
       "      <td>4.0</td>\n",
       "      <td>N</td>\n",
       "      <td>0.000000</td>\n",
       "    </tr>\n",
       "    <tr>\n",
       "      <th>2</th>\n",
       "      <td>10TH AVE BETWEEN E MADISON ST AND E SENECA ST</td>\n",
       "      <td>Not Designated</td>\n",
       "      <td>20.0</td>\n",
       "      <td>N</td>\n",
       "      <td>N</td>\n",
       "      <td>0</td>\n",
       "      <td>AC</td>\n",
       "      <td>N</td>\n",
       "      <td>Urban Village Neighborhood Access</td>\n",
       "      <td>1.0</td>\n",
       "      <td>N</td>\n",
       "      <td>0.000084</td>\n",
       "    </tr>\n",
       "    <tr>\n",
       "      <th>3</th>\n",
       "      <td>10TH AVE BETWEEN E PIKE ST AND E PINE ST</td>\n",
       "      <td>Not Designated</td>\n",
       "      <td>20.0</td>\n",
       "      <td>N</td>\n",
       "      <td>N</td>\n",
       "      <td>0</td>\n",
       "      <td>AC</td>\n",
       "      <td>N</td>\n",
       "      <td>Urban Village Neighborhood Access</td>\n",
       "      <td>2.0</td>\n",
       "      <td>N</td>\n",
       "      <td>0.000369</td>\n",
       "    </tr>\n",
       "    <tr>\n",
       "      <th>4</th>\n",
       "      <td>10TH AVE BETWEEN E SENECA ST AND E UNION ST</td>\n",
       "      <td>Not Designated</td>\n",
       "      <td>20.0</td>\n",
       "      <td>N</td>\n",
       "      <td>N</td>\n",
       "      <td>0</td>\n",
       "      <td>AC</td>\n",
       "      <td>N</td>\n",
       "      <td>Urban Village Neighborhood Access</td>\n",
       "      <td>1.0</td>\n",
       "      <td>N</td>\n",
       "      <td>0.000026</td>\n",
       "    </tr>\n",
       "  </tbody>\n",
       "</table>\n",
       "</div>"
      ],
      "text/plain": [
       "                                        location     artdescript  speedlimit  \\\n",
       "0   10TH AVE BETWEEN E ALDER ST AND E TERRACE ST  Not Designated        20.0   \n",
       "1       10TH AVE BETWEEN E FIR ST AND DEAD END 1  Not Designated        20.0   \n",
       "2  10TH AVE BETWEEN E MADISON ST AND E SENECA ST  Not Designated        20.0   \n",
       "3       10TH AVE BETWEEN E PIKE ST AND E PINE ST  Not Designated        20.0   \n",
       "4    10TH AVE BETWEEN E SENECA ST AND E UNION ST  Not Designated        20.0   \n",
       "\n",
       "  segdir oneway  tranclass surfacetype_1 nationhwysys  \\\n",
       "0      N      N          0            AC            N   \n",
       "1      N      N          0           PCC            N   \n",
       "2      N      N          0            AC            N   \n",
       "3      N      N          0            AC            N   \n",
       "4      N      N          0            AC            N   \n",
       "\n",
       "                          streettype  slope_pct parkboulevard  sev_score  \n",
       "0  Urban Village Neighborhood Access        1.0             N   0.000062  \n",
       "1  Urban Village Neighborhood Access        4.0             N   0.000000  \n",
       "2  Urban Village Neighborhood Access        1.0             N   0.000084  \n",
       "3  Urban Village Neighborhood Access        2.0             N   0.000369  \n",
       "4  Urban Village Neighborhood Access        1.0             N   0.000026  "
      ]
     },
     "execution_count": 162,
     "metadata": {},
     "output_type": "execute_result"
    }
   ],
   "source": [
    "distinct_blocks.head()"
   ]
  },
  {
   "cell_type": "code",
   "execution_count": 163,
   "metadata": {},
   "outputs": [],
   "source": [
    "distinct_blocks['parkboulevard'] = distinct_blocks['parkboulevard'].map({'Y':1, 'N':0})\n",
    "distinct_blocks['nationhwysys'] = distinct_blocks['nationhwysys'].map({'Y':1, 'N':0})\n",
    "distinct_blocks['oneway'] = distinct_blocks['oneway'].map({'Y':1, 'N':0})"
   ]
  },
  {
   "cell_type": "markdown",
   "metadata": {},
   "source": [
    "#### Target and Features"
   ]
  },
  {
   "cell_type": "code",
   "execution_count": 164,
   "metadata": {},
   "outputs": [],
   "source": [
    "y = distinct_blocks.pop('sev_score')"
   ]
  },
  {
   "cell_type": "code",
   "execution_count": 114,
   "metadata": {},
   "outputs": [],
   "source": [
    "X = distinct_blocks.drop(columns='location').copy()"
   ]
  },
  {
   "cell_type": "code",
   "execution_count": 87,
   "metadata": {},
   "outputs": [
    {
     "data": {
      "text/html": [
       "<div>\n",
       "<style scoped>\n",
       "    .dataframe tbody tr th:only-of-type {\n",
       "        vertical-align: middle;\n",
       "    }\n",
       "\n",
       "    .dataframe tbody tr th {\n",
       "        vertical-align: top;\n",
       "    }\n",
       "\n",
       "    .dataframe thead th {\n",
       "        text-align: right;\n",
       "    }\n",
       "</style>\n",
       "<table border=\"1\" class=\"dataframe\">\n",
       "  <thead>\n",
       "    <tr style=\"text-align: right;\">\n",
       "      <th></th>\n",
       "      <th>artdescript</th>\n",
       "      <th>speedlimit</th>\n",
       "      <th>segdir</th>\n",
       "      <th>oneway</th>\n",
       "      <th>tranclass</th>\n",
       "      <th>surfacetype_1</th>\n",
       "      <th>nationhwysys</th>\n",
       "      <th>streettype</th>\n",
       "      <th>slope_pct</th>\n",
       "      <th>parkboulevard</th>\n",
       "    </tr>\n",
       "  </thead>\n",
       "  <tbody>\n",
       "    <tr>\n",
       "      <th>0</th>\n",
       "      <td>Not Designated</td>\n",
       "      <td>20.0</td>\n",
       "      <td>N</td>\n",
       "      <td>0</td>\n",
       "      <td>0</td>\n",
       "      <td>AC</td>\n",
       "      <td>0</td>\n",
       "      <td>Urban Village Neighborhood Access</td>\n",
       "      <td>1.0</td>\n",
       "      <td>0</td>\n",
       "    </tr>\n",
       "    <tr>\n",
       "      <th>1</th>\n",
       "      <td>Not Designated</td>\n",
       "      <td>20.0</td>\n",
       "      <td>N</td>\n",
       "      <td>0</td>\n",
       "      <td>0</td>\n",
       "      <td>PCC</td>\n",
       "      <td>0</td>\n",
       "      <td>Urban Village Neighborhood Access</td>\n",
       "      <td>4.0</td>\n",
       "      <td>0</td>\n",
       "    </tr>\n",
       "    <tr>\n",
       "      <th>2</th>\n",
       "      <td>Not Designated</td>\n",
       "      <td>20.0</td>\n",
       "      <td>N</td>\n",
       "      <td>0</td>\n",
       "      <td>0</td>\n",
       "      <td>AC</td>\n",
       "      <td>0</td>\n",
       "      <td>Urban Village Neighborhood Access</td>\n",
       "      <td>1.0</td>\n",
       "      <td>0</td>\n",
       "    </tr>\n",
       "    <tr>\n",
       "      <th>3</th>\n",
       "      <td>Not Designated</td>\n",
       "      <td>20.0</td>\n",
       "      <td>N</td>\n",
       "      <td>0</td>\n",
       "      <td>0</td>\n",
       "      <td>AC</td>\n",
       "      <td>0</td>\n",
       "      <td>Urban Village Neighborhood Access</td>\n",
       "      <td>2.0</td>\n",
       "      <td>0</td>\n",
       "    </tr>\n",
       "    <tr>\n",
       "      <th>4</th>\n",
       "      <td>Not Designated</td>\n",
       "      <td>20.0</td>\n",
       "      <td>N</td>\n",
       "      <td>0</td>\n",
       "      <td>0</td>\n",
       "      <td>AC</td>\n",
       "      <td>0</td>\n",
       "      <td>Urban Village Neighborhood Access</td>\n",
       "      <td>1.0</td>\n",
       "      <td>0</td>\n",
       "    </tr>\n",
       "  </tbody>\n",
       "</table>\n",
       "</div>"
      ],
      "text/plain": [
       "      artdescript  speedlimit segdir  oneway  tranclass surfacetype_1  \\\n",
       "0  Not Designated        20.0      N       0          0            AC   \n",
       "1  Not Designated        20.0      N       0          0           PCC   \n",
       "2  Not Designated        20.0      N       0          0            AC   \n",
       "3  Not Designated        20.0      N       0          0            AC   \n",
       "4  Not Designated        20.0      N       0          0            AC   \n",
       "\n",
       "   nationhwysys                         streettype  slope_pct  parkboulevard  \n",
       "0             0  Urban Village Neighborhood Access        1.0              0  \n",
       "1             0  Urban Village Neighborhood Access        4.0              0  \n",
       "2             0  Urban Village Neighborhood Access        1.0              0  \n",
       "3             0  Urban Village Neighborhood Access        2.0              0  \n",
       "4             0  Urban Village Neighborhood Access        1.0              0  "
      ]
     },
     "execution_count": 87,
     "metadata": {},
     "output_type": "execute_result"
    }
   ],
   "source": [
    "X.head()"
   ]
  },
  {
   "cell_type": "markdown",
   "metadata": {},
   "source": [
    "#### Catboost Blocks"
   ]
  },
  {
   "cell_type": "code",
   "execution_count": 224,
   "metadata": {},
   "outputs": [],
   "source": [
    "cat_feats = ['artdescript', 'segdir', 'surfacetype_1']\n",
    "\n",
    "clf = agg_catboost(X, y, cat_feats)"
   ]
  },
  {
   "cell_type": "code",
   "execution_count": 225,
   "metadata": {},
   "outputs": [
    {
     "data": {
      "text/plain": [
       "'Training on 5 k-folds complete'"
      ]
     },
     "execution_count": 225,
     "metadata": {},
     "output_type": "execute_result"
    }
   ],
   "source": [
    "clf.train_model()"
   ]
  },
  {
   "cell_type": "code",
   "execution_count": 227,
   "metadata": {},
   "outputs": [
    {
     "data": {
      "image/png": "[encoded data removed]",
      "text/plain": [
       "<Figure size 432x288 with 1 Axes>"
      ]
     },
     "metadata": {},
     "output_type": "display_data"
    }
   ],
   "source": [
    "clf.plot_feature_importances()\n",
    "plt.savefig('../reports/blocks_cat_featimport.png')"
   ]
  },
  {
   "cell_type": "markdown",
   "metadata": {},
   "source": [
    "#### Random Forest Blocks"
   ]
  },
  {
   "cell_type": "code",
   "execution_count": 117,
   "metadata": {},
   "outputs": [],
   "source": [
    "# X = pd.get_dummies(X, drop_first=True)"
   ]
  },
  {
   "cell_type": "code",
   "execution_count": 165,
   "metadata": {},
   "outputs": [],
   "source": [
    "art_descript_dict = {'Not Designated':0, 'Minor Arterial':2, 'Principal Arterial':3,\n",
    "       'Collector Arterial':1, 'Interstate/Freeway':4, 'State Route/Freeway':4,\n",
    "       'County Arterial':4}\n",
    "\n",
    "distinct_blocks['artdescript'] = distinct_blocks['artdescript'].map(art_descript_dict)"
   ]
  },
  {
   "cell_type": "code",
   "execution_count": 167,
   "metadata": {},
   "outputs": [],
   "source": [
    "surfacetype_dict = {'PCC':1, 'AC/PCC':1, 'ST':2, 'AC':0, 'AC/AC':0, 'GRAVEL':3}\n",
    "distinct_blocks['surfacetype_1'] = distinct_blocks['surfacetype_1'].map(surfacetype_dict)"
   ]
  },
  {
   "cell_type": "code",
   "execution_count": null,
   "metadata": {},
   "outputs": [],
   "source": [
    "# streettype_dict = {'Neighborhood Yield Street', 'Urban Village Neighborhood Access',\n",
    "#        'Neighborhood Corridor', 'Urban Center Connector',\n",
    "#        'Urban Village Neighborhood', 'Urban Village Main',\n",
    "#        'Minor Industrial Access', 'Industrial Access', 'Downtown',\n",
    "#        'Downtown Neighborhood', 'Downtown Neighborhood Access', 'Alley'}"
   ]
  },
  {
   "cell_type": "code",
   "execution_count": 168,
   "metadata": {},
   "outputs": [],
   "source": [
    "segdir_dict = {'E':1, 'N':0, 'S':2, 'W':3, 'NE':1, 'NW':0, 'SE':2, 'SW':3}\n",
    "\n",
    "distinct_blocks['segdir'] = distinct_blocks['segdir'].map(segdir_dict)"
   ]
  },
  {
   "cell_type": "code",
   "execution_count": 231,
   "metadata": {},
   "outputs": [],
   "source": [
    "X = distinct_blocks.drop(columns=['location', 'streettype', 'tranclass']).copy()"
   ]
  },
  {
   "cell_type": "code",
   "execution_count": 232,
   "metadata": {},
   "outputs": [],
   "source": [
    "y = (y > 0).astype(int)"
   ]
  },
  {
   "cell_type": "code",
   "execution_count": 233,
   "metadata": {},
   "outputs": [],
   "source": [
    "X_train, X_test, y_train, y_test = train_test_split(X, y, test_size=0.2)"
   ]
  },
  {
   "cell_type": "code",
   "execution_count": 234,
   "metadata": {},
   "outputs": [
    {
     "data": {
      "text/html": [
       "<div>\n",
       "<style scoped>\n",
       "    .dataframe tbody tr th:only-of-type {\n",
       "        vertical-align: middle;\n",
       "    }\n",
       "\n",
       "    .dataframe tbody tr th {\n",
       "        vertical-align: top;\n",
       "    }\n",
       "\n",
       "    .dataframe thead th {\n",
       "        text-align: right;\n",
       "    }\n",
       "</style>\n",
       "<table border=\"1\" class=\"dataframe\">\n",
       "  <thead>\n",
       "    <tr style=\"text-align: right;\">\n",
       "      <th></th>\n",
       "      <th>artdescript</th>\n",
       "      <th>speedlimit</th>\n",
       "      <th>segdir</th>\n",
       "      <th>oneway</th>\n",
       "      <th>surfacetype_1</th>\n",
       "      <th>nationhwysys</th>\n",
       "      <th>slope_pct</th>\n",
       "      <th>parkboulevard</th>\n",
       "    </tr>\n",
       "  </thead>\n",
       "  <tbody>\n",
       "    <tr>\n",
       "      <th>0</th>\n",
       "      <td>0</td>\n",
       "      <td>20.0</td>\n",
       "      <td>0</td>\n",
       "      <td>0</td>\n",
       "      <td>0</td>\n",
       "      <td>0</td>\n",
       "      <td>1.0</td>\n",
       "      <td>0</td>\n",
       "    </tr>\n",
       "    <tr>\n",
       "      <th>1</th>\n",
       "      <td>0</td>\n",
       "      <td>20.0</td>\n",
       "      <td>0</td>\n",
       "      <td>0</td>\n",
       "      <td>1</td>\n",
       "      <td>0</td>\n",
       "      <td>4.0</td>\n",
       "      <td>0</td>\n",
       "    </tr>\n",
       "    <tr>\n",
       "      <th>2</th>\n",
       "      <td>0</td>\n",
       "      <td>20.0</td>\n",
       "      <td>0</td>\n",
       "      <td>0</td>\n",
       "      <td>0</td>\n",
       "      <td>0</td>\n",
       "      <td>1.0</td>\n",
       "      <td>0</td>\n",
       "    </tr>\n",
       "    <tr>\n",
       "      <th>3</th>\n",
       "      <td>0</td>\n",
       "      <td>20.0</td>\n",
       "      <td>0</td>\n",
       "      <td>0</td>\n",
       "      <td>0</td>\n",
       "      <td>0</td>\n",
       "      <td>2.0</td>\n",
       "      <td>0</td>\n",
       "    </tr>\n",
       "    <tr>\n",
       "      <th>4</th>\n",
       "      <td>0</td>\n",
       "      <td>20.0</td>\n",
       "      <td>0</td>\n",
       "      <td>0</td>\n",
       "      <td>0</td>\n",
       "      <td>0</td>\n",
       "      <td>1.0</td>\n",
       "      <td>0</td>\n",
       "    </tr>\n",
       "    <tr>\n",
       "      <th>...</th>\n",
       "      <td>...</td>\n",
       "      <td>...</td>\n",
       "      <td>...</td>\n",
       "      <td>...</td>\n",
       "      <td>...</td>\n",
       "      <td>...</td>\n",
       "      <td>...</td>\n",
       "      <td>...</td>\n",
       "    </tr>\n",
       "    <tr>\n",
       "      <th>23614</th>\n",
       "      <td>2</td>\n",
       "      <td>25.0</td>\n",
       "      <td>1</td>\n",
       "      <td>0</td>\n",
       "      <td>1</td>\n",
       "      <td>0</td>\n",
       "      <td>2.0</td>\n",
       "      <td>0</td>\n",
       "    </tr>\n",
       "    <tr>\n",
       "      <th>23615</th>\n",
       "      <td>0</td>\n",
       "      <td>20.0</td>\n",
       "      <td>2</td>\n",
       "      <td>0</td>\n",
       "      <td>1</td>\n",
       "      <td>0</td>\n",
       "      <td>4.0</td>\n",
       "      <td>0</td>\n",
       "    </tr>\n",
       "    <tr>\n",
       "      <th>23616</th>\n",
       "      <td>0</td>\n",
       "      <td>20.0</td>\n",
       "      <td>2</td>\n",
       "      <td>0</td>\n",
       "      <td>1</td>\n",
       "      <td>0</td>\n",
       "      <td>3.0</td>\n",
       "      <td>0</td>\n",
       "    </tr>\n",
       "    <tr>\n",
       "      <th>23617</th>\n",
       "      <td>0</td>\n",
       "      <td>20.0</td>\n",
       "      <td>2</td>\n",
       "      <td>0</td>\n",
       "      <td>2</td>\n",
       "      <td>0</td>\n",
       "      <td>7.0</td>\n",
       "      <td>0</td>\n",
       "    </tr>\n",
       "    <tr>\n",
       "      <th>23618</th>\n",
       "      <td>0</td>\n",
       "      <td>20.0</td>\n",
       "      <td>2</td>\n",
       "      <td>0</td>\n",
       "      <td>1</td>\n",
       "      <td>0</td>\n",
       "      <td>11.0</td>\n",
       "      <td>0</td>\n",
       "    </tr>\n",
       "  </tbody>\n",
       "</table>\n",
       "<p>23619 rows × 8 columns</p>\n",
       "</div>"
      ],
      "text/plain": [
       "       artdescript  speedlimit  segdir  oneway  surfacetype_1  nationhwysys  \\\n",
       "0                0        20.0       0       0              0             0   \n",
       "1                0        20.0       0       0              1             0   \n",
       "2                0        20.0       0       0              0             0   \n",
       "3                0        20.0       0       0              0             0   \n",
       "4                0        20.0       0       0              0             0   \n",
       "...            ...         ...     ...     ...            ...           ...   \n",
       "23614            2        25.0       1       0              1             0   \n",
       "23615            0        20.0       2       0              1             0   \n",
       "23616            0        20.0       2       0              1             0   \n",
       "23617            0        20.0       2       0              2             0   \n",
       "23618            0        20.0       2       0              1             0   \n",
       "\n",
       "       slope_pct  parkboulevard  \n",
       "0            1.0              0  \n",
       "1            4.0              0  \n",
       "2            1.0              0  \n",
       "3            2.0              0  \n",
       "4            1.0              0  \n",
       "...          ...            ...  \n",
       "23614        2.0              0  \n",
       "23615        4.0              0  \n",
       "23616        3.0              0  \n",
       "23617        7.0              0  \n",
       "23618       11.0              0  \n",
       "\n",
       "[23619 rows x 8 columns]"
      ]
     },
     "execution_count": 234,
     "metadata": {},
     "output_type": "execute_result"
    }
   ],
   "source": [
    "X"
   ]
  },
  {
   "cell_type": "code",
   "execution_count": 271,
   "metadata": {},
   "outputs": [],
   "source": [
    "rf_kfold = RandomForestClassifier(n_estimators=400)\n",
    "\n",
    "mses = []\n",
    "accuracies = []\n",
    "precisions = []\n",
    "recalls = []\n",
    "    \n",
    "fprs = []\n",
    "tprs = []\n",
    "thresholds = []\n",
    "\n",
    "feat_importances = []\n",
    "\n",
    "kf = KFold(n_splits=5, shuffle=True)\n",
    "\n",
    "for i, (train_index, test_index) in enumerate(kf.split(X, y)):\n",
    "            X_train, X_test = X.iloc[train_index], X.iloc[test_index]\n",
    "            y_train, y_test = y.iloc[train_index], y.iloc[test_index]\n",
    "            \n",
    "            rf_kfold.fit(X_train, y_train)\n",
    "            pred = rf_kfold.predict(X_test)\n",
    "            proba = rf_kfold.predict_proba(X_test)\n",
    "\n",
    "            feat_importances.append(rf_kfold.feature_importances_)\n",
    "            \n",
    "            #mean squared error of the y_test values and the predicted\n",
    "            err = mean_squared_error(y_test, pred)\n",
    "            mses.append(err)\n",
    "\n",
    "            #accuracy scores\n",
    "            accu = accuracy_score(y_test, pred)\n",
    "            accuracies.append(accu)\n",
    "\n",
    "            #precision scores\n",
    "            precise = precision_score(y_test, pred)\n",
    "            precisions.append(precise)\n",
    "\n",
    "            #recall scores\n",
    "            recall = recall_score(y_test, pred)\n",
    "            recalls.append(recall)\n",
    "            \n",
    "            roc_auc = roc_auc_score(y_test, pred)\n",
    "\n",
    "            fpr_val, tpr_val, thresholds_val = roc_curve(y_test, proba[:, 1])\n",
    "\n",
    "            fprs.append(fpr_val)\n",
    "            tprs.append(tpr_val)\n",
    "            thresholds.append(thresholds_val)"
   ]
  },
  {
   "cell_type": "code",
   "execution_count": 276,
   "metadata": {},
   "outputs": [
    {
     "name": "stdout",
     "output_type": "stream",
     "text": [
      "     Average Accuracy Score  : 0.73077\n",
      "     Average Precision Score : 0.75071\n",
      "     Average Recall Score    : 0.94093\n",
      "     Average MSE Score       : 0.26923\n",
      "     ROC AUC Score           : 0.56\n"
     ]
    }
   ],
   "source": [
    "print(f'     Average Accuracy Score  : {np.mean(accuracies):2.5f}')\n",
    "print(f'     Average Precision Score : {np.mean(precisions):2.5f}')\n",
    "print(f'     Average Recall Score    : {np.mean(recalls):2.5f}')\n",
    "print(f'     Average MSE Score       : {np.mean(mses):2.5f}')\n",
    "print(f'     ROC AUC Score           : {roc_auc:2.2f}')"
   ]
  },
  {
   "cell_type": "code",
   "execution_count": 298,
   "metadata": {},
   "outputs": [
    {
     "data": {
      "image/png": "[encoded data removed]",
      "text/plain": [
       "<Figure size 720x576 with 1 Axes>"
      ]
     },
     "metadata": {},
     "output_type": "display_data"
    }
   ],
   "source": [
    "fig, ax = plt.subplots(figsize=(10,8))\n",
    "\n",
    "for i in range(len(fprs)):\n",
    "    ax.plot(fprs[i], tprs[i], linewidth=1)\n",
    "    ax.plot([0,1], [0,1], linewidth=0.7)\n",
    "    ax.grid(False)\n",
    "    ax.set_xlabel('False Positive Rate')\n",
    "    ax.set_ylabel('True Positive Rate (Recall)')\n",
    "    ax.set_title('Blocks: Random Forest ROC Curve (5 kfolds)')\n",
    "ax.legend([f'AUC: {roc_auc:2.2f}'])\n",
    "    \n",
    "plt.savefig('../reports/figures/blocks_rf_kfolds.png')"
   ]
  },
  {
   "cell_type": "code",
   "execution_count": 386,
   "metadata": {},
   "outputs": [],
   "source": [
    "# # Plot the feature importance\n",
    "# feat_scores = pd.DataFrame({'Fraction of Samples Affected' : rf_kfold.feature_importances_},\n",
    "#                            index=X.columns)\n",
    "# feat_scores = feat_scores.sort_values(by='Fraction of Samples Affected')\n",
    "# feat_scores.plot(kind='barh', figsize=(15,8))\n",
    "# plt.legend(loc='lower right')\n",
    "# plt.title('Blocks: Random Forest Feature Importance');\n",
    "\n",
    "# plt.savefig('../reports/figures/blocks_rf_featimportance.png')"
   ]
  },
  {
   "cell_type": "code",
   "execution_count": null,
   "metadata": {},
   "outputs": [],
   "source": []
  },
  {
   "cell_type": "code",
   "execution_count": null,
   "metadata": {},
   "outputs": [],
   "source": []
  },
  {
   "cell_type": "markdown",
   "metadata": {},
   "source": [
    "# Intersections"
   ]
  },
  {
   "cell_type": "markdown",
   "metadata": {},
   "source": [
    "# Circles"
   ]
  },
  {
   "cell_type": "markdown",
   "metadata": {},
   "source": [
    "# Crosswalks"
   ]
  },
  {
   "cell_type": "code",
   "execution_count": 329,
   "metadata": {},
   "outputs": [
    {
     "data": {
      "text/plain": [
       "Index(['crosswalkkey', 'unitdesc', 'condition', 'primarydistrictcd',\n",
       "       'approach', 'marking_type', 'school', 'midblock_crosswalk', 'color',\n",
       "       'maint_district', 'shape_lng', 'shape_lat', 'crosswalk_control',\n",
       "       'onstreet', 'xstrlow', 'xstrhi', 'intkey', 'inattentionind_y', 'year',\n",
       "       'count', 'total fatalities', 'total serious injuries',\n",
       "       'total evident injuries', 'total possible injuries', 'total vehicles',\n",
       "       'total pedestrians involved', 'total bicyclists involved',\n",
       "       'weigh_fatalities', 'weigh_serious', 'weigh_evident', 'weigh_possible',\n",
       "       'sev_score'],\n",
       "      dtype='object')"
      ]
     },
     "execution_count": 329,
     "metadata": {},
     "output_type": "execute_result"
    }
   ],
   "source": [
    "crosswalks.columns"
   ]
  },
  {
   "cell_type": "code",
   "execution_count": 331,
   "metadata": {},
   "outputs": [
    {
     "data": {
      "text/plain": [
       "(7227, 32)"
      ]
     },
     "execution_count": 331,
     "metadata": {},
     "output_type": "execute_result"
    }
   ],
   "source": [
    "crosswalks.shape"
   ]
  },
  {
   "cell_type": "code",
   "execution_count": 333,
   "metadata": {},
   "outputs": [
    {
     "data": {
      "text/plain": [
       "N    7122\n",
       "Y     105\n",
       "Name: midblock_crosswalk, dtype: int64"
      ]
     },
     "execution_count": 333,
     "metadata": {},
     "output_type": "execute_result"
    }
   ],
   "source": [
    "crosswalks['midblock_crosswalk'].value_counts()"
   ]
  },
  {
   "cell_type": "code",
   "execution_count": 334,
   "metadata": {},
   "outputs": [],
   "source": [
    "# drop columns that would need to be collected at scene of collision\n",
    "xw_to_drop = ['unitdesc', 'shape_lng', 'shape_lat', 'total fatalities', 'total serious injuries', \n",
    "             'onstreet', 'xstrlow', 'xstrhi', 'intkey', 'inattentionind_y', 'year', 'count',\n",
    "             'total evident injuries', 'total possible injuries', 'total vehicles',\n",
    "             'total pedestrians involved', 'total bicyclists involved', 'weigh_fatalities', 'weigh_serious', \n",
    "             'weigh_evident', 'weigh_possible']\n",
    "\n",
    "crosswalks.drop(columns=xw_to_drop, inplace=True)"
   ]
  },
  {
   "cell_type": "code",
   "execution_count": 336,
   "metadata": {},
   "outputs": [
    {
     "data": {
      "text/plain": [
       "Index(['crosswalkkey', 'condition', 'primarydistrictcd', 'approach',\n",
       "       'marking_type', 'school', 'midblock_crosswalk', 'color',\n",
       "       'maint_district', 'crosswalk_control', 'sev_score'],\n",
       "      dtype='object')"
      ]
     },
     "execution_count": 336,
     "metadata": {},
     "output_type": "execute_result"
    }
   ],
   "source": [
    "crosswalks.columns"
   ]
  },
  {
   "cell_type": "code",
   "execution_count": 343,
   "metadata": {},
   "outputs": [],
   "source": [
    "distinct_xw = crosswalks.groupby(['crosswalkkey', 'condition', 'primarydistrictcd', 'approach',\n",
    "       'marking_type', 'school', 'midblock_crosswalk', 'color',\n",
    "       'maint_district', 'crosswalk_control']).sum().reset_index()"
   ]
  },
  {
   "cell_type": "code",
   "execution_count": 345,
   "metadata": {},
   "outputs": [
    {
     "data": {
      "text/plain": [
       "(5683, 11)"
      ]
     },
     "execution_count": 345,
     "metadata": {},
     "output_type": "execute_result"
    }
   ],
   "source": [
    "distinct_xw.shape"
   ]
  },
  {
   "cell_type": "code",
   "execution_count": 344,
   "metadata": {},
   "outputs": [
    {
     "data": {
      "text/html": [
       "<div>\n",
       "<style scoped>\n",
       "    .dataframe tbody tr th:only-of-type {\n",
       "        vertical-align: middle;\n",
       "    }\n",
       "\n",
       "    .dataframe tbody tr th {\n",
       "        vertical-align: top;\n",
       "    }\n",
       "\n",
       "    .dataframe thead th {\n",
       "        text-align: right;\n",
       "    }\n",
       "</style>\n",
       "<table border=\"1\" class=\"dataframe\">\n",
       "  <thead>\n",
       "    <tr style=\"text-align: right;\">\n",
       "      <th></th>\n",
       "      <th>crosswalkkey</th>\n",
       "      <th>condition</th>\n",
       "      <th>primarydistrictcd</th>\n",
       "      <th>approach</th>\n",
       "      <th>marking_type</th>\n",
       "      <th>school</th>\n",
       "      <th>midblock_crosswalk</th>\n",
       "      <th>color</th>\n",
       "      <th>maint_district</th>\n",
       "      <th>crosswalk_control</th>\n",
       "      <th>sev_score</th>\n",
       "    </tr>\n",
       "  </thead>\n",
       "  <tbody>\n",
       "    <tr>\n",
       "      <th>0</th>\n",
       "      <td>511360</td>\n",
       "      <td>GOOD</td>\n",
       "      <td>DISTRICT3</td>\n",
       "      <td>S</td>\n",
       "      <td>LADER</td>\n",
       "      <td>N</td>\n",
       "      <td>N</td>\n",
       "      <td>WHT</td>\n",
       "      <td>CENTRAL</td>\n",
       "      <td></td>\n",
       "      <td>0.00000</td>\n",
       "    </tr>\n",
       "    <tr>\n",
       "      <th>1</th>\n",
       "      <td>520756</td>\n",
       "      <td>GOOD</td>\n",
       "      <td>DISTRICT6</td>\n",
       "      <td>S</td>\n",
       "      <td>LADER</td>\n",
       "      <td>N</td>\n",
       "      <td>N</td>\n",
       "      <td>WHT</td>\n",
       "      <td>NORTH</td>\n",
       "      <td>SIGNAL</td>\n",
       "      <td>0.00030</td>\n",
       "    </tr>\n",
       "    <tr>\n",
       "      <th>2</th>\n",
       "      <td>520757</td>\n",
       "      <td>GOOD</td>\n",
       "      <td>DISTRICT6</td>\n",
       "      <td>N</td>\n",
       "      <td>LADER</td>\n",
       "      <td>N</td>\n",
       "      <td>N</td>\n",
       "      <td>WHT</td>\n",
       "      <td>NORTH</td>\n",
       "      <td>SIGNAL</td>\n",
       "      <td>0.00030</td>\n",
       "    </tr>\n",
       "    <tr>\n",
       "      <th>3</th>\n",
       "      <td>520758</td>\n",
       "      <td>GOOD</td>\n",
       "      <td>DISTRICT6</td>\n",
       "      <td>N</td>\n",
       "      <td>LADER</td>\n",
       "      <td>Y</td>\n",
       "      <td>N</td>\n",
       "      <td>WHT</td>\n",
       "      <td>NORTH</td>\n",
       "      <td></td>\n",
       "      <td>0.00045</td>\n",
       "    </tr>\n",
       "    <tr>\n",
       "      <th>4</th>\n",
       "      <td>520759</td>\n",
       "      <td>GOOD</td>\n",
       "      <td>DISTRICT6</td>\n",
       "      <td>N</td>\n",
       "      <td>LADER</td>\n",
       "      <td>Y</td>\n",
       "      <td>N</td>\n",
       "      <td>WHT</td>\n",
       "      <td>NORTH</td>\n",
       "      <td></td>\n",
       "      <td>0.00000</td>\n",
       "    </tr>\n",
       "  </tbody>\n",
       "</table>\n",
       "</div>"
      ],
      "text/plain": [
       "   crosswalkkey condition primarydistrictcd approach marking_type school  \\\n",
       "0        511360      GOOD         DISTRICT3        S        LADER      N   \n",
       "1        520756      GOOD         DISTRICT6        S        LADER      N   \n",
       "2        520757      GOOD         DISTRICT6        N        LADER      N   \n",
       "3        520758      GOOD         DISTRICT6        N        LADER      Y   \n",
       "4        520759      GOOD         DISTRICT6        N        LADER      Y   \n",
       "\n",
       "  midblock_crosswalk color maint_district crosswalk_control  sev_score  \n",
       "0                  N   WHT        CENTRAL                      0.00000  \n",
       "1                  N   WHT          NORTH            SIGNAL    0.00030  \n",
       "2                  N   WHT          NORTH            SIGNAL    0.00030  \n",
       "3                  N   WHT          NORTH                      0.00045  \n",
       "4                  N   WHT          NORTH                      0.00000  "
      ]
     },
     "execution_count": 344,
     "metadata": {},
     "output_type": "execute_result"
    }
   ],
   "source": [
    "distinct_xw.head()"
   ]
  },
  {
   "cell_type": "code",
   "execution_count": 332,
   "metadata": {},
   "outputs": [],
   "source": [
    "xw_binaries = ['school', 'midblock_crosswalk']\n",
    "str_entries = ['condition', 'crosswalk_control', 'color']"
   ]
  },
  {
   "cell_type": "code",
   "execution_count": 346,
   "metadata": {},
   "outputs": [],
   "source": [
    "for x in xw_binaries:\n",
    "    distinct_xw[x] = distinct_xw[x].map({'Y':1, 'N':0})"
   ]
  },
  {
   "cell_type": "code",
   "execution_count": 356,
   "metadata": {},
   "outputs": [],
   "source": [
    "# majority of crosswalks in rows where condition is missing, in their same districts with same marking_type\n",
    "# all are mainly GOOD\n",
    "\n",
    "distinct_xw['condition'] = distinct_xw['condition'].apply(lambda x: 'GOOD' if x == ' ' else x)"
   ]
  },
  {
   "cell_type": "code",
   "execution_count": 360,
   "metadata": {},
   "outputs": [],
   "source": [
    "# missing crosswalk_control means there is no signal there\n",
    "\n",
    "distinct_xw['crosswalk_control'] = distinct_xw['crosswalk_control'].apply(lambda x: 'NONE' if x == ' ' else x)"
   ]
  },
  {
   "cell_type": "code",
   "execution_count": 366,
   "metadata": {},
   "outputs": [],
   "source": [
    "# all crosswalks, no matter district or marking_type or school zone, are predominately white\n",
    "distinct_xw['color'] = distinct_xw['color'].apply(lambda x: 'WHT' if x == ' ' else x)"
   ]
  },
  {
   "cell_type": "code",
   "execution_count": 376,
   "metadata": {},
   "outputs": [
    {
     "data": {
      "text/plain": [
       "NONE        3527\n",
       "SIGNAL      1371\n",
       "STOPSIGN     704\n",
       "RFB-BCN       47\n",
       "FLSH-BCN      34\n",
       "Name: crosswalk_control, dtype: int64"
      ]
     },
     "execution_count": 376,
     "metadata": {},
     "output_type": "execute_result"
    }
   ],
   "source": [
    "distinct_xw['crosswalk_control'].value_counts()"
   ]
  },
  {
   "cell_type": "markdown",
   "metadata": {},
   "source": [
    "#### Target and Features"
   ]
  },
  {
   "cell_type": "code",
   "execution_count": 377,
   "metadata": {},
   "outputs": [],
   "source": [
    "y = distinct_xw.pop('sev_score')"
   ]
  },
  {
   "cell_type": "code",
   "execution_count": 388,
   "metadata": {},
   "outputs": [],
   "source": [
    "X = distinct_xw.drop(columns=['crosswalkkey', 'approach']).copy()"
   ]
  },
  {
   "cell_type": "code",
   "execution_count": 389,
   "metadata": {},
   "outputs": [
    {
     "data": {
      "text/html": [
       "<div>\n",
       "<style scoped>\n",
       "    .dataframe tbody tr th:only-of-type {\n",
       "        vertical-align: middle;\n",
       "    }\n",
       "\n",
       "    .dataframe tbody tr th {\n",
       "        vertical-align: top;\n",
       "    }\n",
       "\n",
       "    .dataframe thead th {\n",
       "        text-align: right;\n",
       "    }\n",
       "</style>\n",
       "<table border=\"1\" class=\"dataframe\">\n",
       "  <thead>\n",
       "    <tr style=\"text-align: right;\">\n",
       "      <th></th>\n",
       "      <th>condition</th>\n",
       "      <th>primarydistrictcd</th>\n",
       "      <th>marking_type</th>\n",
       "      <th>school</th>\n",
       "      <th>midblock_crosswalk</th>\n",
       "      <th>color</th>\n",
       "      <th>maint_district</th>\n",
       "      <th>crosswalk_control</th>\n",
       "    </tr>\n",
       "  </thead>\n",
       "  <tbody>\n",
       "    <tr>\n",
       "      <th>0</th>\n",
       "      <td>GOOD</td>\n",
       "      <td>DISTRICT3</td>\n",
       "      <td>LADER</td>\n",
       "      <td>0</td>\n",
       "      <td>0</td>\n",
       "      <td>WHT</td>\n",
       "      <td>CENTRAL</td>\n",
       "      <td>NONE</td>\n",
       "    </tr>\n",
       "    <tr>\n",
       "      <th>1</th>\n",
       "      <td>GOOD</td>\n",
       "      <td>DISTRICT6</td>\n",
       "      <td>LADER</td>\n",
       "      <td>0</td>\n",
       "      <td>0</td>\n",
       "      <td>WHT</td>\n",
       "      <td>NORTH</td>\n",
       "      <td>SIGNAL</td>\n",
       "    </tr>\n",
       "    <tr>\n",
       "      <th>2</th>\n",
       "      <td>GOOD</td>\n",
       "      <td>DISTRICT6</td>\n",
       "      <td>LADER</td>\n",
       "      <td>0</td>\n",
       "      <td>0</td>\n",
       "      <td>WHT</td>\n",
       "      <td>NORTH</td>\n",
       "      <td>SIGNAL</td>\n",
       "    </tr>\n",
       "    <tr>\n",
       "      <th>3</th>\n",
       "      <td>GOOD</td>\n",
       "      <td>DISTRICT6</td>\n",
       "      <td>LADER</td>\n",
       "      <td>1</td>\n",
       "      <td>0</td>\n",
       "      <td>WHT</td>\n",
       "      <td>NORTH</td>\n",
       "      <td>NONE</td>\n",
       "    </tr>\n",
       "    <tr>\n",
       "      <th>4</th>\n",
       "      <td>GOOD</td>\n",
       "      <td>DISTRICT6</td>\n",
       "      <td>LADER</td>\n",
       "      <td>1</td>\n",
       "      <td>0</td>\n",
       "      <td>WHT</td>\n",
       "      <td>NORTH</td>\n",
       "      <td>NONE</td>\n",
       "    </tr>\n",
       "  </tbody>\n",
       "</table>\n",
       "</div>"
      ],
      "text/plain": [
       "  condition primarydistrictcd marking_type  school  midblock_crosswalk color  \\\n",
       "0      GOOD         DISTRICT3        LADER       0                   0   WHT   \n",
       "1      GOOD         DISTRICT6        LADER       0                   0   WHT   \n",
       "2      GOOD         DISTRICT6        LADER       0                   0   WHT   \n",
       "3      GOOD         DISTRICT6        LADER       1                   0   WHT   \n",
       "4      GOOD         DISTRICT6        LADER       1                   0   WHT   \n",
       "\n",
       "  maint_district crosswalk_control  \n",
       "0        CENTRAL              NONE  \n",
       "1          NORTH            SIGNAL  \n",
       "2          NORTH            SIGNAL  \n",
       "3          NORTH              NONE  \n",
       "4          NORTH              NONE  "
      ]
     },
     "execution_count": 389,
     "metadata": {},
     "output_type": "execute_result"
    }
   ],
   "source": [
    "X.head()"
   ]
  },
  {
   "cell_type": "code",
   "execution_count": 390,
   "metadata": {},
   "outputs": [
    {
     "data": {
      "text/plain": [
       "Index(['condition', 'primarydistrictcd', 'marking_type', 'school',\n",
       "       'midblock_crosswalk', 'color', 'maint_district', 'crosswalk_control'],\n",
       "      dtype='object')"
      ]
     },
     "execution_count": 390,
     "metadata": {},
     "output_type": "execute_result"
    }
   ],
   "source": [
    "X.columns"
   ]
  },
  {
   "cell_type": "markdown",
   "metadata": {},
   "source": [
    "#### Catboost Blocks"
   ]
  },
  {
   "cell_type": "code",
   "execution_count": 391,
   "metadata": {},
   "outputs": [],
   "source": [
    "cat_feats = ['condition', 'primarydistrictcd', 'marking_type',\n",
    "             'color', 'maint_district', 'crosswalk_control']\n",
    "\n",
    "clf = agg_catboost(X, y, cat_feats)"
   ]
  },
  {
   "cell_type": "code",
   "execution_count": 392,
   "metadata": {},
   "outputs": [
    {
     "data": {
      "text/plain": [
       "'Training on 5 k-folds complete'"
      ]
     },
     "execution_count": 392,
     "metadata": {},
     "output_type": "execute_result"
    }
   ],
   "source": [
    "clf.train_model()"
   ]
  },
  {
   "cell_type": "code",
   "execution_count": 393,
   "metadata": {},
   "outputs": [
    {
     "data": {
      "image/png": "[encoded data removed]",
      "text/plain": [
       "<Figure size 432x288 with 1 Axes>"
      ]
     },
     "metadata": {},
     "output_type": "display_data"
    }
   ],
   "source": [
    "clf.plot_feature_importances()\n",
    "# plt.savefig('../reports/blocks_cat_featimport.png')"
   ]
  },
  {
   "cell_type": "markdown",
   "metadata": {},
   "source": [
    "#### Random Forest Blocks"
   ]
  },
  {
   "cell_type": "code",
   "execution_count": 117,
   "metadata": {},
   "outputs": [],
   "source": [
    "# X = pd.get_dummies(X, drop_first=True)"
   ]
  },
  {
   "cell_type": "code",
   "execution_count": 396,
   "metadata": {},
   "outputs": [
    {
     "data": {
      "text/html": [
       "<div>\n",
       "<style scoped>\n",
       "    .dataframe tbody tr th:only-of-type {\n",
       "        vertical-align: middle;\n",
       "    }\n",
       "\n",
       "    .dataframe tbody tr th {\n",
       "        vertical-align: top;\n",
       "    }\n",
       "\n",
       "    .dataframe thead th {\n",
       "        text-align: right;\n",
       "    }\n",
       "</style>\n",
       "<table border=\"1\" class=\"dataframe\">\n",
       "  <thead>\n",
       "    <tr style=\"text-align: right;\">\n",
       "      <th></th>\n",
       "      <th>crosswalkkey</th>\n",
       "      <th>condition</th>\n",
       "      <th>primarydistrictcd</th>\n",
       "      <th>approach</th>\n",
       "      <th>marking_type</th>\n",
       "      <th>school</th>\n",
       "      <th>midblock_crosswalk</th>\n",
       "      <th>color</th>\n",
       "      <th>maint_district</th>\n",
       "      <th>crosswalk_control</th>\n",
       "    </tr>\n",
       "  </thead>\n",
       "  <tbody>\n",
       "    <tr>\n",
       "      <th>0</th>\n",
       "      <td>511360</td>\n",
       "      <td>GOOD</td>\n",
       "      <td>DISTRICT3</td>\n",
       "      <td>S</td>\n",
       "      <td>LADER</td>\n",
       "      <td>0</td>\n",
       "      <td>0</td>\n",
       "      <td>WHT</td>\n",
       "      <td>CENTRAL</td>\n",
       "      <td>NONE</td>\n",
       "    </tr>\n",
       "    <tr>\n",
       "      <th>1</th>\n",
       "      <td>520756</td>\n",
       "      <td>GOOD</td>\n",
       "      <td>DISTRICT6</td>\n",
       "      <td>S</td>\n",
       "      <td>LADER</td>\n",
       "      <td>0</td>\n",
       "      <td>0</td>\n",
       "      <td>WHT</td>\n",
       "      <td>NORTH</td>\n",
       "      <td>SIGNAL</td>\n",
       "    </tr>\n",
       "    <tr>\n",
       "      <th>2</th>\n",
       "      <td>520757</td>\n",
       "      <td>GOOD</td>\n",
       "      <td>DISTRICT6</td>\n",
       "      <td>N</td>\n",
       "      <td>LADER</td>\n",
       "      <td>0</td>\n",
       "      <td>0</td>\n",
       "      <td>WHT</td>\n",
       "      <td>NORTH</td>\n",
       "      <td>SIGNAL</td>\n",
       "    </tr>\n",
       "    <tr>\n",
       "      <th>3</th>\n",
       "      <td>520758</td>\n",
       "      <td>GOOD</td>\n",
       "      <td>DISTRICT6</td>\n",
       "      <td>N</td>\n",
       "      <td>LADER</td>\n",
       "      <td>1</td>\n",
       "      <td>0</td>\n",
       "      <td>WHT</td>\n",
       "      <td>NORTH</td>\n",
       "      <td>NONE</td>\n",
       "    </tr>\n",
       "    <tr>\n",
       "      <th>4</th>\n",
       "      <td>520759</td>\n",
       "      <td>GOOD</td>\n",
       "      <td>DISTRICT6</td>\n",
       "      <td>N</td>\n",
       "      <td>LADER</td>\n",
       "      <td>1</td>\n",
       "      <td>0</td>\n",
       "      <td>WHT</td>\n",
       "      <td>NORTH</td>\n",
       "      <td>NONE</td>\n",
       "    </tr>\n",
       "  </tbody>\n",
       "</table>\n",
       "</div>"
      ],
      "text/plain": [
       "   crosswalkkey condition primarydistrictcd approach marking_type  school  \\\n",
       "0        511360      GOOD         DISTRICT3        S        LADER       0   \n",
       "1        520756      GOOD         DISTRICT6        S        LADER       0   \n",
       "2        520757      GOOD         DISTRICT6        N        LADER       0   \n",
       "3        520758      GOOD         DISTRICT6        N        LADER       1   \n",
       "4        520759      GOOD         DISTRICT6        N        LADER       1   \n",
       "\n",
       "   midblock_crosswalk color maint_district crosswalk_control  \n",
       "0                   0   WHT        CENTRAL              NONE  \n",
       "1                   0   WHT          NORTH            SIGNAL  \n",
       "2                   0   WHT          NORTH            SIGNAL  \n",
       "3                   0   WHT          NORTH              NONE  \n",
       "4                   0   WHT          NORTH              NONE  "
      ]
     },
     "execution_count": 396,
     "metadata": {},
     "output_type": "execute_result"
    }
   ],
   "source": [
    "distinct_xw.head()"
   ]
  },
  {
   "cell_type": "code",
   "execution_count": 419,
   "metadata": {},
   "outputs": [
    {
     "data": {
      "text/plain": [
       "Index(['NONE', 'SIGNAL', 'STOPSIGN', 'RFB-BCN', 'FLSH-BCN'], dtype='object')"
      ]
     },
     "execution_count": 419,
     "metadata": {},
     "output_type": "execute_result"
    }
   ],
   "source": [
    "distinct_xw['crosswalk_control'].value_counts().index"
   ]
  },
  {
   "cell_type": "code",
   "execution_count": 399,
   "metadata": {},
   "outputs": [],
   "source": [
    "cond_dict = {'GOOD':2, 'POOR':0, 'FAIR':1}\n",
    "distinct_xw['condition'] = distinct_xw['condition'].map(cond_dict)"
   ]
  },
  {
   "cell_type": "code",
   "execution_count": 405,
   "metadata": {},
   "outputs": [],
   "source": [
    "distinct_xw['primarydistrictcd'] = distinct_xw['primarydistrictcd'].apply(lambda x: int(x[-1]))"
   ]
  },
  {
   "cell_type": "code",
   "execution_count": 409,
   "metadata": {},
   "outputs": [],
   "source": [
    "# approach_dict = {'E':1, 'N':0, 'S':2, 'W':3, 'NE':1, 'NW':0, 'SE':2, 'SW':3, 'C':4}\n",
    "# distinct_xw['approach'] = distinct_xw['approach'].map(approach_dict)"
   ]
  },
  {
   "cell_type": "code",
   "execution_count": 414,
   "metadata": {},
   "outputs": [],
   "source": [
    "marking_dict = {'LADER':0, 'PARSL':1, 'BRICK':2, 'CUSTOM':3, 'OTHER':4}\n",
    "distinct_xw['marking_type'] = distinct_xw['marking_type'].map(marking_dict)"
   ]
  },
  {
   "cell_type": "code",
   "execution_count": 416,
   "metadata": {},
   "outputs": [],
   "source": [
    "color_dict = {'WHT':0, 'RAINBOW':1, 'NONE':2, 'GRY':3, 'RED':4}\n",
    "distinct_xw['color'] = distinct_xw['color'].map(color_dict)"
   ]
  },
  {
   "cell_type": "code",
   "execution_count": 418,
   "metadata": {},
   "outputs": [],
   "source": [
    "maintdist_dict = {'CENTRAL':0, 'SOUTH':1, 'NORTH':2, 'SW':3}\n",
    "distinct_xw['maint_district'] = distinct_xw['maint_district'].map(maintdist_dict)"
   ]
  },
  {
   "cell_type": "code",
   "execution_count": 420,
   "metadata": {},
   "outputs": [],
   "source": [
    "xwcontrol_dict = {'NONE':0, 'SIGNAL':1, 'STOPSIGN':2, 'RFB-BCN':3, 'FLSH-BCN':4}\n",
    "distinct_xw['crosswalk_control'] = distinct_xw['crosswalk_control'].map(xwcontrol_dict)"
   ]
  },
  {
   "cell_type": "code",
   "execution_count": 421,
   "metadata": {},
   "outputs": [],
   "source": [
    "X = distinct_xw.drop(columns=['crosswalkkey', 'approach']).copy()"
   ]
  },
  {
   "cell_type": "code",
   "execution_count": 423,
   "metadata": {},
   "outputs": [],
   "source": [
    "y = (y > 0).astype(int)"
   ]
  },
  {
   "cell_type": "code",
   "execution_count": 426,
   "metadata": {},
   "outputs": [],
   "source": [
    "rf_kfold = RandomForestClassifier(n_estimators=400)\n",
    "\n",
    "mses = []\n",
    "accuracies = []\n",
    "precisions = []\n",
    "recalls = []\n",
    "    \n",
    "fprs = []\n",
    "tprs = []\n",
    "thresholds = []\n",
    "\n",
    "feat_importances = []\n",
    "\n",
    "kf = KFold(n_splits=5, shuffle=True)\n",
    "\n",
    "for i, (train_index, test_index) in enumerate(kf.split(X, y)):\n",
    "            X_train, X_test = X.iloc[train_index], X.iloc[test_index]\n",
    "            y_train, y_test = y.iloc[train_index], y.iloc[test_index]\n",
    "            \n",
    "            rf_kfold.fit(X_train, y_train)\n",
    "            pred = rf_kfold.predict(X_test)\n",
    "            proba = rf_kfold.predict_proba(X_test)\n",
    "\n",
    "            feat_importances.append(rf_kfold.feature_importances_)\n",
    "            \n",
    "            #mean squared error of the y_test values and the predicted\n",
    "            err = mean_squared_error(y_test, pred)\n",
    "            mses.append(err)\n",
    "\n",
    "            #accuracy scores\n",
    "            accu = accuracy_score(y_test, pred)\n",
    "            accuracies.append(accu)\n",
    "\n",
    "            #precision scores\n",
    "            precise = precision_score(y_test, pred)\n",
    "            precisions.append(precise)\n",
    "\n",
    "            #recall scores\n",
    "            recall = recall_score(y_test, pred)\n",
    "            recalls.append(recall)\n",
    "            \n",
    "            roc_auc = roc_auc_score(y_test, pred)\n",
    "\n",
    "            fpr_val, tpr_val, thresholds_val = roc_curve(y_test, proba[:, 1])\n",
    "\n",
    "            fprs.append(fpr_val)\n",
    "            tprs.append(tpr_val)\n",
    "            thresholds.append(thresholds_val)"
   ]
  },
  {
   "cell_type": "code",
   "execution_count": 427,
   "metadata": {},
   "outputs": [
    {
     "name": "stdout",
     "output_type": "stream",
     "text": [
      "     Average Accuracy Score  : 0.62854\n",
      "     Average Precision Score : 0.46718\n",
      "     Average Recall Score    : 0.15155\n",
      "     Average MSE Score       : 0.37146\n",
      "     ROC AUC Score           : 0.52\n"
     ]
    }
   ],
   "source": [
    "print(f'     Average Accuracy Score  : {np.mean(accuracies):2.5f}')\n",
    "print(f'     Average Precision Score : {np.mean(precisions):2.5f}')\n",
    "print(f'     Average Recall Score    : {np.mean(recalls):2.5f}')\n",
    "print(f'     Average MSE Score       : {np.mean(mses):2.5f}')\n",
    "print(f'     ROC AUC Score           : {roc_auc:2.2f}')"
   ]
  },
  {
   "cell_type": "code",
   "execution_count": 429,
   "metadata": {},
   "outputs": [
    {
     "data": {
      "image/png": "[encoded data removed]",
      "text/plain": [
       "<Figure size 720x576 with 1 Axes>"
      ]
     },
     "metadata": {},
     "output_type": "display_data"
    }
   ],
   "source": [
    "fig, ax = plt.subplots(figsize=(10,8))\n",
    "\n",
    "for i in range(len(fprs)):\n",
    "    ax.plot(fprs[i], tprs[i], linewidth=1)\n",
    "    ax.plot([0,1], [0,1], linewidth=0.7)\n",
    "    ax.grid(False)\n",
    "    ax.set_xlabel('False Positive Rate')\n",
    "    ax.set_ylabel('True Positive Rate (Recall)')\n",
    "    ax.set_title('Blocks: Random Forest ROC Curve (5 kfolds)')\n",
    "ax.legend([f'AUC: {roc_auc:2.2f}'])\n",
    "    \n",
    "plt.savefig('../reports/figures/crosswalks_rf_kfolds.png')"
   ]
  },
  {
   "cell_type": "code",
   "execution_count": 444,
   "metadata": {},
   "outputs": [
    {
     "data": {
      "image/png": "[encoded data removed]",
      "text/plain": [
       "<Figure size 1080x720 with 1 Axes>"
      ]
     },
     "metadata": {},
     "output_type": "display_data"
    }
   ],
   "source": [
    "# Plot the feature importance\n",
    "fig, ax = plt.subplots(figsize=(15,10))\n",
    "\n",
    "feat_scores = pd.DataFrame({'Fraction of Samples Affected' : rf_kfold.feature_importances_},\n",
    "                           index=X.columns)\n",
    "feat_scores = feat_scores.sort_values(by='Fraction of Samples Affected')\n",
    "# ax = barh(feat_scores.index, feat_scores['Fraction of Samples Affected'])\n",
    "ax = feat_scores['Fraction of Samples Affected'].plot(kind='barh')\n",
    "ax.set_title('Blocks: Random Forest Feature Importance');\n",
    "\n",
    "plt.savefig('../reports/figures/crosswalks_rf_featimportance.png')"
   ]
  },
  {
   "cell_type": "code",
   "execution_count": null,
   "metadata": {},
   "outputs": [],
   "source": []
  }
 ],
 "metadata": {
  "kernelspec": {
   "display_name": "Python 3.7.0 64-bit ('anaconda3': virtualenv)",
   "language": "python",
   "name": "python37064bitanaconda3virtualenvdc59f3b7c1d64353bf7dcc6d7e32f36c"
  },
  "language_info": {
   "codemirror_mode": {
    "name": "ipython",
    "version": 3
   },
   "file_extension": ".py",
   "mimetype": "text/x-python",
   "name": "python",
   "nbconvert_exporter": "python",
   "pygments_lexer": "ipython3",
   "version": "3.7.0"
  }
 },
 "nbformat": 4,
 "nbformat_minor": 2
}
