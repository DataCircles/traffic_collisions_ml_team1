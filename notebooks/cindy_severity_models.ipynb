{
 "cells": [
  {
   "cell_type": "code",
   "execution_count": 1,
   "metadata": {},
   "outputs": [],
   "source": [
    "# Import Modules\n",
    "import numpy as np\n",
    "import pandas as pd\n",
    "import seaborn as sns\n",
    "import matplotlib.pyplot as plt\n",
    "\n",
    "#modeling tools\n",
    "import statsmodels.api as sm\n",
    "\n",
    "import lightgbm as lgb\n",
    "\n",
    "from sklearn.tree import DecisionTreeRegressor, DecisionTreeClassifier\n",
    "from sklearn.ensemble import GradientBoostingClassifier, RandomForestClassifier, RandomForestRegressor\n",
    "from sklearn.metrics import recall_score, accuracy_score, precision_score, mean_squared_error, confusion_matrix, auc, roc_auc_score, roc_curve, log_loss, make_scorer\n",
    "from sklearn.model_selection import cross_val_score, train_test_split, GridSearchCV, KFold\n",
    "\n",
    "import sys\n",
    "sys.path.append('../')\n",
    "from src.models.agg_catboost import agg_catboost\n",
    "\n",
    "%matplotlib inline\n",
    "# plt.style.use('dark_background')\n",
    "plt.style.use('ggplot')\n",
    "\n",
    "%load_ext autoreload\n",
    "%autoreload 2\n",
    "\n",
    "pd.set_option('display.min_row', 100)\n",
    "pd.set_option('display.max_column', 100)\n",
    "pd.set_option('display.max_colwidth', 300)"
   ]
  },
  {
   "cell_type": "code",
   "execution_count": 8,
   "metadata": {},
   "outputs": [],
   "source": [
    "blocks = pd.read_csv('../data/processed/blocks_sev_score.csv', index_col=0)\n",
    "intersections = pd.read_csv('../data/processed/intersections_sev_score.csv', index_col=0)\n",
    "circles = pd.read_csv('../data/processed/circles_sev_score.csv', index_col=0)\n",
    "crosswalks = pd.read_csv('../data/processed/crosswalks_sev_score.csv', index_col=0)"
   ]
  },
  {
   "cell_type": "markdown",
   "metadata": {},
   "source": [
    "# Blocks"
   ]
  },
  {
   "cell_type": "code",
   "execution_count": 34,
   "metadata": {},
   "outputs": [
    {
     "data": {
      "text/plain": [
       "Index(['location', 'artdescript', 'speedlimit', 'segdir', 'oneway',\n",
       "       'surfacetype_1', 'nationhwysys', 'streettype', 'tranclass',\n",
       "       'trandescript', 'slope_pct', 'parkboulevard', 'year', 'count',\n",
       "       'total fatalities', 'total serious injuries', 'total evident injuries',\n",
       "       'total possible injuries', 'total vehicles',\n",
       "       'total pedestrians involved', 'total bicyclists involved',\n",
       "       'weigh_fatalities', 'weigh_serious', 'weigh_evident', 'weigh_possible',\n",
       "       'sev_score'],\n",
       "      dtype='object')"
      ]
     },
     "execution_count": 34,
     "metadata": {},
     "output_type": "execute_result"
    }
   ],
   "source": [
    "blocks.columns"
   ]
  },
  {
   "cell_type": "code",
   "execution_count": 37,
   "metadata": {},
   "outputs": [],
   "source": [
    "# drop columns that would need to be collected at scene of collision\n",
    "b_to_drop = ['count', 'year', 'total fatalities', 'total serious injuries', 'total evident injuries',\n",
    "       'total possible injuries', 'total vehicles', 'trandescript',\n",
    "       'total pedestrians involved', 'total bicyclists involved',\n",
    "       'weigh_fatalities', 'weigh_serious', 'weigh_evident', 'weigh_possible']\n",
    "\n",
    "blocks.drop(columns=b_to_drop, inplace=True)"
   ]
  },
  {
   "cell_type": "code",
   "execution_count": 160,
   "metadata": {},
   "outputs": [],
   "source": [
    "distinct_blocks = blocks.groupby(['location', 'artdescript', 'speedlimit', 'segdir', 'oneway', 'tranclass',\n",
    "       'surfacetype_1', 'nationhwysys', 'streettype','slope_pct', 'parkboulevard']).sum().reset_index()"
   ]
  },
  {
   "cell_type": "code",
   "execution_count": 161,
   "metadata": {},
   "outputs": [],
   "source": [
    "distinct_blocks.loc[7430, 'segdir'] = 'E'"
   ]
  },
  {
   "cell_type": "code",
   "execution_count": 162,
   "metadata": {},
   "outputs": [
    {
     "data": {
      "text/html": [
       "<div>\n",
       "<style scoped>\n",
       "    .dataframe tbody tr th:only-of-type {\n",
       "        vertical-align: middle;\n",
       "    }\n",
       "\n",
       "    .dataframe tbody tr th {\n",
       "        vertical-align: top;\n",
       "    }\n",
       "\n",
       "    .dataframe thead th {\n",
       "        text-align: right;\n",
       "    }\n",
       "</style>\n",
       "<table border=\"1\" class=\"dataframe\">\n",
       "  <thead>\n",
       "    <tr style=\"text-align: right;\">\n",
       "      <th></th>\n",
       "      <th>location</th>\n",
       "      <th>artdescript</th>\n",
       "      <th>speedlimit</th>\n",
       "      <th>segdir</th>\n",
       "      <th>oneway</th>\n",
       "      <th>tranclass</th>\n",
       "      <th>surfacetype_1</th>\n",
       "      <th>nationhwysys</th>\n",
       "      <th>streettype</th>\n",
       "      <th>slope_pct</th>\n",
       "      <th>parkboulevard</th>\n",
       "      <th>sev_score</th>\n",
       "    </tr>\n",
       "  </thead>\n",
       "  <tbody>\n",
       "    <tr>\n",
       "      <th>0</th>\n",
       "      <td>10TH AVE BETWEEN E ALDER ST AND E TERRACE ST</td>\n",
       "      <td>Not Designated</td>\n",
       "      <td>20.0</td>\n",
       "      <td>N</td>\n",
       "      <td>N</td>\n",
       "      <td>0</td>\n",
       "      <td>AC</td>\n",
       "      <td>N</td>\n",
       "      <td>Urban Village Neighborhood Access</td>\n",
       "      <td>1.0</td>\n",
       "      <td>N</td>\n",
       "      <td>0.000062</td>\n",
       "    </tr>\n",
       "    <tr>\n",
       "      <th>1</th>\n",
       "      <td>10TH AVE BETWEEN E FIR ST AND DEAD END 1</td>\n",
       "      <td>Not Designated</td>\n",
       "      <td>20.0</td>\n",
       "      <td>N</td>\n",
       "      <td>N</td>\n",
       "      <td>0</td>\n",
       "      <td>PCC</td>\n",
       "      <td>N</td>\n",
       "      <td>Urban Village Neighborhood Access</td>\n",
       "      <td>4.0</td>\n",
       "      <td>N</td>\n",
       "      <td>0.000000</td>\n",
       "    </tr>\n",
       "    <tr>\n",
       "      <th>2</th>\n",
       "      <td>10TH AVE BETWEEN E MADISON ST AND E SENECA ST</td>\n",
       "      <td>Not Designated</td>\n",
       "      <td>20.0</td>\n",
       "      <td>N</td>\n",
       "      <td>N</td>\n",
       "      <td>0</td>\n",
       "      <td>AC</td>\n",
       "      <td>N</td>\n",
       "      <td>Urban Village Neighborhood Access</td>\n",
       "      <td>1.0</td>\n",
       "      <td>N</td>\n",
       "      <td>0.000084</td>\n",
       "    </tr>\n",
       "    <tr>\n",
       "      <th>3</th>\n",
       "      <td>10TH AVE BETWEEN E PIKE ST AND E PINE ST</td>\n",
       "      <td>Not Designated</td>\n",
       "      <td>20.0</td>\n",
       "      <td>N</td>\n",
       "      <td>N</td>\n",
       "      <td>0</td>\n",
       "      <td>AC</td>\n",
       "      <td>N</td>\n",
       "      <td>Urban Village Neighborhood Access</td>\n",
       "      <td>2.0</td>\n",
       "      <td>N</td>\n",
       "      <td>0.000369</td>\n",
       "    </tr>\n",
       "    <tr>\n",
       "      <th>4</th>\n",
       "      <td>10TH AVE BETWEEN E SENECA ST AND E UNION ST</td>\n",
       "      <td>Not Designated</td>\n",
       "      <td>20.0</td>\n",
       "      <td>N</td>\n",
       "      <td>N</td>\n",
       "      <td>0</td>\n",
       "      <td>AC</td>\n",
       "      <td>N</td>\n",
       "      <td>Urban Village Neighborhood Access</td>\n",
       "      <td>1.0</td>\n",
       "      <td>N</td>\n",
       "      <td>0.000026</td>\n",
       "    </tr>\n",
       "  </tbody>\n",
       "</table>\n",
       "</div>"
      ],
      "text/plain": [
       "                                        location     artdescript  speedlimit  \\\n",
       "0   10TH AVE BETWEEN E ALDER ST AND E TERRACE ST  Not Designated        20.0   \n",
       "1       10TH AVE BETWEEN E FIR ST AND DEAD END 1  Not Designated        20.0   \n",
       "2  10TH AVE BETWEEN E MADISON ST AND E SENECA ST  Not Designated        20.0   \n",
       "3       10TH AVE BETWEEN E PIKE ST AND E PINE ST  Not Designated        20.0   \n",
       "4    10TH AVE BETWEEN E SENECA ST AND E UNION ST  Not Designated        20.0   \n",
       "\n",
       "  segdir oneway  tranclass surfacetype_1 nationhwysys  \\\n",
       "0      N      N          0            AC            N   \n",
       "1      N      N          0           PCC            N   \n",
       "2      N      N          0            AC            N   \n",
       "3      N      N          0            AC            N   \n",
       "4      N      N          0            AC            N   \n",
       "\n",
       "                          streettype  slope_pct parkboulevard  sev_score  \n",
       "0  Urban Village Neighborhood Access        1.0             N   0.000062  \n",
       "1  Urban Village Neighborhood Access        4.0             N   0.000000  \n",
       "2  Urban Village Neighborhood Access        1.0             N   0.000084  \n",
       "3  Urban Village Neighborhood Access        2.0             N   0.000369  \n",
       "4  Urban Village Neighborhood Access        1.0             N   0.000026  "
      ]
     },
     "execution_count": 162,
     "metadata": {},
     "output_type": "execute_result"
    }
   ],
   "source": [
    "distinct_blocks.head()"
   ]
  },
  {
   "cell_type": "code",
   "execution_count": 163,
   "metadata": {},
   "outputs": [],
   "source": [
    "distinct_blocks['parkboulevard'] = distinct_blocks['parkboulevard'].map({'Y':1, 'N':0})\n",
    "distinct_blocks['nationhwysys'] = distinct_blocks['nationhwysys'].map({'Y':1, 'N':0})\n",
    "distinct_blocks['oneway'] = distinct_blocks['oneway'].map({'Y':1, 'N':0})"
   ]
  },
  {
   "cell_type": "markdown",
   "metadata": {},
   "source": [
    "#### Target and Features"
   ]
  },
  {
   "cell_type": "code",
   "execution_count": 164,
   "metadata": {},
   "outputs": [],
   "source": [
    "y = distinct_blocks.pop('sev_score')"
   ]
  },
  {
   "cell_type": "code",
   "execution_count": 114,
   "metadata": {},
   "outputs": [],
   "source": [
    "X = distinct_blocks.drop(columns='location').copy()"
   ]
  },
  {
   "cell_type": "code",
   "execution_count": 87,
   "metadata": {},
   "outputs": [
    {
     "data": {
      "text/html": [
       "<div>\n",
       "<style scoped>\n",
       "    .dataframe tbody tr th:only-of-type {\n",
       "        vertical-align: middle;\n",
       "    }\n",
       "\n",
       "    .dataframe tbody tr th {\n",
       "        vertical-align: top;\n",
       "    }\n",
       "\n",
       "    .dataframe thead th {\n",
       "        text-align: right;\n",
       "    }\n",
       "</style>\n",
       "<table border=\"1\" class=\"dataframe\">\n",
       "  <thead>\n",
       "    <tr style=\"text-align: right;\">\n",
       "      <th></th>\n",
       "      <th>artdescript</th>\n",
       "      <th>speedlimit</th>\n",
       "      <th>segdir</th>\n",
       "      <th>oneway</th>\n",
       "      <th>tranclass</th>\n",
       "      <th>surfacetype_1</th>\n",
       "      <th>nationhwysys</th>\n",
       "      <th>streettype</th>\n",
       "      <th>slope_pct</th>\n",
       "      <th>parkboulevard</th>\n",
       "    </tr>\n",
       "  </thead>\n",
       "  <tbody>\n",
       "    <tr>\n",
       "      <th>0</th>\n",
       "      <td>Not Designated</td>\n",
       "      <td>20.0</td>\n",
       "      <td>N</td>\n",
       "      <td>0</td>\n",
       "      <td>0</td>\n",
       "      <td>AC</td>\n",
       "      <td>0</td>\n",
       "      <td>Urban Village Neighborhood Access</td>\n",
       "      <td>1.0</td>\n",
       "      <td>0</td>\n",
       "    </tr>\n",
       "    <tr>\n",
       "      <th>1</th>\n",
       "      <td>Not Designated</td>\n",
       "      <td>20.0</td>\n",
       "      <td>N</td>\n",
       "      <td>0</td>\n",
       "      <td>0</td>\n",
       "      <td>PCC</td>\n",
       "      <td>0</td>\n",
       "      <td>Urban Village Neighborhood Access</td>\n",
       "      <td>4.0</td>\n",
       "      <td>0</td>\n",
       "    </tr>\n",
       "    <tr>\n",
       "      <th>2</th>\n",
       "      <td>Not Designated</td>\n",
       "      <td>20.0</td>\n",
       "      <td>N</td>\n",
       "      <td>0</td>\n",
       "      <td>0</td>\n",
       "      <td>AC</td>\n",
       "      <td>0</td>\n",
       "      <td>Urban Village Neighborhood Access</td>\n",
       "      <td>1.0</td>\n",
       "      <td>0</td>\n",
       "    </tr>\n",
       "    <tr>\n",
       "      <th>3</th>\n",
       "      <td>Not Designated</td>\n",
       "      <td>20.0</td>\n",
       "      <td>N</td>\n",
       "      <td>0</td>\n",
       "      <td>0</td>\n",
       "      <td>AC</td>\n",
       "      <td>0</td>\n",
       "      <td>Urban Village Neighborhood Access</td>\n",
       "      <td>2.0</td>\n",
       "      <td>0</td>\n",
       "    </tr>\n",
       "    <tr>\n",
       "      <th>4</th>\n",
       "      <td>Not Designated</td>\n",
       "      <td>20.0</td>\n",
       "      <td>N</td>\n",
       "      <td>0</td>\n",
       "      <td>0</td>\n",
       "      <td>AC</td>\n",
       "      <td>0</td>\n",
       "      <td>Urban Village Neighborhood Access</td>\n",
       "      <td>1.0</td>\n",
       "      <td>0</td>\n",
       "    </tr>\n",
       "  </tbody>\n",
       "</table>\n",
       "</div>"
      ],
      "text/plain": [
       "      artdescript  speedlimit segdir  oneway  tranclass surfacetype_1  \\\n",
       "0  Not Designated        20.0      N       0          0            AC   \n",
       "1  Not Designated        20.0      N       0          0           PCC   \n",
       "2  Not Designated        20.0      N       0          0            AC   \n",
       "3  Not Designated        20.0      N       0          0            AC   \n",
       "4  Not Designated        20.0      N       0          0            AC   \n",
       "\n",
       "   nationhwysys                         streettype  slope_pct  parkboulevard  \n",
       "0             0  Urban Village Neighborhood Access        1.0              0  \n",
       "1             0  Urban Village Neighborhood Access        4.0              0  \n",
       "2             0  Urban Village Neighborhood Access        1.0              0  \n",
       "3             0  Urban Village Neighborhood Access        2.0              0  \n",
       "4             0  Urban Village Neighborhood Access        1.0              0  "
      ]
     },
     "execution_count": 87,
     "metadata": {},
     "output_type": "execute_result"
    }
   ],
   "source": [
    "X.head()"
   ]
  },
  {
   "cell_type": "markdown",
   "metadata": {},
   "source": [
    "#### Catboost Blocks"
   ]
  },
  {
   "cell_type": "code",
   "execution_count": 224,
   "metadata": {},
   "outputs": [],
   "source": [
    "cat_feats = ['artdescript', 'segdir', 'surfacetype_1']\n",
    "\n",
    "clf = agg_catboost(X, y, cat_feats)"
   ]
  },
  {
   "cell_type": "code",
   "execution_count": 225,
   "metadata": {},
   "outputs": [
    {
     "data": {
      "text/plain": [
       "'Training on 5 k-folds complete'"
      ]
     },
     "execution_count": 225,
     "metadata": {},
     "output_type": "execute_result"
    }
   ],
   "source": [
    "clf.train_model()"
   ]
  },
  {
   "cell_type": "code",
   "execution_count": 25,
   "metadata": {},
   "outputs": [
    {
     "data": {
      "image/png": "[encoded data removed]",
      "text/plain": [
       "<Figure size 432x288 with 1 Axes>"
      ]
     },
     "metadata": {
      "needs_background": "light"
     },
     "output_type": "display_data"
    }
   ],
   "source": [
    "clf.plot_feature_importances()\n",
    "# plt.savefig('../reports/figures/blocks_cat_featimport.png')"
   ]
  },
  {
   "cell_type": "markdown",
   "metadata": {},
   "source": [
    "#### Random Forest Blocks"
   ]
  },
  {
   "cell_type": "code",
   "execution_count": 117,
   "metadata": {},
   "outputs": [],
   "source": [
    "# X = pd.get_dummies(X, drop_first=True)"
   ]
  },
  {
   "cell_type": "code",
   "execution_count": 26,
   "metadata": {},
   "outputs": [
    {
     "ename": "NameError",
     "evalue": "name 'distinct_blocks' is not defined",
     "output_type": "error",
     "traceback": [
      "\u001b[0;31m---------------------------------------------------------------------------\u001b[0m",
      "\u001b[0;31mNameError\u001b[0m                                 Traceback (most recent call last)",
      "\u001b[0;32m<ipython-input-26-e8083b84e504>\u001b[0m in \u001b[0;36m<module>\u001b[0;34m()\u001b[0m\n\u001b[1;32m      3\u001b[0m        'County Arterial':4}\n\u001b[1;32m      4\u001b[0m \u001b[0;34m\u001b[0m\u001b[0m\n\u001b[0;32m----> 5\u001b[0;31m \u001b[0mdistinct_blocks\u001b[0m\u001b[0;34m[\u001b[0m\u001b[0;34m'artdescript'\u001b[0m\u001b[0;34m]\u001b[0m \u001b[0;34m=\u001b[0m \u001b[0mdistinct_blocks\u001b[0m\u001b[0;34m[\u001b[0m\u001b[0;34m'artdescript'\u001b[0m\u001b[0;34m]\u001b[0m\u001b[0;34m.\u001b[0m\u001b[0mmap\u001b[0m\u001b[0;34m(\u001b[0m\u001b[0mart_descript_dict\u001b[0m\u001b[0;34m)\u001b[0m\u001b[0;34m\u001b[0m\u001b[0m\n\u001b[0m",
      "\u001b[0;31mNameError\u001b[0m: name 'distinct_blocks' is not defined"
     ]
    }
   ],
   "source": [
    "art_descript_dict = {'Not Designated':0, 'Minor Arterial':2, 'Principal Arterial':3,\n",
    "       'Collector Arterial':1, 'Interstate/Freeway':4, 'State Route/Freeway':4,\n",
    "       'County Arterial':4}\n",
    "\n",
    "distinct_blocks['artdescript'] = distinct_blocks['artdescript'].map(art_descript_dict)"
   ]
  },
  {
   "cell_type": "code",
   "execution_count": 167,
   "metadata": {},
   "outputs": [],
   "source": [
    "surfacetype_dict = {'PCC':1, 'AC/PCC':1, 'ST':2, 'AC':0, 'AC/AC':0, 'GRAVEL':3}\n",
    "distinct_blocks['surfacetype_1'] = distinct_blocks['surfacetype_1'].map(surfacetype_dict)"
   ]
  },
  {
   "cell_type": "code",
   "execution_count": null,
   "metadata": {},
   "outputs": [],
   "source": [
    "# streettype_dict = {'Neighborhood Yield Street', 'Urban Village Neighborhood Access',\n",
    "#        'Neighborhood Corridor', 'Urban Center Connector',\n",
    "#        'Urban Village Neighborhood', 'Urban Village Main',\n",
    "#        'Minor Industrial Access', 'Industrial Access', 'Downtown',\n",
    "#        'Downtown Neighborhood', 'Downtown Neighborhood Access', 'Alley'}"
   ]
  },
  {
   "cell_type": "code",
   "execution_count": 168,
   "metadata": {},
   "outputs": [],
   "source": [
    "segdir_dict = {'E':1, 'N':0, 'S':2, 'W':3, 'NE':1, 'NW':0, 'SE':2, 'SW':3}\n",
    "\n",
    "distinct_blocks['segdir'] = distinct_blocks['segdir'].map(segdir_dict)"
   ]
  },
  {
   "cell_type": "code",
   "execution_count": 231,
   "metadata": {},
   "outputs": [],
   "source": [
    "X = distinct_blocks.drop(columns=['location', 'streettype', 'tranclass']).copy()"
   ]
  },
  {
   "cell_type": "code",
   "execution_count": 232,
   "metadata": {},
   "outputs": [],
   "source": [
    "y = (y > 0).astype(int)"
   ]
  },
  {
   "cell_type": "code",
   "execution_count": 233,
   "metadata": {},
   "outputs": [],
   "source": [
    "X_train, X_test, y_train, y_test = train_test_split(X, y, test_size=0.2)"
   ]
  },
  {
   "cell_type": "code",
   "execution_count": 234,
   "metadata": {},
   "outputs": [
    {
     "data": {
      "text/html": [
       "<div>\n",
       "<style scoped>\n",
       "    .dataframe tbody tr th:only-of-type {\n",
       "        vertical-align: middle;\n",
       "    }\n",
       "\n",
       "    .dataframe tbody tr th {\n",
       "        vertical-align: top;\n",
       "    }\n",
       "\n",
       "    .dataframe thead th {\n",
       "        text-align: right;\n",
       "    }\n",
       "</style>\n",
       "<table border=\"1\" class=\"dataframe\">\n",
       "  <thead>\n",
       "    <tr style=\"text-align: right;\">\n",
       "      <th></th>\n",
       "      <th>artdescript</th>\n",
       "      <th>speedlimit</th>\n",
       "      <th>segdir</th>\n",
       "      <th>oneway</th>\n",
       "      <th>surfacetype_1</th>\n",
       "      <th>nationhwysys</th>\n",
       "      <th>slope_pct</th>\n",
       "      <th>parkboulevard</th>\n",
       "    </tr>\n",
       "  </thead>\n",
       "  <tbody>\n",
       "    <tr>\n",
       "      <th>0</th>\n",
       "      <td>0</td>\n",
       "      <td>20.0</td>\n",
       "      <td>0</td>\n",
       "      <td>0</td>\n",
       "      <td>0</td>\n",
       "      <td>0</td>\n",
       "      <td>1.0</td>\n",
       "      <td>0</td>\n",
       "    </tr>\n",
       "    <tr>\n",
       "      <th>1</th>\n",
       "      <td>0</td>\n",
       "      <td>20.0</td>\n",
       "      <td>0</td>\n",
       "      <td>0</td>\n",
       "      <td>1</td>\n",
       "      <td>0</td>\n",
       "      <td>4.0</td>\n",
       "      <td>0</td>\n",
       "    </tr>\n",
       "    <tr>\n",
       "      <th>2</th>\n",
       "      <td>0</td>\n",
       "      <td>20.0</td>\n",
       "      <td>0</td>\n",
       "      <td>0</td>\n",
       "      <td>0</td>\n",
       "      <td>0</td>\n",
       "      <td>1.0</td>\n",
       "      <td>0</td>\n",
       "    </tr>\n",
       "    <tr>\n",
       "      <th>3</th>\n",
       "      <td>0</td>\n",
       "      <td>20.0</td>\n",
       "      <td>0</td>\n",
       "      <td>0</td>\n",
       "      <td>0</td>\n",
       "      <td>0</td>\n",
       "      <td>2.0</td>\n",
       "      <td>0</td>\n",
       "    </tr>\n",
       "    <tr>\n",
       "      <th>4</th>\n",
       "      <td>0</td>\n",
       "      <td>20.0</td>\n",
       "      <td>0</td>\n",
       "      <td>0</td>\n",
       "      <td>0</td>\n",
       "      <td>0</td>\n",
       "      <td>1.0</td>\n",
       "      <td>0</td>\n",
       "    </tr>\n",
       "    <tr>\n",
       "      <th>...</th>\n",
       "      <td>...</td>\n",
       "      <td>...</td>\n",
       "      <td>...</td>\n",
       "      <td>...</td>\n",
       "      <td>...</td>\n",
       "      <td>...</td>\n",
       "      <td>...</td>\n",
       "      <td>...</td>\n",
       "    </tr>\n",
       "    <tr>\n",
       "      <th>23614</th>\n",
       "      <td>2</td>\n",
       "      <td>25.0</td>\n",
       "      <td>1</td>\n",
       "      <td>0</td>\n",
       "      <td>1</td>\n",
       "      <td>0</td>\n",
       "      <td>2.0</td>\n",
       "      <td>0</td>\n",
       "    </tr>\n",
       "    <tr>\n",
       "      <th>23615</th>\n",
       "      <td>0</td>\n",
       "      <td>20.0</td>\n",
       "      <td>2</td>\n",
       "      <td>0</td>\n",
       "      <td>1</td>\n",
       "      <td>0</td>\n",
       "      <td>4.0</td>\n",
       "      <td>0</td>\n",
       "    </tr>\n",
       "    <tr>\n",
       "      <th>23616</th>\n",
       "      <td>0</td>\n",
       "      <td>20.0</td>\n",
       "      <td>2</td>\n",
       "      <td>0</td>\n",
       "      <td>1</td>\n",
       "      <td>0</td>\n",
       "      <td>3.0</td>\n",
       "      <td>0</td>\n",
       "    </tr>\n",
       "    <tr>\n",
       "      <th>23617</th>\n",
       "      <td>0</td>\n",
       "      <td>20.0</td>\n",
       "      <td>2</td>\n",
       "      <td>0</td>\n",
       "      <td>2</td>\n",
       "      <td>0</td>\n",
       "      <td>7.0</td>\n",
       "      <td>0</td>\n",
       "    </tr>\n",
       "    <tr>\n",
       "      <th>23618</th>\n",
       "      <td>0</td>\n",
       "      <td>20.0</td>\n",
       "      <td>2</td>\n",
       "      <td>0</td>\n",
       "      <td>1</td>\n",
       "      <td>0</td>\n",
       "      <td>11.0</td>\n",
       "      <td>0</td>\n",
       "    </tr>\n",
       "  </tbody>\n",
       "</table>\n",
       "<p>23619 rows × 8 columns</p>\n",
       "</div>"
      ],
      "text/plain": [
       "       artdescript  speedlimit  segdir  oneway  surfacetype_1  nationhwysys  \\\n",
       "0                0        20.0       0       0              0             0   \n",
       "1                0        20.0       0       0              1             0   \n",
       "2                0        20.0       0       0              0             0   \n",
       "3                0        20.0       0       0              0             0   \n",
       "4                0        20.0       0       0              0             0   \n",
       "...            ...         ...     ...     ...            ...           ...   \n",
       "23614            2        25.0       1       0              1             0   \n",
       "23615            0        20.0       2       0              1             0   \n",
       "23616            0        20.0       2       0              1             0   \n",
       "23617            0        20.0       2       0              2             0   \n",
       "23618            0        20.0       2       0              1             0   \n",
       "\n",
       "       slope_pct  parkboulevard  \n",
       "0            1.0              0  \n",
       "1            4.0              0  \n",
       "2            1.0              0  \n",
       "3            2.0              0  \n",
       "4            1.0              0  \n",
       "...          ...            ...  \n",
       "23614        2.0              0  \n",
       "23615        4.0              0  \n",
       "23616        3.0              0  \n",
       "23617        7.0              0  \n",
       "23618       11.0              0  \n",
       "\n",
       "[23619 rows x 8 columns]"
      ]
     },
     "execution_count": 234,
     "metadata": {},
     "output_type": "execute_result"
    }
   ],
   "source": [
    "X"
   ]
  },
  {
   "cell_type": "code",
   "execution_count": 271,
   "metadata": {},
   "outputs": [],
   "source": [
    "rf_kfold = RandomForestClassifier(n_estimators=400)\n",
    "\n",
    "mses = []\n",
    "accuracies = []\n",
    "precisions = []\n",
    "recalls = []\n",
    "    \n",
    "fprs = []\n",
    "tprs = []\n",
    "thresholds = []\n",
    "\n",
    "feat_importances = []\n",
    "\n",
    "kf = KFold(n_splits=5, shuffle=True)\n",
    "\n",
    "for i, (train_index, test_index) in enumerate(kf.split(X, y)):\n",
    "            X_train, X_test = X.iloc[train_index], X.iloc[test_index]\n",
    "            y_train, y_test = y.iloc[train_index], y.iloc[test_index]\n",
    "            \n",
    "            rf_kfold.fit(X_train, y_train)\n",
    "            pred = rf_kfold.predict(X_test)\n",
    "            proba = rf_kfold.predict_proba(X_test)\n",
    "\n",
    "            feat_importances.append(rf_kfold.feature_importances_)\n",
    "            \n",
    "            #mean squared error of the y_test values and the predicted\n",
    "            err = mean_squared_error(y_test, pred)\n",
    "            mses.append(err)\n",
    "\n",
    "            #accuracy scores\n",
    "            accu = accuracy_score(y_test, pred)\n",
    "            accuracies.append(accu)\n",
    "\n",
    "            #precision scores\n",
    "            precise = precision_score(y_test, pred)\n",
    "            precisions.append(precise)\n",
    "\n",
    "            #recall scores\n",
    "            recall = recall_score(y_test, pred)\n",
    "            recalls.append(recall)\n",
    "            \n",
    "            roc_auc = roc_auc_score(y_test, pred)\n",
    "\n",
    "            fpr_val, tpr_val, thresholds_val = roc_curve(y_test, proba[:, 1])\n",
    "\n",
    "            fprs.append(fpr_val)\n",
    "            tprs.append(tpr_val)\n",
    "            thresholds.append(thresholds_val)"
   ]
  },
  {
   "cell_type": "code",
   "execution_count": 276,
   "metadata": {},
   "outputs": [
    {
     "name": "stdout",
     "output_type": "stream",
     "text": [
      "     Average Accuracy Score  : 0.73077\n",
      "     Average Precision Score : 0.75071\n",
      "     Average Recall Score    : 0.94093\n",
      "     Average MSE Score       : 0.26923\n",
      "     ROC AUC Score           : 0.56\n"
     ]
    }
   ],
   "source": [
    "print(f'     Average Accuracy Score  : {np.mean(accuracies):2.5f}')\n",
    "print(f'     Average Precision Score : {np.mean(precisions):2.5f}')\n",
    "print(f'     Average Recall Score    : {np.mean(recalls):2.5f}')\n",
    "print(f'     Average MSE Score       : {np.mean(mses):2.5f}')\n",
    "print(f'     ROC AUC Score           : {roc_auc:2.2f}')"
   ]
  },
  {
   "cell_type": "code",
   "execution_count": 298,
   "metadata": {},
   "outputs": [
    {
     "data": {
      "image/png": "[encoded data removed]",
      "text/plain": [
       "<Figure size 720x576 with 1 Axes>"
      ]
     },
     "metadata": {},
     "output_type": "display_data"
    }
   ],
   "source": [
    "fig, ax = plt.subplots(figsize=(10,8))\n",
    "\n",
    "for i in range(len(fprs)):\n",
    "    ax.plot(fprs[i], tprs[i], linewidth=1)\n",
    "    ax.plot([0,1], [0,1], linewidth=0.7)\n",
    "    ax.grid(False)\n",
    "    ax.set_xlabel('False Positive Rate')\n",
    "    ax.set_ylabel('True Positive Rate (Recall)')\n",
    "    ax.set_title('Blocks: Random Forest ROC Curve (5 kfolds)')\n",
    "ax.legend([f'AUC: {roc_auc:2.2f}'])\n",
    "    \n",
    "plt.savefig('../reports/figures/blocks_rf_kfolds.png')"
   ]
  },
  {
   "cell_type": "code",
   "execution_count": 386,
   "metadata": {},
   "outputs": [],
   "source": [
    "# # Plot the feature importance\n",
    "# feat_scores = pd.DataFrame({'Fraction of Samples Affected' : rf_kfold.feature_importances_},\n",
    "#                            index=X.columns)\n",
    "# feat_scores = feat_scores.sort_values(by='Fraction of Samples Affected')\n",
    "# feat_scores.plot(kind='barh', figsize=(15,8))\n",
    "# plt.legend(loc='lower right')\n",
    "# plt.title('Blocks: Random Forest Feature Importance');\n",
    "\n",
    "# plt.savefig('../reports/figures/blocks_rf_featimportance.png')"
   ]
  },
  {
   "cell_type": "code",
   "execution_count": null,
   "metadata": {},
   "outputs": [],
   "source": []
  },
  {
   "cell_type": "code",
   "execution_count": null,
   "metadata": {},
   "outputs": [],
   "source": []
  },
  {
   "cell_type": "markdown",
   "metadata": {},
   "source": [
    "# Intersections"
   ]
  },
  {
   "cell_type": "markdown",
   "metadata": {},
   "source": [
    "# Circles"
   ]
  },
  {
   "cell_type": "code",
   "execution_count": 9,
   "metadata": {},
   "outputs": [
    {
     "data": {
      "text/html": [
       "<div>\n",
       "<style scoped>\n",
       "    .dataframe tbody tr th:only-of-type {\n",
       "        vertical-align: middle;\n",
       "    }\n",
       "\n",
       "    .dataframe tbody tr th {\n",
       "        vertical-align: top;\n",
       "    }\n",
       "\n",
       "    .dataframe thead th {\n",
       "        text-align: right;\n",
       "    }\n",
       "</style>\n",
       "<table border=\"1\" class=\"dataframe\">\n",
       "  <thead>\n",
       "    <tr style=\"text-align: right;\">\n",
       "      <th></th>\n",
       "      <th>intkey</th>\n",
       "      <th>shape_lat</th>\n",
       "      <th>shape_lng</th>\n",
       "      <th>unitdesc</th>\n",
       "      <th>primarydistrictcd</th>\n",
       "      <th>installed</th>\n",
       "      <th>landscaping</th>\n",
       "      <th>survey_monument</th>\n",
       "      <th>trcsize</th>\n",
       "      <th>trcshape</th>\n",
       "      <th>condition</th>\n",
       "      <th>inattentionind_y</th>\n",
       "      <th>year</th>\n",
       "      <th>count</th>\n",
       "      <th>total fatalities</th>\n",
       "      <th>total serious injuries</th>\n",
       "      <th>total evident injuries</th>\n",
       "      <th>total possible injuries</th>\n",
       "      <th>total vehicles</th>\n",
       "      <th>total pedestrians involved</th>\n",
       "      <th>total bicyclists involved</th>\n",
       "      <th>weigh_fatalities</th>\n",
       "      <th>weigh_serious</th>\n",
       "      <th>weigh_evident</th>\n",
       "      <th>weigh_possible</th>\n",
       "      <th>sev_score</th>\n",
       "    </tr>\n",
       "  </thead>\n",
       "  <tbody>\n",
       "    <tr>\n",
       "      <th>0</th>\n",
       "      <td>31889</td>\n",
       "      <td>47.566489</td>\n",
       "      <td>-122.380088</td>\n",
       "      <td>38TH AVE SW AND SW DAKOTA ST</td>\n",
       "      <td>DISTRICT1</td>\n",
       "      <td>2000</td>\n",
       "      <td>1</td>\n",
       "      <td>0</td>\n",
       "      <td>0</td>\n",
       "      <td>CRC</td>\n",
       "      <td>GOOD</td>\n",
       "      <td>0.0</td>\n",
       "      <td>2006.0</td>\n",
       "      <td>1.0</td>\n",
       "      <td>0.0</td>\n",
       "      <td>0.0</td>\n",
       "      <td>0.0</td>\n",
       "      <td>0.0</td>\n",
       "      <td>1.0</td>\n",
       "      <td>0.0</td>\n",
       "      <td>0.0</td>\n",
       "      <td>0.0</td>\n",
       "      <td>0.0</td>\n",
       "      <td>0.0</td>\n",
       "      <td>0.0</td>\n",
       "      <td>0.000337</td>\n",
       "    </tr>\n",
       "    <tr>\n",
       "      <th>1</th>\n",
       "      <td>31889</td>\n",
       "      <td>47.566489</td>\n",
       "      <td>-122.380088</td>\n",
       "      <td>38TH AVE SW AND SW DAKOTA ST</td>\n",
       "      <td>DISTRICT1</td>\n",
       "      <td>2000</td>\n",
       "      <td>1</td>\n",
       "      <td>0</td>\n",
       "      <td>0</td>\n",
       "      <td>CRC</td>\n",
       "      <td>GOOD</td>\n",
       "      <td>0.0</td>\n",
       "      <td>2017.0</td>\n",
       "      <td>1.0</td>\n",
       "      <td>0.0</td>\n",
       "      <td>0.0</td>\n",
       "      <td>0.0</td>\n",
       "      <td>1.0</td>\n",
       "      <td>2.0</td>\n",
       "      <td>0.0</td>\n",
       "      <td>0.0</td>\n",
       "      <td>0.0</td>\n",
       "      <td>0.0</td>\n",
       "      <td>0.0</td>\n",
       "      <td>2.0</td>\n",
       "      <td>0.001011</td>\n",
       "    </tr>\n",
       "    <tr>\n",
       "      <th>4</th>\n",
       "      <td>37392</td>\n",
       "      <td>47.702894</td>\n",
       "      <td>-122.350050</td>\n",
       "      <td>FREMONT AVE N AND N 102ND ST</td>\n",
       "      <td>DISTRICT5</td>\n",
       "      <td>1996</td>\n",
       "      <td>1</td>\n",
       "      <td>0</td>\n",
       "      <td>0</td>\n",
       "      <td>CRC</td>\n",
       "      <td>GOOD</td>\n",
       "      <td>0.0</td>\n",
       "      <td>2005.0</td>\n",
       "      <td>1.0</td>\n",
       "      <td>0.0</td>\n",
       "      <td>0.0</td>\n",
       "      <td>0.0</td>\n",
       "      <td>1.0</td>\n",
       "      <td>1.0</td>\n",
       "      <td>0.0</td>\n",
       "      <td>1.0</td>\n",
       "      <td>0.0</td>\n",
       "      <td>0.0</td>\n",
       "      <td>0.0</td>\n",
       "      <td>2.0</td>\n",
       "      <td>0.001011</td>\n",
       "    </tr>\n",
       "    <tr>\n",
       "      <th>5</th>\n",
       "      <td>37392</td>\n",
       "      <td>47.702894</td>\n",
       "      <td>-122.350050</td>\n",
       "      <td>FREMONT AVE N AND N 102ND ST</td>\n",
       "      <td>DISTRICT5</td>\n",
       "      <td>1996</td>\n",
       "      <td>1</td>\n",
       "      <td>0</td>\n",
       "      <td>0</td>\n",
       "      <td>CRC</td>\n",
       "      <td>GOOD</td>\n",
       "      <td>0.0</td>\n",
       "      <td>2006.0</td>\n",
       "      <td>1.0</td>\n",
       "      <td>0.0</td>\n",
       "      <td>0.0</td>\n",
       "      <td>0.0</td>\n",
       "      <td>0.0</td>\n",
       "      <td>2.0</td>\n",
       "      <td>0.0</td>\n",
       "      <td>0.0</td>\n",
       "      <td>0.0</td>\n",
       "      <td>0.0</td>\n",
       "      <td>0.0</td>\n",
       "      <td>0.0</td>\n",
       "      <td>0.000337</td>\n",
       "    </tr>\n",
       "    <tr>\n",
       "      <th>6</th>\n",
       "      <td>37392</td>\n",
       "      <td>47.702894</td>\n",
       "      <td>-122.350050</td>\n",
       "      <td>FREMONT AVE N AND N 102ND ST</td>\n",
       "      <td>DISTRICT5</td>\n",
       "      <td>1996</td>\n",
       "      <td>1</td>\n",
       "      <td>0</td>\n",
       "      <td>0</td>\n",
       "      <td>CRC</td>\n",
       "      <td>GOOD</td>\n",
       "      <td>0.0</td>\n",
       "      <td>2011.0</td>\n",
       "      <td>1.0</td>\n",
       "      <td>0.0</td>\n",
       "      <td>0.0</td>\n",
       "      <td>1.0</td>\n",
       "      <td>0.0</td>\n",
       "      <td>1.0</td>\n",
       "      <td>0.0</td>\n",
       "      <td>1.0</td>\n",
       "      <td>0.0</td>\n",
       "      <td>0.0</td>\n",
       "      <td>3.0</td>\n",
       "      <td>0.0</td>\n",
       "      <td>0.001348</td>\n",
       "    </tr>\n",
       "  </tbody>\n",
       "</table>\n",
       "</div>"
      ],
      "text/plain": [
       "   intkey  shape_lat   shape_lng  \\\n",
       "0   31889  47.566489 -122.380088   \n",
       "1   31889  47.566489 -122.380088   \n",
       "4   37392  47.702894 -122.350050   \n",
       "5   37392  47.702894 -122.350050   \n",
       "6   37392  47.702894 -122.350050   \n",
       "\n",
       "                                                                                                                                                                                                                                                          unitdesc  \\\n",
       "0  38TH AVE SW AND SW DAKOTA ST                                                                                                                                                                                                                                      \n",
       "1  38TH AVE SW AND SW DAKOTA ST                                                                                                                                                                                                                                      \n",
       "4  FREMONT AVE N AND N 102ND ST                                                                                                                                                                                                                                      \n",
       "5  FREMONT AVE N AND N 102ND ST                                                                                                                                                                                                                                      \n",
       "6  FREMONT AVE N AND N 102ND ST                                                                                                                                                                                                                                      \n",
       "\n",
       "  primarydistrictcd  installed  landscaping  survey_monument  trcsize  \\\n",
       "0         DISTRICT1       2000            1                0        0   \n",
       "1         DISTRICT1       2000            1                0        0   \n",
       "4         DISTRICT5       1996            1                0        0   \n",
       "5         DISTRICT5       1996            1                0        0   \n",
       "6         DISTRICT5       1996            1                0        0   \n",
       "\n",
       "  trcshape condition  inattentionind_y    year  count  total fatalities  \\\n",
       "0      CRC      GOOD               0.0  2006.0    1.0               0.0   \n",
       "1      CRC      GOOD               0.0  2017.0    1.0               0.0   \n",
       "4      CRC      GOOD               0.0  2005.0    1.0               0.0   \n",
       "5      CRC      GOOD               0.0  2006.0    1.0               0.0   \n",
       "6      CRC      GOOD               0.0  2011.0    1.0               0.0   \n",
       "\n",
       "   total serious injuries  total evident injuries  total possible injuries  \\\n",
       "0                     0.0                     0.0                      0.0   \n",
       "1                     0.0                     0.0                      1.0   \n",
       "4                     0.0                     0.0                      1.0   \n",
       "5                     0.0                     0.0                      0.0   \n",
       "6                     0.0                     1.0                      0.0   \n",
       "\n",
       "   total vehicles  total pedestrians involved  total bicyclists involved  \\\n",
       "0             1.0                         0.0                        0.0   \n",
       "1             2.0                         0.0                        0.0   \n",
       "4             1.0                         0.0                        1.0   \n",
       "5             2.0                         0.0                        0.0   \n",
       "6             1.0                         0.0                        1.0   \n",
       "\n",
       "   weigh_fatalities  weigh_serious  weigh_evident  weigh_possible  sev_score  \n",
       "0               0.0            0.0            0.0             0.0   0.000337  \n",
       "1               0.0            0.0            0.0             2.0   0.001011  \n",
       "4               0.0            0.0            0.0             2.0   0.001011  \n",
       "5               0.0            0.0            0.0             0.0   0.000337  \n",
       "6               0.0            0.0            3.0             0.0   0.001348  "
      ]
     },
     "execution_count": 9,
     "metadata": {},
     "output_type": "execute_result"
    }
   ],
   "source": [
    "circles.head()"
   ]
  },
  {
   "cell_type": "code",
   "execution_count": 10,
   "metadata": {},
   "outputs": [
    {
     "data": {
      "text/plain": [
       "Index(['intkey', 'shape_lat', 'shape_lng', 'unitdesc', 'primarydistrictcd',\n",
       "       'installed', 'landscaping', 'survey_monument', 'trcsize', 'trcshape',\n",
       "       'condition', 'inattentionind_y', 'year', 'count', 'total fatalities',\n",
       "       'total serious injuries', 'total evident injuries',\n",
       "       'total possible injuries', 'total vehicles',\n",
       "       'total pedestrians involved', 'total bicyclists involved',\n",
       "       'weigh_fatalities', 'weigh_serious', 'weigh_evident', 'weigh_possible',\n",
       "       'sev_score'],\n",
       "      dtype='object')"
      ]
     },
     "execution_count": 10,
     "metadata": {},
     "output_type": "execute_result"
    }
   ],
   "source": [
    "circles.columns"
   ]
  },
  {
   "cell_type": "code",
   "execution_count": 13,
   "metadata": {},
   "outputs": [],
   "source": [
    "distinct_crc = circles.groupby(['intkey', 'shape_lat', 'shape_lng', 'unitdesc', 'primarydistrictcd',\n",
    "       'installed', 'landscaping', 'survey_monument', 'trcsize', 'trcshape',\n",
    "       'condition', 'inattentionind_y']).sum().drop(columns='year').reset_index()"
   ]
  },
  {
   "cell_type": "code",
   "execution_count": 14,
   "metadata": {},
   "outputs": [],
   "source": [
    "distinct_crc['collisions'] = (distinct_crc['sev_score'] > 0).astype(int)"
   ]
  },
  {
   "cell_type": "code",
   "execution_count": 16,
   "metadata": {},
   "outputs": [],
   "source": [
    "distinct_crc['primarydistrictcd'] = distinct_crc['primarydistrictcd'].apply(lambda x: int(x[-1]))"
   ]
  },
  {
   "cell_type": "code",
   "execution_count": 22,
   "metadata": {},
   "outputs": [
    {
     "data": {
      "text/plain": [
       "Index(['GOOD', 'FAIR', 'POOR'], dtype='object')"
      ]
     },
     "execution_count": 22,
     "metadata": {},
     "output_type": "execute_result"
    }
   ],
   "source": [
    "distinct_crc['condition'].value_counts().index"
   ]
  },
  {
   "cell_type": "code",
   "execution_count": 24,
   "metadata": {},
   "outputs": [],
   "source": [
    "to_drop = ['intkey', 'shape_lat', 'shape_lng', 'unitdesc', 'count', 'total fatalities',\n",
    "       'total serious injuries', 'total evident injuries',\n",
    "       'total possible injuries', 'total vehicles',\n",
    "       'total pedestrians involved', 'total bicyclists involved',\n",
    "       'weigh_fatalities', 'weigh_serious', 'weigh_evident', 'weigh_possible',\n",
    "       'sev_score']\n",
    "distinct_crc.drop(columns=to_drop, inplace=True)"
   ]
  },
  {
   "cell_type": "code",
   "execution_count": 25,
   "metadata": {},
   "outputs": [
    {
     "data": {
      "text/html": [
       "<div>\n",
       "<style scoped>\n",
       "    .dataframe tbody tr th:only-of-type {\n",
       "        vertical-align: middle;\n",
       "    }\n",
       "\n",
       "    .dataframe tbody tr th {\n",
       "        vertical-align: top;\n",
       "    }\n",
       "\n",
       "    .dataframe thead th {\n",
       "        text-align: right;\n",
       "    }\n",
       "</style>\n",
       "<table border=\"1\" class=\"dataframe\">\n",
       "  <thead>\n",
       "    <tr style=\"text-align: right;\">\n",
       "      <th></th>\n",
       "      <th>primarydistrictcd</th>\n",
       "      <th>installed</th>\n",
       "      <th>landscaping</th>\n",
       "      <th>survey_monument</th>\n",
       "      <th>trcsize</th>\n",
       "      <th>trcshape</th>\n",
       "      <th>condition</th>\n",
       "      <th>inattentionind_y</th>\n",
       "      <th>collisions</th>\n",
       "    </tr>\n",
       "  </thead>\n",
       "  <tbody>\n",
       "    <tr>\n",
       "      <th>0</th>\n",
       "      <td>6</td>\n",
       "      <td>1970</td>\n",
       "      <td>1</td>\n",
       "      <td>1</td>\n",
       "      <td>25</td>\n",
       "      <td>OVAL</td>\n",
       "      <td>GOOD</td>\n",
       "      <td>0.0</td>\n",
       "      <td>1</td>\n",
       "    </tr>\n",
       "    <tr>\n",
       "      <th>1</th>\n",
       "      <td>6</td>\n",
       "      <td>1993</td>\n",
       "      <td>1</td>\n",
       "      <td>0</td>\n",
       "      <td>0</td>\n",
       "      <td>CRC</td>\n",
       "      <td>GOOD</td>\n",
       "      <td>1.0</td>\n",
       "      <td>1</td>\n",
       "    </tr>\n",
       "    <tr>\n",
       "      <th>2</th>\n",
       "      <td>6</td>\n",
       "      <td>2002</td>\n",
       "      <td>1</td>\n",
       "      <td>0</td>\n",
       "      <td>0</td>\n",
       "      <td>CRC</td>\n",
       "      <td>GOOD</td>\n",
       "      <td>0.0</td>\n",
       "      <td>0</td>\n",
       "    </tr>\n",
       "    <tr>\n",
       "      <th>3</th>\n",
       "      <td>6</td>\n",
       "      <td>2002</td>\n",
       "      <td>1</td>\n",
       "      <td>0</td>\n",
       "      <td>0</td>\n",
       "      <td>CRC</td>\n",
       "      <td>GOOD</td>\n",
       "      <td>0.0</td>\n",
       "      <td>0</td>\n",
       "    </tr>\n",
       "    <tr>\n",
       "      <th>4</th>\n",
       "      <td>6</td>\n",
       "      <td>1996</td>\n",
       "      <td>1</td>\n",
       "      <td>0</td>\n",
       "      <td>0</td>\n",
       "      <td>CRC</td>\n",
       "      <td>GOOD</td>\n",
       "      <td>0.0</td>\n",
       "      <td>0</td>\n",
       "    </tr>\n",
       "  </tbody>\n",
       "</table>\n",
       "</div>"
      ],
      "text/plain": [
       "   primarydistrictcd  installed  landscaping  survey_monument  trcsize  \\\n",
       "0                  6       1970            1                1       25   \n",
       "1                  6       1993            1                0        0   \n",
       "2                  6       2002            1                0        0   \n",
       "3                  6       2002            1                0        0   \n",
       "4                  6       1996            1                0        0   \n",
       "\n",
       "  trcshape condition  inattentionind_y  collisions  \n",
       "0     OVAL      GOOD               0.0           1  \n",
       "1      CRC      GOOD               1.0           1  \n",
       "2      CRC      GOOD               0.0           0  \n",
       "3      CRC      GOOD               0.0           0  \n",
       "4      CRC      GOOD               0.0           0  "
      ]
     },
     "execution_count": 25,
     "metadata": {},
     "output_type": "execute_result"
    }
   ],
   "source": [
    "distinct_crc.head()"
   ]
  },
  {
   "cell_type": "code",
   "execution_count": 29,
   "metadata": {},
   "outputs": [],
   "source": [
    "distinct_crc = pd.get_dummies(distinct_crc)"
   ]
  },
  {
   "cell_type": "code",
   "execution_count": 51,
   "metadata": {},
   "outputs": [],
   "source": [
    "distinct_crc.drop(columns=['trcshape_OTHER', 'condition_FAIR'], inplace=True)"
   ]
  },
  {
   "cell_type": "markdown",
   "metadata": {},
   "source": [
    "## Training data"
   ]
  },
  {
   "cell_type": "code",
   "execution_count": 34,
   "metadata": {},
   "outputs": [],
   "source": [
    "y = distinct_crc.pop('collisions')"
   ]
  },
  {
   "cell_type": "code",
   "execution_count": 57,
   "metadata": {},
   "outputs": [],
   "source": [
    "X = distinct_crc.drop(columns=['installed', 'inattentionind_y','primarydistrictcd', 'survey_monument']).copy()"
   ]
  },
  {
   "cell_type": "code",
   "execution_count": 58,
   "metadata": {},
   "outputs": [],
   "source": [
    "rf_kfold = RandomForestClassifier(n_estimators=400)\n",
    "\n",
    "mses = []\n",
    "accuracies = []\n",
    "precisions = []\n",
    "recalls = []\n",
    "    \n",
    "fprs = []\n",
    "tprs = []\n",
    "thresholds = []\n",
    "\n",
    "feat_importances = []\n",
    "\n",
    "kf = KFold(n_splits=5, shuffle=True)\n",
    "\n",
    "for i, (train_index, test_index) in enumerate(kf.split(X, y)):\n",
    "            X_train, X_test = X.iloc[train_index], X.iloc[test_index]\n",
    "            y_train, y_test = y.iloc[train_index], y.iloc[test_index]\n",
    "            \n",
    "            rf_kfold.fit(X_train, y_train)\n",
    "            pred = rf_kfold.predict(X_test)\n",
    "            proba = rf_kfold.predict_proba(X_test)\n",
    "\n",
    "            feat_importances.append(rf_kfold.feature_importances_)\n",
    "            \n",
    "            #mean squared error of the y_test values and the predicted\n",
    "            err = mean_squared_error(y_test, pred)\n",
    "            mses.append(err)\n",
    "\n",
    "            #accuracy scores\n",
    "            accu = accuracy_score(y_test, pred)\n",
    "            accuracies.append(accu)\n",
    "\n",
    "            #precision scores\n",
    "            precise = precision_score(y_test, pred)\n",
    "            precisions.append(precise)\n",
    "\n",
    "            #recall scores\n",
    "            recall = recall_score(y_test, pred)\n",
    "            recalls.append(recall)\n",
    "            \n",
    "            roc_auc = roc_auc_score(y_test, pred)\n",
    "\n",
    "            fpr_val, tpr_val, thresholds_val = roc_curve(y_test, proba[:, 1])\n",
    "\n",
    "            fprs.append(fpr_val)\n",
    "            tprs.append(tpr_val)\n",
    "            thresholds.append(thresholds_val)"
   ]
  },
  {
   "cell_type": "code",
   "execution_count": 59,
   "metadata": {},
   "outputs": [
    {
     "name": "stdout",
     "output_type": "stream",
     "text": [
      "     Average Accuracy Score  : 0.60611\n",
      "     Average Precision Score : 0.60747\n",
      "     Average Recall Score    : 0.98912\n",
      "     Average MSE Score       : 0.39389\n",
      "     ROC AUC Score           : 0.51\n"
     ]
    }
   ],
   "source": [
    "print(f'     Average Accuracy Score  : {np.mean(accuracies):2.5f}')\n",
    "print(f'     Average Precision Score : {np.mean(precisions):2.5f}')\n",
    "print(f'     Average Recall Score    : {np.mean(recalls):2.5f}')\n",
    "print(f'     Average MSE Score       : {np.mean(mses):2.5f}')\n",
    "print(f'     ROC AUC Score           : {roc_auc:2.2f}')"
   ]
  },
  {
   "cell_type": "code",
   "execution_count": 60,
   "metadata": {},
   "outputs": [
    {
     "data": {
      "image/png": "[encoded data removed]",
      "text/plain": [
       "<Figure size 720x576 with 1 Axes>"
      ]
     },
     "metadata": {
      "needs_background": "light"
     },
     "output_type": "display_data"
    }
   ],
   "source": [
    "fig, ax = plt.subplots(figsize=(10,8))\n",
    "\n",
    "for i in range(len(fprs)):\n",
    "    ax.plot(fprs[i], tprs[i], linewidth=1)\n",
    "    ax.plot([0,1], [0,1], linewidth=0.7)\n",
    "    ax.grid(False)\n",
    "    ax.set_xlabel('False Positive Rate')\n",
    "    ax.set_ylabel('True Positive Rate (Recall)')\n",
    "    ax.set_title('Circles: Random Forest ROC Curve (5 kfolds)')\n",
    "ax.legend([f'AUC: {roc_auc:2.2f}'])\n",
    "    \n",
    "# plt.savefig('../reports/figures/circles_rf_kfolds.png')"
   ]
  },
  {
   "cell_type": "code",
   "execution_count": 62,
   "metadata": {},
   "outputs": [
    {
     "data": {
      "image/png": "[encoded data removed]",
      "text/plain": [
       "<Figure size 1080x720 with 1 Axes>"
      ]
     },
     "metadata": {
      "needs_background": "light"
     },
     "output_type": "display_data"
    }
   ],
   "source": [
    "# Plot the feature importance\n",
    "fig, ax = plt.subplots(figsize=(15,10))\n",
    "\n",
    "feat_scores = pd.DataFrame({'Fraction of Samples Affected' : rf_kfold.feature_importances_},\n",
    "                           index=X.columns)\n",
    "feat_scores = feat_scores.sort_values(by='Fraction of Samples Affected')\n",
    "# ax = barh(feat_scores.index, feat_scores['Fraction of Samples Affected'])\n",
    "ax = feat_scores['Fraction of Samples Affected'].plot(kind='barh')\n",
    "ax.set_title('Circles: Random Forest Feature Importance', fontsize=20);\n",
    "\n",
    "# plt.savefig('../reports/figures/circles_rf_featimportance.png')"
   ]
  },
  {
   "cell_type": "code",
   "execution_count": null,
   "metadata": {},
   "outputs": [],
   "source": []
  },
  {
   "cell_type": "code",
   "execution_count": null,
   "metadata": {},
   "outputs": [],
   "source": []
  },
  {
   "cell_type": "code",
   "execution_count": null,
   "metadata": {},
   "outputs": [],
   "source": []
  },
  {
   "cell_type": "code",
   "execution_count": null,
   "metadata": {},
   "outputs": [],
   "source": []
  },
  {
   "cell_type": "code",
   "execution_count": null,
   "metadata": {},
   "outputs": [],
   "source": []
  },
  {
   "cell_type": "code",
   "execution_count": null,
   "metadata": {},
   "outputs": [],
   "source": []
  },
  {
   "cell_type": "code",
   "execution_count": null,
   "metadata": {},
   "outputs": [],
   "source": []
  },
  {
   "cell_type": "code",
   "execution_count": null,
   "metadata": {},
   "outputs": [],
   "source": []
  },
  {
   "cell_type": "code",
   "execution_count": null,
   "metadata": {},
   "outputs": [],
   "source": []
  },
  {
   "cell_type": "code",
   "execution_count": null,
   "metadata": {},
   "outputs": [],
   "source": []
  },
  {
   "cell_type": "markdown",
   "metadata": {},
   "source": [
    "# Crosswalks"
   ]
  },
  {
   "cell_type": "code",
   "execution_count": 3,
   "metadata": {},
   "outputs": [
    {
     "data": {
      "text/plain": [
       "Index(['crosswalkkey', 'unitdesc', 'condition', 'primarydistrictcd',\n",
       "       'approach', 'marking_type', 'school', 'midblock_crosswalk', 'color',\n",
       "       'maint_district', 'shape_lng', 'shape_lat', 'crosswalk_control',\n",
       "       'onstreet', 'xstrlow', 'xstrhi', 'intkey', 'inattentionind_y', 'year',\n",
       "       'count', 'total fatalities', 'total serious injuries',\n",
       "       'total evident injuries', 'total possible injuries', 'total vehicles',\n",
       "       'total pedestrians involved', 'total bicyclists involved',\n",
       "       'weigh_fatalities', 'weigh_serious', 'weigh_evident', 'weigh_possible',\n",
       "       'sev_score'],\n",
       "      dtype='object')"
      ]
     },
     "execution_count": 3,
     "metadata": {},
     "output_type": "execute_result"
    }
   ],
   "source": [
    "crosswalks.columns"
   ]
  },
  {
   "cell_type": "code",
   "execution_count": 4,
   "metadata": {},
   "outputs": [
    {
     "data": {
      "text/plain": [
       "(7227, 32)"
      ]
     },
     "execution_count": 4,
     "metadata": {},
     "output_type": "execute_result"
    }
   ],
   "source": [
    "crosswalks.shape"
   ]
  },
  {
   "cell_type": "code",
   "execution_count": 5,
   "metadata": {},
   "outputs": [
    {
     "data": {
      "text/plain": [
       "N    7122\n",
       "Y     105\n",
       "Name: midblock_crosswalk, dtype: int64"
      ]
     },
     "execution_count": 5,
     "metadata": {},
     "output_type": "execute_result"
    }
   ],
   "source": [
    "crosswalks['midblock_crosswalk'].value_counts()"
   ]
  },
  {
   "cell_type": "code",
   "execution_count": 6,
   "metadata": {},
   "outputs": [],
   "source": [
    "# drop columns that would need to be collected at scene of collision\n",
    "xw_to_drop = ['unitdesc', 'shape_lng', 'shape_lat', 'total fatalities', 'total serious injuries', \n",
    "             'onstreet', 'xstrlow', 'xstrhi', 'intkey', 'inattentionind_y', 'year', 'count',\n",
    "             'total evident injuries', 'total possible injuries', 'total vehicles',\n",
    "             'total pedestrians involved', 'total bicyclists involved', 'weigh_fatalities', 'weigh_serious', \n",
    "             'weigh_evident', 'weigh_possible']\n",
    "\n",
    "crosswalks.drop(columns=xw_to_drop, inplace=True)"
   ]
  },
  {
   "cell_type": "code",
   "execution_count": 7,
   "metadata": {},
   "outputs": [
    {
     "data": {
      "text/plain": [
       "Index(['crosswalkkey', 'condition', 'primarydistrictcd', 'approach',\n",
       "       'marking_type', 'school', 'midblock_crosswalk', 'color',\n",
       "       'maint_district', 'crosswalk_control', 'sev_score'],\n",
       "      dtype='object')"
      ]
     },
     "execution_count": 7,
     "metadata": {},
     "output_type": "execute_result"
    }
   ],
   "source": [
    "crosswalks.columns"
   ]
  },
  {
   "cell_type": "code",
   "execution_count": 8,
   "metadata": {},
   "outputs": [],
   "source": [
    "distinct_xw = crosswalks.groupby(['crosswalkkey', 'condition', 'primarydistrictcd', 'approach',\n",
    "       'marking_type', 'school', 'midblock_crosswalk', 'color',\n",
    "       'maint_district', 'crosswalk_control']).sum().reset_index()"
   ]
  },
  {
   "cell_type": "code",
   "execution_count": 9,
   "metadata": {},
   "outputs": [
    {
     "data": {
      "text/plain": [
       "(5683, 11)"
      ]
     },
     "execution_count": 9,
     "metadata": {},
     "output_type": "execute_result"
    }
   ],
   "source": [
    "distinct_xw.shape"
   ]
  },
  {
   "cell_type": "code",
   "execution_count": 10,
   "metadata": {},
   "outputs": [
    {
     "data": {
      "text/html": [
       "<div>\n",
       "<style scoped>\n",
       "    .dataframe tbody tr th:only-of-type {\n",
       "        vertical-align: middle;\n",
       "    }\n",
       "\n",
       "    .dataframe tbody tr th {\n",
       "        vertical-align: top;\n",
       "    }\n",
       "\n",
       "    .dataframe thead th {\n",
       "        text-align: right;\n",
       "    }\n",
       "</style>\n",
       "<table border=\"1\" class=\"dataframe\">\n",
       "  <thead>\n",
       "    <tr style=\"text-align: right;\">\n",
       "      <th></th>\n",
       "      <th>crosswalkkey</th>\n",
       "      <th>condition</th>\n",
       "      <th>primarydistrictcd</th>\n",
       "      <th>approach</th>\n",
       "      <th>marking_type</th>\n",
       "      <th>school</th>\n",
       "      <th>midblock_crosswalk</th>\n",
       "      <th>color</th>\n",
       "      <th>maint_district</th>\n",
       "      <th>crosswalk_control</th>\n",
       "      <th>sev_score</th>\n",
       "    </tr>\n",
       "  </thead>\n",
       "  <tbody>\n",
       "    <tr>\n",
       "      <th>0</th>\n",
       "      <td>511360</td>\n",
       "      <td>GOOD</td>\n",
       "      <td>DISTRICT3</td>\n",
       "      <td>S</td>\n",
       "      <td>LADER</td>\n",
       "      <td>N</td>\n",
       "      <td>N</td>\n",
       "      <td>WHT</td>\n",
       "      <td>CENTRAL</td>\n",
       "      <td></td>\n",
       "      <td>0.00000</td>\n",
       "    </tr>\n",
       "    <tr>\n",
       "      <th>1</th>\n",
       "      <td>520756</td>\n",
       "      <td>GOOD</td>\n",
       "      <td>DISTRICT6</td>\n",
       "      <td>S</td>\n",
       "      <td>LADER</td>\n",
       "      <td>N</td>\n",
       "      <td>N</td>\n",
       "      <td>WHT</td>\n",
       "      <td>NORTH</td>\n",
       "      <td>SIGNAL</td>\n",
       "      <td>0.00030</td>\n",
       "    </tr>\n",
       "    <tr>\n",
       "      <th>2</th>\n",
       "      <td>520757</td>\n",
       "      <td>GOOD</td>\n",
       "      <td>DISTRICT6</td>\n",
       "      <td>N</td>\n",
       "      <td>LADER</td>\n",
       "      <td>N</td>\n",
       "      <td>N</td>\n",
       "      <td>WHT</td>\n",
       "      <td>NORTH</td>\n",
       "      <td>SIGNAL</td>\n",
       "      <td>0.00030</td>\n",
       "    </tr>\n",
       "    <tr>\n",
       "      <th>3</th>\n",
       "      <td>520758</td>\n",
       "      <td>GOOD</td>\n",
       "      <td>DISTRICT6</td>\n",
       "      <td>N</td>\n",
       "      <td>LADER</td>\n",
       "      <td>Y</td>\n",
       "      <td>N</td>\n",
       "      <td>WHT</td>\n",
       "      <td>NORTH</td>\n",
       "      <td></td>\n",
       "      <td>0.00045</td>\n",
       "    </tr>\n",
       "    <tr>\n",
       "      <th>4</th>\n",
       "      <td>520759</td>\n",
       "      <td>GOOD</td>\n",
       "      <td>DISTRICT6</td>\n",
       "      <td>N</td>\n",
       "      <td>LADER</td>\n",
       "      <td>Y</td>\n",
       "      <td>N</td>\n",
       "      <td>WHT</td>\n",
       "      <td>NORTH</td>\n",
       "      <td></td>\n",
       "      <td>0.00000</td>\n",
       "    </tr>\n",
       "  </tbody>\n",
       "</table>\n",
       "</div>"
      ],
      "text/plain": [
       "   crosswalkkey condition primarydistrictcd approach marking_type school  \\\n",
       "0        511360      GOOD         DISTRICT3        S        LADER      N   \n",
       "1        520756      GOOD         DISTRICT6        S        LADER      N   \n",
       "2        520757      GOOD         DISTRICT6        N        LADER      N   \n",
       "3        520758      GOOD         DISTRICT6        N        LADER      Y   \n",
       "4        520759      GOOD         DISTRICT6        N        LADER      Y   \n",
       "\n",
       "  midblock_crosswalk color maint_district crosswalk_control  sev_score  \n",
       "0                  N   WHT        CENTRAL                      0.00000  \n",
       "1                  N   WHT          NORTH            SIGNAL    0.00030  \n",
       "2                  N   WHT          NORTH            SIGNAL    0.00030  \n",
       "3                  N   WHT          NORTH                      0.00045  \n",
       "4                  N   WHT          NORTH                      0.00000  "
      ]
     },
     "execution_count": 10,
     "metadata": {},
     "output_type": "execute_result"
    }
   ],
   "source": [
    "distinct_xw.head()"
   ]
  },
  {
   "cell_type": "code",
   "execution_count": 11,
   "metadata": {},
   "outputs": [],
   "source": [
    "xw_binaries = ['school', 'midblock_crosswalk']\n",
    "str_entries = ['condition', 'crosswalk_control', 'color']"
   ]
  },
  {
   "cell_type": "code",
   "execution_count": 12,
   "metadata": {},
   "outputs": [],
   "source": [
    "for x in xw_binaries:\n",
    "    distinct_xw[x] = distinct_xw[x].map({'Y':1, 'N':0})"
   ]
  },
  {
   "cell_type": "code",
   "execution_count": 13,
   "metadata": {},
   "outputs": [],
   "source": [
    "# majority of crosswalks in rows where condition is missing, in their same districts with same marking_type\n",
    "# all are mainly GOOD\n",
    "\n",
    "distinct_xw['condition'] = distinct_xw['condition'].apply(lambda x: 'GOOD' if x == ' ' else x)"
   ]
  },
  {
   "cell_type": "code",
   "execution_count": 14,
   "metadata": {},
   "outputs": [],
   "source": [
    "# missing crosswalk_control means there is no signal there\n",
    "\n",
    "distinct_xw['crosswalk_control'] = distinct_xw['crosswalk_control'].apply(lambda x: 'NONE' if x == ' ' else x)"
   ]
  },
  {
   "cell_type": "code",
   "execution_count": 15,
   "metadata": {},
   "outputs": [],
   "source": [
    "# all crosswalks, no matter district or marking_type or school zone, are predominately white\n",
    "distinct_xw['color'] = distinct_xw['color'].apply(lambda x: 'WHT' if x == ' ' else x)"
   ]
  },
  {
   "cell_type": "code",
   "execution_count": 16,
   "metadata": {},
   "outputs": [
    {
     "data": {
      "text/plain": [
       "NONE        3527\n",
       "SIGNAL      1371\n",
       "STOPSIGN     704\n",
       "RFB-BCN       47\n",
       "FLSH-BCN      34\n",
       "Name: crosswalk_control, dtype: int64"
      ]
     },
     "execution_count": 16,
     "metadata": {},
     "output_type": "execute_result"
    }
   ],
   "source": [
    "distinct_xw['crosswalk_control'].value_counts()"
   ]
  },
  {
   "cell_type": "markdown",
   "metadata": {},
   "source": [
    "#### Target and Features"
   ]
  },
  {
   "cell_type": "code",
   "execution_count": 17,
   "metadata": {},
   "outputs": [],
   "source": [
    "y = distinct_xw.pop('sev_score')"
   ]
  },
  {
   "cell_type": "code",
   "execution_count": 18,
   "metadata": {},
   "outputs": [],
   "source": [
    "X = distinct_xw.drop(columns=['crosswalkkey', 'approach']).copy()"
   ]
  },
  {
   "cell_type": "code",
   "execution_count": 19,
   "metadata": {},
   "outputs": [
    {
     "data": {
      "text/html": [
       "<div>\n",
       "<style scoped>\n",
       "    .dataframe tbody tr th:only-of-type {\n",
       "        vertical-align: middle;\n",
       "    }\n",
       "\n",
       "    .dataframe tbody tr th {\n",
       "        vertical-align: top;\n",
       "    }\n",
       "\n",
       "    .dataframe thead th {\n",
       "        text-align: right;\n",
       "    }\n",
       "</style>\n",
       "<table border=\"1\" class=\"dataframe\">\n",
       "  <thead>\n",
       "    <tr style=\"text-align: right;\">\n",
       "      <th></th>\n",
       "      <th>condition</th>\n",
       "      <th>primarydistrictcd</th>\n",
       "      <th>marking_type</th>\n",
       "      <th>school</th>\n",
       "      <th>midblock_crosswalk</th>\n",
       "      <th>color</th>\n",
       "      <th>maint_district</th>\n",
       "      <th>crosswalk_control</th>\n",
       "    </tr>\n",
       "  </thead>\n",
       "  <tbody>\n",
       "    <tr>\n",
       "      <th>0</th>\n",
       "      <td>GOOD</td>\n",
       "      <td>DISTRICT3</td>\n",
       "      <td>LADER</td>\n",
       "      <td>0</td>\n",
       "      <td>0</td>\n",
       "      <td>WHT</td>\n",
       "      <td>CENTRAL</td>\n",
       "      <td>NONE</td>\n",
       "    </tr>\n",
       "    <tr>\n",
       "      <th>1</th>\n",
       "      <td>GOOD</td>\n",
       "      <td>DISTRICT6</td>\n",
       "      <td>LADER</td>\n",
       "      <td>0</td>\n",
       "      <td>0</td>\n",
       "      <td>WHT</td>\n",
       "      <td>NORTH</td>\n",
       "      <td>SIGNAL</td>\n",
       "    </tr>\n",
       "    <tr>\n",
       "      <th>2</th>\n",
       "      <td>GOOD</td>\n",
       "      <td>DISTRICT6</td>\n",
       "      <td>LADER</td>\n",
       "      <td>0</td>\n",
       "      <td>0</td>\n",
       "      <td>WHT</td>\n",
       "      <td>NORTH</td>\n",
       "      <td>SIGNAL</td>\n",
       "    </tr>\n",
       "    <tr>\n",
       "      <th>3</th>\n",
       "      <td>GOOD</td>\n",
       "      <td>DISTRICT6</td>\n",
       "      <td>LADER</td>\n",
       "      <td>1</td>\n",
       "      <td>0</td>\n",
       "      <td>WHT</td>\n",
       "      <td>NORTH</td>\n",
       "      <td>NONE</td>\n",
       "    </tr>\n",
       "    <tr>\n",
       "      <th>4</th>\n",
       "      <td>GOOD</td>\n",
       "      <td>DISTRICT6</td>\n",
       "      <td>LADER</td>\n",
       "      <td>1</td>\n",
       "      <td>0</td>\n",
       "      <td>WHT</td>\n",
       "      <td>NORTH</td>\n",
       "      <td>NONE</td>\n",
       "    </tr>\n",
       "  </tbody>\n",
       "</table>\n",
       "</div>"
      ],
      "text/plain": [
       "  condition primarydistrictcd marking_type  school  midblock_crosswalk color  \\\n",
       "0      GOOD         DISTRICT3        LADER       0                   0   WHT   \n",
       "1      GOOD         DISTRICT6        LADER       0                   0   WHT   \n",
       "2      GOOD         DISTRICT6        LADER       0                   0   WHT   \n",
       "3      GOOD         DISTRICT6        LADER       1                   0   WHT   \n",
       "4      GOOD         DISTRICT6        LADER       1                   0   WHT   \n",
       "\n",
       "  maint_district crosswalk_control  \n",
       "0        CENTRAL              NONE  \n",
       "1          NORTH            SIGNAL  \n",
       "2          NORTH            SIGNAL  \n",
       "3          NORTH              NONE  \n",
       "4          NORTH              NONE  "
      ]
     },
     "execution_count": 19,
     "metadata": {},
     "output_type": "execute_result"
    }
   ],
   "source": [
    "X.head()"
   ]
  },
  {
   "cell_type": "code",
   "execution_count": 20,
   "metadata": {},
   "outputs": [
    {
     "data": {
      "text/plain": [
       "Index(['condition', 'primarydistrictcd', 'marking_type', 'school',\n",
       "       'midblock_crosswalk', 'color', 'maint_district', 'crosswalk_control'],\n",
       "      dtype='object')"
      ]
     },
     "execution_count": 20,
     "metadata": {},
     "output_type": "execute_result"
    }
   ],
   "source": [
    "X.columns"
   ]
  },
  {
   "cell_type": "markdown",
   "metadata": {},
   "source": [
    "#### Catboost Blocks"
   ]
  },
  {
   "cell_type": "code",
   "execution_count": 21,
   "metadata": {},
   "outputs": [],
   "source": [
    "cat_feats = ['condition', 'primarydistrictcd', 'marking_type',\n",
    "             'color', 'maint_district', 'crosswalk_control']\n",
    "\n",
    "clf = agg_catboost(X, y, cat_feats)"
   ]
  },
  {
   "cell_type": "code",
   "execution_count": 22,
   "metadata": {},
   "outputs": [
    {
     "data": {
      "text/plain": [
       "'Training on 5 k-folds complete'"
      ]
     },
     "execution_count": 22,
     "metadata": {},
     "output_type": "execute_result"
    }
   ],
   "source": [
    "clf.train_model()"
   ]
  },
  {
   "cell_type": "code",
   "execution_count": 27,
   "metadata": {},
   "outputs": [
    {
     "data": {
      "image/png": "[encoded data removed]",
      "text/plain": [
       "<Figure size 432x288 with 1 Axes>"
      ]
     },
     "metadata": {
      "needs_background": "light"
     },
     "output_type": "display_data"
    }
   ],
   "source": [
    "clf.plot_feature_importances()\n",
    "# plt.savefig('../reports/crosswalks_cat_featimport.png')"
   ]
  },
  {
   "cell_type": "markdown",
   "metadata": {},
   "source": [
    "#### Random Forest Blocks"
   ]
  },
  {
   "cell_type": "code",
   "execution_count": 28,
   "metadata": {},
   "outputs": [],
   "source": [
    "# X = pd.get_dummies(X, drop_first=True)"
   ]
  },
  {
   "cell_type": "code",
   "execution_count": 29,
   "metadata": {},
   "outputs": [
    {
     "data": {
      "text/html": [
       "<div>\n",
       "<style scoped>\n",
       "    .dataframe tbody tr th:only-of-type {\n",
       "        vertical-align: middle;\n",
       "    }\n",
       "\n",
       "    .dataframe tbody tr th {\n",
       "        vertical-align: top;\n",
       "    }\n",
       "\n",
       "    .dataframe thead th {\n",
       "        text-align: right;\n",
       "    }\n",
       "</style>\n",
       "<table border=\"1\" class=\"dataframe\">\n",
       "  <thead>\n",
       "    <tr style=\"text-align: right;\">\n",
       "      <th></th>\n",
       "      <th>crosswalkkey</th>\n",
       "      <th>condition</th>\n",
       "      <th>primarydistrictcd</th>\n",
       "      <th>approach</th>\n",
       "      <th>marking_type</th>\n",
       "      <th>school</th>\n",
       "      <th>midblock_crosswalk</th>\n",
       "      <th>color</th>\n",
       "      <th>maint_district</th>\n",
       "      <th>crosswalk_control</th>\n",
       "    </tr>\n",
       "  </thead>\n",
       "  <tbody>\n",
       "    <tr>\n",
       "      <th>0</th>\n",
       "      <td>511360</td>\n",
       "      <td>GOOD</td>\n",
       "      <td>DISTRICT3</td>\n",
       "      <td>S</td>\n",
       "      <td>LADER</td>\n",
       "      <td>0</td>\n",
       "      <td>0</td>\n",
       "      <td>WHT</td>\n",
       "      <td>CENTRAL</td>\n",
       "      <td>NONE</td>\n",
       "    </tr>\n",
       "    <tr>\n",
       "      <th>1</th>\n",
       "      <td>520756</td>\n",
       "      <td>GOOD</td>\n",
       "      <td>DISTRICT6</td>\n",
       "      <td>S</td>\n",
       "      <td>LADER</td>\n",
       "      <td>0</td>\n",
       "      <td>0</td>\n",
       "      <td>WHT</td>\n",
       "      <td>NORTH</td>\n",
       "      <td>SIGNAL</td>\n",
       "    </tr>\n",
       "    <tr>\n",
       "      <th>2</th>\n",
       "      <td>520757</td>\n",
       "      <td>GOOD</td>\n",
       "      <td>DISTRICT6</td>\n",
       "      <td>N</td>\n",
       "      <td>LADER</td>\n",
       "      <td>0</td>\n",
       "      <td>0</td>\n",
       "      <td>WHT</td>\n",
       "      <td>NORTH</td>\n",
       "      <td>SIGNAL</td>\n",
       "    </tr>\n",
       "    <tr>\n",
       "      <th>3</th>\n",
       "      <td>520758</td>\n",
       "      <td>GOOD</td>\n",
       "      <td>DISTRICT6</td>\n",
       "      <td>N</td>\n",
       "      <td>LADER</td>\n",
       "      <td>1</td>\n",
       "      <td>0</td>\n",
       "      <td>WHT</td>\n",
       "      <td>NORTH</td>\n",
       "      <td>NONE</td>\n",
       "    </tr>\n",
       "    <tr>\n",
       "      <th>4</th>\n",
       "      <td>520759</td>\n",
       "      <td>GOOD</td>\n",
       "      <td>DISTRICT6</td>\n",
       "      <td>N</td>\n",
       "      <td>LADER</td>\n",
       "      <td>1</td>\n",
       "      <td>0</td>\n",
       "      <td>WHT</td>\n",
       "      <td>NORTH</td>\n",
       "      <td>NONE</td>\n",
       "    </tr>\n",
       "  </tbody>\n",
       "</table>\n",
       "</div>"
      ],
      "text/plain": [
       "   crosswalkkey condition primarydistrictcd approach marking_type  school  \\\n",
       "0        511360      GOOD         DISTRICT3        S        LADER       0   \n",
       "1        520756      GOOD         DISTRICT6        S        LADER       0   \n",
       "2        520757      GOOD         DISTRICT6        N        LADER       0   \n",
       "3        520758      GOOD         DISTRICT6        N        LADER       1   \n",
       "4        520759      GOOD         DISTRICT6        N        LADER       1   \n",
       "\n",
       "   midblock_crosswalk color maint_district crosswalk_control  \n",
       "0                   0   WHT        CENTRAL              NONE  \n",
       "1                   0   WHT          NORTH            SIGNAL  \n",
       "2                   0   WHT          NORTH            SIGNAL  \n",
       "3                   0   WHT          NORTH              NONE  \n",
       "4                   0   WHT          NORTH              NONE  "
      ]
     },
     "execution_count": 29,
     "metadata": {},
     "output_type": "execute_result"
    }
   ],
   "source": [
    "distinct_xw.head()"
   ]
  },
  {
   "cell_type": "code",
   "execution_count": 30,
   "metadata": {},
   "outputs": [
    {
     "data": {
      "text/plain": [
       "Index(['NONE', 'SIGNAL', 'STOPSIGN', 'RFB-BCN', 'FLSH-BCN'], dtype='object')"
      ]
     },
     "execution_count": 30,
     "metadata": {},
     "output_type": "execute_result"
    }
   ],
   "source": [
    "distinct_xw['crosswalk_control'].value_counts().index"
   ]
  },
  {
   "cell_type": "code",
   "execution_count": 31,
   "metadata": {},
   "outputs": [],
   "source": [
    "cond_dict = {'GOOD':2, 'POOR':0, 'FAIR':1}\n",
    "distinct_xw['condition'] = distinct_xw['condition'].map(cond_dict)"
   ]
  },
  {
   "cell_type": "code",
   "execution_count": 32,
   "metadata": {},
   "outputs": [],
   "source": [
    "distinct_xw['primarydistrictcd'] = distinct_xw['primarydistrictcd'].apply(lambda x: int(x[-1]))"
   ]
  },
  {
   "cell_type": "code",
   "execution_count": 33,
   "metadata": {},
   "outputs": [],
   "source": [
    "# approach_dict = {'E':1, 'N':0, 'S':2, 'W':3, 'NE':1, 'NW':0, 'SE':2, 'SW':3, 'C':4}\n",
    "# distinct_xw['approach'] = distinct_xw['approach'].map(approach_dict)"
   ]
  },
  {
   "cell_type": "code",
   "execution_count": 34,
   "metadata": {},
   "outputs": [],
   "source": [
    "marking_dict = {'LADER':0, 'PARSL':1, 'BRICK':2, 'CUSTOM':3, 'OTHER':4}\n",
    "distinct_xw['marking_type'] = distinct_xw['marking_type'].map(marking_dict)"
   ]
  },
  {
   "cell_type": "code",
   "execution_count": 35,
   "metadata": {},
   "outputs": [],
   "source": [
    "color_dict = {'WHT':0, 'RAINBOW':1, 'NONE':2, 'GRY':3, 'RED':4}\n",
    "distinct_xw['color'] = distinct_xw['color'].map(color_dict)"
   ]
  },
  {
   "cell_type": "code",
   "execution_count": 36,
   "metadata": {},
   "outputs": [],
   "source": [
    "maintdist_dict = {'CENTRAL':0, 'SOUTH':1, 'NORTH':2, 'SW':3}\n",
    "distinct_xw['maint_district'] = distinct_xw['maint_district'].map(maintdist_dict)"
   ]
  },
  {
   "cell_type": "code",
   "execution_count": 37,
   "metadata": {},
   "outputs": [],
   "source": [
    "xwcontrol_dict = {'NONE':0, 'SIGNAL':1, 'STOPSIGN':2, 'RFB-BCN':3, 'FLSH-BCN':4}\n",
    "distinct_xw['crosswalk_control'] = distinct_xw['crosswalk_control'].map(xwcontrol_dict)"
   ]
  },
  {
   "cell_type": "code",
   "execution_count": 38,
   "metadata": {},
   "outputs": [],
   "source": [
    "X = distinct_xw.drop(columns=['crosswalkkey', 'approach']).copy()"
   ]
  },
  {
   "cell_type": "code",
   "execution_count": 39,
   "metadata": {},
   "outputs": [],
   "source": [
    "y = (y > 0).astype(int)"
   ]
  },
  {
   "cell_type": "code",
   "execution_count": 40,
   "metadata": {},
   "outputs": [],
   "source": [
    "rf_kfold = RandomForestClassifier(n_estimators=400)\n",
    "\n",
    "mses = []\n",
    "accuracies = []\n",
    "precisions = []\n",
    "recalls = []\n",
    "    \n",
    "fprs = []\n",
    "tprs = []\n",
    "thresholds = []\n",
    "\n",
    "feat_importances = []\n",
    "\n",
    "kf = KFold(n_splits=5, shuffle=True)\n",
    "\n",
    "for i, (train_index, test_index) in enumerate(kf.split(X, y)):\n",
    "            X_train, X_test = X.iloc[train_index], X.iloc[test_index]\n",
    "            y_train, y_test = y.iloc[train_index], y.iloc[test_index]\n",
    "            \n",
    "            rf_kfold.fit(X_train, y_train)\n",
    "            pred = rf_kfold.predict(X_test)\n",
    "            proba = rf_kfold.predict_proba(X_test)\n",
    "\n",
    "            feat_importances.append(rf_kfold.feature_importances_)\n",
    "            \n",
    "            #mean squared error of the y_test values and the predicted\n",
    "            err = mean_squared_error(y_test, pred)\n",
    "            mses.append(err)\n",
    "\n",
    "            #accuracy scores\n",
    "            accu = accuracy_score(y_test, pred)\n",
    "            accuracies.append(accu)\n",
    "\n",
    "            #precision scores\n",
    "            precise = precision_score(y_test, pred)\n",
    "            precisions.append(precise)\n",
    "\n",
    "            #recall scores\n",
    "            recall = recall_score(y_test, pred)\n",
    "            recalls.append(recall)\n",
    "            \n",
    "            roc_auc = roc_auc_score(y_test, pred)\n",
    "\n",
    "            fpr_val, tpr_val, thresholds_val = roc_curve(y_test, proba[:, 1])\n",
    "\n",
    "            fprs.append(fpr_val)\n",
    "            tprs.append(tpr_val)\n",
    "            thresholds.append(thresholds_val)"
   ]
  },
  {
   "cell_type": "code",
   "execution_count": 41,
   "metadata": {},
   "outputs": [
    {
     "name": "stdout",
     "output_type": "stream",
     "text": [
      "     Average Accuracy Score  : 0.62186\n",
      "     Average Precision Score : 0.44834\n",
      "     Average Recall Score    : 0.17276\n",
      "     Average MSE Score       : 0.37814\n",
      "     ROC AUC Score           : 0.53\n"
     ]
    }
   ],
   "source": [
    "print(f'     Average Accuracy Score  : {np.mean(accuracies):2.5f}')\n",
    "print(f'     Average Precision Score : {np.mean(precisions):2.5f}')\n",
    "print(f'     Average Recall Score    : {np.mean(recalls):2.5f}')\n",
    "print(f'     Average MSE Score       : {np.mean(mses):2.5f}')\n",
    "print(f'     ROC AUC Score           : {roc_auc:2.2f}')"
   ]
  },
  {
   "cell_type": "code",
   "execution_count": 42,
   "metadata": {},
   "outputs": [
    {
     "data": {
      "image/png": "[encoded data removed]",
      "text/plain": [
       "<Figure size 720x576 with 1 Axes>"
      ]
     },
     "metadata": {
      "needs_background": "light"
     },
     "output_type": "display_data"
    }
   ],
   "source": [
    "fig, ax = plt.subplots(figsize=(10,8))\n",
    "\n",
    "for i in range(len(fprs)):\n",
    "    ax.plot(fprs[i], tprs[i], linewidth=1)\n",
    "    ax.plot([0,1], [0,1], linewidth=0.7)\n",
    "    ax.grid(False)\n",
    "    ax.set_xlabel('False Positive Rate')\n",
    "    ax.set_ylabel('True Positive Rate (Recall)')\n",
    "    ax.set_title('Blocks: Random Forest ROC Curve (5 kfolds)')\n",
    "ax.legend([f'AUC: {roc_auc:2.2f}'])\n",
    "    \n",
    "plt.savefig('../reports/figures/crosswalks_rf_kfolds.png')"
   ]
  },
  {
   "cell_type": "code",
   "execution_count": 44,
   "metadata": {},
   "outputs": [
    {
     "data": {
      "image/png": "[encoded data removed]",
      "text/plain": [
       "<Figure size 1080x720 with 1 Axes>"
      ]
     },
     "metadata": {
      "needs_background": "light"
     },
     "output_type": "display_data"
    }
   ],
   "source": [
    "# Plot the feature importance\n",
    "fig, ax = plt.subplots(figsize=(15,10))\n",
    "\n",
    "feat_scores = pd.DataFrame({'Fraction of Samples Affected' : rf_kfold.feature_importances_},\n",
    "                           index=X.columns)\n",
    "feat_scores = feat_scores.sort_values(by='Fraction of Samples Affected')\n",
    "# ax = barh(feat_scores.index, feat_scores['Fraction of Samples Affected'])\n",
    "ax = feat_scores['Fraction of Samples Affected'].plot(kind='barh')\n",
    "ax.set_title('Crosswalks: Random Forest Feature Importance', fontsize=20);\n",
    "\n",
    "plt.savefig('../reports/figures/crosswalks_rf_featimportance.png')"
   ]
  },
  {
   "cell_type": "code",
   "execution_count": null,
   "metadata": {},
   "outputs": [],
   "source": []
  }
 ],
 "metadata": {
  "kernelspec": {
   "display_name": "Python 3.7.0 64-bit ('anaconda3': virtualenv)",
   "language": "python",
   "name": "python37064bitanaconda3virtualenvdc59f3b7c1d64353bf7dcc6d7e32f36c"
  },
  "language_info": {
   "codemirror_mode": {
    "name": "ipython",
    "version": 3
   },
   "file_extension": ".py",
   "mimetype": "text/x-python",
   "name": "python",
   "nbconvert_exporter": "python",
   "pygments_lexer": "ipython3",
   "version": "3.7.0"
  }
 },
 "nbformat": 4,
 "nbformat_minor": 2
}
