{
 "cells": [
  {
   "cell_type": "code",
   "execution_count": 69,
   "metadata": {},
   "outputs": [
    {
     "name": "stdout",
     "output_type": "stream",
     "text": [
      "The autoreload extension is already loaded. To reload it, use:\n",
      "  %reload_ext autoreload\n"
     ]
    }
   ],
   "source": [
    "# Import Modules\n",
    "import numpy as np\n",
    "import pandas as pd\n",
    "import seaborn as sns\n",
    "import matplotlib.pyplot as plt\n",
    "\n",
    "#modeling tools\n",
    "import statsmodels.api as sm\n",
    "\n",
    "import lightgbm as lgb\n",
    "\n",
    "from sklearn.tree import DecisionTreeRegressor, DecisionTreeClassifier\n",
    "from sklearn.ensemble import GradientBoostingClassifier, RandomForestClassifier, RandomForestRegressor\n",
    "from sklearn.metrics import mean_squared_error, confusion_matrix, auc, roc_auc_score, roc_curve, log_loss, make_scorer\n",
    "from sklearn.model_selection import cross_val_score, train_test_split, GridSearchCV\n",
    "\n",
    "%matplotlib inline\n",
    "plt.style.use('dark_background')\n",
    "\n",
    "import warnings\n",
    "warnings.filterwarnings('ignore')\n",
    "\n",
    "%load_ext autoreload\n",
    "%autoreload 2\n",
    "\n",
    "pd.set_option('display.min_row', 15)\n",
    "pd.set_option('display.max_column', 100)\n",
    "pd.set_option('display.max_colwidth', 300)"
   ]
  },
  {
   "cell_type": "code",
   "execution_count": 70,
   "metadata": {},
   "outputs": [],
   "source": [
    "clean_data = pd.read_pickle('../data/processed/cleaned_data.pkl')\n",
    "intersection_n = pd.read_pickle('../data/processed/intersection_w_normalization.pkl')\n",
    "\n",
    "# crosswalks = pd.read_csv('../data/Marked_Crosswalks.csv')\n",
    "circles = pd.read_csv('../data/Traffic_Circles.csv')\n",
    "intersections = pd.read_csv('../data/Intersections.csv')"
   ]
  },
  {
   "cell_type": "markdown",
   "metadata": {},
   "source": [
    "## Intersections"
   ]
  },
  {
   "cell_type": "code",
   "execution_count": 71,
   "metadata": {},
   "outputs": [],
   "source": [
    "# lower case the column names\n",
    "\n",
    "intersections.columns = intersections.columns.map(str.lower)\n",
    "clean_data.columns = clean_data.columns.map(str.lower)"
   ]
  },
  {
   "cell_type": "code",
   "execution_count": 72,
   "metadata": {},
   "outputs": [
    {
     "data": {
      "text/plain": [
       "Index(['x', 'y', 'objectid', 'intr_id', 'gis_xcoord', 'gis_ycoord', 'intkey',\n",
       "       'comptype', 'unitid', 'subarea', 'unitdesc', 'arterialclasscd',\n",
       "       'signal_maint_dist', 'signal_type', 'shape_lng', 'shape_lat'],\n",
       "      dtype='object')"
      ]
     },
     "execution_count": 72,
     "metadata": {},
     "output_type": "execute_result"
    }
   ],
   "source": [
    "# COMPKEY in Intersections is INTKEY\n",
    "\n",
    "intersections.rename(columns={'compkey': 'intkey'}, inplace=True)\n",
    "intersections.columns"
   ]
  },
  {
   "cell_type": "markdown",
   "metadata": {},
   "source": [
    "#### merge intersections with collisions"
   ]
  },
  {
   "cell_type": "code",
   "execution_count": 73,
   "metadata": {},
   "outputs": [
    {
     "data": {
      "text/plain": [
       "7576"
      ]
     },
     "execution_count": 73,
     "metadata": {},
     "output_type": "execute_result"
    }
   ],
   "source": [
    "# Used to make sure number of rows are correct when merging\n",
    "\n",
    "len(np.intersect1d(intersections['intkey'], clean_data['intkey']))"
   ]
  },
  {
   "cell_type": "code",
   "execution_count": 74,
   "metadata": {},
   "outputs": [],
   "source": [
    "# Create dataframe with only intersections that are also in the collisions data\n",
    "\n",
    "intersections_accidents = clean_data[clean_data['intkey'].isin(intersections['intkey'])].copy()"
   ]
  },
  {
   "cell_type": "code",
   "execution_count": 75,
   "metadata": {},
   "outputs": [
    {
     "data": {
      "text/html": [
       "<div>\n",
       "<style scoped>\n",
       "    .dataframe tbody tr th:only-of-type {\n",
       "        vertical-align: middle;\n",
       "    }\n",
       "\n",
       "    .dataframe tbody tr th {\n",
       "        vertical-align: top;\n",
       "    }\n",
       "\n",
       "    .dataframe thead th {\n",
       "        text-align: right;\n",
       "    }\n",
       "</style>\n",
       "<table border=\"1\" class=\"dataframe\">\n",
       "  <thead>\n",
       "    <tr style=\"text-align: right;\">\n",
       "      <th></th>\n",
       "      <th>x</th>\n",
       "      <th>y</th>\n",
       "      <th>objectid</th>\n",
       "      <th>inckey</th>\n",
       "      <th>addrtype</th>\n",
       "      <th>intkey</th>\n",
       "      <th>location</th>\n",
       "      <th>personcount</th>\n",
       "      <th>pedcount</th>\n",
       "      <th>pedcylcount</th>\n",
       "      <th>vehcount</th>\n",
       "      <th>injuries</th>\n",
       "      <th>seriousinjuries</th>\n",
       "      <th>fatalities</th>\n",
       "      <th>incdate</th>\n",
       "      <th>junctiontype</th>\n",
       "      <th>sdot_colcode</th>\n",
       "      <th>underinfl</th>\n",
       "      <th>st_colcode</th>\n",
       "      <th>crosswalkkey</th>\n",
       "      <th>speeding_y</th>\n",
       "      <th>inattentionind_y</th>\n",
       "      <th>hitparkedcar_y</th>\n",
       "      <th>pedrownotgrnt_y</th>\n",
       "      <th>weather_adverse</th>\n",
       "      <th>weather_good</th>\n",
       "      <th>weather_unknown</th>\n",
       "      <th>roadcond_adverse</th>\n",
       "      <th>roadcond_dry</th>\n",
       "      <th>roadcond_unknown</th>\n",
       "      <th>lightcond_dark</th>\n",
       "      <th>lightcond_daylight</th>\n",
       "      <th>lightcond_unknown</th>\n",
       "      <th>lightcond_verydark</th>\n",
       "      <th>severitycode_injury</th>\n",
       "      <th>severitycode_propertydamage</th>\n",
       "      <th>severitycode_unknown</th>\n",
       "    </tr>\n",
       "    <tr>\n",
       "      <th>Datetime</th>\n",
       "      <th></th>\n",
       "      <th></th>\n",
       "      <th></th>\n",
       "      <th></th>\n",
       "      <th></th>\n",
       "      <th></th>\n",
       "      <th></th>\n",
       "      <th></th>\n",
       "      <th></th>\n",
       "      <th></th>\n",
       "      <th></th>\n",
       "      <th></th>\n",
       "      <th></th>\n",
       "      <th></th>\n",
       "      <th></th>\n",
       "      <th></th>\n",
       "      <th></th>\n",
       "      <th></th>\n",
       "      <th></th>\n",
       "      <th></th>\n",
       "      <th></th>\n",
       "      <th></th>\n",
       "      <th></th>\n",
       "      <th></th>\n",
       "      <th></th>\n",
       "      <th></th>\n",
       "      <th></th>\n",
       "      <th></th>\n",
       "      <th></th>\n",
       "      <th></th>\n",
       "      <th></th>\n",
       "      <th></th>\n",
       "      <th></th>\n",
       "      <th></th>\n",
       "      <th></th>\n",
       "      <th></th>\n",
       "      <th></th>\n",
       "    </tr>\n",
       "  </thead>\n",
       "  <tbody>\n",
       "    <tr>\n",
       "      <th>2004-01-01</th>\n",
       "      <td>-122.320780</td>\n",
       "      <td>47.614076</td>\n",
       "      <td>14172</td>\n",
       "      <td>26463</td>\n",
       "      <td>Intersection</td>\n",
       "      <td>29745.0</td>\n",
       "      <td>BROADWAY AND E PIKE ST</td>\n",
       "      <td>4</td>\n",
       "      <td>0</td>\n",
       "      <td>0</td>\n",
       "      <td>2</td>\n",
       "      <td>1</td>\n",
       "      <td>0</td>\n",
       "      <td>0</td>\n",
       "      <td>2004/01/01 00:00:00+00</td>\n",
       "      <td>At Intersection (intersection related)</td>\n",
       "      <td>11.0</td>\n",
       "      <td>0</td>\n",
       "      <td>28</td>\n",
       "      <td>0</td>\n",
       "      <td>0</td>\n",
       "      <td>0</td>\n",
       "      <td>0</td>\n",
       "      <td>0</td>\n",
       "      <td>0</td>\n",
       "      <td>1</td>\n",
       "      <td>0</td>\n",
       "      <td>1</td>\n",
       "      <td>0</td>\n",
       "      <td>0</td>\n",
       "      <td>1</td>\n",
       "      <td>0</td>\n",
       "      <td>0</td>\n",
       "      <td>0</td>\n",
       "      <td>1</td>\n",
       "      <td>0</td>\n",
       "      <td>0</td>\n",
       "    </tr>\n",
       "    <tr>\n",
       "      <th>2004-01-01</th>\n",
       "      <td>-122.255895</td>\n",
       "      <td>47.509705</td>\n",
       "      <td>13453</td>\n",
       "      <td>27093</td>\n",
       "      <td>Intersection</td>\n",
       "      <td>38228.0</td>\n",
       "      <td>62ND AVE S AND S RYAN ST</td>\n",
       "      <td>3</td>\n",
       "      <td>0</td>\n",
       "      <td>0</td>\n",
       "      <td>2</td>\n",
       "      <td>1</td>\n",
       "      <td>0</td>\n",
       "      <td>0</td>\n",
       "      <td>2004/01/01 00:00:00+00</td>\n",
       "      <td>At Intersection (intersection related)</td>\n",
       "      <td>11.0</td>\n",
       "      <td>0</td>\n",
       "      <td>10</td>\n",
       "      <td>0</td>\n",
       "      <td>0</td>\n",
       "      <td>0</td>\n",
       "      <td>0</td>\n",
       "      <td>0</td>\n",
       "      <td>1</td>\n",
       "      <td>0</td>\n",
       "      <td>0</td>\n",
       "      <td>1</td>\n",
       "      <td>0</td>\n",
       "      <td>0</td>\n",
       "      <td>0</td>\n",
       "      <td>1</td>\n",
       "      <td>0</td>\n",
       "      <td>0</td>\n",
       "      <td>1</td>\n",
       "      <td>0</td>\n",
       "      <td>0</td>\n",
       "    </tr>\n",
       "    <tr>\n",
       "      <th>2004-01-01</th>\n",
       "      <td>-122.348859</td>\n",
       "      <td>47.619744</td>\n",
       "      <td>13420</td>\n",
       "      <td>26978</td>\n",
       "      <td>Intersection</td>\n",
       "      <td>28934.0</td>\n",
       "      <td>4TH AVE N AND BROAD ST</td>\n",
       "      <td>2</td>\n",
       "      <td>0</td>\n",
       "      <td>0</td>\n",
       "      <td>2</td>\n",
       "      <td>0</td>\n",
       "      <td>0</td>\n",
       "      <td>0</td>\n",
       "      <td>2004/01/01 00:00:00+00</td>\n",
       "      <td>At Intersection (intersection related)</td>\n",
       "      <td>11.0</td>\n",
       "      <td>0</td>\n",
       "      <td>10</td>\n",
       "      <td>0</td>\n",
       "      <td>0</td>\n",
       "      <td>1</td>\n",
       "      <td>0</td>\n",
       "      <td>0</td>\n",
       "      <td>1</td>\n",
       "      <td>0</td>\n",
       "      <td>0</td>\n",
       "      <td>1</td>\n",
       "      <td>0</td>\n",
       "      <td>0</td>\n",
       "      <td>1</td>\n",
       "      <td>0</td>\n",
       "      <td>0</td>\n",
       "      <td>0</td>\n",
       "      <td>0</td>\n",
       "      <td>1</td>\n",
       "      <td>0</td>\n",
       "    </tr>\n",
       "  </tbody>\n",
       "</table>\n",
       "</div>"
      ],
      "text/plain": [
       "                     x          y  objectid  inckey      addrtype   intkey  \\\n",
       "Datetime                                                                     \n",
       "2004-01-01 -122.320780  47.614076     14172   26463  Intersection  29745.0   \n",
       "2004-01-01 -122.255895  47.509705     13453   27093  Intersection  38228.0   \n",
       "2004-01-01 -122.348859  47.619744     13420   26978  Intersection  28934.0   \n",
       "\n",
       "                            location  personcount  pedcount  pedcylcount  \\\n",
       "Datetime                                                                   \n",
       "2004-01-01    BROADWAY AND E PIKE ST            4         0            0   \n",
       "2004-01-01  62ND AVE S AND S RYAN ST            3         0            0   \n",
       "2004-01-01    4TH AVE N AND BROAD ST            2         0            0   \n",
       "\n",
       "            vehcount  injuries  seriousinjuries  fatalities  \\\n",
       "Datetime                                                      \n",
       "2004-01-01         2         1                0           0   \n",
       "2004-01-01         2         1                0           0   \n",
       "2004-01-01         2         0                0           0   \n",
       "\n",
       "                           incdate                            junctiontype  \\\n",
       "Datetime                                                                     \n",
       "2004-01-01  2004/01/01 00:00:00+00  At Intersection (intersection related)   \n",
       "2004-01-01  2004/01/01 00:00:00+00  At Intersection (intersection related)   \n",
       "2004-01-01  2004/01/01 00:00:00+00  At Intersection (intersection related)   \n",
       "\n",
       "            sdot_colcode  underinfl st_colcode  crosswalkkey  speeding_y  \\\n",
       "Datetime                                                                   \n",
       "2004-01-01          11.0          0         28             0           0   \n",
       "2004-01-01          11.0          0         10             0           0   \n",
       "2004-01-01          11.0          0         10             0           0   \n",
       "\n",
       "            inattentionind_y  hitparkedcar_y  pedrownotgrnt_y  \\\n",
       "Datetime                                                        \n",
       "2004-01-01                 0               0                0   \n",
       "2004-01-01                 0               0                0   \n",
       "2004-01-01                 1               0                0   \n",
       "\n",
       "            weather_adverse  weather_good  weather_unknown  roadcond_adverse  \\\n",
       "Datetime                                                                       \n",
       "2004-01-01                0             1                0                 1   \n",
       "2004-01-01                1             0                0                 1   \n",
       "2004-01-01                1             0                0                 1   \n",
       "\n",
       "            roadcond_dry  roadcond_unknown  lightcond_dark  \\\n",
       "Datetime                                                     \n",
       "2004-01-01             0                 0               1   \n",
       "2004-01-01             0                 0               0   \n",
       "2004-01-01             0                 0               1   \n",
       "\n",
       "            lightcond_daylight  lightcond_unknown  lightcond_verydark  \\\n",
       "Datetime                                                                \n",
       "2004-01-01                   0                  0                   0   \n",
       "2004-01-01                   1                  0                   0   \n",
       "2004-01-01                   0                  0                   0   \n",
       "\n",
       "            severitycode_injury  severitycode_propertydamage  \\\n",
       "Datetime                                                       \n",
       "2004-01-01                    1                            0   \n",
       "2004-01-01                    1                            0   \n",
       "2004-01-01                    0                            1   \n",
       "\n",
       "            severitycode_unknown  \n",
       "Datetime                          \n",
       "2004-01-01                     0  \n",
       "2004-01-01                     0  \n",
       "2004-01-01                     0  "
      ]
     },
     "execution_count": 75,
     "metadata": {},
     "output_type": "execute_result"
    }
   ],
   "source": [
    "intersections_accidents.head(3)"
   ]
  },
  {
   "cell_type": "code",
   "execution_count": 76,
   "metadata": {},
   "outputs": [],
   "source": [
    "# reset index to extract year\n",
    "intersections_accidents.reset_index(inplace=True)\n",
    "intersections_accidents['year'] = intersections_accidents['Datetime'].apply(lambda x: x.year)\n",
    "intersections_accidents['month'] = intersections_accidents['Datetime'].apply(lambda x: x.month)\n",
    "intersections_accidents['hour'] = intersections_accidents['Datetime'].apply(lambda x: x.hour)"
   ]
  },
  {
   "cell_type": "code",
   "execution_count": 77,
   "metadata": {},
   "outputs": [
    {
     "data": {
      "text/plain": [
       "Intersection    65481\n",
       "Name: addrtype, dtype: int64"
      ]
     },
     "execution_count": 77,
     "metadata": {},
     "output_type": "execute_result"
    }
   ],
   "source": [
    "intersections_accidents['addrtype'].value_counts()"
   ]
  },
  {
   "cell_type": "code",
   "execution_count": 78,
   "metadata": {},
   "outputs": [
    {
     "data": {
      "text/plain": [
       "Index(['Datetime', 'x', 'y', 'objectid', 'inckey', 'addrtype', 'intkey',\n",
       "       'location', 'personcount', 'pedcount', 'pedcylcount', 'vehcount',\n",
       "       'injuries', 'seriousinjuries', 'fatalities', 'incdate', 'junctiontype',\n",
       "       'sdot_colcode', 'underinfl', 'st_colcode', 'crosswalkkey', 'speeding_y',\n",
       "       'inattentionind_y', 'hitparkedcar_y', 'pedrownotgrnt_y',\n",
       "       'weather_adverse', 'weather_good', 'weather_unknown',\n",
       "       'roadcond_adverse', 'roadcond_dry', 'roadcond_unknown',\n",
       "       'lightcond_dark', 'lightcond_daylight', 'lightcond_unknown',\n",
       "       'lightcond_verydark', 'severitycode_injury',\n",
       "       'severitycode_propertydamage', 'severitycode_unknown', 'year', 'month',\n",
       "       'hour'],\n",
       "      dtype='object')"
      ]
     },
     "execution_count": 78,
     "metadata": {},
     "output_type": "execute_result"
    }
   ],
   "source": [
    "intersections_accidents.columns"
   ]
  },
  {
   "cell_type": "code",
   "execution_count": 79,
   "metadata": {},
   "outputs": [],
   "source": [
    "'''\n",
    "KEEP COLUMNS: [['intkey', 'year', 'pedcount', 'pedcylcount', \n",
    "'vehcount', 'injuries', 'seriousinjuries', 'fatalities', 'inattentionind_y']]\n",
    "'''\n",
    "\n",
    "temp = intersections_accidents[['intkey', 'year', 'month', 'hour', 'pedcount', 'pedcylcount', 'vehcount', \n",
    "                         'injuries', 'seriousinjuries', 'fatalities', 'inattentionind_y']].copy()"
   ]
  },
  {
   "cell_type": "code",
   "execution_count": 80,
   "metadata": {},
   "outputs": [],
   "source": [
    "# Group by the intkey, year, month and hour to sum collisions of each intersection over the years\n",
    "\n",
    "int_acc = temp.groupby(['intkey', 'year', 'month', 'hour']).sum().reset_index()"
   ]
  },
  {
   "cell_type": "code",
   "execution_count": 81,
   "metadata": {},
   "outputs": [],
   "source": [
    "inter_collisions = intersections.merge(int_acc, how='left', on='intkey')"
   ]
  },
  {
   "cell_type": "markdown",
   "metadata": {},
   "source": [
    "## EDA and clean data"
   ]
  },
  {
   "cell_type": "code",
   "execution_count": 82,
   "metadata": {},
   "outputs": [
    {
     "data": {
      "text/plain": [
       "(72699, 26)"
      ]
     },
     "execution_count": 82,
     "metadata": {},
     "output_type": "execute_result"
    }
   ],
   "source": [
    "inter_collisions.shape"
   ]
  },
  {
   "cell_type": "code",
   "execution_count": 83,
   "metadata": {},
   "outputs": [
    {
     "data": {
      "text/plain": [
       "Index(['x', 'y', 'objectid', 'intr_id', 'gis_xcoord', 'gis_ycoord', 'intkey',\n",
       "       'comptype', 'unitid', 'subarea', 'unitdesc', 'arterialclasscd',\n",
       "       'signal_maint_dist', 'signal_type', 'shape_lng', 'shape_lat', 'year',\n",
       "       'month', 'hour', 'pedcount', 'pedcylcount', 'vehcount', 'injuries',\n",
       "       'seriousinjuries', 'fatalities', 'inattentionind_y'],\n",
       "      dtype='object')"
      ]
     },
     "execution_count": 83,
     "metadata": {},
     "output_type": "execute_result"
    }
   ],
   "source": [
    "inter_collisions.columns"
   ]
  },
  {
   "cell_type": "code",
   "execution_count": 84,
   "metadata": {},
   "outputs": [],
   "source": [
    "# is intr_id connected to another dataset?\n",
    "\n",
    "to_drop = ['objectid', 'x', 'y', 'gis_xcoord', 'gis_ycoord', 'comptype', 'unitid', 'signal_maint_dist']\n",
    "\n",
    "inter_collisions.drop(columns=to_drop, inplace=True)"
   ]
  },
  {
   "cell_type": "code",
   "execution_count": 85,
   "metadata": {},
   "outputs": [
    {
     "data": {
      "text/plain": [
       "intr_id                0\n",
       "intkey                 0\n",
       "subarea                0\n",
       "unitdesc               0\n",
       "arterialclasscd       20\n",
       "signal_type            0\n",
       "shape_lng              0\n",
       "shape_lat              0\n",
       "year                7865\n",
       "month               7865\n",
       "hour                7865\n",
       "pedcount            7865\n",
       "pedcylcount         7865\n",
       "vehcount            7865\n",
       "injuries            7865\n",
       "seriousinjuries     7865\n",
       "fatalities          7865\n",
       "inattentionind_y    7865\n",
       "dtype: int64"
      ]
     },
     "execution_count": 85,
     "metadata": {},
     "output_type": "execute_result"
    }
   ],
   "source": [
    "inter_collisions.isnull().sum()"
   ]
  },
  {
   "cell_type": "markdown",
   "metadata": {},
   "source": [
    "We will fill the arterial class missing values first before apply 0 for the rest of the missing values."
   ]
  },
  {
   "cell_type": "code",
   "execution_count": 86,
   "metadata": {},
   "outputs": [
    {
     "data": {
      "text/html": [
       "<div>\n",
       "<style scoped>\n",
       "    .dataframe tbody tr th:only-of-type {\n",
       "        vertical-align: middle;\n",
       "    }\n",
       "\n",
       "    .dataframe tbody tr th {\n",
       "        vertical-align: top;\n",
       "    }\n",
       "\n",
       "    .dataframe thead th {\n",
       "        text-align: right;\n",
       "    }\n",
       "</style>\n",
       "<table border=\"1\" class=\"dataframe\">\n",
       "  <thead>\n",
       "    <tr style=\"text-align: right;\">\n",
       "      <th></th>\n",
       "      <th>intr_id</th>\n",
       "      <th>intkey</th>\n",
       "      <th>subarea</th>\n",
       "      <th>unitdesc</th>\n",
       "      <th>arterialclasscd</th>\n",
       "      <th>signal_type</th>\n",
       "      <th>shape_lng</th>\n",
       "      <th>shape_lat</th>\n",
       "      <th>year</th>\n",
       "      <th>month</th>\n",
       "      <th>hour</th>\n",
       "      <th>pedcount</th>\n",
       "      <th>pedcylcount</th>\n",
       "      <th>vehcount</th>\n",
       "      <th>injuries</th>\n",
       "      <th>seriousinjuries</th>\n",
       "      <th>fatalities</th>\n",
       "      <th>inattentionind_y</th>\n",
       "    </tr>\n",
       "  </thead>\n",
       "  <tbody>\n",
       "    <tr>\n",
       "      <th>218</th>\n",
       "      <td>18220</td>\n",
       "      <td>286961</td>\n",
       "      <td>GRDWM</td>\n",
       "      <td>DUWAMISH RIVER TRL AND S HENDERSON ST</td>\n",
       "      <td>NaN</td>\n",
       "      <td>NONE</td>\n",
       "      <td>-122.320599</td>\n",
       "      <td>47.523059</td>\n",
       "      <td>NaN</td>\n",
       "      <td>NaN</td>\n",
       "      <td>NaN</td>\n",
       "      <td>NaN</td>\n",
       "      <td>NaN</td>\n",
       "      <td>NaN</td>\n",
       "      <td>NaN</td>\n",
       "      <td>NaN</td>\n",
       "      <td>NaN</td>\n",
       "      <td>NaN</td>\n",
       "    </tr>\n",
       "    <tr>\n",
       "      <th>4015</th>\n",
       "      <td>14981</td>\n",
       "      <td>164765</td>\n",
       "      <td>SE</td>\n",
       "      <td>31ST AVE S AND DEAD END 1</td>\n",
       "      <td>NaN</td>\n",
       "      <td>NONE</td>\n",
       "      <td>-122.292444</td>\n",
       "      <td>47.567429</td>\n",
       "      <td>NaN</td>\n",
       "      <td>NaN</td>\n",
       "      <td>NaN</td>\n",
       "      <td>NaN</td>\n",
       "      <td>NaN</td>\n",
       "      <td>NaN</td>\n",
       "      <td>NaN</td>\n",
       "      <td>NaN</td>\n",
       "      <td>NaN</td>\n",
       "      <td>NaN</td>\n",
       "    </tr>\n",
       "    <tr>\n",
       "      <th>12166</th>\n",
       "      <td>12413</td>\n",
       "      <td>30483</td>\n",
       "      <td>DWNTN</td>\n",
       "      <td>3RD AVE AND XW JEFFERSON</td>\n",
       "      <td>NaN</td>\n",
       "      <td>MIDXWALK</td>\n",
       "      <td>-122.330756</td>\n",
       "      <td>47.602056</td>\n",
       "      <td>2018.0</td>\n",
       "      <td>6.0</td>\n",
       "      <td>11.0</td>\n",
       "      <td>1.0</td>\n",
       "      <td>0.0</td>\n",
       "      <td>1.0</td>\n",
       "      <td>1.0</td>\n",
       "      <td>0.0</td>\n",
       "      <td>0.0</td>\n",
       "      <td>0.0</td>\n",
       "    </tr>\n",
       "    <tr>\n",
       "      <th>36231</th>\n",
       "      <td>46498</td>\n",
       "      <td>36645</td>\n",
       "      <td>N</td>\n",
       "      <td>NE 125TH ST AND XW 26NE-27NE</td>\n",
       "      <td>NaN</td>\n",
       "      <td>MIDXWALK</td>\n",
       "      <td>-122.299554</td>\n",
       "      <td>47.719303</td>\n",
       "      <td>2006.0</td>\n",
       "      <td>5.0</td>\n",
       "      <td>17.0</td>\n",
       "      <td>1.0</td>\n",
       "      <td>0.0</td>\n",
       "      <td>1.0</td>\n",
       "      <td>1.0</td>\n",
       "      <td>1.0</td>\n",
       "      <td>0.0</td>\n",
       "      <td>0.0</td>\n",
       "    </tr>\n",
       "    <tr>\n",
       "      <th>51018</th>\n",
       "      <td>46441</td>\n",
       "      <td>288331</td>\n",
       "      <td>E</td>\n",
       "      <td>E JAMES WAY AND XW 10TH AVE</td>\n",
       "      <td>NaN</td>\n",
       "      <td>MIDXWALK</td>\n",
       "      <td>-122.319314</td>\n",
       "      <td>47.607829</td>\n",
       "      <td>2005.0</td>\n",
       "      <td>10.0</td>\n",
       "      <td>17.0</td>\n",
       "      <td>1.0</td>\n",
       "      <td>0.0</td>\n",
       "      <td>1.0</td>\n",
       "      <td>1.0</td>\n",
       "      <td>0.0</td>\n",
       "      <td>0.0</td>\n",
       "      <td>0.0</td>\n",
       "    </tr>\n",
       "  </tbody>\n",
       "</table>\n",
       "</div>"
      ],
      "text/plain": [
       "       intr_id  intkey subarea                               unitdesc  \\\n",
       "218      18220  286961   GRDWM  DUWAMISH RIVER TRL AND S HENDERSON ST   \n",
       "4015     14981  164765      SE              31ST AVE S AND DEAD END 1   \n",
       "12166    12413   30483   DWNTN               3RD AVE AND XW JEFFERSON   \n",
       "36231    46498   36645       N           NE 125TH ST AND XW 26NE-27NE   \n",
       "51018    46441  288331       E            E JAMES WAY AND XW 10TH AVE   \n",
       "\n",
       "       arterialclasscd signal_type   shape_lng  shape_lat    year  month  \\\n",
       "218                NaN        NONE -122.320599  47.523059     NaN    NaN   \n",
       "4015               NaN        NONE -122.292444  47.567429     NaN    NaN   \n",
       "12166              NaN    MIDXWALK -122.330756  47.602056  2018.0    6.0   \n",
       "36231              NaN    MIDXWALK -122.299554  47.719303  2006.0    5.0   \n",
       "51018              NaN    MIDXWALK -122.319314  47.607829  2005.0   10.0   \n",
       "\n",
       "       hour  pedcount  pedcylcount  vehcount  injuries  seriousinjuries  \\\n",
       "218     NaN       NaN          NaN       NaN       NaN              NaN   \n",
       "4015    NaN       NaN          NaN       NaN       NaN              NaN   \n",
       "12166  11.0       1.0          0.0       1.0       1.0              0.0   \n",
       "36231  17.0       1.0          0.0       1.0       1.0              1.0   \n",
       "51018  17.0       1.0          0.0       1.0       1.0              0.0   \n",
       "\n",
       "       fatalities  inattentionind_y  \n",
       "218           NaN               NaN  \n",
       "4015          NaN               NaN  \n",
       "12166         0.0               0.0  \n",
       "36231         0.0               0.0  \n",
       "51018         0.0               0.0  "
      ]
     },
     "execution_count": 86,
     "metadata": {},
     "output_type": "execute_result"
    }
   ],
   "source": [
    "inter_collisions[inter_collisions['arterialclasscd'].isnull()].head(5)"
   ]
  },
  {
   "cell_type": "code",
   "execution_count": 87,
   "metadata": {},
   "outputs": [
    {
     "data": {
      "text/plain": [
       "0    1.0\n",
       "dtype: float64"
      ]
     },
     "execution_count": 87,
     "metadata": {},
     "output_type": "execute_result"
    }
   ],
   "source": [
    "inter_collisions[inter_collisions['signal_type'] == 'MIDXWALK']['arterialclasscd'].mode()"
   ]
  },
  {
   "cell_type": "code",
   "execution_count": 88,
   "metadata": {},
   "outputs": [
    {
     "data": {
      "text/html": [
       "<div>\n",
       "<style scoped>\n",
       "    .dataframe tbody tr th:only-of-type {\n",
       "        vertical-align: middle;\n",
       "    }\n",
       "\n",
       "    .dataframe tbody tr th {\n",
       "        vertical-align: top;\n",
       "    }\n",
       "\n",
       "    .dataframe thead th {\n",
       "        text-align: right;\n",
       "    }\n",
       "</style>\n",
       "<table border=\"1\" class=\"dataframe\">\n",
       "  <thead>\n",
       "    <tr style=\"text-align: right;\">\n",
       "      <th></th>\n",
       "      <th></th>\n",
       "      <th>intr_id</th>\n",
       "      <th>intkey</th>\n",
       "      <th>unitdesc</th>\n",
       "      <th>signal_type</th>\n",
       "      <th>shape_lng</th>\n",
       "      <th>shape_lat</th>\n",
       "      <th>year</th>\n",
       "      <th>month</th>\n",
       "      <th>hour</th>\n",
       "      <th>pedcount</th>\n",
       "      <th>pedcylcount</th>\n",
       "      <th>vehcount</th>\n",
       "      <th>injuries</th>\n",
       "      <th>seriousinjuries</th>\n",
       "      <th>fatalities</th>\n",
       "      <th>inattentionind_y</th>\n",
       "    </tr>\n",
       "    <tr>\n",
       "      <th>subarea</th>\n",
       "      <th>arterialclasscd</th>\n",
       "      <th></th>\n",
       "      <th></th>\n",
       "      <th></th>\n",
       "      <th></th>\n",
       "      <th></th>\n",
       "      <th></th>\n",
       "      <th></th>\n",
       "      <th></th>\n",
       "      <th></th>\n",
       "      <th></th>\n",
       "      <th></th>\n",
       "      <th></th>\n",
       "      <th></th>\n",
       "      <th></th>\n",
       "      <th></th>\n",
       "      <th></th>\n",
       "    </tr>\n",
       "  </thead>\n",
       "  <tbody>\n",
       "    <tr>\n",
       "      <th>LKUN</th>\n",
       "      <th>1.0</th>\n",
       "      <td>276</td>\n",
       "      <td>276</td>\n",
       "      <td>276</td>\n",
       "      <td>276</td>\n",
       "      <td>276</td>\n",
       "      <td>276</td>\n",
       "      <td>276</td>\n",
       "      <td>276</td>\n",
       "      <td>276</td>\n",
       "      <td>276</td>\n",
       "      <td>276</td>\n",
       "      <td>276</td>\n",
       "      <td>276</td>\n",
       "      <td>276</td>\n",
       "      <td>276</td>\n",
       "      <td>276</td>\n",
       "    </tr>\n",
       "  </tbody>\n",
       "</table>\n",
       "</div>"
      ],
      "text/plain": [
       "                         intr_id  intkey  unitdesc  signal_type  shape_lng  \\\n",
       "subarea arterialclasscd                                                      \n",
       "LKUN    1.0                  276     276       276          276        276   \n",
       "\n",
       "                         shape_lat  year  month  hour  pedcount  pedcylcount  \\\n",
       "subarea arterialclasscd                                                        \n",
       "LKUN    1.0                    276   276    276   276       276          276   \n",
       "\n",
       "                         vehcount  injuries  seriousinjuries  fatalities  \\\n",
       "subarea arterialclasscd                                                    \n",
       "LKUN    1.0                   276       276              276         276   \n",
       "\n",
       "                         inattentionind_y  \n",
       "subarea arterialclasscd                    \n",
       "LKUN    1.0                           276  "
      ]
     },
     "execution_count": 88,
     "metadata": {},
     "output_type": "execute_result"
    }
   ],
   "source": [
    "# Dead ends almost always have arterialclasscd of 0\n",
    "# DUWAMISH RIVER TRL all have 0\n",
    "# unitdesc with XW is a 1. MIDXWALK as signal type is typically 1\n",
    "# 33RD AVE E with CNTRL is 0\n",
    "# FAIRVIEW is all 1\n",
    "\n",
    "inter_collisions[inter_collisions['unitdesc'].str.contains('FAIRVIEW AVE N')].groupby(['subarea', 'arterialclasscd']).count()"
   ]
  },
  {
   "cell_type": "code",
   "execution_count": 89,
   "metadata": {},
   "outputs": [],
   "source": [
    "def create_mask(string):\n",
    "    mask = (inter_collisions['unitdesc'].str.contains(string)) & (inter_collisions['arterialclasscd'].isnull())\n",
    "    return mask"
   ]
  },
  {
   "cell_type": "code",
   "execution_count": 90,
   "metadata": {},
   "outputs": [],
   "source": [
    "mask_de = create_mask('DEAD END')\n",
    "mask_xw = create_mask('XW')\n",
    "mask_duwamish = create_mask('DUWAMISH RIVER TRL')\n",
    "mask_fairview = create_mask('FAIRVIEW AVE N')\n",
    "mask_33 = create_mask('33RD AVE E')\n",
    "\n",
    "inter_collisions.loc[mask_de, 'arterialclasscd'] = 0\n",
    "inter_collisions.loc[mask_xw, 'arterialclasscd'] = 1\n",
    "inter_collisions.loc[mask_duwamish, 'arterialclasscd'] = 0\n",
    "inter_collisions.loc[mask_fairview, 'arterialclasscd'] = 1\n",
    "inter_collisions.loc[mask_33, 'arterialclasscd'] = 0"
   ]
  },
  {
   "cell_type": "code",
   "execution_count": 91,
   "metadata": {},
   "outputs": [
    {
     "data": {
      "text/html": [
       "<div>\n",
       "<style scoped>\n",
       "    .dataframe tbody tr th:only-of-type {\n",
       "        vertical-align: middle;\n",
       "    }\n",
       "\n",
       "    .dataframe tbody tr th {\n",
       "        vertical-align: top;\n",
       "    }\n",
       "\n",
       "    .dataframe thead th {\n",
       "        text-align: right;\n",
       "    }\n",
       "</style>\n",
       "<table border=\"1\" class=\"dataframe\">\n",
       "  <thead>\n",
       "    <tr style=\"text-align: right;\">\n",
       "      <th></th>\n",
       "      <th>intr_id</th>\n",
       "      <th>intkey</th>\n",
       "      <th>subarea</th>\n",
       "      <th>unitdesc</th>\n",
       "      <th>arterialclasscd</th>\n",
       "      <th>signal_type</th>\n",
       "      <th>shape_lng</th>\n",
       "      <th>shape_lat</th>\n",
       "      <th>year</th>\n",
       "      <th>month</th>\n",
       "      <th>hour</th>\n",
       "      <th>pedcount</th>\n",
       "      <th>pedcylcount</th>\n",
       "      <th>vehcount</th>\n",
       "      <th>injuries</th>\n",
       "      <th>seriousinjuries</th>\n",
       "      <th>fatalities</th>\n",
       "      <th>inattentionind_y</th>\n",
       "    </tr>\n",
       "  </thead>\n",
       "  <tbody>\n",
       "  </tbody>\n",
       "</table>\n",
       "</div>"
      ],
      "text/plain": [
       "Empty DataFrame\n",
       "Columns: [intr_id, intkey, subarea, unitdesc, arterialclasscd, signal_type, shape_lng, shape_lat, year, month, hour, pedcount, pedcylcount, vehcount, injuries, seriousinjuries, fatalities, inattentionind_y]\n",
       "Index: []"
      ]
     },
     "execution_count": 91,
     "metadata": {},
     "output_type": "execute_result"
    }
   ],
   "source": [
    "inter_collisions[inter_collisions['arterialclasscd'].isnull()]"
   ]
  },
  {
   "cell_type": "code",
   "execution_count": 92,
   "metadata": {},
   "outputs": [],
   "source": [
    "# Proceed to fill nan with 0 for all the ones that didn't have a collision\n",
    "\n",
    "inter_collisions.fillna(0, inplace=True)"
   ]
  },
  {
   "cell_type": "code",
   "execution_count": 93,
   "metadata": {},
   "outputs": [],
   "source": [
    "# inter_collisions.to_csv('../data/processed/inter_collisions.csv')"
   ]
  },
  {
   "cell_type": "markdown",
   "metadata": {},
   "source": [
    "## Removing Traffic Circles"
   ]
  },
  {
   "cell_type": "code",
   "execution_count": 94,
   "metadata": {},
   "outputs": [],
   "source": [
    "circles.columns = circles.columns.map(str.lower)"
   ]
  },
  {
   "cell_type": "code",
   "execution_count": 95,
   "metadata": {},
   "outputs": [],
   "source": [
    "cir_inter = np.intersect1d(circles['intkey'], inter_collisions['intkey'])"
   ]
  },
  {
   "cell_type": "code",
   "execution_count": 96,
   "metadata": {},
   "outputs": [],
   "source": [
    "# dataset accounting for removing ones that are traffic circles\n",
    "\n",
    "inter_nocircles = inter_collisions[~(inter_collisions['intkey'].isin(circles['intkey']))].copy()"
   ]
  },
  {
   "cell_type": "code",
   "execution_count": 97,
   "metadata": {},
   "outputs": [
    {
     "data": {
      "text/plain": [
       "(70793, 18)"
      ]
     },
     "execution_count": 97,
     "metadata": {},
     "output_type": "execute_result"
    }
   ],
   "source": [
    "inter_nocircles.shape"
   ]
  },
  {
   "cell_type": "code",
   "execution_count": 100,
   "metadata": {},
   "outputs": [
    {
     "name": "stdout",
     "output_type": "stream",
     "text": [
      "Percent of intersections (including traffic circles) with incidents:  89.18 %\n",
      "Percent of intersections (excluding traffic circles) with incidents:  89.54 %\n"
     ]
    }
   ],
   "source": [
    "# about 89.18% of intersections have had accidents within 2004-2020, 16 year periods\n",
    "# THIS STILL CONTAINS TRAFFIC CIRCLES\n",
    "\n",
    "print('Percent of intersections (including traffic circles) with incidents: ',\n",
    "      round((inter_collisions['year'] != 0).sum() / (len(inter_collisions['year']))*100 , 2),'%')\n",
    "\n",
    "# about 89.54% of intersections have had accidents within 2004-2020, 16 year periods\n",
    "# THIS DOES NOT CONTAIN TRAFFIC CIRCLES\n",
    "\n",
    "print('Percent of intersections (excluding traffic circles) with incidents: ',\n",
    "      round((inter_nocircles['year'] != 0).sum() / (len(inter_nocircles['year']))*100 , 2),'%')"
   ]
  },
  {
   "cell_type": "markdown",
   "metadata": {},
   "source": [
    "Percent of intersections having collisions went up by a small amount after removing traffic circles data from the intersections data."
   ]
  },
  {
   "cell_type": "code",
   "execution_count": 103,
   "metadata": {},
   "outputs": [
    {
     "data": {
      "text/plain": [
       "(70793, 18)"
      ]
     },
     "execution_count": 103,
     "metadata": {},
     "output_type": "execute_result"
    }
   ],
   "source": [
    "inter_nocircles.shape"
   ]
  },
  {
   "cell_type": "code",
   "execution_count": 104,
   "metadata": {},
   "outputs": [
    {
     "data": {
      "text/plain": [
       "(72699, 18)"
      ]
     },
     "execution_count": 104,
     "metadata": {},
     "output_type": "execute_result"
    }
   ],
   "source": [
    "inter_collisions.shape"
   ]
  },
  {
   "cell_type": "code",
   "execution_count": 105,
   "metadata": {},
   "outputs": [],
   "source": [
    "# inter_nocircles.to_csv('../data/processed/inter_nocircles.csv')"
   ]
  }
 ],
 "metadata": {
  "kernelspec": {
   "display_name": "Python 3.7.0 64-bit ('anaconda3': virtualenv)",
   "language": "python",
   "name": "python37064bitanaconda3virtualenvdc59f3b7c1d64353bf7dcc6d7e32f36c"
  },
  "language_info": {
   "codemirror_mode": {
    "name": "ipython",
    "version": 3
   },
   "file_extension": ".py",
   "mimetype": "text/x-python",
   "name": "python",
   "nbconvert_exporter": "python",
   "pygments_lexer": "ipython3",
   "version": "3.7.0"
  }
 },
 "nbformat": 4,
 "nbformat_minor": 2
}
