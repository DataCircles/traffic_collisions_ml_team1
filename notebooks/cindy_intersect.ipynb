{
 "cells": [
  {
   "cell_type": "code",
   "execution_count": 158,
   "metadata": {},
   "outputs": [
    {
     "name": "stdout",
     "output_type": "stream",
     "text": [
      "The autoreload extension is already loaded. To reload it, use:\n",
      "  %reload_ext autoreload\n"
     ]
    }
   ],
   "source": [
    "# Import Modules\n",
    "import numpy as np\n",
    "import pandas as pd\n",
    "import seaborn as sns\n",
    "import matplotlib.pyplot as plt\n",
    "\n",
    "#modeling tools\n",
    "import statsmodels.api as sm\n",
    "\n",
    "import lightgbm as lgb\n",
    "\n",
    "from sklearn.tree import DecisionTreeRegressor, DecisionTreeClassifier\n",
    "from sklearn.ensemble import GradientBoostingClassifier, RandomForestClassifier, RandomForestRegressor\n",
    "from sklearn.metrics import mean_squared_error, confusion_matrix, auc, roc_auc_score, roc_curve, log_loss, make_scorer\n",
    "from sklearn.model_selection import cross_val_score, train_test_split, GridSearchCV\n",
    "\n",
    "%matplotlib inline\n",
    "plt.style.use('dark_background')\n",
    "\n",
    "import warnings\n",
    "warnings.filterwarnings('ignore')\n",
    "\n",
    "%load_ext autoreload\n",
    "%autoreload 2\n",
    "\n",
    "pd.set_option('display.min_row', 15)\n",
    "pd.set_option('display.max_column', 100)\n",
    "pd.set_option('display.max_colwidth', 300)"
   ]
  },
  {
   "cell_type": "code",
   "execution_count": 2,
   "metadata": {},
   "outputs": [],
   "source": [
    "clean_data = pd.read_pickle('../data/processed/cleaned_data.pkl')\n",
    "intersection_n = pd.read_pickle('../data/processed/intersection_w_normalization.pkl')\n",
    "\n",
    "# crosswalks = pd.read_csv('../data/Marked_Crosswalks.csv')\n",
    "intersections = pd.read_csv('../data/Intersections.csv')"
   ]
  },
  {
   "cell_type": "markdown",
   "metadata": {},
   "source": [
    "## Intersections"
   ]
  },
  {
   "cell_type": "code",
   "execution_count": 3,
   "metadata": {},
   "outputs": [
    {
     "data": {
      "text/plain": [
       "Index(['X', 'Y', 'OBJECTID', 'INTR_ID', 'GIS_XCOORD', 'GIS_YCOORD', 'INTKEY',\n",
       "       'COMPTYPE', 'UNITID', 'SUBAREA', 'UNITDESC', 'ARTERIALCLASSCD',\n",
       "       'SIGNAL_MAINT_DIST', 'SIGNAL_TYPE', 'SHAPE_LNG', 'SHAPE_LAT'],\n",
       "      dtype='object')"
      ]
     },
     "execution_count": 3,
     "metadata": {},
     "output_type": "execute_result"
    }
   ],
   "source": [
    "# COMPKEY in Intersections is INTKEY\n",
    "\n",
    "intersections.rename(columns={'COMPKEY': 'INTKEY'}, inplace=True)\n",
    "intersections.columns"
   ]
  },
  {
   "cell_type": "markdown",
   "metadata": {},
   "source": [
    "#### merge intersections with collisions"
   ]
  },
  {
   "cell_type": "code",
   "execution_count": 4,
   "metadata": {},
   "outputs": [
    {
     "data": {
      "text/plain": [
       "7576"
      ]
     },
     "execution_count": 4,
     "metadata": {},
     "output_type": "execute_result"
    }
   ],
   "source": [
    "# Used to make sure number of rows are correct when merging\n",
    "\n",
    "len(np.intersect1d(intersections['INTKEY'].unique(), clean_data['INTKEY'].unique()))"
   ]
  },
  {
   "cell_type": "code",
   "execution_count": 27,
   "metadata": {},
   "outputs": [],
   "source": [
    "# Create dataframe with only intersections that are also in the collisions data\n",
    "\n",
    "intersections_accidents = clean_data[clean_data['INTKEY'].isin(intersections['INTKEY'])].copy()"
   ]
  },
  {
   "cell_type": "code",
   "execution_count": 28,
   "metadata": {},
   "outputs": [],
   "source": [
    "# Create new column indicating 1 as there was an accident\n",
    "\n",
    "intersections_accidents['collision'] = np.ones((intersections_accidents.shape[0], 1))"
   ]
  },
  {
   "cell_type": "code",
   "execution_count": 29,
   "metadata": {},
   "outputs": [],
   "source": [
    "# Group by the INTKEY and count number of collisions over the years\n",
    "\n",
    "int_acc = intersections_accidents[['INTKEY', 'collision']].groupby('INTKEY').count().reset_index()"
   ]
  },
  {
   "cell_type": "code",
   "execution_count": 30,
   "metadata": {},
   "outputs": [],
   "source": [
    "inter_collisions = intersections.merge(int_acc, how='left', on='INTKEY')"
   ]
  },
  {
   "cell_type": "code",
   "execution_count": 31,
   "metadata": {},
   "outputs": [
    {
     "data": {
      "text/plain": [
       "False"
      ]
     },
     "execution_count": 31,
     "metadata": {},
     "output_type": "execute_result"
    }
   ],
   "source": [
    "# Check for duplicates\n",
    "inter_collisions['INTKEY'].duplicated().any()"
   ]
  },
  {
   "cell_type": "code",
   "execution_count": 32,
   "metadata": {},
   "outputs": [
    {
     "name": "stdout",
     "output_type": "stream",
     "text": [
      "Percent of intersections (including traffic circles) with incidents:  49.06 %\n"
     ]
    }
   ],
   "source": [
    "# about 49% of intersections have had accidents within 2004-2020, 16 year periods\n",
    "# THIS STILL CONTAINS TRAFFIC CIRCLES\n",
    "\n",
    "print('Percent of intersections (including traffic circles) with incidents: ',\n",
    "      round((~inter_collisions['collision'].isnull()).sum() / (len(inter_collisions['collision']))*100 , 2),'%')"
   ]
  },
  {
   "cell_type": "markdown",
   "metadata": {},
   "source": [
    "## EDA and clean data"
   ]
  },
  {
   "cell_type": "code",
   "execution_count": 33,
   "metadata": {},
   "outputs": [],
   "source": [
    "inter_collisions.columns = inter_collisions.columns.map(str.lower)"
   ]
  },
  {
   "cell_type": "code",
   "execution_count": 34,
   "metadata": {},
   "outputs": [
    {
     "data": {
      "text/plain": [
       "(15441, 17)"
      ]
     },
     "execution_count": 34,
     "metadata": {},
     "output_type": "execute_result"
    }
   ],
   "source": [
    "inter_collisions.shape"
   ]
  },
  {
   "cell_type": "code",
   "execution_count": 38,
   "metadata": {},
   "outputs": [
    {
     "data": {
      "text/plain": [
       "Index(['x', 'y', 'objectid', 'intr_id', 'gis_xcoord', 'gis_ycoord', 'intkey',\n",
       "       'comptype', 'unitid', 'subarea', 'unitdesc', 'arterialclasscd',\n",
       "       'signal_maint_dist', 'signal_type', 'shape_lng', 'shape_lat',\n",
       "       'collision'],\n",
       "      dtype='object')"
      ]
     },
     "execution_count": 38,
     "metadata": {},
     "output_type": "execute_result"
    }
   ],
   "source": [
    "inter_collisions.columns"
   ]
  },
  {
   "cell_type": "code",
   "execution_count": 39,
   "metadata": {},
   "outputs": [],
   "source": [
    "# is intr_id connected to another dataset?\n",
    "\n",
    "to_drop = ['objectid', 'x', 'y', 'gis_xcoord', 'gis_ycoord', 'comptype', 'unitid', 'signal_maint_dist']\n",
    "\n",
    "inter_collisions.drop(columns=to_drop, inplace=True)"
   ]
  },
  {
   "cell_type": "code",
   "execution_count": 42,
   "metadata": {},
   "outputs": [],
   "source": [
    "inter_collisions['collision'].fillna(0, inplace=True)"
   ]
  },
  {
   "cell_type": "code",
   "execution_count": 45,
   "metadata": {},
   "outputs": [
    {
     "data": {
      "text/html": [
       "<div>\n",
       "<style scoped>\n",
       "    .dataframe tbody tr th:only-of-type {\n",
       "        vertical-align: middle;\n",
       "    }\n",
       "\n",
       "    .dataframe tbody tr th {\n",
       "        vertical-align: top;\n",
       "    }\n",
       "\n",
       "    .dataframe thead th {\n",
       "        text-align: right;\n",
       "    }\n",
       "</style>\n",
       "<table border=\"1\" class=\"dataframe\">\n",
       "  <thead>\n",
       "    <tr style=\"text-align: right;\">\n",
       "      <th></th>\n",
       "      <th>intr_id</th>\n",
       "      <th>intkey</th>\n",
       "      <th>subarea</th>\n",
       "      <th>unitdesc</th>\n",
       "      <th>arterialclasscd</th>\n",
       "      <th>signal_type</th>\n",
       "      <th>shape_lng</th>\n",
       "      <th>shape_lat</th>\n",
       "      <th>collision</th>\n",
       "    </tr>\n",
       "  </thead>\n",
       "  <tbody>\n",
       "    <tr>\n",
       "      <th>59</th>\n",
       "      <td>18220</td>\n",
       "      <td>286961</td>\n",
       "      <td>GRDWM</td>\n",
       "      <td>DUWAMISH RIVER TRL AND S HENDERSON ST</td>\n",
       "      <td>NaN</td>\n",
       "      <td>NONE</td>\n",
       "      <td>-122.320599</td>\n",
       "      <td>47.523059</td>\n",
       "      <td>0.0</td>\n",
       "    </tr>\n",
       "    <tr>\n",
       "      <th>836</th>\n",
       "      <td>14981</td>\n",
       "      <td>164765</td>\n",
       "      <td>SE</td>\n",
       "      <td>31ST AVE S AND DEAD END 1</td>\n",
       "      <td>NaN</td>\n",
       "      <td>NONE</td>\n",
       "      <td>-122.292444</td>\n",
       "      <td>47.567429</td>\n",
       "      <td>0.0</td>\n",
       "    </tr>\n",
       "    <tr>\n",
       "      <th>2458</th>\n",
       "      <td>12413</td>\n",
       "      <td>30483</td>\n",
       "      <td>DWNTN</td>\n",
       "      <td>3RD AVE AND XW JEFFERSON</td>\n",
       "      <td>NaN</td>\n",
       "      <td>MIDXWALK</td>\n",
       "      <td>-122.330756</td>\n",
       "      <td>47.602056</td>\n",
       "      <td>1.0</td>\n",
       "    </tr>\n",
       "    <tr>\n",
       "      <th>7277</th>\n",
       "      <td>46498</td>\n",
       "      <td>36645</td>\n",
       "      <td>N</td>\n",
       "      <td>NE 125TH ST AND XW 26NE-27NE</td>\n",
       "      <td>NaN</td>\n",
       "      <td>MIDXWALK</td>\n",
       "      <td>-122.299554</td>\n",
       "      <td>47.719303</td>\n",
       "      <td>1.0</td>\n",
       "    </tr>\n",
       "    <tr>\n",
       "      <th>10498</th>\n",
       "      <td>46441</td>\n",
       "      <td>288331</td>\n",
       "      <td>E</td>\n",
       "      <td>E JAMES WAY AND XW 10TH AVE</td>\n",
       "      <td>NaN</td>\n",
       "      <td>MIDXWALK</td>\n",
       "      <td>-122.319314</td>\n",
       "      <td>47.607829</td>\n",
       "      <td>1.0</td>\n",
       "    </tr>\n",
       "    <tr>\n",
       "      <th>11643</th>\n",
       "      <td>47277</td>\n",
       "      <td>38473</td>\n",
       "      <td>CNTRL</td>\n",
       "      <td>S WASHINGTON ST AND DEAD END 4</td>\n",
       "      <td>NaN</td>\n",
       "      <td>NONE</td>\n",
       "      <td>-122.317945</td>\n",
       "      <td>47.600877</td>\n",
       "      <td>0.0</td>\n",
       "    </tr>\n",
       "    <tr>\n",
       "      <th>13445</th>\n",
       "      <td>46997</td>\n",
       "      <td>511219</td>\n",
       "      <td>LKUN</td>\n",
       "      <td>FAIRVIEW AVE N AND SLUSC N OF WARD</td>\n",
       "      <td>NaN</td>\n",
       "      <td>MIDXWALK</td>\n",
       "      <td>-122.331568</td>\n",
       "      <td>47.628190</td>\n",
       "      <td>0.0</td>\n",
       "    </tr>\n",
       "    <tr>\n",
       "      <th>13761</th>\n",
       "      <td>10717</td>\n",
       "      <td>28733</td>\n",
       "      <td>LKUN</td>\n",
       "      <td>TERRY AVE N AND DEAD END</td>\n",
       "      <td>NaN</td>\n",
       "      <td>NONE</td>\n",
       "      <td>-122.337108</td>\n",
       "      <td>47.627394</td>\n",
       "      <td>0.0</td>\n",
       "    </tr>\n",
       "    <tr>\n",
       "      <th>15042</th>\n",
       "      <td>47525</td>\n",
       "      <td>615993</td>\n",
       "      <td>CNTRL</td>\n",
       "      <td>33RD AVE E AND E SPRING E ST</td>\n",
       "      <td>NaN</td>\n",
       "      <td>NONE</td>\n",
       "      <td>-122.290347</td>\n",
       "      <td>47.611678</td>\n",
       "      <td>0.0</td>\n",
       "    </tr>\n",
       "    <tr>\n",
       "      <th>15061</th>\n",
       "      <td>12656</td>\n",
       "      <td>30534</td>\n",
       "      <td>DWNTN</td>\n",
       "      <td>4TH AVE S AND XW WELLER</td>\n",
       "      <td>NaN</td>\n",
       "      <td>CITY</td>\n",
       "      <td>-122.328973</td>\n",
       "      <td>47.597603</td>\n",
       "      <td>10.0</td>\n",
       "    </tr>\n",
       "    <tr>\n",
       "      <th>15166</th>\n",
       "      <td>46063</td>\n",
       "      <td>38514</td>\n",
       "      <td>GRDWM</td>\n",
       "      <td>39TH AVE S AND DEAD END</td>\n",
       "      <td>NaN</td>\n",
       "      <td>NONE</td>\n",
       "      <td>-122.283686</td>\n",
       "      <td>47.526008</td>\n",
       "      <td>0.0</td>\n",
       "    </tr>\n",
       "  </tbody>\n",
       "</table>\n",
       "</div>"
      ],
      "text/plain": [
       "       intr_id  intkey subarea                               unitdesc  \\\n",
       "59       18220  286961   GRDWM  DUWAMISH RIVER TRL AND S HENDERSON ST   \n",
       "836      14981  164765      SE              31ST AVE S AND DEAD END 1   \n",
       "2458     12413   30483   DWNTN               3RD AVE AND XW JEFFERSON   \n",
       "7277     46498   36645       N           NE 125TH ST AND XW 26NE-27NE   \n",
       "10498    46441  288331       E            E JAMES WAY AND XW 10TH AVE   \n",
       "11643    47277   38473   CNTRL         S WASHINGTON ST AND DEAD END 4   \n",
       "13445    46997  511219    LKUN     FAIRVIEW AVE N AND SLUSC N OF WARD   \n",
       "13761    10717   28733    LKUN               TERRY AVE N AND DEAD END   \n",
       "15042    47525  615993   CNTRL           33RD AVE E AND E SPRING E ST   \n",
       "15061    12656   30534   DWNTN                4TH AVE S AND XW WELLER   \n",
       "15166    46063   38514   GRDWM                39TH AVE S AND DEAD END   \n",
       "\n",
       "       arterialclasscd signal_type   shape_lng  shape_lat  collision  \n",
       "59                 NaN        NONE -122.320599  47.523059        0.0  \n",
       "836                NaN        NONE -122.292444  47.567429        0.0  \n",
       "2458               NaN    MIDXWALK -122.330756  47.602056        1.0  \n",
       "7277               NaN    MIDXWALK -122.299554  47.719303        1.0  \n",
       "10498              NaN    MIDXWALK -122.319314  47.607829        1.0  \n",
       "11643              NaN        NONE -122.317945  47.600877        0.0  \n",
       "13445              NaN    MIDXWALK -122.331568  47.628190        0.0  \n",
       "13761              NaN        NONE -122.337108  47.627394        0.0  \n",
       "15042              NaN        NONE -122.290347  47.611678        0.0  \n",
       "15061              NaN        CITY -122.328973  47.597603       10.0  \n",
       "15166              NaN        NONE -122.283686  47.526008        0.0  "
      ]
     },
     "execution_count": 45,
     "metadata": {},
     "output_type": "execute_result"
    }
   ],
   "source": [
    "inter_collisions[inter_collisions['arterialclasscd'].isnull()]"
   ]
  },
  {
   "cell_type": "code",
   "execution_count": 99,
   "metadata": {},
   "outputs": [
    {
     "data": {
      "text/plain": [
       "0    1.0\n",
       "dtype: float64"
      ]
     },
     "execution_count": 99,
     "metadata": {},
     "output_type": "execute_result"
    }
   ],
   "source": [
    "inter_collisions[inter_collisions['signal_type'] == 'MIDXWALK']['arterialclasscd'].mode()"
   ]
  },
  {
   "cell_type": "code",
   "execution_count": 185,
   "metadata": {},
   "outputs": [
    {
     "data": {
      "text/html": [
       "<div>\n",
       "<style scoped>\n",
       "    .dataframe tbody tr th:only-of-type {\n",
       "        vertical-align: middle;\n",
       "    }\n",
       "\n",
       "    .dataframe tbody tr th {\n",
       "        vertical-align: top;\n",
       "    }\n",
       "\n",
       "    .dataframe thead th {\n",
       "        text-align: right;\n",
       "    }\n",
       "</style>\n",
       "<table border=\"1\" class=\"dataframe\">\n",
       "  <thead>\n",
       "    <tr style=\"text-align: right;\">\n",
       "      <th></th>\n",
       "      <th></th>\n",
       "      <th>intr_id</th>\n",
       "      <th>intkey</th>\n",
       "      <th>unitdesc</th>\n",
       "      <th>signal_type</th>\n",
       "      <th>shape_lng</th>\n",
       "      <th>shape_lat</th>\n",
       "      <th>collision</th>\n",
       "    </tr>\n",
       "    <tr>\n",
       "      <th>subarea</th>\n",
       "      <th>arterialclasscd</th>\n",
       "      <th></th>\n",
       "      <th></th>\n",
       "      <th></th>\n",
       "      <th></th>\n",
       "      <th></th>\n",
       "      <th></th>\n",
       "      <th></th>\n",
       "    </tr>\n",
       "  </thead>\n",
       "  <tbody>\n",
       "    <tr>\n",
       "      <th>LKUN</th>\n",
       "      <th>1.0</th>\n",
       "      <td>15</td>\n",
       "      <td>15</td>\n",
       "      <td>15</td>\n",
       "      <td>15</td>\n",
       "      <td>15</td>\n",
       "      <td>15</td>\n",
       "      <td>15</td>\n",
       "    </tr>\n",
       "  </tbody>\n",
       "</table>\n",
       "</div>"
      ],
      "text/plain": [
       "                         intr_id  intkey  unitdesc  signal_type  shape_lng  \\\n",
       "subarea arterialclasscd                                                      \n",
       "LKUN    1.0                   15      15        15           15         15   \n",
       "\n",
       "                         shape_lat  collision  \n",
       "subarea arterialclasscd                        \n",
       "LKUN    1.0                     15         15  "
      ]
     },
     "execution_count": 185,
     "metadata": {},
     "output_type": "execute_result"
    }
   ],
   "source": [
    "# Dead ends almost always have arterialclasscd of 0\n",
    "# DUWAMISH RIVER TRL all have 0\n",
    "# unitdesc with XW is a 1. MIDXWALK as signal type is typically 1\n",
    "# 33RD AVE E with CNTRL is 0\n",
    "# FAIRVIEW is all 1\n",
    "\n",
    "inter_collisions[inter_collisions['unitdesc'].str.contains('FAIRVIEW AVE N')].groupby(['subarea', 'arterialclasscd']).count()"
   ]
  },
  {
   "cell_type": "code",
   "execution_count": 196,
   "metadata": {},
   "outputs": [],
   "source": [
    "def create_mask(string):\n",
    "    mask = (inter_collisions['unitdesc'].str.contains(string)) & (inter_collisions['arterialclasscd'].isnull())\n",
    "    return mask"
   ]
  },
  {
   "cell_type": "code",
   "execution_count": 200,
   "metadata": {},
   "outputs": [],
   "source": [
    "mask_de = create_mask('DEAD END')\n",
    "mask_xw = create_mask('XW')\n",
    "mask_duwamish = create_mask('DUWAMISH RIVER TRL')\n",
    "mask_fairview = create_mask('FAIRVIEW AVE N')\n",
    "mask_33 = create_mask('33RD AVE E')\n",
    "\n",
    "inter_collisions.loc[mask_de, 'arterialclasscd'] = 0\n",
    "inter_collisions.loc[mask_xw, 'arterialclasscd'] = 1\n",
    "inter_collisions.loc[mask_duwamish, 'arterialclasscd'] = 0\n",
    "inter_collisions.loc[mask_fairview, 'arterialclasscd'] = 1\n",
    "inter_collisions.loc[mask_33, 'arterialclasscd'] = 0"
   ]
  },
  {
   "cell_type": "code",
   "execution_count": 201,
   "metadata": {},
   "outputs": [
    {
     "data": {
      "text/html": [
       "<div>\n",
       "<style scoped>\n",
       "    .dataframe tbody tr th:only-of-type {\n",
       "        vertical-align: middle;\n",
       "    }\n",
       "\n",
       "    .dataframe tbody tr th {\n",
       "        vertical-align: top;\n",
       "    }\n",
       "\n",
       "    .dataframe thead th {\n",
       "        text-align: right;\n",
       "    }\n",
       "</style>\n",
       "<table border=\"1\" class=\"dataframe\">\n",
       "  <thead>\n",
       "    <tr style=\"text-align: right;\">\n",
       "      <th></th>\n",
       "      <th>intr_id</th>\n",
       "      <th>intkey</th>\n",
       "      <th>subarea</th>\n",
       "      <th>unitdesc</th>\n",
       "      <th>arterialclasscd</th>\n",
       "      <th>signal_type</th>\n",
       "      <th>shape_lng</th>\n",
       "      <th>shape_lat</th>\n",
       "      <th>collision</th>\n",
       "    </tr>\n",
       "  </thead>\n",
       "  <tbody>\n",
       "  </tbody>\n",
       "</table>\n",
       "</div>"
      ],
      "text/plain": [
       "Empty DataFrame\n",
       "Columns: [intr_id, intkey, subarea, unitdesc, arterialclasscd, signal_type, shape_lng, shape_lat, collision]\n",
       "Index: []"
      ]
     },
     "execution_count": 201,
     "metadata": {},
     "output_type": "execute_result"
    }
   ],
   "source": [
    "inter_collisions[inter_collisions['arterialclasscd'].isnull()]"
   ]
  },
  {
   "cell_type": "code",
   "execution_count": null,
   "metadata": {},
   "outputs": [],
   "source": [
    "# inter_collisions.to_csv('../data/processed/inter_collisions.csv')"
   ]
  },
  {
   "cell_type": "markdown",
   "metadata": {},
   "source": [
    "## Add traffic circles info to Collisions"
   ]
  },
  {
   "cell_type": "code",
   "execution_count": 28,
   "metadata": {},
   "outputs": [],
   "source": [
    "inter_collisions = pd.read_csv('../data/processed/inter_collisions.csv', index_col=0)\n",
    "circles_collisions = pd.read_csv('../data/processed/circles_collisions.csv', index_col=0)"
   ]
  },
  {
   "cell_type": "code",
   "execution_count": 17,
   "metadata": {},
   "outputs": [
    {
     "data": {
      "text/html": [
       "<div>\n",
       "<style scoped>\n",
       "    .dataframe tbody tr th:only-of-type {\n",
       "        vertical-align: middle;\n",
       "    }\n",
       "\n",
       "    .dataframe tbody tr th {\n",
       "        vertical-align: top;\n",
       "    }\n",
       "\n",
       "    .dataframe thead th {\n",
       "        text-align: right;\n",
       "    }\n",
       "</style>\n",
       "<table border=\"1\" class=\"dataframe\">\n",
       "  <thead>\n",
       "    <tr style=\"text-align: right;\">\n",
       "      <th></th>\n",
       "      <th>X</th>\n",
       "      <th>Y</th>\n",
       "      <th>OBJECTID</th>\n",
       "      <th>INTR_ID</th>\n",
       "      <th>GIS_XCOORD</th>\n",
       "      <th>GIS_YCOORD</th>\n",
       "      <th>INTKEY</th>\n",
       "      <th>COMPTYPE</th>\n",
       "      <th>UNITID</th>\n",
       "      <th>SUBAREA</th>\n",
       "      <th>UNITDESC</th>\n",
       "      <th>ARTERIALCLASSCD</th>\n",
       "      <th>SIGNAL_MAINT_DIST</th>\n",
       "      <th>SIGNAL_TYPE</th>\n",
       "      <th>SHAPE_LNG</th>\n",
       "      <th>SHAPE_LAT</th>\n",
       "    </tr>\n",
       "  </thead>\n",
       "  <tbody>\n",
       "    <tr>\n",
       "      <th>45</th>\n",
       "      <td>1.258588e+06</td>\n",
       "      <td>210475.502411</td>\n",
       "      <td>46</td>\n",
       "      <td>14959</td>\n",
       "      <td>1.258588e+06</td>\n",
       "      <td>210475.50248</td>\n",
       "      <td>31889</td>\n",
       "      <td>13</td>\n",
       "      <td>54316</td>\n",
       "      <td>SW</td>\n",
       "      <td>38TH AVE SW AND SW DAKOTA ST</td>\n",
       "      <td>0.0</td>\n",
       "      <td></td>\n",
       "      <td>NONE</td>\n",
       "      <td>-122.380088</td>\n",
       "      <td>47.566489</td>\n",
       "    </tr>\n",
       "    <tr>\n",
       "      <th>46</th>\n",
       "      <td>1.266983e+06</td>\n",
       "      <td>260074.185342</td>\n",
       "      <td>47</td>\n",
       "      <td>3897</td>\n",
       "      <td>1.266983e+06</td>\n",
       "      <td>260074.18541</td>\n",
       "      <td>37392</td>\n",
       "      <td>13</td>\n",
       "      <td>232513</td>\n",
       "      <td>NW</td>\n",
       "      <td>FREMONT AVE N AND N 102ND ST</td>\n",
       "      <td>0.0</td>\n",
       "      <td></td>\n",
       "      <td>NONE</td>\n",
       "      <td>-122.350050</td>\n",
       "      <td>47.702894</td>\n",
       "    </tr>\n",
       "    <tr>\n",
       "      <th>54</th>\n",
       "      <td>1.274207e+06</td>\n",
       "      <td>254314.130296</td>\n",
       "      <td>55</td>\n",
       "      <td>5152</td>\n",
       "      <td>1.274207e+06</td>\n",
       "      <td>254314.13036</td>\n",
       "      <td>24389</td>\n",
       "      <td>13</td>\n",
       "      <td>5118</td>\n",
       "      <td>N</td>\n",
       "      <td>8TH AVE NE AND NE 81ST ST</td>\n",
       "      <td>0.0</td>\n",
       "      <td></td>\n",
       "      <td>NONE</td>\n",
       "      <td>-122.320263</td>\n",
       "      <td>47.687493</td>\n",
       "    </tr>\n",
       "    <tr>\n",
       "      <th>72</th>\n",
       "      <td>1.278437e+06</td>\n",
       "      <td>217535.101459</td>\n",
       "      <td>73</td>\n",
       "      <td>13277</td>\n",
       "      <td>1.278437e+06</td>\n",
       "      <td>217535.10159</td>\n",
       "      <td>31416</td>\n",
       "      <td>13</td>\n",
       "      <td>52122</td>\n",
       "      <td>SE</td>\n",
       "      <td>25TH AVE S AND S GRAND ST</td>\n",
       "      <td>0.0</td>\n",
       "      <td></td>\n",
       "      <td>NONE</td>\n",
       "      <td>-122.300247</td>\n",
       "      <td>47.586905</td>\n",
       "    </tr>\n",
       "    <tr>\n",
       "      <th>90</th>\n",
       "      <td>1.280848e+06</td>\n",
       "      <td>255438.451194</td>\n",
       "      <td>91</td>\n",
       "      <td>4898</td>\n",
       "      <td>1.280848e+06</td>\n",
       "      <td>255438.45113</td>\n",
       "      <td>37684</td>\n",
       "      <td>13</td>\n",
       "      <td>234350</td>\n",
       "      <td>NE</td>\n",
       "      <td>32ND AVE NE AND NE 86TH ST</td>\n",
       "      <td>0.0</td>\n",
       "      <td></td>\n",
       "      <td>NONE</td>\n",
       "      <td>-122.293392</td>\n",
       "      <td>47.690923</td>\n",
       "    </tr>\n",
       "  </tbody>\n",
       "</table>\n",
       "</div>"
      ],
      "text/plain": [
       "               X              Y  OBJECTID  INTR_ID    GIS_XCOORD  \\\n",
       "45  1.258588e+06  210475.502411        46    14959  1.258588e+06   \n",
       "46  1.266983e+06  260074.185342        47     3897  1.266983e+06   \n",
       "54  1.274207e+06  254314.130296        55     5152  1.274207e+06   \n",
       "72  1.278437e+06  217535.101459        73    13277  1.278437e+06   \n",
       "90  1.280848e+06  255438.451194        91     4898  1.280848e+06   \n",
       "\n",
       "      GIS_YCOORD  INTKEY  COMPTYPE  UNITID SUBAREA  \\\n",
       "45  210475.50248   31889        13   54316      SW   \n",
       "46  260074.18541   37392        13  232513      NW   \n",
       "54  254314.13036   24389        13    5118       N   \n",
       "72  217535.10159   31416        13   52122      SE   \n",
       "90  255438.45113   37684        13  234350      NE   \n",
       "\n",
       "                        UNITDESC  ARTERIALCLASSCD SIGNAL_MAINT_DIST  \\\n",
       "45  38TH AVE SW AND SW DAKOTA ST              0.0                     \n",
       "46  FREMONT AVE N AND N 102ND ST              0.0                     \n",
       "54     8TH AVE NE AND NE 81ST ST              0.0                     \n",
       "72     25TH AVE S AND S GRAND ST              0.0                     \n",
       "90    32ND AVE NE AND NE 86TH ST              0.0                     \n",
       "\n",
       "   SIGNAL_TYPE   SHAPE_LNG  SHAPE_LAT  \n",
       "45        NONE -122.380088  47.566489  \n",
       "46        NONE -122.350050  47.702894  \n",
       "54        NONE -122.320263  47.687493  \n",
       "72        NONE -122.300247  47.586905  \n",
       "90        NONE -122.293392  47.690923  "
      ]
     },
     "execution_count": 17,
     "metadata": {},
     "output_type": "execute_result"
    }
   ],
   "source": [
    "intersections[intersections['INTKEY'].isin(\n",
    "    np.intersect1d(intersections['INTKEY'].unique(), circles_collisions['INTKEY'].unique()))].head()"
   ]
  },
  {
   "cell_type": "code",
   "execution_count": 29,
   "metadata": {},
   "outputs": [
    {
     "data": {
      "text/plain": [
       "Index(['X', 'Y', 'OBJECTID', 'INCKEY', 'ADDRTYPE', 'INTKEY', 'LOCATION',\n",
       "       'PERSONCOUNT', 'PEDCOUNT', 'PEDCYLCOUNT', 'VEHCOUNT', 'INJURIES',\n",
       "       'SERIOUSINJURIES', 'FATALITIES', 'INCDATE', 'JUNCTIONTYPE',\n",
       "       'SDOT_COLCODE', 'UNDERINFL', 'ST_COLCODE', 'CROSSWALKKEY', 'SPEEDING_Y',\n",
       "       'INATTENTIONIND_Y', 'HITPARKEDCAR_Y', 'PEDROWNOTGRNT_Y',\n",
       "       'WEATHER_Adverse', 'WEATHER_Good', 'WEATHER_Unknown',\n",
       "       'ROADCOND_Adverse', 'ROADCOND_Dry', 'ROADCOND_Unknown',\n",
       "       'LIGHTCOND_Dark', 'LIGHTCOND_Daylight', 'LIGHTCOND_Unknown',\n",
       "       'LIGHTCOND_VeryDark', 'SEVERITYCODE_Injury',\n",
       "       'SEVERITYCODE_PropertyDamage', 'SEVERITYCODE_Unknown'],\n",
       "      dtype='object')"
      ]
     },
     "execution_count": 29,
     "metadata": {},
     "output_type": "execute_result"
    }
   ],
   "source": [
    "clean_data.columns"
   ]
  },
  {
   "cell_type": "code",
   "execution_count": 30,
   "metadata": {},
   "outputs": [
    {
     "data": {
      "text/plain": [
       "593"
      ]
     },
     "execution_count": 30,
     "metadata": {},
     "output_type": "execute_result"
    }
   ],
   "source": [
    "# There are 593 distinct traffic circles in the collision data\n",
    "\n",
    "len(np.intersect1d(clean_data['INTKEY'], circles_collisions['INTKEY']))"
   ]
  },
  {
   "cell_type": "code",
   "execution_count": 31,
   "metadata": {},
   "outputs": [],
   "source": [
    "tf_circles = np.intersect1d(clean_data['INTKEY'], circles_collisions['INTKEY'])\n",
    "\n",
    "clean_data.loc[clean_data['INTKEY'].isin(tf_circles), 'ADDRTYPE'] = 'Circle'"
   ]
  },
  {
   "cell_type": "code",
   "execution_count": 32,
   "metadata": {},
   "outputs": [
    {
     "data": {
      "text/plain": [
       "Block           126091\n",
       "Intersection     64185\n",
       "NaN               1824\n",
       "Circle            1449\n",
       "Alley              755\n",
       "Name: ADDRTYPE, dtype: int64"
      ]
     },
     "execution_count": 32,
     "metadata": {},
     "output_type": "execute_result"
    }
   ],
   "source": [
    "# All the rows with missing ADDRTYPE also have missing GIS coordinates and INTKEY.\n",
    "# Drop these NaN rows since there is no way to identify the street/intersection\n",
    "\n",
    "clean_data['ADDRTYPE'].value_counts(dropna=False)"
   ]
  },
  {
   "cell_type": "code",
   "execution_count": 33,
   "metadata": {},
   "outputs": [],
   "source": [
    "clean_data.dropna(subset=['ADDRTYPE'], axis=0, inplace=True)"
   ]
  },
  {
   "cell_type": "code",
   "execution_count": 34,
   "metadata": {},
   "outputs": [
    {
     "data": {
      "text/plain": [
       "Alley    755\n",
       "Name: ADDRTYPE, dtype: int64"
      ]
     },
     "execution_count": 34,
     "metadata": {},
     "output_type": "execute_result"
    }
   ],
   "source": [
    "# All locations missing values are in alleys\n",
    "\n",
    "clean_data[clean_data['LOCATION'].isnull()]['ADDRTYPE'].value_counts(dropna=False)"
   ]
  },
  {
   "cell_type": "code",
   "execution_count": 35,
   "metadata": {},
   "outputs": [],
   "source": [
    "# Fill missing locations as alley\n",
    "\n",
    "clean_data['LOCATION'].fillna('Alley', inplace=True)"
   ]
  },
  {
   "cell_type": "code",
   "execution_count": 36,
   "metadata": {},
   "outputs": [
    {
     "data": {
      "text/plain": [
       "Index(['X', 'Y', 'OBJECTID', 'INCKEY', 'ADDRTYPE', 'INTKEY', 'LOCATION',\n",
       "       'PERSONCOUNT', 'PEDCOUNT', 'PEDCYLCOUNT', 'VEHCOUNT', 'INJURIES',\n",
       "       'SERIOUSINJURIES', 'FATALITIES', 'INCDATE', 'JUNCTIONTYPE',\n",
       "       'SDOT_COLCODE', 'UNDERINFL', 'ST_COLCODE', 'CROSSWALKKEY', 'SPEEDING_Y',\n",
       "       'INATTENTIONIND_Y', 'HITPARKEDCAR_Y', 'PEDROWNOTGRNT_Y',\n",
       "       'WEATHER_Adverse', 'WEATHER_Good', 'WEATHER_Unknown',\n",
       "       'ROADCOND_Adverse', 'ROADCOND_Dry', 'ROADCOND_Unknown',\n",
       "       'LIGHTCOND_Dark', 'LIGHTCOND_Daylight', 'LIGHTCOND_Unknown',\n",
       "       'LIGHTCOND_VeryDark', 'SEVERITYCODE_Injury',\n",
       "       'SEVERITYCODE_PropertyDamage', 'SEVERITYCODE_Unknown'],\n",
       "      dtype='object')"
      ]
     },
     "execution_count": 36,
     "metadata": {},
     "output_type": "execute_result"
    }
   ],
   "source": [
    "clean_data.columns"
   ]
  },
  {
   "cell_type": "code",
   "execution_count": 37,
   "metadata": {},
   "outputs": [],
   "source": [
    "inter_collisions.fillna('0', inplace=True)"
   ]
  },
  {
   "cell_type": "code",
   "execution_count": 38,
   "metadata": {},
   "outputs": [],
   "source": [
    "inter_collisions['collision'] = inter_collisions['collision'].astype(int)"
   ]
  },
  {
   "cell_type": "code",
   "execution_count": 39,
   "metadata": {},
   "outputs": [
    {
     "data": {
      "text/plain": [
       "1      2092\n",
       "2      1169\n",
       "3       709\n",
       "4       527\n",
       "5       374\n",
       "6       302\n",
       "7       229\n",
       "       ... \n",
       "113       1\n",
       "105       1\n",
       "93        1\n",
       "81        1\n",
       "136       1\n",
       "116       1\n",
       "117       1\n",
       "Name: collision, Length: 111, dtype: int64"
      ]
     },
     "execution_count": 39,
     "metadata": {},
     "output_type": "execute_result"
    }
   ],
   "source": [
    "inter_collisions[inter_collisions['collision'] != 0]['collision'].value_counts()"
   ]
  },
  {
   "cell_type": "code",
   "execution_count": null,
   "metadata": {},
   "outputs": [],
   "source": []
  }
 ],
 "metadata": {
  "kernelspec": {
   "display_name": "Python 3.7.0 64-bit ('anaconda3': virtualenv)",
   "language": "python",
   "name": "python37064bitanaconda3virtualenvdc59f3b7c1d64353bf7dcc6d7e32f36c"
  },
  "language_info": {
   "codemirror_mode": {
    "name": "ipython",
    "version": 3
   },
   "file_extension": ".py",
   "mimetype": "text/x-python",
   "name": "python",
   "nbconvert_exporter": "python",
   "pygments_lexer": "ipython3",
   "version": "3.7.0"
  }
 },
 "nbformat": 4,
 "nbformat_minor": 2
}
